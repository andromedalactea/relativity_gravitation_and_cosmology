{
 "cells": [
  {
   "cell_type": "markdown",
   "metadata": {},
   "source": [
    "# Consecuencias de las transformaciones de Lorentz\n",
    "<a target=\"_blank\" href=\"https://colab.research.google.com/github/andromedalactea/relativityGravitationAndCosmology/blob/main/notebooks/N03_20250422_Consequences_Lorentz_Cap1.3_RelGrav.ipynb\">\n",
    "  <img src=\"https://colab.research.google.com/assets/colab-badge.svg\" alt=\"Open In Colab\"/>\n",
    "</a>\n",
    "\n",
    "\n",
    "**Curso:** Relatividad y Gravitación  \n",
    "\n",
    "**Fecha:** 2025-04-20\n",
    "\n",
    "**Notebook:** 03 \n",
    "\n",
    "**Capítulo y sección del libro:** Capítulo 1, Sección 1.3  \n",
    "\n",
    "**Tema:** Dilatación temporal, Contracción de distancias, Relatividad de la simultaneidad, Efecto Doppler y transformación de velocidad"
   ]
  },
  {
   "cell_type": "markdown",
   "metadata": {},
   "source": [
    "Instalando las librerias necesarias"
   ]
  },
  {
   "cell_type": "code",
   "execution_count": 1,
   "metadata": {},
   "outputs": [],
   "source": [
    "!pip install -q numpy ipywidgets plotly nbformat>=4.2.0 anywidget sympy"
   ]
  },
  {
   "cell_type": "markdown",
   "metadata": {},
   "source": [
    "Configuraciones de google Colab "
   ]
  },
  {
   "cell_type": "code",
   "execution_count": 2,
   "metadata": {},
   "outputs": [],
   "source": [
    "try:\n",
    "  from google.colab import output\n",
    "  IN_COLAB = True\n",
    "  output.enable_custom_widget_manager()\n",
    "except ImportError:\n",
    "  IN_COLAB = False"
   ]
  },
  {
   "cell_type": "markdown",
   "metadata": {},
   "source": [
    "Importando las librerias necesarias"
   ]
  },
  {
   "cell_type": "code",
   "execution_count": 3,
   "metadata": {},
   "outputs": [],
   "source": [
    "import numpy as np\n",
    "import sympy as sp\n",
    "import warnings\n",
    "import ipywidgets as widgets\n",
    "import matplotlib.pyplot as plt\n",
    "import plotly.io as pio\n",
    "import plotly.graph_objects as go\n",
    "from IPython.display import display, Markdown, clear_output\n",
    "\n",
    "warnings.filterwarnings('ignore')\n",
    "sp.init_printing(use_latex='mathjax')"
   ]
  },
  {
   "cell_type": "markdown",
   "metadata": {},
   "source": [
    "## 1.3 Consecuencias de las Transformaciones de Lorentz\n",
    "\n",
    "Las transformaciones de Lorentz aplicadas a fenómenos específicos generan efectos que desafían por completo la física clásica:\n",
    "\n",
    "1. **Dilatación del tiempo**  \n",
    "   - El intervalo temporal medido en un marco en el que un reloj se mueve es mayor que el intervalo propio.  \n",
    "   - En la práctica, los relojes en movimiento parecen “andar más lento” que los que están en reposo en sus propios marcos.\n",
    "\n",
    "2. **Contracción de las longitudes**  \n",
    "   - La longitud de un objeto medida en un marco donde éste se mueve es menor que su longitud propia (medida en su propio marco de reposo).  \n",
    "   - Muestra que las distancias no son absolutas: dependen del estado de movimiento relativo del objeto y del observador.\n",
    "\n",
    "3. **Relatividad de la simultaneidad**  \n",
    "   - Dos eventos que ocurren “al mismo tiempo” en un marco pueden no ser simultáneos en otro que se mueva a velocidad constante respecto al primero.  \n",
    "   - Pone de manifiesto que el concepto de simultaneidad es también relativo al observador.\n",
    "\n",
    "4. **Efecto Doppler relativista**  \n",
    "   - La frecuencia de una onda electromagnética cambia si la fuente y el receptor están en movimiento relativo.\n",
    "   - Para una fuente que se aleja del observador, la frecuencia medida es menor (*corrimiento al rojo*), y si se acerca, es mayor (*corrimiento al azul*).\n",
    "\n",
    "\n",
    "> **Importante:** Por muy precisas que sean las herramientas de medición, **toda medida de tiempo o distancia debe especificar el marco inercial** en que se realiza. Ni el “tiempo” ni la “longitud” son magnitudes absolutas; ambas dependen del observador y de su movimiento relativo.\n"
   ]
  },
  {
   "cell_type": "code",
   "execution_count": 4,
   "metadata": {},
   "outputs": [
    {
     "name": "stdout",
     "output_type": "stream",
     "text": [
      "Factor gamma: 1.25\n",
      "Vida media en reposo: 2.2 μs\n",
      "Vida media dilatada (Marco de referencia del laboratorio): 2.75 μs\n",
      "En proporción, el muón en el laboratorio vive 1.25 veces más que el muón en reposo\n"
     ]
    },
    {
     "data": {
      "image/png": "[encoded data removed]",
      "text/plain": [
       "<Figure size 640x480 with 1 Axes>"
      ]
     },
     "metadata": {},
     "output_type": "display_data"
    }
   ],
   "source": [
    "# Parámetro de vida media propia del muón (en μs)\n",
    "tau = 2.2  \n",
    "c = 1 # velocidad de la luz en unidades de c\n",
    "\n",
    "# Para una velocidad V de 3c/5\n",
    "V = 3*c/5\n",
    "gamma = 1 / np.sqrt(1 - V**2/c**2)\n",
    "\n",
    "T_dilatada = gamma * tau\n",
    "\n",
    "print(f\"Factor gamma: {gamma:.2f}\")\n",
    "print(f\"Vida media en reposo: {tau} μs\")\n",
    "print(f\"Vida media dilatada (Marco de referencia del laboratorio): {T_dilatada:.2f} μs\")\n",
    "print(f\"En proporción, el muón en el laboratorio vive {T_dilatada/tau:.2f} veces más que el muón en reposo\")\n",
    "\n",
    "## Ahora vamos a graficar la dilatación del tiempo en función de la velocidad\n",
    "V = np.linspace(0, 0.99, 200)\n",
    "gamma = 1 / np.sqrt(1 - V**2)\n",
    "T_dilatada = gamma * tau\n",
    "\n",
    "\n",
    "# Gráfica 2: Relación ΔT/Δτ (factor γ) vs V/c\n",
    "plt.figure()\n",
    "plt.plot(V, T_dilatada / tau, linewidth=2)\n",
    "plt.xlabel('V/c', fontsize=12)\n",
    "plt.ylabel('ΔT/Δτ', fontsize=12)\n",
    "plt.title('Factor de dilatación ΔT/Δτ vs velocidad (V/c)', fontsize=14)\n",
    "plt.grid(True)\n",
    "plt.show()"
   ]
  },
  {
   "cell_type": "markdown",
   "metadata": {},
   "source": [
    "El gráfico anterior representa que tanto vive el muón en el laboratorio en comparación con el muón en reposo, y es curioso pero esta proporción es precisamente el factor gamma, descubriendo una nueva forma de interpreatación de este factor; además podemos darnos cuneta que a medida que la velocidad de la perticula se acerca a la de la luz esta dilatación es mayor generando que  las particulas vivan ucho más en relación al marco de referencia del laboratorio"
   ]
  },
  {
   "cell_type": "markdown",
   "metadata": {},
   "source": [
    "El siguiente gráfico muestra un efecto muy interesante para las partículas que viajan a velocidades cercanas a la de la luz: el tiempo de vida medido en su propio marco muchas veces no basta para que lleguen hasta la superficie terrestre y sean detectadas por un sensor en tierra. Sin embargo, al considerar la dilatación temporal desde el punto de vista de un observador en la superficie, ese mismo tiempo de vida se alarga, permitiendo que la partícula complete el viaje y alcance los detectores."
   ]
  },
  {
   "cell_type": "code",
   "execution_count": 10,
   "metadata": {},
   "outputs": [
    {
     "data": {
      "application/vnd.plotly.v1+json": {
       "config": {
        "plotlyServerURL": "https://plot.ly"
       },
       "data": [
        {
         "line": {
          "color": "green",
          "width": 4
         },
         "mode": "lines",
         "name": "Superficie",
         "type": "scatter",
         "x": [
          -1,
          1
         ],
         "y": [
          0,
          0
         ]
        },
        {
         "line": {
          "color": "lightblue",
          "dash": "dash",
          "width": 4
         },
         "mode": "lines",
         "name": "Tope Atmósfera",
         "type": "scatter",
         "x": [
          -1,
          1
         ],
         "y": [
          10,
          10
         ]
        },
        {
         "line": {
          "color": "grey",
          "dash": "dot",
          "width": 1
         },
         "mode": "lines",
         "name": "Trayectoria",
         "type": "scatter",
         "x": [
          0,
          0
         ],
         "y": [
          10,
          10
         ]
        },
        {
         "marker": {
          "color": "red",
          "size": 10
         },
         "mode": "markers",
         "name": "Partícula",
         "type": "scatter",
         "x": [
          0
         ],
         "y": [
          10
         ]
        },
        {
         "marker": {
          "color": "black",
          "size": 12,
          "symbol": "x"
         },
         "mode": "markers",
         "name": "Decaimiento",
         "type": "scatter",
         "x": [
          0
         ],
         "y": [
          null
         ]
        }
       ],
       "frames": [
        {
         "data": [
          {
           "line": {
            "color": "green",
            "width": 4
           },
           "mode": "lines",
           "name": "Superficie",
           "type": "scatter",
           "x": [
            -1,
            1
           ],
           "y": [
            0,
            0
           ]
          },
          {
           "line": {
            "color": "lightblue",
            "dash": "dash",
            "width": 4
           },
           "mode": "lines",
           "name": "Tope Atmósfera",
           "type": "scatter",
           "x": [
            -1,
            1
           ],
           "y": [
            10,
            10
           ]
          },
          {
           "line": {
            "color": "grey",
            "dash": "dot",
            "width": 1
           },
           "mode": "lines",
           "type": "scatter",
           "x": [
            0,
            0
           ],
           "y": [
            10,
            10
           ]
          },
          {
           "marker": {
            "color": "red",
            "size": 10
           },
           "mode": "markers",
           "type": "scatter",
           "x": [
            0
           ],
           "y": [
            10
           ]
          },
          {
           "marker": {
            "color": "black",
            "size": 12,
            "symbol": "x"
           },
           "mode": "markers",
           "type": "scatter",
           "x": [
            0
           ],
           "y": [
            null
           ]
          }
         ],
         "layout": {
          "annotations": [
           {
            "showarrow": false,
            "text": "V/c=0.995, γ=10.01, Δτ=2.20µs, H=10.0km",
            "x": 0.01,
            "xref": "paper",
            "y": 1.12,
            "yref": "paper"
           },
           {
            "showarrow": false,
            "text": "t=0.000µs, τ=0.000µs",
            "x": 0.01,
            "xref": "paper",
            "y": 1.06,
            "yref": "paper"
           },
           {
            "font": {
             "color": "blue",
             "size": 14
            },
            "showarrow": false,
            "text": "En vuelo",
            "x": 0.99,
            "xref": "paper",
            "y": 1.05,
            "yref": "paper"
           }
          ]
         },
         "name": "0"
        },
        {
         "data": [
          {
           "line": {
            "color": "green",
            "width": 4
           },
           "mode": "lines",
           "name": "Superficie",
           "type": "scatter",
           "x": [
            -1,
            1
           ],
           "y": [
            0,
            0
           ]
          },
          {
           "line": {
            "color": "lightblue",
            "dash": "dash",
            "width": 4
           },
           "mode": "lines",
           "name": "Tope Atmósfera",
           "type": "scatter",
           "x": [
            -1,
            1
           ],
           "y": [
            10,
            10
           ]
          },
          {
           "line": {
            "color": "grey",
            "dash": "dot",
            "width": 1
           },
           "mode": "lines",
           "type": "scatter",
           "x": [
            0,
            0
           ],
           "y": [
            10,
            9.949748743718592
           ]
          },
          {
           "marker": {
            "color": "red",
            "size": 10
           },
           "mode": "markers",
           "type": "scatter",
           "x": [
            0
           ],
           "y": [
            9.949748743718592
           ]
          },
          {
           "marker": {
            "color": "black",
            "size": 12,
            "symbol": "x"
           },
           "mode": "markers",
           "type": "scatter",
           "x": [
            0
           ],
           "y": [
            null
           ]
          }
         ],
         "layout": {
          "annotations": [
           {
            "showarrow": false,
            "text": "V/c=0.995, γ=10.01, Δτ=2.20µs, H=10.0km",
            "x": 0.01,
            "xref": "paper",
            "y": 1.12,
            "yref": "paper"
           },
           {
            "showarrow": false,
            "text": "t=0.168µs, τ=0.017µs",
            "x": 0.01,
            "xref": "paper",
            "y": 1.06,
            "yref": "paper"
           },
           {
            "font": {
             "color": "blue",
             "size": 14
            },
            "showarrow": false,
            "text": "En vuelo",
            "x": 0.99,
            "xref": "paper",
            "y": 1.05,
            "yref": "paper"
           }
          ]
         },
         "name": "1"
        },
        {
         "data": [
          {
           "line": {
            "color": "green",
            "width": 4
           },
           "mode": "lines",
           "name": "Superficie",
           "type": "scatter",
           "x": [
            -1,
            1
           ],
           "y": [
            0,
            0
           ]
          },
          {
           "line": {
            "color": "lightblue",
            "dash": "dash",
            "width": 4
           },
           "mode": "lines",
           "name": "Tope Atmósfera",
           "type": "scatter",
           "x": [
            -1,
            1
           ],
           "y": [
            10,
            10
           ]
          },
          {
           "line": {
            "color": "grey",
            "dash": "dot",
            "width": 1
           },
           "mode": "lines",
           "type": "scatter",
           "x": [
            0,
            0
           ],
           "y": [
            10,
            9.899497487437186
           ]
          },
          {
           "marker": {
            "color": "red",
            "size": 10
           },
           "mode": "markers",
           "type": "scatter",
           "x": [
            0
           ],
           "y": [
            9.899497487437186
           ]
          },
          {
           "marker": {
            "color": "black",
            "size": 12,
            "symbol": "x"
           },
           "mode": "markers",
           "type": "scatter",
           "x": [
            0
           ],
           "y": [
            null
           ]
          }
         ],
         "layout": {
          "annotations": [
           {
            "showarrow": false,
            "text": "V/c=0.995, γ=10.01, Δτ=2.20µs, H=10.0km",
            "x": 0.01,
            "xref": "paper",
            "y": 1.12,
            "yref": "paper"
           },
           {
            "showarrow": false,
            "text": "t=0.337µs, τ=0.034µs",
            "x": 0.01,
            "xref": "paper",
            "y": 1.06,
            "yref": "paper"
           },
           {
            "font": {
             "color": "blue",
             "size": 14
            },
            "showarrow": false,
            "text": "En vuelo",
            "x": 0.99,
            "xref": "paper",
            "y": 1.05,
            "yref": "paper"
           }
          ]
         },
         "name": "2"
        },
        {
         "data": [
          {
           "line": {
            "color": "green",
            "width": 4
           },
           "mode": "lines",
           "name": "Superficie",
           "type": "scatter",
           "x": [
            -1,
            1
           ],
           "y": [
            0,
            0
           ]
          },
          {
           "line": {
            "color": "lightblue",
            "dash": "dash",
            "width": 4
           },
           "mode": "lines",
           "name": "Tope Atmósfera",
           "type": "scatter",
           "x": [
            -1,
            1
           ],
           "y": [
            10,
            10
           ]
          },
          {
           "line": {
            "color": "grey",
            "dash": "dot",
            "width": 1
           },
           "mode": "lines",
           "type": "scatter",
           "x": [
            0,
            0
           ],
           "y": [
            10,
            9.849246231155778
           ]
          },
          {
           "marker": {
            "color": "red",
            "size": 10
           },
           "mode": "markers",
           "type": "scatter",
           "x": [
            0
           ],
           "y": [
            9.849246231155778
           ]
          },
          {
           "marker": {
            "color": "black",
            "size": 12,
            "symbol": "x"
           },
           "mode": "markers",
           "type": "scatter",
           "x": [
            0
           ],
           "y": [
            null
           ]
          }
         ],
         "layout": {
          "annotations": [
           {
            "showarrow": false,
            "text": "V/c=0.995, γ=10.01, Δτ=2.20µs, H=10.0km",
            "x": 0.01,
            "xref": "paper",
            "y": 1.12,
            "yref": "paper"
           },
           {
            "showarrow": false,
            "text": "t=0.505µs, τ=0.050µs",
            "x": 0.01,
            "xref": "paper",
            "y": 1.06,
            "yref": "paper"
           },
           {
            "font": {
             "color": "blue",
             "size": 14
            },
            "showarrow": false,
            "text": "En vuelo",
            "x": 0.99,
            "xref": "paper",
            "y": 1.05,
            "yref": "paper"
           }
          ]
         },
         "name": "3"
        },
        {
         "data": [
          {
           "line": {
            "color": "green",
            "width": 4
           },
           "mode": "lines",
           "name": "Superficie",
           "type": "scatter",
           "x": [
            -1,
            1
           ],
           "y": [
            0,
            0
           ]
          },
          {
           "line": {
            "color": "lightblue",
            "dash": "dash",
            "width": 4
           },
           "mode": "lines",
           "name": "Tope Atmósfera",
           "type": "scatter",
           "x": [
            -1,
            1
           ],
           "y": [
            10,
            10
           ]
          },
          {
           "line": {
            "color": "grey",
            "dash": "dot",
            "width": 1
           },
           "mode": "lines",
           "type": "scatter",
           "x": [
            0,
            0
           ],
           "y": [
            10,
            9.798994974874372
           ]
          },
          {
           "marker": {
            "color": "red",
            "size": 10
           },
           "mode": "markers",
           "type": "scatter",
           "x": [
            0
           ],
           "y": [
            9.798994974874372
           ]
          },
          {
           "marker": {
            "color": "black",
            "size": 12,
            "symbol": "x"
           },
           "mode": "markers",
           "type": "scatter",
           "x": [
            0
           ],
           "y": [
            null
           ]
          }
         ],
         "layout": {
          "annotations": [
           {
            "showarrow": false,
            "text": "V/c=0.995, γ=10.01, Δτ=2.20µs, H=10.0km",
            "x": 0.01,
            "xref": "paper",
            "y": 1.12,
            "yref": "paper"
           },
           {
            "showarrow": false,
            "text": "t=0.674µs, τ=0.067µs",
            "x": 0.01,
            "xref": "paper",
            "y": 1.06,
            "yref": "paper"
           },
           {
            "font": {
             "color": "blue",
             "size": 14
            },
            "showarrow": false,
            "text": "En vuelo",
            "x": 0.99,
            "xref": "paper",
            "y": 1.05,
            "yref": "paper"
           }
          ]
         },
         "name": "4"
        },
        {
         "data": [
          {
           "line": {
            "color": "green",
            "width": 4
           },
           "mode": "lines",
           "name": "Superficie",
           "type": "scatter",
           "x": [
            -1,
            1
           ],
           "y": [
            0,
            0
           ]
          },
          {
           "line": {
            "color": "lightblue",
            "dash": "dash",
            "width": 4
           },
           "mode": "lines",
           "name": "Tope Atmósfera",
           "type": "scatter",
           "x": [
            -1,
            1
           ],
           "y": [
            10,
            10
           ]
          },
          {
           "line": {
            "color": "grey",
            "dash": "dot",
            "width": 1
           },
           "mode": "lines",
           "type": "scatter",
           "x": [
            0,
            0
           ],
           "y": [
            10,
            9.748743718592966
           ]
          },
          {
           "marker": {
            "color": "red",
            "size": 10
           },
           "mode": "markers",
           "type": "scatter",
           "x": [
            0
           ],
           "y": [
            9.748743718592966
           ]
          },
          {
           "marker": {
            "color": "black",
            "size": 12,
            "symbol": "x"
           },
           "mode": "markers",
           "type": "scatter",
           "x": [
            0
           ],
           "y": [
            null
           ]
          }
         ],
         "layout": {
          "annotations": [
           {
            "showarrow": false,
            "text": "V/c=0.995, γ=10.01, Δτ=2.20µs, H=10.0km",
            "x": 0.01,
            "xref": "paper",
            "y": 1.12,
            "yref": "paper"
           },
           {
            "showarrow": false,
            "text": "t=0.842µs, τ=0.084µs",
            "x": 0.01,
            "xref": "paper",
            "y": 1.06,
            "yref": "paper"
           },
           {
            "font": {
             "color": "blue",
             "size": 14
            },
            "showarrow": false,
            "text": "En vuelo",
            "x": 0.99,
            "xref": "paper",
            "y": 1.05,
            "yref": "paper"
           }
          ]
         },
         "name": "5"
        },
        {
         "data": [
          {
           "line": {
            "color": "green",
            "width": 4
           },
           "mode": "lines",
           "name": "Superficie",
           "type": "scatter",
           "x": [
            -1,
            1
           ],
           "y": [
            0,
            0
           ]
          },
          {
           "line": {
            "color": "lightblue",
            "dash": "dash",
            "width": 4
           },
           "mode": "lines",
           "name": "Tope Atmósfera",
           "type": "scatter",
           "x": [
            -1,
            1
           ],
           "y": [
            10,
            10
           ]
          },
          {
           "line": {
            "color": "grey",
            "dash": "dot",
            "width": 1
           },
           "mode": "lines",
           "type": "scatter",
           "x": [
            0,
            0
           ],
           "y": [
            10,
            9.698492462311558
           ]
          },
          {
           "marker": {
            "color": "red",
            "size": 10
           },
           "mode": "markers",
           "type": "scatter",
           "x": [
            0
           ],
           "y": [
            9.698492462311558
           ]
          },
          {
           "marker": {
            "color": "black",
            "size": 12,
            "symbol": "x"
           },
           "mode": "markers",
           "type": "scatter",
           "x": [
            0
           ],
           "y": [
            null
           ]
          }
         ],
         "layout": {
          "annotations": [
           {
            "showarrow": false,
            "text": "V/c=0.995, γ=10.01, Δτ=2.20µs, H=10.0km",
            "x": 0.01,
            "xref": "paper",
            "y": 1.12,
            "yref": "paper"
           },
           {
            "showarrow": false,
            "text": "t=1.011µs, τ=0.101µs",
            "x": 0.01,
            "xref": "paper",
            "y": 1.06,
            "yref": "paper"
           },
           {
            "font": {
             "color": "blue",
             "size": 14
            },
            "showarrow": false,
            "text": "En vuelo",
            "x": 0.99,
            "xref": "paper",
            "y": 1.05,
            "yref": "paper"
           }
          ]
         },
         "name": "6"
        },
        {
         "data": [
          {
           "line": {
            "color": "green",
            "width": 4
           },
           "mode": "lines",
           "name": "Superficie",
           "type": "scatter",
           "x": [
            -1,
            1
           ],
           "y": [
            0,
            0
           ]
          },
          {
           "line": {
            "color": "lightblue",
            "dash": "dash",
            "width": 4
           },
           "mode": "lines",
           "name": "Tope Atmósfera",
           "type": "scatter",
           "x": [
            -1,
            1
           ],
           "y": [
            10,
            10
           ]
          },
          {
           "line": {
            "color": "grey",
            "dash": "dot",
            "width": 1
           },
           "mode": "lines",
           "type": "scatter",
           "x": [
            0,
            0
           ],
           "y": [
            10,
            9.64824120603015
           ]
          },
          {
           "marker": {
            "color": "red",
            "size": 10
           },
           "mode": "markers",
           "type": "scatter",
           "x": [
            0
           ],
           "y": [
            9.64824120603015
           ]
          },
          {
           "marker": {
            "color": "black",
            "size": 12,
            "symbol": "x"
           },
           "mode": "markers",
           "type": "scatter",
           "x": [
            0
           ],
           "y": [
            null
           ]
          }
         ],
         "layout": {
          "annotations": [
           {
            "showarrow": false,
            "text": "V/c=0.995, γ=10.01, Δτ=2.20µs, H=10.0km",
            "x": 0.01,
            "xref": "paper",
            "y": 1.12,
            "yref": "paper"
           },
           {
            "showarrow": false,
            "text": "t=1.179µs, τ=0.118µs",
            "x": 0.01,
            "xref": "paper",
            "y": 1.06,
            "yref": "paper"
           },
           {
            "font": {
             "color": "blue",
             "size": 14
            },
            "showarrow": false,
            "text": "En vuelo",
            "x": 0.99,
            "xref": "paper",
            "y": 1.05,
            "yref": "paper"
           }
          ]
         },
         "name": "7"
        },
        {
         "data": [
          {
           "line": {
            "color": "green",
            "width": 4
           },
           "mode": "lines",
           "name": "Superficie",
           "type": "scatter",
           "x": [
            -1,
            1
           ],
           "y": [
            0,
            0
           ]
          },
          {
           "line": {
            "color": "lightblue",
            "dash": "dash",
            "width": 4
           },
           "mode": "lines",
           "name": "Tope Atmósfera",
           "type": "scatter",
           "x": [
            -1,
            1
           ],
           "y": [
            10,
            10
           ]
          },
          {
           "line": {
            "color": "grey",
            "dash": "dot",
            "width": 1
           },
           "mode": "lines",
           "type": "scatter",
           "x": [
            0,
            0
           ],
           "y": [
            10,
            9.597989949748744
           ]
          },
          {
           "marker": {
            "color": "red",
            "size": 10
           },
           "mode": "markers",
           "type": "scatter",
           "x": [
            0
           ],
           "y": [
            9.597989949748744
           ]
          },
          {
           "marker": {
            "color": "black",
            "size": 12,
            "symbol": "x"
           },
           "mode": "markers",
           "type": "scatter",
           "x": [
            0
           ],
           "y": [
            null
           ]
          }
         ],
         "layout": {
          "annotations": [
           {
            "showarrow": false,
            "text": "V/c=0.995, γ=10.01, Δτ=2.20µs, H=10.0km",
            "x": 0.01,
            "xref": "paper",
            "y": 1.12,
            "yref": "paper"
           },
           {
            "showarrow": false,
            "text": "t=1.348µs, τ=0.135µs",
            "x": 0.01,
            "xref": "paper",
            "y": 1.06,
            "yref": "paper"
           },
           {
            "font": {
             "color": "blue",
             "size": 14
            },
            "showarrow": false,
            "text": "En vuelo",
            "x": 0.99,
            "xref": "paper",
            "y": 1.05,
            "yref": "paper"
           }
          ]
         },
         "name": "8"
        },
        {
         "data": [
          {
           "line": {
            "color": "green",
            "width": 4
           },
           "mode": "lines",
           "name": "Superficie",
           "type": "scatter",
           "x": [
            -1,
            1
           ],
           "y": [
            0,
            0
           ]
          },
          {
           "line": {
            "color": "lightblue",
            "dash": "dash",
            "width": 4
           },
           "mode": "lines",
           "name": "Tope Atmósfera",
           "type": "scatter",
           "x": [
            -1,
            1
           ],
           "y": [
            10,
            10
           ]
          },
          {
           "line": {
            "color": "grey",
            "dash": "dot",
            "width": 1
           },
           "mode": "lines",
           "type": "scatter",
           "x": [
            0,
            0
           ],
           "y": [
            10,
            9.547738693467336
           ]
          },
          {
           "marker": {
            "color": "red",
            "size": 10
           },
           "mode": "markers",
           "type": "scatter",
           "x": [
            0
           ],
           "y": [
            9.547738693467336
           ]
          },
          {
           "marker": {
            "color": "black",
            "size": 12,
            "symbol": "x"
           },
           "mode": "markers",
           "type": "scatter",
           "x": [
            0
           ],
           "y": [
            null
           ]
          }
         ],
         "layout": {
          "annotations": [
           {
            "showarrow": false,
            "text": "V/c=0.995, γ=10.01, Δτ=2.20µs, H=10.0km",
            "x": 0.01,
            "xref": "paper",
            "y": 1.12,
            "yref": "paper"
           },
           {
            "showarrow": false,
            "text": "t=1.516µs, τ=0.151µs",
            "x": 0.01,
            "xref": "paper",
            "y": 1.06,
            "yref": "paper"
           },
           {
            "font": {
             "color": "blue",
             "size": 14
            },
            "showarrow": false,
            "text": "En vuelo",
            "x": 0.99,
            "xref": "paper",
            "y": 1.05,
            "yref": "paper"
           }
          ]
         },
         "name": "9"
        },
        {
         "data": [
          {
           "line": {
            "color": "green",
            "width": 4
           },
           "mode": "lines",
           "name": "Superficie",
           "type": "scatter",
           "x": [
            -1,
            1
           ],
           "y": [
            0,
            0
           ]
          },
          {
           "line": {
            "color": "lightblue",
            "dash": "dash",
            "width": 4
           },
           "mode": "lines",
           "name": "Tope Atmósfera",
           "type": "scatter",
           "x": [
            -1,
            1
           ],
           "y": [
            10,
            10
           ]
          },
          {
           "line": {
            "color": "grey",
            "dash": "dot",
            "width": 1
           },
           "mode": "lines",
           "type": "scatter",
           "x": [
            0,
            0
           ],
           "y": [
            10,
            9.49748743718593
           ]
          },
          {
           "marker": {
            "color": "red",
            "size": 10
           },
           "mode": "markers",
           "type": "scatter",
           "x": [
            0
           ],
           "y": [
            9.49748743718593
           ]
          },
          {
           "marker": {
            "color": "black",
            "size": 12,
            "symbol": "x"
           },
           "mode": "markers",
           "type": "scatter",
           "x": [
            0
           ],
           "y": [
            null
           ]
          }
         ],
         "layout": {
          "annotations": [
           {
            "showarrow": false,
            "text": "V/c=0.995, γ=10.01, Δτ=2.20µs, H=10.0km",
            "x": 0.01,
            "xref": "paper",
            "y": 1.12,
            "yref": "paper"
           },
           {
            "showarrow": false,
            "text": "t=1.685µs, τ=0.168µs",
            "x": 0.01,
            "xref": "paper",
            "y": 1.06,
            "yref": "paper"
           },
           {
            "font": {
             "color": "blue",
             "size": 14
            },
            "showarrow": false,
            "text": "En vuelo",
            "x": 0.99,
            "xref": "paper",
            "y": 1.05,
            "yref": "paper"
           }
          ]
         },
         "name": "10"
        },
        {
         "data": [
          {
           "line": {
            "color": "green",
            "width": 4
           },
           "mode": "lines",
           "name": "Superficie",
           "type": "scatter",
           "x": [
            -1,
            1
           ],
           "y": [
            0,
            0
           ]
          },
          {
           "line": {
            "color": "lightblue",
            "dash": "dash",
            "width": 4
           },
           "mode": "lines",
           "name": "Tope Atmósfera",
           "type": "scatter",
           "x": [
            -1,
            1
           ],
           "y": [
            10,
            10
           ]
          },
          {
           "line": {
            "color": "grey",
            "dash": "dot",
            "width": 1
           },
           "mode": "lines",
           "type": "scatter",
           "x": [
            0,
            0
           ],
           "y": [
            10,
            9.447236180904522
           ]
          },
          {
           "marker": {
            "color": "red",
            "size": 10
           },
           "mode": "markers",
           "type": "scatter",
           "x": [
            0
           ],
           "y": [
            9.447236180904522
           ]
          },
          {
           "marker": {
            "color": "black",
            "size": 12,
            "symbol": "x"
           },
           "mode": "markers",
           "type": "scatter",
           "x": [
            0
           ],
           "y": [
            null
           ]
          }
         ],
         "layout": {
          "annotations": [
           {
            "showarrow": false,
            "text": "V/c=0.995, γ=10.01, Δτ=2.20µs, H=10.0km",
            "x": 0.01,
            "xref": "paper",
            "y": 1.12,
            "yref": "paper"
           },
           {
            "showarrow": false,
            "text": "t=1.853µs, τ=0.185µs",
            "x": 0.01,
            "xref": "paper",
            "y": 1.06,
            "yref": "paper"
           },
           {
            "font": {
             "color": "blue",
             "size": 14
            },
            "showarrow": false,
            "text": "En vuelo",
            "x": 0.99,
            "xref": "paper",
            "y": 1.05,
            "yref": "paper"
           }
          ]
         },
         "name": "11"
        },
        {
         "data": [
          {
           "line": {
            "color": "green",
            "width": 4
           },
           "mode": "lines",
           "name": "Superficie",
           "type": "scatter",
           "x": [
            -1,
            1
           ],
           "y": [
            0,
            0
           ]
          },
          {
           "line": {
            "color": "lightblue",
            "dash": "dash",
            "width": 4
           },
           "mode": "lines",
           "name": "Tope Atmósfera",
           "type": "scatter",
           "x": [
            -1,
            1
           ],
           "y": [
            10,
            10
           ]
          },
          {
           "line": {
            "color": "grey",
            "dash": "dot",
            "width": 1
           },
           "mode": "lines",
           "type": "scatter",
           "x": [
            0,
            0
           ],
           "y": [
            10,
            9.396984924623116
           ]
          },
          {
           "marker": {
            "color": "red",
            "size": 10
           },
           "mode": "markers",
           "type": "scatter",
           "x": [
            0
           ],
           "y": [
            9.396984924623116
           ]
          },
          {
           "marker": {
            "color": "black",
            "size": 12,
            "symbol": "x"
           },
           "mode": "markers",
           "type": "scatter",
           "x": [
            0
           ],
           "y": [
            null
           ]
          }
         ],
         "layout": {
          "annotations": [
           {
            "showarrow": false,
            "text": "V/c=0.995, γ=10.01, Δτ=2.20µs, H=10.0km",
            "x": 0.01,
            "xref": "paper",
            "y": 1.12,
            "yref": "paper"
           },
           {
            "showarrow": false,
            "text": "t=2.022µs, τ=0.202µs",
            "x": 0.01,
            "xref": "paper",
            "y": 1.06,
            "yref": "paper"
           },
           {
            "font": {
             "color": "blue",
             "size": 14
            },
            "showarrow": false,
            "text": "En vuelo",
            "x": 0.99,
            "xref": "paper",
            "y": 1.05,
            "yref": "paper"
           }
          ]
         },
         "name": "12"
        },
        {
         "data": [
          {
           "line": {
            "color": "green",
            "width": 4
           },
           "mode": "lines",
           "name": "Superficie",
           "type": "scatter",
           "x": [
            -1,
            1
           ],
           "y": [
            0,
            0
           ]
          },
          {
           "line": {
            "color": "lightblue",
            "dash": "dash",
            "width": 4
           },
           "mode": "lines",
           "name": "Tope Atmósfera",
           "type": "scatter",
           "x": [
            -1,
            1
           ],
           "y": [
            10,
            10
           ]
          },
          {
           "line": {
            "color": "grey",
            "dash": "dot",
            "width": 1
           },
           "mode": "lines",
           "type": "scatter",
           "x": [
            0,
            0
           ],
           "y": [
            10,
            9.34673366834171
           ]
          },
          {
           "marker": {
            "color": "red",
            "size": 10
           },
           "mode": "markers",
           "type": "scatter",
           "x": [
            0
           ],
           "y": [
            9.34673366834171
           ]
          },
          {
           "marker": {
            "color": "black",
            "size": 12,
            "symbol": "x"
           },
           "mode": "markers",
           "type": "scatter",
           "x": [
            0
           ],
           "y": [
            null
           ]
          }
         ],
         "layout": {
          "annotations": [
           {
            "showarrow": false,
            "text": "V/c=0.995, γ=10.01, Δτ=2.20µs, H=10.0km",
            "x": 0.01,
            "xref": "paper",
            "y": 1.12,
            "yref": "paper"
           },
           {
            "showarrow": false,
            "text": "t=2.190µs, τ=0.219µs",
            "x": 0.01,
            "xref": "paper",
            "y": 1.06,
            "yref": "paper"
           },
           {
            "font": {
             "color": "blue",
             "size": 14
            },
            "showarrow": false,
            "text": "En vuelo",
            "x": 0.99,
            "xref": "paper",
            "y": 1.05,
            "yref": "paper"
           }
          ]
         },
         "name": "13"
        },
        {
         "data": [
          {
           "line": {
            "color": "green",
            "width": 4
           },
           "mode": "lines",
           "name": "Superficie",
           "type": "scatter",
           "x": [
            -1,
            1
           ],
           "y": [
            0,
            0
           ]
          },
          {
           "line": {
            "color": "lightblue",
            "dash": "dash",
            "width": 4
           },
           "mode": "lines",
           "name": "Tope Atmósfera",
           "type": "scatter",
           "x": [
            -1,
            1
           ],
           "y": [
            10,
            10
           ]
          },
          {
           "line": {
            "color": "grey",
            "dash": "dot",
            "width": 1
           },
           "mode": "lines",
           "type": "scatter",
           "x": [
            0,
            0
           ],
           "y": [
            10,
            9.296482412060302
           ]
          },
          {
           "marker": {
            "color": "red",
            "size": 10
           },
           "mode": "markers",
           "type": "scatter",
           "x": [
            0
           ],
           "y": [
            9.296482412060302
           ]
          },
          {
           "marker": {
            "color": "black",
            "size": 12,
            "symbol": "x"
           },
           "mode": "markers",
           "type": "scatter",
           "x": [
            0
           ],
           "y": [
            null
           ]
          }
         ],
         "layout": {
          "annotations": [
           {
            "showarrow": false,
            "text": "V/c=0.995, γ=10.01, Δτ=2.20µs, H=10.0km",
            "x": 0.01,
            "xref": "paper",
            "y": 1.12,
            "yref": "paper"
           },
           {
            "showarrow": false,
            "text": "t=2.358µs, τ=0.236µs",
            "x": 0.01,
            "xref": "paper",
            "y": 1.06,
            "yref": "paper"
           },
           {
            "font": {
             "color": "blue",
             "size": 14
            },
            "showarrow": false,
            "text": "En vuelo",
            "x": 0.99,
            "xref": "paper",
            "y": 1.05,
            "yref": "paper"
           }
          ]
         },
         "name": "14"
        },
        {
         "data": [
          {
           "line": {
            "color": "green",
            "width": 4
           },
           "mode": "lines",
           "name": "Superficie",
           "type": "scatter",
           "x": [
            -1,
            1
           ],
           "y": [
            0,
            0
           ]
          },
          {
           "line": {
            "color": "lightblue",
            "dash": "dash",
            "width": 4
           },
           "mode": "lines",
           "name": "Tope Atmósfera",
           "type": "scatter",
           "x": [
            -1,
            1
           ],
           "y": [
            10,
            10
           ]
          },
          {
           "line": {
            "color": "grey",
            "dash": "dot",
            "width": 1
           },
           "mode": "lines",
           "type": "scatter",
           "x": [
            0,
            0
           ],
           "y": [
            10,
            9.246231155778894
           ]
          },
          {
           "marker": {
            "color": "red",
            "size": 10
           },
           "mode": "markers",
           "type": "scatter",
           "x": [
            0
           ],
           "y": [
            9.246231155778894
           ]
          },
          {
           "marker": {
            "color": "black",
            "size": 12,
            "symbol": "x"
           },
           "mode": "markers",
           "type": "scatter",
           "x": [
            0
           ],
           "y": [
            null
           ]
          }
         ],
         "layout": {
          "annotations": [
           {
            "showarrow": false,
            "text": "V/c=0.995, γ=10.01, Δτ=2.20µs, H=10.0km",
            "x": 0.01,
            "xref": "paper",
            "y": 1.12,
            "yref": "paper"
           },
           {
            "showarrow": false,
            "text": "t=2.527µs, τ=0.252µs",
            "x": 0.01,
            "xref": "paper",
            "y": 1.06,
            "yref": "paper"
           },
           {
            "font": {
             "color": "blue",
             "size": 14
            },
            "showarrow": false,
            "text": "En vuelo",
            "x": 0.99,
            "xref": "paper",
            "y": 1.05,
            "yref": "paper"
           }
          ]
         },
         "name": "15"
        },
        {
         "data": [
          {
           "line": {
            "color": "green",
            "width": 4
           },
           "mode": "lines",
           "name": "Superficie",
           "type": "scatter",
           "x": [
            -1,
            1
           ],
           "y": [
            0,
            0
           ]
          },
          {
           "line": {
            "color": "lightblue",
            "dash": "dash",
            "width": 4
           },
           "mode": "lines",
           "name": "Tope Atmósfera",
           "type": "scatter",
           "x": [
            -1,
            1
           ],
           "y": [
            10,
            10
           ]
          },
          {
           "line": {
            "color": "grey",
            "dash": "dot",
            "width": 1
           },
           "mode": "lines",
           "type": "scatter",
           "x": [
            0,
            0
           ],
           "y": [
            10,
            9.195979899497488
           ]
          },
          {
           "marker": {
            "color": "red",
            "size": 10
           },
           "mode": "markers",
           "type": "scatter",
           "x": [
            0
           ],
           "y": [
            9.195979899497488
           ]
          },
          {
           "marker": {
            "color": "black",
            "size": 12,
            "symbol": "x"
           },
           "mode": "markers",
           "type": "scatter",
           "x": [
            0
           ],
           "y": [
            null
           ]
          }
         ],
         "layout": {
          "annotations": [
           {
            "showarrow": false,
            "text": "V/c=0.995, γ=10.01, Δτ=2.20µs, H=10.0km",
            "x": 0.01,
            "xref": "paper",
            "y": 1.12,
            "yref": "paper"
           },
           {
            "showarrow": false,
            "text": "t=2.695µs, τ=0.269µs",
            "x": 0.01,
            "xref": "paper",
            "y": 1.06,
            "yref": "paper"
           },
           {
            "font": {
             "color": "blue",
             "size": 14
            },
            "showarrow": false,
            "text": "En vuelo",
            "x": 0.99,
            "xref": "paper",
            "y": 1.05,
            "yref": "paper"
           }
          ]
         },
         "name": "16"
        },
        {
         "data": [
          {
           "line": {
            "color": "green",
            "width": 4
           },
           "mode": "lines",
           "name": "Superficie",
           "type": "scatter",
           "x": [
            -1,
            1
           ],
           "y": [
            0,
            0
           ]
          },
          {
           "line": {
            "color": "lightblue",
            "dash": "dash",
            "width": 4
           },
           "mode": "lines",
           "name": "Tope Atmósfera",
           "type": "scatter",
           "x": [
            -1,
            1
           ],
           "y": [
            10,
            10
           ]
          },
          {
           "line": {
            "color": "grey",
            "dash": "dot",
            "width": 1
           },
           "mode": "lines",
           "type": "scatter",
           "x": [
            0,
            0
           ],
           "y": [
            10,
            9.14572864321608
           ]
          },
          {
           "marker": {
            "color": "red",
            "size": 10
           },
           "mode": "markers",
           "type": "scatter",
           "x": [
            0
           ],
           "y": [
            9.14572864321608
           ]
          },
          {
           "marker": {
            "color": "black",
            "size": 12,
            "symbol": "x"
           },
           "mode": "markers",
           "type": "scatter",
           "x": [
            0
           ],
           "y": [
            null
           ]
          }
         ],
         "layout": {
          "annotations": [
           {
            "showarrow": false,
            "text": "V/c=0.995, γ=10.01, Δτ=2.20µs, H=10.0km",
            "x": 0.01,
            "xref": "paper",
            "y": 1.12,
            "yref": "paper"
           },
           {
            "showarrow": false,
            "text": "t=2.864µs, τ=0.286µs",
            "x": 0.01,
            "xref": "paper",
            "y": 1.06,
            "yref": "paper"
           },
           {
            "font": {
             "color": "blue",
             "size": 14
            },
            "showarrow": false,
            "text": "En vuelo",
            "x": 0.99,
            "xref": "paper",
            "y": 1.05,
            "yref": "paper"
           }
          ]
         },
         "name": "17"
        },
        {
         "data": [
          {
           "line": {
            "color": "green",
            "width": 4
           },
           "mode": "lines",
           "name": "Superficie",
           "type": "scatter",
           "x": [
            -1,
            1
           ],
           "y": [
            0,
            0
           ]
          },
          {
           "line": {
            "color": "lightblue",
            "dash": "dash",
            "width": 4
           },
           "mode": "lines",
           "name": "Tope Atmósfera",
           "type": "scatter",
           "x": [
            -1,
            1
           ],
           "y": [
            10,
            10
           ]
          },
          {
           "line": {
            "color": "grey",
            "dash": "dot",
            "width": 1
           },
           "mode": "lines",
           "type": "scatter",
           "x": [
            0,
            0
           ],
           "y": [
            10,
            9.095477386934673
           ]
          },
          {
           "marker": {
            "color": "red",
            "size": 10
           },
           "mode": "markers",
           "type": "scatter",
           "x": [
            0
           ],
           "y": [
            9.095477386934673
           ]
          },
          {
           "marker": {
            "color": "black",
            "size": 12,
            "symbol": "x"
           },
           "mode": "markers",
           "type": "scatter",
           "x": [
            0
           ],
           "y": [
            null
           ]
          }
         ],
         "layout": {
          "annotations": [
           {
            "showarrow": false,
            "text": "V/c=0.995, γ=10.01, Δτ=2.20µs, H=10.0km",
            "x": 0.01,
            "xref": "paper",
            "y": 1.12,
            "yref": "paper"
           },
           {
            "showarrow": false,
            "text": "t=3.032µs, τ=0.303µs",
            "x": 0.01,
            "xref": "paper",
            "y": 1.06,
            "yref": "paper"
           },
           {
            "font": {
             "color": "blue",
             "size": 14
            },
            "showarrow": false,
            "text": "En vuelo",
            "x": 0.99,
            "xref": "paper",
            "y": 1.05,
            "yref": "paper"
           }
          ]
         },
         "name": "18"
        },
        {
         "data": [
          {
           "line": {
            "color": "green",
            "width": 4
           },
           "mode": "lines",
           "name": "Superficie",
           "type": "scatter",
           "x": [
            -1,
            1
           ],
           "y": [
            0,
            0
           ]
          },
          {
           "line": {
            "color": "lightblue",
            "dash": "dash",
            "width": 4
           },
           "mode": "lines",
           "name": "Tope Atmósfera",
           "type": "scatter",
           "x": [
            -1,
            1
           ],
           "y": [
            10,
            10
           ]
          },
          {
           "line": {
            "color": "grey",
            "dash": "dot",
            "width": 1
           },
           "mode": "lines",
           "type": "scatter",
           "x": [
            0,
            0
           ],
           "y": [
            10,
            9.045226130653266
           ]
          },
          {
           "marker": {
            "color": "red",
            "size": 10
           },
           "mode": "markers",
           "type": "scatter",
           "x": [
            0
           ],
           "y": [
            9.045226130653266
           ]
          },
          {
           "marker": {
            "color": "black",
            "size": 12,
            "symbol": "x"
           },
           "mode": "markers",
           "type": "scatter",
           "x": [
            0
           ],
           "y": [
            null
           ]
          }
         ],
         "layout": {
          "annotations": [
           {
            "showarrow": false,
            "text": "V/c=0.995, γ=10.01, Δτ=2.20µs, H=10.0km",
            "x": 0.01,
            "xref": "paper",
            "y": 1.12,
            "yref": "paper"
           },
           {
            "showarrow": false,
            "text": "t=3.201µs, τ=0.320µs",
            "x": 0.01,
            "xref": "paper",
            "y": 1.06,
            "yref": "paper"
           },
           {
            "font": {
             "color": "blue",
             "size": 14
            },
            "showarrow": false,
            "text": "En vuelo",
            "x": 0.99,
            "xref": "paper",
            "y": 1.05,
            "yref": "paper"
           }
          ]
         },
         "name": "19"
        },
        {
         "data": [
          {
           "line": {
            "color": "green",
            "width": 4
           },
           "mode": "lines",
           "name": "Superficie",
           "type": "scatter",
           "x": [
            -1,
            1
           ],
           "y": [
            0,
            0
           ]
          },
          {
           "line": {
            "color": "lightblue",
            "dash": "dash",
            "width": 4
           },
           "mode": "lines",
           "name": "Tope Atmósfera",
           "type": "scatter",
           "x": [
            -1,
            1
           ],
           "y": [
            10,
            10
           ]
          },
          {
           "line": {
            "color": "grey",
            "dash": "dot",
            "width": 1
           },
           "mode": "lines",
           "type": "scatter",
           "x": [
            0,
            0
           ],
           "y": [
            10,
            8.99497487437186
           ]
          },
          {
           "marker": {
            "color": "red",
            "size": 10
           },
           "mode": "markers",
           "type": "scatter",
           "x": [
            0
           ],
           "y": [
            8.99497487437186
           ]
          },
          {
           "marker": {
            "color": "black",
            "size": 12,
            "symbol": "x"
           },
           "mode": "markers",
           "type": "scatter",
           "x": [
            0
           ],
           "y": [
            null
           ]
          }
         ],
         "layout": {
          "annotations": [
           {
            "showarrow": false,
            "text": "V/c=0.995, γ=10.01, Δτ=2.20µs, H=10.0km",
            "x": 0.01,
            "xref": "paper",
            "y": 1.12,
            "yref": "paper"
           },
           {
            "showarrow": false,
            "text": "t=3.369µs, τ=0.337µs",
            "x": 0.01,
            "xref": "paper",
            "y": 1.06,
            "yref": "paper"
           },
           {
            "font": {
             "color": "blue",
             "size": 14
            },
            "showarrow": false,
            "text": "En vuelo",
            "x": 0.99,
            "xref": "paper",
            "y": 1.05,
            "yref": "paper"
           }
          ]
         },
         "name": "20"
        },
        {
         "data": [
          {
           "line": {
            "color": "green",
            "width": 4
           },
           "mode": "lines",
           "name": "Superficie",
           "type": "scatter",
           "x": [
            -1,
            1
           ],
           "y": [
            0,
            0
           ]
          },
          {
           "line": {
            "color": "lightblue",
            "dash": "dash",
            "width": 4
           },
           "mode": "lines",
           "name": "Tope Atmósfera",
           "type": "scatter",
           "x": [
            -1,
            1
           ],
           "y": [
            10,
            10
           ]
          },
          {
           "line": {
            "color": "grey",
            "dash": "dot",
            "width": 1
           },
           "mode": "lines",
           "type": "scatter",
           "x": [
            0,
            0
           ],
           "y": [
            10,
            8.944723618090451
           ]
          },
          {
           "marker": {
            "color": "red",
            "size": 10
           },
           "mode": "markers",
           "type": "scatter",
           "x": [
            0
           ],
           "y": [
            8.944723618090451
           ]
          },
          {
           "marker": {
            "color": "black",
            "size": 12,
            "symbol": "x"
           },
           "mode": "markers",
           "type": "scatter",
           "x": [
            0
           ],
           "y": [
            null
           ]
          }
         ],
         "layout": {
          "annotations": [
           {
            "showarrow": false,
            "text": "V/c=0.995, γ=10.01, Δτ=2.20µs, H=10.0km",
            "x": 0.01,
            "xref": "paper",
            "y": 1.12,
            "yref": "paper"
           },
           {
            "showarrow": false,
            "text": "t=3.538µs, τ=0.353µs",
            "x": 0.01,
            "xref": "paper",
            "y": 1.06,
            "yref": "paper"
           },
           {
            "font": {
             "color": "blue",
             "size": 14
            },
            "showarrow": false,
            "text": "En vuelo",
            "x": 0.99,
            "xref": "paper",
            "y": 1.05,
            "yref": "paper"
           }
          ]
         },
         "name": "21"
        },
        {
         "data": [
          {
           "line": {
            "color": "green",
            "width": 4
           },
           "mode": "lines",
           "name": "Superficie",
           "type": "scatter",
           "x": [
            -1,
            1
           ],
           "y": [
            0,
            0
           ]
          },
          {
           "line": {
            "color": "lightblue",
            "dash": "dash",
            "width": 4
           },
           "mode": "lines",
           "name": "Tope Atmósfera",
           "type": "scatter",
           "x": [
            -1,
            1
           ],
           "y": [
            10,
            10
           ]
          },
          {
           "line": {
            "color": "grey",
            "dash": "dot",
            "width": 1
           },
           "mode": "lines",
           "type": "scatter",
           "x": [
            0,
            0
           ],
           "y": [
            10,
            8.894472361809045
           ]
          },
          {
           "marker": {
            "color": "red",
            "size": 10
           },
           "mode": "markers",
           "type": "scatter",
           "x": [
            0
           ],
           "y": [
            8.894472361809045
           ]
          },
          {
           "marker": {
            "color": "black",
            "size": 12,
            "symbol": "x"
           },
           "mode": "markers",
           "type": "scatter",
           "x": [
            0
           ],
           "y": [
            null
           ]
          }
         ],
         "layout": {
          "annotations": [
           {
            "showarrow": false,
            "text": "V/c=0.995, γ=10.01, Δτ=2.20µs, H=10.0km",
            "x": 0.01,
            "xref": "paper",
            "y": 1.12,
            "yref": "paper"
           },
           {
            "showarrow": false,
            "text": "t=3.706µs, τ=0.370µs",
            "x": 0.01,
            "xref": "paper",
            "y": 1.06,
            "yref": "paper"
           },
           {
            "font": {
             "color": "blue",
             "size": 14
            },
            "showarrow": false,
            "text": "En vuelo",
            "x": 0.99,
            "xref": "paper",
            "y": 1.05,
            "yref": "paper"
           }
          ]
         },
         "name": "22"
        },
        {
         "data": [
          {
           "line": {
            "color": "green",
            "width": 4
           },
           "mode": "lines",
           "name": "Superficie",
           "type": "scatter",
           "x": [
            -1,
            1
           ],
           "y": [
            0,
            0
           ]
          },
          {
           "line": {
            "color": "lightblue",
            "dash": "dash",
            "width": 4
           },
           "mode": "lines",
           "name": "Tope Atmósfera",
           "type": "scatter",
           "x": [
            -1,
            1
           ],
           "y": [
            10,
            10
           ]
          },
          {
           "line": {
            "color": "grey",
            "dash": "dot",
            "width": 1
           },
           "mode": "lines",
           "type": "scatter",
           "x": [
            0,
            0
           ],
           "y": [
            10,
            8.844221105527637
           ]
          },
          {
           "marker": {
            "color": "red",
            "size": 10
           },
           "mode": "markers",
           "type": "scatter",
           "x": [
            0
           ],
           "y": [
            8.844221105527637
           ]
          },
          {
           "marker": {
            "color": "black",
            "size": 12,
            "symbol": "x"
           },
           "mode": "markers",
           "type": "scatter",
           "x": [
            0
           ],
           "y": [
            null
           ]
          }
         ],
         "layout": {
          "annotations": [
           {
            "showarrow": false,
            "text": "V/c=0.995, γ=10.01, Δτ=2.20µs, H=10.0km",
            "x": 0.01,
            "xref": "paper",
            "y": 1.12,
            "yref": "paper"
           },
           {
            "showarrow": false,
            "text": "t=3.875µs, τ=0.387µs",
            "x": 0.01,
            "xref": "paper",
            "y": 1.06,
            "yref": "paper"
           },
           {
            "font": {
             "color": "blue",
             "size": 14
            },
            "showarrow": false,
            "text": "En vuelo",
            "x": 0.99,
            "xref": "paper",
            "y": 1.05,
            "yref": "paper"
           }
          ]
         },
         "name": "23"
        },
        {
         "data": [
          {
           "line": {
            "color": "green",
            "width": 4
           },
           "mode": "lines",
           "name": "Superficie",
           "type": "scatter",
           "x": [
            -1,
            1
           ],
           "y": [
            0,
            0
           ]
          },
          {
           "line": {
            "color": "lightblue",
            "dash": "dash",
            "width": 4
           },
           "mode": "lines",
           "name": "Tope Atmósfera",
           "type": "scatter",
           "x": [
            -1,
            1
           ],
           "y": [
            10,
            10
           ]
          },
          {
           "line": {
            "color": "grey",
            "dash": "dot",
            "width": 1
           },
           "mode": "lines",
           "type": "scatter",
           "x": [
            0,
            0
           ],
           "y": [
            10,
            8.793969849246231
           ]
          },
          {
           "marker": {
            "color": "red",
            "size": 10
           },
           "mode": "markers",
           "type": "scatter",
           "x": [
            0
           ],
           "y": [
            8.793969849246231
           ]
          },
          {
           "marker": {
            "color": "black",
            "size": 12,
            "symbol": "x"
           },
           "mode": "markers",
           "type": "scatter",
           "x": [
            0
           ],
           "y": [
            null
           ]
          }
         ],
         "layout": {
          "annotations": [
           {
            "showarrow": false,
            "text": "V/c=0.995, γ=10.01, Δτ=2.20µs, H=10.0km",
            "x": 0.01,
            "xref": "paper",
            "y": 1.12,
            "yref": "paper"
           },
           {
            "showarrow": false,
            "text": "t=4.043µs, τ=0.404µs",
            "x": 0.01,
            "xref": "paper",
            "y": 1.06,
            "yref": "paper"
           },
           {
            "font": {
             "color": "blue",
             "size": 14
            },
            "showarrow": false,
            "text": "En vuelo",
            "x": 0.99,
            "xref": "paper",
            "y": 1.05,
            "yref": "paper"
           }
          ]
         },
         "name": "24"
        },
        {
         "data": [
          {
           "line": {
            "color": "green",
            "width": 4
           },
           "mode": "lines",
           "name": "Superficie",
           "type": "scatter",
           "x": [
            -1,
            1
           ],
           "y": [
            0,
            0
           ]
          },
          {
           "line": {
            "color": "lightblue",
            "dash": "dash",
            "width": 4
           },
           "mode": "lines",
           "name": "Tope Atmósfera",
           "type": "scatter",
           "x": [
            -1,
            1
           ],
           "y": [
            10,
            10
           ]
          },
          {
           "line": {
            "color": "grey",
            "dash": "dot",
            "width": 1
           },
           "mode": "lines",
           "type": "scatter",
           "x": [
            0,
            0
           ],
           "y": [
            10,
            8.743718592964823
           ]
          },
          {
           "marker": {
            "color": "red",
            "size": 10
           },
           "mode": "markers",
           "type": "scatter",
           "x": [
            0
           ],
           "y": [
            8.743718592964823
           ]
          },
          {
           "marker": {
            "color": "black",
            "size": 12,
            "symbol": "x"
           },
           "mode": "markers",
           "type": "scatter",
           "x": [
            0
           ],
           "y": [
            null
           ]
          }
         ],
         "layout": {
          "annotations": [
           {
            "showarrow": false,
            "text": "V/c=0.995, γ=10.01, Δτ=2.20µs, H=10.0km",
            "x": 0.01,
            "xref": "paper",
            "y": 1.12,
            "yref": "paper"
           },
           {
            "showarrow": false,
            "text": "t=4.212µs, τ=0.421µs",
            "x": 0.01,
            "xref": "paper",
            "y": 1.06,
            "yref": "paper"
           },
           {
            "font": {
             "color": "blue",
             "size": 14
            },
            "showarrow": false,
            "text": "En vuelo",
            "x": 0.99,
            "xref": "paper",
            "y": 1.05,
            "yref": "paper"
           }
          ]
         },
         "name": "25"
        },
        {
         "data": [
          {
           "line": {
            "color": "green",
            "width": 4
           },
           "mode": "lines",
           "name": "Superficie",
           "type": "scatter",
           "x": [
            -1,
            1
           ],
           "y": [
            0,
            0
           ]
          },
          {
           "line": {
            "color": "lightblue",
            "dash": "dash",
            "width": 4
           },
           "mode": "lines",
           "name": "Tope Atmósfera",
           "type": "scatter",
           "x": [
            -1,
            1
           ],
           "y": [
            10,
            10
           ]
          },
          {
           "line": {
            "color": "grey",
            "dash": "dot",
            "width": 1
           },
           "mode": "lines",
           "type": "scatter",
           "x": [
            0,
            0
           ],
           "y": [
            10,
            8.693467336683417
           ]
          },
          {
           "marker": {
            "color": "red",
            "size": 10
           },
           "mode": "markers",
           "type": "scatter",
           "x": [
            0
           ],
           "y": [
            8.693467336683417
           ]
          },
          {
           "marker": {
            "color": "black",
            "size": 12,
            "symbol": "x"
           },
           "mode": "markers",
           "type": "scatter",
           "x": [
            0
           ],
           "y": [
            null
           ]
          }
         ],
         "layout": {
          "annotations": [
           {
            "showarrow": false,
            "text": "V/c=0.995, γ=10.01, Δτ=2.20µs, H=10.0km",
            "x": 0.01,
            "xref": "paper",
            "y": 1.12,
            "yref": "paper"
           },
           {
            "showarrow": false,
            "text": "t=4.380µs, τ=0.437µs",
            "x": 0.01,
            "xref": "paper",
            "y": 1.06,
            "yref": "paper"
           },
           {
            "font": {
             "color": "blue",
             "size": 14
            },
            "showarrow": false,
            "text": "En vuelo",
            "x": 0.99,
            "xref": "paper",
            "y": 1.05,
            "yref": "paper"
           }
          ]
         },
         "name": "26"
        },
        {
         "data": [
          {
           "line": {
            "color": "green",
            "width": 4
           },
           "mode": "lines",
           "name": "Superficie",
           "type": "scatter",
           "x": [
            -1,
            1
           ],
           "y": [
            0,
            0
           ]
          },
          {
           "line": {
            "color": "lightblue",
            "dash": "dash",
            "width": 4
           },
           "mode": "lines",
           "name": "Tope Atmósfera",
           "type": "scatter",
           "x": [
            -1,
            1
           ],
           "y": [
            10,
            10
           ]
          },
          {
           "line": {
            "color": "grey",
            "dash": "dot",
            "width": 1
           },
           "mode": "lines",
           "type": "scatter",
           "x": [
            0,
            0
           ],
           "y": [
            10,
            8.64321608040201
           ]
          },
          {
           "marker": {
            "color": "red",
            "size": 10
           },
           "mode": "markers",
           "type": "scatter",
           "x": [
            0
           ],
           "y": [
            8.64321608040201
           ]
          },
          {
           "marker": {
            "color": "black",
            "size": 12,
            "symbol": "x"
           },
           "mode": "markers",
           "type": "scatter",
           "x": [
            0
           ],
           "y": [
            null
           ]
          }
         ],
         "layout": {
          "annotations": [
           {
            "showarrow": false,
            "text": "V/c=0.995, γ=10.01, Δτ=2.20µs, H=10.0km",
            "x": 0.01,
            "xref": "paper",
            "y": 1.12,
            "yref": "paper"
           },
           {
            "showarrow": false,
            "text": "t=4.548µs, τ=0.454µs",
            "x": 0.01,
            "xref": "paper",
            "y": 1.06,
            "yref": "paper"
           },
           {
            "font": {
             "color": "blue",
             "size": 14
            },
            "showarrow": false,
            "text": "En vuelo",
            "x": 0.99,
            "xref": "paper",
            "y": 1.05,
            "yref": "paper"
           }
          ]
         },
         "name": "27"
        },
        {
         "data": [
          {
           "line": {
            "color": "green",
            "width": 4
           },
           "mode": "lines",
           "name": "Superficie",
           "type": "scatter",
           "x": [
            -1,
            1
           ],
           "y": [
            0,
            0
           ]
          },
          {
           "line": {
            "color": "lightblue",
            "dash": "dash",
            "width": 4
           },
           "mode": "lines",
           "name": "Tope Atmósfera",
           "type": "scatter",
           "x": [
            -1,
            1
           ],
           "y": [
            10,
            10
           ]
          },
          {
           "line": {
            "color": "grey",
            "dash": "dot",
            "width": 1
           },
           "mode": "lines",
           "type": "scatter",
           "x": [
            0,
            0
           ],
           "y": [
            10,
            8.592964824120603
           ]
          },
          {
           "marker": {
            "color": "red",
            "size": 10
           },
           "mode": "markers",
           "type": "scatter",
           "x": [
            0
           ],
           "y": [
            8.592964824120603
           ]
          },
          {
           "marker": {
            "color": "black",
            "size": 12,
            "symbol": "x"
           },
           "mode": "markers",
           "type": "scatter",
           "x": [
            0
           ],
           "y": [
            null
           ]
          }
         ],
         "layout": {
          "annotations": [
           {
            "showarrow": false,
            "text": "V/c=0.995, γ=10.01, Δτ=2.20µs, H=10.0km",
            "x": 0.01,
            "xref": "paper",
            "y": 1.12,
            "yref": "paper"
           },
           {
            "showarrow": false,
            "text": "t=4.717µs, τ=0.471µs",
            "x": 0.01,
            "xref": "paper",
            "y": 1.06,
            "yref": "paper"
           },
           {
            "font": {
             "color": "blue",
             "size": 14
            },
            "showarrow": false,
            "text": "En vuelo",
            "x": 0.99,
            "xref": "paper",
            "y": 1.05,
            "yref": "paper"
           }
          ]
         },
         "name": "28"
        },
        {
         "data": [
          {
           "line": {
            "color": "green",
            "width": 4
           },
           "mode": "lines",
           "name": "Superficie",
           "type": "scatter",
           "x": [
            -1,
            1
           ],
           "y": [
            0,
            0
           ]
          },
          {
           "line": {
            "color": "lightblue",
            "dash": "dash",
            "width": 4
           },
           "mode": "lines",
           "name": "Tope Atmósfera",
           "type": "scatter",
           "x": [
            -1,
            1
           ],
           "y": [
            10,
            10
           ]
          },
          {
           "line": {
            "color": "grey",
            "dash": "dot",
            "width": 1
           },
           "mode": "lines",
           "type": "scatter",
           "x": [
            0,
            0
           ],
           "y": [
            10,
            8.542713567839195
           ]
          },
          {
           "marker": {
            "color": "red",
            "size": 10
           },
           "mode": "markers",
           "type": "scatter",
           "x": [
            0
           ],
           "y": [
            8.542713567839195
           ]
          },
          {
           "marker": {
            "color": "black",
            "size": 12,
            "symbol": "x"
           },
           "mode": "markers",
           "type": "scatter",
           "x": [
            0
           ],
           "y": [
            null
           ]
          }
         ],
         "layout": {
          "annotations": [
           {
            "showarrow": false,
            "text": "V/c=0.995, γ=10.01, Δτ=2.20µs, H=10.0km",
            "x": 0.01,
            "xref": "paper",
            "y": 1.12,
            "yref": "paper"
           },
           {
            "showarrow": false,
            "text": "t=4.885µs, τ=0.488µs",
            "x": 0.01,
            "xref": "paper",
            "y": 1.06,
            "yref": "paper"
           },
           {
            "font": {
             "color": "blue",
             "size": 14
            },
            "showarrow": false,
            "text": "En vuelo",
            "x": 0.99,
            "xref": "paper",
            "y": 1.05,
            "yref": "paper"
           }
          ]
         },
         "name": "29"
        },
        {
         "data": [
          {
           "line": {
            "color": "green",
            "width": 4
           },
           "mode": "lines",
           "name": "Superficie",
           "type": "scatter",
           "x": [
            -1,
            1
           ],
           "y": [
            0,
            0
           ]
          },
          {
           "line": {
            "color": "lightblue",
            "dash": "dash",
            "width": 4
           },
           "mode": "lines",
           "name": "Tope Atmósfera",
           "type": "scatter",
           "x": [
            -1,
            1
           ],
           "y": [
            10,
            10
           ]
          },
          {
           "line": {
            "color": "grey",
            "dash": "dot",
            "width": 1
           },
           "mode": "lines",
           "type": "scatter",
           "x": [
            0,
            0
           ],
           "y": [
            10,
            8.492462311557789
           ]
          },
          {
           "marker": {
            "color": "red",
            "size": 10
           },
           "mode": "markers",
           "type": "scatter",
           "x": [
            0
           ],
           "y": [
            8.492462311557789
           ]
          },
          {
           "marker": {
            "color": "black",
            "size": 12,
            "symbol": "x"
           },
           "mode": "markers",
           "type": "scatter",
           "x": [
            0
           ],
           "y": [
            null
           ]
          }
         ],
         "layout": {
          "annotations": [
           {
            "showarrow": false,
            "text": "V/c=0.995, γ=10.01, Δτ=2.20µs, H=10.0km",
            "x": 0.01,
            "xref": "paper",
            "y": 1.12,
            "yref": "paper"
           },
           {
            "showarrow": false,
            "text": "t=5.054µs, τ=0.505µs",
            "x": 0.01,
            "xref": "paper",
            "y": 1.06,
            "yref": "paper"
           },
           {
            "font": {
             "color": "blue",
             "size": 14
            },
            "showarrow": false,
            "text": "En vuelo",
            "x": 0.99,
            "xref": "paper",
            "y": 1.05,
            "yref": "paper"
           }
          ]
         },
         "name": "30"
        },
        {
         "data": [
          {
           "line": {
            "color": "green",
            "width": 4
           },
           "mode": "lines",
           "name": "Superficie",
           "type": "scatter",
           "x": [
            -1,
            1
           ],
           "y": [
            0,
            0
           ]
          },
          {
           "line": {
            "color": "lightblue",
            "dash": "dash",
            "width": 4
           },
           "mode": "lines",
           "name": "Tope Atmósfera",
           "type": "scatter",
           "x": [
            -1,
            1
           ],
           "y": [
            10,
            10
           ]
          },
          {
           "line": {
            "color": "grey",
            "dash": "dot",
            "width": 1
           },
           "mode": "lines",
           "type": "scatter",
           "x": [
            0,
            0
           ],
           "y": [
            10,
            8.442211055276381
           ]
          },
          {
           "marker": {
            "color": "red",
            "size": 10
           },
           "mode": "markers",
           "type": "scatter",
           "x": [
            0
           ],
           "y": [
            8.442211055276381
           ]
          },
          {
           "marker": {
            "color": "black",
            "size": 12,
            "symbol": "x"
           },
           "mode": "markers",
           "type": "scatter",
           "x": [
            0
           ],
           "y": [
            null
           ]
          }
         ],
         "layout": {
          "annotations": [
           {
            "showarrow": false,
            "text": "V/c=0.995, γ=10.01, Δτ=2.20µs, H=10.0km",
            "x": 0.01,
            "xref": "paper",
            "y": 1.12,
            "yref": "paper"
           },
           {
            "showarrow": false,
            "text": "t=5.222µs, τ=0.522µs",
            "x": 0.01,
            "xref": "paper",
            "y": 1.06,
            "yref": "paper"
           },
           {
            "font": {
             "color": "blue",
             "size": 14
            },
            "showarrow": false,
            "text": "En vuelo",
            "x": 0.99,
            "xref": "paper",
            "y": 1.05,
            "yref": "paper"
           }
          ]
         },
         "name": "31"
        },
        {
         "data": [
          {
           "line": {
            "color": "green",
            "width": 4
           },
           "mode": "lines",
           "name": "Superficie",
           "type": "scatter",
           "x": [
            -1,
            1
           ],
           "y": [
            0,
            0
           ]
          },
          {
           "line": {
            "color": "lightblue",
            "dash": "dash",
            "width": 4
           },
           "mode": "lines",
           "name": "Tope Atmósfera",
           "type": "scatter",
           "x": [
            -1,
            1
           ],
           "y": [
            10,
            10
           ]
          },
          {
           "line": {
            "color": "grey",
            "dash": "dot",
            "width": 1
           },
           "mode": "lines",
           "type": "scatter",
           "x": [
            0,
            0
           ],
           "y": [
            10,
            8.391959798994975
           ]
          },
          {
           "marker": {
            "color": "red",
            "size": 10
           },
           "mode": "markers",
           "type": "scatter",
           "x": [
            0
           ],
           "y": [
            8.391959798994975
           ]
          },
          {
           "marker": {
            "color": "black",
            "size": 12,
            "symbol": "x"
           },
           "mode": "markers",
           "type": "scatter",
           "x": [
            0
           ],
           "y": [
            null
           ]
          }
         ],
         "layout": {
          "annotations": [
           {
            "showarrow": false,
            "text": "V/c=0.995, γ=10.01, Δτ=2.20µs, H=10.0km",
            "x": 0.01,
            "xref": "paper",
            "y": 1.12,
            "yref": "paper"
           },
           {
            "showarrow": false,
            "text": "t=5.391µs, τ=0.538µs",
            "x": 0.01,
            "xref": "paper",
            "y": 1.06,
            "yref": "paper"
           },
           {
            "font": {
             "color": "blue",
             "size": 14
            },
            "showarrow": false,
            "text": "En vuelo",
            "x": 0.99,
            "xref": "paper",
            "y": 1.05,
            "yref": "paper"
           }
          ]
         },
         "name": "32"
        },
        {
         "data": [
          {
           "line": {
            "color": "green",
            "width": 4
           },
           "mode": "lines",
           "name": "Superficie",
           "type": "scatter",
           "x": [
            -1,
            1
           ],
           "y": [
            0,
            0
           ]
          },
          {
           "line": {
            "color": "lightblue",
            "dash": "dash",
            "width": 4
           },
           "mode": "lines",
           "name": "Tope Atmósfera",
           "type": "scatter",
           "x": [
            -1,
            1
           ],
           "y": [
            10,
            10
           ]
          },
          {
           "line": {
            "color": "grey",
            "dash": "dot",
            "width": 1
           },
           "mode": "lines",
           "type": "scatter",
           "x": [
            0,
            0
           ],
           "y": [
            10,
            8.341708542713567
           ]
          },
          {
           "marker": {
            "color": "red",
            "size": 10
           },
           "mode": "markers",
           "type": "scatter",
           "x": [
            0
           ],
           "y": [
            8.341708542713567
           ]
          },
          {
           "marker": {
            "color": "black",
            "size": 12,
            "symbol": "x"
           },
           "mode": "markers",
           "type": "scatter",
           "x": [
            0
           ],
           "y": [
            null
           ]
          }
         ],
         "layout": {
          "annotations": [
           {
            "showarrow": false,
            "text": "V/c=0.995, γ=10.01, Δτ=2.20µs, H=10.0km",
            "x": 0.01,
            "xref": "paper",
            "y": 1.12,
            "yref": "paper"
           },
           {
            "showarrow": false,
            "text": "t=5.559µs, τ=0.555µs",
            "x": 0.01,
            "xref": "paper",
            "y": 1.06,
            "yref": "paper"
           },
           {
            "font": {
             "color": "blue",
             "size": 14
            },
            "showarrow": false,
            "text": "En vuelo",
            "x": 0.99,
            "xref": "paper",
            "y": 1.05,
            "yref": "paper"
           }
          ]
         },
         "name": "33"
        },
        {
         "data": [
          {
           "line": {
            "color": "green",
            "width": 4
           },
           "mode": "lines",
           "name": "Superficie",
           "type": "scatter",
           "x": [
            -1,
            1
           ],
           "y": [
            0,
            0
           ]
          },
          {
           "line": {
            "color": "lightblue",
            "dash": "dash",
            "width": 4
           },
           "mode": "lines",
           "name": "Tope Atmósfera",
           "type": "scatter",
           "x": [
            -1,
            1
           ],
           "y": [
            10,
            10
           ]
          },
          {
           "line": {
            "color": "grey",
            "dash": "dot",
            "width": 1
           },
           "mode": "lines",
           "type": "scatter",
           "x": [
            0,
            0
           ],
           "y": [
            10,
            8.291457286432161
           ]
          },
          {
           "marker": {
            "color": "red",
            "size": 10
           },
           "mode": "markers",
           "type": "scatter",
           "x": [
            0
           ],
           "y": [
            8.291457286432161
           ]
          },
          {
           "marker": {
            "color": "black",
            "size": 12,
            "symbol": "x"
           },
           "mode": "markers",
           "type": "scatter",
           "x": [
            0
           ],
           "y": [
            null
           ]
          }
         ],
         "layout": {
          "annotations": [
           {
            "showarrow": false,
            "text": "V/c=0.995, γ=10.01, Δτ=2.20µs, H=10.0km",
            "x": 0.01,
            "xref": "paper",
            "y": 1.12,
            "yref": "paper"
           },
           {
            "showarrow": false,
            "text": "t=5.728µs, τ=0.572µs",
            "x": 0.01,
            "xref": "paper",
            "y": 1.06,
            "yref": "paper"
           },
           {
            "font": {
             "color": "blue",
             "size": 14
            },
            "showarrow": false,
            "text": "En vuelo",
            "x": 0.99,
            "xref": "paper",
            "y": 1.05,
            "yref": "paper"
           }
          ]
         },
         "name": "34"
        },
        {
         "data": [
          {
           "line": {
            "color": "green",
            "width": 4
           },
           "mode": "lines",
           "name": "Superficie",
           "type": "scatter",
           "x": [
            -1,
            1
           ],
           "y": [
            0,
            0
           ]
          },
          {
           "line": {
            "color": "lightblue",
            "dash": "dash",
            "width": 4
           },
           "mode": "lines",
           "name": "Tope Atmósfera",
           "type": "scatter",
           "x": [
            -1,
            1
           ],
           "y": [
            10,
            10
           ]
          },
          {
           "line": {
            "color": "grey",
            "dash": "dot",
            "width": 1
           },
           "mode": "lines",
           "type": "scatter",
           "x": [
            0,
            0
           ],
           "y": [
            10,
            8.241206030150753
           ]
          },
          {
           "marker": {
            "color": "red",
            "size": 10
           },
           "mode": "markers",
           "type": "scatter",
           "x": [
            0
           ],
           "y": [
            8.241206030150753
           ]
          },
          {
           "marker": {
            "color": "black",
            "size": 12,
            "symbol": "x"
           },
           "mode": "markers",
           "type": "scatter",
           "x": [
            0
           ],
           "y": [
            null
           ]
          }
         ],
         "layout": {
          "annotations": [
           {
            "showarrow": false,
            "text": "V/c=0.995, γ=10.01, Δτ=2.20µs, H=10.0km",
            "x": 0.01,
            "xref": "paper",
            "y": 1.12,
            "yref": "paper"
           },
           {
            "showarrow": false,
            "text": "t=5.896µs, τ=0.589µs",
            "x": 0.01,
            "xref": "paper",
            "y": 1.06,
            "yref": "paper"
           },
           {
            "font": {
             "color": "blue",
             "size": 14
            },
            "showarrow": false,
            "text": "En vuelo",
            "x": 0.99,
            "xref": "paper",
            "y": 1.05,
            "yref": "paper"
           }
          ]
         },
         "name": "35"
        },
        {
         "data": [
          {
           "line": {
            "color": "green",
            "width": 4
           },
           "mode": "lines",
           "name": "Superficie",
           "type": "scatter",
           "x": [
            -1,
            1
           ],
           "y": [
            0,
            0
           ]
          },
          {
           "line": {
            "color": "lightblue",
            "dash": "dash",
            "width": 4
           },
           "mode": "lines",
           "name": "Tope Atmósfera",
           "type": "scatter",
           "x": [
            -1,
            1
           ],
           "y": [
            10,
            10
           ]
          },
          {
           "line": {
            "color": "grey",
            "dash": "dot",
            "width": 1
           },
           "mode": "lines",
           "type": "scatter",
           "x": [
            0,
            0
           ],
           "y": [
            10,
            8.190954773869347
           ]
          },
          {
           "marker": {
            "color": "red",
            "size": 10
           },
           "mode": "markers",
           "type": "scatter",
           "x": [
            0
           ],
           "y": [
            8.190954773869347
           ]
          },
          {
           "marker": {
            "color": "black",
            "size": 12,
            "symbol": "x"
           },
           "mode": "markers",
           "type": "scatter",
           "x": [
            0
           ],
           "y": [
            null
           ]
          }
         ],
         "layout": {
          "annotations": [
           {
            "showarrow": false,
            "text": "V/c=0.995, γ=10.01, Δτ=2.20µs, H=10.0km",
            "x": 0.01,
            "xref": "paper",
            "y": 1.12,
            "yref": "paper"
           },
           {
            "showarrow": false,
            "text": "t=6.065µs, τ=0.606µs",
            "x": 0.01,
            "xref": "paper",
            "y": 1.06,
            "yref": "paper"
           },
           {
            "font": {
             "color": "blue",
             "size": 14
            },
            "showarrow": false,
            "text": "En vuelo",
            "x": 0.99,
            "xref": "paper",
            "y": 1.05,
            "yref": "paper"
           }
          ]
         },
         "name": "36"
        },
        {
         "data": [
          {
           "line": {
            "color": "green",
            "width": 4
           },
           "mode": "lines",
           "name": "Superficie",
           "type": "scatter",
           "x": [
            -1,
            1
           ],
           "y": [
            0,
            0
           ]
          },
          {
           "line": {
            "color": "lightblue",
            "dash": "dash",
            "width": 4
           },
           "mode": "lines",
           "name": "Tope Atmósfera",
           "type": "scatter",
           "x": [
            -1,
            1
           ],
           "y": [
            10,
            10
           ]
          },
          {
           "line": {
            "color": "grey",
            "dash": "dot",
            "width": 1
           },
           "mode": "lines",
           "type": "scatter",
           "x": [
            0,
            0
           ],
           "y": [
            10,
            8.140703517587939
           ]
          },
          {
           "marker": {
            "color": "red",
            "size": 10
           },
           "mode": "markers",
           "type": "scatter",
           "x": [
            0
           ],
           "y": [
            8.140703517587939
           ]
          },
          {
           "marker": {
            "color": "black",
            "size": 12,
            "symbol": "x"
           },
           "mode": "markers",
           "type": "scatter",
           "x": [
            0
           ],
           "y": [
            null
           ]
          }
         ],
         "layout": {
          "annotations": [
           {
            "showarrow": false,
            "text": "V/c=0.995, γ=10.01, Δτ=2.20µs, H=10.0km",
            "x": 0.01,
            "xref": "paper",
            "y": 1.12,
            "yref": "paper"
           },
           {
            "showarrow": false,
            "text": "t=6.233µs, τ=0.623µs",
            "x": 0.01,
            "xref": "paper",
            "y": 1.06,
            "yref": "paper"
           },
           {
            "font": {
             "color": "blue",
             "size": 14
            },
            "showarrow": false,
            "text": "En vuelo",
            "x": 0.99,
            "xref": "paper",
            "y": 1.05,
            "yref": "paper"
           }
          ]
         },
         "name": "37"
        },
        {
         "data": [
          {
           "line": {
            "color": "green",
            "width": 4
           },
           "mode": "lines",
           "name": "Superficie",
           "type": "scatter",
           "x": [
            -1,
            1
           ],
           "y": [
            0,
            0
           ]
          },
          {
           "line": {
            "color": "lightblue",
            "dash": "dash",
            "width": 4
           },
           "mode": "lines",
           "name": "Tope Atmósfera",
           "type": "scatter",
           "x": [
            -1,
            1
           ],
           "y": [
            10,
            10
           ]
          },
          {
           "line": {
            "color": "grey",
            "dash": "dot",
            "width": 1
           },
           "mode": "lines",
           "type": "scatter",
           "x": [
            0,
            0
           ],
           "y": [
            10,
            8.090452261306533
           ]
          },
          {
           "marker": {
            "color": "red",
            "size": 10
           },
           "mode": "markers",
           "type": "scatter",
           "x": [
            0
           ],
           "y": [
            8.090452261306533
           ]
          },
          {
           "marker": {
            "color": "black",
            "size": 12,
            "symbol": "x"
           },
           "mode": "markers",
           "type": "scatter",
           "x": [
            0
           ],
           "y": [
            null
           ]
          }
         ],
         "layout": {
          "annotations": [
           {
            "showarrow": false,
            "text": "V/c=0.995, γ=10.01, Δτ=2.20µs, H=10.0km",
            "x": 0.01,
            "xref": "paper",
            "y": 1.12,
            "yref": "paper"
           },
           {
            "showarrow": false,
            "text": "t=6.402µs, τ=0.639µs",
            "x": 0.01,
            "xref": "paper",
            "y": 1.06,
            "yref": "paper"
           },
           {
            "font": {
             "color": "blue",
             "size": 14
            },
            "showarrow": false,
            "text": "En vuelo",
            "x": 0.99,
            "xref": "paper",
            "y": 1.05,
            "yref": "paper"
           }
          ]
         },
         "name": "38"
        },
        {
         "data": [
          {
           "line": {
            "color": "green",
            "width": 4
           },
           "mode": "lines",
           "name": "Superficie",
           "type": "scatter",
           "x": [
            -1,
            1
           ],
           "y": [
            0,
            0
           ]
          },
          {
           "line": {
            "color": "lightblue",
            "dash": "dash",
            "width": 4
           },
           "mode": "lines",
           "name": "Tope Atmósfera",
           "type": "scatter",
           "x": [
            -1,
            1
           ],
           "y": [
            10,
            10
           ]
          },
          {
           "line": {
            "color": "grey",
            "dash": "dot",
            "width": 1
           },
           "mode": "lines",
           "type": "scatter",
           "x": [
            0,
            0
           ],
           "y": [
            10,
            8.040201005025125
           ]
          },
          {
           "marker": {
            "color": "red",
            "size": 10
           },
           "mode": "markers",
           "type": "scatter",
           "x": [
            0
           ],
           "y": [
            8.040201005025125
           ]
          },
          {
           "marker": {
            "color": "black",
            "size": 12,
            "symbol": "x"
           },
           "mode": "markers",
           "type": "scatter",
           "x": [
            0
           ],
           "y": [
            null
           ]
          }
         ],
         "layout": {
          "annotations": [
           {
            "showarrow": false,
            "text": "V/c=0.995, γ=10.01, Δτ=2.20µs, H=10.0km",
            "x": 0.01,
            "xref": "paper",
            "y": 1.12,
            "yref": "paper"
           },
           {
            "showarrow": false,
            "text": "t=6.570µs, τ=0.656µs",
            "x": 0.01,
            "xref": "paper",
            "y": 1.06,
            "yref": "paper"
           },
           {
            "font": {
             "color": "blue",
             "size": 14
            },
            "showarrow": false,
            "text": "En vuelo",
            "x": 0.99,
            "xref": "paper",
            "y": 1.05,
            "yref": "paper"
           }
          ]
         },
         "name": "39"
        },
        {
         "data": [
          {
           "line": {
            "color": "green",
            "width": 4
           },
           "mode": "lines",
           "name": "Superficie",
           "type": "scatter",
           "x": [
            -1,
            1
           ],
           "y": [
            0,
            0
           ]
          },
          {
           "line": {
            "color": "lightblue",
            "dash": "dash",
            "width": 4
           },
           "mode": "lines",
           "name": "Tope Atmósfera",
           "type": "scatter",
           "x": [
            -1,
            1
           ],
           "y": [
            10,
            10
           ]
          },
          {
           "line": {
            "color": "grey",
            "dash": "dot",
            "width": 1
           },
           "mode": "lines",
           "type": "scatter",
           "x": [
            0,
            0
           ],
           "y": [
            10,
            7.989949748743719
           ]
          },
          {
           "marker": {
            "color": "red",
            "size": 10
           },
           "mode": "markers",
           "type": "scatter",
           "x": [
            0
           ],
           "y": [
            7.989949748743719
           ]
          },
          {
           "marker": {
            "color": "black",
            "size": 12,
            "symbol": "x"
           },
           "mode": "markers",
           "type": "scatter",
           "x": [
            0
           ],
           "y": [
            null
           ]
          }
         ],
         "layout": {
          "annotations": [
           {
            "showarrow": false,
            "text": "V/c=0.995, γ=10.01, Δτ=2.20µs, H=10.0km",
            "x": 0.01,
            "xref": "paper",
            "y": 1.12,
            "yref": "paper"
           },
           {
            "showarrow": false,
            "text": "t=6.739µs, τ=0.673µs",
            "x": 0.01,
            "xref": "paper",
            "y": 1.06,
            "yref": "paper"
           },
           {
            "font": {
             "color": "blue",
             "size": 14
            },
            "showarrow": false,
            "text": "En vuelo",
            "x": 0.99,
            "xref": "paper",
            "y": 1.05,
            "yref": "paper"
           }
          ]
         },
         "name": "40"
        },
        {
         "data": [
          {
           "line": {
            "color": "green",
            "width": 4
           },
           "mode": "lines",
           "name": "Superficie",
           "type": "scatter",
           "x": [
            -1,
            1
           ],
           "y": [
            0,
            0
           ]
          },
          {
           "line": {
            "color": "lightblue",
            "dash": "dash",
            "width": 4
           },
           "mode": "lines",
           "name": "Tope Atmósfera",
           "type": "scatter",
           "x": [
            -1,
            1
           ],
           "y": [
            10,
            10
           ]
          },
          {
           "line": {
            "color": "grey",
            "dash": "dot",
            "width": 1
           },
           "mode": "lines",
           "type": "scatter",
           "x": [
            0,
            0
           ],
           "y": [
            10,
            7.939698492462312
           ]
          },
          {
           "marker": {
            "color": "red",
            "size": 10
           },
           "mode": "markers",
           "type": "scatter",
           "x": [
            0
           ],
           "y": [
            7.939698492462312
           ]
          },
          {
           "marker": {
            "color": "black",
            "size": 12,
            "symbol": "x"
           },
           "mode": "markers",
           "type": "scatter",
           "x": [
            0
           ],
           "y": [
            null
           ]
          }
         ],
         "layout": {
          "annotations": [
           {
            "showarrow": false,
            "text": "V/c=0.995, γ=10.01, Δτ=2.20µs, H=10.0km",
            "x": 0.01,
            "xref": "paper",
            "y": 1.12,
            "yref": "paper"
           },
           {
            "showarrow": false,
            "text": "t=6.907µs, τ=0.690µs",
            "x": 0.01,
            "xref": "paper",
            "y": 1.06,
            "yref": "paper"
           },
           {
            "font": {
             "color": "blue",
             "size": 14
            },
            "showarrow": false,
            "text": "En vuelo",
            "x": 0.99,
            "xref": "paper",
            "y": 1.05,
            "yref": "paper"
           }
          ]
         },
         "name": "41"
        },
        {
         "data": [
          {
           "line": {
            "color": "green",
            "width": 4
           },
           "mode": "lines",
           "name": "Superficie",
           "type": "scatter",
           "x": [
            -1,
            1
           ],
           "y": [
            0,
            0
           ]
          },
          {
           "line": {
            "color": "lightblue",
            "dash": "dash",
            "width": 4
           },
           "mode": "lines",
           "name": "Tope Atmósfera",
           "type": "scatter",
           "x": [
            -1,
            1
           ],
           "y": [
            10,
            10
           ]
          },
          {
           "line": {
            "color": "grey",
            "dash": "dot",
            "width": 1
           },
           "mode": "lines",
           "type": "scatter",
           "x": [
            0,
            0
           ],
           "y": [
            10,
            7.889447236180905
           ]
          },
          {
           "marker": {
            "color": "red",
            "size": 10
           },
           "mode": "markers",
           "type": "scatter",
           "x": [
            0
           ],
           "y": [
            7.889447236180905
           ]
          },
          {
           "marker": {
            "color": "black",
            "size": 12,
            "symbol": "x"
           },
           "mode": "markers",
           "type": "scatter",
           "x": [
            0
           ],
           "y": [
            null
           ]
          }
         ],
         "layout": {
          "annotations": [
           {
            "showarrow": false,
            "text": "V/c=0.995, γ=10.01, Δτ=2.20µs, H=10.0km",
            "x": 0.01,
            "xref": "paper",
            "y": 1.12,
            "yref": "paper"
           },
           {
            "showarrow": false,
            "text": "t=7.075µs, τ=0.707µs",
            "x": 0.01,
            "xref": "paper",
            "y": 1.06,
            "yref": "paper"
           },
           {
            "font": {
             "color": "blue",
             "size": 14
            },
            "showarrow": false,
            "text": "En vuelo",
            "x": 0.99,
            "xref": "paper",
            "y": 1.05,
            "yref": "paper"
           }
          ]
         },
         "name": "42"
        },
        {
         "data": [
          {
           "line": {
            "color": "green",
            "width": 4
           },
           "mode": "lines",
           "name": "Superficie",
           "type": "scatter",
           "x": [
            -1,
            1
           ],
           "y": [
            0,
            0
           ]
          },
          {
           "line": {
            "color": "lightblue",
            "dash": "dash",
            "width": 4
           },
           "mode": "lines",
           "name": "Tope Atmósfera",
           "type": "scatter",
           "x": [
            -1,
            1
           ],
           "y": [
            10,
            10
           ]
          },
          {
           "line": {
            "color": "grey",
            "dash": "dot",
            "width": 1
           },
           "mode": "lines",
           "type": "scatter",
           "x": [
            0,
            0
           ],
           "y": [
            10,
            7.839195979899497
           ]
          },
          {
           "marker": {
            "color": "red",
            "size": 10
           },
           "mode": "markers",
           "type": "scatter",
           "x": [
            0
           ],
           "y": [
            7.839195979899497
           ]
          },
          {
           "marker": {
            "color": "black",
            "size": 12,
            "symbol": "x"
           },
           "mode": "markers",
           "type": "scatter",
           "x": [
            0
           ],
           "y": [
            null
           ]
          }
         ],
         "layout": {
          "annotations": [
           {
            "showarrow": false,
            "text": "V/c=0.995, γ=10.01, Δτ=2.20µs, H=10.0km",
            "x": 0.01,
            "xref": "paper",
            "y": 1.12,
            "yref": "paper"
           },
           {
            "showarrow": false,
            "text": "t=7.244µs, τ=0.723µs",
            "x": 0.01,
            "xref": "paper",
            "y": 1.06,
            "yref": "paper"
           },
           {
            "font": {
             "color": "blue",
             "size": 14
            },
            "showarrow": false,
            "text": "En vuelo",
            "x": 0.99,
            "xref": "paper",
            "y": 1.05,
            "yref": "paper"
           }
          ]
         },
         "name": "43"
        },
        {
         "data": [
          {
           "line": {
            "color": "green",
            "width": 4
           },
           "mode": "lines",
           "name": "Superficie",
           "type": "scatter",
           "x": [
            -1,
            1
           ],
           "y": [
            0,
            0
           ]
          },
          {
           "line": {
            "color": "lightblue",
            "dash": "dash",
            "width": 4
           },
           "mode": "lines",
           "name": "Tope Atmósfera",
           "type": "scatter",
           "x": [
            -1,
            1
           ],
           "y": [
            10,
            10
           ]
          },
          {
           "line": {
            "color": "grey",
            "dash": "dot",
            "width": 1
           },
           "mode": "lines",
           "type": "scatter",
           "x": [
            0,
            0
           ],
           "y": [
            10,
            7.788944723618091
           ]
          },
          {
           "marker": {
            "color": "red",
            "size": 10
           },
           "mode": "markers",
           "type": "scatter",
           "x": [
            0
           ],
           "y": [
            7.788944723618091
           ]
          },
          {
           "marker": {
            "color": "black",
            "size": 12,
            "symbol": "x"
           },
           "mode": "markers",
           "type": "scatter",
           "x": [
            0
           ],
           "y": [
            null
           ]
          }
         ],
         "layout": {
          "annotations": [
           {
            "showarrow": false,
            "text": "V/c=0.995, γ=10.01, Δτ=2.20µs, H=10.0km",
            "x": 0.01,
            "xref": "paper",
            "y": 1.12,
            "yref": "paper"
           },
           {
            "showarrow": false,
            "text": "t=7.412µs, τ=0.740µs",
            "x": 0.01,
            "xref": "paper",
            "y": 1.06,
            "yref": "paper"
           },
           {
            "font": {
             "color": "blue",
             "size": 14
            },
            "showarrow": false,
            "text": "En vuelo",
            "x": 0.99,
            "xref": "paper",
            "y": 1.05,
            "yref": "paper"
           }
          ]
         },
         "name": "44"
        },
        {
         "data": [
          {
           "line": {
            "color": "green",
            "width": 4
           },
           "mode": "lines",
           "name": "Superficie",
           "type": "scatter",
           "x": [
            -1,
            1
           ],
           "y": [
            0,
            0
           ]
          },
          {
           "line": {
            "color": "lightblue",
            "dash": "dash",
            "width": 4
           },
           "mode": "lines",
           "name": "Tope Atmósfera",
           "type": "scatter",
           "x": [
            -1,
            1
           ],
           "y": [
            10,
            10
           ]
          },
          {
           "line": {
            "color": "grey",
            "dash": "dot",
            "width": 1
           },
           "mode": "lines",
           "type": "scatter",
           "x": [
            0,
            0
           ],
           "y": [
            10,
            7.738693467336684
           ]
          },
          {
           "marker": {
            "color": "red",
            "size": 10
           },
           "mode": "markers",
           "type": "scatter",
           "x": [
            0
           ],
           "y": [
            7.738693467336684
           ]
          },
          {
           "marker": {
            "color": "black",
            "size": 12,
            "symbol": "x"
           },
           "mode": "markers",
           "type": "scatter",
           "x": [
            0
           ],
           "y": [
            null
           ]
          }
         ],
         "layout": {
          "annotations": [
           {
            "showarrow": false,
            "text": "V/c=0.995, γ=10.01, Δτ=2.20µs, H=10.0km",
            "x": 0.01,
            "xref": "paper",
            "y": 1.12,
            "yref": "paper"
           },
           {
            "showarrow": false,
            "text": "t=7.581µs, τ=0.757µs",
            "x": 0.01,
            "xref": "paper",
            "y": 1.06,
            "yref": "paper"
           },
           {
            "font": {
             "color": "blue",
             "size": 14
            },
            "showarrow": false,
            "text": "En vuelo",
            "x": 0.99,
            "xref": "paper",
            "y": 1.05,
            "yref": "paper"
           }
          ]
         },
         "name": "45"
        },
        {
         "data": [
          {
           "line": {
            "color": "green",
            "width": 4
           },
           "mode": "lines",
           "name": "Superficie",
           "type": "scatter",
           "x": [
            -1,
            1
           ],
           "y": [
            0,
            0
           ]
          },
          {
           "line": {
            "color": "lightblue",
            "dash": "dash",
            "width": 4
           },
           "mode": "lines",
           "name": "Tope Atmósfera",
           "type": "scatter",
           "x": [
            -1,
            1
           ],
           "y": [
            10,
            10
           ]
          },
          {
           "line": {
            "color": "grey",
            "dash": "dot",
            "width": 1
           },
           "mode": "lines",
           "type": "scatter",
           "x": [
            0,
            0
           ],
           "y": [
            10,
            7.688442211055277
           ]
          },
          {
           "marker": {
            "color": "red",
            "size": 10
           },
           "mode": "markers",
           "type": "scatter",
           "x": [
            0
           ],
           "y": [
            7.688442211055277
           ]
          },
          {
           "marker": {
            "color": "black",
            "size": 12,
            "symbol": "x"
           },
           "mode": "markers",
           "type": "scatter",
           "x": [
            0
           ],
           "y": [
            null
           ]
          }
         ],
         "layout": {
          "annotations": [
           {
            "showarrow": false,
            "text": "V/c=0.995, γ=10.01, Δτ=2.20µs, H=10.0km",
            "x": 0.01,
            "xref": "paper",
            "y": 1.12,
            "yref": "paper"
           },
           {
            "showarrow": false,
            "text": "t=7.749µs, τ=0.774µs",
            "x": 0.01,
            "xref": "paper",
            "y": 1.06,
            "yref": "paper"
           },
           {
            "font": {
             "color": "blue",
             "size": 14
            },
            "showarrow": false,
            "text": "En vuelo",
            "x": 0.99,
            "xref": "paper",
            "y": 1.05,
            "yref": "paper"
           }
          ]
         },
         "name": "46"
        },
        {
         "data": [
          {
           "line": {
            "color": "green",
            "width": 4
           },
           "mode": "lines",
           "name": "Superficie",
           "type": "scatter",
           "x": [
            -1,
            1
           ],
           "y": [
            0,
            0
           ]
          },
          {
           "line": {
            "color": "lightblue",
            "dash": "dash",
            "width": 4
           },
           "mode": "lines",
           "name": "Tope Atmósfera",
           "type": "scatter",
           "x": [
            -1,
            1
           ],
           "y": [
            10,
            10
           ]
          },
          {
           "line": {
            "color": "grey",
            "dash": "dot",
            "width": 1
           },
           "mode": "lines",
           "type": "scatter",
           "x": [
            0,
            0
           ],
           "y": [
            10,
            7.638190954773869
           ]
          },
          {
           "marker": {
            "color": "red",
            "size": 10
           },
           "mode": "markers",
           "type": "scatter",
           "x": [
            0
           ],
           "y": [
            7.638190954773869
           ]
          },
          {
           "marker": {
            "color": "black",
            "size": 12,
            "symbol": "x"
           },
           "mode": "markers",
           "type": "scatter",
           "x": [
            0
           ],
           "y": [
            null
           ]
          }
         ],
         "layout": {
          "annotations": [
           {
            "showarrow": false,
            "text": "V/c=0.995, γ=10.01, Δτ=2.20µs, H=10.0km",
            "x": 0.01,
            "xref": "paper",
            "y": 1.12,
            "yref": "paper"
           },
           {
            "showarrow": false,
            "text": "t=7.918µs, τ=0.791µs",
            "x": 0.01,
            "xref": "paper",
            "y": 1.06,
            "yref": "paper"
           },
           {
            "font": {
             "color": "blue",
             "size": 14
            },
            "showarrow": false,
            "text": "En vuelo",
            "x": 0.99,
            "xref": "paper",
            "y": 1.05,
            "yref": "paper"
           }
          ]
         },
         "name": "47"
        },
        {
         "data": [
          {
           "line": {
            "color": "green",
            "width": 4
           },
           "mode": "lines",
           "name": "Superficie",
           "type": "scatter",
           "x": [
            -1,
            1
           ],
           "y": [
            0,
            0
           ]
          },
          {
           "line": {
            "color": "lightblue",
            "dash": "dash",
            "width": 4
           },
           "mode": "lines",
           "name": "Tope Atmósfera",
           "type": "scatter",
           "x": [
            -1,
            1
           ],
           "y": [
            10,
            10
           ]
          },
          {
           "line": {
            "color": "grey",
            "dash": "dot",
            "width": 1
           },
           "mode": "lines",
           "type": "scatter",
           "x": [
            0,
            0
           ],
           "y": [
            10,
            7.5879396984924625
           ]
          },
          {
           "marker": {
            "color": "red",
            "size": 10
           },
           "mode": "markers",
           "type": "scatter",
           "x": [
            0
           ],
           "y": [
            7.5879396984924625
           ]
          },
          {
           "marker": {
            "color": "black",
            "size": 12,
            "symbol": "x"
           },
           "mode": "markers",
           "type": "scatter",
           "x": [
            0
           ],
           "y": [
            null
           ]
          }
         ],
         "layout": {
          "annotations": [
           {
            "showarrow": false,
            "text": "V/c=0.995, γ=10.01, Δτ=2.20µs, H=10.0km",
            "x": 0.01,
            "xref": "paper",
            "y": 1.12,
            "yref": "paper"
           },
           {
            "showarrow": false,
            "text": "t=8.086µs, τ=0.808µs",
            "x": 0.01,
            "xref": "paper",
            "y": 1.06,
            "yref": "paper"
           },
           {
            "font": {
             "color": "blue",
             "size": 14
            },
            "showarrow": false,
            "text": "En vuelo",
            "x": 0.99,
            "xref": "paper",
            "y": 1.05,
            "yref": "paper"
           }
          ]
         },
         "name": "48"
        },
        {
         "data": [
          {
           "line": {
            "color": "green",
            "width": 4
           },
           "mode": "lines",
           "name": "Superficie",
           "type": "scatter",
           "x": [
            -1,
            1
           ],
           "y": [
            0,
            0
           ]
          },
          {
           "line": {
            "color": "lightblue",
            "dash": "dash",
            "width": 4
           },
           "mode": "lines",
           "name": "Tope Atmósfera",
           "type": "scatter",
           "x": [
            -1,
            1
           ],
           "y": [
            10,
            10
           ]
          },
          {
           "line": {
            "color": "grey",
            "dash": "dot",
            "width": 1
           },
           "mode": "lines",
           "type": "scatter",
           "x": [
            0,
            0
           ],
           "y": [
            10,
            7.5376884422110555
           ]
          },
          {
           "marker": {
            "color": "red",
            "size": 10
           },
           "mode": "markers",
           "type": "scatter",
           "x": [
            0
           ],
           "y": [
            7.5376884422110555
           ]
          },
          {
           "marker": {
            "color": "black",
            "size": 12,
            "symbol": "x"
           },
           "mode": "markers",
           "type": "scatter",
           "x": [
            0
           ],
           "y": [
            null
           ]
          }
         ],
         "layout": {
          "annotations": [
           {
            "showarrow": false,
            "text": "V/c=0.995, γ=10.01, Δτ=2.20µs, H=10.0km",
            "x": 0.01,
            "xref": "paper",
            "y": 1.12,
            "yref": "paper"
           },
           {
            "showarrow": false,
            "text": "t=8.255µs, τ=0.824µs",
            "x": 0.01,
            "xref": "paper",
            "y": 1.06,
            "yref": "paper"
           },
           {
            "font": {
             "color": "blue",
             "size": 14
            },
            "showarrow": false,
            "text": "En vuelo",
            "x": 0.99,
            "xref": "paper",
            "y": 1.05,
            "yref": "paper"
           }
          ]
         },
         "name": "49"
        },
        {
         "data": [
          {
           "line": {
            "color": "green",
            "width": 4
           },
           "mode": "lines",
           "name": "Superficie",
           "type": "scatter",
           "x": [
            -1,
            1
           ],
           "y": [
            0,
            0
           ]
          },
          {
           "line": {
            "color": "lightblue",
            "dash": "dash",
            "width": 4
           },
           "mode": "lines",
           "name": "Tope Atmósfera",
           "type": "scatter",
           "x": [
            -1,
            1
           ],
           "y": [
            10,
            10
           ]
          },
          {
           "line": {
            "color": "grey",
            "dash": "dot",
            "width": 1
           },
           "mode": "lines",
           "type": "scatter",
           "x": [
            0,
            0
           ],
           "y": [
            10,
            7.4874371859296485
           ]
          },
          {
           "marker": {
            "color": "red",
            "size": 10
           },
           "mode": "markers",
           "type": "scatter",
           "x": [
            0
           ],
           "y": [
            7.4874371859296485
           ]
          },
          {
           "marker": {
            "color": "black",
            "size": 12,
            "symbol": "x"
           },
           "mode": "markers",
           "type": "scatter",
           "x": [
            0
           ],
           "y": [
            null
           ]
          }
         ],
         "layout": {
          "annotations": [
           {
            "showarrow": false,
            "text": "V/c=0.995, γ=10.01, Δτ=2.20µs, H=10.0km",
            "x": 0.01,
            "xref": "paper",
            "y": 1.12,
            "yref": "paper"
           },
           {
            "showarrow": false,
            "text": "t=8.423µs, τ=0.841µs",
            "x": 0.01,
            "xref": "paper",
            "y": 1.06,
            "yref": "paper"
           },
           {
            "font": {
             "color": "blue",
             "size": 14
            },
            "showarrow": false,
            "text": "En vuelo",
            "x": 0.99,
            "xref": "paper",
            "y": 1.05,
            "yref": "paper"
           }
          ]
         },
         "name": "50"
        },
        {
         "data": [
          {
           "line": {
            "color": "green",
            "width": 4
           },
           "mode": "lines",
           "name": "Superficie",
           "type": "scatter",
           "x": [
            -1,
            1
           ],
           "y": [
            0,
            0
           ]
          },
          {
           "line": {
            "color": "lightblue",
            "dash": "dash",
            "width": 4
           },
           "mode": "lines",
           "name": "Tope Atmósfera",
           "type": "scatter",
           "x": [
            -1,
            1
           ],
           "y": [
            10,
            10
           ]
          },
          {
           "line": {
            "color": "grey",
            "dash": "dot",
            "width": 1
           },
           "mode": "lines",
           "type": "scatter",
           "x": [
            0,
            0
           ],
           "y": [
            10,
            7.4371859296482405
           ]
          },
          {
           "marker": {
            "color": "red",
            "size": 10
           },
           "mode": "markers",
           "type": "scatter",
           "x": [
            0
           ],
           "y": [
            7.4371859296482405
           ]
          },
          {
           "marker": {
            "color": "black",
            "size": 12,
            "symbol": "x"
           },
           "mode": "markers",
           "type": "scatter",
           "x": [
            0
           ],
           "y": [
            null
           ]
          }
         ],
         "layout": {
          "annotations": [
           {
            "showarrow": false,
            "text": "V/c=0.995, γ=10.01, Δτ=2.20µs, H=10.0km",
            "x": 0.01,
            "xref": "paper",
            "y": 1.12,
            "yref": "paper"
           },
           {
            "showarrow": false,
            "text": "t=8.592µs, τ=0.858µs",
            "x": 0.01,
            "xref": "paper",
            "y": 1.06,
            "yref": "paper"
           },
           {
            "font": {
             "color": "blue",
             "size": 14
            },
            "showarrow": false,
            "text": "En vuelo",
            "x": 0.99,
            "xref": "paper",
            "y": 1.05,
            "yref": "paper"
           }
          ]
         },
         "name": "51"
        },
        {
         "data": [
          {
           "line": {
            "color": "green",
            "width": 4
           },
           "mode": "lines",
           "name": "Superficie",
           "type": "scatter",
           "x": [
            -1,
            1
           ],
           "y": [
            0,
            0
           ]
          },
          {
           "line": {
            "color": "lightblue",
            "dash": "dash",
            "width": 4
           },
           "mode": "lines",
           "name": "Tope Atmósfera",
           "type": "scatter",
           "x": [
            -1,
            1
           ],
           "y": [
            10,
            10
           ]
          },
          {
           "line": {
            "color": "grey",
            "dash": "dot",
            "width": 1
           },
           "mode": "lines",
           "type": "scatter",
           "x": [
            0,
            0
           ],
           "y": [
            10,
            7.386934673366834
           ]
          },
          {
           "marker": {
            "color": "red",
            "size": 10
           },
           "mode": "markers",
           "type": "scatter",
           "x": [
            0
           ],
           "y": [
            7.386934673366834
           ]
          },
          {
           "marker": {
            "color": "black",
            "size": 12,
            "symbol": "x"
           },
           "mode": "markers",
           "type": "scatter",
           "x": [
            0
           ],
           "y": [
            null
           ]
          }
         ],
         "layout": {
          "annotations": [
           {
            "showarrow": false,
            "text": "V/c=0.995, γ=10.01, Δτ=2.20µs, H=10.0km",
            "x": 0.01,
            "xref": "paper",
            "y": 1.12,
            "yref": "paper"
           },
           {
            "showarrow": false,
            "text": "t=8.760µs, τ=0.875µs",
            "x": 0.01,
            "xref": "paper",
            "y": 1.06,
            "yref": "paper"
           },
           {
            "font": {
             "color": "blue",
             "size": 14
            },
            "showarrow": false,
            "text": "En vuelo",
            "x": 0.99,
            "xref": "paper",
            "y": 1.05,
            "yref": "paper"
           }
          ]
         },
         "name": "52"
        },
        {
         "data": [
          {
           "line": {
            "color": "green",
            "width": 4
           },
           "mode": "lines",
           "name": "Superficie",
           "type": "scatter",
           "x": [
            -1,
            1
           ],
           "y": [
            0,
            0
           ]
          },
          {
           "line": {
            "color": "lightblue",
            "dash": "dash",
            "width": 4
           },
           "mode": "lines",
           "name": "Tope Atmósfera",
           "type": "scatter",
           "x": [
            -1,
            1
           ],
           "y": [
            10,
            10
           ]
          },
          {
           "line": {
            "color": "grey",
            "dash": "dot",
            "width": 1
           },
           "mode": "lines",
           "type": "scatter",
           "x": [
            0,
            0
           ],
           "y": [
            10,
            7.3366834170854265
           ]
          },
          {
           "marker": {
            "color": "red",
            "size": 10
           },
           "mode": "markers",
           "type": "scatter",
           "x": [
            0
           ],
           "y": [
            7.3366834170854265
           ]
          },
          {
           "marker": {
            "color": "black",
            "size": 12,
            "symbol": "x"
           },
           "mode": "markers",
           "type": "scatter",
           "x": [
            0
           ],
           "y": [
            null
           ]
          }
         ],
         "layout": {
          "annotations": [
           {
            "showarrow": false,
            "text": "V/c=0.995, γ=10.01, Δτ=2.20µs, H=10.0km",
            "x": 0.01,
            "xref": "paper",
            "y": 1.12,
            "yref": "paper"
           },
           {
            "showarrow": false,
            "text": "t=8.929µs, τ=0.892µs",
            "x": 0.01,
            "xref": "paper",
            "y": 1.06,
            "yref": "paper"
           },
           {
            "font": {
             "color": "blue",
             "size": 14
            },
            "showarrow": false,
            "text": "En vuelo",
            "x": 0.99,
            "xref": "paper",
            "y": 1.05,
            "yref": "paper"
           }
          ]
         },
         "name": "53"
        },
        {
         "data": [
          {
           "line": {
            "color": "green",
            "width": 4
           },
           "mode": "lines",
           "name": "Superficie",
           "type": "scatter",
           "x": [
            -1,
            1
           ],
           "y": [
            0,
            0
           ]
          },
          {
           "line": {
            "color": "lightblue",
            "dash": "dash",
            "width": 4
           },
           "mode": "lines",
           "name": "Tope Atmósfera",
           "type": "scatter",
           "x": [
            -1,
            1
           ],
           "y": [
            10,
            10
           ]
          },
          {
           "line": {
            "color": "grey",
            "dash": "dot",
            "width": 1
           },
           "mode": "lines",
           "type": "scatter",
           "x": [
            0,
            0
           ],
           "y": [
            10,
            7.28643216080402
           ]
          },
          {
           "marker": {
            "color": "red",
            "size": 10
           },
           "mode": "markers",
           "type": "scatter",
           "x": [
            0
           ],
           "y": [
            7.28643216080402
           ]
          },
          {
           "marker": {
            "color": "black",
            "size": 12,
            "symbol": "x"
           },
           "mode": "markers",
           "type": "scatter",
           "x": [
            0
           ],
           "y": [
            null
           ]
          }
         ],
         "layout": {
          "annotations": [
           {
            "showarrow": false,
            "text": "V/c=0.995, γ=10.01, Δτ=2.20µs, H=10.0km",
            "x": 0.01,
            "xref": "paper",
            "y": 1.12,
            "yref": "paper"
           },
           {
            "showarrow": false,
            "text": "t=9.097µs, τ=0.909µs",
            "x": 0.01,
            "xref": "paper",
            "y": 1.06,
            "yref": "paper"
           },
           {
            "font": {
             "color": "blue",
             "size": 14
            },
            "showarrow": false,
            "text": "En vuelo",
            "x": 0.99,
            "xref": "paper",
            "y": 1.05,
            "yref": "paper"
           }
          ]
         },
         "name": "54"
        },
        {
         "data": [
          {
           "line": {
            "color": "green",
            "width": 4
           },
           "mode": "lines",
           "name": "Superficie",
           "type": "scatter",
           "x": [
            -1,
            1
           ],
           "y": [
            0,
            0
           ]
          },
          {
           "line": {
            "color": "lightblue",
            "dash": "dash",
            "width": 4
           },
           "mode": "lines",
           "name": "Tope Atmósfera",
           "type": "scatter",
           "x": [
            -1,
            1
           ],
           "y": [
            10,
            10
           ]
          },
          {
           "line": {
            "color": "grey",
            "dash": "dot",
            "width": 1
           },
           "mode": "lines",
           "type": "scatter",
           "x": [
            0,
            0
           ],
           "y": [
            10,
            7.236180904522612
           ]
          },
          {
           "marker": {
            "color": "red",
            "size": 10
           },
           "mode": "markers",
           "type": "scatter",
           "x": [
            0
           ],
           "y": [
            7.236180904522612
           ]
          },
          {
           "marker": {
            "color": "black",
            "size": 12,
            "symbol": "x"
           },
           "mode": "markers",
           "type": "scatter",
           "x": [
            0
           ],
           "y": [
            null
           ]
          }
         ],
         "layout": {
          "annotations": [
           {
            "showarrow": false,
            "text": "V/c=0.995, γ=10.01, Δτ=2.20µs, H=10.0km",
            "x": 0.01,
            "xref": "paper",
            "y": 1.12,
            "yref": "paper"
           },
           {
            "showarrow": false,
            "text": "t=9.265µs, τ=0.925µs",
            "x": 0.01,
            "xref": "paper",
            "y": 1.06,
            "yref": "paper"
           },
           {
            "font": {
             "color": "blue",
             "size": 14
            },
            "showarrow": false,
            "text": "En vuelo",
            "x": 0.99,
            "xref": "paper",
            "y": 1.05,
            "yref": "paper"
           }
          ]
         },
         "name": "55"
        },
        {
         "data": [
          {
           "line": {
            "color": "green",
            "width": 4
           },
           "mode": "lines",
           "name": "Superficie",
           "type": "scatter",
           "x": [
            -1,
            1
           ],
           "y": [
            0,
            0
           ]
          },
          {
           "line": {
            "color": "lightblue",
            "dash": "dash",
            "width": 4
           },
           "mode": "lines",
           "name": "Tope Atmósfera",
           "type": "scatter",
           "x": [
            -1,
            1
           ],
           "y": [
            10,
            10
           ]
          },
          {
           "line": {
            "color": "grey",
            "dash": "dot",
            "width": 1
           },
           "mode": "lines",
           "type": "scatter",
           "x": [
            0,
            0
           ],
           "y": [
            10,
            7.185929648241206
           ]
          },
          {
           "marker": {
            "color": "red",
            "size": 10
           },
           "mode": "markers",
           "type": "scatter",
           "x": [
            0
           ],
           "y": [
            7.185929648241206
           ]
          },
          {
           "marker": {
            "color": "black",
            "size": 12,
            "symbol": "x"
           },
           "mode": "markers",
           "type": "scatter",
           "x": [
            0
           ],
           "y": [
            null
           ]
          }
         ],
         "layout": {
          "annotations": [
           {
            "showarrow": false,
            "text": "V/c=0.995, γ=10.01, Δτ=2.20µs, H=10.0km",
            "x": 0.01,
            "xref": "paper",
            "y": 1.12,
            "yref": "paper"
           },
           {
            "showarrow": false,
            "text": "t=9.434µs, τ=0.942µs",
            "x": 0.01,
            "xref": "paper",
            "y": 1.06,
            "yref": "paper"
           },
           {
            "font": {
             "color": "blue",
             "size": 14
            },
            "showarrow": false,
            "text": "En vuelo",
            "x": 0.99,
            "xref": "paper",
            "y": 1.05,
            "yref": "paper"
           }
          ]
         },
         "name": "56"
        },
        {
         "data": [
          {
           "line": {
            "color": "green",
            "width": 4
           },
           "mode": "lines",
           "name": "Superficie",
           "type": "scatter",
           "x": [
            -1,
            1
           ],
           "y": [
            0,
            0
           ]
          },
          {
           "line": {
            "color": "lightblue",
            "dash": "dash",
            "width": 4
           },
           "mode": "lines",
           "name": "Tope Atmósfera",
           "type": "scatter",
           "x": [
            -1,
            1
           ],
           "y": [
            10,
            10
           ]
          },
          {
           "line": {
            "color": "grey",
            "dash": "dot",
            "width": 1
           },
           "mode": "lines",
           "type": "scatter",
           "x": [
            0,
            0
           ],
           "y": [
            10,
            7.135678391959799
           ]
          },
          {
           "marker": {
            "color": "red",
            "size": 10
           },
           "mode": "markers",
           "type": "scatter",
           "x": [
            0
           ],
           "y": [
            7.135678391959799
           ]
          },
          {
           "marker": {
            "color": "black",
            "size": 12,
            "symbol": "x"
           },
           "mode": "markers",
           "type": "scatter",
           "x": [
            0
           ],
           "y": [
            null
           ]
          }
         ],
         "layout": {
          "annotations": [
           {
            "showarrow": false,
            "text": "V/c=0.995, γ=10.01, Δτ=2.20µs, H=10.0km",
            "x": 0.01,
            "xref": "paper",
            "y": 1.12,
            "yref": "paper"
           },
           {
            "showarrow": false,
            "text": "t=9.602µs, τ=0.959µs",
            "x": 0.01,
            "xref": "paper",
            "y": 1.06,
            "yref": "paper"
           },
           {
            "font": {
             "color": "blue",
             "size": 14
            },
            "showarrow": false,
            "text": "En vuelo",
            "x": 0.99,
            "xref": "paper",
            "y": 1.05,
            "yref": "paper"
           }
          ]
         },
         "name": "57"
        },
        {
         "data": [
          {
           "line": {
            "color": "green",
            "width": 4
           },
           "mode": "lines",
           "name": "Superficie",
           "type": "scatter",
           "x": [
            -1,
            1
           ],
           "y": [
            0,
            0
           ]
          },
          {
           "line": {
            "color": "lightblue",
            "dash": "dash",
            "width": 4
           },
           "mode": "lines",
           "name": "Tope Atmósfera",
           "type": "scatter",
           "x": [
            -1,
            1
           ],
           "y": [
            10,
            10
           ]
          },
          {
           "line": {
            "color": "grey",
            "dash": "dot",
            "width": 1
           },
           "mode": "lines",
           "type": "scatter",
           "x": [
            0,
            0
           ],
           "y": [
            10,
            7.085427135678392
           ]
          },
          {
           "marker": {
            "color": "red",
            "size": 10
           },
           "mode": "markers",
           "type": "scatter",
           "x": [
            0
           ],
           "y": [
            7.085427135678392
           ]
          },
          {
           "marker": {
            "color": "black",
            "size": 12,
            "symbol": "x"
           },
           "mode": "markers",
           "type": "scatter",
           "x": [
            0
           ],
           "y": [
            null
           ]
          }
         ],
         "layout": {
          "annotations": [
           {
            "showarrow": false,
            "text": "V/c=0.995, γ=10.01, Δτ=2.20µs, H=10.0km",
            "x": 0.01,
            "xref": "paper",
            "y": 1.12,
            "yref": "paper"
           },
           {
            "showarrow": false,
            "text": "t=9.771µs, τ=0.976µs",
            "x": 0.01,
            "xref": "paper",
            "y": 1.06,
            "yref": "paper"
           },
           {
            "font": {
             "color": "blue",
             "size": 14
            },
            "showarrow": false,
            "text": "En vuelo",
            "x": 0.99,
            "xref": "paper",
            "y": 1.05,
            "yref": "paper"
           }
          ]
         },
         "name": "58"
        },
        {
         "data": [
          {
           "line": {
            "color": "green",
            "width": 4
           },
           "mode": "lines",
           "name": "Superficie",
           "type": "scatter",
           "x": [
            -1,
            1
           ],
           "y": [
            0,
            0
           ]
          },
          {
           "line": {
            "color": "lightblue",
            "dash": "dash",
            "width": 4
           },
           "mode": "lines",
           "name": "Tope Atmósfera",
           "type": "scatter",
           "x": [
            -1,
            1
           ],
           "y": [
            10,
            10
           ]
          },
          {
           "line": {
            "color": "grey",
            "dash": "dot",
            "width": 1
           },
           "mode": "lines",
           "type": "scatter",
           "x": [
            0,
            0
           ],
           "y": [
            10,
            7.035175879396984
           ]
          },
          {
           "marker": {
            "color": "red",
            "size": 10
           },
           "mode": "markers",
           "type": "scatter",
           "x": [
            0
           ],
           "y": [
            7.035175879396984
           ]
          },
          {
           "marker": {
            "color": "black",
            "size": 12,
            "symbol": "x"
           },
           "mode": "markers",
           "type": "scatter",
           "x": [
            0
           ],
           "y": [
            null
           ]
          }
         ],
         "layout": {
          "annotations": [
           {
            "showarrow": false,
            "text": "V/c=0.995, γ=10.01, Δτ=2.20µs, H=10.0km",
            "x": 0.01,
            "xref": "paper",
            "y": 1.12,
            "yref": "paper"
           },
           {
            "showarrow": false,
            "text": "t=9.939µs, τ=0.993µs",
            "x": 0.01,
            "xref": "paper",
            "y": 1.06,
            "yref": "paper"
           },
           {
            "font": {
             "color": "blue",
             "size": 14
            },
            "showarrow": false,
            "text": "En vuelo",
            "x": 0.99,
            "xref": "paper",
            "y": 1.05,
            "yref": "paper"
           }
          ]
         },
         "name": "59"
        },
        {
         "data": [
          {
           "line": {
            "color": "green",
            "width": 4
           },
           "mode": "lines",
           "name": "Superficie",
           "type": "scatter",
           "x": [
            -1,
            1
           ],
           "y": [
            0,
            0
           ]
          },
          {
           "line": {
            "color": "lightblue",
            "dash": "dash",
            "width": 4
           },
           "mode": "lines",
           "name": "Tope Atmósfera",
           "type": "scatter",
           "x": [
            -1,
            1
           ],
           "y": [
            10,
            10
           ]
          },
          {
           "line": {
            "color": "grey",
            "dash": "dot",
            "width": 1
           },
           "mode": "lines",
           "type": "scatter",
           "x": [
            0,
            0
           ],
           "y": [
            10,
            6.984924623115578
           ]
          },
          {
           "marker": {
            "color": "red",
            "size": 10
           },
           "mode": "markers",
           "type": "scatter",
           "x": [
            0
           ],
           "y": [
            6.984924623115578
           ]
          },
          {
           "marker": {
            "color": "black",
            "size": 12,
            "symbol": "x"
           },
           "mode": "markers",
           "type": "scatter",
           "x": [
            0
           ],
           "y": [
            null
           ]
          }
         ],
         "layout": {
          "annotations": [
           {
            "showarrow": false,
            "text": "V/c=0.995, γ=10.01, Δτ=2.20µs, H=10.0km",
            "x": 0.01,
            "xref": "paper",
            "y": 1.12,
            "yref": "paper"
           },
           {
            "showarrow": false,
            "text": "t=10.108µs, τ=1.010µs",
            "x": 0.01,
            "xref": "paper",
            "y": 1.06,
            "yref": "paper"
           },
           {
            "font": {
             "color": "blue",
             "size": 14
            },
            "showarrow": false,
            "text": "En vuelo",
            "x": 0.99,
            "xref": "paper",
            "y": 1.05,
            "yref": "paper"
           }
          ]
         },
         "name": "60"
        },
        {
         "data": [
          {
           "line": {
            "color": "green",
            "width": 4
           },
           "mode": "lines",
           "name": "Superficie",
           "type": "scatter",
           "x": [
            -1,
            1
           ],
           "y": [
            0,
            0
           ]
          },
          {
           "line": {
            "color": "lightblue",
            "dash": "dash",
            "width": 4
           },
           "mode": "lines",
           "name": "Tope Atmósfera",
           "type": "scatter",
           "x": [
            -1,
            1
           ],
           "y": [
            10,
            10
           ]
          },
          {
           "line": {
            "color": "grey",
            "dash": "dot",
            "width": 1
           },
           "mode": "lines",
           "type": "scatter",
           "x": [
            0,
            0
           ],
           "y": [
            10,
            6.93467336683417
           ]
          },
          {
           "marker": {
            "color": "red",
            "size": 10
           },
           "mode": "markers",
           "type": "scatter",
           "x": [
            0
           ],
           "y": [
            6.93467336683417
           ]
          },
          {
           "marker": {
            "color": "black",
            "size": 12,
            "symbol": "x"
           },
           "mode": "markers",
           "type": "scatter",
           "x": [
            0
           ],
           "y": [
            null
           ]
          }
         ],
         "layout": {
          "annotations": [
           {
            "showarrow": false,
            "text": "V/c=0.995, γ=10.01, Δτ=2.20µs, H=10.0km",
            "x": 0.01,
            "xref": "paper",
            "y": 1.12,
            "yref": "paper"
           },
           {
            "showarrow": false,
            "text": "t=10.276µs, τ=1.026µs",
            "x": 0.01,
            "xref": "paper",
            "y": 1.06,
            "yref": "paper"
           },
           {
            "font": {
             "color": "blue",
             "size": 14
            },
            "showarrow": false,
            "text": "En vuelo",
            "x": 0.99,
            "xref": "paper",
            "y": 1.05,
            "yref": "paper"
           }
          ]
         },
         "name": "61"
        },
        {
         "data": [
          {
           "line": {
            "color": "green",
            "width": 4
           },
           "mode": "lines",
           "name": "Superficie",
           "type": "scatter",
           "x": [
            -1,
            1
           ],
           "y": [
            0,
            0
           ]
          },
          {
           "line": {
            "color": "lightblue",
            "dash": "dash",
            "width": 4
           },
           "mode": "lines",
           "name": "Tope Atmósfera",
           "type": "scatter",
           "x": [
            -1,
            1
           ],
           "y": [
            10,
            10
           ]
          },
          {
           "line": {
            "color": "grey",
            "dash": "dot",
            "width": 1
           },
           "mode": "lines",
           "type": "scatter",
           "x": [
            0,
            0
           ],
           "y": [
            10,
            6.884422110552763
           ]
          },
          {
           "marker": {
            "color": "red",
            "size": 10
           },
           "mode": "markers",
           "type": "scatter",
           "x": [
            0
           ],
           "y": [
            6.884422110552763
           ]
          },
          {
           "marker": {
            "color": "black",
            "size": 12,
            "symbol": "x"
           },
           "mode": "markers",
           "type": "scatter",
           "x": [
            0
           ],
           "y": [
            null
           ]
          }
         ],
         "layout": {
          "annotations": [
           {
            "showarrow": false,
            "text": "V/c=0.995, γ=10.01, Δτ=2.20µs, H=10.0km",
            "x": 0.01,
            "xref": "paper",
            "y": 1.12,
            "yref": "paper"
           },
           {
            "showarrow": false,
            "text": "t=10.445µs, τ=1.043µs",
            "x": 0.01,
            "xref": "paper",
            "y": 1.06,
            "yref": "paper"
           },
           {
            "font": {
             "color": "blue",
             "size": 14
            },
            "showarrow": false,
            "text": "En vuelo",
            "x": 0.99,
            "xref": "paper",
            "y": 1.05,
            "yref": "paper"
           }
          ]
         },
         "name": "62"
        },
        {
         "data": [
          {
           "line": {
            "color": "green",
            "width": 4
           },
           "mode": "lines",
           "name": "Superficie",
           "type": "scatter",
           "x": [
            -1,
            1
           ],
           "y": [
            0,
            0
           ]
          },
          {
           "line": {
            "color": "lightblue",
            "dash": "dash",
            "width": 4
           },
           "mode": "lines",
           "name": "Tope Atmósfera",
           "type": "scatter",
           "x": [
            -1,
            1
           ],
           "y": [
            10,
            10
           ]
          },
          {
           "line": {
            "color": "grey",
            "dash": "dot",
            "width": 1
           },
           "mode": "lines",
           "type": "scatter",
           "x": [
            0,
            0
           ],
           "y": [
            10,
            6.834170854271356
           ]
          },
          {
           "marker": {
            "color": "red",
            "size": 10
           },
           "mode": "markers",
           "type": "scatter",
           "x": [
            0
           ],
           "y": [
            6.834170854271356
           ]
          },
          {
           "marker": {
            "color": "black",
            "size": 12,
            "symbol": "x"
           },
           "mode": "markers",
           "type": "scatter",
           "x": [
            0
           ],
           "y": [
            null
           ]
          }
         ],
         "layout": {
          "annotations": [
           {
            "showarrow": false,
            "text": "V/c=0.995, γ=10.01, Δτ=2.20µs, H=10.0km",
            "x": 0.01,
            "xref": "paper",
            "y": 1.12,
            "yref": "paper"
           },
           {
            "showarrow": false,
            "text": "t=10.613µs, τ=1.060µs",
            "x": 0.01,
            "xref": "paper",
            "y": 1.06,
            "yref": "paper"
           },
           {
            "font": {
             "color": "blue",
             "size": 14
            },
            "showarrow": false,
            "text": "En vuelo",
            "x": 0.99,
            "xref": "paper",
            "y": 1.05,
            "yref": "paper"
           }
          ]
         },
         "name": "63"
        },
        {
         "data": [
          {
           "line": {
            "color": "green",
            "width": 4
           },
           "mode": "lines",
           "name": "Superficie",
           "type": "scatter",
           "x": [
            -1,
            1
           ],
           "y": [
            0,
            0
           ]
          },
          {
           "line": {
            "color": "lightblue",
            "dash": "dash",
            "width": 4
           },
           "mode": "lines",
           "name": "Tope Atmósfera",
           "type": "scatter",
           "x": [
            -1,
            1
           ],
           "y": [
            10,
            10
           ]
          },
          {
           "line": {
            "color": "grey",
            "dash": "dot",
            "width": 1
           },
           "mode": "lines",
           "type": "scatter",
           "x": [
            0,
            0
           ],
           "y": [
            10,
            6.78391959798995
           ]
          },
          {
           "marker": {
            "color": "red",
            "size": 10
           },
           "mode": "markers",
           "type": "scatter",
           "x": [
            0
           ],
           "y": [
            6.78391959798995
           ]
          },
          {
           "marker": {
            "color": "black",
            "size": 12,
            "symbol": "x"
           },
           "mode": "markers",
           "type": "scatter",
           "x": [
            0
           ],
           "y": [
            null
           ]
          }
         ],
         "layout": {
          "annotations": [
           {
            "showarrow": false,
            "text": "V/c=0.995, γ=10.01, Δτ=2.20µs, H=10.0km",
            "x": 0.01,
            "xref": "paper",
            "y": 1.12,
            "yref": "paper"
           },
           {
            "showarrow": false,
            "text": "t=10.782µs, τ=1.077µs",
            "x": 0.01,
            "xref": "paper",
            "y": 1.06,
            "yref": "paper"
           },
           {
            "font": {
             "color": "blue",
             "size": 14
            },
            "showarrow": false,
            "text": "En vuelo",
            "x": 0.99,
            "xref": "paper",
            "y": 1.05,
            "yref": "paper"
           }
          ]
         },
         "name": "64"
        },
        {
         "data": [
          {
           "line": {
            "color": "green",
            "width": 4
           },
           "mode": "lines",
           "name": "Superficie",
           "type": "scatter",
           "x": [
            -1,
            1
           ],
           "y": [
            0,
            0
           ]
          },
          {
           "line": {
            "color": "lightblue",
            "dash": "dash",
            "width": 4
           },
           "mode": "lines",
           "name": "Tope Atmósfera",
           "type": "scatter",
           "x": [
            -1,
            1
           ],
           "y": [
            10,
            10
           ]
          },
          {
           "line": {
            "color": "grey",
            "dash": "dot",
            "width": 1
           },
           "mode": "lines",
           "type": "scatter",
           "x": [
            0,
            0
           ],
           "y": [
            10,
            6.733668341708542
           ]
          },
          {
           "marker": {
            "color": "red",
            "size": 10
           },
           "mode": "markers",
           "type": "scatter",
           "x": [
            0
           ],
           "y": [
            6.733668341708542
           ]
          },
          {
           "marker": {
            "color": "black",
            "size": 12,
            "symbol": "x"
           },
           "mode": "markers",
           "type": "scatter",
           "x": [
            0
           ],
           "y": [
            null
           ]
          }
         ],
         "layout": {
          "annotations": [
           {
            "showarrow": false,
            "text": "V/c=0.995, γ=10.01, Δτ=2.20µs, H=10.0km",
            "x": 0.01,
            "xref": "paper",
            "y": 1.12,
            "yref": "paper"
           },
           {
            "showarrow": false,
            "text": "t=10.950µs, τ=1.094µs",
            "x": 0.01,
            "xref": "paper",
            "y": 1.06,
            "yref": "paper"
           },
           {
            "font": {
             "color": "blue",
             "size": 14
            },
            "showarrow": false,
            "text": "En vuelo",
            "x": 0.99,
            "xref": "paper",
            "y": 1.05,
            "yref": "paper"
           }
          ]
         },
         "name": "65"
        },
        {
         "data": [
          {
           "line": {
            "color": "green",
            "width": 4
           },
           "mode": "lines",
           "name": "Superficie",
           "type": "scatter",
           "x": [
            -1,
            1
           ],
           "y": [
            0,
            0
           ]
          },
          {
           "line": {
            "color": "lightblue",
            "dash": "dash",
            "width": 4
           },
           "mode": "lines",
           "name": "Tope Atmósfera",
           "type": "scatter",
           "x": [
            -1,
            1
           ],
           "y": [
            10,
            10
           ]
          },
          {
           "line": {
            "color": "grey",
            "dash": "dot",
            "width": 1
           },
           "mode": "lines",
           "type": "scatter",
           "x": [
            0,
            0
           ],
           "y": [
            10,
            6.683417085427136
           ]
          },
          {
           "marker": {
            "color": "red",
            "size": 10
           },
           "mode": "markers",
           "type": "scatter",
           "x": [
            0
           ],
           "y": [
            6.683417085427136
           ]
          },
          {
           "marker": {
            "color": "black",
            "size": 12,
            "symbol": "x"
           },
           "mode": "markers",
           "type": "scatter",
           "x": [
            0
           ],
           "y": [
            null
           ]
          }
         ],
         "layout": {
          "annotations": [
           {
            "showarrow": false,
            "text": "V/c=0.995, γ=10.01, Δτ=2.20µs, H=10.0km",
            "x": 0.01,
            "xref": "paper",
            "y": 1.12,
            "yref": "paper"
           },
           {
            "showarrow": false,
            "text": "t=11.119µs, τ=1.110µs",
            "x": 0.01,
            "xref": "paper",
            "y": 1.06,
            "yref": "paper"
           },
           {
            "font": {
             "color": "blue",
             "size": 14
            },
            "showarrow": false,
            "text": "En vuelo",
            "x": 0.99,
            "xref": "paper",
            "y": 1.05,
            "yref": "paper"
           }
          ]
         },
         "name": "66"
        },
        {
         "data": [
          {
           "line": {
            "color": "green",
            "width": 4
           },
           "mode": "lines",
           "name": "Superficie",
           "type": "scatter",
           "x": [
            -1,
            1
           ],
           "y": [
            0,
            0
           ]
          },
          {
           "line": {
            "color": "lightblue",
            "dash": "dash",
            "width": 4
           },
           "mode": "lines",
           "name": "Tope Atmósfera",
           "type": "scatter",
           "x": [
            -1,
            1
           ],
           "y": [
            10,
            10
           ]
          },
          {
           "line": {
            "color": "grey",
            "dash": "dot",
            "width": 1
           },
           "mode": "lines",
           "type": "scatter",
           "x": [
            0,
            0
           ],
           "y": [
            10,
            6.633165829145728
           ]
          },
          {
           "marker": {
            "color": "red",
            "size": 10
           },
           "mode": "markers",
           "type": "scatter",
           "x": [
            0
           ],
           "y": [
            6.633165829145728
           ]
          },
          {
           "marker": {
            "color": "black",
            "size": 12,
            "symbol": "x"
           },
           "mode": "markers",
           "type": "scatter",
           "x": [
            0
           ],
           "y": [
            null
           ]
          }
         ],
         "layout": {
          "annotations": [
           {
            "showarrow": false,
            "text": "V/c=0.995, γ=10.01, Δτ=2.20µs, H=10.0km",
            "x": 0.01,
            "xref": "paper",
            "y": 1.12,
            "yref": "paper"
           },
           {
            "showarrow": false,
            "text": "t=11.287µs, τ=1.127µs",
            "x": 0.01,
            "xref": "paper",
            "y": 1.06,
            "yref": "paper"
           },
           {
            "font": {
             "color": "blue",
             "size": 14
            },
            "showarrow": false,
            "text": "En vuelo",
            "x": 0.99,
            "xref": "paper",
            "y": 1.05,
            "yref": "paper"
           }
          ]
         },
         "name": "67"
        },
        {
         "data": [
          {
           "line": {
            "color": "green",
            "width": 4
           },
           "mode": "lines",
           "name": "Superficie",
           "type": "scatter",
           "x": [
            -1,
            1
           ],
           "y": [
            0,
            0
           ]
          },
          {
           "line": {
            "color": "lightblue",
            "dash": "dash",
            "width": 4
           },
           "mode": "lines",
           "name": "Tope Atmósfera",
           "type": "scatter",
           "x": [
            -1,
            1
           ],
           "y": [
            10,
            10
           ]
          },
          {
           "line": {
            "color": "grey",
            "dash": "dot",
            "width": 1
           },
           "mode": "lines",
           "type": "scatter",
           "x": [
            0,
            0
           ],
           "y": [
            10,
            6.582914572864322
           ]
          },
          {
           "marker": {
            "color": "red",
            "size": 10
           },
           "mode": "markers",
           "type": "scatter",
           "x": [
            0
           ],
           "y": [
            6.582914572864322
           ]
          },
          {
           "marker": {
            "color": "black",
            "size": 12,
            "symbol": "x"
           },
           "mode": "markers",
           "type": "scatter",
           "x": [
            0
           ],
           "y": [
            null
           ]
          }
         ],
         "layout": {
          "annotations": [
           {
            "showarrow": false,
            "text": "V/c=0.995, γ=10.01, Δτ=2.20µs, H=10.0km",
            "x": 0.01,
            "xref": "paper",
            "y": 1.12,
            "yref": "paper"
           },
           {
            "showarrow": false,
            "text": "t=11.455µs, τ=1.144µs",
            "x": 0.01,
            "xref": "paper",
            "y": 1.06,
            "yref": "paper"
           },
           {
            "font": {
             "color": "blue",
             "size": 14
            },
            "showarrow": false,
            "text": "En vuelo",
            "x": 0.99,
            "xref": "paper",
            "y": 1.05,
            "yref": "paper"
           }
          ]
         },
         "name": "68"
        },
        {
         "data": [
          {
           "line": {
            "color": "green",
            "width": 4
           },
           "mode": "lines",
           "name": "Superficie",
           "type": "scatter",
           "x": [
            -1,
            1
           ],
           "y": [
            0,
            0
           ]
          },
          {
           "line": {
            "color": "lightblue",
            "dash": "dash",
            "width": 4
           },
           "mode": "lines",
           "name": "Tope Atmósfera",
           "type": "scatter",
           "x": [
            -1,
            1
           ],
           "y": [
            10,
            10
           ]
          },
          {
           "line": {
            "color": "grey",
            "dash": "dot",
            "width": 1
           },
           "mode": "lines",
           "type": "scatter",
           "x": [
            0,
            0
           ],
           "y": [
            10,
            6.532663316582915
           ]
          },
          {
           "marker": {
            "color": "red",
            "size": 10
           },
           "mode": "markers",
           "type": "scatter",
           "x": [
            0
           ],
           "y": [
            6.532663316582915
           ]
          },
          {
           "marker": {
            "color": "black",
            "size": 12,
            "symbol": "x"
           },
           "mode": "markers",
           "type": "scatter",
           "x": [
            0
           ],
           "y": [
            null
           ]
          }
         ],
         "layout": {
          "annotations": [
           {
            "showarrow": false,
            "text": "V/c=0.995, γ=10.01, Δτ=2.20µs, H=10.0km",
            "x": 0.01,
            "xref": "paper",
            "y": 1.12,
            "yref": "paper"
           },
           {
            "showarrow": false,
            "text": "t=11.624µs, τ=1.161µs",
            "x": 0.01,
            "xref": "paper",
            "y": 1.06,
            "yref": "paper"
           },
           {
            "font": {
             "color": "blue",
             "size": 14
            },
            "showarrow": false,
            "text": "En vuelo",
            "x": 0.99,
            "xref": "paper",
            "y": 1.05,
            "yref": "paper"
           }
          ]
         },
         "name": "69"
        },
        {
         "data": [
          {
           "line": {
            "color": "green",
            "width": 4
           },
           "mode": "lines",
           "name": "Superficie",
           "type": "scatter",
           "x": [
            -1,
            1
           ],
           "y": [
            0,
            0
           ]
          },
          {
           "line": {
            "color": "lightblue",
            "dash": "dash",
            "width": 4
           },
           "mode": "lines",
           "name": "Tope Atmósfera",
           "type": "scatter",
           "x": [
            -1,
            1
           ],
           "y": [
            10,
            10
           ]
          },
          {
           "line": {
            "color": "grey",
            "dash": "dot",
            "width": 1
           },
           "mode": "lines",
           "type": "scatter",
           "x": [
            0,
            0
           ],
           "y": [
            10,
            6.482412060301508
           ]
          },
          {
           "marker": {
            "color": "red",
            "size": 10
           },
           "mode": "markers",
           "type": "scatter",
           "x": [
            0
           ],
           "y": [
            6.482412060301508
           ]
          },
          {
           "marker": {
            "color": "black",
            "size": 12,
            "symbol": "x"
           },
           "mode": "markers",
           "type": "scatter",
           "x": [
            0
           ],
           "y": [
            null
           ]
          }
         ],
         "layout": {
          "annotations": [
           {
            "showarrow": false,
            "text": "V/c=0.995, γ=10.01, Δτ=2.20µs, H=10.0km",
            "x": 0.01,
            "xref": "paper",
            "y": 1.12,
            "yref": "paper"
           },
           {
            "showarrow": false,
            "text": "t=11.792µs, τ=1.178µs",
            "x": 0.01,
            "xref": "paper",
            "y": 1.06,
            "yref": "paper"
           },
           {
            "font": {
             "color": "blue",
             "size": 14
            },
            "showarrow": false,
            "text": "En vuelo",
            "x": 0.99,
            "xref": "paper",
            "y": 1.05,
            "yref": "paper"
           }
          ]
         },
         "name": "70"
        },
        {
         "data": [
          {
           "line": {
            "color": "green",
            "width": 4
           },
           "mode": "lines",
           "name": "Superficie",
           "type": "scatter",
           "x": [
            -1,
            1
           ],
           "y": [
            0,
            0
           ]
          },
          {
           "line": {
            "color": "lightblue",
            "dash": "dash",
            "width": 4
           },
           "mode": "lines",
           "name": "Tope Atmósfera",
           "type": "scatter",
           "x": [
            -1,
            1
           ],
           "y": [
            10,
            10
           ]
          },
          {
           "line": {
            "color": "grey",
            "dash": "dot",
            "width": 1
           },
           "mode": "lines",
           "type": "scatter",
           "x": [
            0,
            0
           ],
           "y": [
            10,
            6.4321608040201
           ]
          },
          {
           "marker": {
            "color": "red",
            "size": 10
           },
           "mode": "markers",
           "type": "scatter",
           "x": [
            0
           ],
           "y": [
            6.4321608040201
           ]
          },
          {
           "marker": {
            "color": "black",
            "size": 12,
            "symbol": "x"
           },
           "mode": "markers",
           "type": "scatter",
           "x": [
            0
           ],
           "y": [
            null
           ]
          }
         ],
         "layout": {
          "annotations": [
           {
            "showarrow": false,
            "text": "V/c=0.995, γ=10.01, Δτ=2.20µs, H=10.0km",
            "x": 0.01,
            "xref": "paper",
            "y": 1.12,
            "yref": "paper"
           },
           {
            "showarrow": false,
            "text": "t=11.961µs, τ=1.195µs",
            "x": 0.01,
            "xref": "paper",
            "y": 1.06,
            "yref": "paper"
           },
           {
            "font": {
             "color": "blue",
             "size": 14
            },
            "showarrow": false,
            "text": "En vuelo",
            "x": 0.99,
            "xref": "paper",
            "y": 1.05,
            "yref": "paper"
           }
          ]
         },
         "name": "71"
        },
        {
         "data": [
          {
           "line": {
            "color": "green",
            "width": 4
           },
           "mode": "lines",
           "name": "Superficie",
           "type": "scatter",
           "x": [
            -1,
            1
           ],
           "y": [
            0,
            0
           ]
          },
          {
           "line": {
            "color": "lightblue",
            "dash": "dash",
            "width": 4
           },
           "mode": "lines",
           "name": "Tope Atmósfera",
           "type": "scatter",
           "x": [
            -1,
            1
           ],
           "y": [
            10,
            10
           ]
          },
          {
           "line": {
            "color": "grey",
            "dash": "dot",
            "width": 1
           },
           "mode": "lines",
           "type": "scatter",
           "x": [
            0,
            0
           ],
           "y": [
            10,
            6.381909547738693
           ]
          },
          {
           "marker": {
            "color": "red",
            "size": 10
           },
           "mode": "markers",
           "type": "scatter",
           "x": [
            0
           ],
           "y": [
            6.381909547738693
           ]
          },
          {
           "marker": {
            "color": "black",
            "size": 12,
            "symbol": "x"
           },
           "mode": "markers",
           "type": "scatter",
           "x": [
            0
           ],
           "y": [
            null
           ]
          }
         ],
         "layout": {
          "annotations": [
           {
            "showarrow": false,
            "text": "V/c=0.995, γ=10.01, Δτ=2.20µs, H=10.0km",
            "x": 0.01,
            "xref": "paper",
            "y": 1.12,
            "yref": "paper"
           },
           {
            "showarrow": false,
            "text": "t=12.129µs, τ=1.211µs",
            "x": 0.01,
            "xref": "paper",
            "y": 1.06,
            "yref": "paper"
           },
           {
            "font": {
             "color": "blue",
             "size": 14
            },
            "showarrow": false,
            "text": "En vuelo",
            "x": 0.99,
            "xref": "paper",
            "y": 1.05,
            "yref": "paper"
           }
          ]
         },
         "name": "72"
        },
        {
         "data": [
          {
           "line": {
            "color": "green",
            "width": 4
           },
           "mode": "lines",
           "name": "Superficie",
           "type": "scatter",
           "x": [
            -1,
            1
           ],
           "y": [
            0,
            0
           ]
          },
          {
           "line": {
            "color": "lightblue",
            "dash": "dash",
            "width": 4
           },
           "mode": "lines",
           "name": "Tope Atmósfera",
           "type": "scatter",
           "x": [
            -1,
            1
           ],
           "y": [
            10,
            10
           ]
          },
          {
           "line": {
            "color": "grey",
            "dash": "dot",
            "width": 1
           },
           "mode": "lines",
           "type": "scatter",
           "x": [
            0,
            0
           ],
           "y": [
            10,
            6.331658291457286
           ]
          },
          {
           "marker": {
            "color": "red",
            "size": 10
           },
           "mode": "markers",
           "type": "scatter",
           "x": [
            0
           ],
           "y": [
            6.331658291457286
           ]
          },
          {
           "marker": {
            "color": "black",
            "size": 12,
            "symbol": "x"
           },
           "mode": "markers",
           "type": "scatter",
           "x": [
            0
           ],
           "y": [
            null
           ]
          }
         ],
         "layout": {
          "annotations": [
           {
            "showarrow": false,
            "text": "V/c=0.995, γ=10.01, Δτ=2.20µs, H=10.0km",
            "x": 0.01,
            "xref": "paper",
            "y": 1.12,
            "yref": "paper"
           },
           {
            "showarrow": false,
            "text": "t=12.298µs, τ=1.228µs",
            "x": 0.01,
            "xref": "paper",
            "y": 1.06,
            "yref": "paper"
           },
           {
            "font": {
             "color": "blue",
             "size": 14
            },
            "showarrow": false,
            "text": "En vuelo",
            "x": 0.99,
            "xref": "paper",
            "y": 1.05,
            "yref": "paper"
           }
          ]
         },
         "name": "73"
        },
        {
         "data": [
          {
           "line": {
            "color": "green",
            "width": 4
           },
           "mode": "lines",
           "name": "Superficie",
           "type": "scatter",
           "x": [
            -1,
            1
           ],
           "y": [
            0,
            0
           ]
          },
          {
           "line": {
            "color": "lightblue",
            "dash": "dash",
            "width": 4
           },
           "mode": "lines",
           "name": "Tope Atmósfera",
           "type": "scatter",
           "x": [
            -1,
            1
           ],
           "y": [
            10,
            10
           ]
          },
          {
           "line": {
            "color": "grey",
            "dash": "dot",
            "width": 1
           },
           "mode": "lines",
           "type": "scatter",
           "x": [
            0,
            0
           ],
           "y": [
            10,
            6.281407035175879
           ]
          },
          {
           "marker": {
            "color": "red",
            "size": 10
           },
           "mode": "markers",
           "type": "scatter",
           "x": [
            0
           ],
           "y": [
            6.281407035175879
           ]
          },
          {
           "marker": {
            "color": "black",
            "size": 12,
            "symbol": "x"
           },
           "mode": "markers",
           "type": "scatter",
           "x": [
            0
           ],
           "y": [
            null
           ]
          }
         ],
         "layout": {
          "annotations": [
           {
            "showarrow": false,
            "text": "V/c=0.995, γ=10.01, Δτ=2.20µs, H=10.0km",
            "x": 0.01,
            "xref": "paper",
            "y": 1.12,
            "yref": "paper"
           },
           {
            "showarrow": false,
            "text": "t=12.466µs, τ=1.245µs",
            "x": 0.01,
            "xref": "paper",
            "y": 1.06,
            "yref": "paper"
           },
           {
            "font": {
             "color": "blue",
             "size": 14
            },
            "showarrow": false,
            "text": "En vuelo",
            "x": 0.99,
            "xref": "paper",
            "y": 1.05,
            "yref": "paper"
           }
          ]
         },
         "name": "74"
        },
        {
         "data": [
          {
           "line": {
            "color": "green",
            "width": 4
           },
           "mode": "lines",
           "name": "Superficie",
           "type": "scatter",
           "x": [
            -1,
            1
           ],
           "y": [
            0,
            0
           ]
          },
          {
           "line": {
            "color": "lightblue",
            "dash": "dash",
            "width": 4
           },
           "mode": "lines",
           "name": "Tope Atmósfera",
           "type": "scatter",
           "x": [
            -1,
            1
           ],
           "y": [
            10,
            10
           ]
          },
          {
           "line": {
            "color": "grey",
            "dash": "dot",
            "width": 1
           },
           "mode": "lines",
           "type": "scatter",
           "x": [
            0,
            0
           ],
           "y": [
            10,
            6.231155778894472
           ]
          },
          {
           "marker": {
            "color": "red",
            "size": 10
           },
           "mode": "markers",
           "type": "scatter",
           "x": [
            0
           ],
           "y": [
            6.231155778894472
           ]
          },
          {
           "marker": {
            "color": "black",
            "size": 12,
            "symbol": "x"
           },
           "mode": "markers",
           "type": "scatter",
           "x": [
            0
           ],
           "y": [
            null
           ]
          }
         ],
         "layout": {
          "annotations": [
           {
            "showarrow": false,
            "text": "V/c=0.995, γ=10.01, Δτ=2.20µs, H=10.0km",
            "x": 0.01,
            "xref": "paper",
            "y": 1.12,
            "yref": "paper"
           },
           {
            "showarrow": false,
            "text": "t=12.635µs, τ=1.262µs",
            "x": 0.01,
            "xref": "paper",
            "y": 1.06,
            "yref": "paper"
           },
           {
            "font": {
             "color": "blue",
             "size": 14
            },
            "showarrow": false,
            "text": "En vuelo",
            "x": 0.99,
            "xref": "paper",
            "y": 1.05,
            "yref": "paper"
           }
          ]
         },
         "name": "75"
        },
        {
         "data": [
          {
           "line": {
            "color": "green",
            "width": 4
           },
           "mode": "lines",
           "name": "Superficie",
           "type": "scatter",
           "x": [
            -1,
            1
           ],
           "y": [
            0,
            0
           ]
          },
          {
           "line": {
            "color": "lightblue",
            "dash": "dash",
            "width": 4
           },
           "mode": "lines",
           "name": "Tope Atmósfera",
           "type": "scatter",
           "x": [
            -1,
            1
           ],
           "y": [
            10,
            10
           ]
          },
          {
           "line": {
            "color": "grey",
            "dash": "dot",
            "width": 1
           },
           "mode": "lines",
           "type": "scatter",
           "x": [
            0,
            0
           ],
           "y": [
            10,
            6.180904522613066
           ]
          },
          {
           "marker": {
            "color": "red",
            "size": 10
           },
           "mode": "markers",
           "type": "scatter",
           "x": [
            0
           ],
           "y": [
            6.180904522613066
           ]
          },
          {
           "marker": {
            "color": "black",
            "size": 12,
            "symbol": "x"
           },
           "mode": "markers",
           "type": "scatter",
           "x": [
            0
           ],
           "y": [
            null
           ]
          }
         ],
         "layout": {
          "annotations": [
           {
            "showarrow": false,
            "text": "V/c=0.995, γ=10.01, Δτ=2.20µs, H=10.0km",
            "x": 0.01,
            "xref": "paper",
            "y": 1.12,
            "yref": "paper"
           },
           {
            "showarrow": false,
            "text": "t=12.803µs, τ=1.279µs",
            "x": 0.01,
            "xref": "paper",
            "y": 1.06,
            "yref": "paper"
           },
           {
            "font": {
             "color": "blue",
             "size": 14
            },
            "showarrow": false,
            "text": "En vuelo",
            "x": 0.99,
            "xref": "paper",
            "y": 1.05,
            "yref": "paper"
           }
          ]
         },
         "name": "76"
        },
        {
         "data": [
          {
           "line": {
            "color": "green",
            "width": 4
           },
           "mode": "lines",
           "name": "Superficie",
           "type": "scatter",
           "x": [
            -1,
            1
           ],
           "y": [
            0,
            0
           ]
          },
          {
           "line": {
            "color": "lightblue",
            "dash": "dash",
            "width": 4
           },
           "mode": "lines",
           "name": "Tope Atmósfera",
           "type": "scatter",
           "x": [
            -1,
            1
           ],
           "y": [
            10,
            10
           ]
          },
          {
           "line": {
            "color": "grey",
            "dash": "dot",
            "width": 1
           },
           "mode": "lines",
           "type": "scatter",
           "x": [
            0,
            0
           ],
           "y": [
            10,
            6.130653266331658
           ]
          },
          {
           "marker": {
            "color": "red",
            "size": 10
           },
           "mode": "markers",
           "type": "scatter",
           "x": [
            0
           ],
           "y": [
            6.130653266331658
           ]
          },
          {
           "marker": {
            "color": "black",
            "size": 12,
            "symbol": "x"
           },
           "mode": "markers",
           "type": "scatter",
           "x": [
            0
           ],
           "y": [
            null
           ]
          }
         ],
         "layout": {
          "annotations": [
           {
            "showarrow": false,
            "text": "V/c=0.995, γ=10.01, Δτ=2.20µs, H=10.0km",
            "x": 0.01,
            "xref": "paper",
            "y": 1.12,
            "yref": "paper"
           },
           {
            "showarrow": false,
            "text": "t=12.972µs, τ=1.296µs",
            "x": 0.01,
            "xref": "paper",
            "y": 1.06,
            "yref": "paper"
           },
           {
            "font": {
             "color": "blue",
             "size": 14
            },
            "showarrow": false,
            "text": "En vuelo",
            "x": 0.99,
            "xref": "paper",
            "y": 1.05,
            "yref": "paper"
           }
          ]
         },
         "name": "77"
        },
        {
         "data": [
          {
           "line": {
            "color": "green",
            "width": 4
           },
           "mode": "lines",
           "name": "Superficie",
           "type": "scatter",
           "x": [
            -1,
            1
           ],
           "y": [
            0,
            0
           ]
          },
          {
           "line": {
            "color": "lightblue",
            "dash": "dash",
            "width": 4
           },
           "mode": "lines",
           "name": "Tope Atmósfera",
           "type": "scatter",
           "x": [
            -1,
            1
           ],
           "y": [
            10,
            10
           ]
          },
          {
           "line": {
            "color": "grey",
            "dash": "dot",
            "width": 1
           },
           "mode": "lines",
           "type": "scatter",
           "x": [
            0,
            0
           ],
           "y": [
            10,
            6.080402010050251
           ]
          },
          {
           "marker": {
            "color": "red",
            "size": 10
           },
           "mode": "markers",
           "type": "scatter",
           "x": [
            0
           ],
           "y": [
            6.080402010050251
           ]
          },
          {
           "marker": {
            "color": "black",
            "size": 12,
            "symbol": "x"
           },
           "mode": "markers",
           "type": "scatter",
           "x": [
            0
           ],
           "y": [
            null
           ]
          }
         ],
         "layout": {
          "annotations": [
           {
            "showarrow": false,
            "text": "V/c=0.995, γ=10.01, Δτ=2.20µs, H=10.0km",
            "x": 0.01,
            "xref": "paper",
            "y": 1.12,
            "yref": "paper"
           },
           {
            "showarrow": false,
            "text": "t=13.140µs, τ=1.312µs",
            "x": 0.01,
            "xref": "paper",
            "y": 1.06,
            "yref": "paper"
           },
           {
            "font": {
             "color": "blue",
             "size": 14
            },
            "showarrow": false,
            "text": "En vuelo",
            "x": 0.99,
            "xref": "paper",
            "y": 1.05,
            "yref": "paper"
           }
          ]
         },
         "name": "78"
        },
        {
         "data": [
          {
           "line": {
            "color": "green",
            "width": 4
           },
           "mode": "lines",
           "name": "Superficie",
           "type": "scatter",
           "x": [
            -1,
            1
           ],
           "y": [
            0,
            0
           ]
          },
          {
           "line": {
            "color": "lightblue",
            "dash": "dash",
            "width": 4
           },
           "mode": "lines",
           "name": "Tope Atmósfera",
           "type": "scatter",
           "x": [
            -1,
            1
           ],
           "y": [
            10,
            10
           ]
          },
          {
           "line": {
            "color": "grey",
            "dash": "dot",
            "width": 1
           },
           "mode": "lines",
           "type": "scatter",
           "x": [
            0,
            0
           ],
           "y": [
            10,
            6.030150753768844
           ]
          },
          {
           "marker": {
            "color": "red",
            "size": 10
           },
           "mode": "markers",
           "type": "scatter",
           "x": [
            0
           ],
           "y": [
            6.030150753768844
           ]
          },
          {
           "marker": {
            "color": "black",
            "size": 12,
            "symbol": "x"
           },
           "mode": "markers",
           "type": "scatter",
           "x": [
            0
           ],
           "y": [
            null
           ]
          }
         ],
         "layout": {
          "annotations": [
           {
            "showarrow": false,
            "text": "V/c=0.995, γ=10.01, Δτ=2.20µs, H=10.0km",
            "x": 0.01,
            "xref": "paper",
            "y": 1.12,
            "yref": "paper"
           },
           {
            "showarrow": false,
            "text": "t=13.309µs, τ=1.329µs",
            "x": 0.01,
            "xref": "paper",
            "y": 1.06,
            "yref": "paper"
           },
           {
            "font": {
             "color": "blue",
             "size": 14
            },
            "showarrow": false,
            "text": "En vuelo",
            "x": 0.99,
            "xref": "paper",
            "y": 1.05,
            "yref": "paper"
           }
          ]
         },
         "name": "79"
        },
        {
         "data": [
          {
           "line": {
            "color": "green",
            "width": 4
           },
           "mode": "lines",
           "name": "Superficie",
           "type": "scatter",
           "x": [
            -1,
            1
           ],
           "y": [
            0,
            0
           ]
          },
          {
           "line": {
            "color": "lightblue",
            "dash": "dash",
            "width": 4
           },
           "mode": "lines",
           "name": "Tope Atmósfera",
           "type": "scatter",
           "x": [
            -1,
            1
           ],
           "y": [
            10,
            10
           ]
          },
          {
           "line": {
            "color": "grey",
            "dash": "dot",
            "width": 1
           },
           "mode": "lines",
           "type": "scatter",
           "x": [
            0,
            0
           ],
           "y": [
            10,
            5.9798994974874375
           ]
          },
          {
           "marker": {
            "color": "red",
            "size": 10
           },
           "mode": "markers",
           "type": "scatter",
           "x": [
            0
           ],
           "y": [
            5.9798994974874375
           ]
          },
          {
           "marker": {
            "color": "black",
            "size": 12,
            "symbol": "x"
           },
           "mode": "markers",
           "type": "scatter",
           "x": [
            0
           ],
           "y": [
            null
           ]
          }
         ],
         "layout": {
          "annotations": [
           {
            "showarrow": false,
            "text": "V/c=0.995, γ=10.01, Δτ=2.20µs, H=10.0km",
            "x": 0.01,
            "xref": "paper",
            "y": 1.12,
            "yref": "paper"
           },
           {
            "showarrow": false,
            "text": "t=13.477µs, τ=1.346µs",
            "x": 0.01,
            "xref": "paper",
            "y": 1.06,
            "yref": "paper"
           },
           {
            "font": {
             "color": "blue",
             "size": 14
            },
            "showarrow": false,
            "text": "En vuelo",
            "x": 0.99,
            "xref": "paper",
            "y": 1.05,
            "yref": "paper"
           }
          ]
         },
         "name": "80"
        },
        {
         "data": [
          {
           "line": {
            "color": "green",
            "width": 4
           },
           "mode": "lines",
           "name": "Superficie",
           "type": "scatter",
           "x": [
            -1,
            1
           ],
           "y": [
            0,
            0
           ]
          },
          {
           "line": {
            "color": "lightblue",
            "dash": "dash",
            "width": 4
           },
           "mode": "lines",
           "name": "Tope Atmósfera",
           "type": "scatter",
           "x": [
            -1,
            1
           ],
           "y": [
            10,
            10
           ]
          },
          {
           "line": {
            "color": "grey",
            "dash": "dot",
            "width": 1
           },
           "mode": "lines",
           "type": "scatter",
           "x": [
            0,
            0
           ],
           "y": [
            10,
            5.92964824120603
           ]
          },
          {
           "marker": {
            "color": "red",
            "size": 10
           },
           "mode": "markers",
           "type": "scatter",
           "x": [
            0
           ],
           "y": [
            5.92964824120603
           ]
          },
          {
           "marker": {
            "color": "black",
            "size": 12,
            "symbol": "x"
           },
           "mode": "markers",
           "type": "scatter",
           "x": [
            0
           ],
           "y": [
            null
           ]
          }
         ],
         "layout": {
          "annotations": [
           {
            "showarrow": false,
            "text": "V/c=0.995, γ=10.01, Δτ=2.20µs, H=10.0km",
            "x": 0.01,
            "xref": "paper",
            "y": 1.12,
            "yref": "paper"
           },
           {
            "showarrow": false,
            "text": "t=13.645µs, τ=1.363µs",
            "x": 0.01,
            "xref": "paper",
            "y": 1.06,
            "yref": "paper"
           },
           {
            "font": {
             "color": "blue",
             "size": 14
            },
            "showarrow": false,
            "text": "En vuelo",
            "x": 0.99,
            "xref": "paper",
            "y": 1.05,
            "yref": "paper"
           }
          ]
         },
         "name": "81"
        },
        {
         "data": [
          {
           "line": {
            "color": "green",
            "width": 4
           },
           "mode": "lines",
           "name": "Superficie",
           "type": "scatter",
           "x": [
            -1,
            1
           ],
           "y": [
            0,
            0
           ]
          },
          {
           "line": {
            "color": "lightblue",
            "dash": "dash",
            "width": 4
           },
           "mode": "lines",
           "name": "Tope Atmósfera",
           "type": "scatter",
           "x": [
            -1,
            1
           ],
           "y": [
            10,
            10
           ]
          },
          {
           "line": {
            "color": "grey",
            "dash": "dot",
            "width": 1
           },
           "mode": "lines",
           "type": "scatter",
           "x": [
            0,
            0
           ],
           "y": [
            10,
            5.8793969849246235
           ]
          },
          {
           "marker": {
            "color": "red",
            "size": 10
           },
           "mode": "markers",
           "type": "scatter",
           "x": [
            0
           ],
           "y": [
            5.8793969849246235
           ]
          },
          {
           "marker": {
            "color": "black",
            "size": 12,
            "symbol": "x"
           },
           "mode": "markers",
           "type": "scatter",
           "x": [
            0
           ],
           "y": [
            null
           ]
          }
         ],
         "layout": {
          "annotations": [
           {
            "showarrow": false,
            "text": "V/c=0.995, γ=10.01, Δτ=2.20µs, H=10.0km",
            "x": 0.01,
            "xref": "paper",
            "y": 1.12,
            "yref": "paper"
           },
           {
            "showarrow": false,
            "text": "t=13.814µs, τ=1.380µs",
            "x": 0.01,
            "xref": "paper",
            "y": 1.06,
            "yref": "paper"
           },
           {
            "font": {
             "color": "blue",
             "size": 14
            },
            "showarrow": false,
            "text": "En vuelo",
            "x": 0.99,
            "xref": "paper",
            "y": 1.05,
            "yref": "paper"
           }
          ]
         },
         "name": "82"
        },
        {
         "data": [
          {
           "line": {
            "color": "green",
            "width": 4
           },
           "mode": "lines",
           "name": "Superficie",
           "type": "scatter",
           "x": [
            -1,
            1
           ],
           "y": [
            0,
            0
           ]
          },
          {
           "line": {
            "color": "lightblue",
            "dash": "dash",
            "width": 4
           },
           "mode": "lines",
           "name": "Tope Atmósfera",
           "type": "scatter",
           "x": [
            -1,
            1
           ],
           "y": [
            10,
            10
           ]
          },
          {
           "line": {
            "color": "grey",
            "dash": "dot",
            "width": 1
           },
           "mode": "lines",
           "type": "scatter",
           "x": [
            0,
            0
           ],
           "y": [
            10,
            5.829145728643216
           ]
          },
          {
           "marker": {
            "color": "red",
            "size": 10
           },
           "mode": "markers",
           "type": "scatter",
           "x": [
            0
           ],
           "y": [
            5.829145728643216
           ]
          },
          {
           "marker": {
            "color": "black",
            "size": 12,
            "symbol": "x"
           },
           "mode": "markers",
           "type": "scatter",
           "x": [
            0
           ],
           "y": [
            null
           ]
          }
         ],
         "layout": {
          "annotations": [
           {
            "showarrow": false,
            "text": "V/c=0.995, γ=10.01, Δτ=2.20µs, H=10.0km",
            "x": 0.01,
            "xref": "paper",
            "y": 1.12,
            "yref": "paper"
           },
           {
            "showarrow": false,
            "text": "t=13.982µs, τ=1.396µs",
            "x": 0.01,
            "xref": "paper",
            "y": 1.06,
            "yref": "paper"
           },
           {
            "font": {
             "color": "blue",
             "size": 14
            },
            "showarrow": false,
            "text": "En vuelo",
            "x": 0.99,
            "xref": "paper",
            "y": 1.05,
            "yref": "paper"
           }
          ]
         },
         "name": "83"
        },
        {
         "data": [
          {
           "line": {
            "color": "green",
            "width": 4
           },
           "mode": "lines",
           "name": "Superficie",
           "type": "scatter",
           "x": [
            -1,
            1
           ],
           "y": [
            0,
            0
           ]
          },
          {
           "line": {
            "color": "lightblue",
            "dash": "dash",
            "width": 4
           },
           "mode": "lines",
           "name": "Tope Atmósfera",
           "type": "scatter",
           "x": [
            -1,
            1
           ],
           "y": [
            10,
            10
           ]
          },
          {
           "line": {
            "color": "grey",
            "dash": "dot",
            "width": 1
           },
           "mode": "lines",
           "type": "scatter",
           "x": [
            0,
            0
           ],
           "y": [
            10,
            5.7788944723618085
           ]
          },
          {
           "marker": {
            "color": "red",
            "size": 10
           },
           "mode": "markers",
           "type": "scatter",
           "x": [
            0
           ],
           "y": [
            5.7788944723618085
           ]
          },
          {
           "marker": {
            "color": "black",
            "size": 12,
            "symbol": "x"
           },
           "mode": "markers",
           "type": "scatter",
           "x": [
            0
           ],
           "y": [
            null
           ]
          }
         ],
         "layout": {
          "annotations": [
           {
            "showarrow": false,
            "text": "V/c=0.995, γ=10.01, Δτ=2.20µs, H=10.0km",
            "x": 0.01,
            "xref": "paper",
            "y": 1.12,
            "yref": "paper"
           },
           {
            "showarrow": false,
            "text": "t=14.151µs, τ=1.413µs",
            "x": 0.01,
            "xref": "paper",
            "y": 1.06,
            "yref": "paper"
           },
           {
            "font": {
             "color": "blue",
             "size": 14
            },
            "showarrow": false,
            "text": "En vuelo",
            "x": 0.99,
            "xref": "paper",
            "y": 1.05,
            "yref": "paper"
           }
          ]
         },
         "name": "84"
        },
        {
         "data": [
          {
           "line": {
            "color": "green",
            "width": 4
           },
           "mode": "lines",
           "name": "Superficie",
           "type": "scatter",
           "x": [
            -1,
            1
           ],
           "y": [
            0,
            0
           ]
          },
          {
           "line": {
            "color": "lightblue",
            "dash": "dash",
            "width": 4
           },
           "mode": "lines",
           "name": "Tope Atmósfera",
           "type": "scatter",
           "x": [
            -1,
            1
           ],
           "y": [
            10,
            10
           ]
          },
          {
           "line": {
            "color": "grey",
            "dash": "dot",
            "width": 1
           },
           "mode": "lines",
           "type": "scatter",
           "x": [
            0,
            0
           ],
           "y": [
            10,
            5.728643216080402
           ]
          },
          {
           "marker": {
            "color": "red",
            "size": 10
           },
           "mode": "markers",
           "type": "scatter",
           "x": [
            0
           ],
           "y": [
            5.728643216080402
           ]
          },
          {
           "marker": {
            "color": "black",
            "size": 12,
            "symbol": "x"
           },
           "mode": "markers",
           "type": "scatter",
           "x": [
            0
           ],
           "y": [
            null
           ]
          }
         ],
         "layout": {
          "annotations": [
           {
            "showarrow": false,
            "text": "V/c=0.995, γ=10.01, Δτ=2.20µs, H=10.0km",
            "x": 0.01,
            "xref": "paper",
            "y": 1.12,
            "yref": "paper"
           },
           {
            "showarrow": false,
            "text": "t=14.319µs, τ=1.430µs",
            "x": 0.01,
            "xref": "paper",
            "y": 1.06,
            "yref": "paper"
           },
           {
            "font": {
             "color": "blue",
             "size": 14
            },
            "showarrow": false,
            "text": "En vuelo",
            "x": 0.99,
            "xref": "paper",
            "y": 1.05,
            "yref": "paper"
           }
          ]
         },
         "name": "85"
        },
        {
         "data": [
          {
           "line": {
            "color": "green",
            "width": 4
           },
           "mode": "lines",
           "name": "Superficie",
           "type": "scatter",
           "x": [
            -1,
            1
           ],
           "y": [
            0,
            0
           ]
          },
          {
           "line": {
            "color": "lightblue",
            "dash": "dash",
            "width": 4
           },
           "mode": "lines",
           "name": "Tope Atmósfera",
           "type": "scatter",
           "x": [
            -1,
            1
           ],
           "y": [
            10,
            10
           ]
          },
          {
           "line": {
            "color": "grey",
            "dash": "dot",
            "width": 1
           },
           "mode": "lines",
           "type": "scatter",
           "x": [
            0,
            0
           ],
           "y": [
            10,
            5.6783919597989945
           ]
          },
          {
           "marker": {
            "color": "red",
            "size": 10
           },
           "mode": "markers",
           "type": "scatter",
           "x": [
            0
           ],
           "y": [
            5.6783919597989945
           ]
          },
          {
           "marker": {
            "color": "black",
            "size": 12,
            "symbol": "x"
           },
           "mode": "markers",
           "type": "scatter",
           "x": [
            0
           ],
           "y": [
            null
           ]
          }
         ],
         "layout": {
          "annotations": [
           {
            "showarrow": false,
            "text": "V/c=0.995, γ=10.01, Δτ=2.20µs, H=10.0km",
            "x": 0.01,
            "xref": "paper",
            "y": 1.12,
            "yref": "paper"
           },
           {
            "showarrow": false,
            "text": "t=14.488µs, τ=1.447µs",
            "x": 0.01,
            "xref": "paper",
            "y": 1.06,
            "yref": "paper"
           },
           {
            "font": {
             "color": "blue",
             "size": 14
            },
            "showarrow": false,
            "text": "En vuelo",
            "x": 0.99,
            "xref": "paper",
            "y": 1.05,
            "yref": "paper"
           }
          ]
         },
         "name": "86"
        },
        {
         "data": [
          {
           "line": {
            "color": "green",
            "width": 4
           },
           "mode": "lines",
           "name": "Superficie",
           "type": "scatter",
           "x": [
            -1,
            1
           ],
           "y": [
            0,
            0
           ]
          },
          {
           "line": {
            "color": "lightblue",
            "dash": "dash",
            "width": 4
           },
           "mode": "lines",
           "name": "Tope Atmósfera",
           "type": "scatter",
           "x": [
            -1,
            1
           ],
           "y": [
            10,
            10
           ]
          },
          {
           "line": {
            "color": "grey",
            "dash": "dot",
            "width": 1
           },
           "mode": "lines",
           "type": "scatter",
           "x": [
            0,
            0
           ],
           "y": [
            10,
            5.628140703517587
           ]
          },
          {
           "marker": {
            "color": "red",
            "size": 10
           },
           "mode": "markers",
           "type": "scatter",
           "x": [
            0
           ],
           "y": [
            5.628140703517587
           ]
          },
          {
           "marker": {
            "color": "black",
            "size": 12,
            "symbol": "x"
           },
           "mode": "markers",
           "type": "scatter",
           "x": [
            0
           ],
           "y": [
            null
           ]
          }
         ],
         "layout": {
          "annotations": [
           {
            "showarrow": false,
            "text": "V/c=0.995, γ=10.01, Δτ=2.20µs, H=10.0km",
            "x": 0.01,
            "xref": "paper",
            "y": 1.12,
            "yref": "paper"
           },
           {
            "showarrow": false,
            "text": "t=14.656µs, τ=1.464µs",
            "x": 0.01,
            "xref": "paper",
            "y": 1.06,
            "yref": "paper"
           },
           {
            "font": {
             "color": "blue",
             "size": 14
            },
            "showarrow": false,
            "text": "En vuelo",
            "x": 0.99,
            "xref": "paper",
            "y": 1.05,
            "yref": "paper"
           }
          ]
         },
         "name": "87"
        },
        {
         "data": [
          {
           "line": {
            "color": "green",
            "width": 4
           },
           "mode": "lines",
           "name": "Superficie",
           "type": "scatter",
           "x": [
            -1,
            1
           ],
           "y": [
            0,
            0
           ]
          },
          {
           "line": {
            "color": "lightblue",
            "dash": "dash",
            "width": 4
           },
           "mode": "lines",
           "name": "Tope Atmósfera",
           "type": "scatter",
           "x": [
            -1,
            1
           ],
           "y": [
            10,
            10
           ]
          },
          {
           "line": {
            "color": "grey",
            "dash": "dot",
            "width": 1
           },
           "mode": "lines",
           "type": "scatter",
           "x": [
            0,
            0
           ],
           "y": [
            10,
            5.57788944723618
           ]
          },
          {
           "marker": {
            "color": "red",
            "size": 10
           },
           "mode": "markers",
           "type": "scatter",
           "x": [
            0
           ],
           "y": [
            5.57788944723618
           ]
          },
          {
           "marker": {
            "color": "black",
            "size": 12,
            "symbol": "x"
           },
           "mode": "markers",
           "type": "scatter",
           "x": [
            0
           ],
           "y": [
            null
           ]
          }
         ],
         "layout": {
          "annotations": [
           {
            "showarrow": false,
            "text": "V/c=0.995, γ=10.01, Δτ=2.20µs, H=10.0km",
            "x": 0.01,
            "xref": "paper",
            "y": 1.12,
            "yref": "paper"
           },
           {
            "showarrow": false,
            "text": "t=14.825µs, τ=1.481µs",
            "x": 0.01,
            "xref": "paper",
            "y": 1.06,
            "yref": "paper"
           },
           {
            "font": {
             "color": "blue",
             "size": 14
            },
            "showarrow": false,
            "text": "En vuelo",
            "x": 0.99,
            "xref": "paper",
            "y": 1.05,
            "yref": "paper"
           }
          ]
         },
         "name": "88"
        },
        {
         "data": [
          {
           "line": {
            "color": "green",
            "width": 4
           },
           "mode": "lines",
           "name": "Superficie",
           "type": "scatter",
           "x": [
            -1,
            1
           ],
           "y": [
            0,
            0
           ]
          },
          {
           "line": {
            "color": "lightblue",
            "dash": "dash",
            "width": 4
           },
           "mode": "lines",
           "name": "Tope Atmósfera",
           "type": "scatter",
           "x": [
            -1,
            1
           ],
           "y": [
            10,
            10
           ]
          },
          {
           "line": {
            "color": "grey",
            "dash": "dot",
            "width": 1
           },
           "mode": "lines",
           "type": "scatter",
           "x": [
            0,
            0
           ],
           "y": [
            10,
            5.527638190954774
           ]
          },
          {
           "marker": {
            "color": "red",
            "size": 10
           },
           "mode": "markers",
           "type": "scatter",
           "x": [
            0
           ],
           "y": [
            5.527638190954774
           ]
          },
          {
           "marker": {
            "color": "black",
            "size": 12,
            "symbol": "x"
           },
           "mode": "markers",
           "type": "scatter",
           "x": [
            0
           ],
           "y": [
            null
           ]
          }
         ],
         "layout": {
          "annotations": [
           {
            "showarrow": false,
            "text": "V/c=0.995, γ=10.01, Δτ=2.20µs, H=10.0km",
            "x": 0.01,
            "xref": "paper",
            "y": 1.12,
            "yref": "paper"
           },
           {
            "showarrow": false,
            "text": "t=14.993µs, τ=1.497µs",
            "x": 0.01,
            "xref": "paper",
            "y": 1.06,
            "yref": "paper"
           },
           {
            "font": {
             "color": "blue",
             "size": 14
            },
            "showarrow": false,
            "text": "En vuelo",
            "x": 0.99,
            "xref": "paper",
            "y": 1.05,
            "yref": "paper"
           }
          ]
         },
         "name": "89"
        },
        {
         "data": [
          {
           "line": {
            "color": "green",
            "width": 4
           },
           "mode": "lines",
           "name": "Superficie",
           "type": "scatter",
           "x": [
            -1,
            1
           ],
           "y": [
            0,
            0
           ]
          },
          {
           "line": {
            "color": "lightblue",
            "dash": "dash",
            "width": 4
           },
           "mode": "lines",
           "name": "Tope Atmósfera",
           "type": "scatter",
           "x": [
            -1,
            1
           ],
           "y": [
            10,
            10
           ]
          },
          {
           "line": {
            "color": "grey",
            "dash": "dot",
            "width": 1
           },
           "mode": "lines",
           "type": "scatter",
           "x": [
            0,
            0
           ],
           "y": [
            10,
            5.477386934673367
           ]
          },
          {
           "marker": {
            "color": "red",
            "size": 10
           },
           "mode": "markers",
           "type": "scatter",
           "x": [
            0
           ],
           "y": [
            5.477386934673367
           ]
          },
          {
           "marker": {
            "color": "black",
            "size": 12,
            "symbol": "x"
           },
           "mode": "markers",
           "type": "scatter",
           "x": [
            0
           ],
           "y": [
            null
           ]
          }
         ],
         "layout": {
          "annotations": [
           {
            "showarrow": false,
            "text": "V/c=0.995, γ=10.01, Δτ=2.20µs, H=10.0km",
            "x": 0.01,
            "xref": "paper",
            "y": 1.12,
            "yref": "paper"
           },
           {
            "showarrow": false,
            "text": "t=15.162µs, τ=1.514µs",
            "x": 0.01,
            "xref": "paper",
            "y": 1.06,
            "yref": "paper"
           },
           {
            "font": {
             "color": "blue",
             "size": 14
            },
            "showarrow": false,
            "text": "En vuelo",
            "x": 0.99,
            "xref": "paper",
            "y": 1.05,
            "yref": "paper"
           }
          ]
         },
         "name": "90"
        },
        {
         "data": [
          {
           "line": {
            "color": "green",
            "width": 4
           },
           "mode": "lines",
           "name": "Superficie",
           "type": "scatter",
           "x": [
            -1,
            1
           ],
           "y": [
            0,
            0
           ]
          },
          {
           "line": {
            "color": "lightblue",
            "dash": "dash",
            "width": 4
           },
           "mode": "lines",
           "name": "Tope Atmósfera",
           "type": "scatter",
           "x": [
            -1,
            1
           ],
           "y": [
            10,
            10
           ]
          },
          {
           "line": {
            "color": "grey",
            "dash": "dot",
            "width": 1
           },
           "mode": "lines",
           "type": "scatter",
           "x": [
            0,
            0
           ],
           "y": [
            10,
            5.427135678391959
           ]
          },
          {
           "marker": {
            "color": "red",
            "size": 10
           },
           "mode": "markers",
           "type": "scatter",
           "x": [
            0
           ],
           "y": [
            5.427135678391959
           ]
          },
          {
           "marker": {
            "color": "black",
            "size": 12,
            "symbol": "x"
           },
           "mode": "markers",
           "type": "scatter",
           "x": [
            0
           ],
           "y": [
            null
           ]
          }
         ],
         "layout": {
          "annotations": [
           {
            "showarrow": false,
            "text": "V/c=0.995, γ=10.01, Δτ=2.20µs, H=10.0km",
            "x": 0.01,
            "xref": "paper",
            "y": 1.12,
            "yref": "paper"
           },
           {
            "showarrow": false,
            "text": "t=15.330µs, τ=1.531µs",
            "x": 0.01,
            "xref": "paper",
            "y": 1.06,
            "yref": "paper"
           },
           {
            "font": {
             "color": "blue",
             "size": 14
            },
            "showarrow": false,
            "text": "En vuelo",
            "x": 0.99,
            "xref": "paper",
            "y": 1.05,
            "yref": "paper"
           }
          ]
         },
         "name": "91"
        },
        {
         "data": [
          {
           "line": {
            "color": "green",
            "width": 4
           },
           "mode": "lines",
           "name": "Superficie",
           "type": "scatter",
           "x": [
            -1,
            1
           ],
           "y": [
            0,
            0
           ]
          },
          {
           "line": {
            "color": "lightblue",
            "dash": "dash",
            "width": 4
           },
           "mode": "lines",
           "name": "Tope Atmósfera",
           "type": "scatter",
           "x": [
            -1,
            1
           ],
           "y": [
            10,
            10
           ]
          },
          {
           "line": {
            "color": "grey",
            "dash": "dot",
            "width": 1
           },
           "mode": "lines",
           "type": "scatter",
           "x": [
            0,
            0
           ],
           "y": [
            10,
            5.376884422110552
           ]
          },
          {
           "marker": {
            "color": "red",
            "size": 10
           },
           "mode": "markers",
           "type": "scatter",
           "x": [
            0
           ],
           "y": [
            5.376884422110552
           ]
          },
          {
           "marker": {
            "color": "black",
            "size": 12,
            "symbol": "x"
           },
           "mode": "markers",
           "type": "scatter",
           "x": [
            0
           ],
           "y": [
            null
           ]
          }
         ],
         "layout": {
          "annotations": [
           {
            "showarrow": false,
            "text": "V/c=0.995, γ=10.01, Δτ=2.20µs, H=10.0km",
            "x": 0.01,
            "xref": "paper",
            "y": 1.12,
            "yref": "paper"
           },
           {
            "showarrow": false,
            "text": "t=15.499µs, τ=1.548µs",
            "x": 0.01,
            "xref": "paper",
            "y": 1.06,
            "yref": "paper"
           },
           {
            "font": {
             "color": "blue",
             "size": 14
            },
            "showarrow": false,
            "text": "En vuelo",
            "x": 0.99,
            "xref": "paper",
            "y": 1.05,
            "yref": "paper"
           }
          ]
         },
         "name": "92"
        },
        {
         "data": [
          {
           "line": {
            "color": "green",
            "width": 4
           },
           "mode": "lines",
           "name": "Superficie",
           "type": "scatter",
           "x": [
            -1,
            1
           ],
           "y": [
            0,
            0
           ]
          },
          {
           "line": {
            "color": "lightblue",
            "dash": "dash",
            "width": 4
           },
           "mode": "lines",
           "name": "Tope Atmósfera",
           "type": "scatter",
           "x": [
            -1,
            1
           ],
           "y": [
            10,
            10
           ]
          },
          {
           "line": {
            "color": "grey",
            "dash": "dot",
            "width": 1
           },
           "mode": "lines",
           "type": "scatter",
           "x": [
            0,
            0
           ],
           "y": [
            10,
            5.326633165829145
           ]
          },
          {
           "marker": {
            "color": "red",
            "size": 10
           },
           "mode": "markers",
           "type": "scatter",
           "x": [
            0
           ],
           "y": [
            5.326633165829145
           ]
          },
          {
           "marker": {
            "color": "black",
            "size": 12,
            "symbol": "x"
           },
           "mode": "markers",
           "type": "scatter",
           "x": [
            0
           ],
           "y": [
            null
           ]
          }
         ],
         "layout": {
          "annotations": [
           {
            "showarrow": false,
            "text": "V/c=0.995, γ=10.01, Δτ=2.20µs, H=10.0km",
            "x": 0.01,
            "xref": "paper",
            "y": 1.12,
            "yref": "paper"
           },
           {
            "showarrow": false,
            "text": "t=15.667µs, τ=1.565µs",
            "x": 0.01,
            "xref": "paper",
            "y": 1.06,
            "yref": "paper"
           },
           {
            "font": {
             "color": "blue",
             "size": 14
            },
            "showarrow": false,
            "text": "En vuelo",
            "x": 0.99,
            "xref": "paper",
            "y": 1.05,
            "yref": "paper"
           }
          ]
         },
         "name": "93"
        },
        {
         "data": [
          {
           "line": {
            "color": "green",
            "width": 4
           },
           "mode": "lines",
           "name": "Superficie",
           "type": "scatter",
           "x": [
            -1,
            1
           ],
           "y": [
            0,
            0
           ]
          },
          {
           "line": {
            "color": "lightblue",
            "dash": "dash",
            "width": 4
           },
           "mode": "lines",
           "name": "Tope Atmósfera",
           "type": "scatter",
           "x": [
            -1,
            1
           ],
           "y": [
            10,
            10
           ]
          },
          {
           "line": {
            "color": "grey",
            "dash": "dot",
            "width": 1
           },
           "mode": "lines",
           "type": "scatter",
           "x": [
            0,
            0
           ],
           "y": [
            10,
            5.276381909547738
           ]
          },
          {
           "marker": {
            "color": "red",
            "size": 10
           },
           "mode": "markers",
           "type": "scatter",
           "x": [
            0
           ],
           "y": [
            5.276381909547738
           ]
          },
          {
           "marker": {
            "color": "black",
            "size": 12,
            "symbol": "x"
           },
           "mode": "markers",
           "type": "scatter",
           "x": [
            0
           ],
           "y": [
            null
           ]
          }
         ],
         "layout": {
          "annotations": [
           {
            "showarrow": false,
            "text": "V/c=0.995, γ=10.01, Δτ=2.20µs, H=10.0km",
            "x": 0.01,
            "xref": "paper",
            "y": 1.12,
            "yref": "paper"
           },
           {
            "showarrow": false,
            "text": "t=15.835µs, τ=1.582µs",
            "x": 0.01,
            "xref": "paper",
            "y": 1.06,
            "yref": "paper"
           },
           {
            "font": {
             "color": "blue",
             "size": 14
            },
            "showarrow": false,
            "text": "En vuelo",
            "x": 0.99,
            "xref": "paper",
            "y": 1.05,
            "yref": "paper"
           }
          ]
         },
         "name": "94"
        },
        {
         "data": [
          {
           "line": {
            "color": "green",
            "width": 4
           },
           "mode": "lines",
           "name": "Superficie",
           "type": "scatter",
           "x": [
            -1,
            1
           ],
           "y": [
            0,
            0
           ]
          },
          {
           "line": {
            "color": "lightblue",
            "dash": "dash",
            "width": 4
           },
           "mode": "lines",
           "name": "Tope Atmósfera",
           "type": "scatter",
           "x": [
            -1,
            1
           ],
           "y": [
            10,
            10
           ]
          },
          {
           "line": {
            "color": "grey",
            "dash": "dot",
            "width": 1
           },
           "mode": "lines",
           "type": "scatter",
           "x": [
            0,
            0
           ],
           "y": [
            10,
            5.226130653266331
           ]
          },
          {
           "marker": {
            "color": "red",
            "size": 10
           },
           "mode": "markers",
           "type": "scatter",
           "x": [
            0
           ],
           "y": [
            5.226130653266331
           ]
          },
          {
           "marker": {
            "color": "black",
            "size": 12,
            "symbol": "x"
           },
           "mode": "markers",
           "type": "scatter",
           "x": [
            0
           ],
           "y": [
            null
           ]
          }
         ],
         "layout": {
          "annotations": [
           {
            "showarrow": false,
            "text": "V/c=0.995, γ=10.01, Δτ=2.20µs, H=10.0km",
            "x": 0.01,
            "xref": "paper",
            "y": 1.12,
            "yref": "paper"
           },
           {
            "showarrow": false,
            "text": "t=16.004µs, τ=1.598µs",
            "x": 0.01,
            "xref": "paper",
            "y": 1.06,
            "yref": "paper"
           },
           {
            "font": {
             "color": "blue",
             "size": 14
            },
            "showarrow": false,
            "text": "En vuelo",
            "x": 0.99,
            "xref": "paper",
            "y": 1.05,
            "yref": "paper"
           }
          ]
         },
         "name": "95"
        },
        {
         "data": [
          {
           "line": {
            "color": "green",
            "width": 4
           },
           "mode": "lines",
           "name": "Superficie",
           "type": "scatter",
           "x": [
            -1,
            1
           ],
           "y": [
            0,
            0
           ]
          },
          {
           "line": {
            "color": "lightblue",
            "dash": "dash",
            "width": 4
           },
           "mode": "lines",
           "name": "Tope Atmósfera",
           "type": "scatter",
           "x": [
            -1,
            1
           ],
           "y": [
            10,
            10
           ]
          },
          {
           "line": {
            "color": "grey",
            "dash": "dot",
            "width": 1
           },
           "mode": "lines",
           "type": "scatter",
           "x": [
            0,
            0
           ],
           "y": [
            10,
            5.175879396984924
           ]
          },
          {
           "marker": {
            "color": "red",
            "size": 10
           },
           "mode": "markers",
           "type": "scatter",
           "x": [
            0
           ],
           "y": [
            5.175879396984924
           ]
          },
          {
           "marker": {
            "color": "black",
            "size": 12,
            "symbol": "x"
           },
           "mode": "markers",
           "type": "scatter",
           "x": [
            0
           ],
           "y": [
            null
           ]
          }
         ],
         "layout": {
          "annotations": [
           {
            "showarrow": false,
            "text": "V/c=0.995, γ=10.01, Δτ=2.20µs, H=10.0km",
            "x": 0.01,
            "xref": "paper",
            "y": 1.12,
            "yref": "paper"
           },
           {
            "showarrow": false,
            "text": "t=16.172µs, τ=1.615µs",
            "x": 0.01,
            "xref": "paper",
            "y": 1.06,
            "yref": "paper"
           },
           {
            "font": {
             "color": "blue",
             "size": 14
            },
            "showarrow": false,
            "text": "En vuelo",
            "x": 0.99,
            "xref": "paper",
            "y": 1.05,
            "yref": "paper"
           }
          ]
         },
         "name": "96"
        },
        {
         "data": [
          {
           "line": {
            "color": "green",
            "width": 4
           },
           "mode": "lines",
           "name": "Superficie",
           "type": "scatter",
           "x": [
            -1,
            1
           ],
           "y": [
            0,
            0
           ]
          },
          {
           "line": {
            "color": "lightblue",
            "dash": "dash",
            "width": 4
           },
           "mode": "lines",
           "name": "Tope Atmósfera",
           "type": "scatter",
           "x": [
            -1,
            1
           ],
           "y": [
            10,
            10
           ]
          },
          {
           "line": {
            "color": "grey",
            "dash": "dot",
            "width": 1
           },
           "mode": "lines",
           "type": "scatter",
           "x": [
            0,
            0
           ],
           "y": [
            10,
            5.125628140703517
           ]
          },
          {
           "marker": {
            "color": "red",
            "size": 10
           },
           "mode": "markers",
           "type": "scatter",
           "x": [
            0
           ],
           "y": [
            5.125628140703517
           ]
          },
          {
           "marker": {
            "color": "black",
            "size": 12,
            "symbol": "x"
           },
           "mode": "markers",
           "type": "scatter",
           "x": [
            0
           ],
           "y": [
            null
           ]
          }
         ],
         "layout": {
          "annotations": [
           {
            "showarrow": false,
            "text": "V/c=0.995, γ=10.01, Δτ=2.20µs, H=10.0km",
            "x": 0.01,
            "xref": "paper",
            "y": 1.12,
            "yref": "paper"
           },
           {
            "showarrow": false,
            "text": "t=16.341µs, τ=1.632µs",
            "x": 0.01,
            "xref": "paper",
            "y": 1.06,
            "yref": "paper"
           },
           {
            "font": {
             "color": "blue",
             "size": 14
            },
            "showarrow": false,
            "text": "En vuelo",
            "x": 0.99,
            "xref": "paper",
            "y": 1.05,
            "yref": "paper"
           }
          ]
         },
         "name": "97"
        },
        {
         "data": [
          {
           "line": {
            "color": "green",
            "width": 4
           },
           "mode": "lines",
           "name": "Superficie",
           "type": "scatter",
           "x": [
            -1,
            1
           ],
           "y": [
            0,
            0
           ]
          },
          {
           "line": {
            "color": "lightblue",
            "dash": "dash",
            "width": 4
           },
           "mode": "lines",
           "name": "Tope Atmósfera",
           "type": "scatter",
           "x": [
            -1,
            1
           ],
           "y": [
            10,
            10
           ]
          },
          {
           "line": {
            "color": "grey",
            "dash": "dot",
            "width": 1
           },
           "mode": "lines",
           "type": "scatter",
           "x": [
            0,
            0
           ],
           "y": [
            10,
            5.075376884422111
           ]
          },
          {
           "marker": {
            "color": "red",
            "size": 10
           },
           "mode": "markers",
           "type": "scatter",
           "x": [
            0
           ],
           "y": [
            5.075376884422111
           ]
          },
          {
           "marker": {
            "color": "black",
            "size": 12,
            "symbol": "x"
           },
           "mode": "markers",
           "type": "scatter",
           "x": [
            0
           ],
           "y": [
            null
           ]
          }
         ],
         "layout": {
          "annotations": [
           {
            "showarrow": false,
            "text": "V/c=0.995, γ=10.01, Δτ=2.20µs, H=10.0km",
            "x": 0.01,
            "xref": "paper",
            "y": 1.12,
            "yref": "paper"
           },
           {
            "showarrow": false,
            "text": "t=16.509µs, τ=1.649µs",
            "x": 0.01,
            "xref": "paper",
            "y": 1.06,
            "yref": "paper"
           },
           {
            "font": {
             "color": "blue",
             "size": 14
            },
            "showarrow": false,
            "text": "En vuelo",
            "x": 0.99,
            "xref": "paper",
            "y": 1.05,
            "yref": "paper"
           }
          ]
         },
         "name": "98"
        },
        {
         "data": [
          {
           "line": {
            "color": "green",
            "width": 4
           },
           "mode": "lines",
           "name": "Superficie",
           "type": "scatter",
           "x": [
            -1,
            1
           ],
           "y": [
            0,
            0
           ]
          },
          {
           "line": {
            "color": "lightblue",
            "dash": "dash",
            "width": 4
           },
           "mode": "lines",
           "name": "Tope Atmósfera",
           "type": "scatter",
           "x": [
            -1,
            1
           ],
           "y": [
            10,
            10
           ]
          },
          {
           "line": {
            "color": "grey",
            "dash": "dot",
            "width": 1
           },
           "mode": "lines",
           "type": "scatter",
           "x": [
            0,
            0
           ],
           "y": [
            10,
            5.025125628140702
           ]
          },
          {
           "marker": {
            "color": "red",
            "size": 10
           },
           "mode": "markers",
           "type": "scatter",
           "x": [
            0
           ],
           "y": [
            5.025125628140702
           ]
          },
          {
           "marker": {
            "color": "black",
            "size": 12,
            "symbol": "x"
           },
           "mode": "markers",
           "type": "scatter",
           "x": [
            0
           ],
           "y": [
            null
           ]
          }
         ],
         "layout": {
          "annotations": [
           {
            "showarrow": false,
            "text": "V/c=0.995, γ=10.01, Δτ=2.20µs, H=10.0km",
            "x": 0.01,
            "xref": "paper",
            "y": 1.12,
            "yref": "paper"
           },
           {
            "showarrow": false,
            "text": "t=16.678µs, τ=1.666µs",
            "x": 0.01,
            "xref": "paper",
            "y": 1.06,
            "yref": "paper"
           },
           {
            "font": {
             "color": "blue",
             "size": 14
            },
            "showarrow": false,
            "text": "En vuelo",
            "x": 0.99,
            "xref": "paper",
            "y": 1.05,
            "yref": "paper"
           }
          ]
         },
         "name": "99"
        },
        {
         "data": [
          {
           "line": {
            "color": "green",
            "width": 4
           },
           "mode": "lines",
           "name": "Superficie",
           "type": "scatter",
           "x": [
            -1,
            1
           ],
           "y": [
            0,
            0
           ]
          },
          {
           "line": {
            "color": "lightblue",
            "dash": "dash",
            "width": 4
           },
           "mode": "lines",
           "name": "Tope Atmósfera",
           "type": "scatter",
           "x": [
            -1,
            1
           ],
           "y": [
            10,
            10
           ]
          },
          {
           "line": {
            "color": "grey",
            "dash": "dot",
            "width": 1
           },
           "mode": "lines",
           "type": "scatter",
           "x": [
            0,
            0
           ],
           "y": [
            10,
            4.974874371859296
           ]
          },
          {
           "marker": {
            "color": "red",
            "size": 10
           },
           "mode": "markers",
           "type": "scatter",
           "x": [
            0
           ],
           "y": [
            4.974874371859296
           ]
          },
          {
           "marker": {
            "color": "black",
            "size": 12,
            "symbol": "x"
           },
           "mode": "markers",
           "type": "scatter",
           "x": [
            0
           ],
           "y": [
            null
           ]
          }
         ],
         "layout": {
          "annotations": [
           {
            "showarrow": false,
            "text": "V/c=0.995, γ=10.01, Δτ=2.20µs, H=10.0km",
            "x": 0.01,
            "xref": "paper",
            "y": 1.12,
            "yref": "paper"
           },
           {
            "showarrow": false,
            "text": "t=16.846µs, τ=1.683µs",
            "x": 0.01,
            "xref": "paper",
            "y": 1.06,
            "yref": "paper"
           },
           {
            "font": {
             "color": "blue",
             "size": 14
            },
            "showarrow": false,
            "text": "En vuelo",
            "x": 0.99,
            "xref": "paper",
            "y": 1.05,
            "yref": "paper"
           }
          ]
         },
         "name": "100"
        },
        {
         "data": [
          {
           "line": {
            "color": "green",
            "width": 4
           },
           "mode": "lines",
           "name": "Superficie",
           "type": "scatter",
           "x": [
            -1,
            1
           ],
           "y": [
            0,
            0
           ]
          },
          {
           "line": {
            "color": "lightblue",
            "dash": "dash",
            "width": 4
           },
           "mode": "lines",
           "name": "Tope Atmósfera",
           "type": "scatter",
           "x": [
            -1,
            1
           ],
           "y": [
            10,
            10
           ]
          },
          {
           "line": {
            "color": "grey",
            "dash": "dot",
            "width": 1
           },
           "mode": "lines",
           "type": "scatter",
           "x": [
            0,
            0
           ],
           "y": [
            10,
            4.924623115577889
           ]
          },
          {
           "marker": {
            "color": "red",
            "size": 10
           },
           "mode": "markers",
           "type": "scatter",
           "x": [
            0
           ],
           "y": [
            4.924623115577889
           ]
          },
          {
           "marker": {
            "color": "black",
            "size": 12,
            "symbol": "x"
           },
           "mode": "markers",
           "type": "scatter",
           "x": [
            0
           ],
           "y": [
            null
           ]
          }
         ],
         "layout": {
          "annotations": [
           {
            "showarrow": false,
            "text": "V/c=0.995, γ=10.01, Δτ=2.20µs, H=10.0km",
            "x": 0.01,
            "xref": "paper",
            "y": 1.12,
            "yref": "paper"
           },
           {
            "showarrow": false,
            "text": "t=17.015µs, τ=1.699µs",
            "x": 0.01,
            "xref": "paper",
            "y": 1.06,
            "yref": "paper"
           },
           {
            "font": {
             "color": "blue",
             "size": 14
            },
            "showarrow": false,
            "text": "En vuelo",
            "x": 0.99,
            "xref": "paper",
            "y": 1.05,
            "yref": "paper"
           }
          ]
         },
         "name": "101"
        },
        {
         "data": [
          {
           "line": {
            "color": "green",
            "width": 4
           },
           "mode": "lines",
           "name": "Superficie",
           "type": "scatter",
           "x": [
            -1,
            1
           ],
           "y": [
            0,
            0
           ]
          },
          {
           "line": {
            "color": "lightblue",
            "dash": "dash",
            "width": 4
           },
           "mode": "lines",
           "name": "Tope Atmósfera",
           "type": "scatter",
           "x": [
            -1,
            1
           ],
           "y": [
            10,
            10
           ]
          },
          {
           "line": {
            "color": "grey",
            "dash": "dot",
            "width": 1
           },
           "mode": "lines",
           "type": "scatter",
           "x": [
            0,
            0
           ],
           "y": [
            10,
            4.874371859296482
           ]
          },
          {
           "marker": {
            "color": "red",
            "size": 10
           },
           "mode": "markers",
           "type": "scatter",
           "x": [
            0
           ],
           "y": [
            4.874371859296482
           ]
          },
          {
           "marker": {
            "color": "black",
            "size": 12,
            "symbol": "x"
           },
           "mode": "markers",
           "type": "scatter",
           "x": [
            0
           ],
           "y": [
            null
           ]
          }
         ],
         "layout": {
          "annotations": [
           {
            "showarrow": false,
            "text": "V/c=0.995, γ=10.01, Δτ=2.20µs, H=10.0km",
            "x": 0.01,
            "xref": "paper",
            "y": 1.12,
            "yref": "paper"
           },
           {
            "showarrow": false,
            "text": "t=17.183µs, τ=1.716µs",
            "x": 0.01,
            "xref": "paper",
            "y": 1.06,
            "yref": "paper"
           },
           {
            "font": {
             "color": "blue",
             "size": 14
            },
            "showarrow": false,
            "text": "En vuelo",
            "x": 0.99,
            "xref": "paper",
            "y": 1.05,
            "yref": "paper"
           }
          ]
         },
         "name": "102"
        },
        {
         "data": [
          {
           "line": {
            "color": "green",
            "width": 4
           },
           "mode": "lines",
           "name": "Superficie",
           "type": "scatter",
           "x": [
            -1,
            1
           ],
           "y": [
            0,
            0
           ]
          },
          {
           "line": {
            "color": "lightblue",
            "dash": "dash",
            "width": 4
           },
           "mode": "lines",
           "name": "Tope Atmósfera",
           "type": "scatter",
           "x": [
            -1,
            1
           ],
           "y": [
            10,
            10
           ]
          },
          {
           "line": {
            "color": "grey",
            "dash": "dot",
            "width": 1
           },
           "mode": "lines",
           "type": "scatter",
           "x": [
            0,
            0
           ],
           "y": [
            10,
            4.824120603015075
           ]
          },
          {
           "marker": {
            "color": "red",
            "size": 10
           },
           "mode": "markers",
           "type": "scatter",
           "x": [
            0
           ],
           "y": [
            4.824120603015075
           ]
          },
          {
           "marker": {
            "color": "black",
            "size": 12,
            "symbol": "x"
           },
           "mode": "markers",
           "type": "scatter",
           "x": [
            0
           ],
           "y": [
            null
           ]
          }
         ],
         "layout": {
          "annotations": [
           {
            "showarrow": false,
            "text": "V/c=0.995, γ=10.01, Δτ=2.20µs, H=10.0km",
            "x": 0.01,
            "xref": "paper",
            "y": 1.12,
            "yref": "paper"
           },
           {
            "showarrow": false,
            "text": "t=17.352µs, τ=1.733µs",
            "x": 0.01,
            "xref": "paper",
            "y": 1.06,
            "yref": "paper"
           },
           {
            "font": {
             "color": "blue",
             "size": 14
            },
            "showarrow": false,
            "text": "En vuelo",
            "x": 0.99,
            "xref": "paper",
            "y": 1.05,
            "yref": "paper"
           }
          ]
         },
         "name": "103"
        },
        {
         "data": [
          {
           "line": {
            "color": "green",
            "width": 4
           },
           "mode": "lines",
           "name": "Superficie",
           "type": "scatter",
           "x": [
            -1,
            1
           ],
           "y": [
            0,
            0
           ]
          },
          {
           "line": {
            "color": "lightblue",
            "dash": "dash",
            "width": 4
           },
           "mode": "lines",
           "name": "Tope Atmósfera",
           "type": "scatter",
           "x": [
            -1,
            1
           ],
           "y": [
            10,
            10
           ]
          },
          {
           "line": {
            "color": "grey",
            "dash": "dot",
            "width": 1
           },
           "mode": "lines",
           "type": "scatter",
           "x": [
            0,
            0
           ],
           "y": [
            10,
            4.773869346733669
           ]
          },
          {
           "marker": {
            "color": "red",
            "size": 10
           },
           "mode": "markers",
           "type": "scatter",
           "x": [
            0
           ],
           "y": [
            4.773869346733669
           ]
          },
          {
           "marker": {
            "color": "black",
            "size": 12,
            "symbol": "x"
           },
           "mode": "markers",
           "type": "scatter",
           "x": [
            0
           ],
           "y": [
            null
           ]
          }
         ],
         "layout": {
          "annotations": [
           {
            "showarrow": false,
            "text": "V/c=0.995, γ=10.01, Δτ=2.20µs, H=10.0km",
            "x": 0.01,
            "xref": "paper",
            "y": 1.12,
            "yref": "paper"
           },
           {
            "showarrow": false,
            "text": "t=17.520µs, τ=1.750µs",
            "x": 0.01,
            "xref": "paper",
            "y": 1.06,
            "yref": "paper"
           },
           {
            "font": {
             "color": "blue",
             "size": 14
            },
            "showarrow": false,
            "text": "En vuelo",
            "x": 0.99,
            "xref": "paper",
            "y": 1.05,
            "yref": "paper"
           }
          ]
         },
         "name": "104"
        },
        {
         "data": [
          {
           "line": {
            "color": "green",
            "width": 4
           },
           "mode": "lines",
           "name": "Superficie",
           "type": "scatter",
           "x": [
            -1,
            1
           ],
           "y": [
            0,
            0
           ]
          },
          {
           "line": {
            "color": "lightblue",
            "dash": "dash",
            "width": 4
           },
           "mode": "lines",
           "name": "Tope Atmósfera",
           "type": "scatter",
           "x": [
            -1,
            1
           ],
           "y": [
            10,
            10
           ]
          },
          {
           "line": {
            "color": "grey",
            "dash": "dot",
            "width": 1
           },
           "mode": "lines",
           "type": "scatter",
           "x": [
            0,
            0
           ],
           "y": [
            10,
            4.723618090452261
           ]
          },
          {
           "marker": {
            "color": "red",
            "size": 10
           },
           "mode": "markers",
           "type": "scatter",
           "x": [
            0
           ],
           "y": [
            4.723618090452261
           ]
          },
          {
           "marker": {
            "color": "black",
            "size": 12,
            "symbol": "x"
           },
           "mode": "markers",
           "type": "scatter",
           "x": [
            0
           ],
           "y": [
            null
           ]
          }
         ],
         "layout": {
          "annotations": [
           {
            "showarrow": false,
            "text": "V/c=0.995, γ=10.01, Δτ=2.20µs, H=10.0km",
            "x": 0.01,
            "xref": "paper",
            "y": 1.12,
            "yref": "paper"
           },
           {
            "showarrow": false,
            "text": "t=17.689µs, τ=1.767µs",
            "x": 0.01,
            "xref": "paper",
            "y": 1.06,
            "yref": "paper"
           },
           {
            "font": {
             "color": "blue",
             "size": 14
            },
            "showarrow": false,
            "text": "En vuelo",
            "x": 0.99,
            "xref": "paper",
            "y": 1.05,
            "yref": "paper"
           }
          ]
         },
         "name": "105"
        },
        {
         "data": [
          {
           "line": {
            "color": "green",
            "width": 4
           },
           "mode": "lines",
           "name": "Superficie",
           "type": "scatter",
           "x": [
            -1,
            1
           ],
           "y": [
            0,
            0
           ]
          },
          {
           "line": {
            "color": "lightblue",
            "dash": "dash",
            "width": 4
           },
           "mode": "lines",
           "name": "Tope Atmósfera",
           "type": "scatter",
           "x": [
            -1,
            1
           ],
           "y": [
            10,
            10
           ]
          },
          {
           "line": {
            "color": "grey",
            "dash": "dot",
            "width": 1
           },
           "mode": "lines",
           "type": "scatter",
           "x": [
            0,
            0
           ],
           "y": [
            10,
            4.673366834170854
           ]
          },
          {
           "marker": {
            "color": "red",
            "size": 10
           },
           "mode": "markers",
           "type": "scatter",
           "x": [
            0
           ],
           "y": [
            4.673366834170854
           ]
          },
          {
           "marker": {
            "color": "black",
            "size": 12,
            "symbol": "x"
           },
           "mode": "markers",
           "type": "scatter",
           "x": [
            0
           ],
           "y": [
            null
           ]
          }
         ],
         "layout": {
          "annotations": [
           {
            "showarrow": false,
            "text": "V/c=0.995, γ=10.01, Δτ=2.20µs, H=10.0km",
            "x": 0.01,
            "xref": "paper",
            "y": 1.12,
            "yref": "paper"
           },
           {
            "showarrow": false,
            "text": "t=17.857µs, τ=1.783µs",
            "x": 0.01,
            "xref": "paper",
            "y": 1.06,
            "yref": "paper"
           },
           {
            "font": {
             "color": "blue",
             "size": 14
            },
            "showarrow": false,
            "text": "En vuelo",
            "x": 0.99,
            "xref": "paper",
            "y": 1.05,
            "yref": "paper"
           }
          ]
         },
         "name": "106"
        },
        {
         "data": [
          {
           "line": {
            "color": "green",
            "width": 4
           },
           "mode": "lines",
           "name": "Superficie",
           "type": "scatter",
           "x": [
            -1,
            1
           ],
           "y": [
            0,
            0
           ]
          },
          {
           "line": {
            "color": "lightblue",
            "dash": "dash",
            "width": 4
           },
           "mode": "lines",
           "name": "Tope Atmósfera",
           "type": "scatter",
           "x": [
            -1,
            1
           ],
           "y": [
            10,
            10
           ]
          },
          {
           "line": {
            "color": "grey",
            "dash": "dot",
            "width": 1
           },
           "mode": "lines",
           "type": "scatter",
           "x": [
            0,
            0
           ],
           "y": [
            10,
            4.623115577889447
           ]
          },
          {
           "marker": {
            "color": "red",
            "size": 10
           },
           "mode": "markers",
           "type": "scatter",
           "x": [
            0
           ],
           "y": [
            4.623115577889447
           ]
          },
          {
           "marker": {
            "color": "black",
            "size": 12,
            "symbol": "x"
           },
           "mode": "markers",
           "type": "scatter",
           "x": [
            0
           ],
           "y": [
            null
           ]
          }
         ],
         "layout": {
          "annotations": [
           {
            "showarrow": false,
            "text": "V/c=0.995, γ=10.01, Δτ=2.20µs, H=10.0km",
            "x": 0.01,
            "xref": "paper",
            "y": 1.12,
            "yref": "paper"
           },
           {
            "showarrow": false,
            "text": "t=18.026µs, τ=1.800µs",
            "x": 0.01,
            "xref": "paper",
            "y": 1.06,
            "yref": "paper"
           },
           {
            "font": {
             "color": "blue",
             "size": 14
            },
            "showarrow": false,
            "text": "En vuelo",
            "x": 0.99,
            "xref": "paper",
            "y": 1.05,
            "yref": "paper"
           }
          ]
         },
         "name": "107"
        },
        {
         "data": [
          {
           "line": {
            "color": "green",
            "width": 4
           },
           "mode": "lines",
           "name": "Superficie",
           "type": "scatter",
           "x": [
            -1,
            1
           ],
           "y": [
            0,
            0
           ]
          },
          {
           "line": {
            "color": "lightblue",
            "dash": "dash",
            "width": 4
           },
           "mode": "lines",
           "name": "Tope Atmósfera",
           "type": "scatter",
           "x": [
            -1,
            1
           ],
           "y": [
            10,
            10
           ]
          },
          {
           "line": {
            "color": "grey",
            "dash": "dot",
            "width": 1
           },
           "mode": "lines",
           "type": "scatter",
           "x": [
            0,
            0
           ],
           "y": [
            10,
            4.57286432160804
           ]
          },
          {
           "marker": {
            "color": "red",
            "size": 10
           },
           "mode": "markers",
           "type": "scatter",
           "x": [
            0
           ],
           "y": [
            4.57286432160804
           ]
          },
          {
           "marker": {
            "color": "black",
            "size": 12,
            "symbol": "x"
           },
           "mode": "markers",
           "type": "scatter",
           "x": [
            0
           ],
           "y": [
            null
           ]
          }
         ],
         "layout": {
          "annotations": [
           {
            "showarrow": false,
            "text": "V/c=0.995, γ=10.01, Δτ=2.20µs, H=10.0km",
            "x": 0.01,
            "xref": "paper",
            "y": 1.12,
            "yref": "paper"
           },
           {
            "showarrow": false,
            "text": "t=18.194µs, τ=1.817µs",
            "x": 0.01,
            "xref": "paper",
            "y": 1.06,
            "yref": "paper"
           },
           {
            "font": {
             "color": "blue",
             "size": 14
            },
            "showarrow": false,
            "text": "En vuelo",
            "x": 0.99,
            "xref": "paper",
            "y": 1.05,
            "yref": "paper"
           }
          ]
         },
         "name": "108"
        },
        {
         "data": [
          {
           "line": {
            "color": "green",
            "width": 4
           },
           "mode": "lines",
           "name": "Superficie",
           "type": "scatter",
           "x": [
            -1,
            1
           ],
           "y": [
            0,
            0
           ]
          },
          {
           "line": {
            "color": "lightblue",
            "dash": "dash",
            "width": 4
           },
           "mode": "lines",
           "name": "Tope Atmósfera",
           "type": "scatter",
           "x": [
            -1,
            1
           ],
           "y": [
            10,
            10
           ]
          },
          {
           "line": {
            "color": "grey",
            "dash": "dot",
            "width": 1
           },
           "mode": "lines",
           "type": "scatter",
           "x": [
            0,
            0
           ],
           "y": [
            10,
            4.522613065326634
           ]
          },
          {
           "marker": {
            "color": "red",
            "size": 10
           },
           "mode": "markers",
           "type": "scatter",
           "x": [
            0
           ],
           "y": [
            4.522613065326634
           ]
          },
          {
           "marker": {
            "color": "black",
            "size": 12,
            "symbol": "x"
           },
           "mode": "markers",
           "type": "scatter",
           "x": [
            0
           ],
           "y": [
            null
           ]
          }
         ],
         "layout": {
          "annotations": [
           {
            "showarrow": false,
            "text": "V/c=0.995, γ=10.01, Δτ=2.20µs, H=10.0km",
            "x": 0.01,
            "xref": "paper",
            "y": 1.12,
            "yref": "paper"
           },
           {
            "showarrow": false,
            "text": "t=18.362µs, τ=1.834µs",
            "x": 0.01,
            "xref": "paper",
            "y": 1.06,
            "yref": "paper"
           },
           {
            "font": {
             "color": "blue",
             "size": 14
            },
            "showarrow": false,
            "text": "En vuelo",
            "x": 0.99,
            "xref": "paper",
            "y": 1.05,
            "yref": "paper"
           }
          ]
         },
         "name": "109"
        },
        {
         "data": [
          {
           "line": {
            "color": "green",
            "width": 4
           },
           "mode": "lines",
           "name": "Superficie",
           "type": "scatter",
           "x": [
            -1,
            1
           ],
           "y": [
            0,
            0
           ]
          },
          {
           "line": {
            "color": "lightblue",
            "dash": "dash",
            "width": 4
           },
           "mode": "lines",
           "name": "Tope Atmósfera",
           "type": "scatter",
           "x": [
            -1,
            1
           ],
           "y": [
            10,
            10
           ]
          },
          {
           "line": {
            "color": "grey",
            "dash": "dot",
            "width": 1
           },
           "mode": "lines",
           "type": "scatter",
           "x": [
            0,
            0
           ],
           "y": [
            10,
            4.472361809045225
           ]
          },
          {
           "marker": {
            "color": "red",
            "size": 10
           },
           "mode": "markers",
           "type": "scatter",
           "x": [
            0
           ],
           "y": [
            4.472361809045225
           ]
          },
          {
           "marker": {
            "color": "black",
            "size": 12,
            "symbol": "x"
           },
           "mode": "markers",
           "type": "scatter",
           "x": [
            0
           ],
           "y": [
            null
           ]
          }
         ],
         "layout": {
          "annotations": [
           {
            "showarrow": false,
            "text": "V/c=0.995, γ=10.01, Δτ=2.20µs, H=10.0km",
            "x": 0.01,
            "xref": "paper",
            "y": 1.12,
            "yref": "paper"
           },
           {
            "showarrow": false,
            "text": "t=18.531µs, τ=1.851µs",
            "x": 0.01,
            "xref": "paper",
            "y": 1.06,
            "yref": "paper"
           },
           {
            "font": {
             "color": "blue",
             "size": 14
            },
            "showarrow": false,
            "text": "En vuelo",
            "x": 0.99,
            "xref": "paper",
            "y": 1.05,
            "yref": "paper"
           }
          ]
         },
         "name": "110"
        },
        {
         "data": [
          {
           "line": {
            "color": "green",
            "width": 4
           },
           "mode": "lines",
           "name": "Superficie",
           "type": "scatter",
           "x": [
            -1,
            1
           ],
           "y": [
            0,
            0
           ]
          },
          {
           "line": {
            "color": "lightblue",
            "dash": "dash",
            "width": 4
           },
           "mode": "lines",
           "name": "Tope Atmósfera",
           "type": "scatter",
           "x": [
            -1,
            1
           ],
           "y": [
            10,
            10
           ]
          },
          {
           "line": {
            "color": "grey",
            "dash": "dot",
            "width": 1
           },
           "mode": "lines",
           "type": "scatter",
           "x": [
            0,
            0
           ],
           "y": [
            10,
            4.422110552763819
           ]
          },
          {
           "marker": {
            "color": "red",
            "size": 10
           },
           "mode": "markers",
           "type": "scatter",
           "x": [
            0
           ],
           "y": [
            4.422110552763819
           ]
          },
          {
           "marker": {
            "color": "black",
            "size": 12,
            "symbol": "x"
           },
           "mode": "markers",
           "type": "scatter",
           "x": [
            0
           ],
           "y": [
            null
           ]
          }
         ],
         "layout": {
          "annotations": [
           {
            "showarrow": false,
            "text": "V/c=0.995, γ=10.01, Δτ=2.20µs, H=10.0km",
            "x": 0.01,
            "xref": "paper",
            "y": 1.12,
            "yref": "paper"
           },
           {
            "showarrow": false,
            "text": "t=18.699µs, τ=1.868µs",
            "x": 0.01,
            "xref": "paper",
            "y": 1.06,
            "yref": "paper"
           },
           {
            "font": {
             "color": "blue",
             "size": 14
            },
            "showarrow": false,
            "text": "En vuelo",
            "x": 0.99,
            "xref": "paper",
            "y": 1.05,
            "yref": "paper"
           }
          ]
         },
         "name": "111"
        },
        {
         "data": [
          {
           "line": {
            "color": "green",
            "width": 4
           },
           "mode": "lines",
           "name": "Superficie",
           "type": "scatter",
           "x": [
            -1,
            1
           ],
           "y": [
            0,
            0
           ]
          },
          {
           "line": {
            "color": "lightblue",
            "dash": "dash",
            "width": 4
           },
           "mode": "lines",
           "name": "Tope Atmósfera",
           "type": "scatter",
           "x": [
            -1,
            1
           ],
           "y": [
            10,
            10
           ]
          },
          {
           "line": {
            "color": "grey",
            "dash": "dot",
            "width": 1
           },
           "mode": "lines",
           "type": "scatter",
           "x": [
            0,
            0
           ],
           "y": [
            10,
            4.371859296482412
           ]
          },
          {
           "marker": {
            "color": "red",
            "size": 10
           },
           "mode": "markers",
           "type": "scatter",
           "x": [
            0
           ],
           "y": [
            4.371859296482412
           ]
          },
          {
           "marker": {
            "color": "black",
            "size": 12,
            "symbol": "x"
           },
           "mode": "markers",
           "type": "scatter",
           "x": [
            0
           ],
           "y": [
            null
           ]
          }
         ],
         "layout": {
          "annotations": [
           {
            "showarrow": false,
            "text": "V/c=0.995, γ=10.01, Δτ=2.20µs, H=10.0km",
            "x": 0.01,
            "xref": "paper",
            "y": 1.12,
            "yref": "paper"
           },
           {
            "showarrow": false,
            "text": "t=18.868µs, τ=1.884µs",
            "x": 0.01,
            "xref": "paper",
            "y": 1.06,
            "yref": "paper"
           },
           {
            "font": {
             "color": "blue",
             "size": 14
            },
            "showarrow": false,
            "text": "En vuelo",
            "x": 0.99,
            "xref": "paper",
            "y": 1.05,
            "yref": "paper"
           }
          ]
         },
         "name": "112"
        },
        {
         "data": [
          {
           "line": {
            "color": "green",
            "width": 4
           },
           "mode": "lines",
           "name": "Superficie",
           "type": "scatter",
           "x": [
            -1,
            1
           ],
           "y": [
            0,
            0
           ]
          },
          {
           "line": {
            "color": "lightblue",
            "dash": "dash",
            "width": 4
           },
           "mode": "lines",
           "name": "Tope Atmósfera",
           "type": "scatter",
           "x": [
            -1,
            1
           ],
           "y": [
            10,
            10
           ]
          },
          {
           "line": {
            "color": "grey",
            "dash": "dot",
            "width": 1
           },
           "mode": "lines",
           "type": "scatter",
           "x": [
            0,
            0
           ],
           "y": [
            10,
            4.3216080402010055
           ]
          },
          {
           "marker": {
            "color": "red",
            "size": 10
           },
           "mode": "markers",
           "type": "scatter",
           "x": [
            0
           ],
           "y": [
            4.3216080402010055
           ]
          },
          {
           "marker": {
            "color": "black",
            "size": 12,
            "symbol": "x"
           },
           "mode": "markers",
           "type": "scatter",
           "x": [
            0
           ],
           "y": [
            null
           ]
          }
         ],
         "layout": {
          "annotations": [
           {
            "showarrow": false,
            "text": "V/c=0.995, γ=10.01, Δτ=2.20µs, H=10.0km",
            "x": 0.01,
            "xref": "paper",
            "y": 1.12,
            "yref": "paper"
           },
           {
            "showarrow": false,
            "text": "t=19.036µs, τ=1.901µs",
            "x": 0.01,
            "xref": "paper",
            "y": 1.06,
            "yref": "paper"
           },
           {
            "font": {
             "color": "blue",
             "size": 14
            },
            "showarrow": false,
            "text": "En vuelo",
            "x": 0.99,
            "xref": "paper",
            "y": 1.05,
            "yref": "paper"
           }
          ]
         },
         "name": "113"
        },
        {
         "data": [
          {
           "line": {
            "color": "green",
            "width": 4
           },
           "mode": "lines",
           "name": "Superficie",
           "type": "scatter",
           "x": [
            -1,
            1
           ],
           "y": [
            0,
            0
           ]
          },
          {
           "line": {
            "color": "lightblue",
            "dash": "dash",
            "width": 4
           },
           "mode": "lines",
           "name": "Tope Atmósfera",
           "type": "scatter",
           "x": [
            -1,
            1
           ],
           "y": [
            10,
            10
           ]
          },
          {
           "line": {
            "color": "grey",
            "dash": "dot",
            "width": 1
           },
           "mode": "lines",
           "type": "scatter",
           "x": [
            0,
            0
           ],
           "y": [
            10,
            4.2713567839195985
           ]
          },
          {
           "marker": {
            "color": "red",
            "size": 10
           },
           "mode": "markers",
           "type": "scatter",
           "x": [
            0
           ],
           "y": [
            4.2713567839195985
           ]
          },
          {
           "marker": {
            "color": "black",
            "size": 12,
            "symbol": "x"
           },
           "mode": "markers",
           "type": "scatter",
           "x": [
            0
           ],
           "y": [
            null
           ]
          }
         ],
         "layout": {
          "annotations": [
           {
            "showarrow": false,
            "text": "V/c=0.995, γ=10.01, Δτ=2.20µs, H=10.0km",
            "x": 0.01,
            "xref": "paper",
            "y": 1.12,
            "yref": "paper"
           },
           {
            "showarrow": false,
            "text": "t=19.205µs, τ=1.918µs",
            "x": 0.01,
            "xref": "paper",
            "y": 1.06,
            "yref": "paper"
           },
           {
            "font": {
             "color": "blue",
             "size": 14
            },
            "showarrow": false,
            "text": "En vuelo",
            "x": 0.99,
            "xref": "paper",
            "y": 1.05,
            "yref": "paper"
           }
          ]
         },
         "name": "114"
        },
        {
         "data": [
          {
           "line": {
            "color": "green",
            "width": 4
           },
           "mode": "lines",
           "name": "Superficie",
           "type": "scatter",
           "x": [
            -1,
            1
           ],
           "y": [
            0,
            0
           ]
          },
          {
           "line": {
            "color": "lightblue",
            "dash": "dash",
            "width": 4
           },
           "mode": "lines",
           "name": "Tope Atmósfera",
           "type": "scatter",
           "x": [
            -1,
            1
           ],
           "y": [
            10,
            10
           ]
          },
          {
           "line": {
            "color": "grey",
            "dash": "dot",
            "width": 1
           },
           "mode": "lines",
           "type": "scatter",
           "x": [
            0,
            0
           ],
           "y": [
            10,
            4.22110552763819
           ]
          },
          {
           "marker": {
            "color": "red",
            "size": 10
           },
           "mode": "markers",
           "type": "scatter",
           "x": [
            0
           ],
           "y": [
            4.22110552763819
           ]
          },
          {
           "marker": {
            "color": "black",
            "size": 12,
            "symbol": "x"
           },
           "mode": "markers",
           "type": "scatter",
           "x": [
            0
           ],
           "y": [
            null
           ]
          }
         ],
         "layout": {
          "annotations": [
           {
            "showarrow": false,
            "text": "V/c=0.995, γ=10.01, Δτ=2.20µs, H=10.0km",
            "x": 0.01,
            "xref": "paper",
            "y": 1.12,
            "yref": "paper"
           },
           {
            "showarrow": false,
            "text": "t=19.373µs, τ=1.935µs",
            "x": 0.01,
            "xref": "paper",
            "y": 1.06,
            "yref": "paper"
           },
           {
            "font": {
             "color": "blue",
             "size": 14
            },
            "showarrow": false,
            "text": "En vuelo",
            "x": 0.99,
            "xref": "paper",
            "y": 1.05,
            "yref": "paper"
           }
          ]
         },
         "name": "115"
        },
        {
         "data": [
          {
           "line": {
            "color": "green",
            "width": 4
           },
           "mode": "lines",
           "name": "Superficie",
           "type": "scatter",
           "x": [
            -1,
            1
           ],
           "y": [
            0,
            0
           ]
          },
          {
           "line": {
            "color": "lightblue",
            "dash": "dash",
            "width": 4
           },
           "mode": "lines",
           "name": "Tope Atmósfera",
           "type": "scatter",
           "x": [
            -1,
            1
           ],
           "y": [
            10,
            10
           ]
          },
          {
           "line": {
            "color": "grey",
            "dash": "dot",
            "width": 1
           },
           "mode": "lines",
           "type": "scatter",
           "x": [
            0,
            0
           ],
           "y": [
            10,
            4.1708542713567835
           ]
          },
          {
           "marker": {
            "color": "red",
            "size": 10
           },
           "mode": "markers",
           "type": "scatter",
           "x": [
            0
           ],
           "y": [
            4.1708542713567835
           ]
          },
          {
           "marker": {
            "color": "black",
            "size": 12,
            "symbol": "x"
           },
           "mode": "markers",
           "type": "scatter",
           "x": [
            0
           ],
           "y": [
            null
           ]
          }
         ],
         "layout": {
          "annotations": [
           {
            "showarrow": false,
            "text": "V/c=0.995, γ=10.01, Δτ=2.20µs, H=10.0km",
            "x": 0.01,
            "xref": "paper",
            "y": 1.12,
            "yref": "paper"
           },
           {
            "showarrow": false,
            "text": "t=19.542µs, τ=1.952µs",
            "x": 0.01,
            "xref": "paper",
            "y": 1.06,
            "yref": "paper"
           },
           {
            "font": {
             "color": "blue",
             "size": 14
            },
            "showarrow": false,
            "text": "En vuelo",
            "x": 0.99,
            "xref": "paper",
            "y": 1.05,
            "yref": "paper"
           }
          ]
         },
         "name": "116"
        },
        {
         "data": [
          {
           "line": {
            "color": "green",
            "width": 4
           },
           "mode": "lines",
           "name": "Superficie",
           "type": "scatter",
           "x": [
            -1,
            1
           ],
           "y": [
            0,
            0
           ]
          },
          {
           "line": {
            "color": "lightblue",
            "dash": "dash",
            "width": 4
           },
           "mode": "lines",
           "name": "Tope Atmósfera",
           "type": "scatter",
           "x": [
            -1,
            1
           ],
           "y": [
            10,
            10
           ]
          },
          {
           "line": {
            "color": "grey",
            "dash": "dot",
            "width": 1
           },
           "mode": "lines",
           "type": "scatter",
           "x": [
            0,
            0
           ],
           "y": [
            10,
            4.1206030150753765
           ]
          },
          {
           "marker": {
            "color": "red",
            "size": 10
           },
           "mode": "markers",
           "type": "scatter",
           "x": [
            0
           ],
           "y": [
            4.1206030150753765
           ]
          },
          {
           "marker": {
            "color": "black",
            "size": 12,
            "symbol": "x"
           },
           "mode": "markers",
           "type": "scatter",
           "x": [
            0
           ],
           "y": [
            null
           ]
          }
         ],
         "layout": {
          "annotations": [
           {
            "showarrow": false,
            "text": "V/c=0.995, γ=10.01, Δτ=2.20µs, H=10.0km",
            "x": 0.01,
            "xref": "paper",
            "y": 1.12,
            "yref": "paper"
           },
           {
            "showarrow": false,
            "text": "t=19.710µs, τ=1.969µs",
            "x": 0.01,
            "xref": "paper",
            "y": 1.06,
            "yref": "paper"
           },
           {
            "font": {
             "color": "blue",
             "size": 14
            },
            "showarrow": false,
            "text": "En vuelo",
            "x": 0.99,
            "xref": "paper",
            "y": 1.05,
            "yref": "paper"
           }
          ]
         },
         "name": "117"
        },
        {
         "data": [
          {
           "line": {
            "color": "green",
            "width": 4
           },
           "mode": "lines",
           "name": "Superficie",
           "type": "scatter",
           "x": [
            -1,
            1
           ],
           "y": [
            0,
            0
           ]
          },
          {
           "line": {
            "color": "lightblue",
            "dash": "dash",
            "width": 4
           },
           "mode": "lines",
           "name": "Tope Atmósfera",
           "type": "scatter",
           "x": [
            -1,
            1
           ],
           "y": [
            10,
            10
           ]
          },
          {
           "line": {
            "color": "grey",
            "dash": "dot",
            "width": 1
           },
           "mode": "lines",
           "type": "scatter",
           "x": [
            0,
            0
           ],
           "y": [
            10,
            4.0703517587939695
           ]
          },
          {
           "marker": {
            "color": "red",
            "size": 10
           },
           "mode": "markers",
           "type": "scatter",
           "x": [
            0
           ],
           "y": [
            4.0703517587939695
           ]
          },
          {
           "marker": {
            "color": "black",
            "size": 12,
            "symbol": "x"
           },
           "mode": "markers",
           "type": "scatter",
           "x": [
            0
           ],
           "y": [
            null
           ]
          }
         ],
         "layout": {
          "annotations": [
           {
            "showarrow": false,
            "text": "V/c=0.995, γ=10.01, Δτ=2.20µs, H=10.0km",
            "x": 0.01,
            "xref": "paper",
            "y": 1.12,
            "yref": "paper"
           },
           {
            "showarrow": false,
            "text": "t=19.879µs, τ=1.985µs",
            "x": 0.01,
            "xref": "paper",
            "y": 1.06,
            "yref": "paper"
           },
           {
            "font": {
             "color": "blue",
             "size": 14
            },
            "showarrow": false,
            "text": "En vuelo",
            "x": 0.99,
            "xref": "paper",
            "y": 1.05,
            "yref": "paper"
           }
          ]
         },
         "name": "118"
        },
        {
         "data": [
          {
           "line": {
            "color": "green",
            "width": 4
           },
           "mode": "lines",
           "name": "Superficie",
           "type": "scatter",
           "x": [
            -1,
            1
           ],
           "y": [
            0,
            0
           ]
          },
          {
           "line": {
            "color": "lightblue",
            "dash": "dash",
            "width": 4
           },
           "mode": "lines",
           "name": "Tope Atmósfera",
           "type": "scatter",
           "x": [
            -1,
            1
           ],
           "y": [
            10,
            10
           ]
          },
          {
           "line": {
            "color": "grey",
            "dash": "dot",
            "width": 1
           },
           "mode": "lines",
           "type": "scatter",
           "x": [
            0,
            0
           ],
           "y": [
            10,
            4.020100502512562
           ]
          },
          {
           "marker": {
            "color": "red",
            "size": 10
           },
           "mode": "markers",
           "type": "scatter",
           "x": [
            0
           ],
           "y": [
            4.020100502512562
           ]
          },
          {
           "marker": {
            "color": "black",
            "size": 12,
            "symbol": "x"
           },
           "mode": "markers",
           "type": "scatter",
           "x": [
            0
           ],
           "y": [
            null
           ]
          }
         ],
         "layout": {
          "annotations": [
           {
            "showarrow": false,
            "text": "V/c=0.995, γ=10.01, Δτ=2.20µs, H=10.0km",
            "x": 0.01,
            "xref": "paper",
            "y": 1.12,
            "yref": "paper"
           },
           {
            "showarrow": false,
            "text": "t=20.047µs, τ=2.002µs",
            "x": 0.01,
            "xref": "paper",
            "y": 1.06,
            "yref": "paper"
           },
           {
            "font": {
             "color": "blue",
             "size": 14
            },
            "showarrow": false,
            "text": "En vuelo",
            "x": 0.99,
            "xref": "paper",
            "y": 1.05,
            "yref": "paper"
           }
          ]
         },
         "name": "119"
        },
        {
         "data": [
          {
           "line": {
            "color": "green",
            "width": 4
           },
           "mode": "lines",
           "name": "Superficie",
           "type": "scatter",
           "x": [
            -1,
            1
           ],
           "y": [
            0,
            0
           ]
          },
          {
           "line": {
            "color": "lightblue",
            "dash": "dash",
            "width": 4
           },
           "mode": "lines",
           "name": "Tope Atmósfera",
           "type": "scatter",
           "x": [
            -1,
            1
           ],
           "y": [
            10,
            10
           ]
          },
          {
           "line": {
            "color": "grey",
            "dash": "dot",
            "width": 1
           },
           "mode": "lines",
           "type": "scatter",
           "x": [
            0,
            0
           ],
           "y": [
            10,
            3.9698492462311554
           ]
          },
          {
           "marker": {
            "color": "red",
            "size": 10
           },
           "mode": "markers",
           "type": "scatter",
           "x": [
            0
           ],
           "y": [
            3.9698492462311554
           ]
          },
          {
           "marker": {
            "color": "black",
            "size": 12,
            "symbol": "x"
           },
           "mode": "markers",
           "type": "scatter",
           "x": [
            0
           ],
           "y": [
            null
           ]
          }
         ],
         "layout": {
          "annotations": [
           {
            "showarrow": false,
            "text": "V/c=0.995, γ=10.01, Δτ=2.20µs, H=10.0km",
            "x": 0.01,
            "xref": "paper",
            "y": 1.12,
            "yref": "paper"
           },
           {
            "showarrow": false,
            "text": "t=20.216µs, τ=2.019µs",
            "x": 0.01,
            "xref": "paper",
            "y": 1.06,
            "yref": "paper"
           },
           {
            "font": {
             "color": "blue",
             "size": 14
            },
            "showarrow": false,
            "text": "En vuelo",
            "x": 0.99,
            "xref": "paper",
            "y": 1.05,
            "yref": "paper"
           }
          ]
         },
         "name": "120"
        },
        {
         "data": [
          {
           "line": {
            "color": "green",
            "width": 4
           },
           "mode": "lines",
           "name": "Superficie",
           "type": "scatter",
           "x": [
            -1,
            1
           ],
           "y": [
            0,
            0
           ]
          },
          {
           "line": {
            "color": "lightblue",
            "dash": "dash",
            "width": 4
           },
           "mode": "lines",
           "name": "Tope Atmósfera",
           "type": "scatter",
           "x": [
            -1,
            1
           ],
           "y": [
            10,
            10
           ]
          },
          {
           "line": {
            "color": "grey",
            "dash": "dot",
            "width": 1
           },
           "mode": "lines",
           "type": "scatter",
           "x": [
            0,
            0
           ],
           "y": [
            10,
            3.9195979899497484
           ]
          },
          {
           "marker": {
            "color": "red",
            "size": 10
           },
           "mode": "markers",
           "type": "scatter",
           "x": [
            0
           ],
           "y": [
            3.9195979899497484
           ]
          },
          {
           "marker": {
            "color": "black",
            "size": 12,
            "symbol": "x"
           },
           "mode": "markers",
           "type": "scatter",
           "x": [
            0
           ],
           "y": [
            null
           ]
          }
         ],
         "layout": {
          "annotations": [
           {
            "showarrow": false,
            "text": "V/c=0.995, γ=10.01, Δτ=2.20µs, H=10.0km",
            "x": 0.01,
            "xref": "paper",
            "y": 1.12,
            "yref": "paper"
           },
           {
            "showarrow": false,
            "text": "t=20.384µs, τ=2.036µs",
            "x": 0.01,
            "xref": "paper",
            "y": 1.06,
            "yref": "paper"
           },
           {
            "font": {
             "color": "blue",
             "size": 14
            },
            "showarrow": false,
            "text": "En vuelo",
            "x": 0.99,
            "xref": "paper",
            "y": 1.05,
            "yref": "paper"
           }
          ]
         },
         "name": "121"
        },
        {
         "data": [
          {
           "line": {
            "color": "green",
            "width": 4
           },
           "mode": "lines",
           "name": "Superficie",
           "type": "scatter",
           "x": [
            -1,
            1
           ],
           "y": [
            0,
            0
           ]
          },
          {
           "line": {
            "color": "lightblue",
            "dash": "dash",
            "width": 4
           },
           "mode": "lines",
           "name": "Tope Atmósfera",
           "type": "scatter",
           "x": [
            -1,
            1
           ],
           "y": [
            10,
            10
           ]
          },
          {
           "line": {
            "color": "grey",
            "dash": "dot",
            "width": 1
           },
           "mode": "lines",
           "type": "scatter",
           "x": [
            0,
            0
           ],
           "y": [
            10,
            3.8693467336683414
           ]
          },
          {
           "marker": {
            "color": "red",
            "size": 10
           },
           "mode": "markers",
           "type": "scatter",
           "x": [
            0
           ],
           "y": [
            3.8693467336683414
           ]
          },
          {
           "marker": {
            "color": "black",
            "size": 12,
            "symbol": "x"
           },
           "mode": "markers",
           "type": "scatter",
           "x": [
            0
           ],
           "y": [
            null
           ]
          }
         ],
         "layout": {
          "annotations": [
           {
            "showarrow": false,
            "text": "V/c=0.995, γ=10.01, Δτ=2.20µs, H=10.0km",
            "x": 0.01,
            "xref": "paper",
            "y": 1.12,
            "yref": "paper"
           },
           {
            "showarrow": false,
            "text": "t=20.552µs, τ=2.053µs",
            "x": 0.01,
            "xref": "paper",
            "y": 1.06,
            "yref": "paper"
           },
           {
            "font": {
             "color": "blue",
             "size": 14
            },
            "showarrow": false,
            "text": "En vuelo",
            "x": 0.99,
            "xref": "paper",
            "y": 1.05,
            "yref": "paper"
           }
          ]
         },
         "name": "122"
        },
        {
         "data": [
          {
           "line": {
            "color": "green",
            "width": 4
           },
           "mode": "lines",
           "name": "Superficie",
           "type": "scatter",
           "x": [
            -1,
            1
           ],
           "y": [
            0,
            0
           ]
          },
          {
           "line": {
            "color": "lightblue",
            "dash": "dash",
            "width": 4
           },
           "mode": "lines",
           "name": "Tope Atmósfera",
           "type": "scatter",
           "x": [
            -1,
            1
           ],
           "y": [
            10,
            10
           ]
          },
          {
           "line": {
            "color": "grey",
            "dash": "dot",
            "width": 1
           },
           "mode": "lines",
           "type": "scatter",
           "x": [
            0,
            0
           ],
           "y": [
            10,
            3.8190954773869343
           ]
          },
          {
           "marker": {
            "color": "red",
            "size": 10
           },
           "mode": "markers",
           "type": "scatter",
           "x": [
            0
           ],
           "y": [
            3.8190954773869343
           ]
          },
          {
           "marker": {
            "color": "black",
            "size": 12,
            "symbol": "x"
           },
           "mode": "markers",
           "type": "scatter",
           "x": [
            0
           ],
           "y": [
            null
           ]
          }
         ],
         "layout": {
          "annotations": [
           {
            "showarrow": false,
            "text": "V/c=0.995, γ=10.01, Δτ=2.20µs, H=10.0km",
            "x": 0.01,
            "xref": "paper",
            "y": 1.12,
            "yref": "paper"
           },
           {
            "showarrow": false,
            "text": "t=20.721µs, τ=2.069µs",
            "x": 0.01,
            "xref": "paper",
            "y": 1.06,
            "yref": "paper"
           },
           {
            "font": {
             "color": "blue",
             "size": 14
            },
            "showarrow": false,
            "text": "En vuelo",
            "x": 0.99,
            "xref": "paper",
            "y": 1.05,
            "yref": "paper"
           }
          ]
         },
         "name": "123"
        },
        {
         "data": [
          {
           "line": {
            "color": "green",
            "width": 4
           },
           "mode": "lines",
           "name": "Superficie",
           "type": "scatter",
           "x": [
            -1,
            1
           ],
           "y": [
            0,
            0
           ]
          },
          {
           "line": {
            "color": "lightblue",
            "dash": "dash",
            "width": 4
           },
           "mode": "lines",
           "name": "Tope Atmósfera",
           "type": "scatter",
           "x": [
            -1,
            1
           ],
           "y": [
            10,
            10
           ]
          },
          {
           "line": {
            "color": "grey",
            "dash": "dot",
            "width": 1
           },
           "mode": "lines",
           "type": "scatter",
           "x": [
            0,
            0
           ],
           "y": [
            10,
            3.7688442211055264
           ]
          },
          {
           "marker": {
            "color": "red",
            "size": 10
           },
           "mode": "markers",
           "type": "scatter",
           "x": [
            0
           ],
           "y": [
            3.7688442211055264
           ]
          },
          {
           "marker": {
            "color": "black",
            "size": 12,
            "symbol": "x"
           },
           "mode": "markers",
           "type": "scatter",
           "x": [
            0
           ],
           "y": [
            null
           ]
          }
         ],
         "layout": {
          "annotations": [
           {
            "showarrow": false,
            "text": "V/c=0.995, γ=10.01, Δτ=2.20µs, H=10.0km",
            "x": 0.01,
            "xref": "paper",
            "y": 1.12,
            "yref": "paper"
           },
           {
            "showarrow": false,
            "text": "t=20.889µs, τ=2.086µs",
            "x": 0.01,
            "xref": "paper",
            "y": 1.06,
            "yref": "paper"
           },
           {
            "font": {
             "color": "blue",
             "size": 14
            },
            "showarrow": false,
            "text": "En vuelo",
            "x": 0.99,
            "xref": "paper",
            "y": 1.05,
            "yref": "paper"
           }
          ]
         },
         "name": "124"
        },
        {
         "data": [
          {
           "line": {
            "color": "green",
            "width": 4
           },
           "mode": "lines",
           "name": "Superficie",
           "type": "scatter",
           "x": [
            -1,
            1
           ],
           "y": [
            0,
            0
           ]
          },
          {
           "line": {
            "color": "lightblue",
            "dash": "dash",
            "width": 4
           },
           "mode": "lines",
           "name": "Tope Atmósfera",
           "type": "scatter",
           "x": [
            -1,
            1
           ],
           "y": [
            10,
            10
           ]
          },
          {
           "line": {
            "color": "grey",
            "dash": "dot",
            "width": 1
           },
           "mode": "lines",
           "type": "scatter",
           "x": [
            0,
            0
           ],
           "y": [
            10,
            3.7185929648241203
           ]
          },
          {
           "marker": {
            "color": "red",
            "size": 10
           },
           "mode": "markers",
           "type": "scatter",
           "x": [
            0
           ],
           "y": [
            3.7185929648241203
           ]
          },
          {
           "marker": {
            "color": "black",
            "size": 12,
            "symbol": "x"
           },
           "mode": "markers",
           "type": "scatter",
           "x": [
            0
           ],
           "y": [
            null
           ]
          }
         ],
         "layout": {
          "annotations": [
           {
            "showarrow": false,
            "text": "V/c=0.995, γ=10.01, Δτ=2.20µs, H=10.0km",
            "x": 0.01,
            "xref": "paper",
            "y": 1.12,
            "yref": "paper"
           },
           {
            "showarrow": false,
            "text": "t=21.058µs, τ=2.103µs",
            "x": 0.01,
            "xref": "paper",
            "y": 1.06,
            "yref": "paper"
           },
           {
            "font": {
             "color": "blue",
             "size": 14
            },
            "showarrow": false,
            "text": "En vuelo",
            "x": 0.99,
            "xref": "paper",
            "y": 1.05,
            "yref": "paper"
           }
          ]
         },
         "name": "125"
        },
        {
         "data": [
          {
           "line": {
            "color": "green",
            "width": 4
           },
           "mode": "lines",
           "name": "Superficie",
           "type": "scatter",
           "x": [
            -1,
            1
           ],
           "y": [
            0,
            0
           ]
          },
          {
           "line": {
            "color": "lightblue",
            "dash": "dash",
            "width": 4
           },
           "mode": "lines",
           "name": "Tope Atmósfera",
           "type": "scatter",
           "x": [
            -1,
            1
           ],
           "y": [
            10,
            10
           ]
          },
          {
           "line": {
            "color": "grey",
            "dash": "dot",
            "width": 1
           },
           "mode": "lines",
           "type": "scatter",
           "x": [
            0,
            0
           ],
           "y": [
            10,
            3.6683417085427124
           ]
          },
          {
           "marker": {
            "color": "red",
            "size": 10
           },
           "mode": "markers",
           "type": "scatter",
           "x": [
            0
           ],
           "y": [
            3.6683417085427124
           ]
          },
          {
           "marker": {
            "color": "black",
            "size": 12,
            "symbol": "x"
           },
           "mode": "markers",
           "type": "scatter",
           "x": [
            0
           ],
           "y": [
            null
           ]
          }
         ],
         "layout": {
          "annotations": [
           {
            "showarrow": false,
            "text": "V/c=0.995, γ=10.01, Δτ=2.20µs, H=10.0km",
            "x": 0.01,
            "xref": "paper",
            "y": 1.12,
            "yref": "paper"
           },
           {
            "showarrow": false,
            "text": "t=21.226µs, τ=2.120µs",
            "x": 0.01,
            "xref": "paper",
            "y": 1.06,
            "yref": "paper"
           },
           {
            "font": {
             "color": "blue",
             "size": 14
            },
            "showarrow": false,
            "text": "En vuelo",
            "x": 0.99,
            "xref": "paper",
            "y": 1.05,
            "yref": "paper"
           }
          ]
         },
         "name": "126"
        },
        {
         "data": [
          {
           "line": {
            "color": "green",
            "width": 4
           },
           "mode": "lines",
           "name": "Superficie",
           "type": "scatter",
           "x": [
            -1,
            1
           ],
           "y": [
            0,
            0
           ]
          },
          {
           "line": {
            "color": "lightblue",
            "dash": "dash",
            "width": 4
           },
           "mode": "lines",
           "name": "Tope Atmósfera",
           "type": "scatter",
           "x": [
            -1,
            1
           ],
           "y": [
            10,
            10
           ]
          },
          {
           "line": {
            "color": "grey",
            "dash": "dot",
            "width": 1
           },
           "mode": "lines",
           "type": "scatter",
           "x": [
            0,
            0
           ],
           "y": [
            10,
            3.618090452261306
           ]
          },
          {
           "marker": {
            "color": "red",
            "size": 10
           },
           "mode": "markers",
           "type": "scatter",
           "x": [
            0
           ],
           "y": [
            3.618090452261306
           ]
          },
          {
           "marker": {
            "color": "black",
            "size": 12,
            "symbol": "x"
           },
           "mode": "markers",
           "type": "scatter",
           "x": [
            0
           ],
           "y": [
            null
           ]
          }
         ],
         "layout": {
          "annotations": [
           {
            "showarrow": false,
            "text": "V/c=0.995, γ=10.01, Δτ=2.20µs, H=10.0km",
            "x": 0.01,
            "xref": "paper",
            "y": 1.12,
            "yref": "paper"
           },
           {
            "showarrow": false,
            "text": "t=21.395µs, τ=2.137µs",
            "x": 0.01,
            "xref": "paper",
            "y": 1.06,
            "yref": "paper"
           },
           {
            "font": {
             "color": "blue",
             "size": 14
            },
            "showarrow": false,
            "text": "En vuelo",
            "x": 0.99,
            "xref": "paper",
            "y": 1.05,
            "yref": "paper"
           }
          ]
         },
         "name": "127"
        },
        {
         "data": [
          {
           "line": {
            "color": "green",
            "width": 4
           },
           "mode": "lines",
           "name": "Superficie",
           "type": "scatter",
           "x": [
            -1,
            1
           ],
           "y": [
            0,
            0
           ]
          },
          {
           "line": {
            "color": "lightblue",
            "dash": "dash",
            "width": 4
           },
           "mode": "lines",
           "name": "Tope Atmósfera",
           "type": "scatter",
           "x": [
            -1,
            1
           ],
           "y": [
            10,
            10
           ]
          },
          {
           "line": {
            "color": "grey",
            "dash": "dot",
            "width": 1
           },
           "mode": "lines",
           "type": "scatter",
           "x": [
            0,
            0
           ],
           "y": [
            10,
            3.567839195979899
           ]
          },
          {
           "marker": {
            "color": "red",
            "size": 10
           },
           "mode": "markers",
           "type": "scatter",
           "x": [
            0
           ],
           "y": [
            3.567839195979899
           ]
          },
          {
           "marker": {
            "color": "black",
            "size": 12,
            "symbol": "x"
           },
           "mode": "markers",
           "type": "scatter",
           "x": [
            0
           ],
           "y": [
            null
           ]
          }
         ],
         "layout": {
          "annotations": [
           {
            "showarrow": false,
            "text": "V/c=0.995, γ=10.01, Δτ=2.20µs, H=10.0km",
            "x": 0.01,
            "xref": "paper",
            "y": 1.12,
            "yref": "paper"
           },
           {
            "showarrow": false,
            "text": "t=21.563µs, τ=2.154µs",
            "x": 0.01,
            "xref": "paper",
            "y": 1.06,
            "yref": "paper"
           },
           {
            "font": {
             "color": "blue",
             "size": 14
            },
            "showarrow": false,
            "text": "En vuelo",
            "x": 0.99,
            "xref": "paper",
            "y": 1.05,
            "yref": "paper"
           }
          ]
         },
         "name": "128"
        },
        {
         "data": [
          {
           "line": {
            "color": "green",
            "width": 4
           },
           "mode": "lines",
           "name": "Superficie",
           "type": "scatter",
           "x": [
            -1,
            1
           ],
           "y": [
            0,
            0
           ]
          },
          {
           "line": {
            "color": "lightblue",
            "dash": "dash",
            "width": 4
           },
           "mode": "lines",
           "name": "Tope Atmósfera",
           "type": "scatter",
           "x": [
            -1,
            1
           ],
           "y": [
            10,
            10
           ]
          },
          {
           "line": {
            "color": "grey",
            "dash": "dot",
            "width": 1
           },
           "mode": "lines",
           "type": "scatter",
           "x": [
            0,
            0
           ],
           "y": [
            10,
            3.517587939698493
           ]
          },
          {
           "marker": {
            "color": "red",
            "size": 10
           },
           "mode": "markers",
           "type": "scatter",
           "x": [
            0
           ],
           "y": [
            3.517587939698493
           ]
          },
          {
           "marker": {
            "color": "black",
            "size": 12,
            "symbol": "x"
           },
           "mode": "markers",
           "type": "scatter",
           "x": [
            0
           ],
           "y": [
            null
           ]
          }
         ],
         "layout": {
          "annotations": [
           {
            "showarrow": false,
            "text": "V/c=0.995, γ=10.01, Δτ=2.20µs, H=10.0km",
            "x": 0.01,
            "xref": "paper",
            "y": 1.12,
            "yref": "paper"
           },
           {
            "showarrow": false,
            "text": "t=21.732µs, τ=2.170µs",
            "x": 0.01,
            "xref": "paper",
            "y": 1.06,
            "yref": "paper"
           },
           {
            "font": {
             "color": "blue",
             "size": 14
            },
            "showarrow": false,
            "text": "En vuelo",
            "x": 0.99,
            "xref": "paper",
            "y": 1.05,
            "yref": "paper"
           }
          ]
         },
         "name": "129"
        },
        {
         "data": [
          {
           "line": {
            "color": "green",
            "width": 4
           },
           "mode": "lines",
           "name": "Superficie",
           "type": "scatter",
           "x": [
            -1,
            1
           ],
           "y": [
            0,
            0
           ]
          },
          {
           "line": {
            "color": "lightblue",
            "dash": "dash",
            "width": 4
           },
           "mode": "lines",
           "name": "Tope Atmósfera",
           "type": "scatter",
           "x": [
            -1,
            1
           ],
           "y": [
            10,
            10
           ]
          },
          {
           "line": {
            "color": "grey",
            "dash": "dot",
            "width": 1
           },
           "mode": "lines",
           "type": "scatter",
           "x": [
            0,
            0
           ],
           "y": [
            10,
            3.467336683417085
           ]
          },
          {
           "marker": {
            "color": "red",
            "size": 10
           },
           "mode": "markers",
           "type": "scatter",
           "x": [
            0
           ],
           "y": [
            3.467336683417085
           ]
          },
          {
           "marker": {
            "color": "black",
            "size": 12,
            "symbol": "x"
           },
           "mode": "markers",
           "type": "scatter",
           "x": [
            0
           ],
           "y": [
            null
           ]
          }
         ],
         "layout": {
          "annotations": [
           {
            "showarrow": false,
            "text": "V/c=0.995, γ=10.01, Δτ=2.20µs, H=10.0km",
            "x": 0.01,
            "xref": "paper",
            "y": 1.12,
            "yref": "paper"
           },
           {
            "showarrow": false,
            "text": "t=21.900µs, τ=2.187µs",
            "x": 0.01,
            "xref": "paper",
            "y": 1.06,
            "yref": "paper"
           },
           {
            "font": {
             "color": "blue",
             "size": 14
            },
            "showarrow": false,
            "text": "En vuelo",
            "x": 0.99,
            "xref": "paper",
            "y": 1.05,
            "yref": "paper"
           }
          ]
         },
         "name": "130"
        },
        {
         "data": [
          {
           "line": {
            "color": "green",
            "width": 4
           },
           "mode": "lines",
           "name": "Superficie",
           "type": "scatter",
           "x": [
            -1,
            1
           ],
           "y": [
            0,
            0
           ]
          },
          {
           "line": {
            "color": "lightblue",
            "dash": "dash",
            "width": 4
           },
           "mode": "lines",
           "name": "Tope Atmósfera",
           "type": "scatter",
           "x": [
            -1,
            1
           ],
           "y": [
            10,
            10
           ]
          },
          {
           "line": {
            "color": "grey",
            "dash": "dot",
            "width": 1
           },
           "mode": "lines",
           "type": "scatter",
           "x": [
            0,
            0
           ],
           "y": [
            10,
            3.4293346485516603
           ]
          },
          {
           "marker": {
            "color": "red",
            "size": 10
           },
           "mode": "markers",
           "type": "scatter",
           "x": [
            0
           ],
           "y": [
            3.4293346485516603
           ]
          },
          {
           "marker": {
            "color": "black",
            "size": 12,
            "symbol": "x"
           },
           "mode": "markers",
           "type": "scatter",
           "x": [
            0
           ],
           "y": [
            3.4293346485516603
           ]
          }
         ],
         "layout": {
          "annotations": [
           {
            "showarrow": false,
            "text": "V/c=0.995, γ=10.01, Δτ=2.20µs, H=10.0km",
            "x": 0.01,
            "xref": "paper",
            "y": 1.12,
            "yref": "paper"
           },
           {
            "showarrow": false,
            "text": "t=22.028µs, τ=2.200µs",
            "x": 0.01,
            "xref": "paper",
            "y": 1.06,
            "yref": "paper"
           },
           {
            "font": {
             "color": "red",
             "size": 14
            },
            "showarrow": false,
            "text": "¡DECAYÓ!",
            "x": 0.99,
            "xref": "paper",
            "y": 1.05,
            "yref": "paper"
           }
          ]
         },
         "name": "131"
        },
        {
         "data": [
          {
           "line": {
            "color": "green",
            "width": 4
           },
           "mode": "lines",
           "name": "Superficie",
           "type": "scatter",
           "x": [
            -1,
            1
           ],
           "y": [
            0,
            0
           ]
          },
          {
           "line": {
            "color": "lightblue",
            "dash": "dash",
            "width": 4
           },
           "mode": "lines",
           "name": "Tope Atmósfera",
           "type": "scatter",
           "x": [
            -1,
            1
           ],
           "y": [
            10,
            10
           ]
          },
          {
           "line": {
            "color": "grey",
            "dash": "dot",
            "width": 1
           },
           "mode": "lines",
           "type": "scatter",
           "x": [
            0,
            0
           ],
           "y": [
            10,
            3.4293346485516603
           ]
          },
          {
           "marker": {
            "color": "red",
            "size": 10
           },
           "mode": "markers",
           "type": "scatter",
           "x": [
            0
           ],
           "y": [
            3.4293346485516603
           ]
          },
          {
           "marker": {
            "color": "black",
            "size": 12,
            "symbol": "x"
           },
           "mode": "markers",
           "type": "scatter",
           "x": [
            0
           ],
           "y": [
            3.4293346485516603
           ]
          }
         ],
         "layout": {
          "annotations": [
           {
            "showarrow": false,
            "text": "V/c=0.995, γ=10.01, Δτ=2.20µs, H=10.0km",
            "x": 0.01,
            "xref": "paper",
            "y": 1.12,
            "yref": "paper"
           },
           {
            "showarrow": false,
            "text": "t=22.028µs, τ=2.200µs",
            "x": 0.01,
            "xref": "paper",
            "y": 1.06,
            "yref": "paper"
           },
           {
            "font": {
             "color": "red",
             "size": 14
            },
            "showarrow": false,
            "text": "¡DECAYÓ!",
            "x": 0.99,
            "xref": "paper",
            "y": 1.05,
            "yref": "paper"
           }
          ]
         },
         "name": "132"
        },
        {
         "data": [
          {
           "line": {
            "color": "green",
            "width": 4
           },
           "mode": "lines",
           "name": "Superficie",
           "type": "scatter",
           "x": [
            -1,
            1
           ],
           "y": [
            0,
            0
           ]
          },
          {
           "line": {
            "color": "lightblue",
            "dash": "dash",
            "width": 4
           },
           "mode": "lines",
           "name": "Tope Atmósfera",
           "type": "scatter",
           "x": [
            -1,
            1
           ],
           "y": [
            10,
            10
           ]
          },
          {
           "line": {
            "color": "grey",
            "dash": "dot",
            "width": 1
           },
           "mode": "lines",
           "type": "scatter",
           "x": [
            0,
            0
           ],
           "y": [
            10,
            3.4293346485516603
           ]
          },
          {
           "marker": {
            "color": "red",
            "size": 10
           },
           "mode": "markers",
           "type": "scatter",
           "x": [
            0
           ],
           "y": [
            3.4293346485516603
           ]
          },
          {
           "marker": {
            "color": "black",
            "size": 12,
            "symbol": "x"
           },
           "mode": "markers",
           "type": "scatter",
           "x": [
            0
           ],
           "y": [
            3.4293346485516603
           ]
          }
         ],
         "layout": {
          "annotations": [
           {
            "showarrow": false,
            "text": "V/c=0.995, γ=10.01, Δτ=2.20µs, H=10.0km",
            "x": 0.01,
            "xref": "paper",
            "y": 1.12,
            "yref": "paper"
           },
           {
            "showarrow": false,
            "text": "t=22.028µs, τ=2.200µs",
            "x": 0.01,
            "xref": "paper",
            "y": 1.06,
            "yref": "paper"
           },
           {
            "font": {
             "color": "red",
             "size": 14
            },
            "showarrow": false,
            "text": "¡DECAYÓ!",
            "x": 0.99,
            "xref": "paper",
            "y": 1.05,
            "yref": "paper"
           }
          ]
         },
         "name": "133"
        },
        {
         "data": [
          {
           "line": {
            "color": "green",
            "width": 4
           },
           "mode": "lines",
           "name": "Superficie",
           "type": "scatter",
           "x": [
            -1,
            1
           ],
           "y": [
            0,
            0
           ]
          },
          {
           "line": {
            "color": "lightblue",
            "dash": "dash",
            "width": 4
           },
           "mode": "lines",
           "name": "Tope Atmósfera",
           "type": "scatter",
           "x": [
            -1,
            1
           ],
           "y": [
            10,
            10
           ]
          },
          {
           "line": {
            "color": "grey",
            "dash": "dot",
            "width": 1
           },
           "mode": "lines",
           "type": "scatter",
           "x": [
            0,
            0
           ],
           "y": [
            10,
            3.4293346485516603
           ]
          },
          {
           "marker": {
            "color": "red",
            "size": 10
           },
           "mode": "markers",
           "type": "scatter",
           "x": [
            0
           ],
           "y": [
            3.4293346485516603
           ]
          },
          {
           "marker": {
            "color": "black",
            "size": 12,
            "symbol": "x"
           },
           "mode": "markers",
           "type": "scatter",
           "x": [
            0
           ],
           "y": [
            3.4293346485516603
           ]
          }
         ],
         "layout": {
          "annotations": [
           {
            "showarrow": false,
            "text": "V/c=0.995, γ=10.01, Δτ=2.20µs, H=10.0km",
            "x": 0.01,
            "xref": "paper",
            "y": 1.12,
            "yref": "paper"
           },
           {
            "showarrow": false,
            "text": "t=22.028µs, τ=2.200µs",
            "x": 0.01,
            "xref": "paper",
            "y": 1.06,
            "yref": "paper"
           },
           {
            "font": {
             "color": "red",
             "size": 14
            },
            "showarrow": false,
            "text": "¡DECAYÓ!",
            "x": 0.99,
            "xref": "paper",
            "y": 1.05,
            "yref": "paper"
           }
          ]
         },
         "name": "134"
        },
        {
         "data": [
          {
           "line": {
            "color": "green",
            "width": 4
           },
           "mode": "lines",
           "name": "Superficie",
           "type": "scatter",
           "x": [
            -1,
            1
           ],
           "y": [
            0,
            0
           ]
          },
          {
           "line": {
            "color": "lightblue",
            "dash": "dash",
            "width": 4
           },
           "mode": "lines",
           "name": "Tope Atmósfera",
           "type": "scatter",
           "x": [
            -1,
            1
           ],
           "y": [
            10,
            10
           ]
          },
          {
           "line": {
            "color": "grey",
            "dash": "dot",
            "width": 1
           },
           "mode": "lines",
           "type": "scatter",
           "x": [
            0,
            0
           ],
           "y": [
            10,
            3.4293346485516603
           ]
          },
          {
           "marker": {
            "color": "red",
            "size": 10
           },
           "mode": "markers",
           "type": "scatter",
           "x": [
            0
           ],
           "y": [
            3.4293346485516603
           ]
          },
          {
           "marker": {
            "color": "black",
            "size": 12,
            "symbol": "x"
           },
           "mode": "markers",
           "type": "scatter",
           "x": [
            0
           ],
           "y": [
            3.4293346485516603
           ]
          }
         ],
         "layout": {
          "annotations": [
           {
            "showarrow": false,
            "text": "V/c=0.995, γ=10.01, Δτ=2.20µs, H=10.0km",
            "x": 0.01,
            "xref": "paper",
            "y": 1.12,
            "yref": "paper"
           },
           {
            "showarrow": false,
            "text": "t=22.028µs, τ=2.200µs",
            "x": 0.01,
            "xref": "paper",
            "y": 1.06,
            "yref": "paper"
           },
           {
            "font": {
             "color": "red",
             "size": 14
            },
            "showarrow": false,
            "text": "¡DECAYÓ!",
            "x": 0.99,
            "xref": "paper",
            "y": 1.05,
            "yref": "paper"
           }
          ]
         },
         "name": "135"
        },
        {
         "data": [
          {
           "line": {
            "color": "green",
            "width": 4
           },
           "mode": "lines",
           "name": "Superficie",
           "type": "scatter",
           "x": [
            -1,
            1
           ],
           "y": [
            0,
            0
           ]
          },
          {
           "line": {
            "color": "lightblue",
            "dash": "dash",
            "width": 4
           },
           "mode": "lines",
           "name": "Tope Atmósfera",
           "type": "scatter",
           "x": [
            -1,
            1
           ],
           "y": [
            10,
            10
           ]
          },
          {
           "line": {
            "color": "grey",
            "dash": "dot",
            "width": 1
           },
           "mode": "lines",
           "type": "scatter",
           "x": [
            0,
            0
           ],
           "y": [
            10,
            3.4293346485516603
           ]
          },
          {
           "marker": {
            "color": "red",
            "size": 10
           },
           "mode": "markers",
           "type": "scatter",
           "x": [
            0
           ],
           "y": [
            3.4293346485516603
           ]
          },
          {
           "marker": {
            "color": "black",
            "size": 12,
            "symbol": "x"
           },
           "mode": "markers",
           "type": "scatter",
           "x": [
            0
           ],
           "y": [
            3.4293346485516603
           ]
          }
         ],
         "layout": {
          "annotations": [
           {
            "showarrow": false,
            "text": "V/c=0.995, γ=10.01, Δτ=2.20µs, H=10.0km",
            "x": 0.01,
            "xref": "paper",
            "y": 1.12,
            "yref": "paper"
           },
           {
            "showarrow": false,
            "text": "t=22.028µs, τ=2.200µs",
            "x": 0.01,
            "xref": "paper",
            "y": 1.06,
            "yref": "paper"
           },
           {
            "font": {
             "color": "red",
             "size": 14
            },
            "showarrow": false,
            "text": "¡DECAYÓ!",
            "x": 0.99,
            "xref": "paper",
            "y": 1.05,
            "yref": "paper"
           }
          ]
         },
         "name": "136"
        },
        {
         "data": [
          {
           "line": {
            "color": "green",
            "width": 4
           },
           "mode": "lines",
           "name": "Superficie",
           "type": "scatter",
           "x": [
            -1,
            1
           ],
           "y": [
            0,
            0
           ]
          },
          {
           "line": {
            "color": "lightblue",
            "dash": "dash",
            "width": 4
           },
           "mode": "lines",
           "name": "Tope Atmósfera",
           "type": "scatter",
           "x": [
            -1,
            1
           ],
           "y": [
            10,
            10
           ]
          },
          {
           "line": {
            "color": "grey",
            "dash": "dot",
            "width": 1
           },
           "mode": "lines",
           "type": "scatter",
           "x": [
            0,
            0
           ],
           "y": [
            10,
            3.4293346485516603
           ]
          },
          {
           "marker": {
            "color": "red",
            "size": 10
           },
           "mode": "markers",
           "type": "scatter",
           "x": [
            0
           ],
           "y": [
            3.4293346485516603
           ]
          },
          {
           "marker": {
            "color": "black",
            "size": 12,
            "symbol": "x"
           },
           "mode": "markers",
           "type": "scatter",
           "x": [
            0
           ],
           "y": [
            3.4293346485516603
           ]
          }
         ],
         "layout": {
          "annotations": [
           {
            "showarrow": false,
            "text": "V/c=0.995, γ=10.01, Δτ=2.20µs, H=10.0km",
            "x": 0.01,
            "xref": "paper",
            "y": 1.12,
            "yref": "paper"
           },
           {
            "showarrow": false,
            "text": "t=22.028µs, τ=2.200µs",
            "x": 0.01,
            "xref": "paper",
            "y": 1.06,
            "yref": "paper"
           },
           {
            "font": {
             "color": "red",
             "size": 14
            },
            "showarrow": false,
            "text": "¡DECAYÓ!",
            "x": 0.99,
            "xref": "paper",
            "y": 1.05,
            "yref": "paper"
           }
          ]
         },
         "name": "137"
        },
        {
         "data": [
          {
           "line": {
            "color": "green",
            "width": 4
           },
           "mode": "lines",
           "name": "Superficie",
           "type": "scatter",
           "x": [
            -1,
            1
           ],
           "y": [
            0,
            0
           ]
          },
          {
           "line": {
            "color": "lightblue",
            "dash": "dash",
            "width": 4
           },
           "mode": "lines",
           "name": "Tope Atmósfera",
           "type": "scatter",
           "x": [
            -1,
            1
           ],
           "y": [
            10,
            10
           ]
          },
          {
           "line": {
            "color": "grey",
            "dash": "dot",
            "width": 1
           },
           "mode": "lines",
           "type": "scatter",
           "x": [
            0,
            0
           ],
           "y": [
            10,
            3.4293346485516603
           ]
          },
          {
           "marker": {
            "color": "red",
            "size": 10
           },
           "mode": "markers",
           "type": "scatter",
           "x": [
            0
           ],
           "y": [
            3.4293346485516603
           ]
          },
          {
           "marker": {
            "color": "black",
            "size": 12,
            "symbol": "x"
           },
           "mode": "markers",
           "type": "scatter",
           "x": [
            0
           ],
           "y": [
            3.4293346485516603
           ]
          }
         ],
         "layout": {
          "annotations": [
           {
            "showarrow": false,
            "text": "V/c=0.995, γ=10.01, Δτ=2.20µs, H=10.0km",
            "x": 0.01,
            "xref": "paper",
            "y": 1.12,
            "yref": "paper"
           },
           {
            "showarrow": false,
            "text": "t=22.028µs, τ=2.200µs",
            "x": 0.01,
            "xref": "paper",
            "y": 1.06,
            "yref": "paper"
           },
           {
            "font": {
             "color": "red",
             "size": 14
            },
            "showarrow": false,
            "text": "¡DECAYÓ!",
            "x": 0.99,
            "xref": "paper",
            "y": 1.05,
            "yref": "paper"
           }
          ]
         },
         "name": "138"
        },
        {
         "data": [
          {
           "line": {
            "color": "green",
            "width": 4
           },
           "mode": "lines",
           "name": "Superficie",
           "type": "scatter",
           "x": [
            -1,
            1
           ],
           "y": [
            0,
            0
           ]
          },
          {
           "line": {
            "color": "lightblue",
            "dash": "dash",
            "width": 4
           },
           "mode": "lines",
           "name": "Tope Atmósfera",
           "type": "scatter",
           "x": [
            -1,
            1
           ],
           "y": [
            10,
            10
           ]
          },
          {
           "line": {
            "color": "grey",
            "dash": "dot",
            "width": 1
           },
           "mode": "lines",
           "type": "scatter",
           "x": [
            0,
            0
           ],
           "y": [
            10,
            3.4293346485516603
           ]
          },
          {
           "marker": {
            "color": "red",
            "size": 10
           },
           "mode": "markers",
           "type": "scatter",
           "x": [
            0
           ],
           "y": [
            3.4293346485516603
           ]
          },
          {
           "marker": {
            "color": "black",
            "size": 12,
            "symbol": "x"
           },
           "mode": "markers",
           "type": "scatter",
           "x": [
            0
           ],
           "y": [
            3.4293346485516603
           ]
          }
         ],
         "layout": {
          "annotations": [
           {
            "showarrow": false,
            "text": "V/c=0.995, γ=10.01, Δτ=2.20µs, H=10.0km",
            "x": 0.01,
            "xref": "paper",
            "y": 1.12,
            "yref": "paper"
           },
           {
            "showarrow": false,
            "text": "t=22.028µs, τ=2.200µs",
            "x": 0.01,
            "xref": "paper",
            "y": 1.06,
            "yref": "paper"
           },
           {
            "font": {
             "color": "red",
             "size": 14
            },
            "showarrow": false,
            "text": "¡DECAYÓ!",
            "x": 0.99,
            "xref": "paper",
            "y": 1.05,
            "yref": "paper"
           }
          ]
         },
         "name": "139"
        },
        {
         "data": [
          {
           "line": {
            "color": "green",
            "width": 4
           },
           "mode": "lines",
           "name": "Superficie",
           "type": "scatter",
           "x": [
            -1,
            1
           ],
           "y": [
            0,
            0
           ]
          },
          {
           "line": {
            "color": "lightblue",
            "dash": "dash",
            "width": 4
           },
           "mode": "lines",
           "name": "Tope Atmósfera",
           "type": "scatter",
           "x": [
            -1,
            1
           ],
           "y": [
            10,
            10
           ]
          },
          {
           "line": {
            "color": "grey",
            "dash": "dot",
            "width": 1
           },
           "mode": "lines",
           "type": "scatter",
           "x": [
            0,
            0
           ],
           "y": [
            10,
            3.4293346485516603
           ]
          },
          {
           "marker": {
            "color": "red",
            "size": 10
           },
           "mode": "markers",
           "type": "scatter",
           "x": [
            0
           ],
           "y": [
            3.4293346485516603
           ]
          },
          {
           "marker": {
            "color": "black",
            "size": 12,
            "symbol": "x"
           },
           "mode": "markers",
           "type": "scatter",
           "x": [
            0
           ],
           "y": [
            3.4293346485516603
           ]
          }
         ],
         "layout": {
          "annotations": [
           {
            "showarrow": false,
            "text": "V/c=0.995, γ=10.01, Δτ=2.20µs, H=10.0km",
            "x": 0.01,
            "xref": "paper",
            "y": 1.12,
            "yref": "paper"
           },
           {
            "showarrow": false,
            "text": "t=22.028µs, τ=2.200µs",
            "x": 0.01,
            "xref": "paper",
            "y": 1.06,
            "yref": "paper"
           },
           {
            "font": {
             "color": "red",
             "size": 14
            },
            "showarrow": false,
            "text": "¡DECAYÓ!",
            "x": 0.99,
            "xref": "paper",
            "y": 1.05,
            "yref": "paper"
           }
          ]
         },
         "name": "140"
        },
        {
         "data": [
          {
           "line": {
            "color": "green",
            "width": 4
           },
           "mode": "lines",
           "name": "Superficie",
           "type": "scatter",
           "x": [
            -1,
            1
           ],
           "y": [
            0,
            0
           ]
          },
          {
           "line": {
            "color": "lightblue",
            "dash": "dash",
            "width": 4
           },
           "mode": "lines",
           "name": "Tope Atmósfera",
           "type": "scatter",
           "x": [
            -1,
            1
           ],
           "y": [
            10,
            10
           ]
          },
          {
           "line": {
            "color": "grey",
            "dash": "dot",
            "width": 1
           },
           "mode": "lines",
           "type": "scatter",
           "x": [
            0,
            0
           ],
           "y": [
            10,
            3.4293346485516603
           ]
          },
          {
           "marker": {
            "color": "red",
            "size": 10
           },
           "mode": "markers",
           "type": "scatter",
           "x": [
            0
           ],
           "y": [
            3.4293346485516603
           ]
          },
          {
           "marker": {
            "color": "black",
            "size": 12,
            "symbol": "x"
           },
           "mode": "markers",
           "type": "scatter",
           "x": [
            0
           ],
           "y": [
            3.4293346485516603
           ]
          }
         ],
         "layout": {
          "annotations": [
           {
            "showarrow": false,
            "text": "V/c=0.995, γ=10.01, Δτ=2.20µs, H=10.0km",
            "x": 0.01,
            "xref": "paper",
            "y": 1.12,
            "yref": "paper"
           },
           {
            "showarrow": false,
            "text": "t=22.028µs, τ=2.200µs",
            "x": 0.01,
            "xref": "paper",
            "y": 1.06,
            "yref": "paper"
           },
           {
            "font": {
             "color": "red",
             "size": 14
            },
            "showarrow": false,
            "text": "¡DECAYÓ!",
            "x": 0.99,
            "xref": "paper",
            "y": 1.05,
            "yref": "paper"
           }
          ]
         },
         "name": "141"
        },
        {
         "data": [
          {
           "line": {
            "color": "green",
            "width": 4
           },
           "mode": "lines",
           "name": "Superficie",
           "type": "scatter",
           "x": [
            -1,
            1
           ],
           "y": [
            0,
            0
           ]
          },
          {
           "line": {
            "color": "lightblue",
            "dash": "dash",
            "width": 4
           },
           "mode": "lines",
           "name": "Tope Atmósfera",
           "type": "scatter",
           "x": [
            -1,
            1
           ],
           "y": [
            10,
            10
           ]
          },
          {
           "line": {
            "color": "grey",
            "dash": "dot",
            "width": 1
           },
           "mode": "lines",
           "type": "scatter",
           "x": [
            0,
            0
           ],
           "y": [
            10,
            3.4293346485516603
           ]
          },
          {
           "marker": {
            "color": "red",
            "size": 10
           },
           "mode": "markers",
           "type": "scatter",
           "x": [
            0
           ],
           "y": [
            3.4293346485516603
           ]
          },
          {
           "marker": {
            "color": "black",
            "size": 12,
            "symbol": "x"
           },
           "mode": "markers",
           "type": "scatter",
           "x": [
            0
           ],
           "y": [
            3.4293346485516603
           ]
          }
         ],
         "layout": {
          "annotations": [
           {
            "showarrow": false,
            "text": "V/c=0.995, γ=10.01, Δτ=2.20µs, H=10.0km",
            "x": 0.01,
            "xref": "paper",
            "y": 1.12,
            "yref": "paper"
           },
           {
            "showarrow": false,
            "text": "t=22.028µs, τ=2.200µs",
            "x": 0.01,
            "xref": "paper",
            "y": 1.06,
            "yref": "paper"
           },
           {
            "font": {
             "color": "red",
             "size": 14
            },
            "showarrow": false,
            "text": "¡DECAYÓ!",
            "x": 0.99,
            "xref": "paper",
            "y": 1.05,
            "yref": "paper"
           }
          ]
         },
         "name": "142"
        },
        {
         "data": [
          {
           "line": {
            "color": "green",
            "width": 4
           },
           "mode": "lines",
           "name": "Superficie",
           "type": "scatter",
           "x": [
            -1,
            1
           ],
           "y": [
            0,
            0
           ]
          },
          {
           "line": {
            "color": "lightblue",
            "dash": "dash",
            "width": 4
           },
           "mode": "lines",
           "name": "Tope Atmósfera",
           "type": "scatter",
           "x": [
            -1,
            1
           ],
           "y": [
            10,
            10
           ]
          },
          {
           "line": {
            "color": "grey",
            "dash": "dot",
            "width": 1
           },
           "mode": "lines",
           "type": "scatter",
           "x": [
            0,
            0
           ],
           "y": [
            10,
            3.4293346485516603
           ]
          },
          {
           "marker": {
            "color": "red",
            "size": 10
           },
           "mode": "markers",
           "type": "scatter",
           "x": [
            0
           ],
           "y": [
            3.4293346485516603
           ]
          },
          {
           "marker": {
            "color": "black",
            "size": 12,
            "symbol": "x"
           },
           "mode": "markers",
           "type": "scatter",
           "x": [
            0
           ],
           "y": [
            3.4293346485516603
           ]
          }
         ],
         "layout": {
          "annotations": [
           {
            "showarrow": false,
            "text": "V/c=0.995, γ=10.01, Δτ=2.20µs, H=10.0km",
            "x": 0.01,
            "xref": "paper",
            "y": 1.12,
            "yref": "paper"
           },
           {
            "showarrow": false,
            "text": "t=22.028µs, τ=2.200µs",
            "x": 0.01,
            "xref": "paper",
            "y": 1.06,
            "yref": "paper"
           },
           {
            "font": {
             "color": "red",
             "size": 14
            },
            "showarrow": false,
            "text": "¡DECAYÓ!",
            "x": 0.99,
            "xref": "paper",
            "y": 1.05,
            "yref": "paper"
           }
          ]
         },
         "name": "143"
        },
        {
         "data": [
          {
           "line": {
            "color": "green",
            "width": 4
           },
           "mode": "lines",
           "name": "Superficie",
           "type": "scatter",
           "x": [
            -1,
            1
           ],
           "y": [
            0,
            0
           ]
          },
          {
           "line": {
            "color": "lightblue",
            "dash": "dash",
            "width": 4
           },
           "mode": "lines",
           "name": "Tope Atmósfera",
           "type": "scatter",
           "x": [
            -1,
            1
           ],
           "y": [
            10,
            10
           ]
          },
          {
           "line": {
            "color": "grey",
            "dash": "dot",
            "width": 1
           },
           "mode": "lines",
           "type": "scatter",
           "x": [
            0,
            0
           ],
           "y": [
            10,
            3.4293346485516603
           ]
          },
          {
           "marker": {
            "color": "red",
            "size": 10
           },
           "mode": "markers",
           "type": "scatter",
           "x": [
            0
           ],
           "y": [
            3.4293346485516603
           ]
          },
          {
           "marker": {
            "color": "black",
            "size": 12,
            "symbol": "x"
           },
           "mode": "markers",
           "type": "scatter",
           "x": [
            0
           ],
           "y": [
            3.4293346485516603
           ]
          }
         ],
         "layout": {
          "annotations": [
           {
            "showarrow": false,
            "text": "V/c=0.995, γ=10.01, Δτ=2.20µs, H=10.0km",
            "x": 0.01,
            "xref": "paper",
            "y": 1.12,
            "yref": "paper"
           },
           {
            "showarrow": false,
            "text": "t=22.028µs, τ=2.200µs",
            "x": 0.01,
            "xref": "paper",
            "y": 1.06,
            "yref": "paper"
           },
           {
            "font": {
             "color": "red",
             "size": 14
            },
            "showarrow": false,
            "text": "¡DECAYÓ!",
            "x": 0.99,
            "xref": "paper",
            "y": 1.05,
            "yref": "paper"
           }
          ]
         },
         "name": "144"
        },
        {
         "data": [
          {
           "line": {
            "color": "green",
            "width": 4
           },
           "mode": "lines",
           "name": "Superficie",
           "type": "scatter",
           "x": [
            -1,
            1
           ],
           "y": [
            0,
            0
           ]
          },
          {
           "line": {
            "color": "lightblue",
            "dash": "dash",
            "width": 4
           },
           "mode": "lines",
           "name": "Tope Atmósfera",
           "type": "scatter",
           "x": [
            -1,
            1
           ],
           "y": [
            10,
            10
           ]
          },
          {
           "line": {
            "color": "grey",
            "dash": "dot",
            "width": 1
           },
           "mode": "lines",
           "type": "scatter",
           "x": [
            0,
            0
           ],
           "y": [
            10,
            3.4293346485516603
           ]
          },
          {
           "marker": {
            "color": "red",
            "size": 10
           },
           "mode": "markers",
           "type": "scatter",
           "x": [
            0
           ],
           "y": [
            3.4293346485516603
           ]
          },
          {
           "marker": {
            "color": "black",
            "size": 12,
            "symbol": "x"
           },
           "mode": "markers",
           "type": "scatter",
           "x": [
            0
           ],
           "y": [
            3.4293346485516603
           ]
          }
         ],
         "layout": {
          "annotations": [
           {
            "showarrow": false,
            "text": "V/c=0.995, γ=10.01, Δτ=2.20µs, H=10.0km",
            "x": 0.01,
            "xref": "paper",
            "y": 1.12,
            "yref": "paper"
           },
           {
            "showarrow": false,
            "text": "t=22.028µs, τ=2.200µs",
            "x": 0.01,
            "xref": "paper",
            "y": 1.06,
            "yref": "paper"
           },
           {
            "font": {
             "color": "red",
             "size": 14
            },
            "showarrow": false,
            "text": "¡DECAYÓ!",
            "x": 0.99,
            "xref": "paper",
            "y": 1.05,
            "yref": "paper"
           }
          ]
         },
         "name": "145"
        },
        {
         "data": [
          {
           "line": {
            "color": "green",
            "width": 4
           },
           "mode": "lines",
           "name": "Superficie",
           "type": "scatter",
           "x": [
            -1,
            1
           ],
           "y": [
            0,
            0
           ]
          },
          {
           "line": {
            "color": "lightblue",
            "dash": "dash",
            "width": 4
           },
           "mode": "lines",
           "name": "Tope Atmósfera",
           "type": "scatter",
           "x": [
            -1,
            1
           ],
           "y": [
            10,
            10
           ]
          },
          {
           "line": {
            "color": "grey",
            "dash": "dot",
            "width": 1
           },
           "mode": "lines",
           "type": "scatter",
           "x": [
            0,
            0
           ],
           "y": [
            10,
            3.4293346485516603
           ]
          },
          {
           "marker": {
            "color": "red",
            "size": 10
           },
           "mode": "markers",
           "type": "scatter",
           "x": [
            0
           ],
           "y": [
            3.4293346485516603
           ]
          },
          {
           "marker": {
            "color": "black",
            "size": 12,
            "symbol": "x"
           },
           "mode": "markers",
           "type": "scatter",
           "x": [
            0
           ],
           "y": [
            3.4293346485516603
           ]
          }
         ],
         "layout": {
          "annotations": [
           {
            "showarrow": false,
            "text": "V/c=0.995, γ=10.01, Δτ=2.20µs, H=10.0km",
            "x": 0.01,
            "xref": "paper",
            "y": 1.12,
            "yref": "paper"
           },
           {
            "showarrow": false,
            "text": "t=22.028µs, τ=2.200µs",
            "x": 0.01,
            "xref": "paper",
            "y": 1.06,
            "yref": "paper"
           },
           {
            "font": {
             "color": "red",
             "size": 14
            },
            "showarrow": false,
            "text": "¡DECAYÓ!",
            "x": 0.99,
            "xref": "paper",
            "y": 1.05,
            "yref": "paper"
           }
          ]
         },
         "name": "146"
        },
        {
         "data": [
          {
           "line": {
            "color": "green",
            "width": 4
           },
           "mode": "lines",
           "name": "Superficie",
           "type": "scatter",
           "x": [
            -1,
            1
           ],
           "y": [
            0,
            0
           ]
          },
          {
           "line": {
            "color": "lightblue",
            "dash": "dash",
            "width": 4
           },
           "mode": "lines",
           "name": "Tope Atmósfera",
           "type": "scatter",
           "x": [
            -1,
            1
           ],
           "y": [
            10,
            10
           ]
          },
          {
           "line": {
            "color": "grey",
            "dash": "dot",
            "width": 1
           },
           "mode": "lines",
           "type": "scatter",
           "x": [
            0,
            0
           ],
           "y": [
            10,
            3.4293346485516603
           ]
          },
          {
           "marker": {
            "color": "red",
            "size": 10
           },
           "mode": "markers",
           "type": "scatter",
           "x": [
            0
           ],
           "y": [
            3.4293346485516603
           ]
          },
          {
           "marker": {
            "color": "black",
            "size": 12,
            "symbol": "x"
           },
           "mode": "markers",
           "type": "scatter",
           "x": [
            0
           ],
           "y": [
            3.4293346485516603
           ]
          }
         ],
         "layout": {
          "annotations": [
           {
            "showarrow": false,
            "text": "V/c=0.995, γ=10.01, Δτ=2.20µs, H=10.0km",
            "x": 0.01,
            "xref": "paper",
            "y": 1.12,
            "yref": "paper"
           },
           {
            "showarrow": false,
            "text": "t=22.028µs, τ=2.200µs",
            "x": 0.01,
            "xref": "paper",
            "y": 1.06,
            "yref": "paper"
           },
           {
            "font": {
             "color": "red",
             "size": 14
            },
            "showarrow": false,
            "text": "¡DECAYÓ!",
            "x": 0.99,
            "xref": "paper",
            "y": 1.05,
            "yref": "paper"
           }
          ]
         },
         "name": "147"
        },
        {
         "data": [
          {
           "line": {
            "color": "green",
            "width": 4
           },
           "mode": "lines",
           "name": "Superficie",
           "type": "scatter",
           "x": [
            -1,
            1
           ],
           "y": [
            0,
            0
           ]
          },
          {
           "line": {
            "color": "lightblue",
            "dash": "dash",
            "width": 4
           },
           "mode": "lines",
           "name": "Tope Atmósfera",
           "type": "scatter",
           "x": [
            -1,
            1
           ],
           "y": [
            10,
            10
           ]
          },
          {
           "line": {
            "color": "grey",
            "dash": "dot",
            "width": 1
           },
           "mode": "lines",
           "type": "scatter",
           "x": [
            0,
            0
           ],
           "y": [
            10,
            3.4293346485516603
           ]
          },
          {
           "marker": {
            "color": "red",
            "size": 10
           },
           "mode": "markers",
           "type": "scatter",
           "x": [
            0
           ],
           "y": [
            3.4293346485516603
           ]
          },
          {
           "marker": {
            "color": "black",
            "size": 12,
            "symbol": "x"
           },
           "mode": "markers",
           "type": "scatter",
           "x": [
            0
           ],
           "y": [
            3.4293346485516603
           ]
          }
         ],
         "layout": {
          "annotations": [
           {
            "showarrow": false,
            "text": "V/c=0.995, γ=10.01, Δτ=2.20µs, H=10.0km",
            "x": 0.01,
            "xref": "paper",
            "y": 1.12,
            "yref": "paper"
           },
           {
            "showarrow": false,
            "text": "t=22.028µs, τ=2.200µs",
            "x": 0.01,
            "xref": "paper",
            "y": 1.06,
            "yref": "paper"
           },
           {
            "font": {
             "color": "red",
             "size": 14
            },
            "showarrow": false,
            "text": "¡DECAYÓ!",
            "x": 0.99,
            "xref": "paper",
            "y": 1.05,
            "yref": "paper"
           }
          ]
         },
         "name": "148"
        },
        {
         "data": [
          {
           "line": {
            "color": "green",
            "width": 4
           },
           "mode": "lines",
           "name": "Superficie",
           "type": "scatter",
           "x": [
            -1,
            1
           ],
           "y": [
            0,
            0
           ]
          },
          {
           "line": {
            "color": "lightblue",
            "dash": "dash",
            "width": 4
           },
           "mode": "lines",
           "name": "Tope Atmósfera",
           "type": "scatter",
           "x": [
            -1,
            1
           ],
           "y": [
            10,
            10
           ]
          },
          {
           "line": {
            "color": "grey",
            "dash": "dot",
            "width": 1
           },
           "mode": "lines",
           "type": "scatter",
           "x": [
            0,
            0
           ],
           "y": [
            10,
            3.4293346485516603
           ]
          },
          {
           "marker": {
            "color": "red",
            "size": 10
           },
           "mode": "markers",
           "type": "scatter",
           "x": [
            0
           ],
           "y": [
            3.4293346485516603
           ]
          },
          {
           "marker": {
            "color": "black",
            "size": 12,
            "symbol": "x"
           },
           "mode": "markers",
           "type": "scatter",
           "x": [
            0
           ],
           "y": [
            3.4293346485516603
           ]
          }
         ],
         "layout": {
          "annotations": [
           {
            "showarrow": false,
            "text": "V/c=0.995, γ=10.01, Δτ=2.20µs, H=10.0km",
            "x": 0.01,
            "xref": "paper",
            "y": 1.12,
            "yref": "paper"
           },
           {
            "showarrow": false,
            "text": "t=22.028µs, τ=2.200µs",
            "x": 0.01,
            "xref": "paper",
            "y": 1.06,
            "yref": "paper"
           },
           {
            "font": {
             "color": "red",
             "size": 14
            },
            "showarrow": false,
            "text": "¡DECAYÓ!",
            "x": 0.99,
            "xref": "paper",
            "y": 1.05,
            "yref": "paper"
           }
          ]
         },
         "name": "149"
        },
        {
         "data": [
          {
           "line": {
            "color": "green",
            "width": 4
           },
           "mode": "lines",
           "name": "Superficie",
           "type": "scatter",
           "x": [
            -1,
            1
           ],
           "y": [
            0,
            0
           ]
          },
          {
           "line": {
            "color": "lightblue",
            "dash": "dash",
            "width": 4
           },
           "mode": "lines",
           "name": "Tope Atmósfera",
           "type": "scatter",
           "x": [
            -1,
            1
           ],
           "y": [
            10,
            10
           ]
          },
          {
           "line": {
            "color": "grey",
            "dash": "dot",
            "width": 1
           },
           "mode": "lines",
           "type": "scatter",
           "x": [
            0,
            0
           ],
           "y": [
            10,
            3.4293346485516603
           ]
          },
          {
           "marker": {
            "color": "red",
            "size": 10
           },
           "mode": "markers",
           "type": "scatter",
           "x": [
            0
           ],
           "y": [
            3.4293346485516603
           ]
          },
          {
           "marker": {
            "color": "black",
            "size": 12,
            "symbol": "x"
           },
           "mode": "markers",
           "type": "scatter",
           "x": [
            0
           ],
           "y": [
            3.4293346485516603
           ]
          }
         ],
         "layout": {
          "annotations": [
           {
            "showarrow": false,
            "text": "V/c=0.995, γ=10.01, Δτ=2.20µs, H=10.0km",
            "x": 0.01,
            "xref": "paper",
            "y": 1.12,
            "yref": "paper"
           },
           {
            "showarrow": false,
            "text": "t=22.028µs, τ=2.200µs",
            "x": 0.01,
            "xref": "paper",
            "y": 1.06,
            "yref": "paper"
           },
           {
            "font": {
             "color": "red",
             "size": 14
            },
            "showarrow": false,
            "text": "¡DECAYÓ!",
            "x": 0.99,
            "xref": "paper",
            "y": 1.05,
            "yref": "paper"
           }
          ]
         },
         "name": "150"
        },
        {
         "data": [
          {
           "line": {
            "color": "green",
            "width": 4
           },
           "mode": "lines",
           "name": "Superficie",
           "type": "scatter",
           "x": [
            -1,
            1
           ],
           "y": [
            0,
            0
           ]
          },
          {
           "line": {
            "color": "lightblue",
            "dash": "dash",
            "width": 4
           },
           "mode": "lines",
           "name": "Tope Atmósfera",
           "type": "scatter",
           "x": [
            -1,
            1
           ],
           "y": [
            10,
            10
           ]
          },
          {
           "line": {
            "color": "grey",
            "dash": "dot",
            "width": 1
           },
           "mode": "lines",
           "type": "scatter",
           "x": [
            0,
            0
           ],
           "y": [
            10,
            3.4293346485516603
           ]
          },
          {
           "marker": {
            "color": "red",
            "size": 10
           },
           "mode": "markers",
           "type": "scatter",
           "x": [
            0
           ],
           "y": [
            3.4293346485516603
           ]
          },
          {
           "marker": {
            "color": "black",
            "size": 12,
            "symbol": "x"
           },
           "mode": "markers",
           "type": "scatter",
           "x": [
            0
           ],
           "y": [
            3.4293346485516603
           ]
          }
         ],
         "layout": {
          "annotations": [
           {
            "showarrow": false,
            "text": "V/c=0.995, γ=10.01, Δτ=2.20µs, H=10.0km",
            "x": 0.01,
            "xref": "paper",
            "y": 1.12,
            "yref": "paper"
           },
           {
            "showarrow": false,
            "text": "t=22.028µs, τ=2.200µs",
            "x": 0.01,
            "xref": "paper",
            "y": 1.06,
            "yref": "paper"
           },
           {
            "font": {
             "color": "red",
             "size": 14
            },
            "showarrow": false,
            "text": "¡DECAYÓ!",
            "x": 0.99,
            "xref": "paper",
            "y": 1.05,
            "yref": "paper"
           }
          ]
         },
         "name": "151"
        },
        {
         "data": [
          {
           "line": {
            "color": "green",
            "width": 4
           },
           "mode": "lines",
           "name": "Superficie",
           "type": "scatter",
           "x": [
            -1,
            1
           ],
           "y": [
            0,
            0
           ]
          },
          {
           "line": {
            "color": "lightblue",
            "dash": "dash",
            "width": 4
           },
           "mode": "lines",
           "name": "Tope Atmósfera",
           "type": "scatter",
           "x": [
            -1,
            1
           ],
           "y": [
            10,
            10
           ]
          },
          {
           "line": {
            "color": "grey",
            "dash": "dot",
            "width": 1
           },
           "mode": "lines",
           "type": "scatter",
           "x": [
            0,
            0
           ],
           "y": [
            10,
            3.4293346485516603
           ]
          },
          {
           "marker": {
            "color": "red",
            "size": 10
           },
           "mode": "markers",
           "type": "scatter",
           "x": [
            0
           ],
           "y": [
            3.4293346485516603
           ]
          },
          {
           "marker": {
            "color": "black",
            "size": 12,
            "symbol": "x"
           },
           "mode": "markers",
           "type": "scatter",
           "x": [
            0
           ],
           "y": [
            3.4293346485516603
           ]
          }
         ],
         "layout": {
          "annotations": [
           {
            "showarrow": false,
            "text": "V/c=0.995, γ=10.01, Δτ=2.20µs, H=10.0km",
            "x": 0.01,
            "xref": "paper",
            "y": 1.12,
            "yref": "paper"
           },
           {
            "showarrow": false,
            "text": "t=22.028µs, τ=2.200µs",
            "x": 0.01,
            "xref": "paper",
            "y": 1.06,
            "yref": "paper"
           },
           {
            "font": {
             "color": "red",
             "size": 14
            },
            "showarrow": false,
            "text": "¡DECAYÓ!",
            "x": 0.99,
            "xref": "paper",
            "y": 1.05,
            "yref": "paper"
           }
          ]
         },
         "name": "152"
        },
        {
         "data": [
          {
           "line": {
            "color": "green",
            "width": 4
           },
           "mode": "lines",
           "name": "Superficie",
           "type": "scatter",
           "x": [
            -1,
            1
           ],
           "y": [
            0,
            0
           ]
          },
          {
           "line": {
            "color": "lightblue",
            "dash": "dash",
            "width": 4
           },
           "mode": "lines",
           "name": "Tope Atmósfera",
           "type": "scatter",
           "x": [
            -1,
            1
           ],
           "y": [
            10,
            10
           ]
          },
          {
           "line": {
            "color": "grey",
            "dash": "dot",
            "width": 1
           },
           "mode": "lines",
           "type": "scatter",
           "x": [
            0,
            0
           ],
           "y": [
            10,
            3.4293346485516603
           ]
          },
          {
           "marker": {
            "color": "red",
            "size": 10
           },
           "mode": "markers",
           "type": "scatter",
           "x": [
            0
           ],
           "y": [
            3.4293346485516603
           ]
          },
          {
           "marker": {
            "color": "black",
            "size": 12,
            "symbol": "x"
           },
           "mode": "markers",
           "type": "scatter",
           "x": [
            0
           ],
           "y": [
            3.4293346485516603
           ]
          }
         ],
         "layout": {
          "annotations": [
           {
            "showarrow": false,
            "text": "V/c=0.995, γ=10.01, Δτ=2.20µs, H=10.0km",
            "x": 0.01,
            "xref": "paper",
            "y": 1.12,
            "yref": "paper"
           },
           {
            "showarrow": false,
            "text": "t=22.028µs, τ=2.200µs",
            "x": 0.01,
            "xref": "paper",
            "y": 1.06,
            "yref": "paper"
           },
           {
            "font": {
             "color": "red",
             "size": 14
            },
            "showarrow": false,
            "text": "¡DECAYÓ!",
            "x": 0.99,
            "xref": "paper",
            "y": 1.05,
            "yref": "paper"
           }
          ]
         },
         "name": "153"
        },
        {
         "data": [
          {
           "line": {
            "color": "green",
            "width": 4
           },
           "mode": "lines",
           "name": "Superficie",
           "type": "scatter",
           "x": [
            -1,
            1
           ],
           "y": [
            0,
            0
           ]
          },
          {
           "line": {
            "color": "lightblue",
            "dash": "dash",
            "width": 4
           },
           "mode": "lines",
           "name": "Tope Atmósfera",
           "type": "scatter",
           "x": [
            -1,
            1
           ],
           "y": [
            10,
            10
           ]
          },
          {
           "line": {
            "color": "grey",
            "dash": "dot",
            "width": 1
           },
           "mode": "lines",
           "type": "scatter",
           "x": [
            0,
            0
           ],
           "y": [
            10,
            3.4293346485516603
           ]
          },
          {
           "marker": {
            "color": "red",
            "size": 10
           },
           "mode": "markers",
           "type": "scatter",
           "x": [
            0
           ],
           "y": [
            3.4293346485516603
           ]
          },
          {
           "marker": {
            "color": "black",
            "size": 12,
            "symbol": "x"
           },
           "mode": "markers",
           "type": "scatter",
           "x": [
            0
           ],
           "y": [
            3.4293346485516603
           ]
          }
         ],
         "layout": {
          "annotations": [
           {
            "showarrow": false,
            "text": "V/c=0.995, γ=10.01, Δτ=2.20µs, H=10.0km",
            "x": 0.01,
            "xref": "paper",
            "y": 1.12,
            "yref": "paper"
           },
           {
            "showarrow": false,
            "text": "t=22.028µs, τ=2.200µs",
            "x": 0.01,
            "xref": "paper",
            "y": 1.06,
            "yref": "paper"
           },
           {
            "font": {
             "color": "red",
             "size": 14
            },
            "showarrow": false,
            "text": "¡DECAYÓ!",
            "x": 0.99,
            "xref": "paper",
            "y": 1.05,
            "yref": "paper"
           }
          ]
         },
         "name": "154"
        },
        {
         "data": [
          {
           "line": {
            "color": "green",
            "width": 4
           },
           "mode": "lines",
           "name": "Superficie",
           "type": "scatter",
           "x": [
            -1,
            1
           ],
           "y": [
            0,
            0
           ]
          },
          {
           "line": {
            "color": "lightblue",
            "dash": "dash",
            "width": 4
           },
           "mode": "lines",
           "name": "Tope Atmósfera",
           "type": "scatter",
           "x": [
            -1,
            1
           ],
           "y": [
            10,
            10
           ]
          },
          {
           "line": {
            "color": "grey",
            "dash": "dot",
            "width": 1
           },
           "mode": "lines",
           "type": "scatter",
           "x": [
            0,
            0
           ],
           "y": [
            10,
            3.4293346485516603
           ]
          },
          {
           "marker": {
            "color": "red",
            "size": 10
           },
           "mode": "markers",
           "type": "scatter",
           "x": [
            0
           ],
           "y": [
            3.4293346485516603
           ]
          },
          {
           "marker": {
            "color": "black",
            "size": 12,
            "symbol": "x"
           },
           "mode": "markers",
           "type": "scatter",
           "x": [
            0
           ],
           "y": [
            3.4293346485516603
           ]
          }
         ],
         "layout": {
          "annotations": [
           {
            "showarrow": false,
            "text": "V/c=0.995, γ=10.01, Δτ=2.20µs, H=10.0km",
            "x": 0.01,
            "xref": "paper",
            "y": 1.12,
            "yref": "paper"
           },
           {
            "showarrow": false,
            "text": "t=22.028µs, τ=2.200µs",
            "x": 0.01,
            "xref": "paper",
            "y": 1.06,
            "yref": "paper"
           },
           {
            "font": {
             "color": "red",
             "size": 14
            },
            "showarrow": false,
            "text": "¡DECAYÓ!",
            "x": 0.99,
            "xref": "paper",
            "y": 1.05,
            "yref": "paper"
           }
          ]
         },
         "name": "155"
        },
        {
         "data": [
          {
           "line": {
            "color": "green",
            "width": 4
           },
           "mode": "lines",
           "name": "Superficie",
           "type": "scatter",
           "x": [
            -1,
            1
           ],
           "y": [
            0,
            0
           ]
          },
          {
           "line": {
            "color": "lightblue",
            "dash": "dash",
            "width": 4
           },
           "mode": "lines",
           "name": "Tope Atmósfera",
           "type": "scatter",
           "x": [
            -1,
            1
           ],
           "y": [
            10,
            10
           ]
          },
          {
           "line": {
            "color": "grey",
            "dash": "dot",
            "width": 1
           },
           "mode": "lines",
           "type": "scatter",
           "x": [
            0,
            0
           ],
           "y": [
            10,
            3.4293346485516603
           ]
          },
          {
           "marker": {
            "color": "red",
            "size": 10
           },
           "mode": "markers",
           "type": "scatter",
           "x": [
            0
           ],
           "y": [
            3.4293346485516603
           ]
          },
          {
           "marker": {
            "color": "black",
            "size": 12,
            "symbol": "x"
           },
           "mode": "markers",
           "type": "scatter",
           "x": [
            0
           ],
           "y": [
            3.4293346485516603
           ]
          }
         ],
         "layout": {
          "annotations": [
           {
            "showarrow": false,
            "text": "V/c=0.995, γ=10.01, Δτ=2.20µs, H=10.0km",
            "x": 0.01,
            "xref": "paper",
            "y": 1.12,
            "yref": "paper"
           },
           {
            "showarrow": false,
            "text": "t=22.028µs, τ=2.200µs",
            "x": 0.01,
            "xref": "paper",
            "y": 1.06,
            "yref": "paper"
           },
           {
            "font": {
             "color": "red",
             "size": 14
            },
            "showarrow": false,
            "text": "¡DECAYÓ!",
            "x": 0.99,
            "xref": "paper",
            "y": 1.05,
            "yref": "paper"
           }
          ]
         },
         "name": "156"
        },
        {
         "data": [
          {
           "line": {
            "color": "green",
            "width": 4
           },
           "mode": "lines",
           "name": "Superficie",
           "type": "scatter",
           "x": [
            -1,
            1
           ],
           "y": [
            0,
            0
           ]
          },
          {
           "line": {
            "color": "lightblue",
            "dash": "dash",
            "width": 4
           },
           "mode": "lines",
           "name": "Tope Atmósfera",
           "type": "scatter",
           "x": [
            -1,
            1
           ],
           "y": [
            10,
            10
           ]
          },
          {
           "line": {
            "color": "grey",
            "dash": "dot",
            "width": 1
           },
           "mode": "lines",
           "type": "scatter",
           "x": [
            0,
            0
           ],
           "y": [
            10,
            3.4293346485516603
           ]
          },
          {
           "marker": {
            "color": "red",
            "size": 10
           },
           "mode": "markers",
           "type": "scatter",
           "x": [
            0
           ],
           "y": [
            3.4293346485516603
           ]
          },
          {
           "marker": {
            "color": "black",
            "size": 12,
            "symbol": "x"
           },
           "mode": "markers",
           "type": "scatter",
           "x": [
            0
           ],
           "y": [
            3.4293346485516603
           ]
          }
         ],
         "layout": {
          "annotations": [
           {
            "showarrow": false,
            "text": "V/c=0.995, γ=10.01, Δτ=2.20µs, H=10.0km",
            "x": 0.01,
            "xref": "paper",
            "y": 1.12,
            "yref": "paper"
           },
           {
            "showarrow": false,
            "text": "t=22.028µs, τ=2.200µs",
            "x": 0.01,
            "xref": "paper",
            "y": 1.06,
            "yref": "paper"
           },
           {
            "font": {
             "color": "red",
             "size": 14
            },
            "showarrow": false,
            "text": "¡DECAYÓ!",
            "x": 0.99,
            "xref": "paper",
            "y": 1.05,
            "yref": "paper"
           }
          ]
         },
         "name": "157"
        },
        {
         "data": [
          {
           "line": {
            "color": "green",
            "width": 4
           },
           "mode": "lines",
           "name": "Superficie",
           "type": "scatter",
           "x": [
            -1,
            1
           ],
           "y": [
            0,
            0
           ]
          },
          {
           "line": {
            "color": "lightblue",
            "dash": "dash",
            "width": 4
           },
           "mode": "lines",
           "name": "Tope Atmósfera",
           "type": "scatter",
           "x": [
            -1,
            1
           ],
           "y": [
            10,
            10
           ]
          },
          {
           "line": {
            "color": "grey",
            "dash": "dot",
            "width": 1
           },
           "mode": "lines",
           "type": "scatter",
           "x": [
            0,
            0
           ],
           "y": [
            10,
            3.4293346485516603
           ]
          },
          {
           "marker": {
            "color": "red",
            "size": 10
           },
           "mode": "markers",
           "type": "scatter",
           "x": [
            0
           ],
           "y": [
            3.4293346485516603
           ]
          },
          {
           "marker": {
            "color": "black",
            "size": 12,
            "symbol": "x"
           },
           "mode": "markers",
           "type": "scatter",
           "x": [
            0
           ],
           "y": [
            3.4293346485516603
           ]
          }
         ],
         "layout": {
          "annotations": [
           {
            "showarrow": false,
            "text": "V/c=0.995, γ=10.01, Δτ=2.20µs, H=10.0km",
            "x": 0.01,
            "xref": "paper",
            "y": 1.12,
            "yref": "paper"
           },
           {
            "showarrow": false,
            "text": "t=22.028µs, τ=2.200µs",
            "x": 0.01,
            "xref": "paper",
            "y": 1.06,
            "yref": "paper"
           },
           {
            "font": {
             "color": "red",
             "size": 14
            },
            "showarrow": false,
            "text": "¡DECAYÓ!",
            "x": 0.99,
            "xref": "paper",
            "y": 1.05,
            "yref": "paper"
           }
          ]
         },
         "name": "158"
        },
        {
         "data": [
          {
           "line": {
            "color": "green",
            "width": 4
           },
           "mode": "lines",
           "name": "Superficie",
           "type": "scatter",
           "x": [
            -1,
            1
           ],
           "y": [
            0,
            0
           ]
          },
          {
           "line": {
            "color": "lightblue",
            "dash": "dash",
            "width": 4
           },
           "mode": "lines",
           "name": "Tope Atmósfera",
           "type": "scatter",
           "x": [
            -1,
            1
           ],
           "y": [
            10,
            10
           ]
          },
          {
           "line": {
            "color": "grey",
            "dash": "dot",
            "width": 1
           },
           "mode": "lines",
           "type": "scatter",
           "x": [
            0,
            0
           ],
           "y": [
            10,
            3.4293346485516603
           ]
          },
          {
           "marker": {
            "color": "red",
            "size": 10
           },
           "mode": "markers",
           "type": "scatter",
           "x": [
            0
           ],
           "y": [
            3.4293346485516603
           ]
          },
          {
           "marker": {
            "color": "black",
            "size": 12,
            "symbol": "x"
           },
           "mode": "markers",
           "type": "scatter",
           "x": [
            0
           ],
           "y": [
            3.4293346485516603
           ]
          }
         ],
         "layout": {
          "annotations": [
           {
            "showarrow": false,
            "text": "V/c=0.995, γ=10.01, Δτ=2.20µs, H=10.0km",
            "x": 0.01,
            "xref": "paper",
            "y": 1.12,
            "yref": "paper"
           },
           {
            "showarrow": false,
            "text": "t=22.028µs, τ=2.200µs",
            "x": 0.01,
            "xref": "paper",
            "y": 1.06,
            "yref": "paper"
           },
           {
            "font": {
             "color": "red",
             "size": 14
            },
            "showarrow": false,
            "text": "¡DECAYÓ!",
            "x": 0.99,
            "xref": "paper",
            "y": 1.05,
            "yref": "paper"
           }
          ]
         },
         "name": "159"
        },
        {
         "data": [
          {
           "line": {
            "color": "green",
            "width": 4
           },
           "mode": "lines",
           "name": "Superficie",
           "type": "scatter",
           "x": [
            -1,
            1
           ],
           "y": [
            0,
            0
           ]
          },
          {
           "line": {
            "color": "lightblue",
            "dash": "dash",
            "width": 4
           },
           "mode": "lines",
           "name": "Tope Atmósfera",
           "type": "scatter",
           "x": [
            -1,
            1
           ],
           "y": [
            10,
            10
           ]
          },
          {
           "line": {
            "color": "grey",
            "dash": "dot",
            "width": 1
           },
           "mode": "lines",
           "type": "scatter",
           "x": [
            0,
            0
           ],
           "y": [
            10,
            3.4293346485516603
           ]
          },
          {
           "marker": {
            "color": "red",
            "size": 10
           },
           "mode": "markers",
           "type": "scatter",
           "x": [
            0
           ],
           "y": [
            3.4293346485516603
           ]
          },
          {
           "marker": {
            "color": "black",
            "size": 12,
            "symbol": "x"
           },
           "mode": "markers",
           "type": "scatter",
           "x": [
            0
           ],
           "y": [
            3.4293346485516603
           ]
          }
         ],
         "layout": {
          "annotations": [
           {
            "showarrow": false,
            "text": "V/c=0.995, γ=10.01, Δτ=2.20µs, H=10.0km",
            "x": 0.01,
            "xref": "paper",
            "y": 1.12,
            "yref": "paper"
           },
           {
            "showarrow": false,
            "text": "t=22.028µs, τ=2.200µs",
            "x": 0.01,
            "xref": "paper",
            "y": 1.06,
            "yref": "paper"
           },
           {
            "font": {
             "color": "red",
             "size": 14
            },
            "showarrow": false,
            "text": "¡DECAYÓ!",
            "x": 0.99,
            "xref": "paper",
            "y": 1.05,
            "yref": "paper"
           }
          ]
         },
         "name": "160"
        },
        {
         "data": [
          {
           "line": {
            "color": "green",
            "width": 4
           },
           "mode": "lines",
           "name": "Superficie",
           "type": "scatter",
           "x": [
            -1,
            1
           ],
           "y": [
            0,
            0
           ]
          },
          {
           "line": {
            "color": "lightblue",
            "dash": "dash",
            "width": 4
           },
           "mode": "lines",
           "name": "Tope Atmósfera",
           "type": "scatter",
           "x": [
            -1,
            1
           ],
           "y": [
            10,
            10
           ]
          },
          {
           "line": {
            "color": "grey",
            "dash": "dot",
            "width": 1
           },
           "mode": "lines",
           "type": "scatter",
           "x": [
            0,
            0
           ],
           "y": [
            10,
            3.4293346485516603
           ]
          },
          {
           "marker": {
            "color": "red",
            "size": 10
           },
           "mode": "markers",
           "type": "scatter",
           "x": [
            0
           ],
           "y": [
            3.4293346485516603
           ]
          },
          {
           "marker": {
            "color": "black",
            "size": 12,
            "symbol": "x"
           },
           "mode": "markers",
           "type": "scatter",
           "x": [
            0
           ],
           "y": [
            3.4293346485516603
           ]
          }
         ],
         "layout": {
          "annotations": [
           {
            "showarrow": false,
            "text": "V/c=0.995, γ=10.01, Δτ=2.20µs, H=10.0km",
            "x": 0.01,
            "xref": "paper",
            "y": 1.12,
            "yref": "paper"
           },
           {
            "showarrow": false,
            "text": "t=22.028µs, τ=2.200µs",
            "x": 0.01,
            "xref": "paper",
            "y": 1.06,
            "yref": "paper"
           },
           {
            "font": {
             "color": "red",
             "size": 14
            },
            "showarrow": false,
            "text": "¡DECAYÓ!",
            "x": 0.99,
            "xref": "paper",
            "y": 1.05,
            "yref": "paper"
           }
          ]
         },
         "name": "161"
        },
        {
         "data": [
          {
           "line": {
            "color": "green",
            "width": 4
           },
           "mode": "lines",
           "name": "Superficie",
           "type": "scatter",
           "x": [
            -1,
            1
           ],
           "y": [
            0,
            0
           ]
          },
          {
           "line": {
            "color": "lightblue",
            "dash": "dash",
            "width": 4
           },
           "mode": "lines",
           "name": "Tope Atmósfera",
           "type": "scatter",
           "x": [
            -1,
            1
           ],
           "y": [
            10,
            10
           ]
          },
          {
           "line": {
            "color": "grey",
            "dash": "dot",
            "width": 1
           },
           "mode": "lines",
           "type": "scatter",
           "x": [
            0,
            0
           ],
           "y": [
            10,
            3.4293346485516603
           ]
          },
          {
           "marker": {
            "color": "red",
            "size": 10
           },
           "mode": "markers",
           "type": "scatter",
           "x": [
            0
           ],
           "y": [
            3.4293346485516603
           ]
          },
          {
           "marker": {
            "color": "black",
            "size": 12,
            "symbol": "x"
           },
           "mode": "markers",
           "type": "scatter",
           "x": [
            0
           ],
           "y": [
            3.4293346485516603
           ]
          }
         ],
         "layout": {
          "annotations": [
           {
            "showarrow": false,
            "text": "V/c=0.995, γ=10.01, Δτ=2.20µs, H=10.0km",
            "x": 0.01,
            "xref": "paper",
            "y": 1.12,
            "yref": "paper"
           },
           {
            "showarrow": false,
            "text": "t=22.028µs, τ=2.200µs",
            "x": 0.01,
            "xref": "paper",
            "y": 1.06,
            "yref": "paper"
           },
           {
            "font": {
             "color": "red",
             "size": 14
            },
            "showarrow": false,
            "text": "¡DECAYÓ!",
            "x": 0.99,
            "xref": "paper",
            "y": 1.05,
            "yref": "paper"
           }
          ]
         },
         "name": "162"
        },
        {
         "data": [
          {
           "line": {
            "color": "green",
            "width": 4
           },
           "mode": "lines",
           "name": "Superficie",
           "type": "scatter",
           "x": [
            -1,
            1
           ],
           "y": [
            0,
            0
           ]
          },
          {
           "line": {
            "color": "lightblue",
            "dash": "dash",
            "width": 4
           },
           "mode": "lines",
           "name": "Tope Atmósfera",
           "type": "scatter",
           "x": [
            -1,
            1
           ],
           "y": [
            10,
            10
           ]
          },
          {
           "line": {
            "color": "grey",
            "dash": "dot",
            "width": 1
           },
           "mode": "lines",
           "type": "scatter",
           "x": [
            0,
            0
           ],
           "y": [
            10,
            3.4293346485516603
           ]
          },
          {
           "marker": {
            "color": "red",
            "size": 10
           },
           "mode": "markers",
           "type": "scatter",
           "x": [
            0
           ],
           "y": [
            3.4293346485516603
           ]
          },
          {
           "marker": {
            "color": "black",
            "size": 12,
            "symbol": "x"
           },
           "mode": "markers",
           "type": "scatter",
           "x": [
            0
           ],
           "y": [
            3.4293346485516603
           ]
          }
         ],
         "layout": {
          "annotations": [
           {
            "showarrow": false,
            "text": "V/c=0.995, γ=10.01, Δτ=2.20µs, H=10.0km",
            "x": 0.01,
            "xref": "paper",
            "y": 1.12,
            "yref": "paper"
           },
           {
            "showarrow": false,
            "text": "t=22.028µs, τ=2.200µs",
            "x": 0.01,
            "xref": "paper",
            "y": 1.06,
            "yref": "paper"
           },
           {
            "font": {
             "color": "red",
             "size": 14
            },
            "showarrow": false,
            "text": "¡DECAYÓ!",
            "x": 0.99,
            "xref": "paper",
            "y": 1.05,
            "yref": "paper"
           }
          ]
         },
         "name": "163"
        },
        {
         "data": [
          {
           "line": {
            "color": "green",
            "width": 4
           },
           "mode": "lines",
           "name": "Superficie",
           "type": "scatter",
           "x": [
            -1,
            1
           ],
           "y": [
            0,
            0
           ]
          },
          {
           "line": {
            "color": "lightblue",
            "dash": "dash",
            "width": 4
           },
           "mode": "lines",
           "name": "Tope Atmósfera",
           "type": "scatter",
           "x": [
            -1,
            1
           ],
           "y": [
            10,
            10
           ]
          },
          {
           "line": {
            "color": "grey",
            "dash": "dot",
            "width": 1
           },
           "mode": "lines",
           "type": "scatter",
           "x": [
            0,
            0
           ],
           "y": [
            10,
            3.4293346485516603
           ]
          },
          {
           "marker": {
            "color": "red",
            "size": 10
           },
           "mode": "markers",
           "type": "scatter",
           "x": [
            0
           ],
           "y": [
            3.4293346485516603
           ]
          },
          {
           "marker": {
            "color": "black",
            "size": 12,
            "symbol": "x"
           },
           "mode": "markers",
           "type": "scatter",
           "x": [
            0
           ],
           "y": [
            3.4293346485516603
           ]
          }
         ],
         "layout": {
          "annotations": [
           {
            "showarrow": false,
            "text": "V/c=0.995, γ=10.01, Δτ=2.20µs, H=10.0km",
            "x": 0.01,
            "xref": "paper",
            "y": 1.12,
            "yref": "paper"
           },
           {
            "showarrow": false,
            "text": "t=22.028µs, τ=2.200µs",
            "x": 0.01,
            "xref": "paper",
            "y": 1.06,
            "yref": "paper"
           },
           {
            "font": {
             "color": "red",
             "size": 14
            },
            "showarrow": false,
            "text": "¡DECAYÓ!",
            "x": 0.99,
            "xref": "paper",
            "y": 1.05,
            "yref": "paper"
           }
          ]
         },
         "name": "164"
        },
        {
         "data": [
          {
           "line": {
            "color": "green",
            "width": 4
           },
           "mode": "lines",
           "name": "Superficie",
           "type": "scatter",
           "x": [
            -1,
            1
           ],
           "y": [
            0,
            0
           ]
          },
          {
           "line": {
            "color": "lightblue",
            "dash": "dash",
            "width": 4
           },
           "mode": "lines",
           "name": "Tope Atmósfera",
           "type": "scatter",
           "x": [
            -1,
            1
           ],
           "y": [
            10,
            10
           ]
          },
          {
           "line": {
            "color": "grey",
            "dash": "dot",
            "width": 1
           },
           "mode": "lines",
           "type": "scatter",
           "x": [
            0,
            0
           ],
           "y": [
            10,
            3.4293346485516603
           ]
          },
          {
           "marker": {
            "color": "red",
            "size": 10
           },
           "mode": "markers",
           "type": "scatter",
           "x": [
            0
           ],
           "y": [
            3.4293346485516603
           ]
          },
          {
           "marker": {
            "color": "black",
            "size": 12,
            "symbol": "x"
           },
           "mode": "markers",
           "type": "scatter",
           "x": [
            0
           ],
           "y": [
            3.4293346485516603
           ]
          }
         ],
         "layout": {
          "annotations": [
           {
            "showarrow": false,
            "text": "V/c=0.995, γ=10.01, Δτ=2.20µs, H=10.0km",
            "x": 0.01,
            "xref": "paper",
            "y": 1.12,
            "yref": "paper"
           },
           {
            "showarrow": false,
            "text": "t=22.028µs, τ=2.200µs",
            "x": 0.01,
            "xref": "paper",
            "y": 1.06,
            "yref": "paper"
           },
           {
            "font": {
             "color": "red",
             "size": 14
            },
            "showarrow": false,
            "text": "¡DECAYÓ!",
            "x": 0.99,
            "xref": "paper",
            "y": 1.05,
            "yref": "paper"
           }
          ]
         },
         "name": "165"
        },
        {
         "data": [
          {
           "line": {
            "color": "green",
            "width": 4
           },
           "mode": "lines",
           "name": "Superficie",
           "type": "scatter",
           "x": [
            -1,
            1
           ],
           "y": [
            0,
            0
           ]
          },
          {
           "line": {
            "color": "lightblue",
            "dash": "dash",
            "width": 4
           },
           "mode": "lines",
           "name": "Tope Atmósfera",
           "type": "scatter",
           "x": [
            -1,
            1
           ],
           "y": [
            10,
            10
           ]
          },
          {
           "line": {
            "color": "grey",
            "dash": "dot",
            "width": 1
           },
           "mode": "lines",
           "type": "scatter",
           "x": [
            0,
            0
           ],
           "y": [
            10,
            3.4293346485516603
           ]
          },
          {
           "marker": {
            "color": "red",
            "size": 10
           },
           "mode": "markers",
           "type": "scatter",
           "x": [
            0
           ],
           "y": [
            3.4293346485516603
           ]
          },
          {
           "marker": {
            "color": "black",
            "size": 12,
            "symbol": "x"
           },
           "mode": "markers",
           "type": "scatter",
           "x": [
            0
           ],
           "y": [
            3.4293346485516603
           ]
          }
         ],
         "layout": {
          "annotations": [
           {
            "showarrow": false,
            "text": "V/c=0.995, γ=10.01, Δτ=2.20µs, H=10.0km",
            "x": 0.01,
            "xref": "paper",
            "y": 1.12,
            "yref": "paper"
           },
           {
            "showarrow": false,
            "text": "t=22.028µs, τ=2.200µs",
            "x": 0.01,
            "xref": "paper",
            "y": 1.06,
            "yref": "paper"
           },
           {
            "font": {
             "color": "red",
             "size": 14
            },
            "showarrow": false,
            "text": "¡DECAYÓ!",
            "x": 0.99,
            "xref": "paper",
            "y": 1.05,
            "yref": "paper"
           }
          ]
         },
         "name": "166"
        },
        {
         "data": [
          {
           "line": {
            "color": "green",
            "width": 4
           },
           "mode": "lines",
           "name": "Superficie",
           "type": "scatter",
           "x": [
            -1,
            1
           ],
           "y": [
            0,
            0
           ]
          },
          {
           "line": {
            "color": "lightblue",
            "dash": "dash",
            "width": 4
           },
           "mode": "lines",
           "name": "Tope Atmósfera",
           "type": "scatter",
           "x": [
            -1,
            1
           ],
           "y": [
            10,
            10
           ]
          },
          {
           "line": {
            "color": "grey",
            "dash": "dot",
            "width": 1
           },
           "mode": "lines",
           "type": "scatter",
           "x": [
            0,
            0
           ],
           "y": [
            10,
            3.4293346485516603
           ]
          },
          {
           "marker": {
            "color": "red",
            "size": 10
           },
           "mode": "markers",
           "type": "scatter",
           "x": [
            0
           ],
           "y": [
            3.4293346485516603
           ]
          },
          {
           "marker": {
            "color": "black",
            "size": 12,
            "symbol": "x"
           },
           "mode": "markers",
           "type": "scatter",
           "x": [
            0
           ],
           "y": [
            3.4293346485516603
           ]
          }
         ],
         "layout": {
          "annotations": [
           {
            "showarrow": false,
            "text": "V/c=0.995, γ=10.01, Δτ=2.20µs, H=10.0km",
            "x": 0.01,
            "xref": "paper",
            "y": 1.12,
            "yref": "paper"
           },
           {
            "showarrow": false,
            "text": "t=22.028µs, τ=2.200µs",
            "x": 0.01,
            "xref": "paper",
            "y": 1.06,
            "yref": "paper"
           },
           {
            "font": {
             "color": "red",
             "size": 14
            },
            "showarrow": false,
            "text": "¡DECAYÓ!",
            "x": 0.99,
            "xref": "paper",
            "y": 1.05,
            "yref": "paper"
           }
          ]
         },
         "name": "167"
        },
        {
         "data": [
          {
           "line": {
            "color": "green",
            "width": 4
           },
           "mode": "lines",
           "name": "Superficie",
           "type": "scatter",
           "x": [
            -1,
            1
           ],
           "y": [
            0,
            0
           ]
          },
          {
           "line": {
            "color": "lightblue",
            "dash": "dash",
            "width": 4
           },
           "mode": "lines",
           "name": "Tope Atmósfera",
           "type": "scatter",
           "x": [
            -1,
            1
           ],
           "y": [
            10,
            10
           ]
          },
          {
           "line": {
            "color": "grey",
            "dash": "dot",
            "width": 1
           },
           "mode": "lines",
           "type": "scatter",
           "x": [
            0,
            0
           ],
           "y": [
            10,
            3.4293346485516603
           ]
          },
          {
           "marker": {
            "color": "red",
            "size": 10
           },
           "mode": "markers",
           "type": "scatter",
           "x": [
            0
           ],
           "y": [
            3.4293346485516603
           ]
          },
          {
           "marker": {
            "color": "black",
            "size": 12,
            "symbol": "x"
           },
           "mode": "markers",
           "type": "scatter",
           "x": [
            0
           ],
           "y": [
            3.4293346485516603
           ]
          }
         ],
         "layout": {
          "annotations": [
           {
            "showarrow": false,
            "text": "V/c=0.995, γ=10.01, Δτ=2.20µs, H=10.0km",
            "x": 0.01,
            "xref": "paper",
            "y": 1.12,
            "yref": "paper"
           },
           {
            "showarrow": false,
            "text": "t=22.028µs, τ=2.200µs",
            "x": 0.01,
            "xref": "paper",
            "y": 1.06,
            "yref": "paper"
           },
           {
            "font": {
             "color": "red",
             "size": 14
            },
            "showarrow": false,
            "text": "¡DECAYÓ!",
            "x": 0.99,
            "xref": "paper",
            "y": 1.05,
            "yref": "paper"
           }
          ]
         },
         "name": "168"
        },
        {
         "data": [
          {
           "line": {
            "color": "green",
            "width": 4
           },
           "mode": "lines",
           "name": "Superficie",
           "type": "scatter",
           "x": [
            -1,
            1
           ],
           "y": [
            0,
            0
           ]
          },
          {
           "line": {
            "color": "lightblue",
            "dash": "dash",
            "width": 4
           },
           "mode": "lines",
           "name": "Tope Atmósfera",
           "type": "scatter",
           "x": [
            -1,
            1
           ],
           "y": [
            10,
            10
           ]
          },
          {
           "line": {
            "color": "grey",
            "dash": "dot",
            "width": 1
           },
           "mode": "lines",
           "type": "scatter",
           "x": [
            0,
            0
           ],
           "y": [
            10,
            3.4293346485516603
           ]
          },
          {
           "marker": {
            "color": "red",
            "size": 10
           },
           "mode": "markers",
           "type": "scatter",
           "x": [
            0
           ],
           "y": [
            3.4293346485516603
           ]
          },
          {
           "marker": {
            "color": "black",
            "size": 12,
            "symbol": "x"
           },
           "mode": "markers",
           "type": "scatter",
           "x": [
            0
           ],
           "y": [
            3.4293346485516603
           ]
          }
         ],
         "layout": {
          "annotations": [
           {
            "showarrow": false,
            "text": "V/c=0.995, γ=10.01, Δτ=2.20µs, H=10.0km",
            "x": 0.01,
            "xref": "paper",
            "y": 1.12,
            "yref": "paper"
           },
           {
            "showarrow": false,
            "text": "t=22.028µs, τ=2.200µs",
            "x": 0.01,
            "xref": "paper",
            "y": 1.06,
            "yref": "paper"
           },
           {
            "font": {
             "color": "red",
             "size": 14
            },
            "showarrow": false,
            "text": "¡DECAYÓ!",
            "x": 0.99,
            "xref": "paper",
            "y": 1.05,
            "yref": "paper"
           }
          ]
         },
         "name": "169"
        },
        {
         "data": [
          {
           "line": {
            "color": "green",
            "width": 4
           },
           "mode": "lines",
           "name": "Superficie",
           "type": "scatter",
           "x": [
            -1,
            1
           ],
           "y": [
            0,
            0
           ]
          },
          {
           "line": {
            "color": "lightblue",
            "dash": "dash",
            "width": 4
           },
           "mode": "lines",
           "name": "Tope Atmósfera",
           "type": "scatter",
           "x": [
            -1,
            1
           ],
           "y": [
            10,
            10
           ]
          },
          {
           "line": {
            "color": "grey",
            "dash": "dot",
            "width": 1
           },
           "mode": "lines",
           "type": "scatter",
           "x": [
            0,
            0
           ],
           "y": [
            10,
            3.4293346485516603
           ]
          },
          {
           "marker": {
            "color": "red",
            "size": 10
           },
           "mode": "markers",
           "type": "scatter",
           "x": [
            0
           ],
           "y": [
            3.4293346485516603
           ]
          },
          {
           "marker": {
            "color": "black",
            "size": 12,
            "symbol": "x"
           },
           "mode": "markers",
           "type": "scatter",
           "x": [
            0
           ],
           "y": [
            3.4293346485516603
           ]
          }
         ],
         "layout": {
          "annotations": [
           {
            "showarrow": false,
            "text": "V/c=0.995, γ=10.01, Δτ=2.20µs, H=10.0km",
            "x": 0.01,
            "xref": "paper",
            "y": 1.12,
            "yref": "paper"
           },
           {
            "showarrow": false,
            "text": "t=22.028µs, τ=2.200µs",
            "x": 0.01,
            "xref": "paper",
            "y": 1.06,
            "yref": "paper"
           },
           {
            "font": {
             "color": "red",
             "size": 14
            },
            "showarrow": false,
            "text": "¡DECAYÓ!",
            "x": 0.99,
            "xref": "paper",
            "y": 1.05,
            "yref": "paper"
           }
          ]
         },
         "name": "170"
        },
        {
         "data": [
          {
           "line": {
            "color": "green",
            "width": 4
           },
           "mode": "lines",
           "name": "Superficie",
           "type": "scatter",
           "x": [
            -1,
            1
           ],
           "y": [
            0,
            0
           ]
          },
          {
           "line": {
            "color": "lightblue",
            "dash": "dash",
            "width": 4
           },
           "mode": "lines",
           "name": "Tope Atmósfera",
           "type": "scatter",
           "x": [
            -1,
            1
           ],
           "y": [
            10,
            10
           ]
          },
          {
           "line": {
            "color": "grey",
            "dash": "dot",
            "width": 1
           },
           "mode": "lines",
           "type": "scatter",
           "x": [
            0,
            0
           ],
           "y": [
            10,
            3.4293346485516603
           ]
          },
          {
           "marker": {
            "color": "red",
            "size": 10
           },
           "mode": "markers",
           "type": "scatter",
           "x": [
            0
           ],
           "y": [
            3.4293346485516603
           ]
          },
          {
           "marker": {
            "color": "black",
            "size": 12,
            "symbol": "x"
           },
           "mode": "markers",
           "type": "scatter",
           "x": [
            0
           ],
           "y": [
            3.4293346485516603
           ]
          }
         ],
         "layout": {
          "annotations": [
           {
            "showarrow": false,
            "text": "V/c=0.995, γ=10.01, Δτ=2.20µs, H=10.0km",
            "x": 0.01,
            "xref": "paper",
            "y": 1.12,
            "yref": "paper"
           },
           {
            "showarrow": false,
            "text": "t=22.028µs, τ=2.200µs",
            "x": 0.01,
            "xref": "paper",
            "y": 1.06,
            "yref": "paper"
           },
           {
            "font": {
             "color": "red",
             "size": 14
            },
            "showarrow": false,
            "text": "¡DECAYÓ!",
            "x": 0.99,
            "xref": "paper",
            "y": 1.05,
            "yref": "paper"
           }
          ]
         },
         "name": "171"
        },
        {
         "data": [
          {
           "line": {
            "color": "green",
            "width": 4
           },
           "mode": "lines",
           "name": "Superficie",
           "type": "scatter",
           "x": [
            -1,
            1
           ],
           "y": [
            0,
            0
           ]
          },
          {
           "line": {
            "color": "lightblue",
            "dash": "dash",
            "width": 4
           },
           "mode": "lines",
           "name": "Tope Atmósfera",
           "type": "scatter",
           "x": [
            -1,
            1
           ],
           "y": [
            10,
            10
           ]
          },
          {
           "line": {
            "color": "grey",
            "dash": "dot",
            "width": 1
           },
           "mode": "lines",
           "type": "scatter",
           "x": [
            0,
            0
           ],
           "y": [
            10,
            3.4293346485516603
           ]
          },
          {
           "marker": {
            "color": "red",
            "size": 10
           },
           "mode": "markers",
           "type": "scatter",
           "x": [
            0
           ],
           "y": [
            3.4293346485516603
           ]
          },
          {
           "marker": {
            "color": "black",
            "size": 12,
            "symbol": "x"
           },
           "mode": "markers",
           "type": "scatter",
           "x": [
            0
           ],
           "y": [
            3.4293346485516603
           ]
          }
         ],
         "layout": {
          "annotations": [
           {
            "showarrow": false,
            "text": "V/c=0.995, γ=10.01, Δτ=2.20µs, H=10.0km",
            "x": 0.01,
            "xref": "paper",
            "y": 1.12,
            "yref": "paper"
           },
           {
            "showarrow": false,
            "text": "t=22.028µs, τ=2.200µs",
            "x": 0.01,
            "xref": "paper",
            "y": 1.06,
            "yref": "paper"
           },
           {
            "font": {
             "color": "red",
             "size": 14
            },
            "showarrow": false,
            "text": "¡DECAYÓ!",
            "x": 0.99,
            "xref": "paper",
            "y": 1.05,
            "yref": "paper"
           }
          ]
         },
         "name": "172"
        },
        {
         "data": [
          {
           "line": {
            "color": "green",
            "width": 4
           },
           "mode": "lines",
           "name": "Superficie",
           "type": "scatter",
           "x": [
            -1,
            1
           ],
           "y": [
            0,
            0
           ]
          },
          {
           "line": {
            "color": "lightblue",
            "dash": "dash",
            "width": 4
           },
           "mode": "lines",
           "name": "Tope Atmósfera",
           "type": "scatter",
           "x": [
            -1,
            1
           ],
           "y": [
            10,
            10
           ]
          },
          {
           "line": {
            "color": "grey",
            "dash": "dot",
            "width": 1
           },
           "mode": "lines",
           "type": "scatter",
           "x": [
            0,
            0
           ],
           "y": [
            10,
            3.4293346485516603
           ]
          },
          {
           "marker": {
            "color": "red",
            "size": 10
           },
           "mode": "markers",
           "type": "scatter",
           "x": [
            0
           ],
           "y": [
            3.4293346485516603
           ]
          },
          {
           "marker": {
            "color": "black",
            "size": 12,
            "symbol": "x"
           },
           "mode": "markers",
           "type": "scatter",
           "x": [
            0
           ],
           "y": [
            3.4293346485516603
           ]
          }
         ],
         "layout": {
          "annotations": [
           {
            "showarrow": false,
            "text": "V/c=0.995, γ=10.01, Δτ=2.20µs, H=10.0km",
            "x": 0.01,
            "xref": "paper",
            "y": 1.12,
            "yref": "paper"
           },
           {
            "showarrow": false,
            "text": "t=22.028µs, τ=2.200µs",
            "x": 0.01,
            "xref": "paper",
            "y": 1.06,
            "yref": "paper"
           },
           {
            "font": {
             "color": "red",
             "size": 14
            },
            "showarrow": false,
            "text": "¡DECAYÓ!",
            "x": 0.99,
            "xref": "paper",
            "y": 1.05,
            "yref": "paper"
           }
          ]
         },
         "name": "173"
        },
        {
         "data": [
          {
           "line": {
            "color": "green",
            "width": 4
           },
           "mode": "lines",
           "name": "Superficie",
           "type": "scatter",
           "x": [
            -1,
            1
           ],
           "y": [
            0,
            0
           ]
          },
          {
           "line": {
            "color": "lightblue",
            "dash": "dash",
            "width": 4
           },
           "mode": "lines",
           "name": "Tope Atmósfera",
           "type": "scatter",
           "x": [
            -1,
            1
           ],
           "y": [
            10,
            10
           ]
          },
          {
           "line": {
            "color": "grey",
            "dash": "dot",
            "width": 1
           },
           "mode": "lines",
           "type": "scatter",
           "x": [
            0,
            0
           ],
           "y": [
            10,
            3.4293346485516603
           ]
          },
          {
           "marker": {
            "color": "red",
            "size": 10
           },
           "mode": "markers",
           "type": "scatter",
           "x": [
            0
           ],
           "y": [
            3.4293346485516603
           ]
          },
          {
           "marker": {
            "color": "black",
            "size": 12,
            "symbol": "x"
           },
           "mode": "markers",
           "type": "scatter",
           "x": [
            0
           ],
           "y": [
            3.4293346485516603
           ]
          }
         ],
         "layout": {
          "annotations": [
           {
            "showarrow": false,
            "text": "V/c=0.995, γ=10.01, Δτ=2.20µs, H=10.0km",
            "x": 0.01,
            "xref": "paper",
            "y": 1.12,
            "yref": "paper"
           },
           {
            "showarrow": false,
            "text": "t=22.028µs, τ=2.200µs",
            "x": 0.01,
            "xref": "paper",
            "y": 1.06,
            "yref": "paper"
           },
           {
            "font": {
             "color": "red",
             "size": 14
            },
            "showarrow": false,
            "text": "¡DECAYÓ!",
            "x": 0.99,
            "xref": "paper",
            "y": 1.05,
            "yref": "paper"
           }
          ]
         },
         "name": "174"
        },
        {
         "data": [
          {
           "line": {
            "color": "green",
            "width": 4
           },
           "mode": "lines",
           "name": "Superficie",
           "type": "scatter",
           "x": [
            -1,
            1
           ],
           "y": [
            0,
            0
           ]
          },
          {
           "line": {
            "color": "lightblue",
            "dash": "dash",
            "width": 4
           },
           "mode": "lines",
           "name": "Tope Atmósfera",
           "type": "scatter",
           "x": [
            -1,
            1
           ],
           "y": [
            10,
            10
           ]
          },
          {
           "line": {
            "color": "grey",
            "dash": "dot",
            "width": 1
           },
           "mode": "lines",
           "type": "scatter",
           "x": [
            0,
            0
           ],
           "y": [
            10,
            3.4293346485516603
           ]
          },
          {
           "marker": {
            "color": "red",
            "size": 10
           },
           "mode": "markers",
           "type": "scatter",
           "x": [
            0
           ],
           "y": [
            3.4293346485516603
           ]
          },
          {
           "marker": {
            "color": "black",
            "size": 12,
            "symbol": "x"
           },
           "mode": "markers",
           "type": "scatter",
           "x": [
            0
           ],
           "y": [
            3.4293346485516603
           ]
          }
         ],
         "layout": {
          "annotations": [
           {
            "showarrow": false,
            "text": "V/c=0.995, γ=10.01, Δτ=2.20µs, H=10.0km",
            "x": 0.01,
            "xref": "paper",
            "y": 1.12,
            "yref": "paper"
           },
           {
            "showarrow": false,
            "text": "t=22.028µs, τ=2.200µs",
            "x": 0.01,
            "xref": "paper",
            "y": 1.06,
            "yref": "paper"
           },
           {
            "font": {
             "color": "red",
             "size": 14
            },
            "showarrow": false,
            "text": "¡DECAYÓ!",
            "x": 0.99,
            "xref": "paper",
            "y": 1.05,
            "yref": "paper"
           }
          ]
         },
         "name": "175"
        },
        {
         "data": [
          {
           "line": {
            "color": "green",
            "width": 4
           },
           "mode": "lines",
           "name": "Superficie",
           "type": "scatter",
           "x": [
            -1,
            1
           ],
           "y": [
            0,
            0
           ]
          },
          {
           "line": {
            "color": "lightblue",
            "dash": "dash",
            "width": 4
           },
           "mode": "lines",
           "name": "Tope Atmósfera",
           "type": "scatter",
           "x": [
            -1,
            1
           ],
           "y": [
            10,
            10
           ]
          },
          {
           "line": {
            "color": "grey",
            "dash": "dot",
            "width": 1
           },
           "mode": "lines",
           "type": "scatter",
           "x": [
            0,
            0
           ],
           "y": [
            10,
            3.4293346485516603
           ]
          },
          {
           "marker": {
            "color": "red",
            "size": 10
           },
           "mode": "markers",
           "type": "scatter",
           "x": [
            0
           ],
           "y": [
            3.4293346485516603
           ]
          },
          {
           "marker": {
            "color": "black",
            "size": 12,
            "symbol": "x"
           },
           "mode": "markers",
           "type": "scatter",
           "x": [
            0
           ],
           "y": [
            3.4293346485516603
           ]
          }
         ],
         "layout": {
          "annotations": [
           {
            "showarrow": false,
            "text": "V/c=0.995, γ=10.01, Δτ=2.20µs, H=10.0km",
            "x": 0.01,
            "xref": "paper",
            "y": 1.12,
            "yref": "paper"
           },
           {
            "showarrow": false,
            "text": "t=22.028µs, τ=2.200µs",
            "x": 0.01,
            "xref": "paper",
            "y": 1.06,
            "yref": "paper"
           },
           {
            "font": {
             "color": "red",
             "size": 14
            },
            "showarrow": false,
            "text": "¡DECAYÓ!",
            "x": 0.99,
            "xref": "paper",
            "y": 1.05,
            "yref": "paper"
           }
          ]
         },
         "name": "176"
        },
        {
         "data": [
          {
           "line": {
            "color": "green",
            "width": 4
           },
           "mode": "lines",
           "name": "Superficie",
           "type": "scatter",
           "x": [
            -1,
            1
           ],
           "y": [
            0,
            0
           ]
          },
          {
           "line": {
            "color": "lightblue",
            "dash": "dash",
            "width": 4
           },
           "mode": "lines",
           "name": "Tope Atmósfera",
           "type": "scatter",
           "x": [
            -1,
            1
           ],
           "y": [
            10,
            10
           ]
          },
          {
           "line": {
            "color": "grey",
            "dash": "dot",
            "width": 1
           },
           "mode": "lines",
           "type": "scatter",
           "x": [
            0,
            0
           ],
           "y": [
            10,
            3.4293346485516603
           ]
          },
          {
           "marker": {
            "color": "red",
            "size": 10
           },
           "mode": "markers",
           "type": "scatter",
           "x": [
            0
           ],
           "y": [
            3.4293346485516603
           ]
          },
          {
           "marker": {
            "color": "black",
            "size": 12,
            "symbol": "x"
           },
           "mode": "markers",
           "type": "scatter",
           "x": [
            0
           ],
           "y": [
            3.4293346485516603
           ]
          }
         ],
         "layout": {
          "annotations": [
           {
            "showarrow": false,
            "text": "V/c=0.995, γ=10.01, Δτ=2.20µs, H=10.0km",
            "x": 0.01,
            "xref": "paper",
            "y": 1.12,
            "yref": "paper"
           },
           {
            "showarrow": false,
            "text": "t=22.028µs, τ=2.200µs",
            "x": 0.01,
            "xref": "paper",
            "y": 1.06,
            "yref": "paper"
           },
           {
            "font": {
             "color": "red",
             "size": 14
            },
            "showarrow": false,
            "text": "¡DECAYÓ!",
            "x": 0.99,
            "xref": "paper",
            "y": 1.05,
            "yref": "paper"
           }
          ]
         },
         "name": "177"
        },
        {
         "data": [
          {
           "line": {
            "color": "green",
            "width": 4
           },
           "mode": "lines",
           "name": "Superficie",
           "type": "scatter",
           "x": [
            -1,
            1
           ],
           "y": [
            0,
            0
           ]
          },
          {
           "line": {
            "color": "lightblue",
            "dash": "dash",
            "width": 4
           },
           "mode": "lines",
           "name": "Tope Atmósfera",
           "type": "scatter",
           "x": [
            -1,
            1
           ],
           "y": [
            10,
            10
           ]
          },
          {
           "line": {
            "color": "grey",
            "dash": "dot",
            "width": 1
           },
           "mode": "lines",
           "type": "scatter",
           "x": [
            0,
            0
           ],
           "y": [
            10,
            3.4293346485516603
           ]
          },
          {
           "marker": {
            "color": "red",
            "size": 10
           },
           "mode": "markers",
           "type": "scatter",
           "x": [
            0
           ],
           "y": [
            3.4293346485516603
           ]
          },
          {
           "marker": {
            "color": "black",
            "size": 12,
            "symbol": "x"
           },
           "mode": "markers",
           "type": "scatter",
           "x": [
            0
           ],
           "y": [
            3.4293346485516603
           ]
          }
         ],
         "layout": {
          "annotations": [
           {
            "showarrow": false,
            "text": "V/c=0.995, γ=10.01, Δτ=2.20µs, H=10.0km",
            "x": 0.01,
            "xref": "paper",
            "y": 1.12,
            "yref": "paper"
           },
           {
            "showarrow": false,
            "text": "t=22.028µs, τ=2.200µs",
            "x": 0.01,
            "xref": "paper",
            "y": 1.06,
            "yref": "paper"
           },
           {
            "font": {
             "color": "red",
             "size": 14
            },
            "showarrow": false,
            "text": "¡DECAYÓ!",
            "x": 0.99,
            "xref": "paper",
            "y": 1.05,
            "yref": "paper"
           }
          ]
         },
         "name": "178"
        },
        {
         "data": [
          {
           "line": {
            "color": "green",
            "width": 4
           },
           "mode": "lines",
           "name": "Superficie",
           "type": "scatter",
           "x": [
            -1,
            1
           ],
           "y": [
            0,
            0
           ]
          },
          {
           "line": {
            "color": "lightblue",
            "dash": "dash",
            "width": 4
           },
           "mode": "lines",
           "name": "Tope Atmósfera",
           "type": "scatter",
           "x": [
            -1,
            1
           ],
           "y": [
            10,
            10
           ]
          },
          {
           "line": {
            "color": "grey",
            "dash": "dot",
            "width": 1
           },
           "mode": "lines",
           "type": "scatter",
           "x": [
            0,
            0
           ],
           "y": [
            10,
            3.4293346485516603
           ]
          },
          {
           "marker": {
            "color": "red",
            "size": 10
           },
           "mode": "markers",
           "type": "scatter",
           "x": [
            0
           ],
           "y": [
            3.4293346485516603
           ]
          },
          {
           "marker": {
            "color": "black",
            "size": 12,
            "symbol": "x"
           },
           "mode": "markers",
           "type": "scatter",
           "x": [
            0
           ],
           "y": [
            3.4293346485516603
           ]
          }
         ],
         "layout": {
          "annotations": [
           {
            "showarrow": false,
            "text": "V/c=0.995, γ=10.01, Δτ=2.20µs, H=10.0km",
            "x": 0.01,
            "xref": "paper",
            "y": 1.12,
            "yref": "paper"
           },
           {
            "showarrow": false,
            "text": "t=22.028µs, τ=2.200µs",
            "x": 0.01,
            "xref": "paper",
            "y": 1.06,
            "yref": "paper"
           },
           {
            "font": {
             "color": "red",
             "size": 14
            },
            "showarrow": false,
            "text": "¡DECAYÓ!",
            "x": 0.99,
            "xref": "paper",
            "y": 1.05,
            "yref": "paper"
           }
          ]
         },
         "name": "179"
        },
        {
         "data": [
          {
           "line": {
            "color": "green",
            "width": 4
           },
           "mode": "lines",
           "name": "Superficie",
           "type": "scatter",
           "x": [
            -1,
            1
           ],
           "y": [
            0,
            0
           ]
          },
          {
           "line": {
            "color": "lightblue",
            "dash": "dash",
            "width": 4
           },
           "mode": "lines",
           "name": "Tope Atmósfera",
           "type": "scatter",
           "x": [
            -1,
            1
           ],
           "y": [
            10,
            10
           ]
          },
          {
           "line": {
            "color": "grey",
            "dash": "dot",
            "width": 1
           },
           "mode": "lines",
           "type": "scatter",
           "x": [
            0,
            0
           ],
           "y": [
            10,
            3.4293346485516603
           ]
          },
          {
           "marker": {
            "color": "red",
            "size": 10
           },
           "mode": "markers",
           "type": "scatter",
           "x": [
            0
           ],
           "y": [
            3.4293346485516603
           ]
          },
          {
           "marker": {
            "color": "black",
            "size": 12,
            "symbol": "x"
           },
           "mode": "markers",
           "type": "scatter",
           "x": [
            0
           ],
           "y": [
            3.4293346485516603
           ]
          }
         ],
         "layout": {
          "annotations": [
           {
            "showarrow": false,
            "text": "V/c=0.995, γ=10.01, Δτ=2.20µs, H=10.0km",
            "x": 0.01,
            "xref": "paper",
            "y": 1.12,
            "yref": "paper"
           },
           {
            "showarrow": false,
            "text": "t=22.028µs, τ=2.200µs",
            "x": 0.01,
            "xref": "paper",
            "y": 1.06,
            "yref": "paper"
           },
           {
            "font": {
             "color": "red",
             "size": 14
            },
            "showarrow": false,
            "text": "¡DECAYÓ!",
            "x": 0.99,
            "xref": "paper",
            "y": 1.05,
            "yref": "paper"
           }
          ]
         },
         "name": "180"
        },
        {
         "data": [
          {
           "line": {
            "color": "green",
            "width": 4
           },
           "mode": "lines",
           "name": "Superficie",
           "type": "scatter",
           "x": [
            -1,
            1
           ],
           "y": [
            0,
            0
           ]
          },
          {
           "line": {
            "color": "lightblue",
            "dash": "dash",
            "width": 4
           },
           "mode": "lines",
           "name": "Tope Atmósfera",
           "type": "scatter",
           "x": [
            -1,
            1
           ],
           "y": [
            10,
            10
           ]
          },
          {
           "line": {
            "color": "grey",
            "dash": "dot",
            "width": 1
           },
           "mode": "lines",
           "type": "scatter",
           "x": [
            0,
            0
           ],
           "y": [
            10,
            3.4293346485516603
           ]
          },
          {
           "marker": {
            "color": "red",
            "size": 10
           },
           "mode": "markers",
           "type": "scatter",
           "x": [
            0
           ],
           "y": [
            3.4293346485516603
           ]
          },
          {
           "marker": {
            "color": "black",
            "size": 12,
            "symbol": "x"
           },
           "mode": "markers",
           "type": "scatter",
           "x": [
            0
           ],
           "y": [
            3.4293346485516603
           ]
          }
         ],
         "layout": {
          "annotations": [
           {
            "showarrow": false,
            "text": "V/c=0.995, γ=10.01, Δτ=2.20µs, H=10.0km",
            "x": 0.01,
            "xref": "paper",
            "y": 1.12,
            "yref": "paper"
           },
           {
            "showarrow": false,
            "text": "t=22.028µs, τ=2.200µs",
            "x": 0.01,
            "xref": "paper",
            "y": 1.06,
            "yref": "paper"
           },
           {
            "font": {
             "color": "red",
             "size": 14
            },
            "showarrow": false,
            "text": "¡DECAYÓ!",
            "x": 0.99,
            "xref": "paper",
            "y": 1.05,
            "yref": "paper"
           }
          ]
         },
         "name": "181"
        },
        {
         "data": [
          {
           "line": {
            "color": "green",
            "width": 4
           },
           "mode": "lines",
           "name": "Superficie",
           "type": "scatter",
           "x": [
            -1,
            1
           ],
           "y": [
            0,
            0
           ]
          },
          {
           "line": {
            "color": "lightblue",
            "dash": "dash",
            "width": 4
           },
           "mode": "lines",
           "name": "Tope Atmósfera",
           "type": "scatter",
           "x": [
            -1,
            1
           ],
           "y": [
            10,
            10
           ]
          },
          {
           "line": {
            "color": "grey",
            "dash": "dot",
            "width": 1
           },
           "mode": "lines",
           "type": "scatter",
           "x": [
            0,
            0
           ],
           "y": [
            10,
            3.4293346485516603
           ]
          },
          {
           "marker": {
            "color": "red",
            "size": 10
           },
           "mode": "markers",
           "type": "scatter",
           "x": [
            0
           ],
           "y": [
            3.4293346485516603
           ]
          },
          {
           "marker": {
            "color": "black",
            "size": 12,
            "symbol": "x"
           },
           "mode": "markers",
           "type": "scatter",
           "x": [
            0
           ],
           "y": [
            3.4293346485516603
           ]
          }
         ],
         "layout": {
          "annotations": [
           {
            "showarrow": false,
            "text": "V/c=0.995, γ=10.01, Δτ=2.20µs, H=10.0km",
            "x": 0.01,
            "xref": "paper",
            "y": 1.12,
            "yref": "paper"
           },
           {
            "showarrow": false,
            "text": "t=22.028µs, τ=2.200µs",
            "x": 0.01,
            "xref": "paper",
            "y": 1.06,
            "yref": "paper"
           },
           {
            "font": {
             "color": "red",
             "size": 14
            },
            "showarrow": false,
            "text": "¡DECAYÓ!",
            "x": 0.99,
            "xref": "paper",
            "y": 1.05,
            "yref": "paper"
           }
          ]
         },
         "name": "182"
        },
        {
         "data": [
          {
           "line": {
            "color": "green",
            "width": 4
           },
           "mode": "lines",
           "name": "Superficie",
           "type": "scatter",
           "x": [
            -1,
            1
           ],
           "y": [
            0,
            0
           ]
          },
          {
           "line": {
            "color": "lightblue",
            "dash": "dash",
            "width": 4
           },
           "mode": "lines",
           "name": "Tope Atmósfera",
           "type": "scatter",
           "x": [
            -1,
            1
           ],
           "y": [
            10,
            10
           ]
          },
          {
           "line": {
            "color": "grey",
            "dash": "dot",
            "width": 1
           },
           "mode": "lines",
           "type": "scatter",
           "x": [
            0,
            0
           ],
           "y": [
            10,
            3.4293346485516603
           ]
          },
          {
           "marker": {
            "color": "red",
            "size": 10
           },
           "mode": "markers",
           "type": "scatter",
           "x": [
            0
           ],
           "y": [
            3.4293346485516603
           ]
          },
          {
           "marker": {
            "color": "black",
            "size": 12,
            "symbol": "x"
           },
           "mode": "markers",
           "type": "scatter",
           "x": [
            0
           ],
           "y": [
            3.4293346485516603
           ]
          }
         ],
         "layout": {
          "annotations": [
           {
            "showarrow": false,
            "text": "V/c=0.995, γ=10.01, Δτ=2.20µs, H=10.0km",
            "x": 0.01,
            "xref": "paper",
            "y": 1.12,
            "yref": "paper"
           },
           {
            "showarrow": false,
            "text": "t=22.028µs, τ=2.200µs",
            "x": 0.01,
            "xref": "paper",
            "y": 1.06,
            "yref": "paper"
           },
           {
            "font": {
             "color": "red",
             "size": 14
            },
            "showarrow": false,
            "text": "¡DECAYÓ!",
            "x": 0.99,
            "xref": "paper",
            "y": 1.05,
            "yref": "paper"
           }
          ]
         },
         "name": "183"
        },
        {
         "data": [
          {
           "line": {
            "color": "green",
            "width": 4
           },
           "mode": "lines",
           "name": "Superficie",
           "type": "scatter",
           "x": [
            -1,
            1
           ],
           "y": [
            0,
            0
           ]
          },
          {
           "line": {
            "color": "lightblue",
            "dash": "dash",
            "width": 4
           },
           "mode": "lines",
           "name": "Tope Atmósfera",
           "type": "scatter",
           "x": [
            -1,
            1
           ],
           "y": [
            10,
            10
           ]
          },
          {
           "line": {
            "color": "grey",
            "dash": "dot",
            "width": 1
           },
           "mode": "lines",
           "type": "scatter",
           "x": [
            0,
            0
           ],
           "y": [
            10,
            3.4293346485516603
           ]
          },
          {
           "marker": {
            "color": "red",
            "size": 10
           },
           "mode": "markers",
           "type": "scatter",
           "x": [
            0
           ],
           "y": [
            3.4293346485516603
           ]
          },
          {
           "marker": {
            "color": "black",
            "size": 12,
            "symbol": "x"
           },
           "mode": "markers",
           "type": "scatter",
           "x": [
            0
           ],
           "y": [
            3.4293346485516603
           ]
          }
         ],
         "layout": {
          "annotations": [
           {
            "showarrow": false,
            "text": "V/c=0.995, γ=10.01, Δτ=2.20µs, H=10.0km",
            "x": 0.01,
            "xref": "paper",
            "y": 1.12,
            "yref": "paper"
           },
           {
            "showarrow": false,
            "text": "t=22.028µs, τ=2.200µs",
            "x": 0.01,
            "xref": "paper",
            "y": 1.06,
            "yref": "paper"
           },
           {
            "font": {
             "color": "red",
             "size": 14
            },
            "showarrow": false,
            "text": "¡DECAYÓ!",
            "x": 0.99,
            "xref": "paper",
            "y": 1.05,
            "yref": "paper"
           }
          ]
         },
         "name": "184"
        },
        {
         "data": [
          {
           "line": {
            "color": "green",
            "width": 4
           },
           "mode": "lines",
           "name": "Superficie",
           "type": "scatter",
           "x": [
            -1,
            1
           ],
           "y": [
            0,
            0
           ]
          },
          {
           "line": {
            "color": "lightblue",
            "dash": "dash",
            "width": 4
           },
           "mode": "lines",
           "name": "Tope Atmósfera",
           "type": "scatter",
           "x": [
            -1,
            1
           ],
           "y": [
            10,
            10
           ]
          },
          {
           "line": {
            "color": "grey",
            "dash": "dot",
            "width": 1
           },
           "mode": "lines",
           "type": "scatter",
           "x": [
            0,
            0
           ],
           "y": [
            10,
            3.4293346485516603
           ]
          },
          {
           "marker": {
            "color": "red",
            "size": 10
           },
           "mode": "markers",
           "type": "scatter",
           "x": [
            0
           ],
           "y": [
            3.4293346485516603
           ]
          },
          {
           "marker": {
            "color": "black",
            "size": 12,
            "symbol": "x"
           },
           "mode": "markers",
           "type": "scatter",
           "x": [
            0
           ],
           "y": [
            3.4293346485516603
           ]
          }
         ],
         "layout": {
          "annotations": [
           {
            "showarrow": false,
            "text": "V/c=0.995, γ=10.01, Δτ=2.20µs, H=10.0km",
            "x": 0.01,
            "xref": "paper",
            "y": 1.12,
            "yref": "paper"
           },
           {
            "showarrow": false,
            "text": "t=22.028µs, τ=2.200µs",
            "x": 0.01,
            "xref": "paper",
            "y": 1.06,
            "yref": "paper"
           },
           {
            "font": {
             "color": "red",
             "size": 14
            },
            "showarrow": false,
            "text": "¡DECAYÓ!",
            "x": 0.99,
            "xref": "paper",
            "y": 1.05,
            "yref": "paper"
           }
          ]
         },
         "name": "185"
        },
        {
         "data": [
          {
           "line": {
            "color": "green",
            "width": 4
           },
           "mode": "lines",
           "name": "Superficie",
           "type": "scatter",
           "x": [
            -1,
            1
           ],
           "y": [
            0,
            0
           ]
          },
          {
           "line": {
            "color": "lightblue",
            "dash": "dash",
            "width": 4
           },
           "mode": "lines",
           "name": "Tope Atmósfera",
           "type": "scatter",
           "x": [
            -1,
            1
           ],
           "y": [
            10,
            10
           ]
          },
          {
           "line": {
            "color": "grey",
            "dash": "dot",
            "width": 1
           },
           "mode": "lines",
           "type": "scatter",
           "x": [
            0,
            0
           ],
           "y": [
            10,
            3.4293346485516603
           ]
          },
          {
           "marker": {
            "color": "red",
            "size": 10
           },
           "mode": "markers",
           "type": "scatter",
           "x": [
            0
           ],
           "y": [
            3.4293346485516603
           ]
          },
          {
           "marker": {
            "color": "black",
            "size": 12,
            "symbol": "x"
           },
           "mode": "markers",
           "type": "scatter",
           "x": [
            0
           ],
           "y": [
            3.4293346485516603
           ]
          }
         ],
         "layout": {
          "annotations": [
           {
            "showarrow": false,
            "text": "V/c=0.995, γ=10.01, Δτ=2.20µs, H=10.0km",
            "x": 0.01,
            "xref": "paper",
            "y": 1.12,
            "yref": "paper"
           },
           {
            "showarrow": false,
            "text": "t=22.028µs, τ=2.200µs",
            "x": 0.01,
            "xref": "paper",
            "y": 1.06,
            "yref": "paper"
           },
           {
            "font": {
             "color": "red",
             "size": 14
            },
            "showarrow": false,
            "text": "¡DECAYÓ!",
            "x": 0.99,
            "xref": "paper",
            "y": 1.05,
            "yref": "paper"
           }
          ]
         },
         "name": "186"
        },
        {
         "data": [
          {
           "line": {
            "color": "green",
            "width": 4
           },
           "mode": "lines",
           "name": "Superficie",
           "type": "scatter",
           "x": [
            -1,
            1
           ],
           "y": [
            0,
            0
           ]
          },
          {
           "line": {
            "color": "lightblue",
            "dash": "dash",
            "width": 4
           },
           "mode": "lines",
           "name": "Tope Atmósfera",
           "type": "scatter",
           "x": [
            -1,
            1
           ],
           "y": [
            10,
            10
           ]
          },
          {
           "line": {
            "color": "grey",
            "dash": "dot",
            "width": 1
           },
           "mode": "lines",
           "type": "scatter",
           "x": [
            0,
            0
           ],
           "y": [
            10,
            3.4293346485516603
           ]
          },
          {
           "marker": {
            "color": "red",
            "size": 10
           },
           "mode": "markers",
           "type": "scatter",
           "x": [
            0
           ],
           "y": [
            3.4293346485516603
           ]
          },
          {
           "marker": {
            "color": "black",
            "size": 12,
            "symbol": "x"
           },
           "mode": "markers",
           "type": "scatter",
           "x": [
            0
           ],
           "y": [
            3.4293346485516603
           ]
          }
         ],
         "layout": {
          "annotations": [
           {
            "showarrow": false,
            "text": "V/c=0.995, γ=10.01, Δτ=2.20µs, H=10.0km",
            "x": 0.01,
            "xref": "paper",
            "y": 1.12,
            "yref": "paper"
           },
           {
            "showarrow": false,
            "text": "t=22.028µs, τ=2.200µs",
            "x": 0.01,
            "xref": "paper",
            "y": 1.06,
            "yref": "paper"
           },
           {
            "font": {
             "color": "red",
             "size": 14
            },
            "showarrow": false,
            "text": "¡DECAYÓ!",
            "x": 0.99,
            "xref": "paper",
            "y": 1.05,
            "yref": "paper"
           }
          ]
         },
         "name": "187"
        },
        {
         "data": [
          {
           "line": {
            "color": "green",
            "width": 4
           },
           "mode": "lines",
           "name": "Superficie",
           "type": "scatter",
           "x": [
            -1,
            1
           ],
           "y": [
            0,
            0
           ]
          },
          {
           "line": {
            "color": "lightblue",
            "dash": "dash",
            "width": 4
           },
           "mode": "lines",
           "name": "Tope Atmósfera",
           "type": "scatter",
           "x": [
            -1,
            1
           ],
           "y": [
            10,
            10
           ]
          },
          {
           "line": {
            "color": "grey",
            "dash": "dot",
            "width": 1
           },
           "mode": "lines",
           "type": "scatter",
           "x": [
            0,
            0
           ],
           "y": [
            10,
            3.4293346485516603
           ]
          },
          {
           "marker": {
            "color": "red",
            "size": 10
           },
           "mode": "markers",
           "type": "scatter",
           "x": [
            0
           ],
           "y": [
            3.4293346485516603
           ]
          },
          {
           "marker": {
            "color": "black",
            "size": 12,
            "symbol": "x"
           },
           "mode": "markers",
           "type": "scatter",
           "x": [
            0
           ],
           "y": [
            3.4293346485516603
           ]
          }
         ],
         "layout": {
          "annotations": [
           {
            "showarrow": false,
            "text": "V/c=0.995, γ=10.01, Δτ=2.20µs, H=10.0km",
            "x": 0.01,
            "xref": "paper",
            "y": 1.12,
            "yref": "paper"
           },
           {
            "showarrow": false,
            "text": "t=22.028µs, τ=2.200µs",
            "x": 0.01,
            "xref": "paper",
            "y": 1.06,
            "yref": "paper"
           },
           {
            "font": {
             "color": "red",
             "size": 14
            },
            "showarrow": false,
            "text": "¡DECAYÓ!",
            "x": 0.99,
            "xref": "paper",
            "y": 1.05,
            "yref": "paper"
           }
          ]
         },
         "name": "188"
        },
        {
         "data": [
          {
           "line": {
            "color": "green",
            "width": 4
           },
           "mode": "lines",
           "name": "Superficie",
           "type": "scatter",
           "x": [
            -1,
            1
           ],
           "y": [
            0,
            0
           ]
          },
          {
           "line": {
            "color": "lightblue",
            "dash": "dash",
            "width": 4
           },
           "mode": "lines",
           "name": "Tope Atmósfera",
           "type": "scatter",
           "x": [
            -1,
            1
           ],
           "y": [
            10,
            10
           ]
          },
          {
           "line": {
            "color": "grey",
            "dash": "dot",
            "width": 1
           },
           "mode": "lines",
           "type": "scatter",
           "x": [
            0,
            0
           ],
           "y": [
            10,
            3.4293346485516603
           ]
          },
          {
           "marker": {
            "color": "red",
            "size": 10
           },
           "mode": "markers",
           "type": "scatter",
           "x": [
            0
           ],
           "y": [
            3.4293346485516603
           ]
          },
          {
           "marker": {
            "color": "black",
            "size": 12,
            "symbol": "x"
           },
           "mode": "markers",
           "type": "scatter",
           "x": [
            0
           ],
           "y": [
            3.4293346485516603
           ]
          }
         ],
         "layout": {
          "annotations": [
           {
            "showarrow": false,
            "text": "V/c=0.995, γ=10.01, Δτ=2.20µs, H=10.0km",
            "x": 0.01,
            "xref": "paper",
            "y": 1.12,
            "yref": "paper"
           },
           {
            "showarrow": false,
            "text": "t=22.028µs, τ=2.200µs",
            "x": 0.01,
            "xref": "paper",
            "y": 1.06,
            "yref": "paper"
           },
           {
            "font": {
             "color": "red",
             "size": 14
            },
            "showarrow": false,
            "text": "¡DECAYÓ!",
            "x": 0.99,
            "xref": "paper",
            "y": 1.05,
            "yref": "paper"
           }
          ]
         },
         "name": "189"
        },
        {
         "data": [
          {
           "line": {
            "color": "green",
            "width": 4
           },
           "mode": "lines",
           "name": "Superficie",
           "type": "scatter",
           "x": [
            -1,
            1
           ],
           "y": [
            0,
            0
           ]
          },
          {
           "line": {
            "color": "lightblue",
            "dash": "dash",
            "width": 4
           },
           "mode": "lines",
           "name": "Tope Atmósfera",
           "type": "scatter",
           "x": [
            -1,
            1
           ],
           "y": [
            10,
            10
           ]
          },
          {
           "line": {
            "color": "grey",
            "dash": "dot",
            "width": 1
           },
           "mode": "lines",
           "type": "scatter",
           "x": [
            0,
            0
           ],
           "y": [
            10,
            3.4293346485516603
           ]
          },
          {
           "marker": {
            "color": "red",
            "size": 10
           },
           "mode": "markers",
           "type": "scatter",
           "x": [
            0
           ],
           "y": [
            3.4293346485516603
           ]
          },
          {
           "marker": {
            "color": "black",
            "size": 12,
            "symbol": "x"
           },
           "mode": "markers",
           "type": "scatter",
           "x": [
            0
           ],
           "y": [
            3.4293346485516603
           ]
          }
         ],
         "layout": {
          "annotations": [
           {
            "showarrow": false,
            "text": "V/c=0.995, γ=10.01, Δτ=2.20µs, H=10.0km",
            "x": 0.01,
            "xref": "paper",
            "y": 1.12,
            "yref": "paper"
           },
           {
            "showarrow": false,
            "text": "t=22.028µs, τ=2.200µs",
            "x": 0.01,
            "xref": "paper",
            "y": 1.06,
            "yref": "paper"
           },
           {
            "font": {
             "color": "red",
             "size": 14
            },
            "showarrow": false,
            "text": "¡DECAYÓ!",
            "x": 0.99,
            "xref": "paper",
            "y": 1.05,
            "yref": "paper"
           }
          ]
         },
         "name": "190"
        },
        {
         "data": [
          {
           "line": {
            "color": "green",
            "width": 4
           },
           "mode": "lines",
           "name": "Superficie",
           "type": "scatter",
           "x": [
            -1,
            1
           ],
           "y": [
            0,
            0
           ]
          },
          {
           "line": {
            "color": "lightblue",
            "dash": "dash",
            "width": 4
           },
           "mode": "lines",
           "name": "Tope Atmósfera",
           "type": "scatter",
           "x": [
            -1,
            1
           ],
           "y": [
            10,
            10
           ]
          },
          {
           "line": {
            "color": "grey",
            "dash": "dot",
            "width": 1
           },
           "mode": "lines",
           "type": "scatter",
           "x": [
            0,
            0
           ],
           "y": [
            10,
            3.4293346485516603
           ]
          },
          {
           "marker": {
            "color": "red",
            "size": 10
           },
           "mode": "markers",
           "type": "scatter",
           "x": [
            0
           ],
           "y": [
            3.4293346485516603
           ]
          },
          {
           "marker": {
            "color": "black",
            "size": 12,
            "symbol": "x"
           },
           "mode": "markers",
           "type": "scatter",
           "x": [
            0
           ],
           "y": [
            3.4293346485516603
           ]
          }
         ],
         "layout": {
          "annotations": [
           {
            "showarrow": false,
            "text": "V/c=0.995, γ=10.01, Δτ=2.20µs, H=10.0km",
            "x": 0.01,
            "xref": "paper",
            "y": 1.12,
            "yref": "paper"
           },
           {
            "showarrow": false,
            "text": "t=22.028µs, τ=2.200µs",
            "x": 0.01,
            "xref": "paper",
            "y": 1.06,
            "yref": "paper"
           },
           {
            "font": {
             "color": "red",
             "size": 14
            },
            "showarrow": false,
            "text": "¡DECAYÓ!",
            "x": 0.99,
            "xref": "paper",
            "y": 1.05,
            "yref": "paper"
           }
          ]
         },
         "name": "191"
        },
        {
         "data": [
          {
           "line": {
            "color": "green",
            "width": 4
           },
           "mode": "lines",
           "name": "Superficie",
           "type": "scatter",
           "x": [
            -1,
            1
           ],
           "y": [
            0,
            0
           ]
          },
          {
           "line": {
            "color": "lightblue",
            "dash": "dash",
            "width": 4
           },
           "mode": "lines",
           "name": "Tope Atmósfera",
           "type": "scatter",
           "x": [
            -1,
            1
           ],
           "y": [
            10,
            10
           ]
          },
          {
           "line": {
            "color": "grey",
            "dash": "dot",
            "width": 1
           },
           "mode": "lines",
           "type": "scatter",
           "x": [
            0,
            0
           ],
           "y": [
            10,
            3.4293346485516603
           ]
          },
          {
           "marker": {
            "color": "red",
            "size": 10
           },
           "mode": "markers",
           "type": "scatter",
           "x": [
            0
           ],
           "y": [
            3.4293346485516603
           ]
          },
          {
           "marker": {
            "color": "black",
            "size": 12,
            "symbol": "x"
           },
           "mode": "markers",
           "type": "scatter",
           "x": [
            0
           ],
           "y": [
            3.4293346485516603
           ]
          }
         ],
         "layout": {
          "annotations": [
           {
            "showarrow": false,
            "text": "V/c=0.995, γ=10.01, Δτ=2.20µs, H=10.0km",
            "x": 0.01,
            "xref": "paper",
            "y": 1.12,
            "yref": "paper"
           },
           {
            "showarrow": false,
            "text": "t=22.028µs, τ=2.200µs",
            "x": 0.01,
            "xref": "paper",
            "y": 1.06,
            "yref": "paper"
           },
           {
            "font": {
             "color": "red",
             "size": 14
            },
            "showarrow": false,
            "text": "¡DECAYÓ!",
            "x": 0.99,
            "xref": "paper",
            "y": 1.05,
            "yref": "paper"
           }
          ]
         },
         "name": "192"
        },
        {
         "data": [
          {
           "line": {
            "color": "green",
            "width": 4
           },
           "mode": "lines",
           "name": "Superficie",
           "type": "scatter",
           "x": [
            -1,
            1
           ],
           "y": [
            0,
            0
           ]
          },
          {
           "line": {
            "color": "lightblue",
            "dash": "dash",
            "width": 4
           },
           "mode": "lines",
           "name": "Tope Atmósfera",
           "type": "scatter",
           "x": [
            -1,
            1
           ],
           "y": [
            10,
            10
           ]
          },
          {
           "line": {
            "color": "grey",
            "dash": "dot",
            "width": 1
           },
           "mode": "lines",
           "type": "scatter",
           "x": [
            0,
            0
           ],
           "y": [
            10,
            3.4293346485516603
           ]
          },
          {
           "marker": {
            "color": "red",
            "size": 10
           },
           "mode": "markers",
           "type": "scatter",
           "x": [
            0
           ],
           "y": [
            3.4293346485516603
           ]
          },
          {
           "marker": {
            "color": "black",
            "size": 12,
            "symbol": "x"
           },
           "mode": "markers",
           "type": "scatter",
           "x": [
            0
           ],
           "y": [
            3.4293346485516603
           ]
          }
         ],
         "layout": {
          "annotations": [
           {
            "showarrow": false,
            "text": "V/c=0.995, γ=10.01, Δτ=2.20µs, H=10.0km",
            "x": 0.01,
            "xref": "paper",
            "y": 1.12,
            "yref": "paper"
           },
           {
            "showarrow": false,
            "text": "t=22.028µs, τ=2.200µs",
            "x": 0.01,
            "xref": "paper",
            "y": 1.06,
            "yref": "paper"
           },
           {
            "font": {
             "color": "red",
             "size": 14
            },
            "showarrow": false,
            "text": "¡DECAYÓ!",
            "x": 0.99,
            "xref": "paper",
            "y": 1.05,
            "yref": "paper"
           }
          ]
         },
         "name": "193"
        },
        {
         "data": [
          {
           "line": {
            "color": "green",
            "width": 4
           },
           "mode": "lines",
           "name": "Superficie",
           "type": "scatter",
           "x": [
            -1,
            1
           ],
           "y": [
            0,
            0
           ]
          },
          {
           "line": {
            "color": "lightblue",
            "dash": "dash",
            "width": 4
           },
           "mode": "lines",
           "name": "Tope Atmósfera",
           "type": "scatter",
           "x": [
            -1,
            1
           ],
           "y": [
            10,
            10
           ]
          },
          {
           "line": {
            "color": "grey",
            "dash": "dot",
            "width": 1
           },
           "mode": "lines",
           "type": "scatter",
           "x": [
            0,
            0
           ],
           "y": [
            10,
            3.4293346485516603
           ]
          },
          {
           "marker": {
            "color": "red",
            "size": 10
           },
           "mode": "markers",
           "type": "scatter",
           "x": [
            0
           ],
           "y": [
            3.4293346485516603
           ]
          },
          {
           "marker": {
            "color": "black",
            "size": 12,
            "symbol": "x"
           },
           "mode": "markers",
           "type": "scatter",
           "x": [
            0
           ],
           "y": [
            3.4293346485516603
           ]
          }
         ],
         "layout": {
          "annotations": [
           {
            "showarrow": false,
            "text": "V/c=0.995, γ=10.01, Δτ=2.20µs, H=10.0km",
            "x": 0.01,
            "xref": "paper",
            "y": 1.12,
            "yref": "paper"
           },
           {
            "showarrow": false,
            "text": "t=22.028µs, τ=2.200µs",
            "x": 0.01,
            "xref": "paper",
            "y": 1.06,
            "yref": "paper"
           },
           {
            "font": {
             "color": "red",
             "size": 14
            },
            "showarrow": false,
            "text": "¡DECAYÓ!",
            "x": 0.99,
            "xref": "paper",
            "y": 1.05,
            "yref": "paper"
           }
          ]
         },
         "name": "194"
        },
        {
         "data": [
          {
           "line": {
            "color": "green",
            "width": 4
           },
           "mode": "lines",
           "name": "Superficie",
           "type": "scatter",
           "x": [
            -1,
            1
           ],
           "y": [
            0,
            0
           ]
          },
          {
           "line": {
            "color": "lightblue",
            "dash": "dash",
            "width": 4
           },
           "mode": "lines",
           "name": "Tope Atmósfera",
           "type": "scatter",
           "x": [
            -1,
            1
           ],
           "y": [
            10,
            10
           ]
          },
          {
           "line": {
            "color": "grey",
            "dash": "dot",
            "width": 1
           },
           "mode": "lines",
           "type": "scatter",
           "x": [
            0,
            0
           ],
           "y": [
            10,
            3.4293346485516603
           ]
          },
          {
           "marker": {
            "color": "red",
            "size": 10
           },
           "mode": "markers",
           "type": "scatter",
           "x": [
            0
           ],
           "y": [
            3.4293346485516603
           ]
          },
          {
           "marker": {
            "color": "black",
            "size": 12,
            "symbol": "x"
           },
           "mode": "markers",
           "type": "scatter",
           "x": [
            0
           ],
           "y": [
            3.4293346485516603
           ]
          }
         ],
         "layout": {
          "annotations": [
           {
            "showarrow": false,
            "text": "V/c=0.995, γ=10.01, Δτ=2.20µs, H=10.0km",
            "x": 0.01,
            "xref": "paper",
            "y": 1.12,
            "yref": "paper"
           },
           {
            "showarrow": false,
            "text": "t=22.028µs, τ=2.200µs",
            "x": 0.01,
            "xref": "paper",
            "y": 1.06,
            "yref": "paper"
           },
           {
            "font": {
             "color": "red",
             "size": 14
            },
            "showarrow": false,
            "text": "¡DECAYÓ!",
            "x": 0.99,
            "xref": "paper",
            "y": 1.05,
            "yref": "paper"
           }
          ]
         },
         "name": "195"
        },
        {
         "data": [
          {
           "line": {
            "color": "green",
            "width": 4
           },
           "mode": "lines",
           "name": "Superficie",
           "type": "scatter",
           "x": [
            -1,
            1
           ],
           "y": [
            0,
            0
           ]
          },
          {
           "line": {
            "color": "lightblue",
            "dash": "dash",
            "width": 4
           },
           "mode": "lines",
           "name": "Tope Atmósfera",
           "type": "scatter",
           "x": [
            -1,
            1
           ],
           "y": [
            10,
            10
           ]
          },
          {
           "line": {
            "color": "grey",
            "dash": "dot",
            "width": 1
           },
           "mode": "lines",
           "type": "scatter",
           "x": [
            0,
            0
           ],
           "y": [
            10,
            3.4293346485516603
           ]
          },
          {
           "marker": {
            "color": "red",
            "size": 10
           },
           "mode": "markers",
           "type": "scatter",
           "x": [
            0
           ],
           "y": [
            3.4293346485516603
           ]
          },
          {
           "marker": {
            "color": "black",
            "size": 12,
            "symbol": "x"
           },
           "mode": "markers",
           "type": "scatter",
           "x": [
            0
           ],
           "y": [
            3.4293346485516603
           ]
          }
         ],
         "layout": {
          "annotations": [
           {
            "showarrow": false,
            "text": "V/c=0.995, γ=10.01, Δτ=2.20µs, H=10.0km",
            "x": 0.01,
            "xref": "paper",
            "y": 1.12,
            "yref": "paper"
           },
           {
            "showarrow": false,
            "text": "t=22.028µs, τ=2.200µs",
            "x": 0.01,
            "xref": "paper",
            "y": 1.06,
            "yref": "paper"
           },
           {
            "font": {
             "color": "red",
             "size": 14
            },
            "showarrow": false,
            "text": "¡DECAYÓ!",
            "x": 0.99,
            "xref": "paper",
            "y": 1.05,
            "yref": "paper"
           }
          ]
         },
         "name": "196"
        },
        {
         "data": [
          {
           "line": {
            "color": "green",
            "width": 4
           },
           "mode": "lines",
           "name": "Superficie",
           "type": "scatter",
           "x": [
            -1,
            1
           ],
           "y": [
            0,
            0
           ]
          },
          {
           "line": {
            "color": "lightblue",
            "dash": "dash",
            "width": 4
           },
           "mode": "lines",
           "name": "Tope Atmósfera",
           "type": "scatter",
           "x": [
            -1,
            1
           ],
           "y": [
            10,
            10
           ]
          },
          {
           "line": {
            "color": "grey",
            "dash": "dot",
            "width": 1
           },
           "mode": "lines",
           "type": "scatter",
           "x": [
            0,
            0
           ],
           "y": [
            10,
            3.4293346485516603
           ]
          },
          {
           "marker": {
            "color": "red",
            "size": 10
           },
           "mode": "markers",
           "type": "scatter",
           "x": [
            0
           ],
           "y": [
            3.4293346485516603
           ]
          },
          {
           "marker": {
            "color": "black",
            "size": 12,
            "symbol": "x"
           },
           "mode": "markers",
           "type": "scatter",
           "x": [
            0
           ],
           "y": [
            3.4293346485516603
           ]
          }
         ],
         "layout": {
          "annotations": [
           {
            "showarrow": false,
            "text": "V/c=0.995, γ=10.01, Δτ=2.20µs, H=10.0km",
            "x": 0.01,
            "xref": "paper",
            "y": 1.12,
            "yref": "paper"
           },
           {
            "showarrow": false,
            "text": "t=22.028µs, τ=2.200µs",
            "x": 0.01,
            "xref": "paper",
            "y": 1.06,
            "yref": "paper"
           },
           {
            "font": {
             "color": "red",
             "size": 14
            },
            "showarrow": false,
            "text": "¡DECAYÓ!",
            "x": 0.99,
            "xref": "paper",
            "y": 1.05,
            "yref": "paper"
           }
          ]
         },
         "name": "197"
        },
        {
         "data": [
          {
           "line": {
            "color": "green",
            "width": 4
           },
           "mode": "lines",
           "name": "Superficie",
           "type": "scatter",
           "x": [
            -1,
            1
           ],
           "y": [
            0,
            0
           ]
          },
          {
           "line": {
            "color": "lightblue",
            "dash": "dash",
            "width": 4
           },
           "mode": "lines",
           "name": "Tope Atmósfera",
           "type": "scatter",
           "x": [
            -1,
            1
           ],
           "y": [
            10,
            10
           ]
          },
          {
           "line": {
            "color": "grey",
            "dash": "dot",
            "width": 1
           },
           "mode": "lines",
           "type": "scatter",
           "x": [
            0,
            0
           ],
           "y": [
            10,
            3.4293346485516603
           ]
          },
          {
           "marker": {
            "color": "red",
            "size": 10
           },
           "mode": "markers",
           "type": "scatter",
           "x": [
            0
           ],
           "y": [
            3.4293346485516603
           ]
          },
          {
           "marker": {
            "color": "black",
            "size": 12,
            "symbol": "x"
           },
           "mode": "markers",
           "type": "scatter",
           "x": [
            0
           ],
           "y": [
            3.4293346485516603
           ]
          }
         ],
         "layout": {
          "annotations": [
           {
            "showarrow": false,
            "text": "V/c=0.995, γ=10.01, Δτ=2.20µs, H=10.0km",
            "x": 0.01,
            "xref": "paper",
            "y": 1.12,
            "yref": "paper"
           },
           {
            "showarrow": false,
            "text": "t=22.028µs, τ=2.200µs",
            "x": 0.01,
            "xref": "paper",
            "y": 1.06,
            "yref": "paper"
           },
           {
            "font": {
             "color": "red",
             "size": 14
            },
            "showarrow": false,
            "text": "¡DECAYÓ!",
            "x": 0.99,
            "xref": "paper",
            "y": 1.05,
            "yref": "paper"
           }
          ]
         },
         "name": "198"
        },
        {
         "data": [
          {
           "line": {
            "color": "green",
            "width": 4
           },
           "mode": "lines",
           "name": "Superficie",
           "type": "scatter",
           "x": [
            -1,
            1
           ],
           "y": [
            0,
            0
           ]
          },
          {
           "line": {
            "color": "lightblue",
            "dash": "dash",
            "width": 4
           },
           "mode": "lines",
           "name": "Tope Atmósfera",
           "type": "scatter",
           "x": [
            -1,
            1
           ],
           "y": [
            10,
            10
           ]
          },
          {
           "line": {
            "color": "grey",
            "dash": "dot",
            "width": 1
           },
           "mode": "lines",
           "type": "scatter",
           "x": [
            0,
            0
           ],
           "y": [
            10,
            3.4293346485516603
           ]
          },
          {
           "marker": {
            "color": "red",
            "size": 10
           },
           "mode": "markers",
           "type": "scatter",
           "x": [
            0
           ],
           "y": [
            3.4293346485516603
           ]
          },
          {
           "marker": {
            "color": "black",
            "size": 12,
            "symbol": "x"
           },
           "mode": "markers",
           "type": "scatter",
           "x": [
            0
           ],
           "y": [
            3.4293346485516603
           ]
          }
         ],
         "layout": {
          "annotations": [
           {
            "showarrow": false,
            "text": "V/c=0.995, γ=10.01, Δτ=2.20µs, H=10.0km",
            "x": 0.01,
            "xref": "paper",
            "y": 1.12,
            "yref": "paper"
           },
           {
            "showarrow": false,
            "text": "t=22.028µs, τ=2.200µs",
            "x": 0.01,
            "xref": "paper",
            "y": 1.06,
            "yref": "paper"
           },
           {
            "font": {
             "color": "red",
             "size": 14
            },
            "showarrow": false,
            "text": "¡DECAYÓ!",
            "x": 0.99,
            "xref": "paper",
            "y": 1.05,
            "yref": "paper"
           }
          ]
         },
         "name": "199"
        }
       ],
       "layout": {
        "margin": {
         "r": 200
        },
        "sliders": [
         {
          "currentvalue": {
           "prefix": "t_anim="
          },
          "steps": [
           {
            "args": [
             [
              "0"
             ],
             {
              "frame": {
               "duration": 50,
               "redraw": true
              },
              "mode": "immediate",
              "transition": {
               "duration": 0
              }
             }
            ],
            "label": "0.0",
            "method": "animate"
           },
           {
            "args": [
             [
              "1"
             ],
             {
              "frame": {
               "duration": 50,
               "redraw": true
              },
              "mode": "immediate",
              "transition": {
               "duration": 0
              }
             }
            ],
            "label": "1.7",
            "method": "animate"
           },
           {
            "args": [
             [
              "2"
             ],
             {
              "frame": {
               "duration": 50,
               "redraw": true
              },
              "mode": "immediate",
              "transition": {
               "duration": 0
              }
             }
            ],
            "label": "3.4",
            "method": "animate"
           },
           {
            "args": [
             [
              "3"
             ],
             {
              "frame": {
               "duration": 50,
               "redraw": true
              },
              "mode": "immediate",
              "transition": {
               "duration": 0
              }
             }
            ],
            "label": "5.1",
            "method": "animate"
           },
           {
            "args": [
             [
              "4"
             ],
             {
              "frame": {
               "duration": 50,
               "redraw": true
              },
              "mode": "immediate",
              "transition": {
               "duration": 0
              }
             }
            ],
            "label": "6.7",
            "method": "animate"
           },
           {
            "args": [
             [
              "5"
             ],
             {
              "frame": {
               "duration": 50,
               "redraw": true
              },
              "mode": "immediate",
              "transition": {
               "duration": 0
              }
             }
            ],
            "label": "8.4",
            "method": "animate"
           },
           {
            "args": [
             [
              "6"
             ],
             {
              "frame": {
               "duration": 50,
               "redraw": true
              },
              "mode": "immediate",
              "transition": {
               "duration": 0
              }
             }
            ],
            "label": "10.1",
            "method": "animate"
           },
           {
            "args": [
             [
              "7"
             ],
             {
              "frame": {
               "duration": 50,
               "redraw": true
              },
              "mode": "immediate",
              "transition": {
               "duration": 0
              }
             }
            ],
            "label": "11.8",
            "method": "animate"
           },
           {
            "args": [
             [
              "8"
             ],
             {
              "frame": {
               "duration": 50,
               "redraw": true
              },
              "mode": "immediate",
              "transition": {
               "duration": 0
              }
             }
            ],
            "label": "13.5",
            "method": "animate"
           },
           {
            "args": [
             [
              "9"
             ],
             {
              "frame": {
               "duration": 50,
               "redraw": true
              },
              "mode": "immediate",
              "transition": {
               "duration": 0
              }
             }
            ],
            "label": "15.2",
            "method": "animate"
           },
           {
            "args": [
             [
              "10"
             ],
             {
              "frame": {
               "duration": 50,
               "redraw": true
              },
              "mode": "immediate",
              "transition": {
               "duration": 0
              }
             }
            ],
            "label": "16.8",
            "method": "animate"
           },
           {
            "args": [
             [
              "11"
             ],
             {
              "frame": {
               "duration": 50,
               "redraw": true
              },
              "mode": "immediate",
              "transition": {
               "duration": 0
              }
             }
            ],
            "label": "18.5",
            "method": "animate"
           },
           {
            "args": [
             [
              "12"
             ],
             {
              "frame": {
               "duration": 50,
               "redraw": true
              },
              "mode": "immediate",
              "transition": {
               "duration": 0
              }
             }
            ],
            "label": "20.2",
            "method": "animate"
           },
           {
            "args": [
             [
              "13"
             ],
             {
              "frame": {
               "duration": 50,
               "redraw": true
              },
              "mode": "immediate",
              "transition": {
               "duration": 0
              }
             }
            ],
            "label": "21.9",
            "method": "animate"
           },
           {
            "args": [
             [
              "14"
             ],
             {
              "frame": {
               "duration": 50,
               "redraw": true
              },
              "mode": "immediate",
              "transition": {
               "duration": 0
              }
             }
            ],
            "label": "23.6",
            "method": "animate"
           },
           {
            "args": [
             [
              "15"
             ],
             {
              "frame": {
               "duration": 50,
               "redraw": true
              },
              "mode": "immediate",
              "transition": {
               "duration": 0
              }
             }
            ],
            "label": "25.3",
            "method": "animate"
           },
           {
            "args": [
             [
              "16"
             ],
             {
              "frame": {
               "duration": 50,
               "redraw": true
              },
              "mode": "immediate",
              "transition": {
               "duration": 0
              }
             }
            ],
            "label": "27.0",
            "method": "animate"
           },
           {
            "args": [
             [
              "17"
             ],
             {
              "frame": {
               "duration": 50,
               "redraw": true
              },
              "mode": "immediate",
              "transition": {
               "duration": 0
              }
             }
            ],
            "label": "28.6",
            "method": "animate"
           },
           {
            "args": [
             [
              "18"
             ],
             {
              "frame": {
               "duration": 50,
               "redraw": true
              },
              "mode": "immediate",
              "transition": {
               "duration": 0
              }
             }
            ],
            "label": "30.3",
            "method": "animate"
           },
           {
            "args": [
             [
              "19"
             ],
             {
              "frame": {
               "duration": 50,
               "redraw": true
              },
              "mode": "immediate",
              "transition": {
               "duration": 0
              }
             }
            ],
            "label": "32.0",
            "method": "animate"
           },
           {
            "args": [
             [
              "20"
             ],
             {
              "frame": {
               "duration": 50,
               "redraw": true
              },
              "mode": "immediate",
              "transition": {
               "duration": 0
              }
             }
            ],
            "label": "33.7",
            "method": "animate"
           },
           {
            "args": [
             [
              "21"
             ],
             {
              "frame": {
               "duration": 50,
               "redraw": true
              },
              "mode": "immediate",
              "transition": {
               "duration": 0
              }
             }
            ],
            "label": "35.4",
            "method": "animate"
           },
           {
            "args": [
             [
              "22"
             ],
             {
              "frame": {
               "duration": 50,
               "redraw": true
              },
              "mode": "immediate",
              "transition": {
               "duration": 0
              }
             }
            ],
            "label": "37.1",
            "method": "animate"
           },
           {
            "args": [
             [
              "23"
             ],
             {
              "frame": {
               "duration": 50,
               "redraw": true
              },
              "mode": "immediate",
              "transition": {
               "duration": 0
              }
             }
            ],
            "label": "38.7",
            "method": "animate"
           },
           {
            "args": [
             [
              "24"
             ],
             {
              "frame": {
               "duration": 50,
               "redraw": true
              },
              "mode": "immediate",
              "transition": {
               "duration": 0
              }
             }
            ],
            "label": "40.4",
            "method": "animate"
           },
           {
            "args": [
             [
              "25"
             ],
             {
              "frame": {
               "duration": 50,
               "redraw": true
              },
              "mode": "immediate",
              "transition": {
               "duration": 0
              }
             }
            ],
            "label": "42.1",
            "method": "animate"
           },
           {
            "args": [
             [
              "26"
             ],
             {
              "frame": {
               "duration": 50,
               "redraw": true
              },
              "mode": "immediate",
              "transition": {
               "duration": 0
              }
             }
            ],
            "label": "43.8",
            "method": "animate"
           },
           {
            "args": [
             [
              "27"
             ],
             {
              "frame": {
               "duration": 50,
               "redraw": true
              },
              "mode": "immediate",
              "transition": {
               "duration": 0
              }
             }
            ],
            "label": "45.5",
            "method": "animate"
           },
           {
            "args": [
             [
              "28"
             ],
             {
              "frame": {
               "duration": 50,
               "redraw": true
              },
              "mode": "immediate",
              "transition": {
               "duration": 0
              }
             }
            ],
            "label": "47.2",
            "method": "animate"
           },
           {
            "args": [
             [
              "29"
             ],
             {
              "frame": {
               "duration": 50,
               "redraw": true
              },
              "mode": "immediate",
              "transition": {
               "duration": 0
              }
             }
            ],
            "label": "48.9",
            "method": "animate"
           },
           {
            "args": [
             [
              "30"
             ],
             {
              "frame": {
               "duration": 50,
               "redraw": true
              },
              "mode": "immediate",
              "transition": {
               "duration": 0
              }
             }
            ],
            "label": "50.5",
            "method": "animate"
           },
           {
            "args": [
             [
              "31"
             ],
             {
              "frame": {
               "duration": 50,
               "redraw": true
              },
              "mode": "immediate",
              "transition": {
               "duration": 0
              }
             }
            ],
            "label": "52.2",
            "method": "animate"
           },
           {
            "args": [
             [
              "32"
             ],
             {
              "frame": {
               "duration": 50,
               "redraw": true
              },
              "mode": "immediate",
              "transition": {
               "duration": 0
              }
             }
            ],
            "label": "53.9",
            "method": "animate"
           },
           {
            "args": [
             [
              "33"
             ],
             {
              "frame": {
               "duration": 50,
               "redraw": true
              },
              "mode": "immediate",
              "transition": {
               "duration": 0
              }
             }
            ],
            "label": "55.6",
            "method": "animate"
           },
           {
            "args": [
             [
              "34"
             ],
             {
              "frame": {
               "duration": 50,
               "redraw": true
              },
              "mode": "immediate",
              "transition": {
               "duration": 0
              }
             }
            ],
            "label": "57.3",
            "method": "animate"
           },
           {
            "args": [
             [
              "35"
             ],
             {
              "frame": {
               "duration": 50,
               "redraw": true
              },
              "mode": "immediate",
              "transition": {
               "duration": 0
              }
             }
            ],
            "label": "59.0",
            "method": "animate"
           },
           {
            "args": [
             [
              "36"
             ],
             {
              "frame": {
               "duration": 50,
               "redraw": true
              },
              "mode": "immediate",
              "transition": {
               "duration": 0
              }
             }
            ],
            "label": "60.6",
            "method": "animate"
           },
           {
            "args": [
             [
              "37"
             ],
             {
              "frame": {
               "duration": 50,
               "redraw": true
              },
              "mode": "immediate",
              "transition": {
               "duration": 0
              }
             }
            ],
            "label": "62.3",
            "method": "animate"
           },
           {
            "args": [
             [
              "38"
             ],
             {
              "frame": {
               "duration": 50,
               "redraw": true
              },
              "mode": "immediate",
              "transition": {
               "duration": 0
              }
             }
            ],
            "label": "64.0",
            "method": "animate"
           },
           {
            "args": [
             [
              "39"
             ],
             {
              "frame": {
               "duration": 50,
               "redraw": true
              },
              "mode": "immediate",
              "transition": {
               "duration": 0
              }
             }
            ],
            "label": "65.7",
            "method": "animate"
           },
           {
            "args": [
             [
              "40"
             ],
             {
              "frame": {
               "duration": 50,
               "redraw": true
              },
              "mode": "immediate",
              "transition": {
               "duration": 0
              }
             }
            ],
            "label": "67.4",
            "method": "animate"
           },
           {
            "args": [
             [
              "41"
             ],
             {
              "frame": {
               "duration": 50,
               "redraw": true
              },
              "mode": "immediate",
              "transition": {
               "duration": 0
              }
             }
            ],
            "label": "69.1",
            "method": "animate"
           },
           {
            "args": [
             [
              "42"
             ],
             {
              "frame": {
               "duration": 50,
               "redraw": true
              },
              "mode": "immediate",
              "transition": {
               "duration": 0
              }
             }
            ],
            "label": "70.8",
            "method": "animate"
           },
           {
            "args": [
             [
              "43"
             ],
             {
              "frame": {
               "duration": 50,
               "redraw": true
              },
              "mode": "immediate",
              "transition": {
               "duration": 0
              }
             }
            ],
            "label": "72.4",
            "method": "animate"
           },
           {
            "args": [
             [
              "44"
             ],
             {
              "frame": {
               "duration": 50,
               "redraw": true
              },
              "mode": "immediate",
              "transition": {
               "duration": 0
              }
             }
            ],
            "label": "74.1",
            "method": "animate"
           },
           {
            "args": [
             [
              "45"
             ],
             {
              "frame": {
               "duration": 50,
               "redraw": true
              },
              "mode": "immediate",
              "transition": {
               "duration": 0
              }
             }
            ],
            "label": "75.8",
            "method": "animate"
           },
           {
            "args": [
             [
              "46"
             ],
             {
              "frame": {
               "duration": 50,
               "redraw": true
              },
              "mode": "immediate",
              "transition": {
               "duration": 0
              }
             }
            ],
            "label": "77.5",
            "method": "animate"
           },
           {
            "args": [
             [
              "47"
             ],
             {
              "frame": {
               "duration": 50,
               "redraw": true
              },
              "mode": "immediate",
              "transition": {
               "duration": 0
              }
             }
            ],
            "label": "79.2",
            "method": "animate"
           },
           {
            "args": [
             [
              "48"
             ],
             {
              "frame": {
               "duration": 50,
               "redraw": true
              },
              "mode": "immediate",
              "transition": {
               "duration": 0
              }
             }
            ],
            "label": "80.9",
            "method": "animate"
           },
           {
            "args": [
             [
              "49"
             ],
             {
              "frame": {
               "duration": 50,
               "redraw": true
              },
              "mode": "immediate",
              "transition": {
               "duration": 0
              }
             }
            ],
            "label": "82.5",
            "method": "animate"
           },
           {
            "args": [
             [
              "50"
             ],
             {
              "frame": {
               "duration": 50,
               "redraw": true
              },
              "mode": "immediate",
              "transition": {
               "duration": 0
              }
             }
            ],
            "label": "84.2",
            "method": "animate"
           },
           {
            "args": [
             [
              "51"
             ],
             {
              "frame": {
               "duration": 50,
               "redraw": true
              },
              "mode": "immediate",
              "transition": {
               "duration": 0
              }
             }
            ],
            "label": "85.9",
            "method": "animate"
           },
           {
            "args": [
             [
              "52"
             ],
             {
              "frame": {
               "duration": 50,
               "redraw": true
              },
              "mode": "immediate",
              "transition": {
               "duration": 0
              }
             }
            ],
            "label": "87.6",
            "method": "animate"
           },
           {
            "args": [
             [
              "53"
             ],
             {
              "frame": {
               "duration": 50,
               "redraw": true
              },
              "mode": "immediate",
              "transition": {
               "duration": 0
              }
             }
            ],
            "label": "89.3",
            "method": "animate"
           },
           {
            "args": [
             [
              "54"
             ],
             {
              "frame": {
               "duration": 50,
               "redraw": true
              },
              "mode": "immediate",
              "transition": {
               "duration": 0
              }
             }
            ],
            "label": "91.0",
            "method": "animate"
           },
           {
            "args": [
             [
              "55"
             ],
             {
              "frame": {
               "duration": 50,
               "redraw": true
              },
              "mode": "immediate",
              "transition": {
               "duration": 0
              }
             }
            ],
            "label": "92.7",
            "method": "animate"
           },
           {
            "args": [
             [
              "56"
             ],
             {
              "frame": {
               "duration": 50,
               "redraw": true
              },
              "mode": "immediate",
              "transition": {
               "duration": 0
              }
             }
            ],
            "label": "94.3",
            "method": "animate"
           },
           {
            "args": [
             [
              "57"
             ],
             {
              "frame": {
               "duration": 50,
               "redraw": true
              },
              "mode": "immediate",
              "transition": {
               "duration": 0
              }
             }
            ],
            "label": "96.0",
            "method": "animate"
           },
           {
            "args": [
             [
              "58"
             ],
             {
              "frame": {
               "duration": 50,
               "redraw": true
              },
              "mode": "immediate",
              "transition": {
               "duration": 0
              }
             }
            ],
            "label": "97.7",
            "method": "animate"
           },
           {
            "args": [
             [
              "59"
             ],
             {
              "frame": {
               "duration": 50,
               "redraw": true
              },
              "mode": "immediate",
              "transition": {
               "duration": 0
              }
             }
            ],
            "label": "99.4",
            "method": "animate"
           },
           {
            "args": [
             [
              "60"
             ],
             {
              "frame": {
               "duration": 50,
               "redraw": true
              },
              "mode": "immediate",
              "transition": {
               "duration": 0
              }
             }
            ],
            "label": "101.1",
            "method": "animate"
           },
           {
            "args": [
             [
              "61"
             ],
             {
              "frame": {
               "duration": 50,
               "redraw": true
              },
              "mode": "immediate",
              "transition": {
               "duration": 0
              }
             }
            ],
            "label": "102.8",
            "method": "animate"
           },
           {
            "args": [
             [
              "62"
             ],
             {
              "frame": {
               "duration": 50,
               "redraw": true
              },
              "mode": "immediate",
              "transition": {
               "duration": 0
              }
             }
            ],
            "label": "104.4",
            "method": "animate"
           },
           {
            "args": [
             [
              "63"
             ],
             {
              "frame": {
               "duration": 50,
               "redraw": true
              },
              "mode": "immediate",
              "transition": {
               "duration": 0
              }
             }
            ],
            "label": "106.1",
            "method": "animate"
           },
           {
            "args": [
             [
              "64"
             ],
             {
              "frame": {
               "duration": 50,
               "redraw": true
              },
              "mode": "immediate",
              "transition": {
               "duration": 0
              }
             }
            ],
            "label": "107.8",
            "method": "animate"
           },
           {
            "args": [
             [
              "65"
             ],
             {
              "frame": {
               "duration": 50,
               "redraw": true
              },
              "mode": "immediate",
              "transition": {
               "duration": 0
              }
             }
            ],
            "label": "109.5",
            "method": "animate"
           },
           {
            "args": [
             [
              "66"
             ],
             {
              "frame": {
               "duration": 50,
               "redraw": true
              },
              "mode": "immediate",
              "transition": {
               "duration": 0
              }
             }
            ],
            "label": "111.2",
            "method": "animate"
           },
           {
            "args": [
             [
              "67"
             ],
             {
              "frame": {
               "duration": 50,
               "redraw": true
              },
              "mode": "immediate",
              "transition": {
               "duration": 0
              }
             }
            ],
            "label": "112.9",
            "method": "animate"
           },
           {
            "args": [
             [
              "68"
             ],
             {
              "frame": {
               "duration": 50,
               "redraw": true
              },
              "mode": "immediate",
              "transition": {
               "duration": 0
              }
             }
            ],
            "label": "114.6",
            "method": "animate"
           },
           {
            "args": [
             [
              "69"
             ],
             {
              "frame": {
               "duration": 50,
               "redraw": true
              },
              "mode": "immediate",
              "transition": {
               "duration": 0
              }
             }
            ],
            "label": "116.2",
            "method": "animate"
           },
           {
            "args": [
             [
              "70"
             ],
             {
              "frame": {
               "duration": 50,
               "redraw": true
              },
              "mode": "immediate",
              "transition": {
               "duration": 0
              }
             }
            ],
            "label": "117.9",
            "method": "animate"
           },
           {
            "args": [
             [
              "71"
             ],
             {
              "frame": {
               "duration": 50,
               "redraw": true
              },
              "mode": "immediate",
              "transition": {
               "duration": 0
              }
             }
            ],
            "label": "119.6",
            "method": "animate"
           },
           {
            "args": [
             [
              "72"
             ],
             {
              "frame": {
               "duration": 50,
               "redraw": true
              },
              "mode": "immediate",
              "transition": {
               "duration": 0
              }
             }
            ],
            "label": "121.3",
            "method": "animate"
           },
           {
            "args": [
             [
              "73"
             ],
             {
              "frame": {
               "duration": 50,
               "redraw": true
              },
              "mode": "immediate",
              "transition": {
               "duration": 0
              }
             }
            ],
            "label": "123.0",
            "method": "animate"
           },
           {
            "args": [
             [
              "74"
             ],
             {
              "frame": {
               "duration": 50,
               "redraw": true
              },
              "mode": "immediate",
              "transition": {
               "duration": 0
              }
             }
            ],
            "label": "124.7",
            "method": "animate"
           },
           {
            "args": [
             [
              "75"
             ],
             {
              "frame": {
               "duration": 50,
               "redraw": true
              },
              "mode": "immediate",
              "transition": {
               "duration": 0
              }
             }
            ],
            "label": "126.3",
            "method": "animate"
           },
           {
            "args": [
             [
              "76"
             ],
             {
              "frame": {
               "duration": 50,
               "redraw": true
              },
              "mode": "immediate",
              "transition": {
               "duration": 0
              }
             }
            ],
            "label": "128.0",
            "method": "animate"
           },
           {
            "args": [
             [
              "77"
             ],
             {
              "frame": {
               "duration": 50,
               "redraw": true
              },
              "mode": "immediate",
              "transition": {
               "duration": 0
              }
             }
            ],
            "label": "129.7",
            "method": "animate"
           },
           {
            "args": [
             [
              "78"
             ],
             {
              "frame": {
               "duration": 50,
               "redraw": true
              },
              "mode": "immediate",
              "transition": {
               "duration": 0
              }
             }
            ],
            "label": "131.4",
            "method": "animate"
           },
           {
            "args": [
             [
              "79"
             ],
             {
              "frame": {
               "duration": 50,
               "redraw": true
              },
              "mode": "immediate",
              "transition": {
               "duration": 0
              }
             }
            ],
            "label": "133.1",
            "method": "animate"
           },
           {
            "args": [
             [
              "80"
             ],
             {
              "frame": {
               "duration": 50,
               "redraw": true
              },
              "mode": "immediate",
              "transition": {
               "duration": 0
              }
             }
            ],
            "label": "134.8",
            "method": "animate"
           },
           {
            "args": [
             [
              "81"
             ],
             {
              "frame": {
               "duration": 50,
               "redraw": true
              },
              "mode": "immediate",
              "transition": {
               "duration": 0
              }
             }
            ],
            "label": "136.5",
            "method": "animate"
           },
           {
            "args": [
             [
              "82"
             ],
             {
              "frame": {
               "duration": 50,
               "redraw": true
              },
              "mode": "immediate",
              "transition": {
               "duration": 0
              }
             }
            ],
            "label": "138.1",
            "method": "animate"
           },
           {
            "args": [
             [
              "83"
             ],
             {
              "frame": {
               "duration": 50,
               "redraw": true
              },
              "mode": "immediate",
              "transition": {
               "duration": 0
              }
             }
            ],
            "label": "139.8",
            "method": "animate"
           },
           {
            "args": [
             [
              "84"
             ],
             {
              "frame": {
               "duration": 50,
               "redraw": true
              },
              "mode": "immediate",
              "transition": {
               "duration": 0
              }
             }
            ],
            "label": "141.5",
            "method": "animate"
           },
           {
            "args": [
             [
              "85"
             ],
             {
              "frame": {
               "duration": 50,
               "redraw": true
              },
              "mode": "immediate",
              "transition": {
               "duration": 0
              }
             }
            ],
            "label": "143.2",
            "method": "animate"
           },
           {
            "args": [
             [
              "86"
             ],
             {
              "frame": {
               "duration": 50,
               "redraw": true
              },
              "mode": "immediate",
              "transition": {
               "duration": 0
              }
             }
            ],
            "label": "144.9",
            "method": "animate"
           },
           {
            "args": [
             [
              "87"
             ],
             {
              "frame": {
               "duration": 50,
               "redraw": true
              },
              "mode": "immediate",
              "transition": {
               "duration": 0
              }
             }
            ],
            "label": "146.6",
            "method": "animate"
           },
           {
            "args": [
             [
              "88"
             ],
             {
              "frame": {
               "duration": 50,
               "redraw": true
              },
              "mode": "immediate",
              "transition": {
               "duration": 0
              }
             }
            ],
            "label": "148.2",
            "method": "animate"
           },
           {
            "args": [
             [
              "89"
             ],
             {
              "frame": {
               "duration": 50,
               "redraw": true
              },
              "mode": "immediate",
              "transition": {
               "duration": 0
              }
             }
            ],
            "label": "149.9",
            "method": "animate"
           },
           {
            "args": [
             [
              "90"
             ],
             {
              "frame": {
               "duration": 50,
               "redraw": true
              },
              "mode": "immediate",
              "transition": {
               "duration": 0
              }
             }
            ],
            "label": "151.6",
            "method": "animate"
           },
           {
            "args": [
             [
              "91"
             ],
             {
              "frame": {
               "duration": 50,
               "redraw": true
              },
              "mode": "immediate",
              "transition": {
               "duration": 0
              }
             }
            ],
            "label": "153.3",
            "method": "animate"
           },
           {
            "args": [
             [
              "92"
             ],
             {
              "frame": {
               "duration": 50,
               "redraw": true
              },
              "mode": "immediate",
              "transition": {
               "duration": 0
              }
             }
            ],
            "label": "155.0",
            "method": "animate"
           },
           {
            "args": [
             [
              "93"
             ],
             {
              "frame": {
               "duration": 50,
               "redraw": true
              },
              "mode": "immediate",
              "transition": {
               "duration": 0
              }
             }
            ],
            "label": "156.7",
            "method": "animate"
           },
           {
            "args": [
             [
              "94"
             ],
             {
              "frame": {
               "duration": 50,
               "redraw": true
              },
              "mode": "immediate",
              "transition": {
               "duration": 0
              }
             }
            ],
            "label": "158.4",
            "method": "animate"
           },
           {
            "args": [
             [
              "95"
             ],
             {
              "frame": {
               "duration": 50,
               "redraw": true
              },
              "mode": "immediate",
              "transition": {
               "duration": 0
              }
             }
            ],
            "label": "160.0",
            "method": "animate"
           },
           {
            "args": [
             [
              "96"
             ],
             {
              "frame": {
               "duration": 50,
               "redraw": true
              },
              "mode": "immediate",
              "transition": {
               "duration": 0
              }
             }
            ],
            "label": "161.7",
            "method": "animate"
           },
           {
            "args": [
             [
              "97"
             ],
             {
              "frame": {
               "duration": 50,
               "redraw": true
              },
              "mode": "immediate",
              "transition": {
               "duration": 0
              }
             }
            ],
            "label": "163.4",
            "method": "animate"
           },
           {
            "args": [
             [
              "98"
             ],
             {
              "frame": {
               "duration": 50,
               "redraw": true
              },
              "mode": "immediate",
              "transition": {
               "duration": 0
              }
             }
            ],
            "label": "165.1",
            "method": "animate"
           },
           {
            "args": [
             [
              "99"
             ],
             {
              "frame": {
               "duration": 50,
               "redraw": true
              },
              "mode": "immediate",
              "transition": {
               "duration": 0
              }
             }
            ],
            "label": "166.8",
            "method": "animate"
           },
           {
            "args": [
             [
              "100"
             ],
             {
              "frame": {
               "duration": 50,
               "redraw": true
              },
              "mode": "immediate",
              "transition": {
               "duration": 0
              }
             }
            ],
            "label": "168.5",
            "method": "animate"
           },
           {
            "args": [
             [
              "101"
             ],
             {
              "frame": {
               "duration": 50,
               "redraw": true
              },
              "mode": "immediate",
              "transition": {
               "duration": 0
              }
             }
            ],
            "label": "170.1",
            "method": "animate"
           },
           {
            "args": [
             [
              "102"
             ],
             {
              "frame": {
               "duration": 50,
               "redraw": true
              },
              "mode": "immediate",
              "transition": {
               "duration": 0
              }
             }
            ],
            "label": "171.8",
            "method": "animate"
           },
           {
            "args": [
             [
              "103"
             ],
             {
              "frame": {
               "duration": 50,
               "redraw": true
              },
              "mode": "immediate",
              "transition": {
               "duration": 0
              }
             }
            ],
            "label": "173.5",
            "method": "animate"
           },
           {
            "args": [
             [
              "104"
             ],
             {
              "frame": {
               "duration": 50,
               "redraw": true
              },
              "mode": "immediate",
              "transition": {
               "duration": 0
              }
             }
            ],
            "label": "175.2",
            "method": "animate"
           },
           {
            "args": [
             [
              "105"
             ],
             {
              "frame": {
               "duration": 50,
               "redraw": true
              },
              "mode": "immediate",
              "transition": {
               "duration": 0
              }
             }
            ],
            "label": "176.9",
            "method": "animate"
           },
           {
            "args": [
             [
              "106"
             ],
             {
              "frame": {
               "duration": 50,
               "redraw": true
              },
              "mode": "immediate",
              "transition": {
               "duration": 0
              }
             }
            ],
            "label": "178.6",
            "method": "animate"
           },
           {
            "args": [
             [
              "107"
             ],
             {
              "frame": {
               "duration": 50,
               "redraw": true
              },
              "mode": "immediate",
              "transition": {
               "duration": 0
              }
             }
            ],
            "label": "180.3",
            "method": "animate"
           },
           {
            "args": [
             [
              "108"
             ],
             {
              "frame": {
               "duration": 50,
               "redraw": true
              },
              "mode": "immediate",
              "transition": {
               "duration": 0
              }
             }
            ],
            "label": "181.9",
            "method": "animate"
           },
           {
            "args": [
             [
              "109"
             ],
             {
              "frame": {
               "duration": 50,
               "redraw": true
              },
              "mode": "immediate",
              "transition": {
               "duration": 0
              }
             }
            ],
            "label": "183.6",
            "method": "animate"
           },
           {
            "args": [
             [
              "110"
             ],
             {
              "frame": {
               "duration": 50,
               "redraw": true
              },
              "mode": "immediate",
              "transition": {
               "duration": 0
              }
             }
            ],
            "label": "185.3",
            "method": "animate"
           },
           {
            "args": [
             [
              "111"
             ],
             {
              "frame": {
               "duration": 50,
               "redraw": true
              },
              "mode": "immediate",
              "transition": {
               "duration": 0
              }
             }
            ],
            "label": "187.0",
            "method": "animate"
           },
           {
            "args": [
             [
              "112"
             ],
             {
              "frame": {
               "duration": 50,
               "redraw": true
              },
              "mode": "immediate",
              "transition": {
               "duration": 0
              }
             }
            ],
            "label": "188.7",
            "method": "animate"
           },
           {
            "args": [
             [
              "113"
             ],
             {
              "frame": {
               "duration": 50,
               "redraw": true
              },
              "mode": "immediate",
              "transition": {
               "duration": 0
              }
             }
            ],
            "label": "190.4",
            "method": "animate"
           },
           {
            "args": [
             [
              "114"
             ],
             {
              "frame": {
               "duration": 50,
               "redraw": true
              },
              "mode": "immediate",
              "transition": {
               "duration": 0
              }
             }
            ],
            "label": "192.0",
            "method": "animate"
           },
           {
            "args": [
             [
              "115"
             ],
             {
              "frame": {
               "duration": 50,
               "redraw": true
              },
              "mode": "immediate",
              "transition": {
               "duration": 0
              }
             }
            ],
            "label": "193.7",
            "method": "animate"
           },
           {
            "args": [
             [
              "116"
             ],
             {
              "frame": {
               "duration": 50,
               "redraw": true
              },
              "mode": "immediate",
              "transition": {
               "duration": 0
              }
             }
            ],
            "label": "195.4",
            "method": "animate"
           },
           {
            "args": [
             [
              "117"
             ],
             {
              "frame": {
               "duration": 50,
               "redraw": true
              },
              "mode": "immediate",
              "transition": {
               "duration": 0
              }
             }
            ],
            "label": "197.1",
            "method": "animate"
           },
           {
            "args": [
             [
              "118"
             ],
             {
              "frame": {
               "duration": 50,
               "redraw": true
              },
              "mode": "immediate",
              "transition": {
               "duration": 0
              }
             }
            ],
            "label": "198.8",
            "method": "animate"
           },
           {
            "args": [
             [
              "119"
             ],
             {
              "frame": {
               "duration": 50,
               "redraw": true
              },
              "mode": "immediate",
              "transition": {
               "duration": 0
              }
             }
            ],
            "label": "200.5",
            "method": "animate"
           },
           {
            "args": [
             [
              "120"
             ],
             {
              "frame": {
               "duration": 50,
               "redraw": true
              },
              "mode": "immediate",
              "transition": {
               "duration": 0
              }
             }
            ],
            "label": "202.2",
            "method": "animate"
           },
           {
            "args": [
             [
              "121"
             ],
             {
              "frame": {
               "duration": 50,
               "redraw": true
              },
              "mode": "immediate",
              "transition": {
               "duration": 0
              }
             }
            ],
            "label": "203.8",
            "method": "animate"
           },
           {
            "args": [
             [
              "122"
             ],
             {
              "frame": {
               "duration": 50,
               "redraw": true
              },
              "mode": "immediate",
              "transition": {
               "duration": 0
              }
             }
            ],
            "label": "205.5",
            "method": "animate"
           },
           {
            "args": [
             [
              "123"
             ],
             {
              "frame": {
               "duration": 50,
               "redraw": true
              },
              "mode": "immediate",
              "transition": {
               "duration": 0
              }
             }
            ],
            "label": "207.2",
            "method": "animate"
           },
           {
            "args": [
             [
              "124"
             ],
             {
              "frame": {
               "duration": 50,
               "redraw": true
              },
              "mode": "immediate",
              "transition": {
               "duration": 0
              }
             }
            ],
            "label": "208.9",
            "method": "animate"
           },
           {
            "args": [
             [
              "125"
             ],
             {
              "frame": {
               "duration": 50,
               "redraw": true
              },
              "mode": "immediate",
              "transition": {
               "duration": 0
              }
             }
            ],
            "label": "210.6",
            "method": "animate"
           },
           {
            "args": [
             [
              "126"
             ],
             {
              "frame": {
               "duration": 50,
               "redraw": true
              },
              "mode": "immediate",
              "transition": {
               "duration": 0
              }
             }
            ],
            "label": "212.3",
            "method": "animate"
           },
           {
            "args": [
             [
              "127"
             ],
             {
              "frame": {
               "duration": 50,
               "redraw": true
              },
              "mode": "immediate",
              "transition": {
               "duration": 0
              }
             }
            ],
            "label": "213.9",
            "method": "animate"
           },
           {
            "args": [
             [
              "128"
             ],
             {
              "frame": {
               "duration": 50,
               "redraw": true
              },
              "mode": "immediate",
              "transition": {
               "duration": 0
              }
             }
            ],
            "label": "215.6",
            "method": "animate"
           },
           {
            "args": [
             [
              "129"
             ],
             {
              "frame": {
               "duration": 50,
               "redraw": true
              },
              "mode": "immediate",
              "transition": {
               "duration": 0
              }
             }
            ],
            "label": "217.3",
            "method": "animate"
           },
           {
            "args": [
             [
              "130"
             ],
             {
              "frame": {
               "duration": 50,
               "redraw": true
              },
              "mode": "immediate",
              "transition": {
               "duration": 0
              }
             }
            ],
            "label": "219.0",
            "method": "animate"
           },
           {
            "args": [
             [
              "131"
             ],
             {
              "frame": {
               "duration": 50,
               "redraw": true
              },
              "mode": "immediate",
              "transition": {
               "duration": 0
              }
             }
            ],
            "label": "220.7",
            "method": "animate"
           },
           {
            "args": [
             [
              "132"
             ],
             {
              "frame": {
               "duration": 50,
               "redraw": true
              },
              "mode": "immediate",
              "transition": {
               "duration": 0
              }
             }
            ],
            "label": "222.4",
            "method": "animate"
           },
           {
            "args": [
             [
              "133"
             ],
             {
              "frame": {
               "duration": 50,
               "redraw": true
              },
              "mode": "immediate",
              "transition": {
               "duration": 0
              }
             }
            ],
            "label": "224.1",
            "method": "animate"
           },
           {
            "args": [
             [
              "134"
             ],
             {
              "frame": {
               "duration": 50,
               "redraw": true
              },
              "mode": "immediate",
              "transition": {
               "duration": 0
              }
             }
            ],
            "label": "225.7",
            "method": "animate"
           },
           {
            "args": [
             [
              "135"
             ],
             {
              "frame": {
               "duration": 50,
               "redraw": true
              },
              "mode": "immediate",
              "transition": {
               "duration": 0
              }
             }
            ],
            "label": "227.4",
            "method": "animate"
           },
           {
            "args": [
             [
              "136"
             ],
             {
              "frame": {
               "duration": 50,
               "redraw": true
              },
              "mode": "immediate",
              "transition": {
               "duration": 0
              }
             }
            ],
            "label": "229.1",
            "method": "animate"
           },
           {
            "args": [
             [
              "137"
             ],
             {
              "frame": {
               "duration": 50,
               "redraw": true
              },
              "mode": "immediate",
              "transition": {
               "duration": 0
              }
             }
            ],
            "label": "230.8",
            "method": "animate"
           },
           {
            "args": [
             [
              "138"
             ],
             {
              "frame": {
               "duration": 50,
               "redraw": true
              },
              "mode": "immediate",
              "transition": {
               "duration": 0
              }
             }
            ],
            "label": "232.5",
            "method": "animate"
           },
           {
            "args": [
             [
              "139"
             ],
             {
              "frame": {
               "duration": 50,
               "redraw": true
              },
              "mode": "immediate",
              "transition": {
               "duration": 0
              }
             }
            ],
            "label": "234.2",
            "method": "animate"
           },
           {
            "args": [
             [
              "140"
             ],
             {
              "frame": {
               "duration": 50,
               "redraw": true
              },
              "mode": "immediate",
              "transition": {
               "duration": 0
              }
             }
            ],
            "label": "235.8",
            "method": "animate"
           },
           {
            "args": [
             [
              "141"
             ],
             {
              "frame": {
               "duration": 50,
               "redraw": true
              },
              "mode": "immediate",
              "transition": {
               "duration": 0
              }
             }
            ],
            "label": "237.5",
            "method": "animate"
           },
           {
            "args": [
             [
              "142"
             ],
             {
              "frame": {
               "duration": 50,
               "redraw": true
              },
              "mode": "immediate",
              "transition": {
               "duration": 0
              }
             }
            ],
            "label": "239.2",
            "method": "animate"
           },
           {
            "args": [
             [
              "143"
             ],
             {
              "frame": {
               "duration": 50,
               "redraw": true
              },
              "mode": "immediate",
              "transition": {
               "duration": 0
              }
             }
            ],
            "label": "240.9",
            "method": "animate"
           },
           {
            "args": [
             [
              "144"
             ],
             {
              "frame": {
               "duration": 50,
               "redraw": true
              },
              "mode": "immediate",
              "transition": {
               "duration": 0
              }
             }
            ],
            "label": "242.6",
            "method": "animate"
           },
           {
            "args": [
             [
              "145"
             ],
             {
              "frame": {
               "duration": 50,
               "redraw": true
              },
              "mode": "immediate",
              "transition": {
               "duration": 0
              }
             }
            ],
            "label": "244.3",
            "method": "animate"
           },
           {
            "args": [
             [
              "146"
             ],
             {
              "frame": {
               "duration": 50,
               "redraw": true
              },
              "mode": "immediate",
              "transition": {
               "duration": 0
              }
             }
            ],
            "label": "246.0",
            "method": "animate"
           },
           {
            "args": [
             [
              "147"
             ],
             {
              "frame": {
               "duration": 50,
               "redraw": true
              },
              "mode": "immediate",
              "transition": {
               "duration": 0
              }
             }
            ],
            "label": "247.6",
            "method": "animate"
           },
           {
            "args": [
             [
              "148"
             ],
             {
              "frame": {
               "duration": 50,
               "redraw": true
              },
              "mode": "immediate",
              "transition": {
               "duration": 0
              }
             }
            ],
            "label": "249.3",
            "method": "animate"
           },
           {
            "args": [
             [
              "149"
             ],
             {
              "frame": {
               "duration": 50,
               "redraw": true
              },
              "mode": "immediate",
              "transition": {
               "duration": 0
              }
             }
            ],
            "label": "251.0",
            "method": "animate"
           },
           {
            "args": [
             [
              "150"
             ],
             {
              "frame": {
               "duration": 50,
               "redraw": true
              },
              "mode": "immediate",
              "transition": {
               "duration": 0
              }
             }
            ],
            "label": "252.7",
            "method": "animate"
           },
           {
            "args": [
             [
              "151"
             ],
             {
              "frame": {
               "duration": 50,
               "redraw": true
              },
              "mode": "immediate",
              "transition": {
               "duration": 0
              }
             }
            ],
            "label": "254.4",
            "method": "animate"
           },
           {
            "args": [
             [
              "152"
             ],
             {
              "frame": {
               "duration": 50,
               "redraw": true
              },
              "mode": "immediate",
              "transition": {
               "duration": 0
              }
             }
            ],
            "label": "256.1",
            "method": "animate"
           },
           {
            "args": [
             [
              "153"
             ],
             {
              "frame": {
               "duration": 50,
               "redraw": true
              },
              "mode": "immediate",
              "transition": {
               "duration": 0
              }
             }
            ],
            "label": "257.7",
            "method": "animate"
           },
           {
            "args": [
             [
              "154"
             ],
             {
              "frame": {
               "duration": 50,
               "redraw": true
              },
              "mode": "immediate",
              "transition": {
               "duration": 0
              }
             }
            ],
            "label": "259.4",
            "method": "animate"
           },
           {
            "args": [
             [
              "155"
             ],
             {
              "frame": {
               "duration": 50,
               "redraw": true
              },
              "mode": "immediate",
              "transition": {
               "duration": 0
              }
             }
            ],
            "label": "261.1",
            "method": "animate"
           },
           {
            "args": [
             [
              "156"
             ],
             {
              "frame": {
               "duration": 50,
               "redraw": true
              },
              "mode": "immediate",
              "transition": {
               "duration": 0
              }
             }
            ],
            "label": "262.8",
            "method": "animate"
           },
           {
            "args": [
             [
              "157"
             ],
             {
              "frame": {
               "duration": 50,
               "redraw": true
              },
              "mode": "immediate",
              "transition": {
               "duration": 0
              }
             }
            ],
            "label": "264.5",
            "method": "animate"
           },
           {
            "args": [
             [
              "158"
             ],
             {
              "frame": {
               "duration": 50,
               "redraw": true
              },
              "mode": "immediate",
              "transition": {
               "duration": 0
              }
             }
            ],
            "label": "266.2",
            "method": "animate"
           },
           {
            "args": [
             [
              "159"
             ],
             {
              "frame": {
               "duration": 50,
               "redraw": true
              },
              "mode": "immediate",
              "transition": {
               "duration": 0
              }
             }
            ],
            "label": "267.9",
            "method": "animate"
           },
           {
            "args": [
             [
              "160"
             ],
             {
              "frame": {
               "duration": 50,
               "redraw": true
              },
              "mode": "immediate",
              "transition": {
               "duration": 0
              }
             }
            ],
            "label": "269.5",
            "method": "animate"
           },
           {
            "args": [
             [
              "161"
             ],
             {
              "frame": {
               "duration": 50,
               "redraw": true
              },
              "mode": "immediate",
              "transition": {
               "duration": 0
              }
             }
            ],
            "label": "271.2",
            "method": "animate"
           },
           {
            "args": [
             [
              "162"
             ],
             {
              "frame": {
               "duration": 50,
               "redraw": true
              },
              "mode": "immediate",
              "transition": {
               "duration": 0
              }
             }
            ],
            "label": "272.9",
            "method": "animate"
           },
           {
            "args": [
             [
              "163"
             ],
             {
              "frame": {
               "duration": 50,
               "redraw": true
              },
              "mode": "immediate",
              "transition": {
               "duration": 0
              }
             }
            ],
            "label": "274.6",
            "method": "animate"
           },
           {
            "args": [
             [
              "164"
             ],
             {
              "frame": {
               "duration": 50,
               "redraw": true
              },
              "mode": "immediate",
              "transition": {
               "duration": 0
              }
             }
            ],
            "label": "276.3",
            "method": "animate"
           },
           {
            "args": [
             [
              "165"
             ],
             {
              "frame": {
               "duration": 50,
               "redraw": true
              },
              "mode": "immediate",
              "transition": {
               "duration": 0
              }
             }
            ],
            "label": "278.0",
            "method": "animate"
           },
           {
            "args": [
             [
              "166"
             ],
             {
              "frame": {
               "duration": 50,
               "redraw": true
              },
              "mode": "immediate",
              "transition": {
               "duration": 0
              }
             }
            ],
            "label": "279.6",
            "method": "animate"
           },
           {
            "args": [
             [
              "167"
             ],
             {
              "frame": {
               "duration": 50,
               "redraw": true
              },
              "mode": "immediate",
              "transition": {
               "duration": 0
              }
             }
            ],
            "label": "281.3",
            "method": "animate"
           },
           {
            "args": [
             [
              "168"
             ],
             {
              "frame": {
               "duration": 50,
               "redraw": true
              },
              "mode": "immediate",
              "transition": {
               "duration": 0
              }
             }
            ],
            "label": "283.0",
            "method": "animate"
           },
           {
            "args": [
             [
              "169"
             ],
             {
              "frame": {
               "duration": 50,
               "redraw": true
              },
              "mode": "immediate",
              "transition": {
               "duration": 0
              }
             }
            ],
            "label": "284.7",
            "method": "animate"
           },
           {
            "args": [
             [
              "170"
             ],
             {
              "frame": {
               "duration": 50,
               "redraw": true
              },
              "mode": "immediate",
              "transition": {
               "duration": 0
              }
             }
            ],
            "label": "286.4",
            "method": "animate"
           },
           {
            "args": [
             [
              "171"
             ],
             {
              "frame": {
               "duration": 50,
               "redraw": true
              },
              "mode": "immediate",
              "transition": {
               "duration": 0
              }
             }
            ],
            "label": "288.1",
            "method": "animate"
           },
           {
            "args": [
             [
              "172"
             ],
             {
              "frame": {
               "duration": 50,
               "redraw": true
              },
              "mode": "immediate",
              "transition": {
               "duration": 0
              }
             }
            ],
            "label": "289.8",
            "method": "animate"
           },
           {
            "args": [
             [
              "173"
             ],
             {
              "frame": {
               "duration": 50,
               "redraw": true
              },
              "mode": "immediate",
              "transition": {
               "duration": 0
              }
             }
            ],
            "label": "291.4",
            "method": "animate"
           },
           {
            "args": [
             [
              "174"
             ],
             {
              "frame": {
               "duration": 50,
               "redraw": true
              },
              "mode": "immediate",
              "transition": {
               "duration": 0
              }
             }
            ],
            "label": "293.1",
            "method": "animate"
           },
           {
            "args": [
             [
              "175"
             ],
             {
              "frame": {
               "duration": 50,
               "redraw": true
              },
              "mode": "immediate",
              "transition": {
               "duration": 0
              }
             }
            ],
            "label": "294.8",
            "method": "animate"
           },
           {
            "args": [
             [
              "176"
             ],
             {
              "frame": {
               "duration": 50,
               "redraw": true
              },
              "mode": "immediate",
              "transition": {
               "duration": 0
              }
             }
            ],
            "label": "296.5",
            "method": "animate"
           },
           {
            "args": [
             [
              "177"
             ],
             {
              "frame": {
               "duration": 50,
               "redraw": true
              },
              "mode": "immediate",
              "transition": {
               "duration": 0
              }
             }
            ],
            "label": "298.2",
            "method": "animate"
           },
           {
            "args": [
             [
              "178"
             ],
             {
              "frame": {
               "duration": 50,
               "redraw": true
              },
              "mode": "immediate",
              "transition": {
               "duration": 0
              }
             }
            ],
            "label": "299.9",
            "method": "animate"
           },
           {
            "args": [
             [
              "179"
             ],
             {
              "frame": {
               "duration": 50,
               "redraw": true
              },
              "mode": "immediate",
              "transition": {
               "duration": 0
              }
             }
            ],
            "label": "301.5",
            "method": "animate"
           },
           {
            "args": [
             [
              "180"
             ],
             {
              "frame": {
               "duration": 50,
               "redraw": true
              },
              "mode": "immediate",
              "transition": {
               "duration": 0
              }
             }
            ],
            "label": "303.2",
            "method": "animate"
           },
           {
            "args": [
             [
              "181"
             ],
             {
              "frame": {
               "duration": 50,
               "redraw": true
              },
              "mode": "immediate",
              "transition": {
               "duration": 0
              }
             }
            ],
            "label": "304.9",
            "method": "animate"
           },
           {
            "args": [
             [
              "182"
             ],
             {
              "frame": {
               "duration": 50,
               "redraw": true
              },
              "mode": "immediate",
              "transition": {
               "duration": 0
              }
             }
            ],
            "label": "306.6",
            "method": "animate"
           },
           {
            "args": [
             [
              "183"
             ],
             {
              "frame": {
               "duration": 50,
               "redraw": true
              },
              "mode": "immediate",
              "transition": {
               "duration": 0
              }
             }
            ],
            "label": "308.3",
            "method": "animate"
           },
           {
            "args": [
             [
              "184"
             ],
             {
              "frame": {
               "duration": 50,
               "redraw": true
              },
              "mode": "immediate",
              "transition": {
               "duration": 0
              }
             }
            ],
            "label": "310.0",
            "method": "animate"
           },
           {
            "args": [
             [
              "185"
             ],
             {
              "frame": {
               "duration": 50,
               "redraw": true
              },
              "mode": "immediate",
              "transition": {
               "duration": 0
              }
             }
            ],
            "label": "311.7",
            "method": "animate"
           },
           {
            "args": [
             [
              "186"
             ],
             {
              "frame": {
               "duration": 50,
               "redraw": true
              },
              "mode": "immediate",
              "transition": {
               "duration": 0
              }
             }
            ],
            "label": "313.3",
            "method": "animate"
           },
           {
            "args": [
             [
              "187"
             ],
             {
              "frame": {
               "duration": 50,
               "redraw": true
              },
              "mode": "immediate",
              "transition": {
               "duration": 0
              }
             }
            ],
            "label": "315.0",
            "method": "animate"
           },
           {
            "args": [
             [
              "188"
             ],
             {
              "frame": {
               "duration": 50,
               "redraw": true
              },
              "mode": "immediate",
              "transition": {
               "duration": 0
              }
             }
            ],
            "label": "316.7",
            "method": "animate"
           },
           {
            "args": [
             [
              "189"
             ],
             {
              "frame": {
               "duration": 50,
               "redraw": true
              },
              "mode": "immediate",
              "transition": {
               "duration": 0
              }
             }
            ],
            "label": "318.4",
            "method": "animate"
           },
           {
            "args": [
             [
              "190"
             ],
             {
              "frame": {
               "duration": 50,
               "redraw": true
              },
              "mode": "immediate",
              "transition": {
               "duration": 0
              }
             }
            ],
            "label": "320.1",
            "method": "animate"
           },
           {
            "args": [
             [
              "191"
             ],
             {
              "frame": {
               "duration": 50,
               "redraw": true
              },
              "mode": "immediate",
              "transition": {
               "duration": 0
              }
             }
            ],
            "label": "321.8",
            "method": "animate"
           },
           {
            "args": [
             [
              "192"
             ],
             {
              "frame": {
               "duration": 50,
               "redraw": true
              },
              "mode": "immediate",
              "transition": {
               "duration": 0
              }
             }
            ],
            "label": "323.4",
            "method": "animate"
           },
           {
            "args": [
             [
              "193"
             ],
             {
              "frame": {
               "duration": 50,
               "redraw": true
              },
              "mode": "immediate",
              "transition": {
               "duration": 0
              }
             }
            ],
            "label": "325.1",
            "method": "animate"
           },
           {
            "args": [
             [
              "194"
             ],
             {
              "frame": {
               "duration": 50,
               "redraw": true
              },
              "mode": "immediate",
              "transition": {
               "duration": 0
              }
             }
            ],
            "label": "326.8",
            "method": "animate"
           },
           {
            "args": [
             [
              "195"
             ],
             {
              "frame": {
               "duration": 50,
               "redraw": true
              },
              "mode": "immediate",
              "transition": {
               "duration": 0
              }
             }
            ],
            "label": "328.5",
            "method": "animate"
           },
           {
            "args": [
             [
              "196"
             ],
             {
              "frame": {
               "duration": 50,
               "redraw": true
              },
              "mode": "immediate",
              "transition": {
               "duration": 0
              }
             }
            ],
            "label": "330.2",
            "method": "animate"
           },
           {
            "args": [
             [
              "197"
             ],
             {
              "frame": {
               "duration": 50,
               "redraw": true
              },
              "mode": "immediate",
              "transition": {
               "duration": 0
              }
             }
            ],
            "label": "331.9",
            "method": "animate"
           },
           {
            "args": [
             [
              "198"
             ],
             {
              "frame": {
               "duration": 50,
               "redraw": true
              },
              "mode": "immediate",
              "transition": {
               "duration": 0
              }
             }
            ],
            "label": "333.6",
            "method": "animate"
           },
           {
            "args": [
             [
              "199"
             ],
             {
              "frame": {
               "duration": 50,
               "redraw": true
              },
              "mode": "immediate",
              "transition": {
               "duration": 0
              }
             }
            ],
            "label": "335.2",
            "method": "animate"
           }
          ],
          "x": 0,
          "y": 0
         }
        ],
        "template": {
         "data": {
          "bar": [
           {
            "error_x": {
             "color": "#2a3f5f"
            },
            "error_y": {
             "color": "#2a3f5f"
            },
            "marker": {
             "line": {
              "color": "#E5ECF6",
              "width": 0.5
             },
             "pattern": {
              "fillmode": "overlay",
              "size": 10,
              "solidity": 0.2
             }
            },
            "type": "bar"
           }
          ],
          "barpolar": [
           {
            "marker": {
             "line": {
              "color": "#E5ECF6",
              "width": 0.5
             },
             "pattern": {
              "fillmode": "overlay",
              "size": 10,
              "solidity": 0.2
             }
            },
            "type": "barpolar"
           }
          ],
          "carpet": [
           {
            "aaxis": {
             "endlinecolor": "#2a3f5f",
             "gridcolor": "white",
             "linecolor": "white",
             "minorgridcolor": "white",
             "startlinecolor": "#2a3f5f"
            },
            "baxis": {
             "endlinecolor": "#2a3f5f",
             "gridcolor": "white",
             "linecolor": "white",
             "minorgridcolor": "white",
             "startlinecolor": "#2a3f5f"
            },
            "type": "carpet"
           }
          ],
          "choropleth": [
           {
            "colorbar": {
             "outlinewidth": 0,
             "ticks": ""
            },
            "type": "choropleth"
           }
          ],
          "contour": [
           {
            "colorbar": {
             "outlinewidth": 0,
             "ticks": ""
            },
            "colorscale": [
             [
              0,
              "#0d0887"
             ],
             [
              0.1111111111111111,
              "#46039f"
             ],
             [
              0.2222222222222222,
              "#7201a8"
             ],
             [
              0.3333333333333333,
              "#9c179e"
             ],
             [
              0.4444444444444444,
              "#bd3786"
             ],
             [
              0.5555555555555556,
              "#d8576b"
             ],
             [
              0.6666666666666666,
              "#ed7953"
             ],
             [
              0.7777777777777778,
              "#fb9f3a"
             ],
             [
              0.8888888888888888,
              "#fdca26"
             ],
             [
              1,
              "#f0f921"
             ]
            ],
            "type": "contour"
           }
          ],
          "contourcarpet": [
           {
            "colorbar": {
             "outlinewidth": 0,
             "ticks": ""
            },
            "type": "contourcarpet"
           }
          ],
          "heatmap": [
           {
            "colorbar": {
             "outlinewidth": 0,
             "ticks": ""
            },
            "colorscale": [
             [
              0,
              "#0d0887"
             ],
             [
              0.1111111111111111,
              "#46039f"
             ],
             [
              0.2222222222222222,
              "#7201a8"
             ],
             [
              0.3333333333333333,
              "#9c179e"
             ],
             [
              0.4444444444444444,
              "#bd3786"
             ],
             [
              0.5555555555555556,
              "#d8576b"
             ],
             [
              0.6666666666666666,
              "#ed7953"
             ],
             [
              0.7777777777777778,
              "#fb9f3a"
             ],
             [
              0.8888888888888888,
              "#fdca26"
             ],
             [
              1,
              "#f0f921"
             ]
            ],
            "type": "heatmap"
           }
          ],
          "heatmapgl": [
           {
            "colorbar": {
             "outlinewidth": 0,
             "ticks": ""
            },
            "colorscale": [
             [
              0,
              "#0d0887"
             ],
             [
              0.1111111111111111,
              "#46039f"
             ],
             [
              0.2222222222222222,
              "#7201a8"
             ],
             [
              0.3333333333333333,
              "#9c179e"
             ],
             [
              0.4444444444444444,
              "#bd3786"
             ],
             [
              0.5555555555555556,
              "#d8576b"
             ],
             [
              0.6666666666666666,
              "#ed7953"
             ],
             [
              0.7777777777777778,
              "#fb9f3a"
             ],
             [
              0.8888888888888888,
              "#fdca26"
             ],
             [
              1,
              "#f0f921"
             ]
            ],
            "type": "heatmapgl"
           }
          ],
          "histogram": [
           {
            "marker": {
             "pattern": {
              "fillmode": "overlay",
              "size": 10,
              "solidity": 0.2
             }
            },
            "type": "histogram"
           }
          ],
          "histogram2d": [
           {
            "colorbar": {
             "outlinewidth": 0,
             "ticks": ""
            },
            "colorscale": [
             [
              0,
              "#0d0887"
             ],
             [
              0.1111111111111111,
              "#46039f"
             ],
             [
              0.2222222222222222,
              "#7201a8"
             ],
             [
              0.3333333333333333,
              "#9c179e"
             ],
             [
              0.4444444444444444,
              "#bd3786"
             ],
             [
              0.5555555555555556,
              "#d8576b"
             ],
             [
              0.6666666666666666,
              "#ed7953"
             ],
             [
              0.7777777777777778,
              "#fb9f3a"
             ],
             [
              0.8888888888888888,
              "#fdca26"
             ],
             [
              1,
              "#f0f921"
             ]
            ],
            "type": "histogram2d"
           }
          ],
          "histogram2dcontour": [
           {
            "colorbar": {
             "outlinewidth": 0,
             "ticks": ""
            },
            "colorscale": [
             [
              0,
              "#0d0887"
             ],
             [
              0.1111111111111111,
              "#46039f"
             ],
             [
              0.2222222222222222,
              "#7201a8"
             ],
             [
              0.3333333333333333,
              "#9c179e"
             ],
             [
              0.4444444444444444,
              "#bd3786"
             ],
             [
              0.5555555555555556,
              "#d8576b"
             ],
             [
              0.6666666666666666,
              "#ed7953"
             ],
             [
              0.7777777777777778,
              "#fb9f3a"
             ],
             [
              0.8888888888888888,
              "#fdca26"
             ],
             [
              1,
              "#f0f921"
             ]
            ],
            "type": "histogram2dcontour"
           }
          ],
          "mesh3d": [
           {
            "colorbar": {
             "outlinewidth": 0,
             "ticks": ""
            },
            "type": "mesh3d"
           }
          ],
          "parcoords": [
           {
            "line": {
             "colorbar": {
              "outlinewidth": 0,
              "ticks": ""
             }
            },
            "type": "parcoords"
           }
          ],
          "pie": [
           {
            "automargin": true,
            "type": "pie"
           }
          ],
          "scatter": [
           {
            "fillpattern": {
             "fillmode": "overlay",
             "size": 10,
             "solidity": 0.2
            },
            "type": "scatter"
           }
          ],
          "scatter3d": [
           {
            "line": {
             "colorbar": {
              "outlinewidth": 0,
              "ticks": ""
             }
            },
            "marker": {
             "colorbar": {
              "outlinewidth": 0,
              "ticks": ""
             }
            },
            "type": "scatter3d"
           }
          ],
          "scattercarpet": [
           {
            "marker": {
             "colorbar": {
              "outlinewidth": 0,
              "ticks": ""
             }
            },
            "type": "scattercarpet"
           }
          ],
          "scattergeo": [
           {
            "marker": {
             "colorbar": {
              "outlinewidth": 0,
              "ticks": ""
             }
            },
            "type": "scattergeo"
           }
          ],
          "scattergl": [
           {
            "marker": {
             "colorbar": {
              "outlinewidth": 0,
              "ticks": ""
             }
            },
            "type": "scattergl"
           }
          ],
          "scattermapbox": [
           {
            "marker": {
             "colorbar": {
              "outlinewidth": 0,
              "ticks": ""
             }
            },
            "type": "scattermapbox"
           }
          ],
          "scatterpolar": [
           {
            "marker": {
             "colorbar": {
              "outlinewidth": 0,
              "ticks": ""
             }
            },
            "type": "scatterpolar"
           }
          ],
          "scatterpolargl": [
           {
            "marker": {
             "colorbar": {
              "outlinewidth": 0,
              "ticks": ""
             }
            },
            "type": "scatterpolargl"
           }
          ],
          "scatterternary": [
           {
            "marker": {
             "colorbar": {
              "outlinewidth": 0,
              "ticks": ""
             }
            },
            "type": "scatterternary"
           }
          ],
          "surface": [
           {
            "colorbar": {
             "outlinewidth": 0,
             "ticks": ""
            },
            "colorscale": [
             [
              0,
              "#0d0887"
             ],
             [
              0.1111111111111111,
              "#46039f"
             ],
             [
              0.2222222222222222,
              "#7201a8"
             ],
             [
              0.3333333333333333,
              "#9c179e"
             ],
             [
              0.4444444444444444,
              "#bd3786"
             ],
             [
              0.5555555555555556,
              "#d8576b"
             ],
             [
              0.6666666666666666,
              "#ed7953"
             ],
             [
              0.7777777777777778,
              "#fb9f3a"
             ],
             [
              0.8888888888888888,
              "#fdca26"
             ],
             [
              1,
              "#f0f921"
             ]
            ],
            "type": "surface"
           }
          ],
          "table": [
           {
            "cells": {
             "fill": {
              "color": "#EBF0F8"
             },
             "line": {
              "color": "white"
             }
            },
            "header": {
             "fill": {
              "color": "#C8D4E3"
             },
             "line": {
              "color": "white"
             }
            },
            "type": "table"
           }
          ]
         },
         "layout": {
          "annotationdefaults": {
           "arrowcolor": "#2a3f5f",
           "arrowhead": 0,
           "arrowwidth": 1
          },
          "autotypenumbers": "strict",
          "coloraxis": {
           "colorbar": {
            "outlinewidth": 0,
            "ticks": ""
           }
          },
          "colorscale": {
           "diverging": [
            [
             0,
             "#8e0152"
            ],
            [
             0.1,
             "#c51b7d"
            ],
            [
             0.2,
             "#de77ae"
            ],
            [
             0.3,
             "#f1b6da"
            ],
            [
             0.4,
             "#fde0ef"
            ],
            [
             0.5,
             "#f7f7f7"
            ],
            [
             0.6,
             "#e6f5d0"
            ],
            [
             0.7,
             "#b8e186"
            ],
            [
             0.8,
             "#7fbc41"
            ],
            [
             0.9,
             "#4d9221"
            ],
            [
             1,
             "#276419"
            ]
           ],
           "sequential": [
            [
             0,
             "#0d0887"
            ],
            [
             0.1111111111111111,
             "#46039f"
            ],
            [
             0.2222222222222222,
             "#7201a8"
            ],
            [
             0.3333333333333333,
             "#9c179e"
            ],
            [
             0.4444444444444444,
             "#bd3786"
            ],
            [
             0.5555555555555556,
             "#d8576b"
            ],
            [
             0.6666666666666666,
             "#ed7953"
            ],
            [
             0.7777777777777778,
             "#fb9f3a"
            ],
            [
             0.8888888888888888,
             "#fdca26"
            ],
            [
             1,
             "#f0f921"
            ]
           ],
           "sequentialminus": [
            [
             0,
             "#0d0887"
            ],
            [
             0.1111111111111111,
             "#46039f"
            ],
            [
             0.2222222222222222,
             "#7201a8"
            ],
            [
             0.3333333333333333,
             "#9c179e"
            ],
            [
             0.4444444444444444,
             "#bd3786"
            ],
            [
             0.5555555555555556,
             "#d8576b"
            ],
            [
             0.6666666666666666,
             "#ed7953"
            ],
            [
             0.7777777777777778,
             "#fb9f3a"
            ],
            [
             0.8888888888888888,
             "#fdca26"
            ],
            [
             1,
             "#f0f921"
            ]
           ]
          },
          "colorway": [
           "#636efa",
           "#EF553B",
           "#00cc96",
           "#ab63fa",
           "#FFA15A",
           "#19d3f3",
           "#FF6692",
           "#B6E880",
           "#FF97FF",
           "#FECB52"
          ],
          "font": {
           "color": "#2a3f5f"
          },
          "geo": {
           "bgcolor": "white",
           "lakecolor": "white",
           "landcolor": "#E5ECF6",
           "showlakes": true,
           "showland": true,
           "subunitcolor": "white"
          },
          "hoverlabel": {
           "align": "left"
          },
          "hovermode": "closest",
          "mapbox": {
           "style": "light"
          },
          "paper_bgcolor": "white",
          "plot_bgcolor": "#E5ECF6",
          "polar": {
           "angularaxis": {
            "gridcolor": "white",
            "linecolor": "white",
            "ticks": ""
           },
           "bgcolor": "#E5ECF6",
           "radialaxis": {
            "gridcolor": "white",
            "linecolor": "white",
            "ticks": ""
           }
          },
          "scene": {
           "xaxis": {
            "backgroundcolor": "#E5ECF6",
            "gridcolor": "white",
            "gridwidth": 2,
            "linecolor": "white",
            "showbackground": true,
            "ticks": "",
            "zerolinecolor": "white"
           },
           "yaxis": {
            "backgroundcolor": "#E5ECF6",
            "gridcolor": "white",
            "gridwidth": 2,
            "linecolor": "white",
            "showbackground": true,
            "ticks": "",
            "zerolinecolor": "white"
           },
           "zaxis": {
            "backgroundcolor": "#E5ECF6",
            "gridcolor": "white",
            "gridwidth": 2,
            "linecolor": "white",
            "showbackground": true,
            "ticks": "",
            "zerolinecolor": "white"
           }
          },
          "shapedefaults": {
           "line": {
            "color": "#2a3f5f"
           }
          },
          "ternary": {
           "aaxis": {
            "gridcolor": "white",
            "linecolor": "white",
            "ticks": ""
           },
           "baxis": {
            "gridcolor": "white",
            "linecolor": "white",
            "ticks": ""
           },
           "bgcolor": "#E5ECF6",
           "caxis": {
            "gridcolor": "white",
            "linecolor": "white",
            "ticks": ""
           }
          },
          "title": {
           "x": 0.05
          },
          "xaxis": {
           "automargin": true,
           "gridcolor": "white",
           "linecolor": "white",
           "ticks": "",
           "title": {
            "standoff": 15
           },
           "zerolinecolor": "white",
           "zerolinewidth": 2
          },
          "yaxis": {
           "automargin": true,
           "gridcolor": "white",
           "linecolor": "white",
           "ticks": "",
           "title": {
            "standoff": 15
           },
           "zerolinecolor": "white",
           "zerolinewidth": 2
          }
         }
        },
        "title": {
         "text": "Viaje de Partícula Relativista en la Atmósfera"
        },
        "updatemenus": [
         {
          "buttons": [
           {
            "args": [
             null,
             {
              "frame": {
               "duration": 50,
               "redraw": true
              },
              "fromcurrent": true,
              "mode": "immediate",
              "transition": {
               "duration": 0
              }
             }
            ],
            "label": "Play",
            "method": "animate"
           }
          ],
          "showactive": false,
          "type": "buttons",
          "x": 1.15,
          "xanchor": "right",
          "y": 1.05,
          "yanchor": "top"
         }
        ],
        "xaxis": {
         "range": [
          -0.5,
          0.5
         ],
         "showticklabels": false,
         "zeroline": false
        },
        "yaxis": {
         "range": [
          -1,
          11
         ],
         "title": {
          "text": "Altitud (km)"
         }
        }
       }
      },
      "text/html": [
       "<div>                            <div id=\"1dd99715-048b-448f-acfa-f4d669c02291\" class=\"plotly-graph-div\" style=\"height:525px; width:100%;\"></div>            <script type=\"text/javascript\">                require([\"plotly\"], function(Plotly) {                    window.PLOTLYENV=window.PLOTLYENV || {};                                    if (document.getElementById(\"1dd99715-048b-448f-acfa-f4d669c02291\")) {                    Plotly.newPlot(                        \"1dd99715-048b-448f-acfa-f4d669c02291\",                        [{\"line\":{\"color\":\"green\",\"width\":4},\"mode\":\"lines\",\"name\":\"Superficie\",\"x\":[-1,1],\"y\":[0,0],\"type\":\"scatter\"},{\"line\":{\"color\":\"lightblue\",\"dash\":\"dash\",\"width\":4},\"mode\":\"lines\",\"name\":\"Tope Atm\\u00f3sfera\",\"x\":[-1,1],\"y\":[10.0,10.0],\"type\":\"scatter\"},{\"line\":{\"color\":\"grey\",\"dash\":\"dot\",\"width\":1},\"mode\":\"lines\",\"name\":\"Trayectoria\",\"x\":[0,0],\"y\":[10.0,10.0],\"type\":\"scatter\"},{\"marker\":{\"color\":\"red\",\"size\":10},\"mode\":\"markers\",\"name\":\"Part\\u00edcula\",\"x\":[0],\"y\":[10.0],\"type\":\"scatter\"},{\"marker\":{\"color\":\"black\",\"size\":12,\"symbol\":\"x\"},\"mode\":\"markers\",\"name\":\"Decaimiento\",\"x\":[0],\"y\":[null],\"type\":\"scatter\"}],                        {\"margin\":{\"r\":200},\"sliders\":[{\"currentvalue\":{\"prefix\":\"t_anim=\"},\"steps\":[{\"args\":[[\"0\"],{\"mode\":\"immediate\",\"frame\":{\"duration\":50,\"redraw\":true},\"transition\":{\"duration\":0}}],\"label\":\"0.0\",\"method\":\"animate\"},{\"args\":[[\"1\"],{\"mode\":\"immediate\",\"frame\":{\"duration\":50,\"redraw\":true},\"transition\":{\"duration\":0}}],\"label\":\"1.7\",\"method\":\"animate\"},{\"args\":[[\"2\"],{\"mode\":\"immediate\",\"frame\":{\"duration\":50,\"redraw\":true},\"transition\":{\"duration\":0}}],\"label\":\"3.4\",\"method\":\"animate\"},{\"args\":[[\"3\"],{\"mode\":\"immediate\",\"frame\":{\"duration\":50,\"redraw\":true},\"transition\":{\"duration\":0}}],\"label\":\"5.1\",\"method\":\"animate\"},{\"args\":[[\"4\"],{\"mode\":\"immediate\",\"frame\":{\"duration\":50,\"redraw\":true},\"transition\":{\"duration\":0}}],\"label\":\"6.7\",\"method\":\"animate\"},{\"args\":[[\"5\"],{\"mode\":\"immediate\",\"frame\":{\"duration\":50,\"redraw\":true},\"transition\":{\"duration\":0}}],\"label\":\"8.4\",\"method\":\"animate\"},{\"args\":[[\"6\"],{\"mode\":\"immediate\",\"frame\":{\"duration\":50,\"redraw\":true},\"transition\":{\"duration\":0}}],\"label\":\"10.1\",\"method\":\"animate\"},{\"args\":[[\"7\"],{\"mode\":\"immediate\",\"frame\":{\"duration\":50,\"redraw\":true},\"transition\":{\"duration\":0}}],\"label\":\"11.8\",\"method\":\"animate\"},{\"args\":[[\"8\"],{\"mode\":\"immediate\",\"frame\":{\"duration\":50,\"redraw\":true},\"transition\":{\"duration\":0}}],\"label\":\"13.5\",\"method\":\"animate\"},{\"args\":[[\"9\"],{\"mode\":\"immediate\",\"frame\":{\"duration\":50,\"redraw\":true},\"transition\":{\"duration\":0}}],\"label\":\"15.2\",\"method\":\"animate\"},{\"args\":[[\"10\"],{\"mode\":\"immediate\",\"frame\":{\"duration\":50,\"redraw\":true},\"transition\":{\"duration\":0}}],\"label\":\"16.8\",\"method\":\"animate\"},{\"args\":[[\"11\"],{\"mode\":\"immediate\",\"frame\":{\"duration\":50,\"redraw\":true},\"transition\":{\"duration\":0}}],\"label\":\"18.5\",\"method\":\"animate\"},{\"args\":[[\"12\"],{\"mode\":\"immediate\",\"frame\":{\"duration\":50,\"redraw\":true},\"transition\":{\"duration\":0}}],\"label\":\"20.2\",\"method\":\"animate\"},{\"args\":[[\"13\"],{\"mode\":\"immediate\",\"frame\":{\"duration\":50,\"redraw\":true},\"transition\":{\"duration\":0}}],\"label\":\"21.9\",\"method\":\"animate\"},{\"args\":[[\"14\"],{\"mode\":\"immediate\",\"frame\":{\"duration\":50,\"redraw\":true},\"transition\":{\"duration\":0}}],\"label\":\"23.6\",\"method\":\"animate\"},{\"args\":[[\"15\"],{\"mode\":\"immediate\",\"frame\":{\"duration\":50,\"redraw\":true},\"transition\":{\"duration\":0}}],\"label\":\"25.3\",\"method\":\"animate\"},{\"args\":[[\"16\"],{\"mode\":\"immediate\",\"frame\":{\"duration\":50,\"redraw\":true},\"transition\":{\"duration\":0}}],\"label\":\"27.0\",\"method\":\"animate\"},{\"args\":[[\"17\"],{\"mode\":\"immediate\",\"frame\":{\"duration\":50,\"redraw\":true},\"transition\":{\"duration\":0}}],\"label\":\"28.6\",\"method\":\"animate\"},{\"args\":[[\"18\"],{\"mode\":\"immediate\",\"frame\":{\"duration\":50,\"redraw\":true},\"transition\":{\"duration\":0}}],\"label\":\"30.3\",\"method\":\"animate\"},{\"args\":[[\"19\"],{\"mode\":\"immediate\",\"frame\":{\"duration\":50,\"redraw\":true},\"transition\":{\"duration\":0}}],\"label\":\"32.0\",\"method\":\"animate\"},{\"args\":[[\"20\"],{\"mode\":\"immediate\",\"frame\":{\"duration\":50,\"redraw\":true},\"transition\":{\"duration\":0}}],\"label\":\"33.7\",\"method\":\"animate\"},{\"args\":[[\"21\"],{\"mode\":\"immediate\",\"frame\":{\"duration\":50,\"redraw\":true},\"transition\":{\"duration\":0}}],\"label\":\"35.4\",\"method\":\"animate\"},{\"args\":[[\"22\"],{\"mode\":\"immediate\",\"frame\":{\"duration\":50,\"redraw\":true},\"transition\":{\"duration\":0}}],\"label\":\"37.1\",\"method\":\"animate\"},{\"args\":[[\"23\"],{\"mode\":\"immediate\",\"frame\":{\"duration\":50,\"redraw\":true},\"transition\":{\"duration\":0}}],\"label\":\"38.7\",\"method\":\"animate\"},{\"args\":[[\"24\"],{\"mode\":\"immediate\",\"frame\":{\"duration\":50,\"redraw\":true},\"transition\":{\"duration\":0}}],\"label\":\"40.4\",\"method\":\"animate\"},{\"args\":[[\"25\"],{\"mode\":\"immediate\",\"frame\":{\"duration\":50,\"redraw\":true},\"transition\":{\"duration\":0}}],\"label\":\"42.1\",\"method\":\"animate\"},{\"args\":[[\"26\"],{\"mode\":\"immediate\",\"frame\":{\"duration\":50,\"redraw\":true},\"transition\":{\"duration\":0}}],\"label\":\"43.8\",\"method\":\"animate\"},{\"args\":[[\"27\"],{\"mode\":\"immediate\",\"frame\":{\"duration\":50,\"redraw\":true},\"transition\":{\"duration\":0}}],\"label\":\"45.5\",\"method\":\"animate\"},{\"args\":[[\"28\"],{\"mode\":\"immediate\",\"frame\":{\"duration\":50,\"redraw\":true},\"transition\":{\"duration\":0}}],\"label\":\"47.2\",\"method\":\"animate\"},{\"args\":[[\"29\"],{\"mode\":\"immediate\",\"frame\":{\"duration\":50,\"redraw\":true},\"transition\":{\"duration\":0}}],\"label\":\"48.9\",\"method\":\"animate\"},{\"args\":[[\"30\"],{\"mode\":\"immediate\",\"frame\":{\"duration\":50,\"redraw\":true},\"transition\":{\"duration\":0}}],\"label\":\"50.5\",\"method\":\"animate\"},{\"args\":[[\"31\"],{\"mode\":\"immediate\",\"frame\":{\"duration\":50,\"redraw\":true},\"transition\":{\"duration\":0}}],\"label\":\"52.2\",\"method\":\"animate\"},{\"args\":[[\"32\"],{\"mode\":\"immediate\",\"frame\":{\"duration\":50,\"redraw\":true},\"transition\":{\"duration\":0}}],\"label\":\"53.9\",\"method\":\"animate\"},{\"args\":[[\"33\"],{\"mode\":\"immediate\",\"frame\":{\"duration\":50,\"redraw\":true},\"transition\":{\"duration\":0}}],\"label\":\"55.6\",\"method\":\"animate\"},{\"args\":[[\"34\"],{\"mode\":\"immediate\",\"frame\":{\"duration\":50,\"redraw\":true},\"transition\":{\"duration\":0}}],\"label\":\"57.3\",\"method\":\"animate\"},{\"args\":[[\"35\"],{\"mode\":\"immediate\",\"frame\":{\"duration\":50,\"redraw\":true},\"transition\":{\"duration\":0}}],\"label\":\"59.0\",\"method\":\"animate\"},{\"args\":[[\"36\"],{\"mode\":\"immediate\",\"frame\":{\"duration\":50,\"redraw\":true},\"transition\":{\"duration\":0}}],\"label\":\"60.6\",\"method\":\"animate\"},{\"args\":[[\"37\"],{\"mode\":\"immediate\",\"frame\":{\"duration\":50,\"redraw\":true},\"transition\":{\"duration\":0}}],\"label\":\"62.3\",\"method\":\"animate\"},{\"args\":[[\"38\"],{\"mode\":\"immediate\",\"frame\":{\"duration\":50,\"redraw\":true},\"transition\":{\"duration\":0}}],\"label\":\"64.0\",\"method\":\"animate\"},{\"args\":[[\"39\"],{\"mode\":\"immediate\",\"frame\":{\"duration\":50,\"redraw\":true},\"transition\":{\"duration\":0}}],\"label\":\"65.7\",\"method\":\"animate\"},{\"args\":[[\"40\"],{\"mode\":\"immediate\",\"frame\":{\"duration\":50,\"redraw\":true},\"transition\":{\"duration\":0}}],\"label\":\"67.4\",\"method\":\"animate\"},{\"args\":[[\"41\"],{\"mode\":\"immediate\",\"frame\":{\"duration\":50,\"redraw\":true},\"transition\":{\"duration\":0}}],\"label\":\"69.1\",\"method\":\"animate\"},{\"args\":[[\"42\"],{\"mode\":\"immediate\",\"frame\":{\"duration\":50,\"redraw\":true},\"transition\":{\"duration\":0}}],\"label\":\"70.8\",\"method\":\"animate\"},{\"args\":[[\"43\"],{\"mode\":\"immediate\",\"frame\":{\"duration\":50,\"redraw\":true},\"transition\":{\"duration\":0}}],\"label\":\"72.4\",\"method\":\"animate\"},{\"args\":[[\"44\"],{\"mode\":\"immediate\",\"frame\":{\"duration\":50,\"redraw\":true},\"transition\":{\"duration\":0}}],\"label\":\"74.1\",\"method\":\"animate\"},{\"args\":[[\"45\"],{\"mode\":\"immediate\",\"frame\":{\"duration\":50,\"redraw\":true},\"transition\":{\"duration\":0}}],\"label\":\"75.8\",\"method\":\"animate\"},{\"args\":[[\"46\"],{\"mode\":\"immediate\",\"frame\":{\"duration\":50,\"redraw\":true},\"transition\":{\"duration\":0}}],\"label\":\"77.5\",\"method\":\"animate\"},{\"args\":[[\"47\"],{\"mode\":\"immediate\",\"frame\":{\"duration\":50,\"redraw\":true},\"transition\":{\"duration\":0}}],\"label\":\"79.2\",\"method\":\"animate\"},{\"args\":[[\"48\"],{\"mode\":\"immediate\",\"frame\":{\"duration\":50,\"redraw\":true},\"transition\":{\"duration\":0}}],\"label\":\"80.9\",\"method\":\"animate\"},{\"args\":[[\"49\"],{\"mode\":\"immediate\",\"frame\":{\"duration\":50,\"redraw\":true},\"transition\":{\"duration\":0}}],\"label\":\"82.5\",\"method\":\"animate\"},{\"args\":[[\"50\"],{\"mode\":\"immediate\",\"frame\":{\"duration\":50,\"redraw\":true},\"transition\":{\"duration\":0}}],\"label\":\"84.2\",\"method\":\"animate\"},{\"args\":[[\"51\"],{\"mode\":\"immediate\",\"frame\":{\"duration\":50,\"redraw\":true},\"transition\":{\"duration\":0}}],\"label\":\"85.9\",\"method\":\"animate\"},{\"args\":[[\"52\"],{\"mode\":\"immediate\",\"frame\":{\"duration\":50,\"redraw\":true},\"transition\":{\"duration\":0}}],\"label\":\"87.6\",\"method\":\"animate\"},{\"args\":[[\"53\"],{\"mode\":\"immediate\",\"frame\":{\"duration\":50,\"redraw\":true},\"transition\":{\"duration\":0}}],\"label\":\"89.3\",\"method\":\"animate\"},{\"args\":[[\"54\"],{\"mode\":\"immediate\",\"frame\":{\"duration\":50,\"redraw\":true},\"transition\":{\"duration\":0}}],\"label\":\"91.0\",\"method\":\"animate\"},{\"args\":[[\"55\"],{\"mode\":\"immediate\",\"frame\":{\"duration\":50,\"redraw\":true},\"transition\":{\"duration\":0}}],\"label\":\"92.7\",\"method\":\"animate\"},{\"args\":[[\"56\"],{\"mode\":\"immediate\",\"frame\":{\"duration\":50,\"redraw\":true},\"transition\":{\"duration\":0}}],\"label\":\"94.3\",\"method\":\"animate\"},{\"args\":[[\"57\"],{\"mode\":\"immediate\",\"frame\":{\"duration\":50,\"redraw\":true},\"transition\":{\"duration\":0}}],\"label\":\"96.0\",\"method\":\"animate\"},{\"args\":[[\"58\"],{\"mode\":\"immediate\",\"frame\":{\"duration\":50,\"redraw\":true},\"transition\":{\"duration\":0}}],\"label\":\"97.7\",\"method\":\"animate\"},{\"args\":[[\"59\"],{\"mode\":\"immediate\",\"frame\":{\"duration\":50,\"redraw\":true},\"transition\":{\"duration\":0}}],\"label\":\"99.4\",\"method\":\"animate\"},{\"args\":[[\"60\"],{\"mode\":\"immediate\",\"frame\":{\"duration\":50,\"redraw\":true},\"transition\":{\"duration\":0}}],\"label\":\"101.1\",\"method\":\"animate\"},{\"args\":[[\"61\"],{\"mode\":\"immediate\",\"frame\":{\"duration\":50,\"redraw\":true},\"transition\":{\"duration\":0}}],\"label\":\"102.8\",\"method\":\"animate\"},{\"args\":[[\"62\"],{\"mode\":\"immediate\",\"frame\":{\"duration\":50,\"redraw\":true},\"transition\":{\"duration\":0}}],\"label\":\"104.4\",\"method\":\"animate\"},{\"args\":[[\"63\"],{\"mode\":\"immediate\",\"frame\":{\"duration\":50,\"redraw\":true},\"transition\":{\"duration\":0}}],\"label\":\"106.1\",\"method\":\"animate\"},{\"args\":[[\"64\"],{\"mode\":\"immediate\",\"frame\":{\"duration\":50,\"redraw\":true},\"transition\":{\"duration\":0}}],\"label\":\"107.8\",\"method\":\"animate\"},{\"args\":[[\"65\"],{\"mode\":\"immediate\",\"frame\":{\"duration\":50,\"redraw\":true},\"transition\":{\"duration\":0}}],\"label\":\"109.5\",\"method\":\"animate\"},{\"args\":[[\"66\"],{\"mode\":\"immediate\",\"frame\":{\"duration\":50,\"redraw\":true},\"transition\":{\"duration\":0}}],\"label\":\"111.2\",\"method\":\"animate\"},{\"args\":[[\"67\"],{\"mode\":\"immediate\",\"frame\":{\"duration\":50,\"redraw\":true},\"transition\":{\"duration\":0}}],\"label\":\"112.9\",\"method\":\"animate\"},{\"args\":[[\"68\"],{\"mode\":\"immediate\",\"frame\":{\"duration\":50,\"redraw\":true},\"transition\":{\"duration\":0}}],\"label\":\"114.6\",\"method\":\"animate\"},{\"args\":[[\"69\"],{\"mode\":\"immediate\",\"frame\":{\"duration\":50,\"redraw\":true},\"transition\":{\"duration\":0}}],\"label\":\"116.2\",\"method\":\"animate\"},{\"args\":[[\"70\"],{\"mode\":\"immediate\",\"frame\":{\"duration\":50,\"redraw\":true},\"transition\":{\"duration\":0}}],\"label\":\"117.9\",\"method\":\"animate\"},{\"args\":[[\"71\"],{\"mode\":\"immediate\",\"frame\":{\"duration\":50,\"redraw\":true},\"transition\":{\"duration\":0}}],\"label\":\"119.6\",\"method\":\"animate\"},{\"args\":[[\"72\"],{\"mode\":\"immediate\",\"frame\":{\"duration\":50,\"redraw\":true},\"transition\":{\"duration\":0}}],\"label\":\"121.3\",\"method\":\"animate\"},{\"args\":[[\"73\"],{\"mode\":\"immediate\",\"frame\":{\"duration\":50,\"redraw\":true},\"transition\":{\"duration\":0}}],\"label\":\"123.0\",\"method\":\"animate\"},{\"args\":[[\"74\"],{\"mode\":\"immediate\",\"frame\":{\"duration\":50,\"redraw\":true},\"transition\":{\"duration\":0}}],\"label\":\"124.7\",\"method\":\"animate\"},{\"args\":[[\"75\"],{\"mode\":\"immediate\",\"frame\":{\"duration\":50,\"redraw\":true},\"transition\":{\"duration\":0}}],\"label\":\"126.3\",\"method\":\"animate\"},{\"args\":[[\"76\"],{\"mode\":\"immediate\",\"frame\":{\"duration\":50,\"redraw\":true},\"transition\":{\"duration\":0}}],\"label\":\"128.0\",\"method\":\"animate\"},{\"args\":[[\"77\"],{\"mode\":\"immediate\",\"frame\":{\"duration\":50,\"redraw\":true},\"transition\":{\"duration\":0}}],\"label\":\"129.7\",\"method\":\"animate\"},{\"args\":[[\"78\"],{\"mode\":\"immediate\",\"frame\":{\"duration\":50,\"redraw\":true},\"transition\":{\"duration\":0}}],\"label\":\"131.4\",\"method\":\"animate\"},{\"args\":[[\"79\"],{\"mode\":\"immediate\",\"frame\":{\"duration\":50,\"redraw\":true},\"transition\":{\"duration\":0}}],\"label\":\"133.1\",\"method\":\"animate\"},{\"args\":[[\"80\"],{\"mode\":\"immediate\",\"frame\":{\"duration\":50,\"redraw\":true},\"transition\":{\"duration\":0}}],\"label\":\"134.8\",\"method\":\"animate\"},{\"args\":[[\"81\"],{\"mode\":\"immediate\",\"frame\":{\"duration\":50,\"redraw\":true},\"transition\":{\"duration\":0}}],\"label\":\"136.5\",\"method\":\"animate\"},{\"args\":[[\"82\"],{\"mode\":\"immediate\",\"frame\":{\"duration\":50,\"redraw\":true},\"transition\":{\"duration\":0}}],\"label\":\"138.1\",\"method\":\"animate\"},{\"args\":[[\"83\"],{\"mode\":\"immediate\",\"frame\":{\"duration\":50,\"redraw\":true},\"transition\":{\"duration\":0}}],\"label\":\"139.8\",\"method\":\"animate\"},{\"args\":[[\"84\"],{\"mode\":\"immediate\",\"frame\":{\"duration\":50,\"redraw\":true},\"transition\":{\"duration\":0}}],\"label\":\"141.5\",\"method\":\"animate\"},{\"args\":[[\"85\"],{\"mode\":\"immediate\",\"frame\":{\"duration\":50,\"redraw\":true},\"transition\":{\"duration\":0}}],\"label\":\"143.2\",\"method\":\"animate\"},{\"args\":[[\"86\"],{\"mode\":\"immediate\",\"frame\":{\"duration\":50,\"redraw\":true},\"transition\":{\"duration\":0}}],\"label\":\"144.9\",\"method\":\"animate\"},{\"args\":[[\"87\"],{\"mode\":\"immediate\",\"frame\":{\"duration\":50,\"redraw\":true},\"transition\":{\"duration\":0}}],\"label\":\"146.6\",\"method\":\"animate\"},{\"args\":[[\"88\"],{\"mode\":\"immediate\",\"frame\":{\"duration\":50,\"redraw\":true},\"transition\":{\"duration\":0}}],\"label\":\"148.2\",\"method\":\"animate\"},{\"args\":[[\"89\"],{\"mode\":\"immediate\",\"frame\":{\"duration\":50,\"redraw\":true},\"transition\":{\"duration\":0}}],\"label\":\"149.9\",\"method\":\"animate\"},{\"args\":[[\"90\"],{\"mode\":\"immediate\",\"frame\":{\"duration\":50,\"redraw\":true},\"transition\":{\"duration\":0}}],\"label\":\"151.6\",\"method\":\"animate\"},{\"args\":[[\"91\"],{\"mode\":\"immediate\",\"frame\":{\"duration\":50,\"redraw\":true},\"transition\":{\"duration\":0}}],\"label\":\"153.3\",\"method\":\"animate\"},{\"args\":[[\"92\"],{\"mode\":\"immediate\",\"frame\":{\"duration\":50,\"redraw\":true},\"transition\":{\"duration\":0}}],\"label\":\"155.0\",\"method\":\"animate\"},{\"args\":[[\"93\"],{\"mode\":\"immediate\",\"frame\":{\"duration\":50,\"redraw\":true},\"transition\":{\"duration\":0}}],\"label\":\"156.7\",\"method\":\"animate\"},{\"args\":[[\"94\"],{\"mode\":\"immediate\",\"frame\":{\"duration\":50,\"redraw\":true},\"transition\":{\"duration\":0}}],\"label\":\"158.4\",\"method\":\"animate\"},{\"args\":[[\"95\"],{\"mode\":\"immediate\",\"frame\":{\"duration\":50,\"redraw\":true},\"transition\":{\"duration\":0}}],\"label\":\"160.0\",\"method\":\"animate\"},{\"args\":[[\"96\"],{\"mode\":\"immediate\",\"frame\":{\"duration\":50,\"redraw\":true},\"transition\":{\"duration\":0}}],\"label\":\"161.7\",\"method\":\"animate\"},{\"args\":[[\"97\"],{\"mode\":\"immediate\",\"frame\":{\"duration\":50,\"redraw\":true},\"transition\":{\"duration\":0}}],\"label\":\"163.4\",\"method\":\"animate\"},{\"args\":[[\"98\"],{\"mode\":\"immediate\",\"frame\":{\"duration\":50,\"redraw\":true},\"transition\":{\"duration\":0}}],\"label\":\"165.1\",\"method\":\"animate\"},{\"args\":[[\"99\"],{\"mode\":\"immediate\",\"frame\":{\"duration\":50,\"redraw\":true},\"transition\":{\"duration\":0}}],\"label\":\"166.8\",\"method\":\"animate\"},{\"args\":[[\"100\"],{\"mode\":\"immediate\",\"frame\":{\"duration\":50,\"redraw\":true},\"transition\":{\"duration\":0}}],\"label\":\"168.5\",\"method\":\"animate\"},{\"args\":[[\"101\"],{\"mode\":\"immediate\",\"frame\":{\"duration\":50,\"redraw\":true},\"transition\":{\"duration\":0}}],\"label\":\"170.1\",\"method\":\"animate\"},{\"args\":[[\"102\"],{\"mode\":\"immediate\",\"frame\":{\"duration\":50,\"redraw\":true},\"transition\":{\"duration\":0}}],\"label\":\"171.8\",\"method\":\"animate\"},{\"args\":[[\"103\"],{\"mode\":\"immediate\",\"frame\":{\"duration\":50,\"redraw\":true},\"transition\":{\"duration\":0}}],\"label\":\"173.5\",\"method\":\"animate\"},{\"args\":[[\"104\"],{\"mode\":\"immediate\",\"frame\":{\"duration\":50,\"redraw\":true},\"transition\":{\"duration\":0}}],\"label\":\"175.2\",\"method\":\"animate\"},{\"args\":[[\"105\"],{\"mode\":\"immediate\",\"frame\":{\"duration\":50,\"redraw\":true},\"transition\":{\"duration\":0}}],\"label\":\"176.9\",\"method\":\"animate\"},{\"args\":[[\"106\"],{\"mode\":\"immediate\",\"frame\":{\"duration\":50,\"redraw\":true},\"transition\":{\"duration\":0}}],\"label\":\"178.6\",\"method\":\"animate\"},{\"args\":[[\"107\"],{\"mode\":\"immediate\",\"frame\":{\"duration\":50,\"redraw\":true},\"transition\":{\"duration\":0}}],\"label\":\"180.3\",\"method\":\"animate\"},{\"args\":[[\"108\"],{\"mode\":\"immediate\",\"frame\":{\"duration\":50,\"redraw\":true},\"transition\":{\"duration\":0}}],\"label\":\"181.9\",\"method\":\"animate\"},{\"args\":[[\"109\"],{\"mode\":\"immediate\",\"frame\":{\"duration\":50,\"redraw\":true},\"transition\":{\"duration\":0}}],\"label\":\"183.6\",\"method\":\"animate\"},{\"args\":[[\"110\"],{\"mode\":\"immediate\",\"frame\":{\"duration\":50,\"redraw\":true},\"transition\":{\"duration\":0}}],\"label\":\"185.3\",\"method\":\"animate\"},{\"args\":[[\"111\"],{\"mode\":\"immediate\",\"frame\":{\"duration\":50,\"redraw\":true},\"transition\":{\"duration\":0}}],\"label\":\"187.0\",\"method\":\"animate\"},{\"args\":[[\"112\"],{\"mode\":\"immediate\",\"frame\":{\"duration\":50,\"redraw\":true},\"transition\":{\"duration\":0}}],\"label\":\"188.7\",\"method\":\"animate\"},{\"args\":[[\"113\"],{\"mode\":\"immediate\",\"frame\":{\"duration\":50,\"redraw\":true},\"transition\":{\"duration\":0}}],\"label\":\"190.4\",\"method\":\"animate\"},{\"args\":[[\"114\"],{\"mode\":\"immediate\",\"frame\":{\"duration\":50,\"redraw\":true},\"transition\":{\"duration\":0}}],\"label\":\"192.0\",\"method\":\"animate\"},{\"args\":[[\"115\"],{\"mode\":\"immediate\",\"frame\":{\"duration\":50,\"redraw\":true},\"transition\":{\"duration\":0}}],\"label\":\"193.7\",\"method\":\"animate\"},{\"args\":[[\"116\"],{\"mode\":\"immediate\",\"frame\":{\"duration\":50,\"redraw\":true},\"transition\":{\"duration\":0}}],\"label\":\"195.4\",\"method\":\"animate\"},{\"args\":[[\"117\"],{\"mode\":\"immediate\",\"frame\":{\"duration\":50,\"redraw\":true},\"transition\":{\"duration\":0}}],\"label\":\"197.1\",\"method\":\"animate\"},{\"args\":[[\"118\"],{\"mode\":\"immediate\",\"frame\":{\"duration\":50,\"redraw\":true},\"transition\":{\"duration\":0}}],\"label\":\"198.8\",\"method\":\"animate\"},{\"args\":[[\"119\"],{\"mode\":\"immediate\",\"frame\":{\"duration\":50,\"redraw\":true},\"transition\":{\"duration\":0}}],\"label\":\"200.5\",\"method\":\"animate\"},{\"args\":[[\"120\"],{\"mode\":\"immediate\",\"frame\":{\"duration\":50,\"redraw\":true},\"transition\":{\"duration\":0}}],\"label\":\"202.2\",\"method\":\"animate\"},{\"args\":[[\"121\"],{\"mode\":\"immediate\",\"frame\":{\"duration\":50,\"redraw\":true},\"transition\":{\"duration\":0}}],\"label\":\"203.8\",\"method\":\"animate\"},{\"args\":[[\"122\"],{\"mode\":\"immediate\",\"frame\":{\"duration\":50,\"redraw\":true},\"transition\":{\"duration\":0}}],\"label\":\"205.5\",\"method\":\"animate\"},{\"args\":[[\"123\"],{\"mode\":\"immediate\",\"frame\":{\"duration\":50,\"redraw\":true},\"transition\":{\"duration\":0}}],\"label\":\"207.2\",\"method\":\"animate\"},{\"args\":[[\"124\"],{\"mode\":\"immediate\",\"frame\":{\"duration\":50,\"redraw\":true},\"transition\":{\"duration\":0}}],\"label\":\"208.9\",\"method\":\"animate\"},{\"args\":[[\"125\"],{\"mode\":\"immediate\",\"frame\":{\"duration\":50,\"redraw\":true},\"transition\":{\"duration\":0}}],\"label\":\"210.6\",\"method\":\"animate\"},{\"args\":[[\"126\"],{\"mode\":\"immediate\",\"frame\":{\"duration\":50,\"redraw\":true},\"transition\":{\"duration\":0}}],\"label\":\"212.3\",\"method\":\"animate\"},{\"args\":[[\"127\"],{\"mode\":\"immediate\",\"frame\":{\"duration\":50,\"redraw\":true},\"transition\":{\"duration\":0}}],\"label\":\"213.9\",\"method\":\"animate\"},{\"args\":[[\"128\"],{\"mode\":\"immediate\",\"frame\":{\"duration\":50,\"redraw\":true},\"transition\":{\"duration\":0}}],\"label\":\"215.6\",\"method\":\"animate\"},{\"args\":[[\"129\"],{\"mode\":\"immediate\",\"frame\":{\"duration\":50,\"redraw\":true},\"transition\":{\"duration\":0}}],\"label\":\"217.3\",\"method\":\"animate\"},{\"args\":[[\"130\"],{\"mode\":\"immediate\",\"frame\":{\"duration\":50,\"redraw\":true},\"transition\":{\"duration\":0}}],\"label\":\"219.0\",\"method\":\"animate\"},{\"args\":[[\"131\"],{\"mode\":\"immediate\",\"frame\":{\"duration\":50,\"redraw\":true},\"transition\":{\"duration\":0}}],\"label\":\"220.7\",\"method\":\"animate\"},{\"args\":[[\"132\"],{\"mode\":\"immediate\",\"frame\":{\"duration\":50,\"redraw\":true},\"transition\":{\"duration\":0}}],\"label\":\"222.4\",\"method\":\"animate\"},{\"args\":[[\"133\"],{\"mode\":\"immediate\",\"frame\":{\"duration\":50,\"redraw\":true},\"transition\":{\"duration\":0}}],\"label\":\"224.1\",\"method\":\"animate\"},{\"args\":[[\"134\"],{\"mode\":\"immediate\",\"frame\":{\"duration\":50,\"redraw\":true},\"transition\":{\"duration\":0}}],\"label\":\"225.7\",\"method\":\"animate\"},{\"args\":[[\"135\"],{\"mode\":\"immediate\",\"frame\":{\"duration\":50,\"redraw\":true},\"transition\":{\"duration\":0}}],\"label\":\"227.4\",\"method\":\"animate\"},{\"args\":[[\"136\"],{\"mode\":\"immediate\",\"frame\":{\"duration\":50,\"redraw\":true},\"transition\":{\"duration\":0}}],\"label\":\"229.1\",\"method\":\"animate\"},{\"args\":[[\"137\"],{\"mode\":\"immediate\",\"frame\":{\"duration\":50,\"redraw\":true},\"transition\":{\"duration\":0}}],\"label\":\"230.8\",\"method\":\"animate\"},{\"args\":[[\"138\"],{\"mode\":\"immediate\",\"frame\":{\"duration\":50,\"redraw\":true},\"transition\":{\"duration\":0}}],\"label\":\"232.5\",\"method\":\"animate\"},{\"args\":[[\"139\"],{\"mode\":\"immediate\",\"frame\":{\"duration\":50,\"redraw\":true},\"transition\":{\"duration\":0}}],\"label\":\"234.2\",\"method\":\"animate\"},{\"args\":[[\"140\"],{\"mode\":\"immediate\",\"frame\":{\"duration\":50,\"redraw\":true},\"transition\":{\"duration\":0}}],\"label\":\"235.8\",\"method\":\"animate\"},{\"args\":[[\"141\"],{\"mode\":\"immediate\",\"frame\":{\"duration\":50,\"redraw\":true},\"transition\":{\"duration\":0}}],\"label\":\"237.5\",\"method\":\"animate\"},{\"args\":[[\"142\"],{\"mode\":\"immediate\",\"frame\":{\"duration\":50,\"redraw\":true},\"transition\":{\"duration\":0}}],\"label\":\"239.2\",\"method\":\"animate\"},{\"args\":[[\"143\"],{\"mode\":\"immediate\",\"frame\":{\"duration\":50,\"redraw\":true},\"transition\":{\"duration\":0}}],\"label\":\"240.9\",\"method\":\"animate\"},{\"args\":[[\"144\"],{\"mode\":\"immediate\",\"frame\":{\"duration\":50,\"redraw\":true},\"transition\":{\"duration\":0}}],\"label\":\"242.6\",\"method\":\"animate\"},{\"args\":[[\"145\"],{\"mode\":\"immediate\",\"frame\":{\"duration\":50,\"redraw\":true},\"transition\":{\"duration\":0}}],\"label\":\"244.3\",\"method\":\"animate\"},{\"args\":[[\"146\"],{\"mode\":\"immediate\",\"frame\":{\"duration\":50,\"redraw\":true},\"transition\":{\"duration\":0}}],\"label\":\"246.0\",\"method\":\"animate\"},{\"args\":[[\"147\"],{\"mode\":\"immediate\",\"frame\":{\"duration\":50,\"redraw\":true},\"transition\":{\"duration\":0}}],\"label\":\"247.6\",\"method\":\"animate\"},{\"args\":[[\"148\"],{\"mode\":\"immediate\",\"frame\":{\"duration\":50,\"redraw\":true},\"transition\":{\"duration\":0}}],\"label\":\"249.3\",\"method\":\"animate\"},{\"args\":[[\"149\"],{\"mode\":\"immediate\",\"frame\":{\"duration\":50,\"redraw\":true},\"transition\":{\"duration\":0}}],\"label\":\"251.0\",\"method\":\"animate\"},{\"args\":[[\"150\"],{\"mode\":\"immediate\",\"frame\":{\"duration\":50,\"redraw\":true},\"transition\":{\"duration\":0}}],\"label\":\"252.7\",\"method\":\"animate\"},{\"args\":[[\"151\"],{\"mode\":\"immediate\",\"frame\":{\"duration\":50,\"redraw\":true},\"transition\":{\"duration\":0}}],\"label\":\"254.4\",\"method\":\"animate\"},{\"args\":[[\"152\"],{\"mode\":\"immediate\",\"frame\":{\"duration\":50,\"redraw\":true},\"transition\":{\"duration\":0}}],\"label\":\"256.1\",\"method\":\"animate\"},{\"args\":[[\"153\"],{\"mode\":\"immediate\",\"frame\":{\"duration\":50,\"redraw\":true},\"transition\":{\"duration\":0}}],\"label\":\"257.7\",\"method\":\"animate\"},{\"args\":[[\"154\"],{\"mode\":\"immediate\",\"frame\":{\"duration\":50,\"redraw\":true},\"transition\":{\"duration\":0}}],\"label\":\"259.4\",\"method\":\"animate\"},{\"args\":[[\"155\"],{\"mode\":\"immediate\",\"frame\":{\"duration\":50,\"redraw\":true},\"transition\":{\"duration\":0}}],\"label\":\"261.1\",\"method\":\"animate\"},{\"args\":[[\"156\"],{\"mode\":\"immediate\",\"frame\":{\"duration\":50,\"redraw\":true},\"transition\":{\"duration\":0}}],\"label\":\"262.8\",\"method\":\"animate\"},{\"args\":[[\"157\"],{\"mode\":\"immediate\",\"frame\":{\"duration\":50,\"redraw\":true},\"transition\":{\"duration\":0}}],\"label\":\"264.5\",\"method\":\"animate\"},{\"args\":[[\"158\"],{\"mode\":\"immediate\",\"frame\":{\"duration\":50,\"redraw\":true},\"transition\":{\"duration\":0}}],\"label\":\"266.2\",\"method\":\"animate\"},{\"args\":[[\"159\"],{\"mode\":\"immediate\",\"frame\":{\"duration\":50,\"redraw\":true},\"transition\":{\"duration\":0}}],\"label\":\"267.9\",\"method\":\"animate\"},{\"args\":[[\"160\"],{\"mode\":\"immediate\",\"frame\":{\"duration\":50,\"redraw\":true},\"transition\":{\"duration\":0}}],\"label\":\"269.5\",\"method\":\"animate\"},{\"args\":[[\"161\"],{\"mode\":\"immediate\",\"frame\":{\"duration\":50,\"redraw\":true},\"transition\":{\"duration\":0}}],\"label\":\"271.2\",\"method\":\"animate\"},{\"args\":[[\"162\"],{\"mode\":\"immediate\",\"frame\":{\"duration\":50,\"redraw\":true},\"transition\":{\"duration\":0}}],\"label\":\"272.9\",\"method\":\"animate\"},{\"args\":[[\"163\"],{\"mode\":\"immediate\",\"frame\":{\"duration\":50,\"redraw\":true},\"transition\":{\"duration\":0}}],\"label\":\"274.6\",\"method\":\"animate\"},{\"args\":[[\"164\"],{\"mode\":\"immediate\",\"frame\":{\"duration\":50,\"redraw\":true},\"transition\":{\"duration\":0}}],\"label\":\"276.3\",\"method\":\"animate\"},{\"args\":[[\"165\"],{\"mode\":\"immediate\",\"frame\":{\"duration\":50,\"redraw\":true},\"transition\":{\"duration\":0}}],\"label\":\"278.0\",\"method\":\"animate\"},{\"args\":[[\"166\"],{\"mode\":\"immediate\",\"frame\":{\"duration\":50,\"redraw\":true},\"transition\":{\"duration\":0}}],\"label\":\"279.6\",\"method\":\"animate\"},{\"args\":[[\"167\"],{\"mode\":\"immediate\",\"frame\":{\"duration\":50,\"redraw\":true},\"transition\":{\"duration\":0}}],\"label\":\"281.3\",\"method\":\"animate\"},{\"args\":[[\"168\"],{\"mode\":\"immediate\",\"frame\":{\"duration\":50,\"redraw\":true},\"transition\":{\"duration\":0}}],\"label\":\"283.0\",\"method\":\"animate\"},{\"args\":[[\"169\"],{\"mode\":\"immediate\",\"frame\":{\"duration\":50,\"redraw\":true},\"transition\":{\"duration\":0}}],\"label\":\"284.7\",\"method\":\"animate\"},{\"args\":[[\"170\"],{\"mode\":\"immediate\",\"frame\":{\"duration\":50,\"redraw\":true},\"transition\":{\"duration\":0}}],\"label\":\"286.4\",\"method\":\"animate\"},{\"args\":[[\"171\"],{\"mode\":\"immediate\",\"frame\":{\"duration\":50,\"redraw\":true},\"transition\":{\"duration\":0}}],\"label\":\"288.1\",\"method\":\"animate\"},{\"args\":[[\"172\"],{\"mode\":\"immediate\",\"frame\":{\"duration\":50,\"redraw\":true},\"transition\":{\"duration\":0}}],\"label\":\"289.8\",\"method\":\"animate\"},{\"args\":[[\"173\"],{\"mode\":\"immediate\",\"frame\":{\"duration\":50,\"redraw\":true},\"transition\":{\"duration\":0}}],\"label\":\"291.4\",\"method\":\"animate\"},{\"args\":[[\"174\"],{\"mode\":\"immediate\",\"frame\":{\"duration\":50,\"redraw\":true},\"transition\":{\"duration\":0}}],\"label\":\"293.1\",\"method\":\"animate\"},{\"args\":[[\"175\"],{\"mode\":\"immediate\",\"frame\":{\"duration\":50,\"redraw\":true},\"transition\":{\"duration\":0}}],\"label\":\"294.8\",\"method\":\"animate\"},{\"args\":[[\"176\"],{\"mode\":\"immediate\",\"frame\":{\"duration\":50,\"redraw\":true},\"transition\":{\"duration\":0}}],\"label\":\"296.5\",\"method\":\"animate\"},{\"args\":[[\"177\"],{\"mode\":\"immediate\",\"frame\":{\"duration\":50,\"redraw\":true},\"transition\":{\"duration\":0}}],\"label\":\"298.2\",\"method\":\"animate\"},{\"args\":[[\"178\"],{\"mode\":\"immediate\",\"frame\":{\"duration\":50,\"redraw\":true},\"transition\":{\"duration\":0}}],\"label\":\"299.9\",\"method\":\"animate\"},{\"args\":[[\"179\"],{\"mode\":\"immediate\",\"frame\":{\"duration\":50,\"redraw\":true},\"transition\":{\"duration\":0}}],\"label\":\"301.5\",\"method\":\"animate\"},{\"args\":[[\"180\"],{\"mode\":\"immediate\",\"frame\":{\"duration\":50,\"redraw\":true},\"transition\":{\"duration\":0}}],\"label\":\"303.2\",\"method\":\"animate\"},{\"args\":[[\"181\"],{\"mode\":\"immediate\",\"frame\":{\"duration\":50,\"redraw\":true},\"transition\":{\"duration\":0}}],\"label\":\"304.9\",\"method\":\"animate\"},{\"args\":[[\"182\"],{\"mode\":\"immediate\",\"frame\":{\"duration\":50,\"redraw\":true},\"transition\":{\"duration\":0}}],\"label\":\"306.6\",\"method\":\"animate\"},{\"args\":[[\"183\"],{\"mode\":\"immediate\",\"frame\":{\"duration\":50,\"redraw\":true},\"transition\":{\"duration\":0}}],\"label\":\"308.3\",\"method\":\"animate\"},{\"args\":[[\"184\"],{\"mode\":\"immediate\",\"frame\":{\"duration\":50,\"redraw\":true},\"transition\":{\"duration\":0}}],\"label\":\"310.0\",\"method\":\"animate\"},{\"args\":[[\"185\"],{\"mode\":\"immediate\",\"frame\":{\"duration\":50,\"redraw\":true},\"transition\":{\"duration\":0}}],\"label\":\"311.7\",\"method\":\"animate\"},{\"args\":[[\"186\"],{\"mode\":\"immediate\",\"frame\":{\"duration\":50,\"redraw\":true},\"transition\":{\"duration\":0}}],\"label\":\"313.3\",\"method\":\"animate\"},{\"args\":[[\"187\"],{\"mode\":\"immediate\",\"frame\":{\"duration\":50,\"redraw\":true},\"transition\":{\"duration\":0}}],\"label\":\"315.0\",\"method\":\"animate\"},{\"args\":[[\"188\"],{\"mode\":\"immediate\",\"frame\":{\"duration\":50,\"redraw\":true},\"transition\":{\"duration\":0}}],\"label\":\"316.7\",\"method\":\"animate\"},{\"args\":[[\"189\"],{\"mode\":\"immediate\",\"frame\":{\"duration\":50,\"redraw\":true},\"transition\":{\"duration\":0}}],\"label\":\"318.4\",\"method\":\"animate\"},{\"args\":[[\"190\"],{\"mode\":\"immediate\",\"frame\":{\"duration\":50,\"redraw\":true},\"transition\":{\"duration\":0}}],\"label\":\"320.1\",\"method\":\"animate\"},{\"args\":[[\"191\"],{\"mode\":\"immediate\",\"frame\":{\"duration\":50,\"redraw\":true},\"transition\":{\"duration\":0}}],\"label\":\"321.8\",\"method\":\"animate\"},{\"args\":[[\"192\"],{\"mode\":\"immediate\",\"frame\":{\"duration\":50,\"redraw\":true},\"transition\":{\"duration\":0}}],\"label\":\"323.4\",\"method\":\"animate\"},{\"args\":[[\"193\"],{\"mode\":\"immediate\",\"frame\":{\"duration\":50,\"redraw\":true},\"transition\":{\"duration\":0}}],\"label\":\"325.1\",\"method\":\"animate\"},{\"args\":[[\"194\"],{\"mode\":\"immediate\",\"frame\":{\"duration\":50,\"redraw\":true},\"transition\":{\"duration\":0}}],\"label\":\"326.8\",\"method\":\"animate\"},{\"args\":[[\"195\"],{\"mode\":\"immediate\",\"frame\":{\"duration\":50,\"redraw\":true},\"transition\":{\"duration\":0}}],\"label\":\"328.5\",\"method\":\"animate\"},{\"args\":[[\"196\"],{\"mode\":\"immediate\",\"frame\":{\"duration\":50,\"redraw\":true},\"transition\":{\"duration\":0}}],\"label\":\"330.2\",\"method\":\"animate\"},{\"args\":[[\"197\"],{\"mode\":\"immediate\",\"frame\":{\"duration\":50,\"redraw\":true},\"transition\":{\"duration\":0}}],\"label\":\"331.9\",\"method\":\"animate\"},{\"args\":[[\"198\"],{\"mode\":\"immediate\",\"frame\":{\"duration\":50,\"redraw\":true},\"transition\":{\"duration\":0}}],\"label\":\"333.6\",\"method\":\"animate\"},{\"args\":[[\"199\"],{\"mode\":\"immediate\",\"frame\":{\"duration\":50,\"redraw\":true},\"transition\":{\"duration\":0}}],\"label\":\"335.2\",\"method\":\"animate\"}],\"x\":0,\"y\":0}],\"title\":{\"text\":\"Viaje de Part\\u00edcula Relativista en la Atm\\u00f3sfera\"},\"updatemenus\":[{\"buttons\":[{\"args\":[null,{\"frame\":{\"duration\":50,\"redraw\":true},\"transition\":{\"duration\":0},\"fromcurrent\":true,\"mode\":\"immediate\"}],\"label\":\"Play\",\"method\":\"animate\"}],\"showactive\":false,\"type\":\"buttons\",\"x\":1.15,\"xanchor\":\"right\",\"y\":1.05,\"yanchor\":\"top\"}],\"xaxis\":{\"range\":[-0.5,0.5],\"showticklabels\":false,\"zeroline\":false},\"yaxis\":{\"range\":[-1,11.0],\"title\":{\"text\":\"Altitud (km)\"}},\"template\":{\"data\":{\"histogram2dcontour\":[{\"type\":\"histogram2dcontour\",\"colorbar\":{\"outlinewidth\":0,\"ticks\":\"\"},\"colorscale\":[[0.0,\"#0d0887\"],[0.1111111111111111,\"#46039f\"],[0.2222222222222222,\"#7201a8\"],[0.3333333333333333,\"#9c179e\"],[0.4444444444444444,\"#bd3786\"],[0.5555555555555556,\"#d8576b\"],[0.6666666666666666,\"#ed7953\"],[0.7777777777777778,\"#fb9f3a\"],[0.8888888888888888,\"#fdca26\"],[1.0,\"#f0f921\"]]}],\"choropleth\":[{\"type\":\"choropleth\",\"colorbar\":{\"outlinewidth\":0,\"ticks\":\"\"}}],\"histogram2d\":[{\"type\":\"histogram2d\",\"colorbar\":{\"outlinewidth\":0,\"ticks\":\"\"},\"colorscale\":[[0.0,\"#0d0887\"],[0.1111111111111111,\"#46039f\"],[0.2222222222222222,\"#7201a8\"],[0.3333333333333333,\"#9c179e\"],[0.4444444444444444,\"#bd3786\"],[0.5555555555555556,\"#d8576b\"],[0.6666666666666666,\"#ed7953\"],[0.7777777777777778,\"#fb9f3a\"],[0.8888888888888888,\"#fdca26\"],[1.0,\"#f0f921\"]]}],\"heatmap\":[{\"type\":\"heatmap\",\"colorbar\":{\"outlinewidth\":0,\"ticks\":\"\"},\"colorscale\":[[0.0,\"#0d0887\"],[0.1111111111111111,\"#46039f\"],[0.2222222222222222,\"#7201a8\"],[0.3333333333333333,\"#9c179e\"],[0.4444444444444444,\"#bd3786\"],[0.5555555555555556,\"#d8576b\"],[0.6666666666666666,\"#ed7953\"],[0.7777777777777778,\"#fb9f3a\"],[0.8888888888888888,\"#fdca26\"],[1.0,\"#f0f921\"]]}],\"heatmapgl\":[{\"type\":\"heatmapgl\",\"colorbar\":{\"outlinewidth\":0,\"ticks\":\"\"},\"colorscale\":[[0.0,\"#0d0887\"],[0.1111111111111111,\"#46039f\"],[0.2222222222222222,\"#7201a8\"],[0.3333333333333333,\"#9c179e\"],[0.4444444444444444,\"#bd3786\"],[0.5555555555555556,\"#d8576b\"],[0.6666666666666666,\"#ed7953\"],[0.7777777777777778,\"#fb9f3a\"],[0.8888888888888888,\"#fdca26\"],[1.0,\"#f0f921\"]]}],\"contourcarpet\":[{\"type\":\"contourcarpet\",\"colorbar\":{\"outlinewidth\":0,\"ticks\":\"\"}}],\"contour\":[{\"type\":\"contour\",\"colorbar\":{\"outlinewidth\":0,\"ticks\":\"\"},\"colorscale\":[[0.0,\"#0d0887\"],[0.1111111111111111,\"#46039f\"],[0.2222222222222222,\"#7201a8\"],[0.3333333333333333,\"#9c179e\"],[0.4444444444444444,\"#bd3786\"],[0.5555555555555556,\"#d8576b\"],[0.6666666666666666,\"#ed7953\"],[0.7777777777777778,\"#fb9f3a\"],[0.8888888888888888,\"#fdca26\"],[1.0,\"#f0f921\"]]}],\"surface\":[{\"type\":\"surface\",\"colorbar\":{\"outlinewidth\":0,\"ticks\":\"\"},\"colorscale\":[[0.0,\"#0d0887\"],[0.1111111111111111,\"#46039f\"],[0.2222222222222222,\"#7201a8\"],[0.3333333333333333,\"#9c179e\"],[0.4444444444444444,\"#bd3786\"],[0.5555555555555556,\"#d8576b\"],[0.6666666666666666,\"#ed7953\"],[0.7777777777777778,\"#fb9f3a\"],[0.8888888888888888,\"#fdca26\"],[1.0,\"#f0f921\"]]}],\"mesh3d\":[{\"type\":\"mesh3d\",\"colorbar\":{\"outlinewidth\":0,\"ticks\":\"\"}}],\"scatter\":[{\"fillpattern\":{\"fillmode\":\"overlay\",\"size\":10,\"solidity\":0.2},\"type\":\"scatter\"}],\"parcoords\":[{\"type\":\"parcoords\",\"line\":{\"colorbar\":{\"outlinewidth\":0,\"ticks\":\"\"}}}],\"scatterpolargl\":[{\"type\":\"scatterpolargl\",\"marker\":{\"colorbar\":{\"outlinewidth\":0,\"ticks\":\"\"}}}],\"bar\":[{\"error_x\":{\"color\":\"#2a3f5f\"},\"error_y\":{\"color\":\"#2a3f5f\"},\"marker\":{\"line\":{\"color\":\"#E5ECF6\",\"width\":0.5},\"pattern\":{\"fillmode\":\"overlay\",\"size\":10,\"solidity\":0.2}},\"type\":\"bar\"}],\"scattergeo\":[{\"type\":\"scattergeo\",\"marker\":{\"colorbar\":{\"outlinewidth\":0,\"ticks\":\"\"}}}],\"scatterpolar\":[{\"type\":\"scatterpolar\",\"marker\":{\"colorbar\":{\"outlinewidth\":0,\"ticks\":\"\"}}}],\"histogram\":[{\"marker\":{\"pattern\":{\"fillmode\":\"overlay\",\"size\":10,\"solidity\":0.2}},\"type\":\"histogram\"}],\"scattergl\":[{\"type\":\"scattergl\",\"marker\":{\"colorbar\":{\"outlinewidth\":0,\"ticks\":\"\"}}}],\"scatter3d\":[{\"type\":\"scatter3d\",\"line\":{\"colorbar\":{\"outlinewidth\":0,\"ticks\":\"\"}},\"marker\":{\"colorbar\":{\"outlinewidth\":0,\"ticks\":\"\"}}}],\"scattermapbox\":[{\"type\":\"scattermapbox\",\"marker\":{\"colorbar\":{\"outlinewidth\":0,\"ticks\":\"\"}}}],\"scatterternary\":[{\"type\":\"scatterternary\",\"marker\":{\"colorbar\":{\"outlinewidth\":0,\"ticks\":\"\"}}}],\"scattercarpet\":[{\"type\":\"scattercarpet\",\"marker\":{\"colorbar\":{\"outlinewidth\":0,\"ticks\":\"\"}}}],\"carpet\":[{\"aaxis\":{\"endlinecolor\":\"#2a3f5f\",\"gridcolor\":\"white\",\"linecolor\":\"white\",\"minorgridcolor\":\"white\",\"startlinecolor\":\"#2a3f5f\"},\"baxis\":{\"endlinecolor\":\"#2a3f5f\",\"gridcolor\":\"white\",\"linecolor\":\"white\",\"minorgridcolor\":\"white\",\"startlinecolor\":\"#2a3f5f\"},\"type\":\"carpet\"}],\"table\":[{\"cells\":{\"fill\":{\"color\":\"#EBF0F8\"},\"line\":{\"color\":\"white\"}},\"header\":{\"fill\":{\"color\":\"#C8D4E3\"},\"line\":{\"color\":\"white\"}},\"type\":\"table\"}],\"barpolar\":[{\"marker\":{\"line\":{\"color\":\"#E5ECF6\",\"width\":0.5},\"pattern\":{\"fillmode\":\"overlay\",\"size\":10,\"solidity\":0.2}},\"type\":\"barpolar\"}],\"pie\":[{\"automargin\":true,\"type\":\"pie\"}]},\"layout\":{\"autotypenumbers\":\"strict\",\"colorway\":[\"#636efa\",\"#EF553B\",\"#00cc96\",\"#ab63fa\",\"#FFA15A\",\"#19d3f3\",\"#FF6692\",\"#B6E880\",\"#FF97FF\",\"#FECB52\"],\"font\":{\"color\":\"#2a3f5f\"},\"hovermode\":\"closest\",\"hoverlabel\":{\"align\":\"left\"},\"paper_bgcolor\":\"white\",\"plot_bgcolor\":\"#E5ECF6\",\"polar\":{\"bgcolor\":\"#E5ECF6\",\"angularaxis\":{\"gridcolor\":\"white\",\"linecolor\":\"white\",\"ticks\":\"\"},\"radialaxis\":{\"gridcolor\":\"white\",\"linecolor\":\"white\",\"ticks\":\"\"}},\"ternary\":{\"bgcolor\":\"#E5ECF6\",\"aaxis\":{\"gridcolor\":\"white\",\"linecolor\":\"white\",\"ticks\":\"\"},\"baxis\":{\"gridcolor\":\"white\",\"linecolor\":\"white\",\"ticks\":\"\"},\"caxis\":{\"gridcolor\":\"white\",\"linecolor\":\"white\",\"ticks\":\"\"}},\"coloraxis\":{\"colorbar\":{\"outlinewidth\":0,\"ticks\":\"\"}},\"colorscale\":{\"sequential\":[[0.0,\"#0d0887\"],[0.1111111111111111,\"#46039f\"],[0.2222222222222222,\"#7201a8\"],[0.3333333333333333,\"#9c179e\"],[0.4444444444444444,\"#bd3786\"],[0.5555555555555556,\"#d8576b\"],[0.6666666666666666,\"#ed7953\"],[0.7777777777777778,\"#fb9f3a\"],[0.8888888888888888,\"#fdca26\"],[1.0,\"#f0f921\"]],\"sequentialminus\":[[0.0,\"#0d0887\"],[0.1111111111111111,\"#46039f\"],[0.2222222222222222,\"#7201a8\"],[0.3333333333333333,\"#9c179e\"],[0.4444444444444444,\"#bd3786\"],[0.5555555555555556,\"#d8576b\"],[0.6666666666666666,\"#ed7953\"],[0.7777777777777778,\"#fb9f3a\"],[0.8888888888888888,\"#fdca26\"],[1.0,\"#f0f921\"]],\"diverging\":[[0,\"#8e0152\"],[0.1,\"#c51b7d\"],[0.2,\"#de77ae\"],[0.3,\"#f1b6da\"],[0.4,\"#fde0ef\"],[0.5,\"#f7f7f7\"],[0.6,\"#e6f5d0\"],[0.7,\"#b8e186\"],[0.8,\"#7fbc41\"],[0.9,\"#4d9221\"],[1,\"#276419\"]]},\"xaxis\":{\"gridcolor\":\"white\",\"linecolor\":\"white\",\"ticks\":\"\",\"title\":{\"standoff\":15},\"zerolinecolor\":\"white\",\"automargin\":true,\"zerolinewidth\":2},\"yaxis\":{\"gridcolor\":\"white\",\"linecolor\":\"white\",\"ticks\":\"\",\"title\":{\"standoff\":15},\"zerolinecolor\":\"white\",\"automargin\":true,\"zerolinewidth\":2},\"scene\":{\"xaxis\":{\"backgroundcolor\":\"#E5ECF6\",\"gridcolor\":\"white\",\"linecolor\":\"white\",\"showbackground\":true,\"ticks\":\"\",\"zerolinecolor\":\"white\",\"gridwidth\":2},\"yaxis\":{\"backgroundcolor\":\"#E5ECF6\",\"gridcolor\":\"white\",\"linecolor\":\"white\",\"showbackground\":true,\"ticks\":\"\",\"zerolinecolor\":\"white\",\"gridwidth\":2},\"zaxis\":{\"backgroundcolor\":\"#E5ECF6\",\"gridcolor\":\"white\",\"linecolor\":\"white\",\"showbackground\":true,\"ticks\":\"\",\"zerolinecolor\":\"white\",\"gridwidth\":2}},\"shapedefaults\":{\"line\":{\"color\":\"#2a3f5f\"}},\"annotationdefaults\":{\"arrowcolor\":\"#2a3f5f\",\"arrowhead\":0,\"arrowwidth\":1},\"geo\":{\"bgcolor\":\"white\",\"landcolor\":\"#E5ECF6\",\"subunitcolor\":\"white\",\"showland\":true,\"showlakes\":true,\"lakecolor\":\"white\"},\"title\":{\"x\":0.05},\"mapbox\":{\"style\":\"light\"}}}},                        {\"responsive\": true}                    ).then(function(){\n",
       "                            Plotly.addFrames('1dd99715-048b-448f-acfa-f4d669c02291', [{\"data\":[{\"line\":{\"color\":\"green\",\"width\":4},\"mode\":\"lines\",\"name\":\"Superficie\",\"x\":[-1,1],\"y\":[0,0],\"type\":\"scatter\"},{\"line\":{\"color\":\"lightblue\",\"dash\":\"dash\",\"width\":4},\"mode\":\"lines\",\"name\":\"Tope Atm\\u00f3sfera\",\"x\":[-1,1],\"y\":[10.0,10.0],\"type\":\"scatter\"},{\"line\":{\"color\":\"grey\",\"dash\":\"dot\",\"width\":1},\"mode\":\"lines\",\"x\":[0,0],\"y\":[10.0,10.0],\"type\":\"scatter\"},{\"marker\":{\"color\":\"red\",\"size\":10},\"mode\":\"markers\",\"x\":[0],\"y\":[10.0],\"type\":\"scatter\"},{\"marker\":{\"color\":\"black\",\"size\":12,\"symbol\":\"x\"},\"mode\":\"markers\",\"x\":[0],\"y\":[null],\"type\":\"scatter\"}],\"layout\":{\"annotations\":[{\"showarrow\":false,\"text\":\"V\\u002fc=0.995, \\u03b3=10.01, \\u0394\\u03c4=2.20\\u00b5s, H=10.0km\",\"x\":0.01,\"xref\":\"paper\",\"y\":1.12,\"yref\":\"paper\"},{\"showarrow\":false,\"text\":\"t=0.000\\u00b5s, \\u03c4=0.000\\u00b5s\",\"x\":0.01,\"xref\":\"paper\",\"y\":1.06,\"yref\":\"paper\"},{\"font\":{\"color\":\"blue\",\"size\":14},\"showarrow\":false,\"text\":\"En vuelo\",\"x\":0.99,\"xref\":\"paper\",\"y\":1.05,\"yref\":\"paper\"}]},\"name\":\"0\"},{\"data\":[{\"line\":{\"color\":\"green\",\"width\":4},\"mode\":\"lines\",\"name\":\"Superficie\",\"x\":[-1,1],\"y\":[0,0],\"type\":\"scatter\"},{\"line\":{\"color\":\"lightblue\",\"dash\":\"dash\",\"width\":4},\"mode\":\"lines\",\"name\":\"Tope Atm\\u00f3sfera\",\"x\":[-1,1],\"y\":[10.0,10.0],\"type\":\"scatter\"},{\"line\":{\"color\":\"grey\",\"dash\":\"dot\",\"width\":1},\"mode\":\"lines\",\"x\":[0,0],\"y\":[10.0,9.949748743718592],\"type\":\"scatter\"},{\"marker\":{\"color\":\"red\",\"size\":10},\"mode\":\"markers\",\"x\":[0],\"y\":[9.949748743718592],\"type\":\"scatter\"},{\"marker\":{\"color\":\"black\",\"size\":12,\"symbol\":\"x\"},\"mode\":\"markers\",\"x\":[0],\"y\":[null],\"type\":\"scatter\"}],\"layout\":{\"annotations\":[{\"showarrow\":false,\"text\":\"V\\u002fc=0.995, \\u03b3=10.01, \\u0394\\u03c4=2.20\\u00b5s, H=10.0km\",\"x\":0.01,\"xref\":\"paper\",\"y\":1.12,\"yref\":\"paper\"},{\"showarrow\":false,\"text\":\"t=0.168\\u00b5s, \\u03c4=0.017\\u00b5s\",\"x\":0.01,\"xref\":\"paper\",\"y\":1.06,\"yref\":\"paper\"},{\"font\":{\"color\":\"blue\",\"size\":14},\"showarrow\":false,\"text\":\"En vuelo\",\"x\":0.99,\"xref\":\"paper\",\"y\":1.05,\"yref\":\"paper\"}]},\"name\":\"1\"},{\"data\":[{\"line\":{\"color\":\"green\",\"width\":4},\"mode\":\"lines\",\"name\":\"Superficie\",\"x\":[-1,1],\"y\":[0,0],\"type\":\"scatter\"},{\"line\":{\"color\":\"lightblue\",\"dash\":\"dash\",\"width\":4},\"mode\":\"lines\",\"name\":\"Tope Atm\\u00f3sfera\",\"x\":[-1,1],\"y\":[10.0,10.0],\"type\":\"scatter\"},{\"line\":{\"color\":\"grey\",\"dash\":\"dot\",\"width\":1},\"mode\":\"lines\",\"x\":[0,0],\"y\":[10.0,9.899497487437186],\"type\":\"scatter\"},{\"marker\":{\"color\":\"red\",\"size\":10},\"mode\":\"markers\",\"x\":[0],\"y\":[9.899497487437186],\"type\":\"scatter\"},{\"marker\":{\"color\":\"black\",\"size\":12,\"symbol\":\"x\"},\"mode\":\"markers\",\"x\":[0],\"y\":[null],\"type\":\"scatter\"}],\"layout\":{\"annotations\":[{\"showarrow\":false,\"text\":\"V\\u002fc=0.995, \\u03b3=10.01, \\u0394\\u03c4=2.20\\u00b5s, H=10.0km\",\"x\":0.01,\"xref\":\"paper\",\"y\":1.12,\"yref\":\"paper\"},{\"showarrow\":false,\"text\":\"t=0.337\\u00b5s, \\u03c4=0.034\\u00b5s\",\"x\":0.01,\"xref\":\"paper\",\"y\":1.06,\"yref\":\"paper\"},{\"font\":{\"color\":\"blue\",\"size\":14},\"showarrow\":false,\"text\":\"En vuelo\",\"x\":0.99,\"xref\":\"paper\",\"y\":1.05,\"yref\":\"paper\"}]},\"name\":\"2\"},{\"data\":[{\"line\":{\"color\":\"green\",\"width\":4},\"mode\":\"lines\",\"name\":\"Superficie\",\"x\":[-1,1],\"y\":[0,0],\"type\":\"scatter\"},{\"line\":{\"color\":\"lightblue\",\"dash\":\"dash\",\"width\":4},\"mode\":\"lines\",\"name\":\"Tope Atm\\u00f3sfera\",\"x\":[-1,1],\"y\":[10.0,10.0],\"type\":\"scatter\"},{\"line\":{\"color\":\"grey\",\"dash\":\"dot\",\"width\":1},\"mode\":\"lines\",\"x\":[0,0],\"y\":[10.0,9.849246231155778],\"type\":\"scatter\"},{\"marker\":{\"color\":\"red\",\"size\":10},\"mode\":\"markers\",\"x\":[0],\"y\":[9.849246231155778],\"type\":\"scatter\"},{\"marker\":{\"color\":\"black\",\"size\":12,\"symbol\":\"x\"},\"mode\":\"markers\",\"x\":[0],\"y\":[null],\"type\":\"scatter\"}],\"layout\":{\"annotations\":[{\"showarrow\":false,\"text\":\"V\\u002fc=0.995, \\u03b3=10.01, \\u0394\\u03c4=2.20\\u00b5s, H=10.0km\",\"x\":0.01,\"xref\":\"paper\",\"y\":1.12,\"yref\":\"paper\"},{\"showarrow\":false,\"text\":\"t=0.505\\u00b5s, \\u03c4=0.050\\u00b5s\",\"x\":0.01,\"xref\":\"paper\",\"y\":1.06,\"yref\":\"paper\"},{\"font\":{\"color\":\"blue\",\"size\":14},\"showarrow\":false,\"text\":\"En vuelo\",\"x\":0.99,\"xref\":\"paper\",\"y\":1.05,\"yref\":\"paper\"}]},\"name\":\"3\"},{\"data\":[{\"line\":{\"color\":\"green\",\"width\":4},\"mode\":\"lines\",\"name\":\"Superficie\",\"x\":[-1,1],\"y\":[0,0],\"type\":\"scatter\"},{\"line\":{\"color\":\"lightblue\",\"dash\":\"dash\",\"width\":4},\"mode\":\"lines\",\"name\":\"Tope Atm\\u00f3sfera\",\"x\":[-1,1],\"y\":[10.0,10.0],\"type\":\"scatter\"},{\"line\":{\"color\":\"grey\",\"dash\":\"dot\",\"width\":1},\"mode\":\"lines\",\"x\":[0,0],\"y\":[10.0,9.798994974874372],\"type\":\"scatter\"},{\"marker\":{\"color\":\"red\",\"size\":10},\"mode\":\"markers\",\"x\":[0],\"y\":[9.798994974874372],\"type\":\"scatter\"},{\"marker\":{\"color\":\"black\",\"size\":12,\"symbol\":\"x\"},\"mode\":\"markers\",\"x\":[0],\"y\":[null],\"type\":\"scatter\"}],\"layout\":{\"annotations\":[{\"showarrow\":false,\"text\":\"V\\u002fc=0.995, \\u03b3=10.01, \\u0394\\u03c4=2.20\\u00b5s, H=10.0km\",\"x\":0.01,\"xref\":\"paper\",\"y\":1.12,\"yref\":\"paper\"},{\"showarrow\":false,\"text\":\"t=0.674\\u00b5s, \\u03c4=0.067\\u00b5s\",\"x\":0.01,\"xref\":\"paper\",\"y\":1.06,\"yref\":\"paper\"},{\"font\":{\"color\":\"blue\",\"size\":14},\"showarrow\":false,\"text\":\"En vuelo\",\"x\":0.99,\"xref\":\"paper\",\"y\":1.05,\"yref\":\"paper\"}]},\"name\":\"4\"},{\"data\":[{\"line\":{\"color\":\"green\",\"width\":4},\"mode\":\"lines\",\"name\":\"Superficie\",\"x\":[-1,1],\"y\":[0,0],\"type\":\"scatter\"},{\"line\":{\"color\":\"lightblue\",\"dash\":\"dash\",\"width\":4},\"mode\":\"lines\",\"name\":\"Tope Atm\\u00f3sfera\",\"x\":[-1,1],\"y\":[10.0,10.0],\"type\":\"scatter\"},{\"line\":{\"color\":\"grey\",\"dash\":\"dot\",\"width\":1},\"mode\":\"lines\",\"x\":[0,0],\"y\":[10.0,9.748743718592966],\"type\":\"scatter\"},{\"marker\":{\"color\":\"red\",\"size\":10},\"mode\":\"markers\",\"x\":[0],\"y\":[9.748743718592966],\"type\":\"scatter\"},{\"marker\":{\"color\":\"black\",\"size\":12,\"symbol\":\"x\"},\"mode\":\"markers\",\"x\":[0],\"y\":[null],\"type\":\"scatter\"}],\"layout\":{\"annotations\":[{\"showarrow\":false,\"text\":\"V\\u002fc=0.995, \\u03b3=10.01, \\u0394\\u03c4=2.20\\u00b5s, H=10.0km\",\"x\":0.01,\"xref\":\"paper\",\"y\":1.12,\"yref\":\"paper\"},{\"showarrow\":false,\"text\":\"t=0.842\\u00b5s, \\u03c4=0.084\\u00b5s\",\"x\":0.01,\"xref\":\"paper\",\"y\":1.06,\"yref\":\"paper\"},{\"font\":{\"color\":\"blue\",\"size\":14},\"showarrow\":false,\"text\":\"En vuelo\",\"x\":0.99,\"xref\":\"paper\",\"y\":1.05,\"yref\":\"paper\"}]},\"name\":\"5\"},{\"data\":[{\"line\":{\"color\":\"green\",\"width\":4},\"mode\":\"lines\",\"name\":\"Superficie\",\"x\":[-1,1],\"y\":[0,0],\"type\":\"scatter\"},{\"line\":{\"color\":\"lightblue\",\"dash\":\"dash\",\"width\":4},\"mode\":\"lines\",\"name\":\"Tope Atm\\u00f3sfera\",\"x\":[-1,1],\"y\":[10.0,10.0],\"type\":\"scatter\"},{\"line\":{\"color\":\"grey\",\"dash\":\"dot\",\"width\":1},\"mode\":\"lines\",\"x\":[0,0],\"y\":[10.0,9.698492462311558],\"type\":\"scatter\"},{\"marker\":{\"color\":\"red\",\"size\":10},\"mode\":\"markers\",\"x\":[0],\"y\":[9.698492462311558],\"type\":\"scatter\"},{\"marker\":{\"color\":\"black\",\"size\":12,\"symbol\":\"x\"},\"mode\":\"markers\",\"x\":[0],\"y\":[null],\"type\":\"scatter\"}],\"layout\":{\"annotations\":[{\"showarrow\":false,\"text\":\"V\\u002fc=0.995, \\u03b3=10.01, \\u0394\\u03c4=2.20\\u00b5s, H=10.0km\",\"x\":0.01,\"xref\":\"paper\",\"y\":1.12,\"yref\":\"paper\"},{\"showarrow\":false,\"text\":\"t=1.011\\u00b5s, \\u03c4=0.101\\u00b5s\",\"x\":0.01,\"xref\":\"paper\",\"y\":1.06,\"yref\":\"paper\"},{\"font\":{\"color\":\"blue\",\"size\":14},\"showarrow\":false,\"text\":\"En vuelo\",\"x\":0.99,\"xref\":\"paper\",\"y\":1.05,\"yref\":\"paper\"}]},\"name\":\"6\"},{\"data\":[{\"line\":{\"color\":\"green\",\"width\":4},\"mode\":\"lines\",\"name\":\"Superficie\",\"x\":[-1,1],\"y\":[0,0],\"type\":\"scatter\"},{\"line\":{\"color\":\"lightblue\",\"dash\":\"dash\",\"width\":4},\"mode\":\"lines\",\"name\":\"Tope Atm\\u00f3sfera\",\"x\":[-1,1],\"y\":[10.0,10.0],\"type\":\"scatter\"},{\"line\":{\"color\":\"grey\",\"dash\":\"dot\",\"width\":1},\"mode\":\"lines\",\"x\":[0,0],\"y\":[10.0,9.64824120603015],\"type\":\"scatter\"},{\"marker\":{\"color\":\"red\",\"size\":10},\"mode\":\"markers\",\"x\":[0],\"y\":[9.64824120603015],\"type\":\"scatter\"},{\"marker\":{\"color\":\"black\",\"size\":12,\"symbol\":\"x\"},\"mode\":\"markers\",\"x\":[0],\"y\":[null],\"type\":\"scatter\"}],\"layout\":{\"annotations\":[{\"showarrow\":false,\"text\":\"V\\u002fc=0.995, \\u03b3=10.01, \\u0394\\u03c4=2.20\\u00b5s, H=10.0km\",\"x\":0.01,\"xref\":\"paper\",\"y\":1.12,\"yref\":\"paper\"},{\"showarrow\":false,\"text\":\"t=1.179\\u00b5s, \\u03c4=0.118\\u00b5s\",\"x\":0.01,\"xref\":\"paper\",\"y\":1.06,\"yref\":\"paper\"},{\"font\":{\"color\":\"blue\",\"size\":14},\"showarrow\":false,\"text\":\"En vuelo\",\"x\":0.99,\"xref\":\"paper\",\"y\":1.05,\"yref\":\"paper\"}]},\"name\":\"7\"},{\"data\":[{\"line\":{\"color\":\"green\",\"width\":4},\"mode\":\"lines\",\"name\":\"Superficie\",\"x\":[-1,1],\"y\":[0,0],\"type\":\"scatter\"},{\"line\":{\"color\":\"lightblue\",\"dash\":\"dash\",\"width\":4},\"mode\":\"lines\",\"name\":\"Tope Atm\\u00f3sfera\",\"x\":[-1,1],\"y\":[10.0,10.0],\"type\":\"scatter\"},{\"line\":{\"color\":\"grey\",\"dash\":\"dot\",\"width\":1},\"mode\":\"lines\",\"x\":[0,0],\"y\":[10.0,9.597989949748744],\"type\":\"scatter\"},{\"marker\":{\"color\":\"red\",\"size\":10},\"mode\":\"markers\",\"x\":[0],\"y\":[9.597989949748744],\"type\":\"scatter\"},{\"marker\":{\"color\":\"black\",\"size\":12,\"symbol\":\"x\"},\"mode\":\"markers\",\"x\":[0],\"y\":[null],\"type\":\"scatter\"}],\"layout\":{\"annotations\":[{\"showarrow\":false,\"text\":\"V\\u002fc=0.995, \\u03b3=10.01, \\u0394\\u03c4=2.20\\u00b5s, H=10.0km\",\"x\":0.01,\"xref\":\"paper\",\"y\":1.12,\"yref\":\"paper\"},{\"showarrow\":false,\"text\":\"t=1.348\\u00b5s, \\u03c4=0.135\\u00b5s\",\"x\":0.01,\"xref\":\"paper\",\"y\":1.06,\"yref\":\"paper\"},{\"font\":{\"color\":\"blue\",\"size\":14},\"showarrow\":false,\"text\":\"En vuelo\",\"x\":0.99,\"xref\":\"paper\",\"y\":1.05,\"yref\":\"paper\"}]},\"name\":\"8\"},{\"data\":[{\"line\":{\"color\":\"green\",\"width\":4},\"mode\":\"lines\",\"name\":\"Superficie\",\"x\":[-1,1],\"y\":[0,0],\"type\":\"scatter\"},{\"line\":{\"color\":\"lightblue\",\"dash\":\"dash\",\"width\":4},\"mode\":\"lines\",\"name\":\"Tope Atm\\u00f3sfera\",\"x\":[-1,1],\"y\":[10.0,10.0],\"type\":\"scatter\"},{\"line\":{\"color\":\"grey\",\"dash\":\"dot\",\"width\":1},\"mode\":\"lines\",\"x\":[0,0],\"y\":[10.0,9.547738693467336],\"type\":\"scatter\"},{\"marker\":{\"color\":\"red\",\"size\":10},\"mode\":\"markers\",\"x\":[0],\"y\":[9.547738693467336],\"type\":\"scatter\"},{\"marker\":{\"color\":\"black\",\"size\":12,\"symbol\":\"x\"},\"mode\":\"markers\",\"x\":[0],\"y\":[null],\"type\":\"scatter\"}],\"layout\":{\"annotations\":[{\"showarrow\":false,\"text\":\"V\\u002fc=0.995, \\u03b3=10.01, \\u0394\\u03c4=2.20\\u00b5s, H=10.0km\",\"x\":0.01,\"xref\":\"paper\",\"y\":1.12,\"yref\":\"paper\"},{\"showarrow\":false,\"text\":\"t=1.516\\u00b5s, \\u03c4=0.151\\u00b5s\",\"x\":0.01,\"xref\":\"paper\",\"y\":1.06,\"yref\":\"paper\"},{\"font\":{\"color\":\"blue\",\"size\":14},\"showarrow\":false,\"text\":\"En vuelo\",\"x\":0.99,\"xref\":\"paper\",\"y\":1.05,\"yref\":\"paper\"}]},\"name\":\"9\"},{\"data\":[{\"line\":{\"color\":\"green\",\"width\":4},\"mode\":\"lines\",\"name\":\"Superficie\",\"x\":[-1,1],\"y\":[0,0],\"type\":\"scatter\"},{\"line\":{\"color\":\"lightblue\",\"dash\":\"dash\",\"width\":4},\"mode\":\"lines\",\"name\":\"Tope Atm\\u00f3sfera\",\"x\":[-1,1],\"y\":[10.0,10.0],\"type\":\"scatter\"},{\"line\":{\"color\":\"grey\",\"dash\":\"dot\",\"width\":1},\"mode\":\"lines\",\"x\":[0,0],\"y\":[10.0,9.49748743718593],\"type\":\"scatter\"},{\"marker\":{\"color\":\"red\",\"size\":10},\"mode\":\"markers\",\"x\":[0],\"y\":[9.49748743718593],\"type\":\"scatter\"},{\"marker\":{\"color\":\"black\",\"size\":12,\"symbol\":\"x\"},\"mode\":\"markers\",\"x\":[0],\"y\":[null],\"type\":\"scatter\"}],\"layout\":{\"annotations\":[{\"showarrow\":false,\"text\":\"V\\u002fc=0.995, \\u03b3=10.01, \\u0394\\u03c4=2.20\\u00b5s, H=10.0km\",\"x\":0.01,\"xref\":\"paper\",\"y\":1.12,\"yref\":\"paper\"},{\"showarrow\":false,\"text\":\"t=1.685\\u00b5s, \\u03c4=0.168\\u00b5s\",\"x\":0.01,\"xref\":\"paper\",\"y\":1.06,\"yref\":\"paper\"},{\"font\":{\"color\":\"blue\",\"size\":14},\"showarrow\":false,\"text\":\"En vuelo\",\"x\":0.99,\"xref\":\"paper\",\"y\":1.05,\"yref\":\"paper\"}]},\"name\":\"10\"},{\"data\":[{\"line\":{\"color\":\"green\",\"width\":4},\"mode\":\"lines\",\"name\":\"Superficie\",\"x\":[-1,1],\"y\":[0,0],\"type\":\"scatter\"},{\"line\":{\"color\":\"lightblue\",\"dash\":\"dash\",\"width\":4},\"mode\":\"lines\",\"name\":\"Tope Atm\\u00f3sfera\",\"x\":[-1,1],\"y\":[10.0,10.0],\"type\":\"scatter\"},{\"line\":{\"color\":\"grey\",\"dash\":\"dot\",\"width\":1},\"mode\":\"lines\",\"x\":[0,0],\"y\":[10.0,9.447236180904522],\"type\":\"scatter\"},{\"marker\":{\"color\":\"red\",\"size\":10},\"mode\":\"markers\",\"x\":[0],\"y\":[9.447236180904522],\"type\":\"scatter\"},{\"marker\":{\"color\":\"black\",\"size\":12,\"symbol\":\"x\"},\"mode\":\"markers\",\"x\":[0],\"y\":[null],\"type\":\"scatter\"}],\"layout\":{\"annotations\":[{\"showarrow\":false,\"text\":\"V\\u002fc=0.995, \\u03b3=10.01, \\u0394\\u03c4=2.20\\u00b5s, H=10.0km\",\"x\":0.01,\"xref\":\"paper\",\"y\":1.12,\"yref\":\"paper\"},{\"showarrow\":false,\"text\":\"t=1.853\\u00b5s, \\u03c4=0.185\\u00b5s\",\"x\":0.01,\"xref\":\"paper\",\"y\":1.06,\"yref\":\"paper\"},{\"font\":{\"color\":\"blue\",\"size\":14},\"showarrow\":false,\"text\":\"En vuelo\",\"x\":0.99,\"xref\":\"paper\",\"y\":1.05,\"yref\":\"paper\"}]},\"name\":\"11\"},{\"data\":[{\"line\":{\"color\":\"green\",\"width\":4},\"mode\":\"lines\",\"name\":\"Superficie\",\"x\":[-1,1],\"y\":[0,0],\"type\":\"scatter\"},{\"line\":{\"color\":\"lightblue\",\"dash\":\"dash\",\"width\":4},\"mode\":\"lines\",\"name\":\"Tope Atm\\u00f3sfera\",\"x\":[-1,1],\"y\":[10.0,10.0],\"type\":\"scatter\"},{\"line\":{\"color\":\"grey\",\"dash\":\"dot\",\"width\":1},\"mode\":\"lines\",\"x\":[0,0],\"y\":[10.0,9.396984924623116],\"type\":\"scatter\"},{\"marker\":{\"color\":\"red\",\"size\":10},\"mode\":\"markers\",\"x\":[0],\"y\":[9.396984924623116],\"type\":\"scatter\"},{\"marker\":{\"color\":\"black\",\"size\":12,\"symbol\":\"x\"},\"mode\":\"markers\",\"x\":[0],\"y\":[null],\"type\":\"scatter\"}],\"layout\":{\"annotations\":[{\"showarrow\":false,\"text\":\"V\\u002fc=0.995, \\u03b3=10.01, \\u0394\\u03c4=2.20\\u00b5s, H=10.0km\",\"x\":0.01,\"xref\":\"paper\",\"y\":1.12,\"yref\":\"paper\"},{\"showarrow\":false,\"text\":\"t=2.022\\u00b5s, \\u03c4=0.202\\u00b5s\",\"x\":0.01,\"xref\":\"paper\",\"y\":1.06,\"yref\":\"paper\"},{\"font\":{\"color\":\"blue\",\"size\":14},\"showarrow\":false,\"text\":\"En vuelo\",\"x\":0.99,\"xref\":\"paper\",\"y\":1.05,\"yref\":\"paper\"}]},\"name\":\"12\"},{\"data\":[{\"line\":{\"color\":\"green\",\"width\":4},\"mode\":\"lines\",\"name\":\"Superficie\",\"x\":[-1,1],\"y\":[0,0],\"type\":\"scatter\"},{\"line\":{\"color\":\"lightblue\",\"dash\":\"dash\",\"width\":4},\"mode\":\"lines\",\"name\":\"Tope Atm\\u00f3sfera\",\"x\":[-1,1],\"y\":[10.0,10.0],\"type\":\"scatter\"},{\"line\":{\"color\":\"grey\",\"dash\":\"dot\",\"width\":1},\"mode\":\"lines\",\"x\":[0,0],\"y\":[10.0,9.34673366834171],\"type\":\"scatter\"},{\"marker\":{\"color\":\"red\",\"size\":10},\"mode\":\"markers\",\"x\":[0],\"y\":[9.34673366834171],\"type\":\"scatter\"},{\"marker\":{\"color\":\"black\",\"size\":12,\"symbol\":\"x\"},\"mode\":\"markers\",\"x\":[0],\"y\":[null],\"type\":\"scatter\"}],\"layout\":{\"annotations\":[{\"showarrow\":false,\"text\":\"V\\u002fc=0.995, \\u03b3=10.01, \\u0394\\u03c4=2.20\\u00b5s, H=10.0km\",\"x\":0.01,\"xref\":\"paper\",\"y\":1.12,\"yref\":\"paper\"},{\"showarrow\":false,\"text\":\"t=2.190\\u00b5s, \\u03c4=0.219\\u00b5s\",\"x\":0.01,\"xref\":\"paper\",\"y\":1.06,\"yref\":\"paper\"},{\"font\":{\"color\":\"blue\",\"size\":14},\"showarrow\":false,\"text\":\"En vuelo\",\"x\":0.99,\"xref\":\"paper\",\"y\":1.05,\"yref\":\"paper\"}]},\"name\":\"13\"},{\"data\":[{\"line\":{\"color\":\"green\",\"width\":4},\"mode\":\"lines\",\"name\":\"Superficie\",\"x\":[-1,1],\"y\":[0,0],\"type\":\"scatter\"},{\"line\":{\"color\":\"lightblue\",\"dash\":\"dash\",\"width\":4},\"mode\":\"lines\",\"name\":\"Tope Atm\\u00f3sfera\",\"x\":[-1,1],\"y\":[10.0,10.0],\"type\":\"scatter\"},{\"line\":{\"color\":\"grey\",\"dash\":\"dot\",\"width\":1},\"mode\":\"lines\",\"x\":[0,0],\"y\":[10.0,9.296482412060302],\"type\":\"scatter\"},{\"marker\":{\"color\":\"red\",\"size\":10},\"mode\":\"markers\",\"x\":[0],\"y\":[9.296482412060302],\"type\":\"scatter\"},{\"marker\":{\"color\":\"black\",\"size\":12,\"symbol\":\"x\"},\"mode\":\"markers\",\"x\":[0],\"y\":[null],\"type\":\"scatter\"}],\"layout\":{\"annotations\":[{\"showarrow\":false,\"text\":\"V\\u002fc=0.995, \\u03b3=10.01, \\u0394\\u03c4=2.20\\u00b5s, H=10.0km\",\"x\":0.01,\"xref\":\"paper\",\"y\":1.12,\"yref\":\"paper\"},{\"showarrow\":false,\"text\":\"t=2.358\\u00b5s, \\u03c4=0.236\\u00b5s\",\"x\":0.01,\"xref\":\"paper\",\"y\":1.06,\"yref\":\"paper\"},{\"font\":{\"color\":\"blue\",\"size\":14},\"showarrow\":false,\"text\":\"En vuelo\",\"x\":0.99,\"xref\":\"paper\",\"y\":1.05,\"yref\":\"paper\"}]},\"name\":\"14\"},{\"data\":[{\"line\":{\"color\":\"green\",\"width\":4},\"mode\":\"lines\",\"name\":\"Superficie\",\"x\":[-1,1],\"y\":[0,0],\"type\":\"scatter\"},{\"line\":{\"color\":\"lightblue\",\"dash\":\"dash\",\"width\":4},\"mode\":\"lines\",\"name\":\"Tope Atm\\u00f3sfera\",\"x\":[-1,1],\"y\":[10.0,10.0],\"type\":\"scatter\"},{\"line\":{\"color\":\"grey\",\"dash\":\"dot\",\"width\":1},\"mode\":\"lines\",\"x\":[0,0],\"y\":[10.0,9.246231155778894],\"type\":\"scatter\"},{\"marker\":{\"color\":\"red\",\"size\":10},\"mode\":\"markers\",\"x\":[0],\"y\":[9.246231155778894],\"type\":\"scatter\"},{\"marker\":{\"color\":\"black\",\"size\":12,\"symbol\":\"x\"},\"mode\":\"markers\",\"x\":[0],\"y\":[null],\"type\":\"scatter\"}],\"layout\":{\"annotations\":[{\"showarrow\":false,\"text\":\"V\\u002fc=0.995, \\u03b3=10.01, \\u0394\\u03c4=2.20\\u00b5s, H=10.0km\",\"x\":0.01,\"xref\":\"paper\",\"y\":1.12,\"yref\":\"paper\"},{\"showarrow\":false,\"text\":\"t=2.527\\u00b5s, \\u03c4=0.252\\u00b5s\",\"x\":0.01,\"xref\":\"paper\",\"y\":1.06,\"yref\":\"paper\"},{\"font\":{\"color\":\"blue\",\"size\":14},\"showarrow\":false,\"text\":\"En vuelo\",\"x\":0.99,\"xref\":\"paper\",\"y\":1.05,\"yref\":\"paper\"}]},\"name\":\"15\"},{\"data\":[{\"line\":{\"color\":\"green\",\"width\":4},\"mode\":\"lines\",\"name\":\"Superficie\",\"x\":[-1,1],\"y\":[0,0],\"type\":\"scatter\"},{\"line\":{\"color\":\"lightblue\",\"dash\":\"dash\",\"width\":4},\"mode\":\"lines\",\"name\":\"Tope Atm\\u00f3sfera\",\"x\":[-1,1],\"y\":[10.0,10.0],\"type\":\"scatter\"},{\"line\":{\"color\":\"grey\",\"dash\":\"dot\",\"width\":1},\"mode\":\"lines\",\"x\":[0,0],\"y\":[10.0,9.195979899497488],\"type\":\"scatter\"},{\"marker\":{\"color\":\"red\",\"size\":10},\"mode\":\"markers\",\"x\":[0],\"y\":[9.195979899497488],\"type\":\"scatter\"},{\"marker\":{\"color\":\"black\",\"size\":12,\"symbol\":\"x\"},\"mode\":\"markers\",\"x\":[0],\"y\":[null],\"type\":\"scatter\"}],\"layout\":{\"annotations\":[{\"showarrow\":false,\"text\":\"V\\u002fc=0.995, \\u03b3=10.01, \\u0394\\u03c4=2.20\\u00b5s, H=10.0km\",\"x\":0.01,\"xref\":\"paper\",\"y\":1.12,\"yref\":\"paper\"},{\"showarrow\":false,\"text\":\"t=2.695\\u00b5s, \\u03c4=0.269\\u00b5s\",\"x\":0.01,\"xref\":\"paper\",\"y\":1.06,\"yref\":\"paper\"},{\"font\":{\"color\":\"blue\",\"size\":14},\"showarrow\":false,\"text\":\"En vuelo\",\"x\":0.99,\"xref\":\"paper\",\"y\":1.05,\"yref\":\"paper\"}]},\"name\":\"16\"},{\"data\":[{\"line\":{\"color\":\"green\",\"width\":4},\"mode\":\"lines\",\"name\":\"Superficie\",\"x\":[-1,1],\"y\":[0,0],\"type\":\"scatter\"},{\"line\":{\"color\":\"lightblue\",\"dash\":\"dash\",\"width\":4},\"mode\":\"lines\",\"name\":\"Tope Atm\\u00f3sfera\",\"x\":[-1,1],\"y\":[10.0,10.0],\"type\":\"scatter\"},{\"line\":{\"color\":\"grey\",\"dash\":\"dot\",\"width\":1},\"mode\":\"lines\",\"x\":[0,0],\"y\":[10.0,9.14572864321608],\"type\":\"scatter\"},{\"marker\":{\"color\":\"red\",\"size\":10},\"mode\":\"markers\",\"x\":[0],\"y\":[9.14572864321608],\"type\":\"scatter\"},{\"marker\":{\"color\":\"black\",\"size\":12,\"symbol\":\"x\"},\"mode\":\"markers\",\"x\":[0],\"y\":[null],\"type\":\"scatter\"}],\"layout\":{\"annotations\":[{\"showarrow\":false,\"text\":\"V\\u002fc=0.995, \\u03b3=10.01, \\u0394\\u03c4=2.20\\u00b5s, H=10.0km\",\"x\":0.01,\"xref\":\"paper\",\"y\":1.12,\"yref\":\"paper\"},{\"showarrow\":false,\"text\":\"t=2.864\\u00b5s, \\u03c4=0.286\\u00b5s\",\"x\":0.01,\"xref\":\"paper\",\"y\":1.06,\"yref\":\"paper\"},{\"font\":{\"color\":\"blue\",\"size\":14},\"showarrow\":false,\"text\":\"En vuelo\",\"x\":0.99,\"xref\":\"paper\",\"y\":1.05,\"yref\":\"paper\"}]},\"name\":\"17\"},{\"data\":[{\"line\":{\"color\":\"green\",\"width\":4},\"mode\":\"lines\",\"name\":\"Superficie\",\"x\":[-1,1],\"y\":[0,0],\"type\":\"scatter\"},{\"line\":{\"color\":\"lightblue\",\"dash\":\"dash\",\"width\":4},\"mode\":\"lines\",\"name\":\"Tope Atm\\u00f3sfera\",\"x\":[-1,1],\"y\":[10.0,10.0],\"type\":\"scatter\"},{\"line\":{\"color\":\"grey\",\"dash\":\"dot\",\"width\":1},\"mode\":\"lines\",\"x\":[0,0],\"y\":[10.0,9.095477386934673],\"type\":\"scatter\"},{\"marker\":{\"color\":\"red\",\"size\":10},\"mode\":\"markers\",\"x\":[0],\"y\":[9.095477386934673],\"type\":\"scatter\"},{\"marker\":{\"color\":\"black\",\"size\":12,\"symbol\":\"x\"},\"mode\":\"markers\",\"x\":[0],\"y\":[null],\"type\":\"scatter\"}],\"layout\":{\"annotations\":[{\"showarrow\":false,\"text\":\"V\\u002fc=0.995, \\u03b3=10.01, \\u0394\\u03c4=2.20\\u00b5s, H=10.0km\",\"x\":0.01,\"xref\":\"paper\",\"y\":1.12,\"yref\":\"paper\"},{\"showarrow\":false,\"text\":\"t=3.032\\u00b5s, \\u03c4=0.303\\u00b5s\",\"x\":0.01,\"xref\":\"paper\",\"y\":1.06,\"yref\":\"paper\"},{\"font\":{\"color\":\"blue\",\"size\":14},\"showarrow\":false,\"text\":\"En vuelo\",\"x\":0.99,\"xref\":\"paper\",\"y\":1.05,\"yref\":\"paper\"}]},\"name\":\"18\"},{\"data\":[{\"line\":{\"color\":\"green\",\"width\":4},\"mode\":\"lines\",\"name\":\"Superficie\",\"x\":[-1,1],\"y\":[0,0],\"type\":\"scatter\"},{\"line\":{\"color\":\"lightblue\",\"dash\":\"dash\",\"width\":4},\"mode\":\"lines\",\"name\":\"Tope Atm\\u00f3sfera\",\"x\":[-1,1],\"y\":[10.0,10.0],\"type\":\"scatter\"},{\"line\":{\"color\":\"grey\",\"dash\":\"dot\",\"width\":1},\"mode\":\"lines\",\"x\":[0,0],\"y\":[10.0,9.045226130653266],\"type\":\"scatter\"},{\"marker\":{\"color\":\"red\",\"size\":10},\"mode\":\"markers\",\"x\":[0],\"y\":[9.045226130653266],\"type\":\"scatter\"},{\"marker\":{\"color\":\"black\",\"size\":12,\"symbol\":\"x\"},\"mode\":\"markers\",\"x\":[0],\"y\":[null],\"type\":\"scatter\"}],\"layout\":{\"annotations\":[{\"showarrow\":false,\"text\":\"V\\u002fc=0.995, \\u03b3=10.01, \\u0394\\u03c4=2.20\\u00b5s, H=10.0km\",\"x\":0.01,\"xref\":\"paper\",\"y\":1.12,\"yref\":\"paper\"},{\"showarrow\":false,\"text\":\"t=3.201\\u00b5s, \\u03c4=0.320\\u00b5s\",\"x\":0.01,\"xref\":\"paper\",\"y\":1.06,\"yref\":\"paper\"},{\"font\":{\"color\":\"blue\",\"size\":14},\"showarrow\":false,\"text\":\"En vuelo\",\"x\":0.99,\"xref\":\"paper\",\"y\":1.05,\"yref\":\"paper\"}]},\"name\":\"19\"},{\"data\":[{\"line\":{\"color\":\"green\",\"width\":4},\"mode\":\"lines\",\"name\":\"Superficie\",\"x\":[-1,1],\"y\":[0,0],\"type\":\"scatter\"},{\"line\":{\"color\":\"lightblue\",\"dash\":\"dash\",\"width\":4},\"mode\":\"lines\",\"name\":\"Tope Atm\\u00f3sfera\",\"x\":[-1,1],\"y\":[10.0,10.0],\"type\":\"scatter\"},{\"line\":{\"color\":\"grey\",\"dash\":\"dot\",\"width\":1},\"mode\":\"lines\",\"x\":[0,0],\"y\":[10.0,8.99497487437186],\"type\":\"scatter\"},{\"marker\":{\"color\":\"red\",\"size\":10},\"mode\":\"markers\",\"x\":[0],\"y\":[8.99497487437186],\"type\":\"scatter\"},{\"marker\":{\"color\":\"black\",\"size\":12,\"symbol\":\"x\"},\"mode\":\"markers\",\"x\":[0],\"y\":[null],\"type\":\"scatter\"}],\"layout\":{\"annotations\":[{\"showarrow\":false,\"text\":\"V\\u002fc=0.995, \\u03b3=10.01, \\u0394\\u03c4=2.20\\u00b5s, H=10.0km\",\"x\":0.01,\"xref\":\"paper\",\"y\":1.12,\"yref\":\"paper\"},{\"showarrow\":false,\"text\":\"t=3.369\\u00b5s, \\u03c4=0.337\\u00b5s\",\"x\":0.01,\"xref\":\"paper\",\"y\":1.06,\"yref\":\"paper\"},{\"font\":{\"color\":\"blue\",\"size\":14},\"showarrow\":false,\"text\":\"En vuelo\",\"x\":0.99,\"xref\":\"paper\",\"y\":1.05,\"yref\":\"paper\"}]},\"name\":\"20\"},{\"data\":[{\"line\":{\"color\":\"green\",\"width\":4},\"mode\":\"lines\",\"name\":\"Superficie\",\"x\":[-1,1],\"y\":[0,0],\"type\":\"scatter\"},{\"line\":{\"color\":\"lightblue\",\"dash\":\"dash\",\"width\":4},\"mode\":\"lines\",\"name\":\"Tope Atm\\u00f3sfera\",\"x\":[-1,1],\"y\":[10.0,10.0],\"type\":\"scatter\"},{\"line\":{\"color\":\"grey\",\"dash\":\"dot\",\"width\":1},\"mode\":\"lines\",\"x\":[0,0],\"y\":[10.0,8.944723618090451],\"type\":\"scatter\"},{\"marker\":{\"color\":\"red\",\"size\":10},\"mode\":\"markers\",\"x\":[0],\"y\":[8.944723618090451],\"type\":\"scatter\"},{\"marker\":{\"color\":\"black\",\"size\":12,\"symbol\":\"x\"},\"mode\":\"markers\",\"x\":[0],\"y\":[null],\"type\":\"scatter\"}],\"layout\":{\"annotations\":[{\"showarrow\":false,\"text\":\"V\\u002fc=0.995, \\u03b3=10.01, \\u0394\\u03c4=2.20\\u00b5s, H=10.0km\",\"x\":0.01,\"xref\":\"paper\",\"y\":1.12,\"yref\":\"paper\"},{\"showarrow\":false,\"text\":\"t=3.538\\u00b5s, \\u03c4=0.353\\u00b5s\",\"x\":0.01,\"xref\":\"paper\",\"y\":1.06,\"yref\":\"paper\"},{\"font\":{\"color\":\"blue\",\"size\":14},\"showarrow\":false,\"text\":\"En vuelo\",\"x\":0.99,\"xref\":\"paper\",\"y\":1.05,\"yref\":\"paper\"}]},\"name\":\"21\"},{\"data\":[{\"line\":{\"color\":\"green\",\"width\":4},\"mode\":\"lines\",\"name\":\"Superficie\",\"x\":[-1,1],\"y\":[0,0],\"type\":\"scatter\"},{\"line\":{\"color\":\"lightblue\",\"dash\":\"dash\",\"width\":4},\"mode\":\"lines\",\"name\":\"Tope Atm\\u00f3sfera\",\"x\":[-1,1],\"y\":[10.0,10.0],\"type\":\"scatter\"},{\"line\":{\"color\":\"grey\",\"dash\":\"dot\",\"width\":1},\"mode\":\"lines\",\"x\":[0,0],\"y\":[10.0,8.894472361809045],\"type\":\"scatter\"},{\"marker\":{\"color\":\"red\",\"size\":10},\"mode\":\"markers\",\"x\":[0],\"y\":[8.894472361809045],\"type\":\"scatter\"},{\"marker\":{\"color\":\"black\",\"size\":12,\"symbol\":\"x\"},\"mode\":\"markers\",\"x\":[0],\"y\":[null],\"type\":\"scatter\"}],\"layout\":{\"annotations\":[{\"showarrow\":false,\"text\":\"V\\u002fc=0.995, \\u03b3=10.01, \\u0394\\u03c4=2.20\\u00b5s, H=10.0km\",\"x\":0.01,\"xref\":\"paper\",\"y\":1.12,\"yref\":\"paper\"},{\"showarrow\":false,\"text\":\"t=3.706\\u00b5s, \\u03c4=0.370\\u00b5s\",\"x\":0.01,\"xref\":\"paper\",\"y\":1.06,\"yref\":\"paper\"},{\"font\":{\"color\":\"blue\",\"size\":14},\"showarrow\":false,\"text\":\"En vuelo\",\"x\":0.99,\"xref\":\"paper\",\"y\":1.05,\"yref\":\"paper\"}]},\"name\":\"22\"},{\"data\":[{\"line\":{\"color\":\"green\",\"width\":4},\"mode\":\"lines\",\"name\":\"Superficie\",\"x\":[-1,1],\"y\":[0,0],\"type\":\"scatter\"},{\"line\":{\"color\":\"lightblue\",\"dash\":\"dash\",\"width\":4},\"mode\":\"lines\",\"name\":\"Tope Atm\\u00f3sfera\",\"x\":[-1,1],\"y\":[10.0,10.0],\"type\":\"scatter\"},{\"line\":{\"color\":\"grey\",\"dash\":\"dot\",\"width\":1},\"mode\":\"lines\",\"x\":[0,0],\"y\":[10.0,8.844221105527637],\"type\":\"scatter\"},{\"marker\":{\"color\":\"red\",\"size\":10},\"mode\":\"markers\",\"x\":[0],\"y\":[8.844221105527637],\"type\":\"scatter\"},{\"marker\":{\"color\":\"black\",\"size\":12,\"symbol\":\"x\"},\"mode\":\"markers\",\"x\":[0],\"y\":[null],\"type\":\"scatter\"}],\"layout\":{\"annotations\":[{\"showarrow\":false,\"text\":\"V\\u002fc=0.995, \\u03b3=10.01, \\u0394\\u03c4=2.20\\u00b5s, H=10.0km\",\"x\":0.01,\"xref\":\"paper\",\"y\":1.12,\"yref\":\"paper\"},{\"showarrow\":false,\"text\":\"t=3.875\\u00b5s, \\u03c4=0.387\\u00b5s\",\"x\":0.01,\"xref\":\"paper\",\"y\":1.06,\"yref\":\"paper\"},{\"font\":{\"color\":\"blue\",\"size\":14},\"showarrow\":false,\"text\":\"En vuelo\",\"x\":0.99,\"xref\":\"paper\",\"y\":1.05,\"yref\":\"paper\"}]},\"name\":\"23\"},{\"data\":[{\"line\":{\"color\":\"green\",\"width\":4},\"mode\":\"lines\",\"name\":\"Superficie\",\"x\":[-1,1],\"y\":[0,0],\"type\":\"scatter\"},{\"line\":{\"color\":\"lightblue\",\"dash\":\"dash\",\"width\":4},\"mode\":\"lines\",\"name\":\"Tope Atm\\u00f3sfera\",\"x\":[-1,1],\"y\":[10.0,10.0],\"type\":\"scatter\"},{\"line\":{\"color\":\"grey\",\"dash\":\"dot\",\"width\":1},\"mode\":\"lines\",\"x\":[0,0],\"y\":[10.0,8.793969849246231],\"type\":\"scatter\"},{\"marker\":{\"color\":\"red\",\"size\":10},\"mode\":\"markers\",\"x\":[0],\"y\":[8.793969849246231],\"type\":\"scatter\"},{\"marker\":{\"color\":\"black\",\"size\":12,\"symbol\":\"x\"},\"mode\":\"markers\",\"x\":[0],\"y\":[null],\"type\":\"scatter\"}],\"layout\":{\"annotations\":[{\"showarrow\":false,\"text\":\"V\\u002fc=0.995, \\u03b3=10.01, \\u0394\\u03c4=2.20\\u00b5s, H=10.0km\",\"x\":0.01,\"xref\":\"paper\",\"y\":1.12,\"yref\":\"paper\"},{\"showarrow\":false,\"text\":\"t=4.043\\u00b5s, \\u03c4=0.404\\u00b5s\",\"x\":0.01,\"xref\":\"paper\",\"y\":1.06,\"yref\":\"paper\"},{\"font\":{\"color\":\"blue\",\"size\":14},\"showarrow\":false,\"text\":\"En vuelo\",\"x\":0.99,\"xref\":\"paper\",\"y\":1.05,\"yref\":\"paper\"}]},\"name\":\"24\"},{\"data\":[{\"line\":{\"color\":\"green\",\"width\":4},\"mode\":\"lines\",\"name\":\"Superficie\",\"x\":[-1,1],\"y\":[0,0],\"type\":\"scatter\"},{\"line\":{\"color\":\"lightblue\",\"dash\":\"dash\",\"width\":4},\"mode\":\"lines\",\"name\":\"Tope Atm\\u00f3sfera\",\"x\":[-1,1],\"y\":[10.0,10.0],\"type\":\"scatter\"},{\"line\":{\"color\":\"grey\",\"dash\":\"dot\",\"width\":1},\"mode\":\"lines\",\"x\":[0,0],\"y\":[10.0,8.743718592964823],\"type\":\"scatter\"},{\"marker\":{\"color\":\"red\",\"size\":10},\"mode\":\"markers\",\"x\":[0],\"y\":[8.743718592964823],\"type\":\"scatter\"},{\"marker\":{\"color\":\"black\",\"size\":12,\"symbol\":\"x\"},\"mode\":\"markers\",\"x\":[0],\"y\":[null],\"type\":\"scatter\"}],\"layout\":{\"annotations\":[{\"showarrow\":false,\"text\":\"V\\u002fc=0.995, \\u03b3=10.01, \\u0394\\u03c4=2.20\\u00b5s, H=10.0km\",\"x\":0.01,\"xref\":\"paper\",\"y\":1.12,\"yref\":\"paper\"},{\"showarrow\":false,\"text\":\"t=4.212\\u00b5s, \\u03c4=0.421\\u00b5s\",\"x\":0.01,\"xref\":\"paper\",\"y\":1.06,\"yref\":\"paper\"},{\"font\":{\"color\":\"blue\",\"size\":14},\"showarrow\":false,\"text\":\"En vuelo\",\"x\":0.99,\"xref\":\"paper\",\"y\":1.05,\"yref\":\"paper\"}]},\"name\":\"25\"},{\"data\":[{\"line\":{\"color\":\"green\",\"width\":4},\"mode\":\"lines\",\"name\":\"Superficie\",\"x\":[-1,1],\"y\":[0,0],\"type\":\"scatter\"},{\"line\":{\"color\":\"lightblue\",\"dash\":\"dash\",\"width\":4},\"mode\":\"lines\",\"name\":\"Tope Atm\\u00f3sfera\",\"x\":[-1,1],\"y\":[10.0,10.0],\"type\":\"scatter\"},{\"line\":{\"color\":\"grey\",\"dash\":\"dot\",\"width\":1},\"mode\":\"lines\",\"x\":[0,0],\"y\":[10.0,8.693467336683417],\"type\":\"scatter\"},{\"marker\":{\"color\":\"red\",\"size\":10},\"mode\":\"markers\",\"x\":[0],\"y\":[8.693467336683417],\"type\":\"scatter\"},{\"marker\":{\"color\":\"black\",\"size\":12,\"symbol\":\"x\"},\"mode\":\"markers\",\"x\":[0],\"y\":[null],\"type\":\"scatter\"}],\"layout\":{\"annotations\":[{\"showarrow\":false,\"text\":\"V\\u002fc=0.995, \\u03b3=10.01, \\u0394\\u03c4=2.20\\u00b5s, H=10.0km\",\"x\":0.01,\"xref\":\"paper\",\"y\":1.12,\"yref\":\"paper\"},{\"showarrow\":false,\"text\":\"t=4.380\\u00b5s, \\u03c4=0.437\\u00b5s\",\"x\":0.01,\"xref\":\"paper\",\"y\":1.06,\"yref\":\"paper\"},{\"font\":{\"color\":\"blue\",\"size\":14},\"showarrow\":false,\"text\":\"En vuelo\",\"x\":0.99,\"xref\":\"paper\",\"y\":1.05,\"yref\":\"paper\"}]},\"name\":\"26\"},{\"data\":[{\"line\":{\"color\":\"green\",\"width\":4},\"mode\":\"lines\",\"name\":\"Superficie\",\"x\":[-1,1],\"y\":[0,0],\"type\":\"scatter\"},{\"line\":{\"color\":\"lightblue\",\"dash\":\"dash\",\"width\":4},\"mode\":\"lines\",\"name\":\"Tope Atm\\u00f3sfera\",\"x\":[-1,1],\"y\":[10.0,10.0],\"type\":\"scatter\"},{\"line\":{\"color\":\"grey\",\"dash\":\"dot\",\"width\":1},\"mode\":\"lines\",\"x\":[0,0],\"y\":[10.0,8.64321608040201],\"type\":\"scatter\"},{\"marker\":{\"color\":\"red\",\"size\":10},\"mode\":\"markers\",\"x\":[0],\"y\":[8.64321608040201],\"type\":\"scatter\"},{\"marker\":{\"color\":\"black\",\"size\":12,\"symbol\":\"x\"},\"mode\":\"markers\",\"x\":[0],\"y\":[null],\"type\":\"scatter\"}],\"layout\":{\"annotations\":[{\"showarrow\":false,\"text\":\"V\\u002fc=0.995, \\u03b3=10.01, \\u0394\\u03c4=2.20\\u00b5s, H=10.0km\",\"x\":0.01,\"xref\":\"paper\",\"y\":1.12,\"yref\":\"paper\"},{\"showarrow\":false,\"text\":\"t=4.548\\u00b5s, \\u03c4=0.454\\u00b5s\",\"x\":0.01,\"xref\":\"paper\",\"y\":1.06,\"yref\":\"paper\"},{\"font\":{\"color\":\"blue\",\"size\":14},\"showarrow\":false,\"text\":\"En vuelo\",\"x\":0.99,\"xref\":\"paper\",\"y\":1.05,\"yref\":\"paper\"}]},\"name\":\"27\"},{\"data\":[{\"line\":{\"color\":\"green\",\"width\":4},\"mode\":\"lines\",\"name\":\"Superficie\",\"x\":[-1,1],\"y\":[0,0],\"type\":\"scatter\"},{\"line\":{\"color\":\"lightblue\",\"dash\":\"dash\",\"width\":4},\"mode\":\"lines\",\"name\":\"Tope Atm\\u00f3sfera\",\"x\":[-1,1],\"y\":[10.0,10.0],\"type\":\"scatter\"},{\"line\":{\"color\":\"grey\",\"dash\":\"dot\",\"width\":1},\"mode\":\"lines\",\"x\":[0,0],\"y\":[10.0,8.592964824120603],\"type\":\"scatter\"},{\"marker\":{\"color\":\"red\",\"size\":10},\"mode\":\"markers\",\"x\":[0],\"y\":[8.592964824120603],\"type\":\"scatter\"},{\"marker\":{\"color\":\"black\",\"size\":12,\"symbol\":\"x\"},\"mode\":\"markers\",\"x\":[0],\"y\":[null],\"type\":\"scatter\"}],\"layout\":{\"annotations\":[{\"showarrow\":false,\"text\":\"V\\u002fc=0.995, \\u03b3=10.01, \\u0394\\u03c4=2.20\\u00b5s, H=10.0km\",\"x\":0.01,\"xref\":\"paper\",\"y\":1.12,\"yref\":\"paper\"},{\"showarrow\":false,\"text\":\"t=4.717\\u00b5s, \\u03c4=0.471\\u00b5s\",\"x\":0.01,\"xref\":\"paper\",\"y\":1.06,\"yref\":\"paper\"},{\"font\":{\"color\":\"blue\",\"size\":14},\"showarrow\":false,\"text\":\"En vuelo\",\"x\":0.99,\"xref\":\"paper\",\"y\":1.05,\"yref\":\"paper\"}]},\"name\":\"28\"},{\"data\":[{\"line\":{\"color\":\"green\",\"width\":4},\"mode\":\"lines\",\"name\":\"Superficie\",\"x\":[-1,1],\"y\":[0,0],\"type\":\"scatter\"},{\"line\":{\"color\":\"lightblue\",\"dash\":\"dash\",\"width\":4},\"mode\":\"lines\",\"name\":\"Tope Atm\\u00f3sfera\",\"x\":[-1,1],\"y\":[10.0,10.0],\"type\":\"scatter\"},{\"line\":{\"color\":\"grey\",\"dash\":\"dot\",\"width\":1},\"mode\":\"lines\",\"x\":[0,0],\"y\":[10.0,8.542713567839195],\"type\":\"scatter\"},{\"marker\":{\"color\":\"red\",\"size\":10},\"mode\":\"markers\",\"x\":[0],\"y\":[8.542713567839195],\"type\":\"scatter\"},{\"marker\":{\"color\":\"black\",\"size\":12,\"symbol\":\"x\"},\"mode\":\"markers\",\"x\":[0],\"y\":[null],\"type\":\"scatter\"}],\"layout\":{\"annotations\":[{\"showarrow\":false,\"text\":\"V\\u002fc=0.995, \\u03b3=10.01, \\u0394\\u03c4=2.20\\u00b5s, H=10.0km\",\"x\":0.01,\"xref\":\"paper\",\"y\":1.12,\"yref\":\"paper\"},{\"showarrow\":false,\"text\":\"t=4.885\\u00b5s, \\u03c4=0.488\\u00b5s\",\"x\":0.01,\"xref\":\"paper\",\"y\":1.06,\"yref\":\"paper\"},{\"font\":{\"color\":\"blue\",\"size\":14},\"showarrow\":false,\"text\":\"En vuelo\",\"x\":0.99,\"xref\":\"paper\",\"y\":1.05,\"yref\":\"paper\"}]},\"name\":\"29\"},{\"data\":[{\"line\":{\"color\":\"green\",\"width\":4},\"mode\":\"lines\",\"name\":\"Superficie\",\"x\":[-1,1],\"y\":[0,0],\"type\":\"scatter\"},{\"line\":{\"color\":\"lightblue\",\"dash\":\"dash\",\"width\":4},\"mode\":\"lines\",\"name\":\"Tope Atm\\u00f3sfera\",\"x\":[-1,1],\"y\":[10.0,10.0],\"type\":\"scatter\"},{\"line\":{\"color\":\"grey\",\"dash\":\"dot\",\"width\":1},\"mode\":\"lines\",\"x\":[0,0],\"y\":[10.0,8.492462311557789],\"type\":\"scatter\"},{\"marker\":{\"color\":\"red\",\"size\":10},\"mode\":\"markers\",\"x\":[0],\"y\":[8.492462311557789],\"type\":\"scatter\"},{\"marker\":{\"color\":\"black\",\"size\":12,\"symbol\":\"x\"},\"mode\":\"markers\",\"x\":[0],\"y\":[null],\"type\":\"scatter\"}],\"layout\":{\"annotations\":[{\"showarrow\":false,\"text\":\"V\\u002fc=0.995, \\u03b3=10.01, \\u0394\\u03c4=2.20\\u00b5s, H=10.0km\",\"x\":0.01,\"xref\":\"paper\",\"y\":1.12,\"yref\":\"paper\"},{\"showarrow\":false,\"text\":\"t=5.054\\u00b5s, \\u03c4=0.505\\u00b5s\",\"x\":0.01,\"xref\":\"paper\",\"y\":1.06,\"yref\":\"paper\"},{\"font\":{\"color\":\"blue\",\"size\":14},\"showarrow\":false,\"text\":\"En vuelo\",\"x\":0.99,\"xref\":\"paper\",\"y\":1.05,\"yref\":\"paper\"}]},\"name\":\"30\"},{\"data\":[{\"line\":{\"color\":\"green\",\"width\":4},\"mode\":\"lines\",\"name\":\"Superficie\",\"x\":[-1,1],\"y\":[0,0],\"type\":\"scatter\"},{\"line\":{\"color\":\"lightblue\",\"dash\":\"dash\",\"width\":4},\"mode\":\"lines\",\"name\":\"Tope Atm\\u00f3sfera\",\"x\":[-1,1],\"y\":[10.0,10.0],\"type\":\"scatter\"},{\"line\":{\"color\":\"grey\",\"dash\":\"dot\",\"width\":1},\"mode\":\"lines\",\"x\":[0,0],\"y\":[10.0,8.442211055276381],\"type\":\"scatter\"},{\"marker\":{\"color\":\"red\",\"size\":10},\"mode\":\"markers\",\"x\":[0],\"y\":[8.442211055276381],\"type\":\"scatter\"},{\"marker\":{\"color\":\"black\",\"size\":12,\"symbol\":\"x\"},\"mode\":\"markers\",\"x\":[0],\"y\":[null],\"type\":\"scatter\"}],\"layout\":{\"annotations\":[{\"showarrow\":false,\"text\":\"V\\u002fc=0.995, \\u03b3=10.01, \\u0394\\u03c4=2.20\\u00b5s, H=10.0km\",\"x\":0.01,\"xref\":\"paper\",\"y\":1.12,\"yref\":\"paper\"},{\"showarrow\":false,\"text\":\"t=5.222\\u00b5s, \\u03c4=0.522\\u00b5s\",\"x\":0.01,\"xref\":\"paper\",\"y\":1.06,\"yref\":\"paper\"},{\"font\":{\"color\":\"blue\",\"size\":14},\"showarrow\":false,\"text\":\"En vuelo\",\"x\":0.99,\"xref\":\"paper\",\"y\":1.05,\"yref\":\"paper\"}]},\"name\":\"31\"},{\"data\":[{\"line\":{\"color\":\"green\",\"width\":4},\"mode\":\"lines\",\"name\":\"Superficie\",\"x\":[-1,1],\"y\":[0,0],\"type\":\"scatter\"},{\"line\":{\"color\":\"lightblue\",\"dash\":\"dash\",\"width\":4},\"mode\":\"lines\",\"name\":\"Tope Atm\\u00f3sfera\",\"x\":[-1,1],\"y\":[10.0,10.0],\"type\":\"scatter\"},{\"line\":{\"color\":\"grey\",\"dash\":\"dot\",\"width\":1},\"mode\":\"lines\",\"x\":[0,0],\"y\":[10.0,8.391959798994975],\"type\":\"scatter\"},{\"marker\":{\"color\":\"red\",\"size\":10},\"mode\":\"markers\",\"x\":[0],\"y\":[8.391959798994975],\"type\":\"scatter\"},{\"marker\":{\"color\":\"black\",\"size\":12,\"symbol\":\"x\"},\"mode\":\"markers\",\"x\":[0],\"y\":[null],\"type\":\"scatter\"}],\"layout\":{\"annotations\":[{\"showarrow\":false,\"text\":\"V\\u002fc=0.995, \\u03b3=10.01, \\u0394\\u03c4=2.20\\u00b5s, H=10.0km\",\"x\":0.01,\"xref\":\"paper\",\"y\":1.12,\"yref\":\"paper\"},{\"showarrow\":false,\"text\":\"t=5.391\\u00b5s, \\u03c4=0.538\\u00b5s\",\"x\":0.01,\"xref\":\"paper\",\"y\":1.06,\"yref\":\"paper\"},{\"font\":{\"color\":\"blue\",\"size\":14},\"showarrow\":false,\"text\":\"En vuelo\",\"x\":0.99,\"xref\":\"paper\",\"y\":1.05,\"yref\":\"paper\"}]},\"name\":\"32\"},{\"data\":[{\"line\":{\"color\":\"green\",\"width\":4},\"mode\":\"lines\",\"name\":\"Superficie\",\"x\":[-1,1],\"y\":[0,0],\"type\":\"scatter\"},{\"line\":{\"color\":\"lightblue\",\"dash\":\"dash\",\"width\":4},\"mode\":\"lines\",\"name\":\"Tope Atm\\u00f3sfera\",\"x\":[-1,1],\"y\":[10.0,10.0],\"type\":\"scatter\"},{\"line\":{\"color\":\"grey\",\"dash\":\"dot\",\"width\":1},\"mode\":\"lines\",\"x\":[0,0],\"y\":[10.0,8.341708542713567],\"type\":\"scatter\"},{\"marker\":{\"color\":\"red\",\"size\":10},\"mode\":\"markers\",\"x\":[0],\"y\":[8.341708542713567],\"type\":\"scatter\"},{\"marker\":{\"color\":\"black\",\"size\":12,\"symbol\":\"x\"},\"mode\":\"markers\",\"x\":[0],\"y\":[null],\"type\":\"scatter\"}],\"layout\":{\"annotations\":[{\"showarrow\":false,\"text\":\"V\\u002fc=0.995, \\u03b3=10.01, \\u0394\\u03c4=2.20\\u00b5s, H=10.0km\",\"x\":0.01,\"xref\":\"paper\",\"y\":1.12,\"yref\":\"paper\"},{\"showarrow\":false,\"text\":\"t=5.559\\u00b5s, \\u03c4=0.555\\u00b5s\",\"x\":0.01,\"xref\":\"paper\",\"y\":1.06,\"yref\":\"paper\"},{\"font\":{\"color\":\"blue\",\"size\":14},\"showarrow\":false,\"text\":\"En vuelo\",\"x\":0.99,\"xref\":\"paper\",\"y\":1.05,\"yref\":\"paper\"}]},\"name\":\"33\"},{\"data\":[{\"line\":{\"color\":\"green\",\"width\":4},\"mode\":\"lines\",\"name\":\"Superficie\",\"x\":[-1,1],\"y\":[0,0],\"type\":\"scatter\"},{\"line\":{\"color\":\"lightblue\",\"dash\":\"dash\",\"width\":4},\"mode\":\"lines\",\"name\":\"Tope Atm\\u00f3sfera\",\"x\":[-1,1],\"y\":[10.0,10.0],\"type\":\"scatter\"},{\"line\":{\"color\":\"grey\",\"dash\":\"dot\",\"width\":1},\"mode\":\"lines\",\"x\":[0,0],\"y\":[10.0,8.291457286432161],\"type\":\"scatter\"},{\"marker\":{\"color\":\"red\",\"size\":10},\"mode\":\"markers\",\"x\":[0],\"y\":[8.291457286432161],\"type\":\"scatter\"},{\"marker\":{\"color\":\"black\",\"size\":12,\"symbol\":\"x\"},\"mode\":\"markers\",\"x\":[0],\"y\":[null],\"type\":\"scatter\"}],\"layout\":{\"annotations\":[{\"showarrow\":false,\"text\":\"V\\u002fc=0.995, \\u03b3=10.01, \\u0394\\u03c4=2.20\\u00b5s, H=10.0km\",\"x\":0.01,\"xref\":\"paper\",\"y\":1.12,\"yref\":\"paper\"},{\"showarrow\":false,\"text\":\"t=5.728\\u00b5s, \\u03c4=0.572\\u00b5s\",\"x\":0.01,\"xref\":\"paper\",\"y\":1.06,\"yref\":\"paper\"},{\"font\":{\"color\":\"blue\",\"size\":14},\"showarrow\":false,\"text\":\"En vuelo\",\"x\":0.99,\"xref\":\"paper\",\"y\":1.05,\"yref\":\"paper\"}]},\"name\":\"34\"},{\"data\":[{\"line\":{\"color\":\"green\",\"width\":4},\"mode\":\"lines\",\"name\":\"Superficie\",\"x\":[-1,1],\"y\":[0,0],\"type\":\"scatter\"},{\"line\":{\"color\":\"lightblue\",\"dash\":\"dash\",\"width\":4},\"mode\":\"lines\",\"name\":\"Tope Atm\\u00f3sfera\",\"x\":[-1,1],\"y\":[10.0,10.0],\"type\":\"scatter\"},{\"line\":{\"color\":\"grey\",\"dash\":\"dot\",\"width\":1},\"mode\":\"lines\",\"x\":[0,0],\"y\":[10.0,8.241206030150753],\"type\":\"scatter\"},{\"marker\":{\"color\":\"red\",\"size\":10},\"mode\":\"markers\",\"x\":[0],\"y\":[8.241206030150753],\"type\":\"scatter\"},{\"marker\":{\"color\":\"black\",\"size\":12,\"symbol\":\"x\"},\"mode\":\"markers\",\"x\":[0],\"y\":[null],\"type\":\"scatter\"}],\"layout\":{\"annotations\":[{\"showarrow\":false,\"text\":\"V\\u002fc=0.995, \\u03b3=10.01, \\u0394\\u03c4=2.20\\u00b5s, H=10.0km\",\"x\":0.01,\"xref\":\"paper\",\"y\":1.12,\"yref\":\"paper\"},{\"showarrow\":false,\"text\":\"t=5.896\\u00b5s, \\u03c4=0.589\\u00b5s\",\"x\":0.01,\"xref\":\"paper\",\"y\":1.06,\"yref\":\"paper\"},{\"font\":{\"color\":\"blue\",\"size\":14},\"showarrow\":false,\"text\":\"En vuelo\",\"x\":0.99,\"xref\":\"paper\",\"y\":1.05,\"yref\":\"paper\"}]},\"name\":\"35\"},{\"data\":[{\"line\":{\"color\":\"green\",\"width\":4},\"mode\":\"lines\",\"name\":\"Superficie\",\"x\":[-1,1],\"y\":[0,0],\"type\":\"scatter\"},{\"line\":{\"color\":\"lightblue\",\"dash\":\"dash\",\"width\":4},\"mode\":\"lines\",\"name\":\"Tope Atm\\u00f3sfera\",\"x\":[-1,1],\"y\":[10.0,10.0],\"type\":\"scatter\"},{\"line\":{\"color\":\"grey\",\"dash\":\"dot\",\"width\":1},\"mode\":\"lines\",\"x\":[0,0],\"y\":[10.0,8.190954773869347],\"type\":\"scatter\"},{\"marker\":{\"color\":\"red\",\"size\":10},\"mode\":\"markers\",\"x\":[0],\"y\":[8.190954773869347],\"type\":\"scatter\"},{\"marker\":{\"color\":\"black\",\"size\":12,\"symbol\":\"x\"},\"mode\":\"markers\",\"x\":[0],\"y\":[null],\"type\":\"scatter\"}],\"layout\":{\"annotations\":[{\"showarrow\":false,\"text\":\"V\\u002fc=0.995, \\u03b3=10.01, \\u0394\\u03c4=2.20\\u00b5s, H=10.0km\",\"x\":0.01,\"xref\":\"paper\",\"y\":1.12,\"yref\":\"paper\"},{\"showarrow\":false,\"text\":\"t=6.065\\u00b5s, \\u03c4=0.606\\u00b5s\",\"x\":0.01,\"xref\":\"paper\",\"y\":1.06,\"yref\":\"paper\"},{\"font\":{\"color\":\"blue\",\"size\":14},\"showarrow\":false,\"text\":\"En vuelo\",\"x\":0.99,\"xref\":\"paper\",\"y\":1.05,\"yref\":\"paper\"}]},\"name\":\"36\"},{\"data\":[{\"line\":{\"color\":\"green\",\"width\":4},\"mode\":\"lines\",\"name\":\"Superficie\",\"x\":[-1,1],\"y\":[0,0],\"type\":\"scatter\"},{\"line\":{\"color\":\"lightblue\",\"dash\":\"dash\",\"width\":4},\"mode\":\"lines\",\"name\":\"Tope Atm\\u00f3sfera\",\"x\":[-1,1],\"y\":[10.0,10.0],\"type\":\"scatter\"},{\"line\":{\"color\":\"grey\",\"dash\":\"dot\",\"width\":1},\"mode\":\"lines\",\"x\":[0,0],\"y\":[10.0,8.140703517587939],\"type\":\"scatter\"},{\"marker\":{\"color\":\"red\",\"size\":10},\"mode\":\"markers\",\"x\":[0],\"y\":[8.140703517587939],\"type\":\"scatter\"},{\"marker\":{\"color\":\"black\",\"size\":12,\"symbol\":\"x\"},\"mode\":\"markers\",\"x\":[0],\"y\":[null],\"type\":\"scatter\"}],\"layout\":{\"annotations\":[{\"showarrow\":false,\"text\":\"V\\u002fc=0.995, \\u03b3=10.01, \\u0394\\u03c4=2.20\\u00b5s, H=10.0km\",\"x\":0.01,\"xref\":\"paper\",\"y\":1.12,\"yref\":\"paper\"},{\"showarrow\":false,\"text\":\"t=6.233\\u00b5s, \\u03c4=0.623\\u00b5s\",\"x\":0.01,\"xref\":\"paper\",\"y\":1.06,\"yref\":\"paper\"},{\"font\":{\"color\":\"blue\",\"size\":14},\"showarrow\":false,\"text\":\"En vuelo\",\"x\":0.99,\"xref\":\"paper\",\"y\":1.05,\"yref\":\"paper\"}]},\"name\":\"37\"},{\"data\":[{\"line\":{\"color\":\"green\",\"width\":4},\"mode\":\"lines\",\"name\":\"Superficie\",\"x\":[-1,1],\"y\":[0,0],\"type\":\"scatter\"},{\"line\":{\"color\":\"lightblue\",\"dash\":\"dash\",\"width\":4},\"mode\":\"lines\",\"name\":\"Tope Atm\\u00f3sfera\",\"x\":[-1,1],\"y\":[10.0,10.0],\"type\":\"scatter\"},{\"line\":{\"color\":\"grey\",\"dash\":\"dot\",\"width\":1},\"mode\":\"lines\",\"x\":[0,0],\"y\":[10.0,8.090452261306533],\"type\":\"scatter\"},{\"marker\":{\"color\":\"red\",\"size\":10},\"mode\":\"markers\",\"x\":[0],\"y\":[8.090452261306533],\"type\":\"scatter\"},{\"marker\":{\"color\":\"black\",\"size\":12,\"symbol\":\"x\"},\"mode\":\"markers\",\"x\":[0],\"y\":[null],\"type\":\"scatter\"}],\"layout\":{\"annotations\":[{\"showarrow\":false,\"text\":\"V\\u002fc=0.995, \\u03b3=10.01, \\u0394\\u03c4=2.20\\u00b5s, H=10.0km\",\"x\":0.01,\"xref\":\"paper\",\"y\":1.12,\"yref\":\"paper\"},{\"showarrow\":false,\"text\":\"t=6.402\\u00b5s, \\u03c4=0.639\\u00b5s\",\"x\":0.01,\"xref\":\"paper\",\"y\":1.06,\"yref\":\"paper\"},{\"font\":{\"color\":\"blue\",\"size\":14},\"showarrow\":false,\"text\":\"En vuelo\",\"x\":0.99,\"xref\":\"paper\",\"y\":1.05,\"yref\":\"paper\"}]},\"name\":\"38\"},{\"data\":[{\"line\":{\"color\":\"green\",\"width\":4},\"mode\":\"lines\",\"name\":\"Superficie\",\"x\":[-1,1],\"y\":[0,0],\"type\":\"scatter\"},{\"line\":{\"color\":\"lightblue\",\"dash\":\"dash\",\"width\":4},\"mode\":\"lines\",\"name\":\"Tope Atm\\u00f3sfera\",\"x\":[-1,1],\"y\":[10.0,10.0],\"type\":\"scatter\"},{\"line\":{\"color\":\"grey\",\"dash\":\"dot\",\"width\":1},\"mode\":\"lines\",\"x\":[0,0],\"y\":[10.0,8.040201005025125],\"type\":\"scatter\"},{\"marker\":{\"color\":\"red\",\"size\":10},\"mode\":\"markers\",\"x\":[0],\"y\":[8.040201005025125],\"type\":\"scatter\"},{\"marker\":{\"color\":\"black\",\"size\":12,\"symbol\":\"x\"},\"mode\":\"markers\",\"x\":[0],\"y\":[null],\"type\":\"scatter\"}],\"layout\":{\"annotations\":[{\"showarrow\":false,\"text\":\"V\\u002fc=0.995, \\u03b3=10.01, \\u0394\\u03c4=2.20\\u00b5s, H=10.0km\",\"x\":0.01,\"xref\":\"paper\",\"y\":1.12,\"yref\":\"paper\"},{\"showarrow\":false,\"text\":\"t=6.570\\u00b5s, \\u03c4=0.656\\u00b5s\",\"x\":0.01,\"xref\":\"paper\",\"y\":1.06,\"yref\":\"paper\"},{\"font\":{\"color\":\"blue\",\"size\":14},\"showarrow\":false,\"text\":\"En vuelo\",\"x\":0.99,\"xref\":\"paper\",\"y\":1.05,\"yref\":\"paper\"}]},\"name\":\"39\"},{\"data\":[{\"line\":{\"color\":\"green\",\"width\":4},\"mode\":\"lines\",\"name\":\"Superficie\",\"x\":[-1,1],\"y\":[0,0],\"type\":\"scatter\"},{\"line\":{\"color\":\"lightblue\",\"dash\":\"dash\",\"width\":4},\"mode\":\"lines\",\"name\":\"Tope Atm\\u00f3sfera\",\"x\":[-1,1],\"y\":[10.0,10.0],\"type\":\"scatter\"},{\"line\":{\"color\":\"grey\",\"dash\":\"dot\",\"width\":1},\"mode\":\"lines\",\"x\":[0,0],\"y\":[10.0,7.989949748743719],\"type\":\"scatter\"},{\"marker\":{\"color\":\"red\",\"size\":10},\"mode\":\"markers\",\"x\":[0],\"y\":[7.989949748743719],\"type\":\"scatter\"},{\"marker\":{\"color\":\"black\",\"size\":12,\"symbol\":\"x\"},\"mode\":\"markers\",\"x\":[0],\"y\":[null],\"type\":\"scatter\"}],\"layout\":{\"annotations\":[{\"showarrow\":false,\"text\":\"V\\u002fc=0.995, \\u03b3=10.01, \\u0394\\u03c4=2.20\\u00b5s, H=10.0km\",\"x\":0.01,\"xref\":\"paper\",\"y\":1.12,\"yref\":\"paper\"},{\"showarrow\":false,\"text\":\"t=6.739\\u00b5s, \\u03c4=0.673\\u00b5s\",\"x\":0.01,\"xref\":\"paper\",\"y\":1.06,\"yref\":\"paper\"},{\"font\":{\"color\":\"blue\",\"size\":14},\"showarrow\":false,\"text\":\"En vuelo\",\"x\":0.99,\"xref\":\"paper\",\"y\":1.05,\"yref\":\"paper\"}]},\"name\":\"40\"},{\"data\":[{\"line\":{\"color\":\"green\",\"width\":4},\"mode\":\"lines\",\"name\":\"Superficie\",\"x\":[-1,1],\"y\":[0,0],\"type\":\"scatter\"},{\"line\":{\"color\":\"lightblue\",\"dash\":\"dash\",\"width\":4},\"mode\":\"lines\",\"name\":\"Tope Atm\\u00f3sfera\",\"x\":[-1,1],\"y\":[10.0,10.0],\"type\":\"scatter\"},{\"line\":{\"color\":\"grey\",\"dash\":\"dot\",\"width\":1},\"mode\":\"lines\",\"x\":[0,0],\"y\":[10.0,7.939698492462312],\"type\":\"scatter\"},{\"marker\":{\"color\":\"red\",\"size\":10},\"mode\":\"markers\",\"x\":[0],\"y\":[7.939698492462312],\"type\":\"scatter\"},{\"marker\":{\"color\":\"black\",\"size\":12,\"symbol\":\"x\"},\"mode\":\"markers\",\"x\":[0],\"y\":[null],\"type\":\"scatter\"}],\"layout\":{\"annotations\":[{\"showarrow\":false,\"text\":\"V\\u002fc=0.995, \\u03b3=10.01, \\u0394\\u03c4=2.20\\u00b5s, H=10.0km\",\"x\":0.01,\"xref\":\"paper\",\"y\":1.12,\"yref\":\"paper\"},{\"showarrow\":false,\"text\":\"t=6.907\\u00b5s, \\u03c4=0.690\\u00b5s\",\"x\":0.01,\"xref\":\"paper\",\"y\":1.06,\"yref\":\"paper\"},{\"font\":{\"color\":\"blue\",\"size\":14},\"showarrow\":false,\"text\":\"En vuelo\",\"x\":0.99,\"xref\":\"paper\",\"y\":1.05,\"yref\":\"paper\"}]},\"name\":\"41\"},{\"data\":[{\"line\":{\"color\":\"green\",\"width\":4},\"mode\":\"lines\",\"name\":\"Superficie\",\"x\":[-1,1],\"y\":[0,0],\"type\":\"scatter\"},{\"line\":{\"color\":\"lightblue\",\"dash\":\"dash\",\"width\":4},\"mode\":\"lines\",\"name\":\"Tope Atm\\u00f3sfera\",\"x\":[-1,1],\"y\":[10.0,10.0],\"type\":\"scatter\"},{\"line\":{\"color\":\"grey\",\"dash\":\"dot\",\"width\":1},\"mode\":\"lines\",\"x\":[0,0],\"y\":[10.0,7.889447236180905],\"type\":\"scatter\"},{\"marker\":{\"color\":\"red\",\"size\":10},\"mode\":\"markers\",\"x\":[0],\"y\":[7.889447236180905],\"type\":\"scatter\"},{\"marker\":{\"color\":\"black\",\"size\":12,\"symbol\":\"x\"},\"mode\":\"markers\",\"x\":[0],\"y\":[null],\"type\":\"scatter\"}],\"layout\":{\"annotations\":[{\"showarrow\":false,\"text\":\"V\\u002fc=0.995, \\u03b3=10.01, \\u0394\\u03c4=2.20\\u00b5s, H=10.0km\",\"x\":0.01,\"xref\":\"paper\",\"y\":1.12,\"yref\":\"paper\"},{\"showarrow\":false,\"text\":\"t=7.075\\u00b5s, \\u03c4=0.707\\u00b5s\",\"x\":0.01,\"xref\":\"paper\",\"y\":1.06,\"yref\":\"paper\"},{\"font\":{\"color\":\"blue\",\"size\":14},\"showarrow\":false,\"text\":\"En vuelo\",\"x\":0.99,\"xref\":\"paper\",\"y\":1.05,\"yref\":\"paper\"}]},\"name\":\"42\"},{\"data\":[{\"line\":{\"color\":\"green\",\"width\":4},\"mode\":\"lines\",\"name\":\"Superficie\",\"x\":[-1,1],\"y\":[0,0],\"type\":\"scatter\"},{\"line\":{\"color\":\"lightblue\",\"dash\":\"dash\",\"width\":4},\"mode\":\"lines\",\"name\":\"Tope Atm\\u00f3sfera\",\"x\":[-1,1],\"y\":[10.0,10.0],\"type\":\"scatter\"},{\"line\":{\"color\":\"grey\",\"dash\":\"dot\",\"width\":1},\"mode\":\"lines\",\"x\":[0,0],\"y\":[10.0,7.839195979899497],\"type\":\"scatter\"},{\"marker\":{\"color\":\"red\",\"size\":10},\"mode\":\"markers\",\"x\":[0],\"y\":[7.839195979899497],\"type\":\"scatter\"},{\"marker\":{\"color\":\"black\",\"size\":12,\"symbol\":\"x\"},\"mode\":\"markers\",\"x\":[0],\"y\":[null],\"type\":\"scatter\"}],\"layout\":{\"annotations\":[{\"showarrow\":false,\"text\":\"V\\u002fc=0.995, \\u03b3=10.01, \\u0394\\u03c4=2.20\\u00b5s, H=10.0km\",\"x\":0.01,\"xref\":\"paper\",\"y\":1.12,\"yref\":\"paper\"},{\"showarrow\":false,\"text\":\"t=7.244\\u00b5s, \\u03c4=0.723\\u00b5s\",\"x\":0.01,\"xref\":\"paper\",\"y\":1.06,\"yref\":\"paper\"},{\"font\":{\"color\":\"blue\",\"size\":14},\"showarrow\":false,\"text\":\"En vuelo\",\"x\":0.99,\"xref\":\"paper\",\"y\":1.05,\"yref\":\"paper\"}]},\"name\":\"43\"},{\"data\":[{\"line\":{\"color\":\"green\",\"width\":4},\"mode\":\"lines\",\"name\":\"Superficie\",\"x\":[-1,1],\"y\":[0,0],\"type\":\"scatter\"},{\"line\":{\"color\":\"lightblue\",\"dash\":\"dash\",\"width\":4},\"mode\":\"lines\",\"name\":\"Tope Atm\\u00f3sfera\",\"x\":[-1,1],\"y\":[10.0,10.0],\"type\":\"scatter\"},{\"line\":{\"color\":\"grey\",\"dash\":\"dot\",\"width\":1},\"mode\":\"lines\",\"x\":[0,0],\"y\":[10.0,7.788944723618091],\"type\":\"scatter\"},{\"marker\":{\"color\":\"red\",\"size\":10},\"mode\":\"markers\",\"x\":[0],\"y\":[7.788944723618091],\"type\":\"scatter\"},{\"marker\":{\"color\":\"black\",\"size\":12,\"symbol\":\"x\"},\"mode\":\"markers\",\"x\":[0],\"y\":[null],\"type\":\"scatter\"}],\"layout\":{\"annotations\":[{\"showarrow\":false,\"text\":\"V\\u002fc=0.995, \\u03b3=10.01, \\u0394\\u03c4=2.20\\u00b5s, H=10.0km\",\"x\":0.01,\"xref\":\"paper\",\"y\":1.12,\"yref\":\"paper\"},{\"showarrow\":false,\"text\":\"t=7.412\\u00b5s, \\u03c4=0.740\\u00b5s\",\"x\":0.01,\"xref\":\"paper\",\"y\":1.06,\"yref\":\"paper\"},{\"font\":{\"color\":\"blue\",\"size\":14},\"showarrow\":false,\"text\":\"En vuelo\",\"x\":0.99,\"xref\":\"paper\",\"y\":1.05,\"yref\":\"paper\"}]},\"name\":\"44\"},{\"data\":[{\"line\":{\"color\":\"green\",\"width\":4},\"mode\":\"lines\",\"name\":\"Superficie\",\"x\":[-1,1],\"y\":[0,0],\"type\":\"scatter\"},{\"line\":{\"color\":\"lightblue\",\"dash\":\"dash\",\"width\":4},\"mode\":\"lines\",\"name\":\"Tope Atm\\u00f3sfera\",\"x\":[-1,1],\"y\":[10.0,10.0],\"type\":\"scatter\"},{\"line\":{\"color\":\"grey\",\"dash\":\"dot\",\"width\":1},\"mode\":\"lines\",\"x\":[0,0],\"y\":[10.0,7.738693467336684],\"type\":\"scatter\"},{\"marker\":{\"color\":\"red\",\"size\":10},\"mode\":\"markers\",\"x\":[0],\"y\":[7.738693467336684],\"type\":\"scatter\"},{\"marker\":{\"color\":\"black\",\"size\":12,\"symbol\":\"x\"},\"mode\":\"markers\",\"x\":[0],\"y\":[null],\"type\":\"scatter\"}],\"layout\":{\"annotations\":[{\"showarrow\":false,\"text\":\"V\\u002fc=0.995, \\u03b3=10.01, \\u0394\\u03c4=2.20\\u00b5s, H=10.0km\",\"x\":0.01,\"xref\":\"paper\",\"y\":1.12,\"yref\":\"paper\"},{\"showarrow\":false,\"text\":\"t=7.581\\u00b5s, \\u03c4=0.757\\u00b5s\",\"x\":0.01,\"xref\":\"paper\",\"y\":1.06,\"yref\":\"paper\"},{\"font\":{\"color\":\"blue\",\"size\":14},\"showarrow\":false,\"text\":\"En vuelo\",\"x\":0.99,\"xref\":\"paper\",\"y\":1.05,\"yref\":\"paper\"}]},\"name\":\"45\"},{\"data\":[{\"line\":{\"color\":\"green\",\"width\":4},\"mode\":\"lines\",\"name\":\"Superficie\",\"x\":[-1,1],\"y\":[0,0],\"type\":\"scatter\"},{\"line\":{\"color\":\"lightblue\",\"dash\":\"dash\",\"width\":4},\"mode\":\"lines\",\"name\":\"Tope Atm\\u00f3sfera\",\"x\":[-1,1],\"y\":[10.0,10.0],\"type\":\"scatter\"},{\"line\":{\"color\":\"grey\",\"dash\":\"dot\",\"width\":1},\"mode\":\"lines\",\"x\":[0,0],\"y\":[10.0,7.688442211055277],\"type\":\"scatter\"},{\"marker\":{\"color\":\"red\",\"size\":10},\"mode\":\"markers\",\"x\":[0],\"y\":[7.688442211055277],\"type\":\"scatter\"},{\"marker\":{\"color\":\"black\",\"size\":12,\"symbol\":\"x\"},\"mode\":\"markers\",\"x\":[0],\"y\":[null],\"type\":\"scatter\"}],\"layout\":{\"annotations\":[{\"showarrow\":false,\"text\":\"V\\u002fc=0.995, \\u03b3=10.01, \\u0394\\u03c4=2.20\\u00b5s, H=10.0km\",\"x\":0.01,\"xref\":\"paper\",\"y\":1.12,\"yref\":\"paper\"},{\"showarrow\":false,\"text\":\"t=7.749\\u00b5s, \\u03c4=0.774\\u00b5s\",\"x\":0.01,\"xref\":\"paper\",\"y\":1.06,\"yref\":\"paper\"},{\"font\":{\"color\":\"blue\",\"size\":14},\"showarrow\":false,\"text\":\"En vuelo\",\"x\":0.99,\"xref\":\"paper\",\"y\":1.05,\"yref\":\"paper\"}]},\"name\":\"46\"},{\"data\":[{\"line\":{\"color\":\"green\",\"width\":4},\"mode\":\"lines\",\"name\":\"Superficie\",\"x\":[-1,1],\"y\":[0,0],\"type\":\"scatter\"},{\"line\":{\"color\":\"lightblue\",\"dash\":\"dash\",\"width\":4},\"mode\":\"lines\",\"name\":\"Tope Atm\\u00f3sfera\",\"x\":[-1,1],\"y\":[10.0,10.0],\"type\":\"scatter\"},{\"line\":{\"color\":\"grey\",\"dash\":\"dot\",\"width\":1},\"mode\":\"lines\",\"x\":[0,0],\"y\":[10.0,7.638190954773869],\"type\":\"scatter\"},{\"marker\":{\"color\":\"red\",\"size\":10},\"mode\":\"markers\",\"x\":[0],\"y\":[7.638190954773869],\"type\":\"scatter\"},{\"marker\":{\"color\":\"black\",\"size\":12,\"symbol\":\"x\"},\"mode\":\"markers\",\"x\":[0],\"y\":[null],\"type\":\"scatter\"}],\"layout\":{\"annotations\":[{\"showarrow\":false,\"text\":\"V\\u002fc=0.995, \\u03b3=10.01, \\u0394\\u03c4=2.20\\u00b5s, H=10.0km\",\"x\":0.01,\"xref\":\"paper\",\"y\":1.12,\"yref\":\"paper\"},{\"showarrow\":false,\"text\":\"t=7.918\\u00b5s, \\u03c4=0.791\\u00b5s\",\"x\":0.01,\"xref\":\"paper\",\"y\":1.06,\"yref\":\"paper\"},{\"font\":{\"color\":\"blue\",\"size\":14},\"showarrow\":false,\"text\":\"En vuelo\",\"x\":0.99,\"xref\":\"paper\",\"y\":1.05,\"yref\":\"paper\"}]},\"name\":\"47\"},{\"data\":[{\"line\":{\"color\":\"green\",\"width\":4},\"mode\":\"lines\",\"name\":\"Superficie\",\"x\":[-1,1],\"y\":[0,0],\"type\":\"scatter\"},{\"line\":{\"color\":\"lightblue\",\"dash\":\"dash\",\"width\":4},\"mode\":\"lines\",\"name\":\"Tope Atm\\u00f3sfera\",\"x\":[-1,1],\"y\":[10.0,10.0],\"type\":\"scatter\"},{\"line\":{\"color\":\"grey\",\"dash\":\"dot\",\"width\":1},\"mode\":\"lines\",\"x\":[0,0],\"y\":[10.0,7.5879396984924625],\"type\":\"scatter\"},{\"marker\":{\"color\":\"red\",\"size\":10},\"mode\":\"markers\",\"x\":[0],\"y\":[7.5879396984924625],\"type\":\"scatter\"},{\"marker\":{\"color\":\"black\",\"size\":12,\"symbol\":\"x\"},\"mode\":\"markers\",\"x\":[0],\"y\":[null],\"type\":\"scatter\"}],\"layout\":{\"annotations\":[{\"showarrow\":false,\"text\":\"V\\u002fc=0.995, \\u03b3=10.01, \\u0394\\u03c4=2.20\\u00b5s, H=10.0km\",\"x\":0.01,\"xref\":\"paper\",\"y\":1.12,\"yref\":\"paper\"},{\"showarrow\":false,\"text\":\"t=8.086\\u00b5s, \\u03c4=0.808\\u00b5s\",\"x\":0.01,\"xref\":\"paper\",\"y\":1.06,\"yref\":\"paper\"},{\"font\":{\"color\":\"blue\",\"size\":14},\"showarrow\":false,\"text\":\"En vuelo\",\"x\":0.99,\"xref\":\"paper\",\"y\":1.05,\"yref\":\"paper\"}]},\"name\":\"48\"},{\"data\":[{\"line\":{\"color\":\"green\",\"width\":4},\"mode\":\"lines\",\"name\":\"Superficie\",\"x\":[-1,1],\"y\":[0,0],\"type\":\"scatter\"},{\"line\":{\"color\":\"lightblue\",\"dash\":\"dash\",\"width\":4},\"mode\":\"lines\",\"name\":\"Tope Atm\\u00f3sfera\",\"x\":[-1,1],\"y\":[10.0,10.0],\"type\":\"scatter\"},{\"line\":{\"color\":\"grey\",\"dash\":\"dot\",\"width\":1},\"mode\":\"lines\",\"x\":[0,0],\"y\":[10.0,7.5376884422110555],\"type\":\"scatter\"},{\"marker\":{\"color\":\"red\",\"size\":10},\"mode\":\"markers\",\"x\":[0],\"y\":[7.5376884422110555],\"type\":\"scatter\"},{\"marker\":{\"color\":\"black\",\"size\":12,\"symbol\":\"x\"},\"mode\":\"markers\",\"x\":[0],\"y\":[null],\"type\":\"scatter\"}],\"layout\":{\"annotations\":[{\"showarrow\":false,\"text\":\"V\\u002fc=0.995, \\u03b3=10.01, \\u0394\\u03c4=2.20\\u00b5s, H=10.0km\",\"x\":0.01,\"xref\":\"paper\",\"y\":1.12,\"yref\":\"paper\"},{\"showarrow\":false,\"text\":\"t=8.255\\u00b5s, \\u03c4=0.824\\u00b5s\",\"x\":0.01,\"xref\":\"paper\",\"y\":1.06,\"yref\":\"paper\"},{\"font\":{\"color\":\"blue\",\"size\":14},\"showarrow\":false,\"text\":\"En vuelo\",\"x\":0.99,\"xref\":\"paper\",\"y\":1.05,\"yref\":\"paper\"}]},\"name\":\"49\"},{\"data\":[{\"line\":{\"color\":\"green\",\"width\":4},\"mode\":\"lines\",\"name\":\"Superficie\",\"x\":[-1,1],\"y\":[0,0],\"type\":\"scatter\"},{\"line\":{\"color\":\"lightblue\",\"dash\":\"dash\",\"width\":4},\"mode\":\"lines\",\"name\":\"Tope Atm\\u00f3sfera\",\"x\":[-1,1],\"y\":[10.0,10.0],\"type\":\"scatter\"},{\"line\":{\"color\":\"grey\",\"dash\":\"dot\",\"width\":1},\"mode\":\"lines\",\"x\":[0,0],\"y\":[10.0,7.4874371859296485],\"type\":\"scatter\"},{\"marker\":{\"color\":\"red\",\"size\":10},\"mode\":\"markers\",\"x\":[0],\"y\":[7.4874371859296485],\"type\":\"scatter\"},{\"marker\":{\"color\":\"black\",\"size\":12,\"symbol\":\"x\"},\"mode\":\"markers\",\"x\":[0],\"y\":[null],\"type\":\"scatter\"}],\"layout\":{\"annotations\":[{\"showarrow\":false,\"text\":\"V\\u002fc=0.995, \\u03b3=10.01, \\u0394\\u03c4=2.20\\u00b5s, H=10.0km\",\"x\":0.01,\"xref\":\"paper\",\"y\":1.12,\"yref\":\"paper\"},{\"showarrow\":false,\"text\":\"t=8.423\\u00b5s, \\u03c4=0.841\\u00b5s\",\"x\":0.01,\"xref\":\"paper\",\"y\":1.06,\"yref\":\"paper\"},{\"font\":{\"color\":\"blue\",\"size\":14},\"showarrow\":false,\"text\":\"En vuelo\",\"x\":0.99,\"xref\":\"paper\",\"y\":1.05,\"yref\":\"paper\"}]},\"name\":\"50\"},{\"data\":[{\"line\":{\"color\":\"green\",\"width\":4},\"mode\":\"lines\",\"name\":\"Superficie\",\"x\":[-1,1],\"y\":[0,0],\"type\":\"scatter\"},{\"line\":{\"color\":\"lightblue\",\"dash\":\"dash\",\"width\":4},\"mode\":\"lines\",\"name\":\"Tope Atm\\u00f3sfera\",\"x\":[-1,1],\"y\":[10.0,10.0],\"type\":\"scatter\"},{\"line\":{\"color\":\"grey\",\"dash\":\"dot\",\"width\":1},\"mode\":\"lines\",\"x\":[0,0],\"y\":[10.0,7.4371859296482405],\"type\":\"scatter\"},{\"marker\":{\"color\":\"red\",\"size\":10},\"mode\":\"markers\",\"x\":[0],\"y\":[7.4371859296482405],\"type\":\"scatter\"},{\"marker\":{\"color\":\"black\",\"size\":12,\"symbol\":\"x\"},\"mode\":\"markers\",\"x\":[0],\"y\":[null],\"type\":\"scatter\"}],\"layout\":{\"annotations\":[{\"showarrow\":false,\"text\":\"V\\u002fc=0.995, \\u03b3=10.01, \\u0394\\u03c4=2.20\\u00b5s, H=10.0km\",\"x\":0.01,\"xref\":\"paper\",\"y\":1.12,\"yref\":\"paper\"},{\"showarrow\":false,\"text\":\"t=8.592\\u00b5s, \\u03c4=0.858\\u00b5s\",\"x\":0.01,\"xref\":\"paper\",\"y\":1.06,\"yref\":\"paper\"},{\"font\":{\"color\":\"blue\",\"size\":14},\"showarrow\":false,\"text\":\"En vuelo\",\"x\":0.99,\"xref\":\"paper\",\"y\":1.05,\"yref\":\"paper\"}]},\"name\":\"51\"},{\"data\":[{\"line\":{\"color\":\"green\",\"width\":4},\"mode\":\"lines\",\"name\":\"Superficie\",\"x\":[-1,1],\"y\":[0,0],\"type\":\"scatter\"},{\"line\":{\"color\":\"lightblue\",\"dash\":\"dash\",\"width\":4},\"mode\":\"lines\",\"name\":\"Tope Atm\\u00f3sfera\",\"x\":[-1,1],\"y\":[10.0,10.0],\"type\":\"scatter\"},{\"line\":{\"color\":\"grey\",\"dash\":\"dot\",\"width\":1},\"mode\":\"lines\",\"x\":[0,0],\"y\":[10.0,7.386934673366834],\"type\":\"scatter\"},{\"marker\":{\"color\":\"red\",\"size\":10},\"mode\":\"markers\",\"x\":[0],\"y\":[7.386934673366834],\"type\":\"scatter\"},{\"marker\":{\"color\":\"black\",\"size\":12,\"symbol\":\"x\"},\"mode\":\"markers\",\"x\":[0],\"y\":[null],\"type\":\"scatter\"}],\"layout\":{\"annotations\":[{\"showarrow\":false,\"text\":\"V\\u002fc=0.995, \\u03b3=10.01, \\u0394\\u03c4=2.20\\u00b5s, H=10.0km\",\"x\":0.01,\"xref\":\"paper\",\"y\":1.12,\"yref\":\"paper\"},{\"showarrow\":false,\"text\":\"t=8.760\\u00b5s, \\u03c4=0.875\\u00b5s\",\"x\":0.01,\"xref\":\"paper\",\"y\":1.06,\"yref\":\"paper\"},{\"font\":{\"color\":\"blue\",\"size\":14},\"showarrow\":false,\"text\":\"En vuelo\",\"x\":0.99,\"xref\":\"paper\",\"y\":1.05,\"yref\":\"paper\"}]},\"name\":\"52\"},{\"data\":[{\"line\":{\"color\":\"green\",\"width\":4},\"mode\":\"lines\",\"name\":\"Superficie\",\"x\":[-1,1],\"y\":[0,0],\"type\":\"scatter\"},{\"line\":{\"color\":\"lightblue\",\"dash\":\"dash\",\"width\":4},\"mode\":\"lines\",\"name\":\"Tope Atm\\u00f3sfera\",\"x\":[-1,1],\"y\":[10.0,10.0],\"type\":\"scatter\"},{\"line\":{\"color\":\"grey\",\"dash\":\"dot\",\"width\":1},\"mode\":\"lines\",\"x\":[0,0],\"y\":[10.0,7.3366834170854265],\"type\":\"scatter\"},{\"marker\":{\"color\":\"red\",\"size\":10},\"mode\":\"markers\",\"x\":[0],\"y\":[7.3366834170854265],\"type\":\"scatter\"},{\"marker\":{\"color\":\"black\",\"size\":12,\"symbol\":\"x\"},\"mode\":\"markers\",\"x\":[0],\"y\":[null],\"type\":\"scatter\"}],\"layout\":{\"annotations\":[{\"showarrow\":false,\"text\":\"V\\u002fc=0.995, \\u03b3=10.01, \\u0394\\u03c4=2.20\\u00b5s, H=10.0km\",\"x\":0.01,\"xref\":\"paper\",\"y\":1.12,\"yref\":\"paper\"},{\"showarrow\":false,\"text\":\"t=8.929\\u00b5s, \\u03c4=0.892\\u00b5s\",\"x\":0.01,\"xref\":\"paper\",\"y\":1.06,\"yref\":\"paper\"},{\"font\":{\"color\":\"blue\",\"size\":14},\"showarrow\":false,\"text\":\"En vuelo\",\"x\":0.99,\"xref\":\"paper\",\"y\":1.05,\"yref\":\"paper\"}]},\"name\":\"53\"},{\"data\":[{\"line\":{\"color\":\"green\",\"width\":4},\"mode\":\"lines\",\"name\":\"Superficie\",\"x\":[-1,1],\"y\":[0,0],\"type\":\"scatter\"},{\"line\":{\"color\":\"lightblue\",\"dash\":\"dash\",\"width\":4},\"mode\":\"lines\",\"name\":\"Tope Atm\\u00f3sfera\",\"x\":[-1,1],\"y\":[10.0,10.0],\"type\":\"scatter\"},{\"line\":{\"color\":\"grey\",\"dash\":\"dot\",\"width\":1},\"mode\":\"lines\",\"x\":[0,0],\"y\":[10.0,7.28643216080402],\"type\":\"scatter\"},{\"marker\":{\"color\":\"red\",\"size\":10},\"mode\":\"markers\",\"x\":[0],\"y\":[7.28643216080402],\"type\":\"scatter\"},{\"marker\":{\"color\":\"black\",\"size\":12,\"symbol\":\"x\"},\"mode\":\"markers\",\"x\":[0],\"y\":[null],\"type\":\"scatter\"}],\"layout\":{\"annotations\":[{\"showarrow\":false,\"text\":\"V\\u002fc=0.995, \\u03b3=10.01, \\u0394\\u03c4=2.20\\u00b5s, H=10.0km\",\"x\":0.01,\"xref\":\"paper\",\"y\":1.12,\"yref\":\"paper\"},{\"showarrow\":false,\"text\":\"t=9.097\\u00b5s, \\u03c4=0.909\\u00b5s\",\"x\":0.01,\"xref\":\"paper\",\"y\":1.06,\"yref\":\"paper\"},{\"font\":{\"color\":\"blue\",\"size\":14},\"showarrow\":false,\"text\":\"En vuelo\",\"x\":0.99,\"xref\":\"paper\",\"y\":1.05,\"yref\":\"paper\"}]},\"name\":\"54\"},{\"data\":[{\"line\":{\"color\":\"green\",\"width\":4},\"mode\":\"lines\",\"name\":\"Superficie\",\"x\":[-1,1],\"y\":[0,0],\"type\":\"scatter\"},{\"line\":{\"color\":\"lightblue\",\"dash\":\"dash\",\"width\":4},\"mode\":\"lines\",\"name\":\"Tope Atm\\u00f3sfera\",\"x\":[-1,1],\"y\":[10.0,10.0],\"type\":\"scatter\"},{\"line\":{\"color\":\"grey\",\"dash\":\"dot\",\"width\":1},\"mode\":\"lines\",\"x\":[0,0],\"y\":[10.0,7.236180904522612],\"type\":\"scatter\"},{\"marker\":{\"color\":\"red\",\"size\":10},\"mode\":\"markers\",\"x\":[0],\"y\":[7.236180904522612],\"type\":\"scatter\"},{\"marker\":{\"color\":\"black\",\"size\":12,\"symbol\":\"x\"},\"mode\":\"markers\",\"x\":[0],\"y\":[null],\"type\":\"scatter\"}],\"layout\":{\"annotations\":[{\"showarrow\":false,\"text\":\"V\\u002fc=0.995, \\u03b3=10.01, \\u0394\\u03c4=2.20\\u00b5s, H=10.0km\",\"x\":0.01,\"xref\":\"paper\",\"y\":1.12,\"yref\":\"paper\"},{\"showarrow\":false,\"text\":\"t=9.265\\u00b5s, \\u03c4=0.925\\u00b5s\",\"x\":0.01,\"xref\":\"paper\",\"y\":1.06,\"yref\":\"paper\"},{\"font\":{\"color\":\"blue\",\"size\":14},\"showarrow\":false,\"text\":\"En vuelo\",\"x\":0.99,\"xref\":\"paper\",\"y\":1.05,\"yref\":\"paper\"}]},\"name\":\"55\"},{\"data\":[{\"line\":{\"color\":\"green\",\"width\":4},\"mode\":\"lines\",\"name\":\"Superficie\",\"x\":[-1,1],\"y\":[0,0],\"type\":\"scatter\"},{\"line\":{\"color\":\"lightblue\",\"dash\":\"dash\",\"width\":4},\"mode\":\"lines\",\"name\":\"Tope Atm\\u00f3sfera\",\"x\":[-1,1],\"y\":[10.0,10.0],\"type\":\"scatter\"},{\"line\":{\"color\":\"grey\",\"dash\":\"dot\",\"width\":1},\"mode\":\"lines\",\"x\":[0,0],\"y\":[10.0,7.185929648241206],\"type\":\"scatter\"},{\"marker\":{\"color\":\"red\",\"size\":10},\"mode\":\"markers\",\"x\":[0],\"y\":[7.185929648241206],\"type\":\"scatter\"},{\"marker\":{\"color\":\"black\",\"size\":12,\"symbol\":\"x\"},\"mode\":\"markers\",\"x\":[0],\"y\":[null],\"type\":\"scatter\"}],\"layout\":{\"annotations\":[{\"showarrow\":false,\"text\":\"V\\u002fc=0.995, \\u03b3=10.01, \\u0394\\u03c4=2.20\\u00b5s, H=10.0km\",\"x\":0.01,\"xref\":\"paper\",\"y\":1.12,\"yref\":\"paper\"},{\"showarrow\":false,\"text\":\"t=9.434\\u00b5s, \\u03c4=0.942\\u00b5s\",\"x\":0.01,\"xref\":\"paper\",\"y\":1.06,\"yref\":\"paper\"},{\"font\":{\"color\":\"blue\",\"size\":14},\"showarrow\":false,\"text\":\"En vuelo\",\"x\":0.99,\"xref\":\"paper\",\"y\":1.05,\"yref\":\"paper\"}]},\"name\":\"56\"},{\"data\":[{\"line\":{\"color\":\"green\",\"width\":4},\"mode\":\"lines\",\"name\":\"Superficie\",\"x\":[-1,1],\"y\":[0,0],\"type\":\"scatter\"},{\"line\":{\"color\":\"lightblue\",\"dash\":\"dash\",\"width\":4},\"mode\":\"lines\",\"name\":\"Tope Atm\\u00f3sfera\",\"x\":[-1,1],\"y\":[10.0,10.0],\"type\":\"scatter\"},{\"line\":{\"color\":\"grey\",\"dash\":\"dot\",\"width\":1},\"mode\":\"lines\",\"x\":[0,0],\"y\":[10.0,7.135678391959799],\"type\":\"scatter\"},{\"marker\":{\"color\":\"red\",\"size\":10},\"mode\":\"markers\",\"x\":[0],\"y\":[7.135678391959799],\"type\":\"scatter\"},{\"marker\":{\"color\":\"black\",\"size\":12,\"symbol\":\"x\"},\"mode\":\"markers\",\"x\":[0],\"y\":[null],\"type\":\"scatter\"}],\"layout\":{\"annotations\":[{\"showarrow\":false,\"text\":\"V\\u002fc=0.995, \\u03b3=10.01, \\u0394\\u03c4=2.20\\u00b5s, H=10.0km\",\"x\":0.01,\"xref\":\"paper\",\"y\":1.12,\"yref\":\"paper\"},{\"showarrow\":false,\"text\":\"t=9.602\\u00b5s, \\u03c4=0.959\\u00b5s\",\"x\":0.01,\"xref\":\"paper\",\"y\":1.06,\"yref\":\"paper\"},{\"font\":{\"color\":\"blue\",\"size\":14},\"showarrow\":false,\"text\":\"En vuelo\",\"x\":0.99,\"xref\":\"paper\",\"y\":1.05,\"yref\":\"paper\"}]},\"name\":\"57\"},{\"data\":[{\"line\":{\"color\":\"green\",\"width\":4},\"mode\":\"lines\",\"name\":\"Superficie\",\"x\":[-1,1],\"y\":[0,0],\"type\":\"scatter\"},{\"line\":{\"color\":\"lightblue\",\"dash\":\"dash\",\"width\":4},\"mode\":\"lines\",\"name\":\"Tope Atm\\u00f3sfera\",\"x\":[-1,1],\"y\":[10.0,10.0],\"type\":\"scatter\"},{\"line\":{\"color\":\"grey\",\"dash\":\"dot\",\"width\":1},\"mode\":\"lines\",\"x\":[0,0],\"y\":[10.0,7.085427135678392],\"type\":\"scatter\"},{\"marker\":{\"color\":\"red\",\"size\":10},\"mode\":\"markers\",\"x\":[0],\"y\":[7.085427135678392],\"type\":\"scatter\"},{\"marker\":{\"color\":\"black\",\"size\":12,\"symbol\":\"x\"},\"mode\":\"markers\",\"x\":[0],\"y\":[null],\"type\":\"scatter\"}],\"layout\":{\"annotations\":[{\"showarrow\":false,\"text\":\"V\\u002fc=0.995, \\u03b3=10.01, \\u0394\\u03c4=2.20\\u00b5s, H=10.0km\",\"x\":0.01,\"xref\":\"paper\",\"y\":1.12,\"yref\":\"paper\"},{\"showarrow\":false,\"text\":\"t=9.771\\u00b5s, \\u03c4=0.976\\u00b5s\",\"x\":0.01,\"xref\":\"paper\",\"y\":1.06,\"yref\":\"paper\"},{\"font\":{\"color\":\"blue\",\"size\":14},\"showarrow\":false,\"text\":\"En vuelo\",\"x\":0.99,\"xref\":\"paper\",\"y\":1.05,\"yref\":\"paper\"}]},\"name\":\"58\"},{\"data\":[{\"line\":{\"color\":\"green\",\"width\":4},\"mode\":\"lines\",\"name\":\"Superficie\",\"x\":[-1,1],\"y\":[0,0],\"type\":\"scatter\"},{\"line\":{\"color\":\"lightblue\",\"dash\":\"dash\",\"width\":4},\"mode\":\"lines\",\"name\":\"Tope Atm\\u00f3sfera\",\"x\":[-1,1],\"y\":[10.0,10.0],\"type\":\"scatter\"},{\"line\":{\"color\":\"grey\",\"dash\":\"dot\",\"width\":1},\"mode\":\"lines\",\"x\":[0,0],\"y\":[10.0,7.035175879396984],\"type\":\"scatter\"},{\"marker\":{\"color\":\"red\",\"size\":10},\"mode\":\"markers\",\"x\":[0],\"y\":[7.035175879396984],\"type\":\"scatter\"},{\"marker\":{\"color\":\"black\",\"size\":12,\"symbol\":\"x\"},\"mode\":\"markers\",\"x\":[0],\"y\":[null],\"type\":\"scatter\"}],\"layout\":{\"annotations\":[{\"showarrow\":false,\"text\":\"V\\u002fc=0.995, \\u03b3=10.01, \\u0394\\u03c4=2.20\\u00b5s, H=10.0km\",\"x\":0.01,\"xref\":\"paper\",\"y\":1.12,\"yref\":\"paper\"},{\"showarrow\":false,\"text\":\"t=9.939\\u00b5s, \\u03c4=0.993\\u00b5s\",\"x\":0.01,\"xref\":\"paper\",\"y\":1.06,\"yref\":\"paper\"},{\"font\":{\"color\":\"blue\",\"size\":14},\"showarrow\":false,\"text\":\"En vuelo\",\"x\":0.99,\"xref\":\"paper\",\"y\":1.05,\"yref\":\"paper\"}]},\"name\":\"59\"},{\"data\":[{\"line\":{\"color\":\"green\",\"width\":4},\"mode\":\"lines\",\"name\":\"Superficie\",\"x\":[-1,1],\"y\":[0,0],\"type\":\"scatter\"},{\"line\":{\"color\":\"lightblue\",\"dash\":\"dash\",\"width\":4},\"mode\":\"lines\",\"name\":\"Tope Atm\\u00f3sfera\",\"x\":[-1,1],\"y\":[10.0,10.0],\"type\":\"scatter\"},{\"line\":{\"color\":\"grey\",\"dash\":\"dot\",\"width\":1},\"mode\":\"lines\",\"x\":[0,0],\"y\":[10.0,6.984924623115578],\"type\":\"scatter\"},{\"marker\":{\"color\":\"red\",\"size\":10},\"mode\":\"markers\",\"x\":[0],\"y\":[6.984924623115578],\"type\":\"scatter\"},{\"marker\":{\"color\":\"black\",\"size\":12,\"symbol\":\"x\"},\"mode\":\"markers\",\"x\":[0],\"y\":[null],\"type\":\"scatter\"}],\"layout\":{\"annotations\":[{\"showarrow\":false,\"text\":\"V\\u002fc=0.995, \\u03b3=10.01, \\u0394\\u03c4=2.20\\u00b5s, H=10.0km\",\"x\":0.01,\"xref\":\"paper\",\"y\":1.12,\"yref\":\"paper\"},{\"showarrow\":false,\"text\":\"t=10.108\\u00b5s, \\u03c4=1.010\\u00b5s\",\"x\":0.01,\"xref\":\"paper\",\"y\":1.06,\"yref\":\"paper\"},{\"font\":{\"color\":\"blue\",\"size\":14},\"showarrow\":false,\"text\":\"En vuelo\",\"x\":0.99,\"xref\":\"paper\",\"y\":1.05,\"yref\":\"paper\"}]},\"name\":\"60\"},{\"data\":[{\"line\":{\"color\":\"green\",\"width\":4},\"mode\":\"lines\",\"name\":\"Superficie\",\"x\":[-1,1],\"y\":[0,0],\"type\":\"scatter\"},{\"line\":{\"color\":\"lightblue\",\"dash\":\"dash\",\"width\":4},\"mode\":\"lines\",\"name\":\"Tope Atm\\u00f3sfera\",\"x\":[-1,1],\"y\":[10.0,10.0],\"type\":\"scatter\"},{\"line\":{\"color\":\"grey\",\"dash\":\"dot\",\"width\":1},\"mode\":\"lines\",\"x\":[0,0],\"y\":[10.0,6.93467336683417],\"type\":\"scatter\"},{\"marker\":{\"color\":\"red\",\"size\":10},\"mode\":\"markers\",\"x\":[0],\"y\":[6.93467336683417],\"type\":\"scatter\"},{\"marker\":{\"color\":\"black\",\"size\":12,\"symbol\":\"x\"},\"mode\":\"markers\",\"x\":[0],\"y\":[null],\"type\":\"scatter\"}],\"layout\":{\"annotations\":[{\"showarrow\":false,\"text\":\"V\\u002fc=0.995, \\u03b3=10.01, \\u0394\\u03c4=2.20\\u00b5s, H=10.0km\",\"x\":0.01,\"xref\":\"paper\",\"y\":1.12,\"yref\":\"paper\"},{\"showarrow\":false,\"text\":\"t=10.276\\u00b5s, \\u03c4=1.026\\u00b5s\",\"x\":0.01,\"xref\":\"paper\",\"y\":1.06,\"yref\":\"paper\"},{\"font\":{\"color\":\"blue\",\"size\":14},\"showarrow\":false,\"text\":\"En vuelo\",\"x\":0.99,\"xref\":\"paper\",\"y\":1.05,\"yref\":\"paper\"}]},\"name\":\"61\"},{\"data\":[{\"line\":{\"color\":\"green\",\"width\":4},\"mode\":\"lines\",\"name\":\"Superficie\",\"x\":[-1,1],\"y\":[0,0],\"type\":\"scatter\"},{\"line\":{\"color\":\"lightblue\",\"dash\":\"dash\",\"width\":4},\"mode\":\"lines\",\"name\":\"Tope Atm\\u00f3sfera\",\"x\":[-1,1],\"y\":[10.0,10.0],\"type\":\"scatter\"},{\"line\":{\"color\":\"grey\",\"dash\":\"dot\",\"width\":1},\"mode\":\"lines\",\"x\":[0,0],\"y\":[10.0,6.884422110552763],\"type\":\"scatter\"},{\"marker\":{\"color\":\"red\",\"size\":10},\"mode\":\"markers\",\"x\":[0],\"y\":[6.884422110552763],\"type\":\"scatter\"},{\"marker\":{\"color\":\"black\",\"size\":12,\"symbol\":\"x\"},\"mode\":\"markers\",\"x\":[0],\"y\":[null],\"type\":\"scatter\"}],\"layout\":{\"annotations\":[{\"showarrow\":false,\"text\":\"V\\u002fc=0.995, \\u03b3=10.01, \\u0394\\u03c4=2.20\\u00b5s, H=10.0km\",\"x\":0.01,\"xref\":\"paper\",\"y\":1.12,\"yref\":\"paper\"},{\"showarrow\":false,\"text\":\"t=10.445\\u00b5s, \\u03c4=1.043\\u00b5s\",\"x\":0.01,\"xref\":\"paper\",\"y\":1.06,\"yref\":\"paper\"},{\"font\":{\"color\":\"blue\",\"size\":14},\"showarrow\":false,\"text\":\"En vuelo\",\"x\":0.99,\"xref\":\"paper\",\"y\":1.05,\"yref\":\"paper\"}]},\"name\":\"62\"},{\"data\":[{\"line\":{\"color\":\"green\",\"width\":4},\"mode\":\"lines\",\"name\":\"Superficie\",\"x\":[-1,1],\"y\":[0,0],\"type\":\"scatter\"},{\"line\":{\"color\":\"lightblue\",\"dash\":\"dash\",\"width\":4},\"mode\":\"lines\",\"name\":\"Tope Atm\\u00f3sfera\",\"x\":[-1,1],\"y\":[10.0,10.0],\"type\":\"scatter\"},{\"line\":{\"color\":\"grey\",\"dash\":\"dot\",\"width\":1},\"mode\":\"lines\",\"x\":[0,0],\"y\":[10.0,6.834170854271356],\"type\":\"scatter\"},{\"marker\":{\"color\":\"red\",\"size\":10},\"mode\":\"markers\",\"x\":[0],\"y\":[6.834170854271356],\"type\":\"scatter\"},{\"marker\":{\"color\":\"black\",\"size\":12,\"symbol\":\"x\"},\"mode\":\"markers\",\"x\":[0],\"y\":[null],\"type\":\"scatter\"}],\"layout\":{\"annotations\":[{\"showarrow\":false,\"text\":\"V\\u002fc=0.995, \\u03b3=10.01, \\u0394\\u03c4=2.20\\u00b5s, H=10.0km\",\"x\":0.01,\"xref\":\"paper\",\"y\":1.12,\"yref\":\"paper\"},{\"showarrow\":false,\"text\":\"t=10.613\\u00b5s, \\u03c4=1.060\\u00b5s\",\"x\":0.01,\"xref\":\"paper\",\"y\":1.06,\"yref\":\"paper\"},{\"font\":{\"color\":\"blue\",\"size\":14},\"showarrow\":false,\"text\":\"En vuelo\",\"x\":0.99,\"xref\":\"paper\",\"y\":1.05,\"yref\":\"paper\"}]},\"name\":\"63\"},{\"data\":[{\"line\":{\"color\":\"green\",\"width\":4},\"mode\":\"lines\",\"name\":\"Superficie\",\"x\":[-1,1],\"y\":[0,0],\"type\":\"scatter\"},{\"line\":{\"color\":\"lightblue\",\"dash\":\"dash\",\"width\":4},\"mode\":\"lines\",\"name\":\"Tope Atm\\u00f3sfera\",\"x\":[-1,1],\"y\":[10.0,10.0],\"type\":\"scatter\"},{\"line\":{\"color\":\"grey\",\"dash\":\"dot\",\"width\":1},\"mode\":\"lines\",\"x\":[0,0],\"y\":[10.0,6.78391959798995],\"type\":\"scatter\"},{\"marker\":{\"color\":\"red\",\"size\":10},\"mode\":\"markers\",\"x\":[0],\"y\":[6.78391959798995],\"type\":\"scatter\"},{\"marker\":{\"color\":\"black\",\"size\":12,\"symbol\":\"x\"},\"mode\":\"markers\",\"x\":[0],\"y\":[null],\"type\":\"scatter\"}],\"layout\":{\"annotations\":[{\"showarrow\":false,\"text\":\"V\\u002fc=0.995, \\u03b3=10.01, \\u0394\\u03c4=2.20\\u00b5s, H=10.0km\",\"x\":0.01,\"xref\":\"paper\",\"y\":1.12,\"yref\":\"paper\"},{\"showarrow\":false,\"text\":\"t=10.782\\u00b5s, \\u03c4=1.077\\u00b5s\",\"x\":0.01,\"xref\":\"paper\",\"y\":1.06,\"yref\":\"paper\"},{\"font\":{\"color\":\"blue\",\"size\":14},\"showarrow\":false,\"text\":\"En vuelo\",\"x\":0.99,\"xref\":\"paper\",\"y\":1.05,\"yref\":\"paper\"}]},\"name\":\"64\"},{\"data\":[{\"line\":{\"color\":\"green\",\"width\":4},\"mode\":\"lines\",\"name\":\"Superficie\",\"x\":[-1,1],\"y\":[0,0],\"type\":\"scatter\"},{\"line\":{\"color\":\"lightblue\",\"dash\":\"dash\",\"width\":4},\"mode\":\"lines\",\"name\":\"Tope Atm\\u00f3sfera\",\"x\":[-1,1],\"y\":[10.0,10.0],\"type\":\"scatter\"},{\"line\":{\"color\":\"grey\",\"dash\":\"dot\",\"width\":1},\"mode\":\"lines\",\"x\":[0,0],\"y\":[10.0,6.733668341708542],\"type\":\"scatter\"},{\"marker\":{\"color\":\"red\",\"size\":10},\"mode\":\"markers\",\"x\":[0],\"y\":[6.733668341708542],\"type\":\"scatter\"},{\"marker\":{\"color\":\"black\",\"size\":12,\"symbol\":\"x\"},\"mode\":\"markers\",\"x\":[0],\"y\":[null],\"type\":\"scatter\"}],\"layout\":{\"annotations\":[{\"showarrow\":false,\"text\":\"V\\u002fc=0.995, \\u03b3=10.01, \\u0394\\u03c4=2.20\\u00b5s, H=10.0km\",\"x\":0.01,\"xref\":\"paper\",\"y\":1.12,\"yref\":\"paper\"},{\"showarrow\":false,\"text\":\"t=10.950\\u00b5s, \\u03c4=1.094\\u00b5s\",\"x\":0.01,\"xref\":\"paper\",\"y\":1.06,\"yref\":\"paper\"},{\"font\":{\"color\":\"blue\",\"size\":14},\"showarrow\":false,\"text\":\"En vuelo\",\"x\":0.99,\"xref\":\"paper\",\"y\":1.05,\"yref\":\"paper\"}]},\"name\":\"65\"},{\"data\":[{\"line\":{\"color\":\"green\",\"width\":4},\"mode\":\"lines\",\"name\":\"Superficie\",\"x\":[-1,1],\"y\":[0,0],\"type\":\"scatter\"},{\"line\":{\"color\":\"lightblue\",\"dash\":\"dash\",\"width\":4},\"mode\":\"lines\",\"name\":\"Tope Atm\\u00f3sfera\",\"x\":[-1,1],\"y\":[10.0,10.0],\"type\":\"scatter\"},{\"line\":{\"color\":\"grey\",\"dash\":\"dot\",\"width\":1},\"mode\":\"lines\",\"x\":[0,0],\"y\":[10.0,6.683417085427136],\"type\":\"scatter\"},{\"marker\":{\"color\":\"red\",\"size\":10},\"mode\":\"markers\",\"x\":[0],\"y\":[6.683417085427136],\"type\":\"scatter\"},{\"marker\":{\"color\":\"black\",\"size\":12,\"symbol\":\"x\"},\"mode\":\"markers\",\"x\":[0],\"y\":[null],\"type\":\"scatter\"}],\"layout\":{\"annotations\":[{\"showarrow\":false,\"text\":\"V\\u002fc=0.995, \\u03b3=10.01, \\u0394\\u03c4=2.20\\u00b5s, H=10.0km\",\"x\":0.01,\"xref\":\"paper\",\"y\":1.12,\"yref\":\"paper\"},{\"showarrow\":false,\"text\":\"t=11.119\\u00b5s, \\u03c4=1.110\\u00b5s\",\"x\":0.01,\"xref\":\"paper\",\"y\":1.06,\"yref\":\"paper\"},{\"font\":{\"color\":\"blue\",\"size\":14},\"showarrow\":false,\"text\":\"En vuelo\",\"x\":0.99,\"xref\":\"paper\",\"y\":1.05,\"yref\":\"paper\"}]},\"name\":\"66\"},{\"data\":[{\"line\":{\"color\":\"green\",\"width\":4},\"mode\":\"lines\",\"name\":\"Superficie\",\"x\":[-1,1],\"y\":[0,0],\"type\":\"scatter\"},{\"line\":{\"color\":\"lightblue\",\"dash\":\"dash\",\"width\":4},\"mode\":\"lines\",\"name\":\"Tope Atm\\u00f3sfera\",\"x\":[-1,1],\"y\":[10.0,10.0],\"type\":\"scatter\"},{\"line\":{\"color\":\"grey\",\"dash\":\"dot\",\"width\":1},\"mode\":\"lines\",\"x\":[0,0],\"y\":[10.0,6.633165829145728],\"type\":\"scatter\"},{\"marker\":{\"color\":\"red\",\"size\":10},\"mode\":\"markers\",\"x\":[0],\"y\":[6.633165829145728],\"type\":\"scatter\"},{\"marker\":{\"color\":\"black\",\"size\":12,\"symbol\":\"x\"},\"mode\":\"markers\",\"x\":[0],\"y\":[null],\"type\":\"scatter\"}],\"layout\":{\"annotations\":[{\"showarrow\":false,\"text\":\"V\\u002fc=0.995, \\u03b3=10.01, \\u0394\\u03c4=2.20\\u00b5s, H=10.0km\",\"x\":0.01,\"xref\":\"paper\",\"y\":1.12,\"yref\":\"paper\"},{\"showarrow\":false,\"text\":\"t=11.287\\u00b5s, \\u03c4=1.127\\u00b5s\",\"x\":0.01,\"xref\":\"paper\",\"y\":1.06,\"yref\":\"paper\"},{\"font\":{\"color\":\"blue\",\"size\":14},\"showarrow\":false,\"text\":\"En vuelo\",\"x\":0.99,\"xref\":\"paper\",\"y\":1.05,\"yref\":\"paper\"}]},\"name\":\"67\"},{\"data\":[{\"line\":{\"color\":\"green\",\"width\":4},\"mode\":\"lines\",\"name\":\"Superficie\",\"x\":[-1,1],\"y\":[0,0],\"type\":\"scatter\"},{\"line\":{\"color\":\"lightblue\",\"dash\":\"dash\",\"width\":4},\"mode\":\"lines\",\"name\":\"Tope Atm\\u00f3sfera\",\"x\":[-1,1],\"y\":[10.0,10.0],\"type\":\"scatter\"},{\"line\":{\"color\":\"grey\",\"dash\":\"dot\",\"width\":1},\"mode\":\"lines\",\"x\":[0,0],\"y\":[10.0,6.582914572864322],\"type\":\"scatter\"},{\"marker\":{\"color\":\"red\",\"size\":10},\"mode\":\"markers\",\"x\":[0],\"y\":[6.582914572864322],\"type\":\"scatter\"},{\"marker\":{\"color\":\"black\",\"size\":12,\"symbol\":\"x\"},\"mode\":\"markers\",\"x\":[0],\"y\":[null],\"type\":\"scatter\"}],\"layout\":{\"annotations\":[{\"showarrow\":false,\"text\":\"V\\u002fc=0.995, \\u03b3=10.01, \\u0394\\u03c4=2.20\\u00b5s, H=10.0km\",\"x\":0.01,\"xref\":\"paper\",\"y\":1.12,\"yref\":\"paper\"},{\"showarrow\":false,\"text\":\"t=11.455\\u00b5s, \\u03c4=1.144\\u00b5s\",\"x\":0.01,\"xref\":\"paper\",\"y\":1.06,\"yref\":\"paper\"},{\"font\":{\"color\":\"blue\",\"size\":14},\"showarrow\":false,\"text\":\"En vuelo\",\"x\":0.99,\"xref\":\"paper\",\"y\":1.05,\"yref\":\"paper\"}]},\"name\":\"68\"},{\"data\":[{\"line\":{\"color\":\"green\",\"width\":4},\"mode\":\"lines\",\"name\":\"Superficie\",\"x\":[-1,1],\"y\":[0,0],\"type\":\"scatter\"},{\"line\":{\"color\":\"lightblue\",\"dash\":\"dash\",\"width\":4},\"mode\":\"lines\",\"name\":\"Tope Atm\\u00f3sfera\",\"x\":[-1,1],\"y\":[10.0,10.0],\"type\":\"scatter\"},{\"line\":{\"color\":\"grey\",\"dash\":\"dot\",\"width\":1},\"mode\":\"lines\",\"x\":[0,0],\"y\":[10.0,6.532663316582915],\"type\":\"scatter\"},{\"marker\":{\"color\":\"red\",\"size\":10},\"mode\":\"markers\",\"x\":[0],\"y\":[6.532663316582915],\"type\":\"scatter\"},{\"marker\":{\"color\":\"black\",\"size\":12,\"symbol\":\"x\"},\"mode\":\"markers\",\"x\":[0],\"y\":[null],\"type\":\"scatter\"}],\"layout\":{\"annotations\":[{\"showarrow\":false,\"text\":\"V\\u002fc=0.995, \\u03b3=10.01, \\u0394\\u03c4=2.20\\u00b5s, H=10.0km\",\"x\":0.01,\"xref\":\"paper\",\"y\":1.12,\"yref\":\"paper\"},{\"showarrow\":false,\"text\":\"t=11.624\\u00b5s, \\u03c4=1.161\\u00b5s\",\"x\":0.01,\"xref\":\"paper\",\"y\":1.06,\"yref\":\"paper\"},{\"font\":{\"color\":\"blue\",\"size\":14},\"showarrow\":false,\"text\":\"En vuelo\",\"x\":0.99,\"xref\":\"paper\",\"y\":1.05,\"yref\":\"paper\"}]},\"name\":\"69\"},{\"data\":[{\"line\":{\"color\":\"green\",\"width\":4},\"mode\":\"lines\",\"name\":\"Superficie\",\"x\":[-1,1],\"y\":[0,0],\"type\":\"scatter\"},{\"line\":{\"color\":\"lightblue\",\"dash\":\"dash\",\"width\":4},\"mode\":\"lines\",\"name\":\"Tope Atm\\u00f3sfera\",\"x\":[-1,1],\"y\":[10.0,10.0],\"type\":\"scatter\"},{\"line\":{\"color\":\"grey\",\"dash\":\"dot\",\"width\":1},\"mode\":\"lines\",\"x\":[0,0],\"y\":[10.0,6.482412060301508],\"type\":\"scatter\"},{\"marker\":{\"color\":\"red\",\"size\":10},\"mode\":\"markers\",\"x\":[0],\"y\":[6.482412060301508],\"type\":\"scatter\"},{\"marker\":{\"color\":\"black\",\"size\":12,\"symbol\":\"x\"},\"mode\":\"markers\",\"x\":[0],\"y\":[null],\"type\":\"scatter\"}],\"layout\":{\"annotations\":[{\"showarrow\":false,\"text\":\"V\\u002fc=0.995, \\u03b3=10.01, \\u0394\\u03c4=2.20\\u00b5s, H=10.0km\",\"x\":0.01,\"xref\":\"paper\",\"y\":1.12,\"yref\":\"paper\"},{\"showarrow\":false,\"text\":\"t=11.792\\u00b5s, \\u03c4=1.178\\u00b5s\",\"x\":0.01,\"xref\":\"paper\",\"y\":1.06,\"yref\":\"paper\"},{\"font\":{\"color\":\"blue\",\"size\":14},\"showarrow\":false,\"text\":\"En vuelo\",\"x\":0.99,\"xref\":\"paper\",\"y\":1.05,\"yref\":\"paper\"}]},\"name\":\"70\"},{\"data\":[{\"line\":{\"color\":\"green\",\"width\":4},\"mode\":\"lines\",\"name\":\"Superficie\",\"x\":[-1,1],\"y\":[0,0],\"type\":\"scatter\"},{\"line\":{\"color\":\"lightblue\",\"dash\":\"dash\",\"width\":4},\"mode\":\"lines\",\"name\":\"Tope Atm\\u00f3sfera\",\"x\":[-1,1],\"y\":[10.0,10.0],\"type\":\"scatter\"},{\"line\":{\"color\":\"grey\",\"dash\":\"dot\",\"width\":1},\"mode\":\"lines\",\"x\":[0,0],\"y\":[10.0,6.4321608040201],\"type\":\"scatter\"},{\"marker\":{\"color\":\"red\",\"size\":10},\"mode\":\"markers\",\"x\":[0],\"y\":[6.4321608040201],\"type\":\"scatter\"},{\"marker\":{\"color\":\"black\",\"size\":12,\"symbol\":\"x\"},\"mode\":\"markers\",\"x\":[0],\"y\":[null],\"type\":\"scatter\"}],\"layout\":{\"annotations\":[{\"showarrow\":false,\"text\":\"V\\u002fc=0.995, \\u03b3=10.01, \\u0394\\u03c4=2.20\\u00b5s, H=10.0km\",\"x\":0.01,\"xref\":\"paper\",\"y\":1.12,\"yref\":\"paper\"},{\"showarrow\":false,\"text\":\"t=11.961\\u00b5s, \\u03c4=1.195\\u00b5s\",\"x\":0.01,\"xref\":\"paper\",\"y\":1.06,\"yref\":\"paper\"},{\"font\":{\"color\":\"blue\",\"size\":14},\"showarrow\":false,\"text\":\"En vuelo\",\"x\":0.99,\"xref\":\"paper\",\"y\":1.05,\"yref\":\"paper\"}]},\"name\":\"71\"},{\"data\":[{\"line\":{\"color\":\"green\",\"width\":4},\"mode\":\"lines\",\"name\":\"Superficie\",\"x\":[-1,1],\"y\":[0,0],\"type\":\"scatter\"},{\"line\":{\"color\":\"lightblue\",\"dash\":\"dash\",\"width\":4},\"mode\":\"lines\",\"name\":\"Tope Atm\\u00f3sfera\",\"x\":[-1,1],\"y\":[10.0,10.0],\"type\":\"scatter\"},{\"line\":{\"color\":\"grey\",\"dash\":\"dot\",\"width\":1},\"mode\":\"lines\",\"x\":[0,0],\"y\":[10.0,6.381909547738693],\"type\":\"scatter\"},{\"marker\":{\"color\":\"red\",\"size\":10},\"mode\":\"markers\",\"x\":[0],\"y\":[6.381909547738693],\"type\":\"scatter\"},{\"marker\":{\"color\":\"black\",\"size\":12,\"symbol\":\"x\"},\"mode\":\"markers\",\"x\":[0],\"y\":[null],\"type\":\"scatter\"}],\"layout\":{\"annotations\":[{\"showarrow\":false,\"text\":\"V\\u002fc=0.995, \\u03b3=10.01, \\u0394\\u03c4=2.20\\u00b5s, H=10.0km\",\"x\":0.01,\"xref\":\"paper\",\"y\":1.12,\"yref\":\"paper\"},{\"showarrow\":false,\"text\":\"t=12.129\\u00b5s, \\u03c4=1.211\\u00b5s\",\"x\":0.01,\"xref\":\"paper\",\"y\":1.06,\"yref\":\"paper\"},{\"font\":{\"color\":\"blue\",\"size\":14},\"showarrow\":false,\"text\":\"En vuelo\",\"x\":0.99,\"xref\":\"paper\",\"y\":1.05,\"yref\":\"paper\"}]},\"name\":\"72\"},{\"data\":[{\"line\":{\"color\":\"green\",\"width\":4},\"mode\":\"lines\",\"name\":\"Superficie\",\"x\":[-1,1],\"y\":[0,0],\"type\":\"scatter\"},{\"line\":{\"color\":\"lightblue\",\"dash\":\"dash\",\"width\":4},\"mode\":\"lines\",\"name\":\"Tope Atm\\u00f3sfera\",\"x\":[-1,1],\"y\":[10.0,10.0],\"type\":\"scatter\"},{\"line\":{\"color\":\"grey\",\"dash\":\"dot\",\"width\":1},\"mode\":\"lines\",\"x\":[0,0],\"y\":[10.0,6.331658291457286],\"type\":\"scatter\"},{\"marker\":{\"color\":\"red\",\"size\":10},\"mode\":\"markers\",\"x\":[0],\"y\":[6.331658291457286],\"type\":\"scatter\"},{\"marker\":{\"color\":\"black\",\"size\":12,\"symbol\":\"x\"},\"mode\":\"markers\",\"x\":[0],\"y\":[null],\"type\":\"scatter\"}],\"layout\":{\"annotations\":[{\"showarrow\":false,\"text\":\"V\\u002fc=0.995, \\u03b3=10.01, \\u0394\\u03c4=2.20\\u00b5s, H=10.0km\",\"x\":0.01,\"xref\":\"paper\",\"y\":1.12,\"yref\":\"paper\"},{\"showarrow\":false,\"text\":\"t=12.298\\u00b5s, \\u03c4=1.228\\u00b5s\",\"x\":0.01,\"xref\":\"paper\",\"y\":1.06,\"yref\":\"paper\"},{\"font\":{\"color\":\"blue\",\"size\":14},\"showarrow\":false,\"text\":\"En vuelo\",\"x\":0.99,\"xref\":\"paper\",\"y\":1.05,\"yref\":\"paper\"}]},\"name\":\"73\"},{\"data\":[{\"line\":{\"color\":\"green\",\"width\":4},\"mode\":\"lines\",\"name\":\"Superficie\",\"x\":[-1,1],\"y\":[0,0],\"type\":\"scatter\"},{\"line\":{\"color\":\"lightblue\",\"dash\":\"dash\",\"width\":4},\"mode\":\"lines\",\"name\":\"Tope Atm\\u00f3sfera\",\"x\":[-1,1],\"y\":[10.0,10.0],\"type\":\"scatter\"},{\"line\":{\"color\":\"grey\",\"dash\":\"dot\",\"width\":1},\"mode\":\"lines\",\"x\":[0,0],\"y\":[10.0,6.281407035175879],\"type\":\"scatter\"},{\"marker\":{\"color\":\"red\",\"size\":10},\"mode\":\"markers\",\"x\":[0],\"y\":[6.281407035175879],\"type\":\"scatter\"},{\"marker\":{\"color\":\"black\",\"size\":12,\"symbol\":\"x\"},\"mode\":\"markers\",\"x\":[0],\"y\":[null],\"type\":\"scatter\"}],\"layout\":{\"annotations\":[{\"showarrow\":false,\"text\":\"V\\u002fc=0.995, \\u03b3=10.01, \\u0394\\u03c4=2.20\\u00b5s, H=10.0km\",\"x\":0.01,\"xref\":\"paper\",\"y\":1.12,\"yref\":\"paper\"},{\"showarrow\":false,\"text\":\"t=12.466\\u00b5s, \\u03c4=1.245\\u00b5s\",\"x\":0.01,\"xref\":\"paper\",\"y\":1.06,\"yref\":\"paper\"},{\"font\":{\"color\":\"blue\",\"size\":14},\"showarrow\":false,\"text\":\"En vuelo\",\"x\":0.99,\"xref\":\"paper\",\"y\":1.05,\"yref\":\"paper\"}]},\"name\":\"74\"},{\"data\":[{\"line\":{\"color\":\"green\",\"width\":4},\"mode\":\"lines\",\"name\":\"Superficie\",\"x\":[-1,1],\"y\":[0,0],\"type\":\"scatter\"},{\"line\":{\"color\":\"lightblue\",\"dash\":\"dash\",\"width\":4},\"mode\":\"lines\",\"name\":\"Tope Atm\\u00f3sfera\",\"x\":[-1,1],\"y\":[10.0,10.0],\"type\":\"scatter\"},{\"line\":{\"color\":\"grey\",\"dash\":\"dot\",\"width\":1},\"mode\":\"lines\",\"x\":[0,0],\"y\":[10.0,6.231155778894472],\"type\":\"scatter\"},{\"marker\":{\"color\":\"red\",\"size\":10},\"mode\":\"markers\",\"x\":[0],\"y\":[6.231155778894472],\"type\":\"scatter\"},{\"marker\":{\"color\":\"black\",\"size\":12,\"symbol\":\"x\"},\"mode\":\"markers\",\"x\":[0],\"y\":[null],\"type\":\"scatter\"}],\"layout\":{\"annotations\":[{\"showarrow\":false,\"text\":\"V\\u002fc=0.995, \\u03b3=10.01, \\u0394\\u03c4=2.20\\u00b5s, H=10.0km\",\"x\":0.01,\"xref\":\"paper\",\"y\":1.12,\"yref\":\"paper\"},{\"showarrow\":false,\"text\":\"t=12.635\\u00b5s, \\u03c4=1.262\\u00b5s\",\"x\":0.01,\"xref\":\"paper\",\"y\":1.06,\"yref\":\"paper\"},{\"font\":{\"color\":\"blue\",\"size\":14},\"showarrow\":false,\"text\":\"En vuelo\",\"x\":0.99,\"xref\":\"paper\",\"y\":1.05,\"yref\":\"paper\"}]},\"name\":\"75\"},{\"data\":[{\"line\":{\"color\":\"green\",\"width\":4},\"mode\":\"lines\",\"name\":\"Superficie\",\"x\":[-1,1],\"y\":[0,0],\"type\":\"scatter\"},{\"line\":{\"color\":\"lightblue\",\"dash\":\"dash\",\"width\":4},\"mode\":\"lines\",\"name\":\"Tope Atm\\u00f3sfera\",\"x\":[-1,1],\"y\":[10.0,10.0],\"type\":\"scatter\"},{\"line\":{\"color\":\"grey\",\"dash\":\"dot\",\"width\":1},\"mode\":\"lines\",\"x\":[0,0],\"y\":[10.0,6.180904522613066],\"type\":\"scatter\"},{\"marker\":{\"color\":\"red\",\"size\":10},\"mode\":\"markers\",\"x\":[0],\"y\":[6.180904522613066],\"type\":\"scatter\"},{\"marker\":{\"color\":\"black\",\"size\":12,\"symbol\":\"x\"},\"mode\":\"markers\",\"x\":[0],\"y\":[null],\"type\":\"scatter\"}],\"layout\":{\"annotations\":[{\"showarrow\":false,\"text\":\"V\\u002fc=0.995, \\u03b3=10.01, \\u0394\\u03c4=2.20\\u00b5s, H=10.0km\",\"x\":0.01,\"xref\":\"paper\",\"y\":1.12,\"yref\":\"paper\"},{\"showarrow\":false,\"text\":\"t=12.803\\u00b5s, \\u03c4=1.279\\u00b5s\",\"x\":0.01,\"xref\":\"paper\",\"y\":1.06,\"yref\":\"paper\"},{\"font\":{\"color\":\"blue\",\"size\":14},\"showarrow\":false,\"text\":\"En vuelo\",\"x\":0.99,\"xref\":\"paper\",\"y\":1.05,\"yref\":\"paper\"}]},\"name\":\"76\"},{\"data\":[{\"line\":{\"color\":\"green\",\"width\":4},\"mode\":\"lines\",\"name\":\"Superficie\",\"x\":[-1,1],\"y\":[0,0],\"type\":\"scatter\"},{\"line\":{\"color\":\"lightblue\",\"dash\":\"dash\",\"width\":4},\"mode\":\"lines\",\"name\":\"Tope Atm\\u00f3sfera\",\"x\":[-1,1],\"y\":[10.0,10.0],\"type\":\"scatter\"},{\"line\":{\"color\":\"grey\",\"dash\":\"dot\",\"width\":1},\"mode\":\"lines\",\"x\":[0,0],\"y\":[10.0,6.130653266331658],\"type\":\"scatter\"},{\"marker\":{\"color\":\"red\",\"size\":10},\"mode\":\"markers\",\"x\":[0],\"y\":[6.130653266331658],\"type\":\"scatter\"},{\"marker\":{\"color\":\"black\",\"size\":12,\"symbol\":\"x\"},\"mode\":\"markers\",\"x\":[0],\"y\":[null],\"type\":\"scatter\"}],\"layout\":{\"annotations\":[{\"showarrow\":false,\"text\":\"V\\u002fc=0.995, \\u03b3=10.01, \\u0394\\u03c4=2.20\\u00b5s, H=10.0km\",\"x\":0.01,\"xref\":\"paper\",\"y\":1.12,\"yref\":\"paper\"},{\"showarrow\":false,\"text\":\"t=12.972\\u00b5s, \\u03c4=1.296\\u00b5s\",\"x\":0.01,\"xref\":\"paper\",\"y\":1.06,\"yref\":\"paper\"},{\"font\":{\"color\":\"blue\",\"size\":14},\"showarrow\":false,\"text\":\"En vuelo\",\"x\":0.99,\"xref\":\"paper\",\"y\":1.05,\"yref\":\"paper\"}]},\"name\":\"77\"},{\"data\":[{\"line\":{\"color\":\"green\",\"width\":4},\"mode\":\"lines\",\"name\":\"Superficie\",\"x\":[-1,1],\"y\":[0,0],\"type\":\"scatter\"},{\"line\":{\"color\":\"lightblue\",\"dash\":\"dash\",\"width\":4},\"mode\":\"lines\",\"name\":\"Tope Atm\\u00f3sfera\",\"x\":[-1,1],\"y\":[10.0,10.0],\"type\":\"scatter\"},{\"line\":{\"color\":\"grey\",\"dash\":\"dot\",\"width\":1},\"mode\":\"lines\",\"x\":[0,0],\"y\":[10.0,6.080402010050251],\"type\":\"scatter\"},{\"marker\":{\"color\":\"red\",\"size\":10},\"mode\":\"markers\",\"x\":[0],\"y\":[6.080402010050251],\"type\":\"scatter\"},{\"marker\":{\"color\":\"black\",\"size\":12,\"symbol\":\"x\"},\"mode\":\"markers\",\"x\":[0],\"y\":[null],\"type\":\"scatter\"}],\"layout\":{\"annotations\":[{\"showarrow\":false,\"text\":\"V\\u002fc=0.995, \\u03b3=10.01, \\u0394\\u03c4=2.20\\u00b5s, H=10.0km\",\"x\":0.01,\"xref\":\"paper\",\"y\":1.12,\"yref\":\"paper\"},{\"showarrow\":false,\"text\":\"t=13.140\\u00b5s, \\u03c4=1.312\\u00b5s\",\"x\":0.01,\"xref\":\"paper\",\"y\":1.06,\"yref\":\"paper\"},{\"font\":{\"color\":\"blue\",\"size\":14},\"showarrow\":false,\"text\":\"En vuelo\",\"x\":0.99,\"xref\":\"paper\",\"y\":1.05,\"yref\":\"paper\"}]},\"name\":\"78\"},{\"data\":[{\"line\":{\"color\":\"green\",\"width\":4},\"mode\":\"lines\",\"name\":\"Superficie\",\"x\":[-1,1],\"y\":[0,0],\"type\":\"scatter\"},{\"line\":{\"color\":\"lightblue\",\"dash\":\"dash\",\"width\":4},\"mode\":\"lines\",\"name\":\"Tope Atm\\u00f3sfera\",\"x\":[-1,1],\"y\":[10.0,10.0],\"type\":\"scatter\"},{\"line\":{\"color\":\"grey\",\"dash\":\"dot\",\"width\":1},\"mode\":\"lines\",\"x\":[0,0],\"y\":[10.0,6.030150753768844],\"type\":\"scatter\"},{\"marker\":{\"color\":\"red\",\"size\":10},\"mode\":\"markers\",\"x\":[0],\"y\":[6.030150753768844],\"type\":\"scatter\"},{\"marker\":{\"color\":\"black\",\"size\":12,\"symbol\":\"x\"},\"mode\":\"markers\",\"x\":[0],\"y\":[null],\"type\":\"scatter\"}],\"layout\":{\"annotations\":[{\"showarrow\":false,\"text\":\"V\\u002fc=0.995, \\u03b3=10.01, \\u0394\\u03c4=2.20\\u00b5s, H=10.0km\",\"x\":0.01,\"xref\":\"paper\",\"y\":1.12,\"yref\":\"paper\"},{\"showarrow\":false,\"text\":\"t=13.309\\u00b5s, \\u03c4=1.329\\u00b5s\",\"x\":0.01,\"xref\":\"paper\",\"y\":1.06,\"yref\":\"paper\"},{\"font\":{\"color\":\"blue\",\"size\":14},\"showarrow\":false,\"text\":\"En vuelo\",\"x\":0.99,\"xref\":\"paper\",\"y\":1.05,\"yref\":\"paper\"}]},\"name\":\"79\"},{\"data\":[{\"line\":{\"color\":\"green\",\"width\":4},\"mode\":\"lines\",\"name\":\"Superficie\",\"x\":[-1,1],\"y\":[0,0],\"type\":\"scatter\"},{\"line\":{\"color\":\"lightblue\",\"dash\":\"dash\",\"width\":4},\"mode\":\"lines\",\"name\":\"Tope Atm\\u00f3sfera\",\"x\":[-1,1],\"y\":[10.0,10.0],\"type\":\"scatter\"},{\"line\":{\"color\":\"grey\",\"dash\":\"dot\",\"width\":1},\"mode\":\"lines\",\"x\":[0,0],\"y\":[10.0,5.9798994974874375],\"type\":\"scatter\"},{\"marker\":{\"color\":\"red\",\"size\":10},\"mode\":\"markers\",\"x\":[0],\"y\":[5.9798994974874375],\"type\":\"scatter\"},{\"marker\":{\"color\":\"black\",\"size\":12,\"symbol\":\"x\"},\"mode\":\"markers\",\"x\":[0],\"y\":[null],\"type\":\"scatter\"}],\"layout\":{\"annotations\":[{\"showarrow\":false,\"text\":\"V\\u002fc=0.995, \\u03b3=10.01, \\u0394\\u03c4=2.20\\u00b5s, H=10.0km\",\"x\":0.01,\"xref\":\"paper\",\"y\":1.12,\"yref\":\"paper\"},{\"showarrow\":false,\"text\":\"t=13.477\\u00b5s, \\u03c4=1.346\\u00b5s\",\"x\":0.01,\"xref\":\"paper\",\"y\":1.06,\"yref\":\"paper\"},{\"font\":{\"color\":\"blue\",\"size\":14},\"showarrow\":false,\"text\":\"En vuelo\",\"x\":0.99,\"xref\":\"paper\",\"y\":1.05,\"yref\":\"paper\"}]},\"name\":\"80\"},{\"data\":[{\"line\":{\"color\":\"green\",\"width\":4},\"mode\":\"lines\",\"name\":\"Superficie\",\"x\":[-1,1],\"y\":[0,0],\"type\":\"scatter\"},{\"line\":{\"color\":\"lightblue\",\"dash\":\"dash\",\"width\":4},\"mode\":\"lines\",\"name\":\"Tope Atm\\u00f3sfera\",\"x\":[-1,1],\"y\":[10.0,10.0],\"type\":\"scatter\"},{\"line\":{\"color\":\"grey\",\"dash\":\"dot\",\"width\":1},\"mode\":\"lines\",\"x\":[0,0],\"y\":[10.0,5.92964824120603],\"type\":\"scatter\"},{\"marker\":{\"color\":\"red\",\"size\":10},\"mode\":\"markers\",\"x\":[0],\"y\":[5.92964824120603],\"type\":\"scatter\"},{\"marker\":{\"color\":\"black\",\"size\":12,\"symbol\":\"x\"},\"mode\":\"markers\",\"x\":[0],\"y\":[null],\"type\":\"scatter\"}],\"layout\":{\"annotations\":[{\"showarrow\":false,\"text\":\"V\\u002fc=0.995, \\u03b3=10.01, \\u0394\\u03c4=2.20\\u00b5s, H=10.0km\",\"x\":0.01,\"xref\":\"paper\",\"y\":1.12,\"yref\":\"paper\"},{\"showarrow\":false,\"text\":\"t=13.645\\u00b5s, \\u03c4=1.363\\u00b5s\",\"x\":0.01,\"xref\":\"paper\",\"y\":1.06,\"yref\":\"paper\"},{\"font\":{\"color\":\"blue\",\"size\":14},\"showarrow\":false,\"text\":\"En vuelo\",\"x\":0.99,\"xref\":\"paper\",\"y\":1.05,\"yref\":\"paper\"}]},\"name\":\"81\"},{\"data\":[{\"line\":{\"color\":\"green\",\"width\":4},\"mode\":\"lines\",\"name\":\"Superficie\",\"x\":[-1,1],\"y\":[0,0],\"type\":\"scatter\"},{\"line\":{\"color\":\"lightblue\",\"dash\":\"dash\",\"width\":4},\"mode\":\"lines\",\"name\":\"Tope Atm\\u00f3sfera\",\"x\":[-1,1],\"y\":[10.0,10.0],\"type\":\"scatter\"},{\"line\":{\"color\":\"grey\",\"dash\":\"dot\",\"width\":1},\"mode\":\"lines\",\"x\":[0,0],\"y\":[10.0,5.8793969849246235],\"type\":\"scatter\"},{\"marker\":{\"color\":\"red\",\"size\":10},\"mode\":\"markers\",\"x\":[0],\"y\":[5.8793969849246235],\"type\":\"scatter\"},{\"marker\":{\"color\":\"black\",\"size\":12,\"symbol\":\"x\"},\"mode\":\"markers\",\"x\":[0],\"y\":[null],\"type\":\"scatter\"}],\"layout\":{\"annotations\":[{\"showarrow\":false,\"text\":\"V\\u002fc=0.995, \\u03b3=10.01, \\u0394\\u03c4=2.20\\u00b5s, H=10.0km\",\"x\":0.01,\"xref\":\"paper\",\"y\":1.12,\"yref\":\"paper\"},{\"showarrow\":false,\"text\":\"t=13.814\\u00b5s, \\u03c4=1.380\\u00b5s\",\"x\":0.01,\"xref\":\"paper\",\"y\":1.06,\"yref\":\"paper\"},{\"font\":{\"color\":\"blue\",\"size\":14},\"showarrow\":false,\"text\":\"En vuelo\",\"x\":0.99,\"xref\":\"paper\",\"y\":1.05,\"yref\":\"paper\"}]},\"name\":\"82\"},{\"data\":[{\"line\":{\"color\":\"green\",\"width\":4},\"mode\":\"lines\",\"name\":\"Superficie\",\"x\":[-1,1],\"y\":[0,0],\"type\":\"scatter\"},{\"line\":{\"color\":\"lightblue\",\"dash\":\"dash\",\"width\":4},\"mode\":\"lines\",\"name\":\"Tope Atm\\u00f3sfera\",\"x\":[-1,1],\"y\":[10.0,10.0],\"type\":\"scatter\"},{\"line\":{\"color\":\"grey\",\"dash\":\"dot\",\"width\":1},\"mode\":\"lines\",\"x\":[0,0],\"y\":[10.0,5.829145728643216],\"type\":\"scatter\"},{\"marker\":{\"color\":\"red\",\"size\":10},\"mode\":\"markers\",\"x\":[0],\"y\":[5.829145728643216],\"type\":\"scatter\"},{\"marker\":{\"color\":\"black\",\"size\":12,\"symbol\":\"x\"},\"mode\":\"markers\",\"x\":[0],\"y\":[null],\"type\":\"scatter\"}],\"layout\":{\"annotations\":[{\"showarrow\":false,\"text\":\"V\\u002fc=0.995, \\u03b3=10.01, \\u0394\\u03c4=2.20\\u00b5s, H=10.0km\",\"x\":0.01,\"xref\":\"paper\",\"y\":1.12,\"yref\":\"paper\"},{\"showarrow\":false,\"text\":\"t=13.982\\u00b5s, \\u03c4=1.396\\u00b5s\",\"x\":0.01,\"xref\":\"paper\",\"y\":1.06,\"yref\":\"paper\"},{\"font\":{\"color\":\"blue\",\"size\":14},\"showarrow\":false,\"text\":\"En vuelo\",\"x\":0.99,\"xref\":\"paper\",\"y\":1.05,\"yref\":\"paper\"}]},\"name\":\"83\"},{\"data\":[{\"line\":{\"color\":\"green\",\"width\":4},\"mode\":\"lines\",\"name\":\"Superficie\",\"x\":[-1,1],\"y\":[0,0],\"type\":\"scatter\"},{\"line\":{\"color\":\"lightblue\",\"dash\":\"dash\",\"width\":4},\"mode\":\"lines\",\"name\":\"Tope Atm\\u00f3sfera\",\"x\":[-1,1],\"y\":[10.0,10.0],\"type\":\"scatter\"},{\"line\":{\"color\":\"grey\",\"dash\":\"dot\",\"width\":1},\"mode\":\"lines\",\"x\":[0,0],\"y\":[10.0,5.7788944723618085],\"type\":\"scatter\"},{\"marker\":{\"color\":\"red\",\"size\":10},\"mode\":\"markers\",\"x\":[0],\"y\":[5.7788944723618085],\"type\":\"scatter\"},{\"marker\":{\"color\":\"black\",\"size\":12,\"symbol\":\"x\"},\"mode\":\"markers\",\"x\":[0],\"y\":[null],\"type\":\"scatter\"}],\"layout\":{\"annotations\":[{\"showarrow\":false,\"text\":\"V\\u002fc=0.995, \\u03b3=10.01, \\u0394\\u03c4=2.20\\u00b5s, H=10.0km\",\"x\":0.01,\"xref\":\"paper\",\"y\":1.12,\"yref\":\"paper\"},{\"showarrow\":false,\"text\":\"t=14.151\\u00b5s, \\u03c4=1.413\\u00b5s\",\"x\":0.01,\"xref\":\"paper\",\"y\":1.06,\"yref\":\"paper\"},{\"font\":{\"color\":\"blue\",\"size\":14},\"showarrow\":false,\"text\":\"En vuelo\",\"x\":0.99,\"xref\":\"paper\",\"y\":1.05,\"yref\":\"paper\"}]},\"name\":\"84\"},{\"data\":[{\"line\":{\"color\":\"green\",\"width\":4},\"mode\":\"lines\",\"name\":\"Superficie\",\"x\":[-1,1],\"y\":[0,0],\"type\":\"scatter\"},{\"line\":{\"color\":\"lightblue\",\"dash\":\"dash\",\"width\":4},\"mode\":\"lines\",\"name\":\"Tope Atm\\u00f3sfera\",\"x\":[-1,1],\"y\":[10.0,10.0],\"type\":\"scatter\"},{\"line\":{\"color\":\"grey\",\"dash\":\"dot\",\"width\":1},\"mode\":\"lines\",\"x\":[0,0],\"y\":[10.0,5.728643216080402],\"type\":\"scatter\"},{\"marker\":{\"color\":\"red\",\"size\":10},\"mode\":\"markers\",\"x\":[0],\"y\":[5.728643216080402],\"type\":\"scatter\"},{\"marker\":{\"color\":\"black\",\"size\":12,\"symbol\":\"x\"},\"mode\":\"markers\",\"x\":[0],\"y\":[null],\"type\":\"scatter\"}],\"layout\":{\"annotations\":[{\"showarrow\":false,\"text\":\"V\\u002fc=0.995, \\u03b3=10.01, \\u0394\\u03c4=2.20\\u00b5s, H=10.0km\",\"x\":0.01,\"xref\":\"paper\",\"y\":1.12,\"yref\":\"paper\"},{\"showarrow\":false,\"text\":\"t=14.319\\u00b5s, \\u03c4=1.430\\u00b5s\",\"x\":0.01,\"xref\":\"paper\",\"y\":1.06,\"yref\":\"paper\"},{\"font\":{\"color\":\"blue\",\"size\":14},\"showarrow\":false,\"text\":\"En vuelo\",\"x\":0.99,\"xref\":\"paper\",\"y\":1.05,\"yref\":\"paper\"}]},\"name\":\"85\"},{\"data\":[{\"line\":{\"color\":\"green\",\"width\":4},\"mode\":\"lines\",\"name\":\"Superficie\",\"x\":[-1,1],\"y\":[0,0],\"type\":\"scatter\"},{\"line\":{\"color\":\"lightblue\",\"dash\":\"dash\",\"width\":4},\"mode\":\"lines\",\"name\":\"Tope Atm\\u00f3sfera\",\"x\":[-1,1],\"y\":[10.0,10.0],\"type\":\"scatter\"},{\"line\":{\"color\":\"grey\",\"dash\":\"dot\",\"width\":1},\"mode\":\"lines\",\"x\":[0,0],\"y\":[10.0,5.6783919597989945],\"type\":\"scatter\"},{\"marker\":{\"color\":\"red\",\"size\":10},\"mode\":\"markers\",\"x\":[0],\"y\":[5.6783919597989945],\"type\":\"scatter\"},{\"marker\":{\"color\":\"black\",\"size\":12,\"symbol\":\"x\"},\"mode\":\"markers\",\"x\":[0],\"y\":[null],\"type\":\"scatter\"}],\"layout\":{\"annotations\":[{\"showarrow\":false,\"text\":\"V\\u002fc=0.995, \\u03b3=10.01, \\u0394\\u03c4=2.20\\u00b5s, H=10.0km\",\"x\":0.01,\"xref\":\"paper\",\"y\":1.12,\"yref\":\"paper\"},{\"showarrow\":false,\"text\":\"t=14.488\\u00b5s, \\u03c4=1.447\\u00b5s\",\"x\":0.01,\"xref\":\"paper\",\"y\":1.06,\"yref\":\"paper\"},{\"font\":{\"color\":\"blue\",\"size\":14},\"showarrow\":false,\"text\":\"En vuelo\",\"x\":0.99,\"xref\":\"paper\",\"y\":1.05,\"yref\":\"paper\"}]},\"name\":\"86\"},{\"data\":[{\"line\":{\"color\":\"green\",\"width\":4},\"mode\":\"lines\",\"name\":\"Superficie\",\"x\":[-1,1],\"y\":[0,0],\"type\":\"scatter\"},{\"line\":{\"color\":\"lightblue\",\"dash\":\"dash\",\"width\":4},\"mode\":\"lines\",\"name\":\"Tope Atm\\u00f3sfera\",\"x\":[-1,1],\"y\":[10.0,10.0],\"type\":\"scatter\"},{\"line\":{\"color\":\"grey\",\"dash\":\"dot\",\"width\":1},\"mode\":\"lines\",\"x\":[0,0],\"y\":[10.0,5.628140703517587],\"type\":\"scatter\"},{\"marker\":{\"color\":\"red\",\"size\":10},\"mode\":\"markers\",\"x\":[0],\"y\":[5.628140703517587],\"type\":\"scatter\"},{\"marker\":{\"color\":\"black\",\"size\":12,\"symbol\":\"x\"},\"mode\":\"markers\",\"x\":[0],\"y\":[null],\"type\":\"scatter\"}],\"layout\":{\"annotations\":[{\"showarrow\":false,\"text\":\"V\\u002fc=0.995, \\u03b3=10.01, \\u0394\\u03c4=2.20\\u00b5s, H=10.0km\",\"x\":0.01,\"xref\":\"paper\",\"y\":1.12,\"yref\":\"paper\"},{\"showarrow\":false,\"text\":\"t=14.656\\u00b5s, \\u03c4=1.464\\u00b5s\",\"x\":0.01,\"xref\":\"paper\",\"y\":1.06,\"yref\":\"paper\"},{\"font\":{\"color\":\"blue\",\"size\":14},\"showarrow\":false,\"text\":\"En vuelo\",\"x\":0.99,\"xref\":\"paper\",\"y\":1.05,\"yref\":\"paper\"}]},\"name\":\"87\"},{\"data\":[{\"line\":{\"color\":\"green\",\"width\":4},\"mode\":\"lines\",\"name\":\"Superficie\",\"x\":[-1,1],\"y\":[0,0],\"type\":\"scatter\"},{\"line\":{\"color\":\"lightblue\",\"dash\":\"dash\",\"width\":4},\"mode\":\"lines\",\"name\":\"Tope Atm\\u00f3sfera\",\"x\":[-1,1],\"y\":[10.0,10.0],\"type\":\"scatter\"},{\"line\":{\"color\":\"grey\",\"dash\":\"dot\",\"width\":1},\"mode\":\"lines\",\"x\":[0,0],\"y\":[10.0,5.57788944723618],\"type\":\"scatter\"},{\"marker\":{\"color\":\"red\",\"size\":10},\"mode\":\"markers\",\"x\":[0],\"y\":[5.57788944723618],\"type\":\"scatter\"},{\"marker\":{\"color\":\"black\",\"size\":12,\"symbol\":\"x\"},\"mode\":\"markers\",\"x\":[0],\"y\":[null],\"type\":\"scatter\"}],\"layout\":{\"annotations\":[{\"showarrow\":false,\"text\":\"V\\u002fc=0.995, \\u03b3=10.01, \\u0394\\u03c4=2.20\\u00b5s, H=10.0km\",\"x\":0.01,\"xref\":\"paper\",\"y\":1.12,\"yref\":\"paper\"},{\"showarrow\":false,\"text\":\"t=14.825\\u00b5s, \\u03c4=1.481\\u00b5s\",\"x\":0.01,\"xref\":\"paper\",\"y\":1.06,\"yref\":\"paper\"},{\"font\":{\"color\":\"blue\",\"size\":14},\"showarrow\":false,\"text\":\"En vuelo\",\"x\":0.99,\"xref\":\"paper\",\"y\":1.05,\"yref\":\"paper\"}]},\"name\":\"88\"},{\"data\":[{\"line\":{\"color\":\"green\",\"width\":4},\"mode\":\"lines\",\"name\":\"Superficie\",\"x\":[-1,1],\"y\":[0,0],\"type\":\"scatter\"},{\"line\":{\"color\":\"lightblue\",\"dash\":\"dash\",\"width\":4},\"mode\":\"lines\",\"name\":\"Tope Atm\\u00f3sfera\",\"x\":[-1,1],\"y\":[10.0,10.0],\"type\":\"scatter\"},{\"line\":{\"color\":\"grey\",\"dash\":\"dot\",\"width\":1},\"mode\":\"lines\",\"x\":[0,0],\"y\":[10.0,5.527638190954774],\"type\":\"scatter\"},{\"marker\":{\"color\":\"red\",\"size\":10},\"mode\":\"markers\",\"x\":[0],\"y\":[5.527638190954774],\"type\":\"scatter\"},{\"marker\":{\"color\":\"black\",\"size\":12,\"symbol\":\"x\"},\"mode\":\"markers\",\"x\":[0],\"y\":[null],\"type\":\"scatter\"}],\"layout\":{\"annotations\":[{\"showarrow\":false,\"text\":\"V\\u002fc=0.995, \\u03b3=10.01, \\u0394\\u03c4=2.20\\u00b5s, H=10.0km\",\"x\":0.01,\"xref\":\"paper\",\"y\":1.12,\"yref\":\"paper\"},{\"showarrow\":false,\"text\":\"t=14.993\\u00b5s, \\u03c4=1.497\\u00b5s\",\"x\":0.01,\"xref\":\"paper\",\"y\":1.06,\"yref\":\"paper\"},{\"font\":{\"color\":\"blue\",\"size\":14},\"showarrow\":false,\"text\":\"En vuelo\",\"x\":0.99,\"xref\":\"paper\",\"y\":1.05,\"yref\":\"paper\"}]},\"name\":\"89\"},{\"data\":[{\"line\":{\"color\":\"green\",\"width\":4},\"mode\":\"lines\",\"name\":\"Superficie\",\"x\":[-1,1],\"y\":[0,0],\"type\":\"scatter\"},{\"line\":{\"color\":\"lightblue\",\"dash\":\"dash\",\"width\":4},\"mode\":\"lines\",\"name\":\"Tope Atm\\u00f3sfera\",\"x\":[-1,1],\"y\":[10.0,10.0],\"type\":\"scatter\"},{\"line\":{\"color\":\"grey\",\"dash\":\"dot\",\"width\":1},\"mode\":\"lines\",\"x\":[0,0],\"y\":[10.0,5.477386934673367],\"type\":\"scatter\"},{\"marker\":{\"color\":\"red\",\"size\":10},\"mode\":\"markers\",\"x\":[0],\"y\":[5.477386934673367],\"type\":\"scatter\"},{\"marker\":{\"color\":\"black\",\"size\":12,\"symbol\":\"x\"},\"mode\":\"markers\",\"x\":[0],\"y\":[null],\"type\":\"scatter\"}],\"layout\":{\"annotations\":[{\"showarrow\":false,\"text\":\"V\\u002fc=0.995, \\u03b3=10.01, \\u0394\\u03c4=2.20\\u00b5s, H=10.0km\",\"x\":0.01,\"xref\":\"paper\",\"y\":1.12,\"yref\":\"paper\"},{\"showarrow\":false,\"text\":\"t=15.162\\u00b5s, \\u03c4=1.514\\u00b5s\",\"x\":0.01,\"xref\":\"paper\",\"y\":1.06,\"yref\":\"paper\"},{\"font\":{\"color\":\"blue\",\"size\":14},\"showarrow\":false,\"text\":\"En vuelo\",\"x\":0.99,\"xref\":\"paper\",\"y\":1.05,\"yref\":\"paper\"}]},\"name\":\"90\"},{\"data\":[{\"line\":{\"color\":\"green\",\"width\":4},\"mode\":\"lines\",\"name\":\"Superficie\",\"x\":[-1,1],\"y\":[0,0],\"type\":\"scatter\"},{\"line\":{\"color\":\"lightblue\",\"dash\":\"dash\",\"width\":4},\"mode\":\"lines\",\"name\":\"Tope Atm\\u00f3sfera\",\"x\":[-1,1],\"y\":[10.0,10.0],\"type\":\"scatter\"},{\"line\":{\"color\":\"grey\",\"dash\":\"dot\",\"width\":1},\"mode\":\"lines\",\"x\":[0,0],\"y\":[10.0,5.427135678391959],\"type\":\"scatter\"},{\"marker\":{\"color\":\"red\",\"size\":10},\"mode\":\"markers\",\"x\":[0],\"y\":[5.427135678391959],\"type\":\"scatter\"},{\"marker\":{\"color\":\"black\",\"size\":12,\"symbol\":\"x\"},\"mode\":\"markers\",\"x\":[0],\"y\":[null],\"type\":\"scatter\"}],\"layout\":{\"annotations\":[{\"showarrow\":false,\"text\":\"V\\u002fc=0.995, \\u03b3=10.01, \\u0394\\u03c4=2.20\\u00b5s, H=10.0km\",\"x\":0.01,\"xref\":\"paper\",\"y\":1.12,\"yref\":\"paper\"},{\"showarrow\":false,\"text\":\"t=15.330\\u00b5s, \\u03c4=1.531\\u00b5s\",\"x\":0.01,\"xref\":\"paper\",\"y\":1.06,\"yref\":\"paper\"},{\"font\":{\"color\":\"blue\",\"size\":14},\"showarrow\":false,\"text\":\"En vuelo\",\"x\":0.99,\"xref\":\"paper\",\"y\":1.05,\"yref\":\"paper\"}]},\"name\":\"91\"},{\"data\":[{\"line\":{\"color\":\"green\",\"width\":4},\"mode\":\"lines\",\"name\":\"Superficie\",\"x\":[-1,1],\"y\":[0,0],\"type\":\"scatter\"},{\"line\":{\"color\":\"lightblue\",\"dash\":\"dash\",\"width\":4},\"mode\":\"lines\",\"name\":\"Tope Atm\\u00f3sfera\",\"x\":[-1,1],\"y\":[10.0,10.0],\"type\":\"scatter\"},{\"line\":{\"color\":\"grey\",\"dash\":\"dot\",\"width\":1},\"mode\":\"lines\",\"x\":[0,0],\"y\":[10.0,5.376884422110552],\"type\":\"scatter\"},{\"marker\":{\"color\":\"red\",\"size\":10},\"mode\":\"markers\",\"x\":[0],\"y\":[5.376884422110552],\"type\":\"scatter\"},{\"marker\":{\"color\":\"black\",\"size\":12,\"symbol\":\"x\"},\"mode\":\"markers\",\"x\":[0],\"y\":[null],\"type\":\"scatter\"}],\"layout\":{\"annotations\":[{\"showarrow\":false,\"text\":\"V\\u002fc=0.995, \\u03b3=10.01, \\u0394\\u03c4=2.20\\u00b5s, H=10.0km\",\"x\":0.01,\"xref\":\"paper\",\"y\":1.12,\"yref\":\"paper\"},{\"showarrow\":false,\"text\":\"t=15.499\\u00b5s, \\u03c4=1.548\\u00b5s\",\"x\":0.01,\"xref\":\"paper\",\"y\":1.06,\"yref\":\"paper\"},{\"font\":{\"color\":\"blue\",\"size\":14},\"showarrow\":false,\"text\":\"En vuelo\",\"x\":0.99,\"xref\":\"paper\",\"y\":1.05,\"yref\":\"paper\"}]},\"name\":\"92\"},{\"data\":[{\"line\":{\"color\":\"green\",\"width\":4},\"mode\":\"lines\",\"name\":\"Superficie\",\"x\":[-1,1],\"y\":[0,0],\"type\":\"scatter\"},{\"line\":{\"color\":\"lightblue\",\"dash\":\"dash\",\"width\":4},\"mode\":\"lines\",\"name\":\"Tope Atm\\u00f3sfera\",\"x\":[-1,1],\"y\":[10.0,10.0],\"type\":\"scatter\"},{\"line\":{\"color\":\"grey\",\"dash\":\"dot\",\"width\":1},\"mode\":\"lines\",\"x\":[0,0],\"y\":[10.0,5.326633165829145],\"type\":\"scatter\"},{\"marker\":{\"color\":\"red\",\"size\":10},\"mode\":\"markers\",\"x\":[0],\"y\":[5.326633165829145],\"type\":\"scatter\"},{\"marker\":{\"color\":\"black\",\"size\":12,\"symbol\":\"x\"},\"mode\":\"markers\",\"x\":[0],\"y\":[null],\"type\":\"scatter\"}],\"layout\":{\"annotations\":[{\"showarrow\":false,\"text\":\"V\\u002fc=0.995, \\u03b3=10.01, \\u0394\\u03c4=2.20\\u00b5s, H=10.0km\",\"x\":0.01,\"xref\":\"paper\",\"y\":1.12,\"yref\":\"paper\"},{\"showarrow\":false,\"text\":\"t=15.667\\u00b5s, \\u03c4=1.565\\u00b5s\",\"x\":0.01,\"xref\":\"paper\",\"y\":1.06,\"yref\":\"paper\"},{\"font\":{\"color\":\"blue\",\"size\":14},\"showarrow\":false,\"text\":\"En vuelo\",\"x\":0.99,\"xref\":\"paper\",\"y\":1.05,\"yref\":\"paper\"}]},\"name\":\"93\"},{\"data\":[{\"line\":{\"color\":\"green\",\"width\":4},\"mode\":\"lines\",\"name\":\"Superficie\",\"x\":[-1,1],\"y\":[0,0],\"type\":\"scatter\"},{\"line\":{\"color\":\"lightblue\",\"dash\":\"dash\",\"width\":4},\"mode\":\"lines\",\"name\":\"Tope Atm\\u00f3sfera\",\"x\":[-1,1],\"y\":[10.0,10.0],\"type\":\"scatter\"},{\"line\":{\"color\":\"grey\",\"dash\":\"dot\",\"width\":1},\"mode\":\"lines\",\"x\":[0,0],\"y\":[10.0,5.276381909547738],\"type\":\"scatter\"},{\"marker\":{\"color\":\"red\",\"size\":10},\"mode\":\"markers\",\"x\":[0],\"y\":[5.276381909547738],\"type\":\"scatter\"},{\"marker\":{\"color\":\"black\",\"size\":12,\"symbol\":\"x\"},\"mode\":\"markers\",\"x\":[0],\"y\":[null],\"type\":\"scatter\"}],\"layout\":{\"annotations\":[{\"showarrow\":false,\"text\":\"V\\u002fc=0.995, \\u03b3=10.01, \\u0394\\u03c4=2.20\\u00b5s, H=10.0km\",\"x\":0.01,\"xref\":\"paper\",\"y\":1.12,\"yref\":\"paper\"},{\"showarrow\":false,\"text\":\"t=15.835\\u00b5s, \\u03c4=1.582\\u00b5s\",\"x\":0.01,\"xref\":\"paper\",\"y\":1.06,\"yref\":\"paper\"},{\"font\":{\"color\":\"blue\",\"size\":14},\"showarrow\":false,\"text\":\"En vuelo\",\"x\":0.99,\"xref\":\"paper\",\"y\":1.05,\"yref\":\"paper\"}]},\"name\":\"94\"},{\"data\":[{\"line\":{\"color\":\"green\",\"width\":4},\"mode\":\"lines\",\"name\":\"Superficie\",\"x\":[-1,1],\"y\":[0,0],\"type\":\"scatter\"},{\"line\":{\"color\":\"lightblue\",\"dash\":\"dash\",\"width\":4},\"mode\":\"lines\",\"name\":\"Tope Atm\\u00f3sfera\",\"x\":[-1,1],\"y\":[10.0,10.0],\"type\":\"scatter\"},{\"line\":{\"color\":\"grey\",\"dash\":\"dot\",\"width\":1},\"mode\":\"lines\",\"x\":[0,0],\"y\":[10.0,5.226130653266331],\"type\":\"scatter\"},{\"marker\":{\"color\":\"red\",\"size\":10},\"mode\":\"markers\",\"x\":[0],\"y\":[5.226130653266331],\"type\":\"scatter\"},{\"marker\":{\"color\":\"black\",\"size\":12,\"symbol\":\"x\"},\"mode\":\"markers\",\"x\":[0],\"y\":[null],\"type\":\"scatter\"}],\"layout\":{\"annotations\":[{\"showarrow\":false,\"text\":\"V\\u002fc=0.995, \\u03b3=10.01, \\u0394\\u03c4=2.20\\u00b5s, H=10.0km\",\"x\":0.01,\"xref\":\"paper\",\"y\":1.12,\"yref\":\"paper\"},{\"showarrow\":false,\"text\":\"t=16.004\\u00b5s, \\u03c4=1.598\\u00b5s\",\"x\":0.01,\"xref\":\"paper\",\"y\":1.06,\"yref\":\"paper\"},{\"font\":{\"color\":\"blue\",\"size\":14},\"showarrow\":false,\"text\":\"En vuelo\",\"x\":0.99,\"xref\":\"paper\",\"y\":1.05,\"yref\":\"paper\"}]},\"name\":\"95\"},{\"data\":[{\"line\":{\"color\":\"green\",\"width\":4},\"mode\":\"lines\",\"name\":\"Superficie\",\"x\":[-1,1],\"y\":[0,0],\"type\":\"scatter\"},{\"line\":{\"color\":\"lightblue\",\"dash\":\"dash\",\"width\":4},\"mode\":\"lines\",\"name\":\"Tope Atm\\u00f3sfera\",\"x\":[-1,1],\"y\":[10.0,10.0],\"type\":\"scatter\"},{\"line\":{\"color\":\"grey\",\"dash\":\"dot\",\"width\":1},\"mode\":\"lines\",\"x\":[0,0],\"y\":[10.0,5.175879396984924],\"type\":\"scatter\"},{\"marker\":{\"color\":\"red\",\"size\":10},\"mode\":\"markers\",\"x\":[0],\"y\":[5.175879396984924],\"type\":\"scatter\"},{\"marker\":{\"color\":\"black\",\"size\":12,\"symbol\":\"x\"},\"mode\":\"markers\",\"x\":[0],\"y\":[null],\"type\":\"scatter\"}],\"layout\":{\"annotations\":[{\"showarrow\":false,\"text\":\"V\\u002fc=0.995, \\u03b3=10.01, \\u0394\\u03c4=2.20\\u00b5s, H=10.0km\",\"x\":0.01,\"xref\":\"paper\",\"y\":1.12,\"yref\":\"paper\"},{\"showarrow\":false,\"text\":\"t=16.172\\u00b5s, \\u03c4=1.615\\u00b5s\",\"x\":0.01,\"xref\":\"paper\",\"y\":1.06,\"yref\":\"paper\"},{\"font\":{\"color\":\"blue\",\"size\":14},\"showarrow\":false,\"text\":\"En vuelo\",\"x\":0.99,\"xref\":\"paper\",\"y\":1.05,\"yref\":\"paper\"}]},\"name\":\"96\"},{\"data\":[{\"line\":{\"color\":\"green\",\"width\":4},\"mode\":\"lines\",\"name\":\"Superficie\",\"x\":[-1,1],\"y\":[0,0],\"type\":\"scatter\"},{\"line\":{\"color\":\"lightblue\",\"dash\":\"dash\",\"width\":4},\"mode\":\"lines\",\"name\":\"Tope Atm\\u00f3sfera\",\"x\":[-1,1],\"y\":[10.0,10.0],\"type\":\"scatter\"},{\"line\":{\"color\":\"grey\",\"dash\":\"dot\",\"width\":1},\"mode\":\"lines\",\"x\":[0,0],\"y\":[10.0,5.125628140703517],\"type\":\"scatter\"},{\"marker\":{\"color\":\"red\",\"size\":10},\"mode\":\"markers\",\"x\":[0],\"y\":[5.125628140703517],\"type\":\"scatter\"},{\"marker\":{\"color\":\"black\",\"size\":12,\"symbol\":\"x\"},\"mode\":\"markers\",\"x\":[0],\"y\":[null],\"type\":\"scatter\"}],\"layout\":{\"annotations\":[{\"showarrow\":false,\"text\":\"V\\u002fc=0.995, \\u03b3=10.01, \\u0394\\u03c4=2.20\\u00b5s, H=10.0km\",\"x\":0.01,\"xref\":\"paper\",\"y\":1.12,\"yref\":\"paper\"},{\"showarrow\":false,\"text\":\"t=16.341\\u00b5s, \\u03c4=1.632\\u00b5s\",\"x\":0.01,\"xref\":\"paper\",\"y\":1.06,\"yref\":\"paper\"},{\"font\":{\"color\":\"blue\",\"size\":14},\"showarrow\":false,\"text\":\"En vuelo\",\"x\":0.99,\"xref\":\"paper\",\"y\":1.05,\"yref\":\"paper\"}]},\"name\":\"97\"},{\"data\":[{\"line\":{\"color\":\"green\",\"width\":4},\"mode\":\"lines\",\"name\":\"Superficie\",\"x\":[-1,1],\"y\":[0,0],\"type\":\"scatter\"},{\"line\":{\"color\":\"lightblue\",\"dash\":\"dash\",\"width\":4},\"mode\":\"lines\",\"name\":\"Tope Atm\\u00f3sfera\",\"x\":[-1,1],\"y\":[10.0,10.0],\"type\":\"scatter\"},{\"line\":{\"color\":\"grey\",\"dash\":\"dot\",\"width\":1},\"mode\":\"lines\",\"x\":[0,0],\"y\":[10.0,5.075376884422111],\"type\":\"scatter\"},{\"marker\":{\"color\":\"red\",\"size\":10},\"mode\":\"markers\",\"x\":[0],\"y\":[5.075376884422111],\"type\":\"scatter\"},{\"marker\":{\"color\":\"black\",\"size\":12,\"symbol\":\"x\"},\"mode\":\"markers\",\"x\":[0],\"y\":[null],\"type\":\"scatter\"}],\"layout\":{\"annotations\":[{\"showarrow\":false,\"text\":\"V\\u002fc=0.995, \\u03b3=10.01, \\u0394\\u03c4=2.20\\u00b5s, H=10.0km\",\"x\":0.01,\"xref\":\"paper\",\"y\":1.12,\"yref\":\"paper\"},{\"showarrow\":false,\"text\":\"t=16.509\\u00b5s, \\u03c4=1.649\\u00b5s\",\"x\":0.01,\"xref\":\"paper\",\"y\":1.06,\"yref\":\"paper\"},{\"font\":{\"color\":\"blue\",\"size\":14},\"showarrow\":false,\"text\":\"En vuelo\",\"x\":0.99,\"xref\":\"paper\",\"y\":1.05,\"yref\":\"paper\"}]},\"name\":\"98\"},{\"data\":[{\"line\":{\"color\":\"green\",\"width\":4},\"mode\":\"lines\",\"name\":\"Superficie\",\"x\":[-1,1],\"y\":[0,0],\"type\":\"scatter\"},{\"line\":{\"color\":\"lightblue\",\"dash\":\"dash\",\"width\":4},\"mode\":\"lines\",\"name\":\"Tope Atm\\u00f3sfera\",\"x\":[-1,1],\"y\":[10.0,10.0],\"type\":\"scatter\"},{\"line\":{\"color\":\"grey\",\"dash\":\"dot\",\"width\":1},\"mode\":\"lines\",\"x\":[0,0],\"y\":[10.0,5.025125628140702],\"type\":\"scatter\"},{\"marker\":{\"color\":\"red\",\"size\":10},\"mode\":\"markers\",\"x\":[0],\"y\":[5.025125628140702],\"type\":\"scatter\"},{\"marker\":{\"color\":\"black\",\"size\":12,\"symbol\":\"x\"},\"mode\":\"markers\",\"x\":[0],\"y\":[null],\"type\":\"scatter\"}],\"layout\":{\"annotations\":[{\"showarrow\":false,\"text\":\"V\\u002fc=0.995, \\u03b3=10.01, \\u0394\\u03c4=2.20\\u00b5s, H=10.0km\",\"x\":0.01,\"xref\":\"paper\",\"y\":1.12,\"yref\":\"paper\"},{\"showarrow\":false,\"text\":\"t=16.678\\u00b5s, \\u03c4=1.666\\u00b5s\",\"x\":0.01,\"xref\":\"paper\",\"y\":1.06,\"yref\":\"paper\"},{\"font\":{\"color\":\"blue\",\"size\":14},\"showarrow\":false,\"text\":\"En vuelo\",\"x\":0.99,\"xref\":\"paper\",\"y\":1.05,\"yref\":\"paper\"}]},\"name\":\"99\"},{\"data\":[{\"line\":{\"color\":\"green\",\"width\":4},\"mode\":\"lines\",\"name\":\"Superficie\",\"x\":[-1,1],\"y\":[0,0],\"type\":\"scatter\"},{\"line\":{\"color\":\"lightblue\",\"dash\":\"dash\",\"width\":4},\"mode\":\"lines\",\"name\":\"Tope Atm\\u00f3sfera\",\"x\":[-1,1],\"y\":[10.0,10.0],\"type\":\"scatter\"},{\"line\":{\"color\":\"grey\",\"dash\":\"dot\",\"width\":1},\"mode\":\"lines\",\"x\":[0,0],\"y\":[10.0,4.974874371859296],\"type\":\"scatter\"},{\"marker\":{\"color\":\"red\",\"size\":10},\"mode\":\"markers\",\"x\":[0],\"y\":[4.974874371859296],\"type\":\"scatter\"},{\"marker\":{\"color\":\"black\",\"size\":12,\"symbol\":\"x\"},\"mode\":\"markers\",\"x\":[0],\"y\":[null],\"type\":\"scatter\"}],\"layout\":{\"annotations\":[{\"showarrow\":false,\"text\":\"V\\u002fc=0.995, \\u03b3=10.01, \\u0394\\u03c4=2.20\\u00b5s, H=10.0km\",\"x\":0.01,\"xref\":\"paper\",\"y\":1.12,\"yref\":\"paper\"},{\"showarrow\":false,\"text\":\"t=16.846\\u00b5s, \\u03c4=1.683\\u00b5s\",\"x\":0.01,\"xref\":\"paper\",\"y\":1.06,\"yref\":\"paper\"},{\"font\":{\"color\":\"blue\",\"size\":14},\"showarrow\":false,\"text\":\"En vuelo\",\"x\":0.99,\"xref\":\"paper\",\"y\":1.05,\"yref\":\"paper\"}]},\"name\":\"100\"},{\"data\":[{\"line\":{\"color\":\"green\",\"width\":4},\"mode\":\"lines\",\"name\":\"Superficie\",\"x\":[-1,1],\"y\":[0,0],\"type\":\"scatter\"},{\"line\":{\"color\":\"lightblue\",\"dash\":\"dash\",\"width\":4},\"mode\":\"lines\",\"name\":\"Tope Atm\\u00f3sfera\",\"x\":[-1,1],\"y\":[10.0,10.0],\"type\":\"scatter\"},{\"line\":{\"color\":\"grey\",\"dash\":\"dot\",\"width\":1},\"mode\":\"lines\",\"x\":[0,0],\"y\":[10.0,4.924623115577889],\"type\":\"scatter\"},{\"marker\":{\"color\":\"red\",\"size\":10},\"mode\":\"markers\",\"x\":[0],\"y\":[4.924623115577889],\"type\":\"scatter\"},{\"marker\":{\"color\":\"black\",\"size\":12,\"symbol\":\"x\"},\"mode\":\"markers\",\"x\":[0],\"y\":[null],\"type\":\"scatter\"}],\"layout\":{\"annotations\":[{\"showarrow\":false,\"text\":\"V\\u002fc=0.995, \\u03b3=10.01, \\u0394\\u03c4=2.20\\u00b5s, H=10.0km\",\"x\":0.01,\"xref\":\"paper\",\"y\":1.12,\"yref\":\"paper\"},{\"showarrow\":false,\"text\":\"t=17.015\\u00b5s, \\u03c4=1.699\\u00b5s\",\"x\":0.01,\"xref\":\"paper\",\"y\":1.06,\"yref\":\"paper\"},{\"font\":{\"color\":\"blue\",\"size\":14},\"showarrow\":false,\"text\":\"En vuelo\",\"x\":0.99,\"xref\":\"paper\",\"y\":1.05,\"yref\":\"paper\"}]},\"name\":\"101\"},{\"data\":[{\"line\":{\"color\":\"green\",\"width\":4},\"mode\":\"lines\",\"name\":\"Superficie\",\"x\":[-1,1],\"y\":[0,0],\"type\":\"scatter\"},{\"line\":{\"color\":\"lightblue\",\"dash\":\"dash\",\"width\":4},\"mode\":\"lines\",\"name\":\"Tope Atm\\u00f3sfera\",\"x\":[-1,1],\"y\":[10.0,10.0],\"type\":\"scatter\"},{\"line\":{\"color\":\"grey\",\"dash\":\"dot\",\"width\":1},\"mode\":\"lines\",\"x\":[0,0],\"y\":[10.0,4.874371859296482],\"type\":\"scatter\"},{\"marker\":{\"color\":\"red\",\"size\":10},\"mode\":\"markers\",\"x\":[0],\"y\":[4.874371859296482],\"type\":\"scatter\"},{\"marker\":{\"color\":\"black\",\"size\":12,\"symbol\":\"x\"},\"mode\":\"markers\",\"x\":[0],\"y\":[null],\"type\":\"scatter\"}],\"layout\":{\"annotations\":[{\"showarrow\":false,\"text\":\"V\\u002fc=0.995, \\u03b3=10.01, \\u0394\\u03c4=2.20\\u00b5s, H=10.0km\",\"x\":0.01,\"xref\":\"paper\",\"y\":1.12,\"yref\":\"paper\"},{\"showarrow\":false,\"text\":\"t=17.183\\u00b5s, \\u03c4=1.716\\u00b5s\",\"x\":0.01,\"xref\":\"paper\",\"y\":1.06,\"yref\":\"paper\"},{\"font\":{\"color\":\"blue\",\"size\":14},\"showarrow\":false,\"text\":\"En vuelo\",\"x\":0.99,\"xref\":\"paper\",\"y\":1.05,\"yref\":\"paper\"}]},\"name\":\"102\"},{\"data\":[{\"line\":{\"color\":\"green\",\"width\":4},\"mode\":\"lines\",\"name\":\"Superficie\",\"x\":[-1,1],\"y\":[0,0],\"type\":\"scatter\"},{\"line\":{\"color\":\"lightblue\",\"dash\":\"dash\",\"width\":4},\"mode\":\"lines\",\"name\":\"Tope Atm\\u00f3sfera\",\"x\":[-1,1],\"y\":[10.0,10.0],\"type\":\"scatter\"},{\"line\":{\"color\":\"grey\",\"dash\":\"dot\",\"width\":1},\"mode\":\"lines\",\"x\":[0,0],\"y\":[10.0,4.824120603015075],\"type\":\"scatter\"},{\"marker\":{\"color\":\"red\",\"size\":10},\"mode\":\"markers\",\"x\":[0],\"y\":[4.824120603015075],\"type\":\"scatter\"},{\"marker\":{\"color\":\"black\",\"size\":12,\"symbol\":\"x\"},\"mode\":\"markers\",\"x\":[0],\"y\":[null],\"type\":\"scatter\"}],\"layout\":{\"annotations\":[{\"showarrow\":false,\"text\":\"V\\u002fc=0.995, \\u03b3=10.01, \\u0394\\u03c4=2.20\\u00b5s, H=10.0km\",\"x\":0.01,\"xref\":\"paper\",\"y\":1.12,\"yref\":\"paper\"},{\"showarrow\":false,\"text\":\"t=17.352\\u00b5s, \\u03c4=1.733\\u00b5s\",\"x\":0.01,\"xref\":\"paper\",\"y\":1.06,\"yref\":\"paper\"},{\"font\":{\"color\":\"blue\",\"size\":14},\"showarrow\":false,\"text\":\"En vuelo\",\"x\":0.99,\"xref\":\"paper\",\"y\":1.05,\"yref\":\"paper\"}]},\"name\":\"103\"},{\"data\":[{\"line\":{\"color\":\"green\",\"width\":4},\"mode\":\"lines\",\"name\":\"Superficie\",\"x\":[-1,1],\"y\":[0,0],\"type\":\"scatter\"},{\"line\":{\"color\":\"lightblue\",\"dash\":\"dash\",\"width\":4},\"mode\":\"lines\",\"name\":\"Tope Atm\\u00f3sfera\",\"x\":[-1,1],\"y\":[10.0,10.0],\"type\":\"scatter\"},{\"line\":{\"color\":\"grey\",\"dash\":\"dot\",\"width\":1},\"mode\":\"lines\",\"x\":[0,0],\"y\":[10.0,4.773869346733669],\"type\":\"scatter\"},{\"marker\":{\"color\":\"red\",\"size\":10},\"mode\":\"markers\",\"x\":[0],\"y\":[4.773869346733669],\"type\":\"scatter\"},{\"marker\":{\"color\":\"black\",\"size\":12,\"symbol\":\"x\"},\"mode\":\"markers\",\"x\":[0],\"y\":[null],\"type\":\"scatter\"}],\"layout\":{\"annotations\":[{\"showarrow\":false,\"text\":\"V\\u002fc=0.995, \\u03b3=10.01, \\u0394\\u03c4=2.20\\u00b5s, H=10.0km\",\"x\":0.01,\"xref\":\"paper\",\"y\":1.12,\"yref\":\"paper\"},{\"showarrow\":false,\"text\":\"t=17.520\\u00b5s, \\u03c4=1.750\\u00b5s\",\"x\":0.01,\"xref\":\"paper\",\"y\":1.06,\"yref\":\"paper\"},{\"font\":{\"color\":\"blue\",\"size\":14},\"showarrow\":false,\"text\":\"En vuelo\",\"x\":0.99,\"xref\":\"paper\",\"y\":1.05,\"yref\":\"paper\"}]},\"name\":\"104\"},{\"data\":[{\"line\":{\"color\":\"green\",\"width\":4},\"mode\":\"lines\",\"name\":\"Superficie\",\"x\":[-1,1],\"y\":[0,0],\"type\":\"scatter\"},{\"line\":{\"color\":\"lightblue\",\"dash\":\"dash\",\"width\":4},\"mode\":\"lines\",\"name\":\"Tope Atm\\u00f3sfera\",\"x\":[-1,1],\"y\":[10.0,10.0],\"type\":\"scatter\"},{\"line\":{\"color\":\"grey\",\"dash\":\"dot\",\"width\":1},\"mode\":\"lines\",\"x\":[0,0],\"y\":[10.0,4.723618090452261],\"type\":\"scatter\"},{\"marker\":{\"color\":\"red\",\"size\":10},\"mode\":\"markers\",\"x\":[0],\"y\":[4.723618090452261],\"type\":\"scatter\"},{\"marker\":{\"color\":\"black\",\"size\":12,\"symbol\":\"x\"},\"mode\":\"markers\",\"x\":[0],\"y\":[null],\"type\":\"scatter\"}],\"layout\":{\"annotations\":[{\"showarrow\":false,\"text\":\"V\\u002fc=0.995, \\u03b3=10.01, \\u0394\\u03c4=2.20\\u00b5s, H=10.0km\",\"x\":0.01,\"xref\":\"paper\",\"y\":1.12,\"yref\":\"paper\"},{\"showarrow\":false,\"text\":\"t=17.689\\u00b5s, \\u03c4=1.767\\u00b5s\",\"x\":0.01,\"xref\":\"paper\",\"y\":1.06,\"yref\":\"paper\"},{\"font\":{\"color\":\"blue\",\"size\":14},\"showarrow\":false,\"text\":\"En vuelo\",\"x\":0.99,\"xref\":\"paper\",\"y\":1.05,\"yref\":\"paper\"}]},\"name\":\"105\"},{\"data\":[{\"line\":{\"color\":\"green\",\"width\":4},\"mode\":\"lines\",\"name\":\"Superficie\",\"x\":[-1,1],\"y\":[0,0],\"type\":\"scatter\"},{\"line\":{\"color\":\"lightblue\",\"dash\":\"dash\",\"width\":4},\"mode\":\"lines\",\"name\":\"Tope Atm\\u00f3sfera\",\"x\":[-1,1],\"y\":[10.0,10.0],\"type\":\"scatter\"},{\"line\":{\"color\":\"grey\",\"dash\":\"dot\",\"width\":1},\"mode\":\"lines\",\"x\":[0,0],\"y\":[10.0,4.673366834170854],\"type\":\"scatter\"},{\"marker\":{\"color\":\"red\",\"size\":10},\"mode\":\"markers\",\"x\":[0],\"y\":[4.673366834170854],\"type\":\"scatter\"},{\"marker\":{\"color\":\"black\",\"size\":12,\"symbol\":\"x\"},\"mode\":\"markers\",\"x\":[0],\"y\":[null],\"type\":\"scatter\"}],\"layout\":{\"annotations\":[{\"showarrow\":false,\"text\":\"V\\u002fc=0.995, \\u03b3=10.01, \\u0394\\u03c4=2.20\\u00b5s, H=10.0km\",\"x\":0.01,\"xref\":\"paper\",\"y\":1.12,\"yref\":\"paper\"},{\"showarrow\":false,\"text\":\"t=17.857\\u00b5s, \\u03c4=1.783\\u00b5s\",\"x\":0.01,\"xref\":\"paper\",\"y\":1.06,\"yref\":\"paper\"},{\"font\":{\"color\":\"blue\",\"size\":14},\"showarrow\":false,\"text\":\"En vuelo\",\"x\":0.99,\"xref\":\"paper\",\"y\":1.05,\"yref\":\"paper\"}]},\"name\":\"106\"},{\"data\":[{\"line\":{\"color\":\"green\",\"width\":4},\"mode\":\"lines\",\"name\":\"Superficie\",\"x\":[-1,1],\"y\":[0,0],\"type\":\"scatter\"},{\"line\":{\"color\":\"lightblue\",\"dash\":\"dash\",\"width\":4},\"mode\":\"lines\",\"name\":\"Tope Atm\\u00f3sfera\",\"x\":[-1,1],\"y\":[10.0,10.0],\"type\":\"scatter\"},{\"line\":{\"color\":\"grey\",\"dash\":\"dot\",\"width\":1},\"mode\":\"lines\",\"x\":[0,0],\"y\":[10.0,4.623115577889447],\"type\":\"scatter\"},{\"marker\":{\"color\":\"red\",\"size\":10},\"mode\":\"markers\",\"x\":[0],\"y\":[4.623115577889447],\"type\":\"scatter\"},{\"marker\":{\"color\":\"black\",\"size\":12,\"symbol\":\"x\"},\"mode\":\"markers\",\"x\":[0],\"y\":[null],\"type\":\"scatter\"}],\"layout\":{\"annotations\":[{\"showarrow\":false,\"text\":\"V\\u002fc=0.995, \\u03b3=10.01, \\u0394\\u03c4=2.20\\u00b5s, H=10.0km\",\"x\":0.01,\"xref\":\"paper\",\"y\":1.12,\"yref\":\"paper\"},{\"showarrow\":false,\"text\":\"t=18.026\\u00b5s, \\u03c4=1.800\\u00b5s\",\"x\":0.01,\"xref\":\"paper\",\"y\":1.06,\"yref\":\"paper\"},{\"font\":{\"color\":\"blue\",\"size\":14},\"showarrow\":false,\"text\":\"En vuelo\",\"x\":0.99,\"xref\":\"paper\",\"y\":1.05,\"yref\":\"paper\"}]},\"name\":\"107\"},{\"data\":[{\"line\":{\"color\":\"green\",\"width\":4},\"mode\":\"lines\",\"name\":\"Superficie\",\"x\":[-1,1],\"y\":[0,0],\"type\":\"scatter\"},{\"line\":{\"color\":\"lightblue\",\"dash\":\"dash\",\"width\":4},\"mode\":\"lines\",\"name\":\"Tope Atm\\u00f3sfera\",\"x\":[-1,1],\"y\":[10.0,10.0],\"type\":\"scatter\"},{\"line\":{\"color\":\"grey\",\"dash\":\"dot\",\"width\":1},\"mode\":\"lines\",\"x\":[0,0],\"y\":[10.0,4.57286432160804],\"type\":\"scatter\"},{\"marker\":{\"color\":\"red\",\"size\":10},\"mode\":\"markers\",\"x\":[0],\"y\":[4.57286432160804],\"type\":\"scatter\"},{\"marker\":{\"color\":\"black\",\"size\":12,\"symbol\":\"x\"},\"mode\":\"markers\",\"x\":[0],\"y\":[null],\"type\":\"scatter\"}],\"layout\":{\"annotations\":[{\"showarrow\":false,\"text\":\"V\\u002fc=0.995, \\u03b3=10.01, \\u0394\\u03c4=2.20\\u00b5s, H=10.0km\",\"x\":0.01,\"xref\":\"paper\",\"y\":1.12,\"yref\":\"paper\"},{\"showarrow\":false,\"text\":\"t=18.194\\u00b5s, \\u03c4=1.817\\u00b5s\",\"x\":0.01,\"xref\":\"paper\",\"y\":1.06,\"yref\":\"paper\"},{\"font\":{\"color\":\"blue\",\"size\":14},\"showarrow\":false,\"text\":\"En vuelo\",\"x\":0.99,\"xref\":\"paper\",\"y\":1.05,\"yref\":\"paper\"}]},\"name\":\"108\"},{\"data\":[{\"line\":{\"color\":\"green\",\"width\":4},\"mode\":\"lines\",\"name\":\"Superficie\",\"x\":[-1,1],\"y\":[0,0],\"type\":\"scatter\"},{\"line\":{\"color\":\"lightblue\",\"dash\":\"dash\",\"width\":4},\"mode\":\"lines\",\"name\":\"Tope Atm\\u00f3sfera\",\"x\":[-1,1],\"y\":[10.0,10.0],\"type\":\"scatter\"},{\"line\":{\"color\":\"grey\",\"dash\":\"dot\",\"width\":1},\"mode\":\"lines\",\"x\":[0,0],\"y\":[10.0,4.522613065326634],\"type\":\"scatter\"},{\"marker\":{\"color\":\"red\",\"size\":10},\"mode\":\"markers\",\"x\":[0],\"y\":[4.522613065326634],\"type\":\"scatter\"},{\"marker\":{\"color\":\"black\",\"size\":12,\"symbol\":\"x\"},\"mode\":\"markers\",\"x\":[0],\"y\":[null],\"type\":\"scatter\"}],\"layout\":{\"annotations\":[{\"showarrow\":false,\"text\":\"V\\u002fc=0.995, \\u03b3=10.01, \\u0394\\u03c4=2.20\\u00b5s, H=10.0km\",\"x\":0.01,\"xref\":\"paper\",\"y\":1.12,\"yref\":\"paper\"},{\"showarrow\":false,\"text\":\"t=18.362\\u00b5s, \\u03c4=1.834\\u00b5s\",\"x\":0.01,\"xref\":\"paper\",\"y\":1.06,\"yref\":\"paper\"},{\"font\":{\"color\":\"blue\",\"size\":14},\"showarrow\":false,\"text\":\"En vuelo\",\"x\":0.99,\"xref\":\"paper\",\"y\":1.05,\"yref\":\"paper\"}]},\"name\":\"109\"},{\"data\":[{\"line\":{\"color\":\"green\",\"width\":4},\"mode\":\"lines\",\"name\":\"Superficie\",\"x\":[-1,1],\"y\":[0,0],\"type\":\"scatter\"},{\"line\":{\"color\":\"lightblue\",\"dash\":\"dash\",\"width\":4},\"mode\":\"lines\",\"name\":\"Tope Atm\\u00f3sfera\",\"x\":[-1,1],\"y\":[10.0,10.0],\"type\":\"scatter\"},{\"line\":{\"color\":\"grey\",\"dash\":\"dot\",\"width\":1},\"mode\":\"lines\",\"x\":[0,0],\"y\":[10.0,4.472361809045225],\"type\":\"scatter\"},{\"marker\":{\"color\":\"red\",\"size\":10},\"mode\":\"markers\",\"x\":[0],\"y\":[4.472361809045225],\"type\":\"scatter\"},{\"marker\":{\"color\":\"black\",\"size\":12,\"symbol\":\"x\"},\"mode\":\"markers\",\"x\":[0],\"y\":[null],\"type\":\"scatter\"}],\"layout\":{\"annotations\":[{\"showarrow\":false,\"text\":\"V\\u002fc=0.995, \\u03b3=10.01, \\u0394\\u03c4=2.20\\u00b5s, H=10.0km\",\"x\":0.01,\"xref\":\"paper\",\"y\":1.12,\"yref\":\"paper\"},{\"showarrow\":false,\"text\":\"t=18.531\\u00b5s, \\u03c4=1.851\\u00b5s\",\"x\":0.01,\"xref\":\"paper\",\"y\":1.06,\"yref\":\"paper\"},{\"font\":{\"color\":\"blue\",\"size\":14},\"showarrow\":false,\"text\":\"En vuelo\",\"x\":0.99,\"xref\":\"paper\",\"y\":1.05,\"yref\":\"paper\"}]},\"name\":\"110\"},{\"data\":[{\"line\":{\"color\":\"green\",\"width\":4},\"mode\":\"lines\",\"name\":\"Superficie\",\"x\":[-1,1],\"y\":[0,0],\"type\":\"scatter\"},{\"line\":{\"color\":\"lightblue\",\"dash\":\"dash\",\"width\":4},\"mode\":\"lines\",\"name\":\"Tope Atm\\u00f3sfera\",\"x\":[-1,1],\"y\":[10.0,10.0],\"type\":\"scatter\"},{\"line\":{\"color\":\"grey\",\"dash\":\"dot\",\"width\":1},\"mode\":\"lines\",\"x\":[0,0],\"y\":[10.0,4.422110552763819],\"type\":\"scatter\"},{\"marker\":{\"color\":\"red\",\"size\":10},\"mode\":\"markers\",\"x\":[0],\"y\":[4.422110552763819],\"type\":\"scatter\"},{\"marker\":{\"color\":\"black\",\"size\":12,\"symbol\":\"x\"},\"mode\":\"markers\",\"x\":[0],\"y\":[null],\"type\":\"scatter\"}],\"layout\":{\"annotations\":[{\"showarrow\":false,\"text\":\"V\\u002fc=0.995, \\u03b3=10.01, \\u0394\\u03c4=2.20\\u00b5s, H=10.0km\",\"x\":0.01,\"xref\":\"paper\",\"y\":1.12,\"yref\":\"paper\"},{\"showarrow\":false,\"text\":\"t=18.699\\u00b5s, \\u03c4=1.868\\u00b5s\",\"x\":0.01,\"xref\":\"paper\",\"y\":1.06,\"yref\":\"paper\"},{\"font\":{\"color\":\"blue\",\"size\":14},\"showarrow\":false,\"text\":\"En vuelo\",\"x\":0.99,\"xref\":\"paper\",\"y\":1.05,\"yref\":\"paper\"}]},\"name\":\"111\"},{\"data\":[{\"line\":{\"color\":\"green\",\"width\":4},\"mode\":\"lines\",\"name\":\"Superficie\",\"x\":[-1,1],\"y\":[0,0],\"type\":\"scatter\"},{\"line\":{\"color\":\"lightblue\",\"dash\":\"dash\",\"width\":4},\"mode\":\"lines\",\"name\":\"Tope Atm\\u00f3sfera\",\"x\":[-1,1],\"y\":[10.0,10.0],\"type\":\"scatter\"},{\"line\":{\"color\":\"grey\",\"dash\":\"dot\",\"width\":1},\"mode\":\"lines\",\"x\":[0,0],\"y\":[10.0,4.371859296482412],\"type\":\"scatter\"},{\"marker\":{\"color\":\"red\",\"size\":10},\"mode\":\"markers\",\"x\":[0],\"y\":[4.371859296482412],\"type\":\"scatter\"},{\"marker\":{\"color\":\"black\",\"size\":12,\"symbol\":\"x\"},\"mode\":\"markers\",\"x\":[0],\"y\":[null],\"type\":\"scatter\"}],\"layout\":{\"annotations\":[{\"showarrow\":false,\"text\":\"V\\u002fc=0.995, \\u03b3=10.01, \\u0394\\u03c4=2.20\\u00b5s, H=10.0km\",\"x\":0.01,\"xref\":\"paper\",\"y\":1.12,\"yref\":\"paper\"},{\"showarrow\":false,\"text\":\"t=18.868\\u00b5s, \\u03c4=1.884\\u00b5s\",\"x\":0.01,\"xref\":\"paper\",\"y\":1.06,\"yref\":\"paper\"},{\"font\":{\"color\":\"blue\",\"size\":14},\"showarrow\":false,\"text\":\"En vuelo\",\"x\":0.99,\"xref\":\"paper\",\"y\":1.05,\"yref\":\"paper\"}]},\"name\":\"112\"},{\"data\":[{\"line\":{\"color\":\"green\",\"width\":4},\"mode\":\"lines\",\"name\":\"Superficie\",\"x\":[-1,1],\"y\":[0,0],\"type\":\"scatter\"},{\"line\":{\"color\":\"lightblue\",\"dash\":\"dash\",\"width\":4},\"mode\":\"lines\",\"name\":\"Tope Atm\\u00f3sfera\",\"x\":[-1,1],\"y\":[10.0,10.0],\"type\":\"scatter\"},{\"line\":{\"color\":\"grey\",\"dash\":\"dot\",\"width\":1},\"mode\":\"lines\",\"x\":[0,0],\"y\":[10.0,4.3216080402010055],\"type\":\"scatter\"},{\"marker\":{\"color\":\"red\",\"size\":10},\"mode\":\"markers\",\"x\":[0],\"y\":[4.3216080402010055],\"type\":\"scatter\"},{\"marker\":{\"color\":\"black\",\"size\":12,\"symbol\":\"x\"},\"mode\":\"markers\",\"x\":[0],\"y\":[null],\"type\":\"scatter\"}],\"layout\":{\"annotations\":[{\"showarrow\":false,\"text\":\"V\\u002fc=0.995, \\u03b3=10.01, \\u0394\\u03c4=2.20\\u00b5s, H=10.0km\",\"x\":0.01,\"xref\":\"paper\",\"y\":1.12,\"yref\":\"paper\"},{\"showarrow\":false,\"text\":\"t=19.036\\u00b5s, \\u03c4=1.901\\u00b5s\",\"x\":0.01,\"xref\":\"paper\",\"y\":1.06,\"yref\":\"paper\"},{\"font\":{\"color\":\"blue\",\"size\":14},\"showarrow\":false,\"text\":\"En vuelo\",\"x\":0.99,\"xref\":\"paper\",\"y\":1.05,\"yref\":\"paper\"}]},\"name\":\"113\"},{\"data\":[{\"line\":{\"color\":\"green\",\"width\":4},\"mode\":\"lines\",\"name\":\"Superficie\",\"x\":[-1,1],\"y\":[0,0],\"type\":\"scatter\"},{\"line\":{\"color\":\"lightblue\",\"dash\":\"dash\",\"width\":4},\"mode\":\"lines\",\"name\":\"Tope Atm\\u00f3sfera\",\"x\":[-1,1],\"y\":[10.0,10.0],\"type\":\"scatter\"},{\"line\":{\"color\":\"grey\",\"dash\":\"dot\",\"width\":1},\"mode\":\"lines\",\"x\":[0,0],\"y\":[10.0,4.2713567839195985],\"type\":\"scatter\"},{\"marker\":{\"color\":\"red\",\"size\":10},\"mode\":\"markers\",\"x\":[0],\"y\":[4.2713567839195985],\"type\":\"scatter\"},{\"marker\":{\"color\":\"black\",\"size\":12,\"symbol\":\"x\"},\"mode\":\"markers\",\"x\":[0],\"y\":[null],\"type\":\"scatter\"}],\"layout\":{\"annotations\":[{\"showarrow\":false,\"text\":\"V\\u002fc=0.995, \\u03b3=10.01, \\u0394\\u03c4=2.20\\u00b5s, H=10.0km\",\"x\":0.01,\"xref\":\"paper\",\"y\":1.12,\"yref\":\"paper\"},{\"showarrow\":false,\"text\":\"t=19.205\\u00b5s, \\u03c4=1.918\\u00b5s\",\"x\":0.01,\"xref\":\"paper\",\"y\":1.06,\"yref\":\"paper\"},{\"font\":{\"color\":\"blue\",\"size\":14},\"showarrow\":false,\"text\":\"En vuelo\",\"x\":0.99,\"xref\":\"paper\",\"y\":1.05,\"yref\":\"paper\"}]},\"name\":\"114\"},{\"data\":[{\"line\":{\"color\":\"green\",\"width\":4},\"mode\":\"lines\",\"name\":\"Superficie\",\"x\":[-1,1],\"y\":[0,0],\"type\":\"scatter\"},{\"line\":{\"color\":\"lightblue\",\"dash\":\"dash\",\"width\":4},\"mode\":\"lines\",\"name\":\"Tope Atm\\u00f3sfera\",\"x\":[-1,1],\"y\":[10.0,10.0],\"type\":\"scatter\"},{\"line\":{\"color\":\"grey\",\"dash\":\"dot\",\"width\":1},\"mode\":\"lines\",\"x\":[0,0],\"y\":[10.0,4.22110552763819],\"type\":\"scatter\"},{\"marker\":{\"color\":\"red\",\"size\":10},\"mode\":\"markers\",\"x\":[0],\"y\":[4.22110552763819],\"type\":\"scatter\"},{\"marker\":{\"color\":\"black\",\"size\":12,\"symbol\":\"x\"},\"mode\":\"markers\",\"x\":[0],\"y\":[null],\"type\":\"scatter\"}],\"layout\":{\"annotations\":[{\"showarrow\":false,\"text\":\"V\\u002fc=0.995, \\u03b3=10.01, \\u0394\\u03c4=2.20\\u00b5s, H=10.0km\",\"x\":0.01,\"xref\":\"paper\",\"y\":1.12,\"yref\":\"paper\"},{\"showarrow\":false,\"text\":\"t=19.373\\u00b5s, \\u03c4=1.935\\u00b5s\",\"x\":0.01,\"xref\":\"paper\",\"y\":1.06,\"yref\":\"paper\"},{\"font\":{\"color\":\"blue\",\"size\":14},\"showarrow\":false,\"text\":\"En vuelo\",\"x\":0.99,\"xref\":\"paper\",\"y\":1.05,\"yref\":\"paper\"}]},\"name\":\"115\"},{\"data\":[{\"line\":{\"color\":\"green\",\"width\":4},\"mode\":\"lines\",\"name\":\"Superficie\",\"x\":[-1,1],\"y\":[0,0],\"type\":\"scatter\"},{\"line\":{\"color\":\"lightblue\",\"dash\":\"dash\",\"width\":4},\"mode\":\"lines\",\"name\":\"Tope Atm\\u00f3sfera\",\"x\":[-1,1],\"y\":[10.0,10.0],\"type\":\"scatter\"},{\"line\":{\"color\":\"grey\",\"dash\":\"dot\",\"width\":1},\"mode\":\"lines\",\"x\":[0,0],\"y\":[10.0,4.1708542713567835],\"type\":\"scatter\"},{\"marker\":{\"color\":\"red\",\"size\":10},\"mode\":\"markers\",\"x\":[0],\"y\":[4.1708542713567835],\"type\":\"scatter\"},{\"marker\":{\"color\":\"black\",\"size\":12,\"symbol\":\"x\"},\"mode\":\"markers\",\"x\":[0],\"y\":[null],\"type\":\"scatter\"}],\"layout\":{\"annotations\":[{\"showarrow\":false,\"text\":\"V\\u002fc=0.995, \\u03b3=10.01, \\u0394\\u03c4=2.20\\u00b5s, H=10.0km\",\"x\":0.01,\"xref\":\"paper\",\"y\":1.12,\"yref\":\"paper\"},{\"showarrow\":false,\"text\":\"t=19.542\\u00b5s, \\u03c4=1.952\\u00b5s\",\"x\":0.01,\"xref\":\"paper\",\"y\":1.06,\"yref\":\"paper\"},{\"font\":{\"color\":\"blue\",\"size\":14},\"showarrow\":false,\"text\":\"En vuelo\",\"x\":0.99,\"xref\":\"paper\",\"y\":1.05,\"yref\":\"paper\"}]},\"name\":\"116\"},{\"data\":[{\"line\":{\"color\":\"green\",\"width\":4},\"mode\":\"lines\",\"name\":\"Superficie\",\"x\":[-1,1],\"y\":[0,0],\"type\":\"scatter\"},{\"line\":{\"color\":\"lightblue\",\"dash\":\"dash\",\"width\":4},\"mode\":\"lines\",\"name\":\"Tope Atm\\u00f3sfera\",\"x\":[-1,1],\"y\":[10.0,10.0],\"type\":\"scatter\"},{\"line\":{\"color\":\"grey\",\"dash\":\"dot\",\"width\":1},\"mode\":\"lines\",\"x\":[0,0],\"y\":[10.0,4.1206030150753765],\"type\":\"scatter\"},{\"marker\":{\"color\":\"red\",\"size\":10},\"mode\":\"markers\",\"x\":[0],\"y\":[4.1206030150753765],\"type\":\"scatter\"},{\"marker\":{\"color\":\"black\",\"size\":12,\"symbol\":\"x\"},\"mode\":\"markers\",\"x\":[0],\"y\":[null],\"type\":\"scatter\"}],\"layout\":{\"annotations\":[{\"showarrow\":false,\"text\":\"V\\u002fc=0.995, \\u03b3=10.01, \\u0394\\u03c4=2.20\\u00b5s, H=10.0km\",\"x\":0.01,\"xref\":\"paper\",\"y\":1.12,\"yref\":\"paper\"},{\"showarrow\":false,\"text\":\"t=19.710\\u00b5s, \\u03c4=1.969\\u00b5s\",\"x\":0.01,\"xref\":\"paper\",\"y\":1.06,\"yref\":\"paper\"},{\"font\":{\"color\":\"blue\",\"size\":14},\"showarrow\":false,\"text\":\"En vuelo\",\"x\":0.99,\"xref\":\"paper\",\"y\":1.05,\"yref\":\"paper\"}]},\"name\":\"117\"},{\"data\":[{\"line\":{\"color\":\"green\",\"width\":4},\"mode\":\"lines\",\"name\":\"Superficie\",\"x\":[-1,1],\"y\":[0,0],\"type\":\"scatter\"},{\"line\":{\"color\":\"lightblue\",\"dash\":\"dash\",\"width\":4},\"mode\":\"lines\",\"name\":\"Tope Atm\\u00f3sfera\",\"x\":[-1,1],\"y\":[10.0,10.0],\"type\":\"scatter\"},{\"line\":{\"color\":\"grey\",\"dash\":\"dot\",\"width\":1},\"mode\":\"lines\",\"x\":[0,0],\"y\":[10.0,4.0703517587939695],\"type\":\"scatter\"},{\"marker\":{\"color\":\"red\",\"size\":10},\"mode\":\"markers\",\"x\":[0],\"y\":[4.0703517587939695],\"type\":\"scatter\"},{\"marker\":{\"color\":\"black\",\"size\":12,\"symbol\":\"x\"},\"mode\":\"markers\",\"x\":[0],\"y\":[null],\"type\":\"scatter\"}],\"layout\":{\"annotations\":[{\"showarrow\":false,\"text\":\"V\\u002fc=0.995, \\u03b3=10.01, \\u0394\\u03c4=2.20\\u00b5s, H=10.0km\",\"x\":0.01,\"xref\":\"paper\",\"y\":1.12,\"yref\":\"paper\"},{\"showarrow\":false,\"text\":\"t=19.879\\u00b5s, \\u03c4=1.985\\u00b5s\",\"x\":0.01,\"xref\":\"paper\",\"y\":1.06,\"yref\":\"paper\"},{\"font\":{\"color\":\"blue\",\"size\":14},\"showarrow\":false,\"text\":\"En vuelo\",\"x\":0.99,\"xref\":\"paper\",\"y\":1.05,\"yref\":\"paper\"}]},\"name\":\"118\"},{\"data\":[{\"line\":{\"color\":\"green\",\"width\":4},\"mode\":\"lines\",\"name\":\"Superficie\",\"x\":[-1,1],\"y\":[0,0],\"type\":\"scatter\"},{\"line\":{\"color\":\"lightblue\",\"dash\":\"dash\",\"width\":4},\"mode\":\"lines\",\"name\":\"Tope Atm\\u00f3sfera\",\"x\":[-1,1],\"y\":[10.0,10.0],\"type\":\"scatter\"},{\"line\":{\"color\":\"grey\",\"dash\":\"dot\",\"width\":1},\"mode\":\"lines\",\"x\":[0,0],\"y\":[10.0,4.020100502512562],\"type\":\"scatter\"},{\"marker\":{\"color\":\"red\",\"size\":10},\"mode\":\"markers\",\"x\":[0],\"y\":[4.020100502512562],\"type\":\"scatter\"},{\"marker\":{\"color\":\"black\",\"size\":12,\"symbol\":\"x\"},\"mode\":\"markers\",\"x\":[0],\"y\":[null],\"type\":\"scatter\"}],\"layout\":{\"annotations\":[{\"showarrow\":false,\"text\":\"V\\u002fc=0.995, \\u03b3=10.01, \\u0394\\u03c4=2.20\\u00b5s, H=10.0km\",\"x\":0.01,\"xref\":\"paper\",\"y\":1.12,\"yref\":\"paper\"},{\"showarrow\":false,\"text\":\"t=20.047\\u00b5s, \\u03c4=2.002\\u00b5s\",\"x\":0.01,\"xref\":\"paper\",\"y\":1.06,\"yref\":\"paper\"},{\"font\":{\"color\":\"blue\",\"size\":14},\"showarrow\":false,\"text\":\"En vuelo\",\"x\":0.99,\"xref\":\"paper\",\"y\":1.05,\"yref\":\"paper\"}]},\"name\":\"119\"},{\"data\":[{\"line\":{\"color\":\"green\",\"width\":4},\"mode\":\"lines\",\"name\":\"Superficie\",\"x\":[-1,1],\"y\":[0,0],\"type\":\"scatter\"},{\"line\":{\"color\":\"lightblue\",\"dash\":\"dash\",\"width\":4},\"mode\":\"lines\",\"name\":\"Tope Atm\\u00f3sfera\",\"x\":[-1,1],\"y\":[10.0,10.0],\"type\":\"scatter\"},{\"line\":{\"color\":\"grey\",\"dash\":\"dot\",\"width\":1},\"mode\":\"lines\",\"x\":[0,0],\"y\":[10.0,3.9698492462311554],\"type\":\"scatter\"},{\"marker\":{\"color\":\"red\",\"size\":10},\"mode\":\"markers\",\"x\":[0],\"y\":[3.9698492462311554],\"type\":\"scatter\"},{\"marker\":{\"color\":\"black\",\"size\":12,\"symbol\":\"x\"},\"mode\":\"markers\",\"x\":[0],\"y\":[null],\"type\":\"scatter\"}],\"layout\":{\"annotations\":[{\"showarrow\":false,\"text\":\"V\\u002fc=0.995, \\u03b3=10.01, \\u0394\\u03c4=2.20\\u00b5s, H=10.0km\",\"x\":0.01,\"xref\":\"paper\",\"y\":1.12,\"yref\":\"paper\"},{\"showarrow\":false,\"text\":\"t=20.216\\u00b5s, \\u03c4=2.019\\u00b5s\",\"x\":0.01,\"xref\":\"paper\",\"y\":1.06,\"yref\":\"paper\"},{\"font\":{\"color\":\"blue\",\"size\":14},\"showarrow\":false,\"text\":\"En vuelo\",\"x\":0.99,\"xref\":\"paper\",\"y\":1.05,\"yref\":\"paper\"}]},\"name\":\"120\"},{\"data\":[{\"line\":{\"color\":\"green\",\"width\":4},\"mode\":\"lines\",\"name\":\"Superficie\",\"x\":[-1,1],\"y\":[0,0],\"type\":\"scatter\"},{\"line\":{\"color\":\"lightblue\",\"dash\":\"dash\",\"width\":4},\"mode\":\"lines\",\"name\":\"Tope Atm\\u00f3sfera\",\"x\":[-1,1],\"y\":[10.0,10.0],\"type\":\"scatter\"},{\"line\":{\"color\":\"grey\",\"dash\":\"dot\",\"width\":1},\"mode\":\"lines\",\"x\":[0,0],\"y\":[10.0,3.9195979899497484],\"type\":\"scatter\"},{\"marker\":{\"color\":\"red\",\"size\":10},\"mode\":\"markers\",\"x\":[0],\"y\":[3.9195979899497484],\"type\":\"scatter\"},{\"marker\":{\"color\":\"black\",\"size\":12,\"symbol\":\"x\"},\"mode\":\"markers\",\"x\":[0],\"y\":[null],\"type\":\"scatter\"}],\"layout\":{\"annotations\":[{\"showarrow\":false,\"text\":\"V\\u002fc=0.995, \\u03b3=10.01, \\u0394\\u03c4=2.20\\u00b5s, H=10.0km\",\"x\":0.01,\"xref\":\"paper\",\"y\":1.12,\"yref\":\"paper\"},{\"showarrow\":false,\"text\":\"t=20.384\\u00b5s, \\u03c4=2.036\\u00b5s\",\"x\":0.01,\"xref\":\"paper\",\"y\":1.06,\"yref\":\"paper\"},{\"font\":{\"color\":\"blue\",\"size\":14},\"showarrow\":false,\"text\":\"En vuelo\",\"x\":0.99,\"xref\":\"paper\",\"y\":1.05,\"yref\":\"paper\"}]},\"name\":\"121\"},{\"data\":[{\"line\":{\"color\":\"green\",\"width\":4},\"mode\":\"lines\",\"name\":\"Superficie\",\"x\":[-1,1],\"y\":[0,0],\"type\":\"scatter\"},{\"line\":{\"color\":\"lightblue\",\"dash\":\"dash\",\"width\":4},\"mode\":\"lines\",\"name\":\"Tope Atm\\u00f3sfera\",\"x\":[-1,1],\"y\":[10.0,10.0],\"type\":\"scatter\"},{\"line\":{\"color\":\"grey\",\"dash\":\"dot\",\"width\":1},\"mode\":\"lines\",\"x\":[0,0],\"y\":[10.0,3.8693467336683414],\"type\":\"scatter\"},{\"marker\":{\"color\":\"red\",\"size\":10},\"mode\":\"markers\",\"x\":[0],\"y\":[3.8693467336683414],\"type\":\"scatter\"},{\"marker\":{\"color\":\"black\",\"size\":12,\"symbol\":\"x\"},\"mode\":\"markers\",\"x\":[0],\"y\":[null],\"type\":\"scatter\"}],\"layout\":{\"annotations\":[{\"showarrow\":false,\"text\":\"V\\u002fc=0.995, \\u03b3=10.01, \\u0394\\u03c4=2.20\\u00b5s, H=10.0km\",\"x\":0.01,\"xref\":\"paper\",\"y\":1.12,\"yref\":\"paper\"},{\"showarrow\":false,\"text\":\"t=20.552\\u00b5s, \\u03c4=2.053\\u00b5s\",\"x\":0.01,\"xref\":\"paper\",\"y\":1.06,\"yref\":\"paper\"},{\"font\":{\"color\":\"blue\",\"size\":14},\"showarrow\":false,\"text\":\"En vuelo\",\"x\":0.99,\"xref\":\"paper\",\"y\":1.05,\"yref\":\"paper\"}]},\"name\":\"122\"},{\"data\":[{\"line\":{\"color\":\"green\",\"width\":4},\"mode\":\"lines\",\"name\":\"Superficie\",\"x\":[-1,1],\"y\":[0,0],\"type\":\"scatter\"},{\"line\":{\"color\":\"lightblue\",\"dash\":\"dash\",\"width\":4},\"mode\":\"lines\",\"name\":\"Tope Atm\\u00f3sfera\",\"x\":[-1,1],\"y\":[10.0,10.0],\"type\":\"scatter\"},{\"line\":{\"color\":\"grey\",\"dash\":\"dot\",\"width\":1},\"mode\":\"lines\",\"x\":[0,0],\"y\":[10.0,3.8190954773869343],\"type\":\"scatter\"},{\"marker\":{\"color\":\"red\",\"size\":10},\"mode\":\"markers\",\"x\":[0],\"y\":[3.8190954773869343],\"type\":\"scatter\"},{\"marker\":{\"color\":\"black\",\"size\":12,\"symbol\":\"x\"},\"mode\":\"markers\",\"x\":[0],\"y\":[null],\"type\":\"scatter\"}],\"layout\":{\"annotations\":[{\"showarrow\":false,\"text\":\"V\\u002fc=0.995, \\u03b3=10.01, \\u0394\\u03c4=2.20\\u00b5s, H=10.0km\",\"x\":0.01,\"xref\":\"paper\",\"y\":1.12,\"yref\":\"paper\"},{\"showarrow\":false,\"text\":\"t=20.721\\u00b5s, \\u03c4=2.069\\u00b5s\",\"x\":0.01,\"xref\":\"paper\",\"y\":1.06,\"yref\":\"paper\"},{\"font\":{\"color\":\"blue\",\"size\":14},\"showarrow\":false,\"text\":\"En vuelo\",\"x\":0.99,\"xref\":\"paper\",\"y\":1.05,\"yref\":\"paper\"}]},\"name\":\"123\"},{\"data\":[{\"line\":{\"color\":\"green\",\"width\":4},\"mode\":\"lines\",\"name\":\"Superficie\",\"x\":[-1,1],\"y\":[0,0],\"type\":\"scatter\"},{\"line\":{\"color\":\"lightblue\",\"dash\":\"dash\",\"width\":4},\"mode\":\"lines\",\"name\":\"Tope Atm\\u00f3sfera\",\"x\":[-1,1],\"y\":[10.0,10.0],\"type\":\"scatter\"},{\"line\":{\"color\":\"grey\",\"dash\":\"dot\",\"width\":1},\"mode\":\"lines\",\"x\":[0,0],\"y\":[10.0,3.7688442211055264],\"type\":\"scatter\"},{\"marker\":{\"color\":\"red\",\"size\":10},\"mode\":\"markers\",\"x\":[0],\"y\":[3.7688442211055264],\"type\":\"scatter\"},{\"marker\":{\"color\":\"black\",\"size\":12,\"symbol\":\"x\"},\"mode\":\"markers\",\"x\":[0],\"y\":[null],\"type\":\"scatter\"}],\"layout\":{\"annotations\":[{\"showarrow\":false,\"text\":\"V\\u002fc=0.995, \\u03b3=10.01, \\u0394\\u03c4=2.20\\u00b5s, H=10.0km\",\"x\":0.01,\"xref\":\"paper\",\"y\":1.12,\"yref\":\"paper\"},{\"showarrow\":false,\"text\":\"t=20.889\\u00b5s, \\u03c4=2.086\\u00b5s\",\"x\":0.01,\"xref\":\"paper\",\"y\":1.06,\"yref\":\"paper\"},{\"font\":{\"color\":\"blue\",\"size\":14},\"showarrow\":false,\"text\":\"En vuelo\",\"x\":0.99,\"xref\":\"paper\",\"y\":1.05,\"yref\":\"paper\"}]},\"name\":\"124\"},{\"data\":[{\"line\":{\"color\":\"green\",\"width\":4},\"mode\":\"lines\",\"name\":\"Superficie\",\"x\":[-1,1],\"y\":[0,0],\"type\":\"scatter\"},{\"line\":{\"color\":\"lightblue\",\"dash\":\"dash\",\"width\":4},\"mode\":\"lines\",\"name\":\"Tope Atm\\u00f3sfera\",\"x\":[-1,1],\"y\":[10.0,10.0],\"type\":\"scatter\"},{\"line\":{\"color\":\"grey\",\"dash\":\"dot\",\"width\":1},\"mode\":\"lines\",\"x\":[0,0],\"y\":[10.0,3.7185929648241203],\"type\":\"scatter\"},{\"marker\":{\"color\":\"red\",\"size\":10},\"mode\":\"markers\",\"x\":[0],\"y\":[3.7185929648241203],\"type\":\"scatter\"},{\"marker\":{\"color\":\"black\",\"size\":12,\"symbol\":\"x\"},\"mode\":\"markers\",\"x\":[0],\"y\":[null],\"type\":\"scatter\"}],\"layout\":{\"annotations\":[{\"showarrow\":false,\"text\":\"V\\u002fc=0.995, \\u03b3=10.01, \\u0394\\u03c4=2.20\\u00b5s, H=10.0km\",\"x\":0.01,\"xref\":\"paper\",\"y\":1.12,\"yref\":\"paper\"},{\"showarrow\":false,\"text\":\"t=21.058\\u00b5s, \\u03c4=2.103\\u00b5s\",\"x\":0.01,\"xref\":\"paper\",\"y\":1.06,\"yref\":\"paper\"},{\"font\":{\"color\":\"blue\",\"size\":14},\"showarrow\":false,\"text\":\"En vuelo\",\"x\":0.99,\"xref\":\"paper\",\"y\":1.05,\"yref\":\"paper\"}]},\"name\":\"125\"},{\"data\":[{\"line\":{\"color\":\"green\",\"width\":4},\"mode\":\"lines\",\"name\":\"Superficie\",\"x\":[-1,1],\"y\":[0,0],\"type\":\"scatter\"},{\"line\":{\"color\":\"lightblue\",\"dash\":\"dash\",\"width\":4},\"mode\":\"lines\",\"name\":\"Tope Atm\\u00f3sfera\",\"x\":[-1,1],\"y\":[10.0,10.0],\"type\":\"scatter\"},{\"line\":{\"color\":\"grey\",\"dash\":\"dot\",\"width\":1},\"mode\":\"lines\",\"x\":[0,0],\"y\":[10.0,3.6683417085427124],\"type\":\"scatter\"},{\"marker\":{\"color\":\"red\",\"size\":10},\"mode\":\"markers\",\"x\":[0],\"y\":[3.6683417085427124],\"type\":\"scatter\"},{\"marker\":{\"color\":\"black\",\"size\":12,\"symbol\":\"x\"},\"mode\":\"markers\",\"x\":[0],\"y\":[null],\"type\":\"scatter\"}],\"layout\":{\"annotations\":[{\"showarrow\":false,\"text\":\"V\\u002fc=0.995, \\u03b3=10.01, \\u0394\\u03c4=2.20\\u00b5s, H=10.0km\",\"x\":0.01,\"xref\":\"paper\",\"y\":1.12,\"yref\":\"paper\"},{\"showarrow\":false,\"text\":\"t=21.226\\u00b5s, \\u03c4=2.120\\u00b5s\",\"x\":0.01,\"xref\":\"paper\",\"y\":1.06,\"yref\":\"paper\"},{\"font\":{\"color\":\"blue\",\"size\":14},\"showarrow\":false,\"text\":\"En vuelo\",\"x\":0.99,\"xref\":\"paper\",\"y\":1.05,\"yref\":\"paper\"}]},\"name\":\"126\"},{\"data\":[{\"line\":{\"color\":\"green\",\"width\":4},\"mode\":\"lines\",\"name\":\"Superficie\",\"x\":[-1,1],\"y\":[0,0],\"type\":\"scatter\"},{\"line\":{\"color\":\"lightblue\",\"dash\":\"dash\",\"width\":4},\"mode\":\"lines\",\"name\":\"Tope Atm\\u00f3sfera\",\"x\":[-1,1],\"y\":[10.0,10.0],\"type\":\"scatter\"},{\"line\":{\"color\":\"grey\",\"dash\":\"dot\",\"width\":1},\"mode\":\"lines\",\"x\":[0,0],\"y\":[10.0,3.618090452261306],\"type\":\"scatter\"},{\"marker\":{\"color\":\"red\",\"size\":10},\"mode\":\"markers\",\"x\":[0],\"y\":[3.618090452261306],\"type\":\"scatter\"},{\"marker\":{\"color\":\"black\",\"size\":12,\"symbol\":\"x\"},\"mode\":\"markers\",\"x\":[0],\"y\":[null],\"type\":\"scatter\"}],\"layout\":{\"annotations\":[{\"showarrow\":false,\"text\":\"V\\u002fc=0.995, \\u03b3=10.01, \\u0394\\u03c4=2.20\\u00b5s, H=10.0km\",\"x\":0.01,\"xref\":\"paper\",\"y\":1.12,\"yref\":\"paper\"},{\"showarrow\":false,\"text\":\"t=21.395\\u00b5s, \\u03c4=2.137\\u00b5s\",\"x\":0.01,\"xref\":\"paper\",\"y\":1.06,\"yref\":\"paper\"},{\"font\":{\"color\":\"blue\",\"size\":14},\"showarrow\":false,\"text\":\"En vuelo\",\"x\":0.99,\"xref\":\"paper\",\"y\":1.05,\"yref\":\"paper\"}]},\"name\":\"127\"},{\"data\":[{\"line\":{\"color\":\"green\",\"width\":4},\"mode\":\"lines\",\"name\":\"Superficie\",\"x\":[-1,1],\"y\":[0,0],\"type\":\"scatter\"},{\"line\":{\"color\":\"lightblue\",\"dash\":\"dash\",\"width\":4},\"mode\":\"lines\",\"name\":\"Tope Atm\\u00f3sfera\",\"x\":[-1,1],\"y\":[10.0,10.0],\"type\":\"scatter\"},{\"line\":{\"color\":\"grey\",\"dash\":\"dot\",\"width\":1},\"mode\":\"lines\",\"x\":[0,0],\"y\":[10.0,3.567839195979899],\"type\":\"scatter\"},{\"marker\":{\"color\":\"red\",\"size\":10},\"mode\":\"markers\",\"x\":[0],\"y\":[3.567839195979899],\"type\":\"scatter\"},{\"marker\":{\"color\":\"black\",\"size\":12,\"symbol\":\"x\"},\"mode\":\"markers\",\"x\":[0],\"y\":[null],\"type\":\"scatter\"}],\"layout\":{\"annotations\":[{\"showarrow\":false,\"text\":\"V\\u002fc=0.995, \\u03b3=10.01, \\u0394\\u03c4=2.20\\u00b5s, H=10.0km\",\"x\":0.01,\"xref\":\"paper\",\"y\":1.12,\"yref\":\"paper\"},{\"showarrow\":false,\"text\":\"t=21.563\\u00b5s, \\u03c4=2.154\\u00b5s\",\"x\":0.01,\"xref\":\"paper\",\"y\":1.06,\"yref\":\"paper\"},{\"font\":{\"color\":\"blue\",\"size\":14},\"showarrow\":false,\"text\":\"En vuelo\",\"x\":0.99,\"xref\":\"paper\",\"y\":1.05,\"yref\":\"paper\"}]},\"name\":\"128\"},{\"data\":[{\"line\":{\"color\":\"green\",\"width\":4},\"mode\":\"lines\",\"name\":\"Superficie\",\"x\":[-1,1],\"y\":[0,0],\"type\":\"scatter\"},{\"line\":{\"color\":\"lightblue\",\"dash\":\"dash\",\"width\":4},\"mode\":\"lines\",\"name\":\"Tope Atm\\u00f3sfera\",\"x\":[-1,1],\"y\":[10.0,10.0],\"type\":\"scatter\"},{\"line\":{\"color\":\"grey\",\"dash\":\"dot\",\"width\":1},\"mode\":\"lines\",\"x\":[0,0],\"y\":[10.0,3.517587939698493],\"type\":\"scatter\"},{\"marker\":{\"color\":\"red\",\"size\":10},\"mode\":\"markers\",\"x\":[0],\"y\":[3.517587939698493],\"type\":\"scatter\"},{\"marker\":{\"color\":\"black\",\"size\":12,\"symbol\":\"x\"},\"mode\":\"markers\",\"x\":[0],\"y\":[null],\"type\":\"scatter\"}],\"layout\":{\"annotations\":[{\"showarrow\":false,\"text\":\"V\\u002fc=0.995, \\u03b3=10.01, \\u0394\\u03c4=2.20\\u00b5s, H=10.0km\",\"x\":0.01,\"xref\":\"paper\",\"y\":1.12,\"yref\":\"paper\"},{\"showarrow\":false,\"text\":\"t=21.732\\u00b5s, \\u03c4=2.170\\u00b5s\",\"x\":0.01,\"xref\":\"paper\",\"y\":1.06,\"yref\":\"paper\"},{\"font\":{\"color\":\"blue\",\"size\":14},\"showarrow\":false,\"text\":\"En vuelo\",\"x\":0.99,\"xref\":\"paper\",\"y\":1.05,\"yref\":\"paper\"}]},\"name\":\"129\"},{\"data\":[{\"line\":{\"color\":\"green\",\"width\":4},\"mode\":\"lines\",\"name\":\"Superficie\",\"x\":[-1,1],\"y\":[0,0],\"type\":\"scatter\"},{\"line\":{\"color\":\"lightblue\",\"dash\":\"dash\",\"width\":4},\"mode\":\"lines\",\"name\":\"Tope Atm\\u00f3sfera\",\"x\":[-1,1],\"y\":[10.0,10.0],\"type\":\"scatter\"},{\"line\":{\"color\":\"grey\",\"dash\":\"dot\",\"width\":1},\"mode\":\"lines\",\"x\":[0,0],\"y\":[10.0,3.467336683417085],\"type\":\"scatter\"},{\"marker\":{\"color\":\"red\",\"size\":10},\"mode\":\"markers\",\"x\":[0],\"y\":[3.467336683417085],\"type\":\"scatter\"},{\"marker\":{\"color\":\"black\",\"size\":12,\"symbol\":\"x\"},\"mode\":\"markers\",\"x\":[0],\"y\":[null],\"type\":\"scatter\"}],\"layout\":{\"annotations\":[{\"showarrow\":false,\"text\":\"V\\u002fc=0.995, \\u03b3=10.01, \\u0394\\u03c4=2.20\\u00b5s, H=10.0km\",\"x\":0.01,\"xref\":\"paper\",\"y\":1.12,\"yref\":\"paper\"},{\"showarrow\":false,\"text\":\"t=21.900\\u00b5s, \\u03c4=2.187\\u00b5s\",\"x\":0.01,\"xref\":\"paper\",\"y\":1.06,\"yref\":\"paper\"},{\"font\":{\"color\":\"blue\",\"size\":14},\"showarrow\":false,\"text\":\"En vuelo\",\"x\":0.99,\"xref\":\"paper\",\"y\":1.05,\"yref\":\"paper\"}]},\"name\":\"130\"},{\"data\":[{\"line\":{\"color\":\"green\",\"width\":4},\"mode\":\"lines\",\"name\":\"Superficie\",\"x\":[-1,1],\"y\":[0,0],\"type\":\"scatter\"},{\"line\":{\"color\":\"lightblue\",\"dash\":\"dash\",\"width\":4},\"mode\":\"lines\",\"name\":\"Tope Atm\\u00f3sfera\",\"x\":[-1,1],\"y\":[10.0,10.0],\"type\":\"scatter\"},{\"line\":{\"color\":\"grey\",\"dash\":\"dot\",\"width\":1},\"mode\":\"lines\",\"x\":[0,0],\"y\":[10.0,3.4293346485516603],\"type\":\"scatter\"},{\"marker\":{\"color\":\"red\",\"size\":10},\"mode\":\"markers\",\"x\":[0],\"y\":[3.4293346485516603],\"type\":\"scatter\"},{\"marker\":{\"color\":\"black\",\"size\":12,\"symbol\":\"x\"},\"mode\":\"markers\",\"x\":[0],\"y\":[3.4293346485516603],\"type\":\"scatter\"}],\"layout\":{\"annotations\":[{\"showarrow\":false,\"text\":\"V\\u002fc=0.995, \\u03b3=10.01, \\u0394\\u03c4=2.20\\u00b5s, H=10.0km\",\"x\":0.01,\"xref\":\"paper\",\"y\":1.12,\"yref\":\"paper\"},{\"showarrow\":false,\"text\":\"t=22.028\\u00b5s, \\u03c4=2.200\\u00b5s\",\"x\":0.01,\"xref\":\"paper\",\"y\":1.06,\"yref\":\"paper\"},{\"font\":{\"color\":\"red\",\"size\":14},\"showarrow\":false,\"text\":\"\\u00a1DECAY\\u00d3!\",\"x\":0.99,\"xref\":\"paper\",\"y\":1.05,\"yref\":\"paper\"}]},\"name\":\"131\"},{\"data\":[{\"line\":{\"color\":\"green\",\"width\":4},\"mode\":\"lines\",\"name\":\"Superficie\",\"x\":[-1,1],\"y\":[0,0],\"type\":\"scatter\"},{\"line\":{\"color\":\"lightblue\",\"dash\":\"dash\",\"width\":4},\"mode\":\"lines\",\"name\":\"Tope Atm\\u00f3sfera\",\"x\":[-1,1],\"y\":[10.0,10.0],\"type\":\"scatter\"},{\"line\":{\"color\":\"grey\",\"dash\":\"dot\",\"width\":1},\"mode\":\"lines\",\"x\":[0,0],\"y\":[10.0,3.4293346485516603],\"type\":\"scatter\"},{\"marker\":{\"color\":\"red\",\"size\":10},\"mode\":\"markers\",\"x\":[0],\"y\":[3.4293346485516603],\"type\":\"scatter\"},{\"marker\":{\"color\":\"black\",\"size\":12,\"symbol\":\"x\"},\"mode\":\"markers\",\"x\":[0],\"y\":[3.4293346485516603],\"type\":\"scatter\"}],\"layout\":{\"annotations\":[{\"showarrow\":false,\"text\":\"V\\u002fc=0.995, \\u03b3=10.01, \\u0394\\u03c4=2.20\\u00b5s, H=10.0km\",\"x\":0.01,\"xref\":\"paper\",\"y\":1.12,\"yref\":\"paper\"},{\"showarrow\":false,\"text\":\"t=22.028\\u00b5s, \\u03c4=2.200\\u00b5s\",\"x\":0.01,\"xref\":\"paper\",\"y\":1.06,\"yref\":\"paper\"},{\"font\":{\"color\":\"red\",\"size\":14},\"showarrow\":false,\"text\":\"\\u00a1DECAY\\u00d3!\",\"x\":0.99,\"xref\":\"paper\",\"y\":1.05,\"yref\":\"paper\"}]},\"name\":\"132\"},{\"data\":[{\"line\":{\"color\":\"green\",\"width\":4},\"mode\":\"lines\",\"name\":\"Superficie\",\"x\":[-1,1],\"y\":[0,0],\"type\":\"scatter\"},{\"line\":{\"color\":\"lightblue\",\"dash\":\"dash\",\"width\":4},\"mode\":\"lines\",\"name\":\"Tope Atm\\u00f3sfera\",\"x\":[-1,1],\"y\":[10.0,10.0],\"type\":\"scatter\"},{\"line\":{\"color\":\"grey\",\"dash\":\"dot\",\"width\":1},\"mode\":\"lines\",\"x\":[0,0],\"y\":[10.0,3.4293346485516603],\"type\":\"scatter\"},{\"marker\":{\"color\":\"red\",\"size\":10},\"mode\":\"markers\",\"x\":[0],\"y\":[3.4293346485516603],\"type\":\"scatter\"},{\"marker\":{\"color\":\"black\",\"size\":12,\"symbol\":\"x\"},\"mode\":\"markers\",\"x\":[0],\"y\":[3.4293346485516603],\"type\":\"scatter\"}],\"layout\":{\"annotations\":[{\"showarrow\":false,\"text\":\"V\\u002fc=0.995, \\u03b3=10.01, \\u0394\\u03c4=2.20\\u00b5s, H=10.0km\",\"x\":0.01,\"xref\":\"paper\",\"y\":1.12,\"yref\":\"paper\"},{\"showarrow\":false,\"text\":\"t=22.028\\u00b5s, \\u03c4=2.200\\u00b5s\",\"x\":0.01,\"xref\":\"paper\",\"y\":1.06,\"yref\":\"paper\"},{\"font\":{\"color\":\"red\",\"size\":14},\"showarrow\":false,\"text\":\"\\u00a1DECAY\\u00d3!\",\"x\":0.99,\"xref\":\"paper\",\"y\":1.05,\"yref\":\"paper\"}]},\"name\":\"133\"},{\"data\":[{\"line\":{\"color\":\"green\",\"width\":4},\"mode\":\"lines\",\"name\":\"Superficie\",\"x\":[-1,1],\"y\":[0,0],\"type\":\"scatter\"},{\"line\":{\"color\":\"lightblue\",\"dash\":\"dash\",\"width\":4},\"mode\":\"lines\",\"name\":\"Tope Atm\\u00f3sfera\",\"x\":[-1,1],\"y\":[10.0,10.0],\"type\":\"scatter\"},{\"line\":{\"color\":\"grey\",\"dash\":\"dot\",\"width\":1},\"mode\":\"lines\",\"x\":[0,0],\"y\":[10.0,3.4293346485516603],\"type\":\"scatter\"},{\"marker\":{\"color\":\"red\",\"size\":10},\"mode\":\"markers\",\"x\":[0],\"y\":[3.4293346485516603],\"type\":\"scatter\"},{\"marker\":{\"color\":\"black\",\"size\":12,\"symbol\":\"x\"},\"mode\":\"markers\",\"x\":[0],\"y\":[3.4293346485516603],\"type\":\"scatter\"}],\"layout\":{\"annotations\":[{\"showarrow\":false,\"text\":\"V\\u002fc=0.995, \\u03b3=10.01, \\u0394\\u03c4=2.20\\u00b5s, H=10.0km\",\"x\":0.01,\"xref\":\"paper\",\"y\":1.12,\"yref\":\"paper\"},{\"showarrow\":false,\"text\":\"t=22.028\\u00b5s, \\u03c4=2.200\\u00b5s\",\"x\":0.01,\"xref\":\"paper\",\"y\":1.06,\"yref\":\"paper\"},{\"font\":{\"color\":\"red\",\"size\":14},\"showarrow\":false,\"text\":\"\\u00a1DECAY\\u00d3!\",\"x\":0.99,\"xref\":\"paper\",\"y\":1.05,\"yref\":\"paper\"}]},\"name\":\"134\"},{\"data\":[{\"line\":{\"color\":\"green\",\"width\":4},\"mode\":\"lines\",\"name\":\"Superficie\",\"x\":[-1,1],\"y\":[0,0],\"type\":\"scatter\"},{\"line\":{\"color\":\"lightblue\",\"dash\":\"dash\",\"width\":4},\"mode\":\"lines\",\"name\":\"Tope Atm\\u00f3sfera\",\"x\":[-1,1],\"y\":[10.0,10.0],\"type\":\"scatter\"},{\"line\":{\"color\":\"grey\",\"dash\":\"dot\",\"width\":1},\"mode\":\"lines\",\"x\":[0,0],\"y\":[10.0,3.4293346485516603],\"type\":\"scatter\"},{\"marker\":{\"color\":\"red\",\"size\":10},\"mode\":\"markers\",\"x\":[0],\"y\":[3.4293346485516603],\"type\":\"scatter\"},{\"marker\":{\"color\":\"black\",\"size\":12,\"symbol\":\"x\"},\"mode\":\"markers\",\"x\":[0],\"y\":[3.4293346485516603],\"type\":\"scatter\"}],\"layout\":{\"annotations\":[{\"showarrow\":false,\"text\":\"V\\u002fc=0.995, \\u03b3=10.01, \\u0394\\u03c4=2.20\\u00b5s, H=10.0km\",\"x\":0.01,\"xref\":\"paper\",\"y\":1.12,\"yref\":\"paper\"},{\"showarrow\":false,\"text\":\"t=22.028\\u00b5s, \\u03c4=2.200\\u00b5s\",\"x\":0.01,\"xref\":\"paper\",\"y\":1.06,\"yref\":\"paper\"},{\"font\":{\"color\":\"red\",\"size\":14},\"showarrow\":false,\"text\":\"\\u00a1DECAY\\u00d3!\",\"x\":0.99,\"xref\":\"paper\",\"y\":1.05,\"yref\":\"paper\"}]},\"name\":\"135\"},{\"data\":[{\"line\":{\"color\":\"green\",\"width\":4},\"mode\":\"lines\",\"name\":\"Superficie\",\"x\":[-1,1],\"y\":[0,0],\"type\":\"scatter\"},{\"line\":{\"color\":\"lightblue\",\"dash\":\"dash\",\"width\":4},\"mode\":\"lines\",\"name\":\"Tope Atm\\u00f3sfera\",\"x\":[-1,1],\"y\":[10.0,10.0],\"type\":\"scatter\"},{\"line\":{\"color\":\"grey\",\"dash\":\"dot\",\"width\":1},\"mode\":\"lines\",\"x\":[0,0],\"y\":[10.0,3.4293346485516603],\"type\":\"scatter\"},{\"marker\":{\"color\":\"red\",\"size\":10},\"mode\":\"markers\",\"x\":[0],\"y\":[3.4293346485516603],\"type\":\"scatter\"},{\"marker\":{\"color\":\"black\",\"size\":12,\"symbol\":\"x\"},\"mode\":\"markers\",\"x\":[0],\"y\":[3.4293346485516603],\"type\":\"scatter\"}],\"layout\":{\"annotations\":[{\"showarrow\":false,\"text\":\"V\\u002fc=0.995, \\u03b3=10.01, \\u0394\\u03c4=2.20\\u00b5s, H=10.0km\",\"x\":0.01,\"xref\":\"paper\",\"y\":1.12,\"yref\":\"paper\"},{\"showarrow\":false,\"text\":\"t=22.028\\u00b5s, \\u03c4=2.200\\u00b5s\",\"x\":0.01,\"xref\":\"paper\",\"y\":1.06,\"yref\":\"paper\"},{\"font\":{\"color\":\"red\",\"size\":14},\"showarrow\":false,\"text\":\"\\u00a1DECAY\\u00d3!\",\"x\":0.99,\"xref\":\"paper\",\"y\":1.05,\"yref\":\"paper\"}]},\"name\":\"136\"},{\"data\":[{\"line\":{\"color\":\"green\",\"width\":4},\"mode\":\"lines\",\"name\":\"Superficie\",\"x\":[-1,1],\"y\":[0,0],\"type\":\"scatter\"},{\"line\":{\"color\":\"lightblue\",\"dash\":\"dash\",\"width\":4},\"mode\":\"lines\",\"name\":\"Tope Atm\\u00f3sfera\",\"x\":[-1,1],\"y\":[10.0,10.0],\"type\":\"scatter\"},{\"line\":{\"color\":\"grey\",\"dash\":\"dot\",\"width\":1},\"mode\":\"lines\",\"x\":[0,0],\"y\":[10.0,3.4293346485516603],\"type\":\"scatter\"},{\"marker\":{\"color\":\"red\",\"size\":10},\"mode\":\"markers\",\"x\":[0],\"y\":[3.4293346485516603],\"type\":\"scatter\"},{\"marker\":{\"color\":\"black\",\"size\":12,\"symbol\":\"x\"},\"mode\":\"markers\",\"x\":[0],\"y\":[3.4293346485516603],\"type\":\"scatter\"}],\"layout\":{\"annotations\":[{\"showarrow\":false,\"text\":\"V\\u002fc=0.995, \\u03b3=10.01, \\u0394\\u03c4=2.20\\u00b5s, H=10.0km\",\"x\":0.01,\"xref\":\"paper\",\"y\":1.12,\"yref\":\"paper\"},{\"showarrow\":false,\"text\":\"t=22.028\\u00b5s, \\u03c4=2.200\\u00b5s\",\"x\":0.01,\"xref\":\"paper\",\"y\":1.06,\"yref\":\"paper\"},{\"font\":{\"color\":\"red\",\"size\":14},\"showarrow\":false,\"text\":\"\\u00a1DECAY\\u00d3!\",\"x\":0.99,\"xref\":\"paper\",\"y\":1.05,\"yref\":\"paper\"}]},\"name\":\"137\"},{\"data\":[{\"line\":{\"color\":\"green\",\"width\":4},\"mode\":\"lines\",\"name\":\"Superficie\",\"x\":[-1,1],\"y\":[0,0],\"type\":\"scatter\"},{\"line\":{\"color\":\"lightblue\",\"dash\":\"dash\",\"width\":4},\"mode\":\"lines\",\"name\":\"Tope Atm\\u00f3sfera\",\"x\":[-1,1],\"y\":[10.0,10.0],\"type\":\"scatter\"},{\"line\":{\"color\":\"grey\",\"dash\":\"dot\",\"width\":1},\"mode\":\"lines\",\"x\":[0,0],\"y\":[10.0,3.4293346485516603],\"type\":\"scatter\"},{\"marker\":{\"color\":\"red\",\"size\":10},\"mode\":\"markers\",\"x\":[0],\"y\":[3.4293346485516603],\"type\":\"scatter\"},{\"marker\":{\"color\":\"black\",\"size\":12,\"symbol\":\"x\"},\"mode\":\"markers\",\"x\":[0],\"y\":[3.4293346485516603],\"type\":\"scatter\"}],\"layout\":{\"annotations\":[{\"showarrow\":false,\"text\":\"V\\u002fc=0.995, \\u03b3=10.01, \\u0394\\u03c4=2.20\\u00b5s, H=10.0km\",\"x\":0.01,\"xref\":\"paper\",\"y\":1.12,\"yref\":\"paper\"},{\"showarrow\":false,\"text\":\"t=22.028\\u00b5s, \\u03c4=2.200\\u00b5s\",\"x\":0.01,\"xref\":\"paper\",\"y\":1.06,\"yref\":\"paper\"},{\"font\":{\"color\":\"red\",\"size\":14},\"showarrow\":false,\"text\":\"\\u00a1DECAY\\u00d3!\",\"x\":0.99,\"xref\":\"paper\",\"y\":1.05,\"yref\":\"paper\"}]},\"name\":\"138\"},{\"data\":[{\"line\":{\"color\":\"green\",\"width\":4},\"mode\":\"lines\",\"name\":\"Superficie\",\"x\":[-1,1],\"y\":[0,0],\"type\":\"scatter\"},{\"line\":{\"color\":\"lightblue\",\"dash\":\"dash\",\"width\":4},\"mode\":\"lines\",\"name\":\"Tope Atm\\u00f3sfera\",\"x\":[-1,1],\"y\":[10.0,10.0],\"type\":\"scatter\"},{\"line\":{\"color\":\"grey\",\"dash\":\"dot\",\"width\":1},\"mode\":\"lines\",\"x\":[0,0],\"y\":[10.0,3.4293346485516603],\"type\":\"scatter\"},{\"marker\":{\"color\":\"red\",\"size\":10},\"mode\":\"markers\",\"x\":[0],\"y\":[3.4293346485516603],\"type\":\"scatter\"},{\"marker\":{\"color\":\"black\",\"size\":12,\"symbol\":\"x\"},\"mode\":\"markers\",\"x\":[0],\"y\":[3.4293346485516603],\"type\":\"scatter\"}],\"layout\":{\"annotations\":[{\"showarrow\":false,\"text\":\"V\\u002fc=0.995, \\u03b3=10.01, \\u0394\\u03c4=2.20\\u00b5s, H=10.0km\",\"x\":0.01,\"xref\":\"paper\",\"y\":1.12,\"yref\":\"paper\"},{\"showarrow\":false,\"text\":\"t=22.028\\u00b5s, \\u03c4=2.200\\u00b5s\",\"x\":0.01,\"xref\":\"paper\",\"y\":1.06,\"yref\":\"paper\"},{\"font\":{\"color\":\"red\",\"size\":14},\"showarrow\":false,\"text\":\"\\u00a1DECAY\\u00d3!\",\"x\":0.99,\"xref\":\"paper\",\"y\":1.05,\"yref\":\"paper\"}]},\"name\":\"139\"},{\"data\":[{\"line\":{\"color\":\"green\",\"width\":4},\"mode\":\"lines\",\"name\":\"Superficie\",\"x\":[-1,1],\"y\":[0,0],\"type\":\"scatter\"},{\"line\":{\"color\":\"lightblue\",\"dash\":\"dash\",\"width\":4},\"mode\":\"lines\",\"name\":\"Tope Atm\\u00f3sfera\",\"x\":[-1,1],\"y\":[10.0,10.0],\"type\":\"scatter\"},{\"line\":{\"color\":\"grey\",\"dash\":\"dot\",\"width\":1},\"mode\":\"lines\",\"x\":[0,0],\"y\":[10.0,3.4293346485516603],\"type\":\"scatter\"},{\"marker\":{\"color\":\"red\",\"size\":10},\"mode\":\"markers\",\"x\":[0],\"y\":[3.4293346485516603],\"type\":\"scatter\"},{\"marker\":{\"color\":\"black\",\"size\":12,\"symbol\":\"x\"},\"mode\":\"markers\",\"x\":[0],\"y\":[3.4293346485516603],\"type\":\"scatter\"}],\"layout\":{\"annotations\":[{\"showarrow\":false,\"text\":\"V\\u002fc=0.995, \\u03b3=10.01, \\u0394\\u03c4=2.20\\u00b5s, H=10.0km\",\"x\":0.01,\"xref\":\"paper\",\"y\":1.12,\"yref\":\"paper\"},{\"showarrow\":false,\"text\":\"t=22.028\\u00b5s, \\u03c4=2.200\\u00b5s\",\"x\":0.01,\"xref\":\"paper\",\"y\":1.06,\"yref\":\"paper\"},{\"font\":{\"color\":\"red\",\"size\":14},\"showarrow\":false,\"text\":\"\\u00a1DECAY\\u00d3!\",\"x\":0.99,\"xref\":\"paper\",\"y\":1.05,\"yref\":\"paper\"}]},\"name\":\"140\"},{\"data\":[{\"line\":{\"color\":\"green\",\"width\":4},\"mode\":\"lines\",\"name\":\"Superficie\",\"x\":[-1,1],\"y\":[0,0],\"type\":\"scatter\"},{\"line\":{\"color\":\"lightblue\",\"dash\":\"dash\",\"width\":4},\"mode\":\"lines\",\"name\":\"Tope Atm\\u00f3sfera\",\"x\":[-1,1],\"y\":[10.0,10.0],\"type\":\"scatter\"},{\"line\":{\"color\":\"grey\",\"dash\":\"dot\",\"width\":1},\"mode\":\"lines\",\"x\":[0,0],\"y\":[10.0,3.4293346485516603],\"type\":\"scatter\"},{\"marker\":{\"color\":\"red\",\"size\":10},\"mode\":\"markers\",\"x\":[0],\"y\":[3.4293346485516603],\"type\":\"scatter\"},{\"marker\":{\"color\":\"black\",\"size\":12,\"symbol\":\"x\"},\"mode\":\"markers\",\"x\":[0],\"y\":[3.4293346485516603],\"type\":\"scatter\"}],\"layout\":{\"annotations\":[{\"showarrow\":false,\"text\":\"V\\u002fc=0.995, \\u03b3=10.01, \\u0394\\u03c4=2.20\\u00b5s, H=10.0km\",\"x\":0.01,\"xref\":\"paper\",\"y\":1.12,\"yref\":\"paper\"},{\"showarrow\":false,\"text\":\"t=22.028\\u00b5s, \\u03c4=2.200\\u00b5s\",\"x\":0.01,\"xref\":\"paper\",\"y\":1.06,\"yref\":\"paper\"},{\"font\":{\"color\":\"red\",\"size\":14},\"showarrow\":false,\"text\":\"\\u00a1DECAY\\u00d3!\",\"x\":0.99,\"xref\":\"paper\",\"y\":1.05,\"yref\":\"paper\"}]},\"name\":\"141\"},{\"data\":[{\"line\":{\"color\":\"green\",\"width\":4},\"mode\":\"lines\",\"name\":\"Superficie\",\"x\":[-1,1],\"y\":[0,0],\"type\":\"scatter\"},{\"line\":{\"color\":\"lightblue\",\"dash\":\"dash\",\"width\":4},\"mode\":\"lines\",\"name\":\"Tope Atm\\u00f3sfera\",\"x\":[-1,1],\"y\":[10.0,10.0],\"type\":\"scatter\"},{\"line\":{\"color\":\"grey\",\"dash\":\"dot\",\"width\":1},\"mode\":\"lines\",\"x\":[0,0],\"y\":[10.0,3.4293346485516603],\"type\":\"scatter\"},{\"marker\":{\"color\":\"red\",\"size\":10},\"mode\":\"markers\",\"x\":[0],\"y\":[3.4293346485516603],\"type\":\"scatter\"},{\"marker\":{\"color\":\"black\",\"size\":12,\"symbol\":\"x\"},\"mode\":\"markers\",\"x\":[0],\"y\":[3.4293346485516603],\"type\":\"scatter\"}],\"layout\":{\"annotations\":[{\"showarrow\":false,\"text\":\"V\\u002fc=0.995, \\u03b3=10.01, \\u0394\\u03c4=2.20\\u00b5s, H=10.0km\",\"x\":0.01,\"xref\":\"paper\",\"y\":1.12,\"yref\":\"paper\"},{\"showarrow\":false,\"text\":\"t=22.028\\u00b5s, \\u03c4=2.200\\u00b5s\",\"x\":0.01,\"xref\":\"paper\",\"y\":1.06,\"yref\":\"paper\"},{\"font\":{\"color\":\"red\",\"size\":14},\"showarrow\":false,\"text\":\"\\u00a1DECAY\\u00d3!\",\"x\":0.99,\"xref\":\"paper\",\"y\":1.05,\"yref\":\"paper\"}]},\"name\":\"142\"},{\"data\":[{\"line\":{\"color\":\"green\",\"width\":4},\"mode\":\"lines\",\"name\":\"Superficie\",\"x\":[-1,1],\"y\":[0,0],\"type\":\"scatter\"},{\"line\":{\"color\":\"lightblue\",\"dash\":\"dash\",\"width\":4},\"mode\":\"lines\",\"name\":\"Tope Atm\\u00f3sfera\",\"x\":[-1,1],\"y\":[10.0,10.0],\"type\":\"scatter\"},{\"line\":{\"color\":\"grey\",\"dash\":\"dot\",\"width\":1},\"mode\":\"lines\",\"x\":[0,0],\"y\":[10.0,3.4293346485516603],\"type\":\"scatter\"},{\"marker\":{\"color\":\"red\",\"size\":10},\"mode\":\"markers\",\"x\":[0],\"y\":[3.4293346485516603],\"type\":\"scatter\"},{\"marker\":{\"color\":\"black\",\"size\":12,\"symbol\":\"x\"},\"mode\":\"markers\",\"x\":[0],\"y\":[3.4293346485516603],\"type\":\"scatter\"}],\"layout\":{\"annotations\":[{\"showarrow\":false,\"text\":\"V\\u002fc=0.995, \\u03b3=10.01, \\u0394\\u03c4=2.20\\u00b5s, H=10.0km\",\"x\":0.01,\"xref\":\"paper\",\"y\":1.12,\"yref\":\"paper\"},{\"showarrow\":false,\"text\":\"t=22.028\\u00b5s, \\u03c4=2.200\\u00b5s\",\"x\":0.01,\"xref\":\"paper\",\"y\":1.06,\"yref\":\"paper\"},{\"font\":{\"color\":\"red\",\"size\":14},\"showarrow\":false,\"text\":\"\\u00a1DECAY\\u00d3!\",\"x\":0.99,\"xref\":\"paper\",\"y\":1.05,\"yref\":\"paper\"}]},\"name\":\"143\"},{\"data\":[{\"line\":{\"color\":\"green\",\"width\":4},\"mode\":\"lines\",\"name\":\"Superficie\",\"x\":[-1,1],\"y\":[0,0],\"type\":\"scatter\"},{\"line\":{\"color\":\"lightblue\",\"dash\":\"dash\",\"width\":4},\"mode\":\"lines\",\"name\":\"Tope Atm\\u00f3sfera\",\"x\":[-1,1],\"y\":[10.0,10.0],\"type\":\"scatter\"},{\"line\":{\"color\":\"grey\",\"dash\":\"dot\",\"width\":1},\"mode\":\"lines\",\"x\":[0,0],\"y\":[10.0,3.4293346485516603],\"type\":\"scatter\"},{\"marker\":{\"color\":\"red\",\"size\":10},\"mode\":\"markers\",\"x\":[0],\"y\":[3.4293346485516603],\"type\":\"scatter\"},{\"marker\":{\"color\":\"black\",\"size\":12,\"symbol\":\"x\"},\"mode\":\"markers\",\"x\":[0],\"y\":[3.4293346485516603],\"type\":\"scatter\"}],\"layout\":{\"annotations\":[{\"showarrow\":false,\"text\":\"V\\u002fc=0.995, \\u03b3=10.01, \\u0394\\u03c4=2.20\\u00b5s, H=10.0km\",\"x\":0.01,\"xref\":\"paper\",\"y\":1.12,\"yref\":\"paper\"},{\"showarrow\":false,\"text\":\"t=22.028\\u00b5s, \\u03c4=2.200\\u00b5s\",\"x\":0.01,\"xref\":\"paper\",\"y\":1.06,\"yref\":\"paper\"},{\"font\":{\"color\":\"red\",\"size\":14},\"showarrow\":false,\"text\":\"\\u00a1DECAY\\u00d3!\",\"x\":0.99,\"xref\":\"paper\",\"y\":1.05,\"yref\":\"paper\"}]},\"name\":\"144\"},{\"data\":[{\"line\":{\"color\":\"green\",\"width\":4},\"mode\":\"lines\",\"name\":\"Superficie\",\"x\":[-1,1],\"y\":[0,0],\"type\":\"scatter\"},{\"line\":{\"color\":\"lightblue\",\"dash\":\"dash\",\"width\":4},\"mode\":\"lines\",\"name\":\"Tope Atm\\u00f3sfera\",\"x\":[-1,1],\"y\":[10.0,10.0],\"type\":\"scatter\"},{\"line\":{\"color\":\"grey\",\"dash\":\"dot\",\"width\":1},\"mode\":\"lines\",\"x\":[0,0],\"y\":[10.0,3.4293346485516603],\"type\":\"scatter\"},{\"marker\":{\"color\":\"red\",\"size\":10},\"mode\":\"markers\",\"x\":[0],\"y\":[3.4293346485516603],\"type\":\"scatter\"},{\"marker\":{\"color\":\"black\",\"size\":12,\"symbol\":\"x\"},\"mode\":\"markers\",\"x\":[0],\"y\":[3.4293346485516603],\"type\":\"scatter\"}],\"layout\":{\"annotations\":[{\"showarrow\":false,\"text\":\"V\\u002fc=0.995, \\u03b3=10.01, \\u0394\\u03c4=2.20\\u00b5s, H=10.0km\",\"x\":0.01,\"xref\":\"paper\",\"y\":1.12,\"yref\":\"paper\"},{\"showarrow\":false,\"text\":\"t=22.028\\u00b5s, \\u03c4=2.200\\u00b5s\",\"x\":0.01,\"xref\":\"paper\",\"y\":1.06,\"yref\":\"paper\"},{\"font\":{\"color\":\"red\",\"size\":14},\"showarrow\":false,\"text\":\"\\u00a1DECAY\\u00d3!\",\"x\":0.99,\"xref\":\"paper\",\"y\":1.05,\"yref\":\"paper\"}]},\"name\":\"145\"},{\"data\":[{\"line\":{\"color\":\"green\",\"width\":4},\"mode\":\"lines\",\"name\":\"Superficie\",\"x\":[-1,1],\"y\":[0,0],\"type\":\"scatter\"},{\"line\":{\"color\":\"lightblue\",\"dash\":\"dash\",\"width\":4},\"mode\":\"lines\",\"name\":\"Tope Atm\\u00f3sfera\",\"x\":[-1,1],\"y\":[10.0,10.0],\"type\":\"scatter\"},{\"line\":{\"color\":\"grey\",\"dash\":\"dot\",\"width\":1},\"mode\":\"lines\",\"x\":[0,0],\"y\":[10.0,3.4293346485516603],\"type\":\"scatter\"},{\"marker\":{\"color\":\"red\",\"size\":10},\"mode\":\"markers\",\"x\":[0],\"y\":[3.4293346485516603],\"type\":\"scatter\"},{\"marker\":{\"color\":\"black\",\"size\":12,\"symbol\":\"x\"},\"mode\":\"markers\",\"x\":[0],\"y\":[3.4293346485516603],\"type\":\"scatter\"}],\"layout\":{\"annotations\":[{\"showarrow\":false,\"text\":\"V\\u002fc=0.995, \\u03b3=10.01, \\u0394\\u03c4=2.20\\u00b5s, H=10.0km\",\"x\":0.01,\"xref\":\"paper\",\"y\":1.12,\"yref\":\"paper\"},{\"showarrow\":false,\"text\":\"t=22.028\\u00b5s, \\u03c4=2.200\\u00b5s\",\"x\":0.01,\"xref\":\"paper\",\"y\":1.06,\"yref\":\"paper\"},{\"font\":{\"color\":\"red\",\"size\":14},\"showarrow\":false,\"text\":\"\\u00a1DECAY\\u00d3!\",\"x\":0.99,\"xref\":\"paper\",\"y\":1.05,\"yref\":\"paper\"}]},\"name\":\"146\"},{\"data\":[{\"line\":{\"color\":\"green\",\"width\":4},\"mode\":\"lines\",\"name\":\"Superficie\",\"x\":[-1,1],\"y\":[0,0],\"type\":\"scatter\"},{\"line\":{\"color\":\"lightblue\",\"dash\":\"dash\",\"width\":4},\"mode\":\"lines\",\"name\":\"Tope Atm\\u00f3sfera\",\"x\":[-1,1],\"y\":[10.0,10.0],\"type\":\"scatter\"},{\"line\":{\"color\":\"grey\",\"dash\":\"dot\",\"width\":1},\"mode\":\"lines\",\"x\":[0,0],\"y\":[10.0,3.4293346485516603],\"type\":\"scatter\"},{\"marker\":{\"color\":\"red\",\"size\":10},\"mode\":\"markers\",\"x\":[0],\"y\":[3.4293346485516603],\"type\":\"scatter\"},{\"marker\":{\"color\":\"black\",\"size\":12,\"symbol\":\"x\"},\"mode\":\"markers\",\"x\":[0],\"y\":[3.4293346485516603],\"type\":\"scatter\"}],\"layout\":{\"annotations\":[{\"showarrow\":false,\"text\":\"V\\u002fc=0.995, \\u03b3=10.01, \\u0394\\u03c4=2.20\\u00b5s, H=10.0km\",\"x\":0.01,\"xref\":\"paper\",\"y\":1.12,\"yref\":\"paper\"},{\"showarrow\":false,\"text\":\"t=22.028\\u00b5s, \\u03c4=2.200\\u00b5s\",\"x\":0.01,\"xref\":\"paper\",\"y\":1.06,\"yref\":\"paper\"},{\"font\":{\"color\":\"red\",\"size\":14},\"showarrow\":false,\"text\":\"\\u00a1DECAY\\u00d3!\",\"x\":0.99,\"xref\":\"paper\",\"y\":1.05,\"yref\":\"paper\"}]},\"name\":\"147\"},{\"data\":[{\"line\":{\"color\":\"green\",\"width\":4},\"mode\":\"lines\",\"name\":\"Superficie\",\"x\":[-1,1],\"y\":[0,0],\"type\":\"scatter\"},{\"line\":{\"color\":\"lightblue\",\"dash\":\"dash\",\"width\":4},\"mode\":\"lines\",\"name\":\"Tope Atm\\u00f3sfera\",\"x\":[-1,1],\"y\":[10.0,10.0],\"type\":\"scatter\"},{\"line\":{\"color\":\"grey\",\"dash\":\"dot\",\"width\":1},\"mode\":\"lines\",\"x\":[0,0],\"y\":[10.0,3.4293346485516603],\"type\":\"scatter\"},{\"marker\":{\"color\":\"red\",\"size\":10},\"mode\":\"markers\",\"x\":[0],\"y\":[3.4293346485516603],\"type\":\"scatter\"},{\"marker\":{\"color\":\"black\",\"size\":12,\"symbol\":\"x\"},\"mode\":\"markers\",\"x\":[0],\"y\":[3.4293346485516603],\"type\":\"scatter\"}],\"layout\":{\"annotations\":[{\"showarrow\":false,\"text\":\"V\\u002fc=0.995, \\u03b3=10.01, \\u0394\\u03c4=2.20\\u00b5s, H=10.0km\",\"x\":0.01,\"xref\":\"paper\",\"y\":1.12,\"yref\":\"paper\"},{\"showarrow\":false,\"text\":\"t=22.028\\u00b5s, \\u03c4=2.200\\u00b5s\",\"x\":0.01,\"xref\":\"paper\",\"y\":1.06,\"yref\":\"paper\"},{\"font\":{\"color\":\"red\",\"size\":14},\"showarrow\":false,\"text\":\"\\u00a1DECAY\\u00d3!\",\"x\":0.99,\"xref\":\"paper\",\"y\":1.05,\"yref\":\"paper\"}]},\"name\":\"148\"},{\"data\":[{\"line\":{\"color\":\"green\",\"width\":4},\"mode\":\"lines\",\"name\":\"Superficie\",\"x\":[-1,1],\"y\":[0,0],\"type\":\"scatter\"},{\"line\":{\"color\":\"lightblue\",\"dash\":\"dash\",\"width\":4},\"mode\":\"lines\",\"name\":\"Tope Atm\\u00f3sfera\",\"x\":[-1,1],\"y\":[10.0,10.0],\"type\":\"scatter\"},{\"line\":{\"color\":\"grey\",\"dash\":\"dot\",\"width\":1},\"mode\":\"lines\",\"x\":[0,0],\"y\":[10.0,3.4293346485516603],\"type\":\"scatter\"},{\"marker\":{\"color\":\"red\",\"size\":10},\"mode\":\"markers\",\"x\":[0],\"y\":[3.4293346485516603],\"type\":\"scatter\"},{\"marker\":{\"color\":\"black\",\"size\":12,\"symbol\":\"x\"},\"mode\":\"markers\",\"x\":[0],\"y\":[3.4293346485516603],\"type\":\"scatter\"}],\"layout\":{\"annotations\":[{\"showarrow\":false,\"text\":\"V\\u002fc=0.995, \\u03b3=10.01, \\u0394\\u03c4=2.20\\u00b5s, H=10.0km\",\"x\":0.01,\"xref\":\"paper\",\"y\":1.12,\"yref\":\"paper\"},{\"showarrow\":false,\"text\":\"t=22.028\\u00b5s, \\u03c4=2.200\\u00b5s\",\"x\":0.01,\"xref\":\"paper\",\"y\":1.06,\"yref\":\"paper\"},{\"font\":{\"color\":\"red\",\"size\":14},\"showarrow\":false,\"text\":\"\\u00a1DECAY\\u00d3!\",\"x\":0.99,\"xref\":\"paper\",\"y\":1.05,\"yref\":\"paper\"}]},\"name\":\"149\"},{\"data\":[{\"line\":{\"color\":\"green\",\"width\":4},\"mode\":\"lines\",\"name\":\"Superficie\",\"x\":[-1,1],\"y\":[0,0],\"type\":\"scatter\"},{\"line\":{\"color\":\"lightblue\",\"dash\":\"dash\",\"width\":4},\"mode\":\"lines\",\"name\":\"Tope Atm\\u00f3sfera\",\"x\":[-1,1],\"y\":[10.0,10.0],\"type\":\"scatter\"},{\"line\":{\"color\":\"grey\",\"dash\":\"dot\",\"width\":1},\"mode\":\"lines\",\"x\":[0,0],\"y\":[10.0,3.4293346485516603],\"type\":\"scatter\"},{\"marker\":{\"color\":\"red\",\"size\":10},\"mode\":\"markers\",\"x\":[0],\"y\":[3.4293346485516603],\"type\":\"scatter\"},{\"marker\":{\"color\":\"black\",\"size\":12,\"symbol\":\"x\"},\"mode\":\"markers\",\"x\":[0],\"y\":[3.4293346485516603],\"type\":\"scatter\"}],\"layout\":{\"annotations\":[{\"showarrow\":false,\"text\":\"V\\u002fc=0.995, \\u03b3=10.01, \\u0394\\u03c4=2.20\\u00b5s, H=10.0km\",\"x\":0.01,\"xref\":\"paper\",\"y\":1.12,\"yref\":\"paper\"},{\"showarrow\":false,\"text\":\"t=22.028\\u00b5s, \\u03c4=2.200\\u00b5s\",\"x\":0.01,\"xref\":\"paper\",\"y\":1.06,\"yref\":\"paper\"},{\"font\":{\"color\":\"red\",\"size\":14},\"showarrow\":false,\"text\":\"\\u00a1DECAY\\u00d3!\",\"x\":0.99,\"xref\":\"paper\",\"y\":1.05,\"yref\":\"paper\"}]},\"name\":\"150\"},{\"data\":[{\"line\":{\"color\":\"green\",\"width\":4},\"mode\":\"lines\",\"name\":\"Superficie\",\"x\":[-1,1],\"y\":[0,0],\"type\":\"scatter\"},{\"line\":{\"color\":\"lightblue\",\"dash\":\"dash\",\"width\":4},\"mode\":\"lines\",\"name\":\"Tope Atm\\u00f3sfera\",\"x\":[-1,1],\"y\":[10.0,10.0],\"type\":\"scatter\"},{\"line\":{\"color\":\"grey\",\"dash\":\"dot\",\"width\":1},\"mode\":\"lines\",\"x\":[0,0],\"y\":[10.0,3.4293346485516603],\"type\":\"scatter\"},{\"marker\":{\"color\":\"red\",\"size\":10},\"mode\":\"markers\",\"x\":[0],\"y\":[3.4293346485516603],\"type\":\"scatter\"},{\"marker\":{\"color\":\"black\",\"size\":12,\"symbol\":\"x\"},\"mode\":\"markers\",\"x\":[0],\"y\":[3.4293346485516603],\"type\":\"scatter\"}],\"layout\":{\"annotations\":[{\"showarrow\":false,\"text\":\"V\\u002fc=0.995, \\u03b3=10.01, \\u0394\\u03c4=2.20\\u00b5s, H=10.0km\",\"x\":0.01,\"xref\":\"paper\",\"y\":1.12,\"yref\":\"paper\"},{\"showarrow\":false,\"text\":\"t=22.028\\u00b5s, \\u03c4=2.200\\u00b5s\",\"x\":0.01,\"xref\":\"paper\",\"y\":1.06,\"yref\":\"paper\"},{\"font\":{\"color\":\"red\",\"size\":14},\"showarrow\":false,\"text\":\"\\u00a1DECAY\\u00d3!\",\"x\":0.99,\"xref\":\"paper\",\"y\":1.05,\"yref\":\"paper\"}]},\"name\":\"151\"},{\"data\":[{\"line\":{\"color\":\"green\",\"width\":4},\"mode\":\"lines\",\"name\":\"Superficie\",\"x\":[-1,1],\"y\":[0,0],\"type\":\"scatter\"},{\"line\":{\"color\":\"lightblue\",\"dash\":\"dash\",\"width\":4},\"mode\":\"lines\",\"name\":\"Tope Atm\\u00f3sfera\",\"x\":[-1,1],\"y\":[10.0,10.0],\"type\":\"scatter\"},{\"line\":{\"color\":\"grey\",\"dash\":\"dot\",\"width\":1},\"mode\":\"lines\",\"x\":[0,0],\"y\":[10.0,3.4293346485516603],\"type\":\"scatter\"},{\"marker\":{\"color\":\"red\",\"size\":10},\"mode\":\"markers\",\"x\":[0],\"y\":[3.4293346485516603],\"type\":\"scatter\"},{\"marker\":{\"color\":\"black\",\"size\":12,\"symbol\":\"x\"},\"mode\":\"markers\",\"x\":[0],\"y\":[3.4293346485516603],\"type\":\"scatter\"}],\"layout\":{\"annotations\":[{\"showarrow\":false,\"text\":\"V\\u002fc=0.995, \\u03b3=10.01, \\u0394\\u03c4=2.20\\u00b5s, H=10.0km\",\"x\":0.01,\"xref\":\"paper\",\"y\":1.12,\"yref\":\"paper\"},{\"showarrow\":false,\"text\":\"t=22.028\\u00b5s, \\u03c4=2.200\\u00b5s\",\"x\":0.01,\"xref\":\"paper\",\"y\":1.06,\"yref\":\"paper\"},{\"font\":{\"color\":\"red\",\"size\":14},\"showarrow\":false,\"text\":\"\\u00a1DECAY\\u00d3!\",\"x\":0.99,\"xref\":\"paper\",\"y\":1.05,\"yref\":\"paper\"}]},\"name\":\"152\"},{\"data\":[{\"line\":{\"color\":\"green\",\"width\":4},\"mode\":\"lines\",\"name\":\"Superficie\",\"x\":[-1,1],\"y\":[0,0],\"type\":\"scatter\"},{\"line\":{\"color\":\"lightblue\",\"dash\":\"dash\",\"width\":4},\"mode\":\"lines\",\"name\":\"Tope Atm\\u00f3sfera\",\"x\":[-1,1],\"y\":[10.0,10.0],\"type\":\"scatter\"},{\"line\":{\"color\":\"grey\",\"dash\":\"dot\",\"width\":1},\"mode\":\"lines\",\"x\":[0,0],\"y\":[10.0,3.4293346485516603],\"type\":\"scatter\"},{\"marker\":{\"color\":\"red\",\"size\":10},\"mode\":\"markers\",\"x\":[0],\"y\":[3.4293346485516603],\"type\":\"scatter\"},{\"marker\":{\"color\":\"black\",\"size\":12,\"symbol\":\"x\"},\"mode\":\"markers\",\"x\":[0],\"y\":[3.4293346485516603],\"type\":\"scatter\"}],\"layout\":{\"annotations\":[{\"showarrow\":false,\"text\":\"V\\u002fc=0.995, \\u03b3=10.01, \\u0394\\u03c4=2.20\\u00b5s, H=10.0km\",\"x\":0.01,\"xref\":\"paper\",\"y\":1.12,\"yref\":\"paper\"},{\"showarrow\":false,\"text\":\"t=22.028\\u00b5s, \\u03c4=2.200\\u00b5s\",\"x\":0.01,\"xref\":\"paper\",\"y\":1.06,\"yref\":\"paper\"},{\"font\":{\"color\":\"red\",\"size\":14},\"showarrow\":false,\"text\":\"\\u00a1DECAY\\u00d3!\",\"x\":0.99,\"xref\":\"paper\",\"y\":1.05,\"yref\":\"paper\"}]},\"name\":\"153\"},{\"data\":[{\"line\":{\"color\":\"green\",\"width\":4},\"mode\":\"lines\",\"name\":\"Superficie\",\"x\":[-1,1],\"y\":[0,0],\"type\":\"scatter\"},{\"line\":{\"color\":\"lightblue\",\"dash\":\"dash\",\"width\":4},\"mode\":\"lines\",\"name\":\"Tope Atm\\u00f3sfera\",\"x\":[-1,1],\"y\":[10.0,10.0],\"type\":\"scatter\"},{\"line\":{\"color\":\"grey\",\"dash\":\"dot\",\"width\":1},\"mode\":\"lines\",\"x\":[0,0],\"y\":[10.0,3.4293346485516603],\"type\":\"scatter\"},{\"marker\":{\"color\":\"red\",\"size\":10},\"mode\":\"markers\",\"x\":[0],\"y\":[3.4293346485516603],\"type\":\"scatter\"},{\"marker\":{\"color\":\"black\",\"size\":12,\"symbol\":\"x\"},\"mode\":\"markers\",\"x\":[0],\"y\":[3.4293346485516603],\"type\":\"scatter\"}],\"layout\":{\"annotations\":[{\"showarrow\":false,\"text\":\"V\\u002fc=0.995, \\u03b3=10.01, \\u0394\\u03c4=2.20\\u00b5s, H=10.0km\",\"x\":0.01,\"xref\":\"paper\",\"y\":1.12,\"yref\":\"paper\"},{\"showarrow\":false,\"text\":\"t=22.028\\u00b5s, \\u03c4=2.200\\u00b5s\",\"x\":0.01,\"xref\":\"paper\",\"y\":1.06,\"yref\":\"paper\"},{\"font\":{\"color\":\"red\",\"size\":14},\"showarrow\":false,\"text\":\"\\u00a1DECAY\\u00d3!\",\"x\":0.99,\"xref\":\"paper\",\"y\":1.05,\"yref\":\"paper\"}]},\"name\":\"154\"},{\"data\":[{\"line\":{\"color\":\"green\",\"width\":4},\"mode\":\"lines\",\"name\":\"Superficie\",\"x\":[-1,1],\"y\":[0,0],\"type\":\"scatter\"},{\"line\":{\"color\":\"lightblue\",\"dash\":\"dash\",\"width\":4},\"mode\":\"lines\",\"name\":\"Tope Atm\\u00f3sfera\",\"x\":[-1,1],\"y\":[10.0,10.0],\"type\":\"scatter\"},{\"line\":{\"color\":\"grey\",\"dash\":\"dot\",\"width\":1},\"mode\":\"lines\",\"x\":[0,0],\"y\":[10.0,3.4293346485516603],\"type\":\"scatter\"},{\"marker\":{\"color\":\"red\",\"size\":10},\"mode\":\"markers\",\"x\":[0],\"y\":[3.4293346485516603],\"type\":\"scatter\"},{\"marker\":{\"color\":\"black\",\"size\":12,\"symbol\":\"x\"},\"mode\":\"markers\",\"x\":[0],\"y\":[3.4293346485516603],\"type\":\"scatter\"}],\"layout\":{\"annotations\":[{\"showarrow\":false,\"text\":\"V\\u002fc=0.995, \\u03b3=10.01, \\u0394\\u03c4=2.20\\u00b5s, H=10.0km\",\"x\":0.01,\"xref\":\"paper\",\"y\":1.12,\"yref\":\"paper\"},{\"showarrow\":false,\"text\":\"t=22.028\\u00b5s, \\u03c4=2.200\\u00b5s\",\"x\":0.01,\"xref\":\"paper\",\"y\":1.06,\"yref\":\"paper\"},{\"font\":{\"color\":\"red\",\"size\":14},\"showarrow\":false,\"text\":\"\\u00a1DECAY\\u00d3!\",\"x\":0.99,\"xref\":\"paper\",\"y\":1.05,\"yref\":\"paper\"}]},\"name\":\"155\"},{\"data\":[{\"line\":{\"color\":\"green\",\"width\":4},\"mode\":\"lines\",\"name\":\"Superficie\",\"x\":[-1,1],\"y\":[0,0],\"type\":\"scatter\"},{\"line\":{\"color\":\"lightblue\",\"dash\":\"dash\",\"width\":4},\"mode\":\"lines\",\"name\":\"Tope Atm\\u00f3sfera\",\"x\":[-1,1],\"y\":[10.0,10.0],\"type\":\"scatter\"},{\"line\":{\"color\":\"grey\",\"dash\":\"dot\",\"width\":1},\"mode\":\"lines\",\"x\":[0,0],\"y\":[10.0,3.4293346485516603],\"type\":\"scatter\"},{\"marker\":{\"color\":\"red\",\"size\":10},\"mode\":\"markers\",\"x\":[0],\"y\":[3.4293346485516603],\"type\":\"scatter\"},{\"marker\":{\"color\":\"black\",\"size\":12,\"symbol\":\"x\"},\"mode\":\"markers\",\"x\":[0],\"y\":[3.4293346485516603],\"type\":\"scatter\"}],\"layout\":{\"annotations\":[{\"showarrow\":false,\"text\":\"V\\u002fc=0.995, \\u03b3=10.01, \\u0394\\u03c4=2.20\\u00b5s, H=10.0km\",\"x\":0.01,\"xref\":\"paper\",\"y\":1.12,\"yref\":\"paper\"},{\"showarrow\":false,\"text\":\"t=22.028\\u00b5s, \\u03c4=2.200\\u00b5s\",\"x\":0.01,\"xref\":\"paper\",\"y\":1.06,\"yref\":\"paper\"},{\"font\":{\"color\":\"red\",\"size\":14},\"showarrow\":false,\"text\":\"\\u00a1DECAY\\u00d3!\",\"x\":0.99,\"xref\":\"paper\",\"y\":1.05,\"yref\":\"paper\"}]},\"name\":\"156\"},{\"data\":[{\"line\":{\"color\":\"green\",\"width\":4},\"mode\":\"lines\",\"name\":\"Superficie\",\"x\":[-1,1],\"y\":[0,0],\"type\":\"scatter\"},{\"line\":{\"color\":\"lightblue\",\"dash\":\"dash\",\"width\":4},\"mode\":\"lines\",\"name\":\"Tope Atm\\u00f3sfera\",\"x\":[-1,1],\"y\":[10.0,10.0],\"type\":\"scatter\"},{\"line\":{\"color\":\"grey\",\"dash\":\"dot\",\"width\":1},\"mode\":\"lines\",\"x\":[0,0],\"y\":[10.0,3.4293346485516603],\"type\":\"scatter\"},{\"marker\":{\"color\":\"red\",\"size\":10},\"mode\":\"markers\",\"x\":[0],\"y\":[3.4293346485516603],\"type\":\"scatter\"},{\"marker\":{\"color\":\"black\",\"size\":12,\"symbol\":\"x\"},\"mode\":\"markers\",\"x\":[0],\"y\":[3.4293346485516603],\"type\":\"scatter\"}],\"layout\":{\"annotations\":[{\"showarrow\":false,\"text\":\"V\\u002fc=0.995, \\u03b3=10.01, \\u0394\\u03c4=2.20\\u00b5s, H=10.0km\",\"x\":0.01,\"xref\":\"paper\",\"y\":1.12,\"yref\":\"paper\"},{\"showarrow\":false,\"text\":\"t=22.028\\u00b5s, \\u03c4=2.200\\u00b5s\",\"x\":0.01,\"xref\":\"paper\",\"y\":1.06,\"yref\":\"paper\"},{\"font\":{\"color\":\"red\",\"size\":14},\"showarrow\":false,\"text\":\"\\u00a1DECAY\\u00d3!\",\"x\":0.99,\"xref\":\"paper\",\"y\":1.05,\"yref\":\"paper\"}]},\"name\":\"157\"},{\"data\":[{\"line\":{\"color\":\"green\",\"width\":4},\"mode\":\"lines\",\"name\":\"Superficie\",\"x\":[-1,1],\"y\":[0,0],\"type\":\"scatter\"},{\"line\":{\"color\":\"lightblue\",\"dash\":\"dash\",\"width\":4},\"mode\":\"lines\",\"name\":\"Tope Atm\\u00f3sfera\",\"x\":[-1,1],\"y\":[10.0,10.0],\"type\":\"scatter\"},{\"line\":{\"color\":\"grey\",\"dash\":\"dot\",\"width\":1},\"mode\":\"lines\",\"x\":[0,0],\"y\":[10.0,3.4293346485516603],\"type\":\"scatter\"},{\"marker\":{\"color\":\"red\",\"size\":10},\"mode\":\"markers\",\"x\":[0],\"y\":[3.4293346485516603],\"type\":\"scatter\"},{\"marker\":{\"color\":\"black\",\"size\":12,\"symbol\":\"x\"},\"mode\":\"markers\",\"x\":[0],\"y\":[3.4293346485516603],\"type\":\"scatter\"}],\"layout\":{\"annotations\":[{\"showarrow\":false,\"text\":\"V\\u002fc=0.995, \\u03b3=10.01, \\u0394\\u03c4=2.20\\u00b5s, H=10.0km\",\"x\":0.01,\"xref\":\"paper\",\"y\":1.12,\"yref\":\"paper\"},{\"showarrow\":false,\"text\":\"t=22.028\\u00b5s, \\u03c4=2.200\\u00b5s\",\"x\":0.01,\"xref\":\"paper\",\"y\":1.06,\"yref\":\"paper\"},{\"font\":{\"color\":\"red\",\"size\":14},\"showarrow\":false,\"text\":\"\\u00a1DECAY\\u00d3!\",\"x\":0.99,\"xref\":\"paper\",\"y\":1.05,\"yref\":\"paper\"}]},\"name\":\"158\"},{\"data\":[{\"line\":{\"color\":\"green\",\"width\":4},\"mode\":\"lines\",\"name\":\"Superficie\",\"x\":[-1,1],\"y\":[0,0],\"type\":\"scatter\"},{\"line\":{\"color\":\"lightblue\",\"dash\":\"dash\",\"width\":4},\"mode\":\"lines\",\"name\":\"Tope Atm\\u00f3sfera\",\"x\":[-1,1],\"y\":[10.0,10.0],\"type\":\"scatter\"},{\"line\":{\"color\":\"grey\",\"dash\":\"dot\",\"width\":1},\"mode\":\"lines\",\"x\":[0,0],\"y\":[10.0,3.4293346485516603],\"type\":\"scatter\"},{\"marker\":{\"color\":\"red\",\"size\":10},\"mode\":\"markers\",\"x\":[0],\"y\":[3.4293346485516603],\"type\":\"scatter\"},{\"marker\":{\"color\":\"black\",\"size\":12,\"symbol\":\"x\"},\"mode\":\"markers\",\"x\":[0],\"y\":[3.4293346485516603],\"type\":\"scatter\"}],\"layout\":{\"annotations\":[{\"showarrow\":false,\"text\":\"V\\u002fc=0.995, \\u03b3=10.01, \\u0394\\u03c4=2.20\\u00b5s, H=10.0km\",\"x\":0.01,\"xref\":\"paper\",\"y\":1.12,\"yref\":\"paper\"},{\"showarrow\":false,\"text\":\"t=22.028\\u00b5s, \\u03c4=2.200\\u00b5s\",\"x\":0.01,\"xref\":\"paper\",\"y\":1.06,\"yref\":\"paper\"},{\"font\":{\"color\":\"red\",\"size\":14},\"showarrow\":false,\"text\":\"\\u00a1DECAY\\u00d3!\",\"x\":0.99,\"xref\":\"paper\",\"y\":1.05,\"yref\":\"paper\"}]},\"name\":\"159\"},{\"data\":[{\"line\":{\"color\":\"green\",\"width\":4},\"mode\":\"lines\",\"name\":\"Superficie\",\"x\":[-1,1],\"y\":[0,0],\"type\":\"scatter\"},{\"line\":{\"color\":\"lightblue\",\"dash\":\"dash\",\"width\":4},\"mode\":\"lines\",\"name\":\"Tope Atm\\u00f3sfera\",\"x\":[-1,1],\"y\":[10.0,10.0],\"type\":\"scatter\"},{\"line\":{\"color\":\"grey\",\"dash\":\"dot\",\"width\":1},\"mode\":\"lines\",\"x\":[0,0],\"y\":[10.0,3.4293346485516603],\"type\":\"scatter\"},{\"marker\":{\"color\":\"red\",\"size\":10},\"mode\":\"markers\",\"x\":[0],\"y\":[3.4293346485516603],\"type\":\"scatter\"},{\"marker\":{\"color\":\"black\",\"size\":12,\"symbol\":\"x\"},\"mode\":\"markers\",\"x\":[0],\"y\":[3.4293346485516603],\"type\":\"scatter\"}],\"layout\":{\"annotations\":[{\"showarrow\":false,\"text\":\"V\\u002fc=0.995, \\u03b3=10.01, \\u0394\\u03c4=2.20\\u00b5s, H=10.0km\",\"x\":0.01,\"xref\":\"paper\",\"y\":1.12,\"yref\":\"paper\"},{\"showarrow\":false,\"text\":\"t=22.028\\u00b5s, \\u03c4=2.200\\u00b5s\",\"x\":0.01,\"xref\":\"paper\",\"y\":1.06,\"yref\":\"paper\"},{\"font\":{\"color\":\"red\",\"size\":14},\"showarrow\":false,\"text\":\"\\u00a1DECAY\\u00d3!\",\"x\":0.99,\"xref\":\"paper\",\"y\":1.05,\"yref\":\"paper\"}]},\"name\":\"160\"},{\"data\":[{\"line\":{\"color\":\"green\",\"width\":4},\"mode\":\"lines\",\"name\":\"Superficie\",\"x\":[-1,1],\"y\":[0,0],\"type\":\"scatter\"},{\"line\":{\"color\":\"lightblue\",\"dash\":\"dash\",\"width\":4},\"mode\":\"lines\",\"name\":\"Tope Atm\\u00f3sfera\",\"x\":[-1,1],\"y\":[10.0,10.0],\"type\":\"scatter\"},{\"line\":{\"color\":\"grey\",\"dash\":\"dot\",\"width\":1},\"mode\":\"lines\",\"x\":[0,0],\"y\":[10.0,3.4293346485516603],\"type\":\"scatter\"},{\"marker\":{\"color\":\"red\",\"size\":10},\"mode\":\"markers\",\"x\":[0],\"y\":[3.4293346485516603],\"type\":\"scatter\"},{\"marker\":{\"color\":\"black\",\"size\":12,\"symbol\":\"x\"},\"mode\":\"markers\",\"x\":[0],\"y\":[3.4293346485516603],\"type\":\"scatter\"}],\"layout\":{\"annotations\":[{\"showarrow\":false,\"text\":\"V\\u002fc=0.995, \\u03b3=10.01, \\u0394\\u03c4=2.20\\u00b5s, H=10.0km\",\"x\":0.01,\"xref\":\"paper\",\"y\":1.12,\"yref\":\"paper\"},{\"showarrow\":false,\"text\":\"t=22.028\\u00b5s, \\u03c4=2.200\\u00b5s\",\"x\":0.01,\"xref\":\"paper\",\"y\":1.06,\"yref\":\"paper\"},{\"font\":{\"color\":\"red\",\"size\":14},\"showarrow\":false,\"text\":\"\\u00a1DECAY\\u00d3!\",\"x\":0.99,\"xref\":\"paper\",\"y\":1.05,\"yref\":\"paper\"}]},\"name\":\"161\"},{\"data\":[{\"line\":{\"color\":\"green\",\"width\":4},\"mode\":\"lines\",\"name\":\"Superficie\",\"x\":[-1,1],\"y\":[0,0],\"type\":\"scatter\"},{\"line\":{\"color\":\"lightblue\",\"dash\":\"dash\",\"width\":4},\"mode\":\"lines\",\"name\":\"Tope Atm\\u00f3sfera\",\"x\":[-1,1],\"y\":[10.0,10.0],\"type\":\"scatter\"},{\"line\":{\"color\":\"grey\",\"dash\":\"dot\",\"width\":1},\"mode\":\"lines\",\"x\":[0,0],\"y\":[10.0,3.4293346485516603],\"type\":\"scatter\"},{\"marker\":{\"color\":\"red\",\"size\":10},\"mode\":\"markers\",\"x\":[0],\"y\":[3.4293346485516603],\"type\":\"scatter\"},{\"marker\":{\"color\":\"black\",\"size\":12,\"symbol\":\"x\"},\"mode\":\"markers\",\"x\":[0],\"y\":[3.4293346485516603],\"type\":\"scatter\"}],\"layout\":{\"annotations\":[{\"showarrow\":false,\"text\":\"V\\u002fc=0.995, \\u03b3=10.01, \\u0394\\u03c4=2.20\\u00b5s, H=10.0km\",\"x\":0.01,\"xref\":\"paper\",\"y\":1.12,\"yref\":\"paper\"},{\"showarrow\":false,\"text\":\"t=22.028\\u00b5s, \\u03c4=2.200\\u00b5s\",\"x\":0.01,\"xref\":\"paper\",\"y\":1.06,\"yref\":\"paper\"},{\"font\":{\"color\":\"red\",\"size\":14},\"showarrow\":false,\"text\":\"\\u00a1DECAY\\u00d3!\",\"x\":0.99,\"xref\":\"paper\",\"y\":1.05,\"yref\":\"paper\"}]},\"name\":\"162\"},{\"data\":[{\"line\":{\"color\":\"green\",\"width\":4},\"mode\":\"lines\",\"name\":\"Superficie\",\"x\":[-1,1],\"y\":[0,0],\"type\":\"scatter\"},{\"line\":{\"color\":\"lightblue\",\"dash\":\"dash\",\"width\":4},\"mode\":\"lines\",\"name\":\"Tope Atm\\u00f3sfera\",\"x\":[-1,1],\"y\":[10.0,10.0],\"type\":\"scatter\"},{\"line\":{\"color\":\"grey\",\"dash\":\"dot\",\"width\":1},\"mode\":\"lines\",\"x\":[0,0],\"y\":[10.0,3.4293346485516603],\"type\":\"scatter\"},{\"marker\":{\"color\":\"red\",\"size\":10},\"mode\":\"markers\",\"x\":[0],\"y\":[3.4293346485516603],\"type\":\"scatter\"},{\"marker\":{\"color\":\"black\",\"size\":12,\"symbol\":\"x\"},\"mode\":\"markers\",\"x\":[0],\"y\":[3.4293346485516603],\"type\":\"scatter\"}],\"layout\":{\"annotations\":[{\"showarrow\":false,\"text\":\"V\\u002fc=0.995, \\u03b3=10.01, \\u0394\\u03c4=2.20\\u00b5s, H=10.0km\",\"x\":0.01,\"xref\":\"paper\",\"y\":1.12,\"yref\":\"paper\"},{\"showarrow\":false,\"text\":\"t=22.028\\u00b5s, \\u03c4=2.200\\u00b5s\",\"x\":0.01,\"xref\":\"paper\",\"y\":1.06,\"yref\":\"paper\"},{\"font\":{\"color\":\"red\",\"size\":14},\"showarrow\":false,\"text\":\"\\u00a1DECAY\\u00d3!\",\"x\":0.99,\"xref\":\"paper\",\"y\":1.05,\"yref\":\"paper\"}]},\"name\":\"163\"},{\"data\":[{\"line\":{\"color\":\"green\",\"width\":4},\"mode\":\"lines\",\"name\":\"Superficie\",\"x\":[-1,1],\"y\":[0,0],\"type\":\"scatter\"},{\"line\":{\"color\":\"lightblue\",\"dash\":\"dash\",\"width\":4},\"mode\":\"lines\",\"name\":\"Tope Atm\\u00f3sfera\",\"x\":[-1,1],\"y\":[10.0,10.0],\"type\":\"scatter\"},{\"line\":{\"color\":\"grey\",\"dash\":\"dot\",\"width\":1},\"mode\":\"lines\",\"x\":[0,0],\"y\":[10.0,3.4293346485516603],\"type\":\"scatter\"},{\"marker\":{\"color\":\"red\",\"size\":10},\"mode\":\"markers\",\"x\":[0],\"y\":[3.4293346485516603],\"type\":\"scatter\"},{\"marker\":{\"color\":\"black\",\"size\":12,\"symbol\":\"x\"},\"mode\":\"markers\",\"x\":[0],\"y\":[3.4293346485516603],\"type\":\"scatter\"}],\"layout\":{\"annotations\":[{\"showarrow\":false,\"text\":\"V\\u002fc=0.995, \\u03b3=10.01, \\u0394\\u03c4=2.20\\u00b5s, H=10.0km\",\"x\":0.01,\"xref\":\"paper\",\"y\":1.12,\"yref\":\"paper\"},{\"showarrow\":false,\"text\":\"t=22.028\\u00b5s, \\u03c4=2.200\\u00b5s\",\"x\":0.01,\"xref\":\"paper\",\"y\":1.06,\"yref\":\"paper\"},{\"font\":{\"color\":\"red\",\"size\":14},\"showarrow\":false,\"text\":\"\\u00a1DECAY\\u00d3!\",\"x\":0.99,\"xref\":\"paper\",\"y\":1.05,\"yref\":\"paper\"}]},\"name\":\"164\"},{\"data\":[{\"line\":{\"color\":\"green\",\"width\":4},\"mode\":\"lines\",\"name\":\"Superficie\",\"x\":[-1,1],\"y\":[0,0],\"type\":\"scatter\"},{\"line\":{\"color\":\"lightblue\",\"dash\":\"dash\",\"width\":4},\"mode\":\"lines\",\"name\":\"Tope Atm\\u00f3sfera\",\"x\":[-1,1],\"y\":[10.0,10.0],\"type\":\"scatter\"},{\"line\":{\"color\":\"grey\",\"dash\":\"dot\",\"width\":1},\"mode\":\"lines\",\"x\":[0,0],\"y\":[10.0,3.4293346485516603],\"type\":\"scatter\"},{\"marker\":{\"color\":\"red\",\"size\":10},\"mode\":\"markers\",\"x\":[0],\"y\":[3.4293346485516603],\"type\":\"scatter\"},{\"marker\":{\"color\":\"black\",\"size\":12,\"symbol\":\"x\"},\"mode\":\"markers\",\"x\":[0],\"y\":[3.4293346485516603],\"type\":\"scatter\"}],\"layout\":{\"annotations\":[{\"showarrow\":false,\"text\":\"V\\u002fc=0.995, \\u03b3=10.01, \\u0394\\u03c4=2.20\\u00b5s, H=10.0km\",\"x\":0.01,\"xref\":\"paper\",\"y\":1.12,\"yref\":\"paper\"},{\"showarrow\":false,\"text\":\"t=22.028\\u00b5s, \\u03c4=2.200\\u00b5s\",\"x\":0.01,\"xref\":\"paper\",\"y\":1.06,\"yref\":\"paper\"},{\"font\":{\"color\":\"red\",\"size\":14},\"showarrow\":false,\"text\":\"\\u00a1DECAY\\u00d3!\",\"x\":0.99,\"xref\":\"paper\",\"y\":1.05,\"yref\":\"paper\"}]},\"name\":\"165\"},{\"data\":[{\"line\":{\"color\":\"green\",\"width\":4},\"mode\":\"lines\",\"name\":\"Superficie\",\"x\":[-1,1],\"y\":[0,0],\"type\":\"scatter\"},{\"line\":{\"color\":\"lightblue\",\"dash\":\"dash\",\"width\":4},\"mode\":\"lines\",\"name\":\"Tope Atm\\u00f3sfera\",\"x\":[-1,1],\"y\":[10.0,10.0],\"type\":\"scatter\"},{\"line\":{\"color\":\"grey\",\"dash\":\"dot\",\"width\":1},\"mode\":\"lines\",\"x\":[0,0],\"y\":[10.0,3.4293346485516603],\"type\":\"scatter\"},{\"marker\":{\"color\":\"red\",\"size\":10},\"mode\":\"markers\",\"x\":[0],\"y\":[3.4293346485516603],\"type\":\"scatter\"},{\"marker\":{\"color\":\"black\",\"size\":12,\"symbol\":\"x\"},\"mode\":\"markers\",\"x\":[0],\"y\":[3.4293346485516603],\"type\":\"scatter\"}],\"layout\":{\"annotations\":[{\"showarrow\":false,\"text\":\"V\\u002fc=0.995, \\u03b3=10.01, \\u0394\\u03c4=2.20\\u00b5s, H=10.0km\",\"x\":0.01,\"xref\":\"paper\",\"y\":1.12,\"yref\":\"paper\"},{\"showarrow\":false,\"text\":\"t=22.028\\u00b5s, \\u03c4=2.200\\u00b5s\",\"x\":0.01,\"xref\":\"paper\",\"y\":1.06,\"yref\":\"paper\"},{\"font\":{\"color\":\"red\",\"size\":14},\"showarrow\":false,\"text\":\"\\u00a1DECAY\\u00d3!\",\"x\":0.99,\"xref\":\"paper\",\"y\":1.05,\"yref\":\"paper\"}]},\"name\":\"166\"},{\"data\":[{\"line\":{\"color\":\"green\",\"width\":4},\"mode\":\"lines\",\"name\":\"Superficie\",\"x\":[-1,1],\"y\":[0,0],\"type\":\"scatter\"},{\"line\":{\"color\":\"lightblue\",\"dash\":\"dash\",\"width\":4},\"mode\":\"lines\",\"name\":\"Tope Atm\\u00f3sfera\",\"x\":[-1,1],\"y\":[10.0,10.0],\"type\":\"scatter\"},{\"line\":{\"color\":\"grey\",\"dash\":\"dot\",\"width\":1},\"mode\":\"lines\",\"x\":[0,0],\"y\":[10.0,3.4293346485516603],\"type\":\"scatter\"},{\"marker\":{\"color\":\"red\",\"size\":10},\"mode\":\"markers\",\"x\":[0],\"y\":[3.4293346485516603],\"type\":\"scatter\"},{\"marker\":{\"color\":\"black\",\"size\":12,\"symbol\":\"x\"},\"mode\":\"markers\",\"x\":[0],\"y\":[3.4293346485516603],\"type\":\"scatter\"}],\"layout\":{\"annotations\":[{\"showarrow\":false,\"text\":\"V\\u002fc=0.995, \\u03b3=10.01, \\u0394\\u03c4=2.20\\u00b5s, H=10.0km\",\"x\":0.01,\"xref\":\"paper\",\"y\":1.12,\"yref\":\"paper\"},{\"showarrow\":false,\"text\":\"t=22.028\\u00b5s, \\u03c4=2.200\\u00b5s\",\"x\":0.01,\"xref\":\"paper\",\"y\":1.06,\"yref\":\"paper\"},{\"font\":{\"color\":\"red\",\"size\":14},\"showarrow\":false,\"text\":\"\\u00a1DECAY\\u00d3!\",\"x\":0.99,\"xref\":\"paper\",\"y\":1.05,\"yref\":\"paper\"}]},\"name\":\"167\"},{\"data\":[{\"line\":{\"color\":\"green\",\"width\":4},\"mode\":\"lines\",\"name\":\"Superficie\",\"x\":[-1,1],\"y\":[0,0],\"type\":\"scatter\"},{\"line\":{\"color\":\"lightblue\",\"dash\":\"dash\",\"width\":4},\"mode\":\"lines\",\"name\":\"Tope Atm\\u00f3sfera\",\"x\":[-1,1],\"y\":[10.0,10.0],\"type\":\"scatter\"},{\"line\":{\"color\":\"grey\",\"dash\":\"dot\",\"width\":1},\"mode\":\"lines\",\"x\":[0,0],\"y\":[10.0,3.4293346485516603],\"type\":\"scatter\"},{\"marker\":{\"color\":\"red\",\"size\":10},\"mode\":\"markers\",\"x\":[0],\"y\":[3.4293346485516603],\"type\":\"scatter\"},{\"marker\":{\"color\":\"black\",\"size\":12,\"symbol\":\"x\"},\"mode\":\"markers\",\"x\":[0],\"y\":[3.4293346485516603],\"type\":\"scatter\"}],\"layout\":{\"annotations\":[{\"showarrow\":false,\"text\":\"V\\u002fc=0.995, \\u03b3=10.01, \\u0394\\u03c4=2.20\\u00b5s, H=10.0km\",\"x\":0.01,\"xref\":\"paper\",\"y\":1.12,\"yref\":\"paper\"},{\"showarrow\":false,\"text\":\"t=22.028\\u00b5s, \\u03c4=2.200\\u00b5s\",\"x\":0.01,\"xref\":\"paper\",\"y\":1.06,\"yref\":\"paper\"},{\"font\":{\"color\":\"red\",\"size\":14},\"showarrow\":false,\"text\":\"\\u00a1DECAY\\u00d3!\",\"x\":0.99,\"xref\":\"paper\",\"y\":1.05,\"yref\":\"paper\"}]},\"name\":\"168\"},{\"data\":[{\"line\":{\"color\":\"green\",\"width\":4},\"mode\":\"lines\",\"name\":\"Superficie\",\"x\":[-1,1],\"y\":[0,0],\"type\":\"scatter\"},{\"line\":{\"color\":\"lightblue\",\"dash\":\"dash\",\"width\":4},\"mode\":\"lines\",\"name\":\"Tope Atm\\u00f3sfera\",\"x\":[-1,1],\"y\":[10.0,10.0],\"type\":\"scatter\"},{\"line\":{\"color\":\"grey\",\"dash\":\"dot\",\"width\":1},\"mode\":\"lines\",\"x\":[0,0],\"y\":[10.0,3.4293346485516603],\"type\":\"scatter\"},{\"marker\":{\"color\":\"red\",\"size\":10},\"mode\":\"markers\",\"x\":[0],\"y\":[3.4293346485516603],\"type\":\"scatter\"},{\"marker\":{\"color\":\"black\",\"size\":12,\"symbol\":\"x\"},\"mode\":\"markers\",\"x\":[0],\"y\":[3.4293346485516603],\"type\":\"scatter\"}],\"layout\":{\"annotations\":[{\"showarrow\":false,\"text\":\"V\\u002fc=0.995, \\u03b3=10.01, \\u0394\\u03c4=2.20\\u00b5s, H=10.0km\",\"x\":0.01,\"xref\":\"paper\",\"y\":1.12,\"yref\":\"paper\"},{\"showarrow\":false,\"text\":\"t=22.028\\u00b5s, \\u03c4=2.200\\u00b5s\",\"x\":0.01,\"xref\":\"paper\",\"y\":1.06,\"yref\":\"paper\"},{\"font\":{\"color\":\"red\",\"size\":14},\"showarrow\":false,\"text\":\"\\u00a1DECAY\\u00d3!\",\"x\":0.99,\"xref\":\"paper\",\"y\":1.05,\"yref\":\"paper\"}]},\"name\":\"169\"},{\"data\":[{\"line\":{\"color\":\"green\",\"width\":4},\"mode\":\"lines\",\"name\":\"Superficie\",\"x\":[-1,1],\"y\":[0,0],\"type\":\"scatter\"},{\"line\":{\"color\":\"lightblue\",\"dash\":\"dash\",\"width\":4},\"mode\":\"lines\",\"name\":\"Tope Atm\\u00f3sfera\",\"x\":[-1,1],\"y\":[10.0,10.0],\"type\":\"scatter\"},{\"line\":{\"color\":\"grey\",\"dash\":\"dot\",\"width\":1},\"mode\":\"lines\",\"x\":[0,0],\"y\":[10.0,3.4293346485516603],\"type\":\"scatter\"},{\"marker\":{\"color\":\"red\",\"size\":10},\"mode\":\"markers\",\"x\":[0],\"y\":[3.4293346485516603],\"type\":\"scatter\"},{\"marker\":{\"color\":\"black\",\"size\":12,\"symbol\":\"x\"},\"mode\":\"markers\",\"x\":[0],\"y\":[3.4293346485516603],\"type\":\"scatter\"}],\"layout\":{\"annotations\":[{\"showarrow\":false,\"text\":\"V\\u002fc=0.995, \\u03b3=10.01, \\u0394\\u03c4=2.20\\u00b5s, H=10.0km\",\"x\":0.01,\"xref\":\"paper\",\"y\":1.12,\"yref\":\"paper\"},{\"showarrow\":false,\"text\":\"t=22.028\\u00b5s, \\u03c4=2.200\\u00b5s\",\"x\":0.01,\"xref\":\"paper\",\"y\":1.06,\"yref\":\"paper\"},{\"font\":{\"color\":\"red\",\"size\":14},\"showarrow\":false,\"text\":\"\\u00a1DECAY\\u00d3!\",\"x\":0.99,\"xref\":\"paper\",\"y\":1.05,\"yref\":\"paper\"}]},\"name\":\"170\"},{\"data\":[{\"line\":{\"color\":\"green\",\"width\":4},\"mode\":\"lines\",\"name\":\"Superficie\",\"x\":[-1,1],\"y\":[0,0],\"type\":\"scatter\"},{\"line\":{\"color\":\"lightblue\",\"dash\":\"dash\",\"width\":4},\"mode\":\"lines\",\"name\":\"Tope Atm\\u00f3sfera\",\"x\":[-1,1],\"y\":[10.0,10.0],\"type\":\"scatter\"},{\"line\":{\"color\":\"grey\",\"dash\":\"dot\",\"width\":1},\"mode\":\"lines\",\"x\":[0,0],\"y\":[10.0,3.4293346485516603],\"type\":\"scatter\"},{\"marker\":{\"color\":\"red\",\"size\":10},\"mode\":\"markers\",\"x\":[0],\"y\":[3.4293346485516603],\"type\":\"scatter\"},{\"marker\":{\"color\":\"black\",\"size\":12,\"symbol\":\"x\"},\"mode\":\"markers\",\"x\":[0],\"y\":[3.4293346485516603],\"type\":\"scatter\"}],\"layout\":{\"annotations\":[{\"showarrow\":false,\"text\":\"V\\u002fc=0.995, \\u03b3=10.01, \\u0394\\u03c4=2.20\\u00b5s, H=10.0km\",\"x\":0.01,\"xref\":\"paper\",\"y\":1.12,\"yref\":\"paper\"},{\"showarrow\":false,\"text\":\"t=22.028\\u00b5s, \\u03c4=2.200\\u00b5s\",\"x\":0.01,\"xref\":\"paper\",\"y\":1.06,\"yref\":\"paper\"},{\"font\":{\"color\":\"red\",\"size\":14},\"showarrow\":false,\"text\":\"\\u00a1DECAY\\u00d3!\",\"x\":0.99,\"xref\":\"paper\",\"y\":1.05,\"yref\":\"paper\"}]},\"name\":\"171\"},{\"data\":[{\"line\":{\"color\":\"green\",\"width\":4},\"mode\":\"lines\",\"name\":\"Superficie\",\"x\":[-1,1],\"y\":[0,0],\"type\":\"scatter\"},{\"line\":{\"color\":\"lightblue\",\"dash\":\"dash\",\"width\":4},\"mode\":\"lines\",\"name\":\"Tope Atm\\u00f3sfera\",\"x\":[-1,1],\"y\":[10.0,10.0],\"type\":\"scatter\"},{\"line\":{\"color\":\"grey\",\"dash\":\"dot\",\"width\":1},\"mode\":\"lines\",\"x\":[0,0],\"y\":[10.0,3.4293346485516603],\"type\":\"scatter\"},{\"marker\":{\"color\":\"red\",\"size\":10},\"mode\":\"markers\",\"x\":[0],\"y\":[3.4293346485516603],\"type\":\"scatter\"},{\"marker\":{\"color\":\"black\",\"size\":12,\"symbol\":\"x\"},\"mode\":\"markers\",\"x\":[0],\"y\":[3.4293346485516603],\"type\":\"scatter\"}],\"layout\":{\"annotations\":[{\"showarrow\":false,\"text\":\"V\\u002fc=0.995, \\u03b3=10.01, \\u0394\\u03c4=2.20\\u00b5s, H=10.0km\",\"x\":0.01,\"xref\":\"paper\",\"y\":1.12,\"yref\":\"paper\"},{\"showarrow\":false,\"text\":\"t=22.028\\u00b5s, \\u03c4=2.200\\u00b5s\",\"x\":0.01,\"xref\":\"paper\",\"y\":1.06,\"yref\":\"paper\"},{\"font\":{\"color\":\"red\",\"size\":14},\"showarrow\":false,\"text\":\"\\u00a1DECAY\\u00d3!\",\"x\":0.99,\"xref\":\"paper\",\"y\":1.05,\"yref\":\"paper\"}]},\"name\":\"172\"},{\"data\":[{\"line\":{\"color\":\"green\",\"width\":4},\"mode\":\"lines\",\"name\":\"Superficie\",\"x\":[-1,1],\"y\":[0,0],\"type\":\"scatter\"},{\"line\":{\"color\":\"lightblue\",\"dash\":\"dash\",\"width\":4},\"mode\":\"lines\",\"name\":\"Tope Atm\\u00f3sfera\",\"x\":[-1,1],\"y\":[10.0,10.0],\"type\":\"scatter\"},{\"line\":{\"color\":\"grey\",\"dash\":\"dot\",\"width\":1},\"mode\":\"lines\",\"x\":[0,0],\"y\":[10.0,3.4293346485516603],\"type\":\"scatter\"},{\"marker\":{\"color\":\"red\",\"size\":10},\"mode\":\"markers\",\"x\":[0],\"y\":[3.4293346485516603],\"type\":\"scatter\"},{\"marker\":{\"color\":\"black\",\"size\":12,\"symbol\":\"x\"},\"mode\":\"markers\",\"x\":[0],\"y\":[3.4293346485516603],\"type\":\"scatter\"}],\"layout\":{\"annotations\":[{\"showarrow\":false,\"text\":\"V\\u002fc=0.995, \\u03b3=10.01, \\u0394\\u03c4=2.20\\u00b5s, H=10.0km\",\"x\":0.01,\"xref\":\"paper\",\"y\":1.12,\"yref\":\"paper\"},{\"showarrow\":false,\"text\":\"t=22.028\\u00b5s, \\u03c4=2.200\\u00b5s\",\"x\":0.01,\"xref\":\"paper\",\"y\":1.06,\"yref\":\"paper\"},{\"font\":{\"color\":\"red\",\"size\":14},\"showarrow\":false,\"text\":\"\\u00a1DECAY\\u00d3!\",\"x\":0.99,\"xref\":\"paper\",\"y\":1.05,\"yref\":\"paper\"}]},\"name\":\"173\"},{\"data\":[{\"line\":{\"color\":\"green\",\"width\":4},\"mode\":\"lines\",\"name\":\"Superficie\",\"x\":[-1,1],\"y\":[0,0],\"type\":\"scatter\"},{\"line\":{\"color\":\"lightblue\",\"dash\":\"dash\",\"width\":4},\"mode\":\"lines\",\"name\":\"Tope Atm\\u00f3sfera\",\"x\":[-1,1],\"y\":[10.0,10.0],\"type\":\"scatter\"},{\"line\":{\"color\":\"grey\",\"dash\":\"dot\",\"width\":1},\"mode\":\"lines\",\"x\":[0,0],\"y\":[10.0,3.4293346485516603],\"type\":\"scatter\"},{\"marker\":{\"color\":\"red\",\"size\":10},\"mode\":\"markers\",\"x\":[0],\"y\":[3.4293346485516603],\"type\":\"scatter\"},{\"marker\":{\"color\":\"black\",\"size\":12,\"symbol\":\"x\"},\"mode\":\"markers\",\"x\":[0],\"y\":[3.4293346485516603],\"type\":\"scatter\"}],\"layout\":{\"annotations\":[{\"showarrow\":false,\"text\":\"V\\u002fc=0.995, \\u03b3=10.01, \\u0394\\u03c4=2.20\\u00b5s, H=10.0km\",\"x\":0.01,\"xref\":\"paper\",\"y\":1.12,\"yref\":\"paper\"},{\"showarrow\":false,\"text\":\"t=22.028\\u00b5s, \\u03c4=2.200\\u00b5s\",\"x\":0.01,\"xref\":\"paper\",\"y\":1.06,\"yref\":\"paper\"},{\"font\":{\"color\":\"red\",\"size\":14},\"showarrow\":false,\"text\":\"\\u00a1DECAY\\u00d3!\",\"x\":0.99,\"xref\":\"paper\",\"y\":1.05,\"yref\":\"paper\"}]},\"name\":\"174\"},{\"data\":[{\"line\":{\"color\":\"green\",\"width\":4},\"mode\":\"lines\",\"name\":\"Superficie\",\"x\":[-1,1],\"y\":[0,0],\"type\":\"scatter\"},{\"line\":{\"color\":\"lightblue\",\"dash\":\"dash\",\"width\":4},\"mode\":\"lines\",\"name\":\"Tope Atm\\u00f3sfera\",\"x\":[-1,1],\"y\":[10.0,10.0],\"type\":\"scatter\"},{\"line\":{\"color\":\"grey\",\"dash\":\"dot\",\"width\":1},\"mode\":\"lines\",\"x\":[0,0],\"y\":[10.0,3.4293346485516603],\"type\":\"scatter\"},{\"marker\":{\"color\":\"red\",\"size\":10},\"mode\":\"markers\",\"x\":[0],\"y\":[3.4293346485516603],\"type\":\"scatter\"},{\"marker\":{\"color\":\"black\",\"size\":12,\"symbol\":\"x\"},\"mode\":\"markers\",\"x\":[0],\"y\":[3.4293346485516603],\"type\":\"scatter\"}],\"layout\":{\"annotations\":[{\"showarrow\":false,\"text\":\"V\\u002fc=0.995, \\u03b3=10.01, \\u0394\\u03c4=2.20\\u00b5s, H=10.0km\",\"x\":0.01,\"xref\":\"paper\",\"y\":1.12,\"yref\":\"paper\"},{\"showarrow\":false,\"text\":\"t=22.028\\u00b5s, \\u03c4=2.200\\u00b5s\",\"x\":0.01,\"xref\":\"paper\",\"y\":1.06,\"yref\":\"paper\"},{\"font\":{\"color\":\"red\",\"size\":14},\"showarrow\":false,\"text\":\"\\u00a1DECAY\\u00d3!\",\"x\":0.99,\"xref\":\"paper\",\"y\":1.05,\"yref\":\"paper\"}]},\"name\":\"175\"},{\"data\":[{\"line\":{\"color\":\"green\",\"width\":4},\"mode\":\"lines\",\"name\":\"Superficie\",\"x\":[-1,1],\"y\":[0,0],\"type\":\"scatter\"},{\"line\":{\"color\":\"lightblue\",\"dash\":\"dash\",\"width\":4},\"mode\":\"lines\",\"name\":\"Tope Atm\\u00f3sfera\",\"x\":[-1,1],\"y\":[10.0,10.0],\"type\":\"scatter\"},{\"line\":{\"color\":\"grey\",\"dash\":\"dot\",\"width\":1},\"mode\":\"lines\",\"x\":[0,0],\"y\":[10.0,3.4293346485516603],\"type\":\"scatter\"},{\"marker\":{\"color\":\"red\",\"size\":10},\"mode\":\"markers\",\"x\":[0],\"y\":[3.4293346485516603],\"type\":\"scatter\"},{\"marker\":{\"color\":\"black\",\"size\":12,\"symbol\":\"x\"},\"mode\":\"markers\",\"x\":[0],\"y\":[3.4293346485516603],\"type\":\"scatter\"}],\"layout\":{\"annotations\":[{\"showarrow\":false,\"text\":\"V\\u002fc=0.995, \\u03b3=10.01, \\u0394\\u03c4=2.20\\u00b5s, H=10.0km\",\"x\":0.01,\"xref\":\"paper\",\"y\":1.12,\"yref\":\"paper\"},{\"showarrow\":false,\"text\":\"t=22.028\\u00b5s, \\u03c4=2.200\\u00b5s\",\"x\":0.01,\"xref\":\"paper\",\"y\":1.06,\"yref\":\"paper\"},{\"font\":{\"color\":\"red\",\"size\":14},\"showarrow\":false,\"text\":\"\\u00a1DECAY\\u00d3!\",\"x\":0.99,\"xref\":\"paper\",\"y\":1.05,\"yref\":\"paper\"}]},\"name\":\"176\"},{\"data\":[{\"line\":{\"color\":\"green\",\"width\":4},\"mode\":\"lines\",\"name\":\"Superficie\",\"x\":[-1,1],\"y\":[0,0],\"type\":\"scatter\"},{\"line\":{\"color\":\"lightblue\",\"dash\":\"dash\",\"width\":4},\"mode\":\"lines\",\"name\":\"Tope Atm\\u00f3sfera\",\"x\":[-1,1],\"y\":[10.0,10.0],\"type\":\"scatter\"},{\"line\":{\"color\":\"grey\",\"dash\":\"dot\",\"width\":1},\"mode\":\"lines\",\"x\":[0,0],\"y\":[10.0,3.4293346485516603],\"type\":\"scatter\"},{\"marker\":{\"color\":\"red\",\"size\":10},\"mode\":\"markers\",\"x\":[0],\"y\":[3.4293346485516603],\"type\":\"scatter\"},{\"marker\":{\"color\":\"black\",\"size\":12,\"symbol\":\"x\"},\"mode\":\"markers\",\"x\":[0],\"y\":[3.4293346485516603],\"type\":\"scatter\"}],\"layout\":{\"annotations\":[{\"showarrow\":false,\"text\":\"V\\u002fc=0.995, \\u03b3=10.01, \\u0394\\u03c4=2.20\\u00b5s, H=10.0km\",\"x\":0.01,\"xref\":\"paper\",\"y\":1.12,\"yref\":\"paper\"},{\"showarrow\":false,\"text\":\"t=22.028\\u00b5s, \\u03c4=2.200\\u00b5s\",\"x\":0.01,\"xref\":\"paper\",\"y\":1.06,\"yref\":\"paper\"},{\"font\":{\"color\":\"red\",\"size\":14},\"showarrow\":false,\"text\":\"\\u00a1DECAY\\u00d3!\",\"x\":0.99,\"xref\":\"paper\",\"y\":1.05,\"yref\":\"paper\"}]},\"name\":\"177\"},{\"data\":[{\"line\":{\"color\":\"green\",\"width\":4},\"mode\":\"lines\",\"name\":\"Superficie\",\"x\":[-1,1],\"y\":[0,0],\"type\":\"scatter\"},{\"line\":{\"color\":\"lightblue\",\"dash\":\"dash\",\"width\":4},\"mode\":\"lines\",\"name\":\"Tope Atm\\u00f3sfera\",\"x\":[-1,1],\"y\":[10.0,10.0],\"type\":\"scatter\"},{\"line\":{\"color\":\"grey\",\"dash\":\"dot\",\"width\":1},\"mode\":\"lines\",\"x\":[0,0],\"y\":[10.0,3.4293346485516603],\"type\":\"scatter\"},{\"marker\":{\"color\":\"red\",\"size\":10},\"mode\":\"markers\",\"x\":[0],\"y\":[3.4293346485516603],\"type\":\"scatter\"},{\"marker\":{\"color\":\"black\",\"size\":12,\"symbol\":\"x\"},\"mode\":\"markers\",\"x\":[0],\"y\":[3.4293346485516603],\"type\":\"scatter\"}],\"layout\":{\"annotations\":[{\"showarrow\":false,\"text\":\"V\\u002fc=0.995, \\u03b3=10.01, \\u0394\\u03c4=2.20\\u00b5s, H=10.0km\",\"x\":0.01,\"xref\":\"paper\",\"y\":1.12,\"yref\":\"paper\"},{\"showarrow\":false,\"text\":\"t=22.028\\u00b5s, \\u03c4=2.200\\u00b5s\",\"x\":0.01,\"xref\":\"paper\",\"y\":1.06,\"yref\":\"paper\"},{\"font\":{\"color\":\"red\",\"size\":14},\"showarrow\":false,\"text\":\"\\u00a1DECAY\\u00d3!\",\"x\":0.99,\"xref\":\"paper\",\"y\":1.05,\"yref\":\"paper\"}]},\"name\":\"178\"},{\"data\":[{\"line\":{\"color\":\"green\",\"width\":4},\"mode\":\"lines\",\"name\":\"Superficie\",\"x\":[-1,1],\"y\":[0,0],\"type\":\"scatter\"},{\"line\":{\"color\":\"lightblue\",\"dash\":\"dash\",\"width\":4},\"mode\":\"lines\",\"name\":\"Tope Atm\\u00f3sfera\",\"x\":[-1,1],\"y\":[10.0,10.0],\"type\":\"scatter\"},{\"line\":{\"color\":\"grey\",\"dash\":\"dot\",\"width\":1},\"mode\":\"lines\",\"x\":[0,0],\"y\":[10.0,3.4293346485516603],\"type\":\"scatter\"},{\"marker\":{\"color\":\"red\",\"size\":10},\"mode\":\"markers\",\"x\":[0],\"y\":[3.4293346485516603],\"type\":\"scatter\"},{\"marker\":{\"color\":\"black\",\"size\":12,\"symbol\":\"x\"},\"mode\":\"markers\",\"x\":[0],\"y\":[3.4293346485516603],\"type\":\"scatter\"}],\"layout\":{\"annotations\":[{\"showarrow\":false,\"text\":\"V\\u002fc=0.995, \\u03b3=10.01, \\u0394\\u03c4=2.20\\u00b5s, H=10.0km\",\"x\":0.01,\"xref\":\"paper\",\"y\":1.12,\"yref\":\"paper\"},{\"showarrow\":false,\"text\":\"t=22.028\\u00b5s, \\u03c4=2.200\\u00b5s\",\"x\":0.01,\"xref\":\"paper\",\"y\":1.06,\"yref\":\"paper\"},{\"font\":{\"color\":\"red\",\"size\":14},\"showarrow\":false,\"text\":\"\\u00a1DECAY\\u00d3!\",\"x\":0.99,\"xref\":\"paper\",\"y\":1.05,\"yref\":\"paper\"}]},\"name\":\"179\"},{\"data\":[{\"line\":{\"color\":\"green\",\"width\":4},\"mode\":\"lines\",\"name\":\"Superficie\",\"x\":[-1,1],\"y\":[0,0],\"type\":\"scatter\"},{\"line\":{\"color\":\"lightblue\",\"dash\":\"dash\",\"width\":4},\"mode\":\"lines\",\"name\":\"Tope Atm\\u00f3sfera\",\"x\":[-1,1],\"y\":[10.0,10.0],\"type\":\"scatter\"},{\"line\":{\"color\":\"grey\",\"dash\":\"dot\",\"width\":1},\"mode\":\"lines\",\"x\":[0,0],\"y\":[10.0,3.4293346485516603],\"type\":\"scatter\"},{\"marker\":{\"color\":\"red\",\"size\":10},\"mode\":\"markers\",\"x\":[0],\"y\":[3.4293346485516603],\"type\":\"scatter\"},{\"marker\":{\"color\":\"black\",\"size\":12,\"symbol\":\"x\"},\"mode\":\"markers\",\"x\":[0],\"y\":[3.4293346485516603],\"type\":\"scatter\"}],\"layout\":{\"annotations\":[{\"showarrow\":false,\"text\":\"V\\u002fc=0.995, \\u03b3=10.01, \\u0394\\u03c4=2.20\\u00b5s, H=10.0km\",\"x\":0.01,\"xref\":\"paper\",\"y\":1.12,\"yref\":\"paper\"},{\"showarrow\":false,\"text\":\"t=22.028\\u00b5s, \\u03c4=2.200\\u00b5s\",\"x\":0.01,\"xref\":\"paper\",\"y\":1.06,\"yref\":\"paper\"},{\"font\":{\"color\":\"red\",\"size\":14},\"showarrow\":false,\"text\":\"\\u00a1DECAY\\u00d3!\",\"x\":0.99,\"xref\":\"paper\",\"y\":1.05,\"yref\":\"paper\"}]},\"name\":\"180\"},{\"data\":[{\"line\":{\"color\":\"green\",\"width\":4},\"mode\":\"lines\",\"name\":\"Superficie\",\"x\":[-1,1],\"y\":[0,0],\"type\":\"scatter\"},{\"line\":{\"color\":\"lightblue\",\"dash\":\"dash\",\"width\":4},\"mode\":\"lines\",\"name\":\"Tope Atm\\u00f3sfera\",\"x\":[-1,1],\"y\":[10.0,10.0],\"type\":\"scatter\"},{\"line\":{\"color\":\"grey\",\"dash\":\"dot\",\"width\":1},\"mode\":\"lines\",\"x\":[0,0],\"y\":[10.0,3.4293346485516603],\"type\":\"scatter\"},{\"marker\":{\"color\":\"red\",\"size\":10},\"mode\":\"markers\",\"x\":[0],\"y\":[3.4293346485516603],\"type\":\"scatter\"},{\"marker\":{\"color\":\"black\",\"size\":12,\"symbol\":\"x\"},\"mode\":\"markers\",\"x\":[0],\"y\":[3.4293346485516603],\"type\":\"scatter\"}],\"layout\":{\"annotations\":[{\"showarrow\":false,\"text\":\"V\\u002fc=0.995, \\u03b3=10.01, \\u0394\\u03c4=2.20\\u00b5s, H=10.0km\",\"x\":0.01,\"xref\":\"paper\",\"y\":1.12,\"yref\":\"paper\"},{\"showarrow\":false,\"text\":\"t=22.028\\u00b5s, \\u03c4=2.200\\u00b5s\",\"x\":0.01,\"xref\":\"paper\",\"y\":1.06,\"yref\":\"paper\"},{\"font\":{\"color\":\"red\",\"size\":14},\"showarrow\":false,\"text\":\"\\u00a1DECAY\\u00d3!\",\"x\":0.99,\"xref\":\"paper\",\"y\":1.05,\"yref\":\"paper\"}]},\"name\":\"181\"},{\"data\":[{\"line\":{\"color\":\"green\",\"width\":4},\"mode\":\"lines\",\"name\":\"Superficie\",\"x\":[-1,1],\"y\":[0,0],\"type\":\"scatter\"},{\"line\":{\"color\":\"lightblue\",\"dash\":\"dash\",\"width\":4},\"mode\":\"lines\",\"name\":\"Tope Atm\\u00f3sfera\",\"x\":[-1,1],\"y\":[10.0,10.0],\"type\":\"scatter\"},{\"line\":{\"color\":\"grey\",\"dash\":\"dot\",\"width\":1},\"mode\":\"lines\",\"x\":[0,0],\"y\":[10.0,3.4293346485516603],\"type\":\"scatter\"},{\"marker\":{\"color\":\"red\",\"size\":10},\"mode\":\"markers\",\"x\":[0],\"y\":[3.4293346485516603],\"type\":\"scatter\"},{\"marker\":{\"color\":\"black\",\"size\":12,\"symbol\":\"x\"},\"mode\":\"markers\",\"x\":[0],\"y\":[3.4293346485516603],\"type\":\"scatter\"}],\"layout\":{\"annotations\":[{\"showarrow\":false,\"text\":\"V\\u002fc=0.995, \\u03b3=10.01, \\u0394\\u03c4=2.20\\u00b5s, H=10.0km\",\"x\":0.01,\"xref\":\"paper\",\"y\":1.12,\"yref\":\"paper\"},{\"showarrow\":false,\"text\":\"t=22.028\\u00b5s, \\u03c4=2.200\\u00b5s\",\"x\":0.01,\"xref\":\"paper\",\"y\":1.06,\"yref\":\"paper\"},{\"font\":{\"color\":\"red\",\"size\":14},\"showarrow\":false,\"text\":\"\\u00a1DECAY\\u00d3!\",\"x\":0.99,\"xref\":\"paper\",\"y\":1.05,\"yref\":\"paper\"}]},\"name\":\"182\"},{\"data\":[{\"line\":{\"color\":\"green\",\"width\":4},\"mode\":\"lines\",\"name\":\"Superficie\",\"x\":[-1,1],\"y\":[0,0],\"type\":\"scatter\"},{\"line\":{\"color\":\"lightblue\",\"dash\":\"dash\",\"width\":4},\"mode\":\"lines\",\"name\":\"Tope Atm\\u00f3sfera\",\"x\":[-1,1],\"y\":[10.0,10.0],\"type\":\"scatter\"},{\"line\":{\"color\":\"grey\",\"dash\":\"dot\",\"width\":1},\"mode\":\"lines\",\"x\":[0,0],\"y\":[10.0,3.4293346485516603],\"type\":\"scatter\"},{\"marker\":{\"color\":\"red\",\"size\":10},\"mode\":\"markers\",\"x\":[0],\"y\":[3.4293346485516603],\"type\":\"scatter\"},{\"marker\":{\"color\":\"black\",\"size\":12,\"symbol\":\"x\"},\"mode\":\"markers\",\"x\":[0],\"y\":[3.4293346485516603],\"type\":\"scatter\"}],\"layout\":{\"annotations\":[{\"showarrow\":false,\"text\":\"V\\u002fc=0.995, \\u03b3=10.01, \\u0394\\u03c4=2.20\\u00b5s, H=10.0km\",\"x\":0.01,\"xref\":\"paper\",\"y\":1.12,\"yref\":\"paper\"},{\"showarrow\":false,\"text\":\"t=22.028\\u00b5s, \\u03c4=2.200\\u00b5s\",\"x\":0.01,\"xref\":\"paper\",\"y\":1.06,\"yref\":\"paper\"},{\"font\":{\"color\":\"red\",\"size\":14},\"showarrow\":false,\"text\":\"\\u00a1DECAY\\u00d3!\",\"x\":0.99,\"xref\":\"paper\",\"y\":1.05,\"yref\":\"paper\"}]},\"name\":\"183\"},{\"data\":[{\"line\":{\"color\":\"green\",\"width\":4},\"mode\":\"lines\",\"name\":\"Superficie\",\"x\":[-1,1],\"y\":[0,0],\"type\":\"scatter\"},{\"line\":{\"color\":\"lightblue\",\"dash\":\"dash\",\"width\":4},\"mode\":\"lines\",\"name\":\"Tope Atm\\u00f3sfera\",\"x\":[-1,1],\"y\":[10.0,10.0],\"type\":\"scatter\"},{\"line\":{\"color\":\"grey\",\"dash\":\"dot\",\"width\":1},\"mode\":\"lines\",\"x\":[0,0],\"y\":[10.0,3.4293346485516603],\"type\":\"scatter\"},{\"marker\":{\"color\":\"red\",\"size\":10},\"mode\":\"markers\",\"x\":[0],\"y\":[3.4293346485516603],\"type\":\"scatter\"},{\"marker\":{\"color\":\"black\",\"size\":12,\"symbol\":\"x\"},\"mode\":\"markers\",\"x\":[0],\"y\":[3.4293346485516603],\"type\":\"scatter\"}],\"layout\":{\"annotations\":[{\"showarrow\":false,\"text\":\"V\\u002fc=0.995, \\u03b3=10.01, \\u0394\\u03c4=2.20\\u00b5s, H=10.0km\",\"x\":0.01,\"xref\":\"paper\",\"y\":1.12,\"yref\":\"paper\"},{\"showarrow\":false,\"text\":\"t=22.028\\u00b5s, \\u03c4=2.200\\u00b5s\",\"x\":0.01,\"xref\":\"paper\",\"y\":1.06,\"yref\":\"paper\"},{\"font\":{\"color\":\"red\",\"size\":14},\"showarrow\":false,\"text\":\"\\u00a1DECAY\\u00d3!\",\"x\":0.99,\"xref\":\"paper\",\"y\":1.05,\"yref\":\"paper\"}]},\"name\":\"184\"},{\"data\":[{\"line\":{\"color\":\"green\",\"width\":4},\"mode\":\"lines\",\"name\":\"Superficie\",\"x\":[-1,1],\"y\":[0,0],\"type\":\"scatter\"},{\"line\":{\"color\":\"lightblue\",\"dash\":\"dash\",\"width\":4},\"mode\":\"lines\",\"name\":\"Tope Atm\\u00f3sfera\",\"x\":[-1,1],\"y\":[10.0,10.0],\"type\":\"scatter\"},{\"line\":{\"color\":\"grey\",\"dash\":\"dot\",\"width\":1},\"mode\":\"lines\",\"x\":[0,0],\"y\":[10.0,3.4293346485516603],\"type\":\"scatter\"},{\"marker\":{\"color\":\"red\",\"size\":10},\"mode\":\"markers\",\"x\":[0],\"y\":[3.4293346485516603],\"type\":\"scatter\"},{\"marker\":{\"color\":\"black\",\"size\":12,\"symbol\":\"x\"},\"mode\":\"markers\",\"x\":[0],\"y\":[3.4293346485516603],\"type\":\"scatter\"}],\"layout\":{\"annotations\":[{\"showarrow\":false,\"text\":\"V\\u002fc=0.995, \\u03b3=10.01, \\u0394\\u03c4=2.20\\u00b5s, H=10.0km\",\"x\":0.01,\"xref\":\"paper\",\"y\":1.12,\"yref\":\"paper\"},{\"showarrow\":false,\"text\":\"t=22.028\\u00b5s, \\u03c4=2.200\\u00b5s\",\"x\":0.01,\"xref\":\"paper\",\"y\":1.06,\"yref\":\"paper\"},{\"font\":{\"color\":\"red\",\"size\":14},\"showarrow\":false,\"text\":\"\\u00a1DECAY\\u00d3!\",\"x\":0.99,\"xref\":\"paper\",\"y\":1.05,\"yref\":\"paper\"}]},\"name\":\"185\"},{\"data\":[{\"line\":{\"color\":\"green\",\"width\":4},\"mode\":\"lines\",\"name\":\"Superficie\",\"x\":[-1,1],\"y\":[0,0],\"type\":\"scatter\"},{\"line\":{\"color\":\"lightblue\",\"dash\":\"dash\",\"width\":4},\"mode\":\"lines\",\"name\":\"Tope Atm\\u00f3sfera\",\"x\":[-1,1],\"y\":[10.0,10.0],\"type\":\"scatter\"},{\"line\":{\"color\":\"grey\",\"dash\":\"dot\",\"width\":1},\"mode\":\"lines\",\"x\":[0,0],\"y\":[10.0,3.4293346485516603],\"type\":\"scatter\"},{\"marker\":{\"color\":\"red\",\"size\":10},\"mode\":\"markers\",\"x\":[0],\"y\":[3.4293346485516603],\"type\":\"scatter\"},{\"marker\":{\"color\":\"black\",\"size\":12,\"symbol\":\"x\"},\"mode\":\"markers\",\"x\":[0],\"y\":[3.4293346485516603],\"type\":\"scatter\"}],\"layout\":{\"annotations\":[{\"showarrow\":false,\"text\":\"V\\u002fc=0.995, \\u03b3=10.01, \\u0394\\u03c4=2.20\\u00b5s, H=10.0km\",\"x\":0.01,\"xref\":\"paper\",\"y\":1.12,\"yref\":\"paper\"},{\"showarrow\":false,\"text\":\"t=22.028\\u00b5s, \\u03c4=2.200\\u00b5s\",\"x\":0.01,\"xref\":\"paper\",\"y\":1.06,\"yref\":\"paper\"},{\"font\":{\"color\":\"red\",\"size\":14},\"showarrow\":false,\"text\":\"\\u00a1DECAY\\u00d3!\",\"x\":0.99,\"xref\":\"paper\",\"y\":1.05,\"yref\":\"paper\"}]},\"name\":\"186\"},{\"data\":[{\"line\":{\"color\":\"green\",\"width\":4},\"mode\":\"lines\",\"name\":\"Superficie\",\"x\":[-1,1],\"y\":[0,0],\"type\":\"scatter\"},{\"line\":{\"color\":\"lightblue\",\"dash\":\"dash\",\"width\":4},\"mode\":\"lines\",\"name\":\"Tope Atm\\u00f3sfera\",\"x\":[-1,1],\"y\":[10.0,10.0],\"type\":\"scatter\"},{\"line\":{\"color\":\"grey\",\"dash\":\"dot\",\"width\":1},\"mode\":\"lines\",\"x\":[0,0],\"y\":[10.0,3.4293346485516603],\"type\":\"scatter\"},{\"marker\":{\"color\":\"red\",\"size\":10},\"mode\":\"markers\",\"x\":[0],\"y\":[3.4293346485516603],\"type\":\"scatter\"},{\"marker\":{\"color\":\"black\",\"size\":12,\"symbol\":\"x\"},\"mode\":\"markers\",\"x\":[0],\"y\":[3.4293346485516603],\"type\":\"scatter\"}],\"layout\":{\"annotations\":[{\"showarrow\":false,\"text\":\"V\\u002fc=0.995, \\u03b3=10.01, \\u0394\\u03c4=2.20\\u00b5s, H=10.0km\",\"x\":0.01,\"xref\":\"paper\",\"y\":1.12,\"yref\":\"paper\"},{\"showarrow\":false,\"text\":\"t=22.028\\u00b5s, \\u03c4=2.200\\u00b5s\",\"x\":0.01,\"xref\":\"paper\",\"y\":1.06,\"yref\":\"paper\"},{\"font\":{\"color\":\"red\",\"size\":14},\"showarrow\":false,\"text\":\"\\u00a1DECAY\\u00d3!\",\"x\":0.99,\"xref\":\"paper\",\"y\":1.05,\"yref\":\"paper\"}]},\"name\":\"187\"},{\"data\":[{\"line\":{\"color\":\"green\",\"width\":4},\"mode\":\"lines\",\"name\":\"Superficie\",\"x\":[-1,1],\"y\":[0,0],\"type\":\"scatter\"},{\"line\":{\"color\":\"lightblue\",\"dash\":\"dash\",\"width\":4},\"mode\":\"lines\",\"name\":\"Tope Atm\\u00f3sfera\",\"x\":[-1,1],\"y\":[10.0,10.0],\"type\":\"scatter\"},{\"line\":{\"color\":\"grey\",\"dash\":\"dot\",\"width\":1},\"mode\":\"lines\",\"x\":[0,0],\"y\":[10.0,3.4293346485516603],\"type\":\"scatter\"},{\"marker\":{\"color\":\"red\",\"size\":10},\"mode\":\"markers\",\"x\":[0],\"y\":[3.4293346485516603],\"type\":\"scatter\"},{\"marker\":{\"color\":\"black\",\"size\":12,\"symbol\":\"x\"},\"mode\":\"markers\",\"x\":[0],\"y\":[3.4293346485516603],\"type\":\"scatter\"}],\"layout\":{\"annotations\":[{\"showarrow\":false,\"text\":\"V\\u002fc=0.995, \\u03b3=10.01, \\u0394\\u03c4=2.20\\u00b5s, H=10.0km\",\"x\":0.01,\"xref\":\"paper\",\"y\":1.12,\"yref\":\"paper\"},{\"showarrow\":false,\"text\":\"t=22.028\\u00b5s, \\u03c4=2.200\\u00b5s\",\"x\":0.01,\"xref\":\"paper\",\"y\":1.06,\"yref\":\"paper\"},{\"font\":{\"color\":\"red\",\"size\":14},\"showarrow\":false,\"text\":\"\\u00a1DECAY\\u00d3!\",\"x\":0.99,\"xref\":\"paper\",\"y\":1.05,\"yref\":\"paper\"}]},\"name\":\"188\"},{\"data\":[{\"line\":{\"color\":\"green\",\"width\":4},\"mode\":\"lines\",\"name\":\"Superficie\",\"x\":[-1,1],\"y\":[0,0],\"type\":\"scatter\"},{\"line\":{\"color\":\"lightblue\",\"dash\":\"dash\",\"width\":4},\"mode\":\"lines\",\"name\":\"Tope Atm\\u00f3sfera\",\"x\":[-1,1],\"y\":[10.0,10.0],\"type\":\"scatter\"},{\"line\":{\"color\":\"grey\",\"dash\":\"dot\",\"width\":1},\"mode\":\"lines\",\"x\":[0,0],\"y\":[10.0,3.4293346485516603],\"type\":\"scatter\"},{\"marker\":{\"color\":\"red\",\"size\":10},\"mode\":\"markers\",\"x\":[0],\"y\":[3.4293346485516603],\"type\":\"scatter\"},{\"marker\":{\"color\":\"black\",\"size\":12,\"symbol\":\"x\"},\"mode\":\"markers\",\"x\":[0],\"y\":[3.4293346485516603],\"type\":\"scatter\"}],\"layout\":{\"annotations\":[{\"showarrow\":false,\"text\":\"V\\u002fc=0.995, \\u03b3=10.01, \\u0394\\u03c4=2.20\\u00b5s, H=10.0km\",\"x\":0.01,\"xref\":\"paper\",\"y\":1.12,\"yref\":\"paper\"},{\"showarrow\":false,\"text\":\"t=22.028\\u00b5s, \\u03c4=2.200\\u00b5s\",\"x\":0.01,\"xref\":\"paper\",\"y\":1.06,\"yref\":\"paper\"},{\"font\":{\"color\":\"red\",\"size\":14},\"showarrow\":false,\"text\":\"\\u00a1DECAY\\u00d3!\",\"x\":0.99,\"xref\":\"paper\",\"y\":1.05,\"yref\":\"paper\"}]},\"name\":\"189\"},{\"data\":[{\"line\":{\"color\":\"green\",\"width\":4},\"mode\":\"lines\",\"name\":\"Superficie\",\"x\":[-1,1],\"y\":[0,0],\"type\":\"scatter\"},{\"line\":{\"color\":\"lightblue\",\"dash\":\"dash\",\"width\":4},\"mode\":\"lines\",\"name\":\"Tope Atm\\u00f3sfera\",\"x\":[-1,1],\"y\":[10.0,10.0],\"type\":\"scatter\"},{\"line\":{\"color\":\"grey\",\"dash\":\"dot\",\"width\":1},\"mode\":\"lines\",\"x\":[0,0],\"y\":[10.0,3.4293346485516603],\"type\":\"scatter\"},{\"marker\":{\"color\":\"red\",\"size\":10},\"mode\":\"markers\",\"x\":[0],\"y\":[3.4293346485516603],\"type\":\"scatter\"},{\"marker\":{\"color\":\"black\",\"size\":12,\"symbol\":\"x\"},\"mode\":\"markers\",\"x\":[0],\"y\":[3.4293346485516603],\"type\":\"scatter\"}],\"layout\":{\"annotations\":[{\"showarrow\":false,\"text\":\"V\\u002fc=0.995, \\u03b3=10.01, \\u0394\\u03c4=2.20\\u00b5s, H=10.0km\",\"x\":0.01,\"xref\":\"paper\",\"y\":1.12,\"yref\":\"paper\"},{\"showarrow\":false,\"text\":\"t=22.028\\u00b5s, \\u03c4=2.200\\u00b5s\",\"x\":0.01,\"xref\":\"paper\",\"y\":1.06,\"yref\":\"paper\"},{\"font\":{\"color\":\"red\",\"size\":14},\"showarrow\":false,\"text\":\"\\u00a1DECAY\\u00d3!\",\"x\":0.99,\"xref\":\"paper\",\"y\":1.05,\"yref\":\"paper\"}]},\"name\":\"190\"},{\"data\":[{\"line\":{\"color\":\"green\",\"width\":4},\"mode\":\"lines\",\"name\":\"Superficie\",\"x\":[-1,1],\"y\":[0,0],\"type\":\"scatter\"},{\"line\":{\"color\":\"lightblue\",\"dash\":\"dash\",\"width\":4},\"mode\":\"lines\",\"name\":\"Tope Atm\\u00f3sfera\",\"x\":[-1,1],\"y\":[10.0,10.0],\"type\":\"scatter\"},{\"line\":{\"color\":\"grey\",\"dash\":\"dot\",\"width\":1},\"mode\":\"lines\",\"x\":[0,0],\"y\":[10.0,3.4293346485516603],\"type\":\"scatter\"},{\"marker\":{\"color\":\"red\",\"size\":10},\"mode\":\"markers\",\"x\":[0],\"y\":[3.4293346485516603],\"type\":\"scatter\"},{\"marker\":{\"color\":\"black\",\"size\":12,\"symbol\":\"x\"},\"mode\":\"markers\",\"x\":[0],\"y\":[3.4293346485516603],\"type\":\"scatter\"}],\"layout\":{\"annotations\":[{\"showarrow\":false,\"text\":\"V\\u002fc=0.995, \\u03b3=10.01, \\u0394\\u03c4=2.20\\u00b5s, H=10.0km\",\"x\":0.01,\"xref\":\"paper\",\"y\":1.12,\"yref\":\"paper\"},{\"showarrow\":false,\"text\":\"t=22.028\\u00b5s, \\u03c4=2.200\\u00b5s\",\"x\":0.01,\"xref\":\"paper\",\"y\":1.06,\"yref\":\"paper\"},{\"font\":{\"color\":\"red\",\"size\":14},\"showarrow\":false,\"text\":\"\\u00a1DECAY\\u00d3!\",\"x\":0.99,\"xref\":\"paper\",\"y\":1.05,\"yref\":\"paper\"}]},\"name\":\"191\"},{\"data\":[{\"line\":{\"color\":\"green\",\"width\":4},\"mode\":\"lines\",\"name\":\"Superficie\",\"x\":[-1,1],\"y\":[0,0],\"type\":\"scatter\"},{\"line\":{\"color\":\"lightblue\",\"dash\":\"dash\",\"width\":4},\"mode\":\"lines\",\"name\":\"Tope Atm\\u00f3sfera\",\"x\":[-1,1],\"y\":[10.0,10.0],\"type\":\"scatter\"},{\"line\":{\"color\":\"grey\",\"dash\":\"dot\",\"width\":1},\"mode\":\"lines\",\"x\":[0,0],\"y\":[10.0,3.4293346485516603],\"type\":\"scatter\"},{\"marker\":{\"color\":\"red\",\"size\":10},\"mode\":\"markers\",\"x\":[0],\"y\":[3.4293346485516603],\"type\":\"scatter\"},{\"marker\":{\"color\":\"black\",\"size\":12,\"symbol\":\"x\"},\"mode\":\"markers\",\"x\":[0],\"y\":[3.4293346485516603],\"type\":\"scatter\"}],\"layout\":{\"annotations\":[{\"showarrow\":false,\"text\":\"V\\u002fc=0.995, \\u03b3=10.01, \\u0394\\u03c4=2.20\\u00b5s, H=10.0km\",\"x\":0.01,\"xref\":\"paper\",\"y\":1.12,\"yref\":\"paper\"},{\"showarrow\":false,\"text\":\"t=22.028\\u00b5s, \\u03c4=2.200\\u00b5s\",\"x\":0.01,\"xref\":\"paper\",\"y\":1.06,\"yref\":\"paper\"},{\"font\":{\"color\":\"red\",\"size\":14},\"showarrow\":false,\"text\":\"\\u00a1DECAY\\u00d3!\",\"x\":0.99,\"xref\":\"paper\",\"y\":1.05,\"yref\":\"paper\"}]},\"name\":\"192\"},{\"data\":[{\"line\":{\"color\":\"green\",\"width\":4},\"mode\":\"lines\",\"name\":\"Superficie\",\"x\":[-1,1],\"y\":[0,0],\"type\":\"scatter\"},{\"line\":{\"color\":\"lightblue\",\"dash\":\"dash\",\"width\":4},\"mode\":\"lines\",\"name\":\"Tope Atm\\u00f3sfera\",\"x\":[-1,1],\"y\":[10.0,10.0],\"type\":\"scatter\"},{\"line\":{\"color\":\"grey\",\"dash\":\"dot\",\"width\":1},\"mode\":\"lines\",\"x\":[0,0],\"y\":[10.0,3.4293346485516603],\"type\":\"scatter\"},{\"marker\":{\"color\":\"red\",\"size\":10},\"mode\":\"markers\",\"x\":[0],\"y\":[3.4293346485516603],\"type\":\"scatter\"},{\"marker\":{\"color\":\"black\",\"size\":12,\"symbol\":\"x\"},\"mode\":\"markers\",\"x\":[0],\"y\":[3.4293346485516603],\"type\":\"scatter\"}],\"layout\":{\"annotations\":[{\"showarrow\":false,\"text\":\"V\\u002fc=0.995, \\u03b3=10.01, \\u0394\\u03c4=2.20\\u00b5s, H=10.0km\",\"x\":0.01,\"xref\":\"paper\",\"y\":1.12,\"yref\":\"paper\"},{\"showarrow\":false,\"text\":\"t=22.028\\u00b5s, \\u03c4=2.200\\u00b5s\",\"x\":0.01,\"xref\":\"paper\",\"y\":1.06,\"yref\":\"paper\"},{\"font\":{\"color\":\"red\",\"size\":14},\"showarrow\":false,\"text\":\"\\u00a1DECAY\\u00d3!\",\"x\":0.99,\"xref\":\"paper\",\"y\":1.05,\"yref\":\"paper\"}]},\"name\":\"193\"},{\"data\":[{\"line\":{\"color\":\"green\",\"width\":4},\"mode\":\"lines\",\"name\":\"Superficie\",\"x\":[-1,1],\"y\":[0,0],\"type\":\"scatter\"},{\"line\":{\"color\":\"lightblue\",\"dash\":\"dash\",\"width\":4},\"mode\":\"lines\",\"name\":\"Tope Atm\\u00f3sfera\",\"x\":[-1,1],\"y\":[10.0,10.0],\"type\":\"scatter\"},{\"line\":{\"color\":\"grey\",\"dash\":\"dot\",\"width\":1},\"mode\":\"lines\",\"x\":[0,0],\"y\":[10.0,3.4293346485516603],\"type\":\"scatter\"},{\"marker\":{\"color\":\"red\",\"size\":10},\"mode\":\"markers\",\"x\":[0],\"y\":[3.4293346485516603],\"type\":\"scatter\"},{\"marker\":{\"color\":\"black\",\"size\":12,\"symbol\":\"x\"},\"mode\":\"markers\",\"x\":[0],\"y\":[3.4293346485516603],\"type\":\"scatter\"}],\"layout\":{\"annotations\":[{\"showarrow\":false,\"text\":\"V\\u002fc=0.995, \\u03b3=10.01, \\u0394\\u03c4=2.20\\u00b5s, H=10.0km\",\"x\":0.01,\"xref\":\"paper\",\"y\":1.12,\"yref\":\"paper\"},{\"showarrow\":false,\"text\":\"t=22.028\\u00b5s, \\u03c4=2.200\\u00b5s\",\"x\":0.01,\"xref\":\"paper\",\"y\":1.06,\"yref\":\"paper\"},{\"font\":{\"color\":\"red\",\"size\":14},\"showarrow\":false,\"text\":\"\\u00a1DECAY\\u00d3!\",\"x\":0.99,\"xref\":\"paper\",\"y\":1.05,\"yref\":\"paper\"}]},\"name\":\"194\"},{\"data\":[{\"line\":{\"color\":\"green\",\"width\":4},\"mode\":\"lines\",\"name\":\"Superficie\",\"x\":[-1,1],\"y\":[0,0],\"type\":\"scatter\"},{\"line\":{\"color\":\"lightblue\",\"dash\":\"dash\",\"width\":4},\"mode\":\"lines\",\"name\":\"Tope Atm\\u00f3sfera\",\"x\":[-1,1],\"y\":[10.0,10.0],\"type\":\"scatter\"},{\"line\":{\"color\":\"grey\",\"dash\":\"dot\",\"width\":1},\"mode\":\"lines\",\"x\":[0,0],\"y\":[10.0,3.4293346485516603],\"type\":\"scatter\"},{\"marker\":{\"color\":\"red\",\"size\":10},\"mode\":\"markers\",\"x\":[0],\"y\":[3.4293346485516603],\"type\":\"scatter\"},{\"marker\":{\"color\":\"black\",\"size\":12,\"symbol\":\"x\"},\"mode\":\"markers\",\"x\":[0],\"y\":[3.4293346485516603],\"type\":\"scatter\"}],\"layout\":{\"annotations\":[{\"showarrow\":false,\"text\":\"V\\u002fc=0.995, \\u03b3=10.01, \\u0394\\u03c4=2.20\\u00b5s, H=10.0km\",\"x\":0.01,\"xref\":\"paper\",\"y\":1.12,\"yref\":\"paper\"},{\"showarrow\":false,\"text\":\"t=22.028\\u00b5s, \\u03c4=2.200\\u00b5s\",\"x\":0.01,\"xref\":\"paper\",\"y\":1.06,\"yref\":\"paper\"},{\"font\":{\"color\":\"red\",\"size\":14},\"showarrow\":false,\"text\":\"\\u00a1DECAY\\u00d3!\",\"x\":0.99,\"xref\":\"paper\",\"y\":1.05,\"yref\":\"paper\"}]},\"name\":\"195\"},{\"data\":[{\"line\":{\"color\":\"green\",\"width\":4},\"mode\":\"lines\",\"name\":\"Superficie\",\"x\":[-1,1],\"y\":[0,0],\"type\":\"scatter\"},{\"line\":{\"color\":\"lightblue\",\"dash\":\"dash\",\"width\":4},\"mode\":\"lines\",\"name\":\"Tope Atm\\u00f3sfera\",\"x\":[-1,1],\"y\":[10.0,10.0],\"type\":\"scatter\"},{\"line\":{\"color\":\"grey\",\"dash\":\"dot\",\"width\":1},\"mode\":\"lines\",\"x\":[0,0],\"y\":[10.0,3.4293346485516603],\"type\":\"scatter\"},{\"marker\":{\"color\":\"red\",\"size\":10},\"mode\":\"markers\",\"x\":[0],\"y\":[3.4293346485516603],\"type\":\"scatter\"},{\"marker\":{\"color\":\"black\",\"size\":12,\"symbol\":\"x\"},\"mode\":\"markers\",\"x\":[0],\"y\":[3.4293346485516603],\"type\":\"scatter\"}],\"layout\":{\"annotations\":[{\"showarrow\":false,\"text\":\"V\\u002fc=0.995, \\u03b3=10.01, \\u0394\\u03c4=2.20\\u00b5s, H=10.0km\",\"x\":0.01,\"xref\":\"paper\",\"y\":1.12,\"yref\":\"paper\"},{\"showarrow\":false,\"text\":\"t=22.028\\u00b5s, \\u03c4=2.200\\u00b5s\",\"x\":0.01,\"xref\":\"paper\",\"y\":1.06,\"yref\":\"paper\"},{\"font\":{\"color\":\"red\",\"size\":14},\"showarrow\":false,\"text\":\"\\u00a1DECAY\\u00d3!\",\"x\":0.99,\"xref\":\"paper\",\"y\":1.05,\"yref\":\"paper\"}]},\"name\":\"196\"},{\"data\":[{\"line\":{\"color\":\"green\",\"width\":4},\"mode\":\"lines\",\"name\":\"Superficie\",\"x\":[-1,1],\"y\":[0,0],\"type\":\"scatter\"},{\"line\":{\"color\":\"lightblue\",\"dash\":\"dash\",\"width\":4},\"mode\":\"lines\",\"name\":\"Tope Atm\\u00f3sfera\",\"x\":[-1,1],\"y\":[10.0,10.0],\"type\":\"scatter\"},{\"line\":{\"color\":\"grey\",\"dash\":\"dot\",\"width\":1},\"mode\":\"lines\",\"x\":[0,0],\"y\":[10.0,3.4293346485516603],\"type\":\"scatter\"},{\"marker\":{\"color\":\"red\",\"size\":10},\"mode\":\"markers\",\"x\":[0],\"y\":[3.4293346485516603],\"type\":\"scatter\"},{\"marker\":{\"color\":\"black\",\"size\":12,\"symbol\":\"x\"},\"mode\":\"markers\",\"x\":[0],\"y\":[3.4293346485516603],\"type\":\"scatter\"}],\"layout\":{\"annotations\":[{\"showarrow\":false,\"text\":\"V\\u002fc=0.995, \\u03b3=10.01, \\u0394\\u03c4=2.20\\u00b5s, H=10.0km\",\"x\":0.01,\"xref\":\"paper\",\"y\":1.12,\"yref\":\"paper\"},{\"showarrow\":false,\"text\":\"t=22.028\\u00b5s, \\u03c4=2.200\\u00b5s\",\"x\":0.01,\"xref\":\"paper\",\"y\":1.06,\"yref\":\"paper\"},{\"font\":{\"color\":\"red\",\"size\":14},\"showarrow\":false,\"text\":\"\\u00a1DECAY\\u00d3!\",\"x\":0.99,\"xref\":\"paper\",\"y\":1.05,\"yref\":\"paper\"}]},\"name\":\"197\"},{\"data\":[{\"line\":{\"color\":\"green\",\"width\":4},\"mode\":\"lines\",\"name\":\"Superficie\",\"x\":[-1,1],\"y\":[0,0],\"type\":\"scatter\"},{\"line\":{\"color\":\"lightblue\",\"dash\":\"dash\",\"width\":4},\"mode\":\"lines\",\"name\":\"Tope Atm\\u00f3sfera\",\"x\":[-1,1],\"y\":[10.0,10.0],\"type\":\"scatter\"},{\"line\":{\"color\":\"grey\",\"dash\":\"dot\",\"width\":1},\"mode\":\"lines\",\"x\":[0,0],\"y\":[10.0,3.4293346485516603],\"type\":\"scatter\"},{\"marker\":{\"color\":\"red\",\"size\":10},\"mode\":\"markers\",\"x\":[0],\"y\":[3.4293346485516603],\"type\":\"scatter\"},{\"marker\":{\"color\":\"black\",\"size\":12,\"symbol\":\"x\"},\"mode\":\"markers\",\"x\":[0],\"y\":[3.4293346485516603],\"type\":\"scatter\"}],\"layout\":{\"annotations\":[{\"showarrow\":false,\"text\":\"V\\u002fc=0.995, \\u03b3=10.01, \\u0394\\u03c4=2.20\\u00b5s, H=10.0km\",\"x\":0.01,\"xref\":\"paper\",\"y\":1.12,\"yref\":\"paper\"},{\"showarrow\":false,\"text\":\"t=22.028\\u00b5s, \\u03c4=2.200\\u00b5s\",\"x\":0.01,\"xref\":\"paper\",\"y\":1.06,\"yref\":\"paper\"},{\"font\":{\"color\":\"red\",\"size\":14},\"showarrow\":false,\"text\":\"\\u00a1DECAY\\u00d3!\",\"x\":0.99,\"xref\":\"paper\",\"y\":1.05,\"yref\":\"paper\"}]},\"name\":\"198\"},{\"data\":[{\"line\":{\"color\":\"green\",\"width\":4},\"mode\":\"lines\",\"name\":\"Superficie\",\"x\":[-1,1],\"y\":[0,0],\"type\":\"scatter\"},{\"line\":{\"color\":\"lightblue\",\"dash\":\"dash\",\"width\":4},\"mode\":\"lines\",\"name\":\"Tope Atm\\u00f3sfera\",\"x\":[-1,1],\"y\":[10.0,10.0],\"type\":\"scatter\"},{\"line\":{\"color\":\"grey\",\"dash\":\"dot\",\"width\":1},\"mode\":\"lines\",\"x\":[0,0],\"y\":[10.0,3.4293346485516603],\"type\":\"scatter\"},{\"marker\":{\"color\":\"red\",\"size\":10},\"mode\":\"markers\",\"x\":[0],\"y\":[3.4293346485516603],\"type\":\"scatter\"},{\"marker\":{\"color\":\"black\",\"size\":12,\"symbol\":\"x\"},\"mode\":\"markers\",\"x\":[0],\"y\":[3.4293346485516603],\"type\":\"scatter\"}],\"layout\":{\"annotations\":[{\"showarrow\":false,\"text\":\"V\\u002fc=0.995, \\u03b3=10.01, \\u0394\\u03c4=2.20\\u00b5s, H=10.0km\",\"x\":0.01,\"xref\":\"paper\",\"y\":1.12,\"yref\":\"paper\"},{\"showarrow\":false,\"text\":\"t=22.028\\u00b5s, \\u03c4=2.200\\u00b5s\",\"x\":0.01,\"xref\":\"paper\",\"y\":1.06,\"yref\":\"paper\"},{\"font\":{\"color\":\"red\",\"size\":14},\"showarrow\":false,\"text\":\"\\u00a1DECAY\\u00d3!\",\"x\":0.99,\"xref\":\"paper\",\"y\":1.05,\"yref\":\"paper\"}]},\"name\":\"199\"}]);\n",
       "                        }).then(function(){\n",
       "                            \n",
       "var gd = document.getElementById('1dd99715-048b-448f-acfa-f4d669c02291');\n",
       "var x = new MutationObserver(function (mutations, observer) {{\n",
       "        var display = window.getComputedStyle(gd).display;\n",
       "        if (!display || display === 'none') {{\n",
       "            console.log([gd, 'removed!']);\n",
       "            Plotly.purge(gd);\n",
       "            observer.disconnect();\n",
       "        }}\n",
       "}});\n",
       "\n",
       "// Listen for the removal of the full notebook cells\n",
       "var notebookContainer = gd.closest('#notebook-container');\n",
       "if (notebookContainer) {{\n",
       "    x.observe(notebookContainer, {childList: true});\n",
       "}}\n",
       "\n",
       "// Listen for the clearing of the current output cell\n",
       "var outputEl = gd.closest('.output');\n",
       "if (outputEl) {{\n",
       "    x.observe(outputEl, {childList: true});\n",
       "}}\n",
       "\n",
       "                        })                };                });            </script>        </div>"
      ]
     },
     "metadata": {},
     "output_type": "display_data"
    },
    {
     "data": {
      "application/vnd.jupyter.widget-view+json": {
       "model_id": "e10e05765d4f4d70a542de2add0ffe26",
       "version_major": 2,
       "version_minor": 0
      },
      "text/plain": [
       "VBox(children=(HTML(value='<b>Parámetros:</b>'), HBox(children=(FloatText(value=0.995, description='V/c:', sty…"
      ]
     },
     "metadata": {},
     "output_type": "display_data"
    },
    {
     "data": {
      "application/vnd.jupyter.widget-view+json": {
       "model_id": "c1f0ad39ecea4055bea6519328c239fc",
       "version_major": 2,
       "version_minor": 0
      },
      "text/plain": [
       "Output()"
      ]
     },
     "metadata": {},
     "output_type": "display_data"
    }
   ],
   "source": [
    "def plot_relativistic_journey(V_frac, delta_tau, H_atmos):\n",
    "    \"\"\"Costruye la animación del viaje de una particula relativista en la atmosfera.\"\"\"\n",
    "    # Constantes\n",
    "    C_KM_PER_MUS = 0.299792   # km/µs\n",
    "    TIME_SCALE_FACTOR = 0.1   # factor de ralentización\n",
    "    N_FRAMES = 200            # número de cuadros de animación\n",
    "    \n",
    "    # Calcular factor de Lorentz gamma\n",
    "    if abs(V_frac) >= 1.0 or (1.0 - V_frac**2) <= 0:\n",
    "        gamma = float(\"inf\")\n",
    "    else:\n",
    "        gamma = 1.0 / np.sqrt(1.0 - V_frac**2)\n",
    "    \n",
    "    # Cantidades en el marco del laboratorio\n",
    "    V_abs = V_frac * C_KM_PER_MUS\n",
    "    T_lab = gamma * delta_tau if gamma != float(\"inf\") else 0.0\n",
    "    T_ground = H_atmos / V_abs if V_abs > 0 else float(\"inf\")\n",
    "    T_event = min(T_lab, T_ground)  # tiempo de decaimiento o llegada al suelo\n",
    "    \n",
    "    # Arreglos de tiempo\n",
    "    t_anim = np.linspace(0, max(T_lab, T_ground) / TIME_SCALE_FACTOR, N_FRAMES)\n",
    "    t_lab = t_anim * TIME_SCALE_FACTOR\n",
    "    \n",
    "    # Posiciones y tiempo propio\n",
    "    y_pos = H_atmos - V_abs * np.minimum(t_lab, T_lab)\n",
    "    tau_vals = np.minimum(t_lab, T_lab) / gamma if gamma != float(\"inf\") else np.zeros_like(t_lab)\n",
    "    \n",
    "    # Resultado\n",
    "    reaches = T_ground <= T_lab\n",
    "    y_event = H_atmos - V_abs * T_event\n",
    "    \n",
    "    # Trazos base\n",
    "    traces = [\n",
    "        go.Scatter(x=[-1, 1], y=[0, 0], mode=\"lines\",\n",
    "                   line=dict(color=\"green\", width=4), name=\"Superficie\"),\n",
    "        go.Scatter(x=[-1, 1], y=[H_atmos, H_atmos], mode=\"lines\",\n",
    "                   line=dict(color=\"lightblue\", width=4, dash=\"dash\"), name=\"Tope Atmósfera\"),\n",
    "        go.Scatter(x=[0, 0], y=[H_atmos, H_atmos], mode=\"lines\",\n",
    "                   line=dict(color=\"grey\", width=1, dash=\"dot\"), name=\"Trayectoria\"),\n",
    "        go.Scatter(x=[0], y=[H_atmos], mode=\"markers\",\n",
    "                   marker=dict(color=\"red\", size=10), name=\"Partícula\"),\n",
    "        go.Scatter(x=[0], y=[None], mode=\"markers\",\n",
    "                   marker=dict(color=\"black\", size=12, symbol=\"x\"), name=\"Decaimiento\"),\n",
    "    ]\n",
    "    \n",
    "    # Construir cuadros\n",
    "    frames = []\n",
    "    for i, (y_i, t_l, tau_i) in enumerate(zip(y_pos, t_lab, tau_vals)):\n",
    "        # Limitar tiempo mostrado al evento\n",
    "        t_display = min(t_l, T_event)\n",
    "        # Determinar estado y marcador de decaimiento\n",
    "        if t_l < T_event:\n",
    "            state, color, decay_y = \"En vuelo\", \"blue\", [None]\n",
    "        else:\n",
    "            state = \"¡LLEGÓ!\" if reaches else \"¡DECAYÓ!\"\n",
    "            color = \"green\" if reaches else \"red\"\n",
    "            decay_y = [0] if reaches else [y_event]\n",
    "        \n",
    "        # Anotaciones\n",
    "        annotation = [\n",
    "            dict(text=f\"V/c={V_frac:.3f}, γ={gamma:.2f}, Δτ={delta_tau:.2f}µs, H={H_atmos:.1f}km\",\n",
    "                 x=0.01, y=1.12, xref=\"paper\", yref=\"paper\", showarrow=False),\n",
    "            dict(text=f\"t={t_display:.3f}µs, τ={tau_i:.3f}µs\",\n",
    "                 x=0.01, y=1.06, xref=\"paper\", yref=\"paper\", showarrow=False),\n",
    "            dict(text=state, x=0.99, y=1.05, xref=\"paper\", yref=\"paper\",\n",
    "                 showarrow=False, font=dict(color=color, size=14)),\n",
    "        ]\n",
    "        \n",
    "        frames.append(go.Frame(\n",
    "            data=[\n",
    "                traces[0].update(y=[0, 0]),\n",
    "                traces[1].update(y=[H_atmos, H_atmos]),\n",
    "                go.Scatter(x=[0, 0], y=[H_atmos, y_i], mode=\"lines\",\n",
    "                           line=dict(color=\"grey\", width=1, dash=\"dot\")),\n",
    "                go.Scatter(x=[0], y=[y_i], mode=\"markers\",\n",
    "                           marker=dict(color=\"red\", size=10)),\n",
    "                go.Scatter(x=[0], y=decay_y, mode=\"markers\",\n",
    "                           marker=dict(color=\"black\", size=12, symbol=\"x\")),\n",
    "            ],\n",
    "            name=str(i),\n",
    "            layout=dict(annotations=annotation)\n",
    "        ))\n",
    "    \n",
    "    # Pasos del deslizador\n",
    "    slider = [dict(\n",
    "        steps=[dict(\n",
    "            method=\"animate\",\n",
    "            args=[[str(k)],\n",
    "                  dict(mode=\"immediate\",\n",
    "                       frame=dict(duration=50, redraw=True),\n",
    "                       transition=dict(duration=0))],\n",
    "            label=f\"{t_anim[k]:.1f}\"\n",
    "        ) for k in range(N_FRAMES)],\n",
    "        currentvalue=dict(prefix=\"t_anim=\"),\n",
    "        x=0, y=0\n",
    "    )]\n",
    "    \n",
    "    # Diseño con botón de reproducción\n",
    "    layout = go.Layout(\n",
    "        title=\"Viaje de Partícula Relativista en la Atmósfera\",\n",
    "        xaxis=dict(range=[-0.5, 0.5], showticklabels=False, zeroline=False),\n",
    "        yaxis=dict(range=[-1, H_atmos * 1.1], title=\"Altitud (km)\"),\n",
    "        updatemenus=[dict(\n",
    "            type=\"buttons\",\n",
    "            showactive=False,\n",
    "            y=1.05,\n",
    "            x=1.15,\n",
    "            xanchor=\"right\",\n",
    "            yanchor=\"top\",\n",
    "            buttons=[dict(\n",
    "                label=\"Play\",\n",
    "                method=\"animate\",\n",
    "                args=[None, dict(frame=dict(duration=50, redraw=True),\n",
    "                                 transition=dict(duration=0),\n",
    "                                 fromcurrent=True,\n",
    "                                 mode=\"immediate\")]\n",
    "            )]\n",
    "        )],\n",
    "        sliders=slider,\n",
    "        margin=dict(r=200)\n",
    "    )\n",
    "\n",
    "    fig = go.Figure(data=traces, layout=layout, frames=frames)\n",
    "    fig.show()\n",
    "\n",
    "\n",
    "# Widgets para parámetros\n",
    "V_input = widgets.FloatText(value=0.995, description=\"V/c:\", style={'description_width':'auto'})\n",
    "delta_tau_input = widgets.FloatText(value=2.2, description=\"Δτ (µs):\", style={'description_width':'auto'})\n",
    "H_input = widgets.FloatText(value=10.0, description=\"H (km):\", style={'description_width':'auto'})\n",
    "\n",
    "ui = widgets.VBox([\n",
    "    widgets.HTML(\"<b>Parámetros:</b>\"),\n",
    "    widgets.HBox([V_input, delta_tau_input, H_input])\n",
    "])\n",
    "\n",
    "out = widgets.Output()\n",
    "def wrapped(V_frac, delta_tau, H_atmos):\n",
    "    with out:\n",
    "        clear_output(wait=True)\n",
    "        plot_relativistic_journey(V_frac, delta_tau, H_atmos)\n",
    "\n",
    "widgets.interactive_output(\n",
    "    wrapped,\n",
    "    {'V_frac': V_input, 'delta_tau': delta_tau_input, 'H_atmos': H_input}\n",
    ")\n",
    "\n",
    "# Mostrar controles y salida\n",
    "display(ui, out)"
   ]
  },
  {
   "cell_type": "markdown",
   "metadata": {},
   "source": [
    "## 1.3.2 Contracción de la Longitud\n",
    "\n",
    "Uno de los efectos notables derivados de las transformaciones de Lorentz es la **contracción de la longitud**. Este fenómeno implica que la longitud medida de un objeto depende del marco de referencia inercial desde el cual se realiza la medición. Lo que implica que segun la relatividad las medidas físicas de longitudes también deben de reportarse en el marco de referencia que se hicieron ya que los resultados pueden variar entre marcos.\n",
    "\n",
    "Para analizarlo, es fundamental definir cómo se mide la longitud:\n",
    "\n",
    "*   **Definición de Longitud:** En cualquier marco de referencia inercial, la longitud de un objeto (por ejemplo, una varilla) es la distancia espacial entre sus puntos extremos medida **en un único instante de tiempo** (simultáneamente) según los relojes de ese marco.\n",
    "\n",
    "Consideremos la medición de una varilla desde dos marcos inerciales en configuración estándar:\n",
    "\n",
    "*   **Marco S (Laboratorio):** La varilla se mueve con velocidad constante V a lo largo del eje x.\n",
    "*   **Marco S' (Reposo):** La varilla está en reposo, orientada a lo largo del eje x'.\n",
    "\n",
    "**Medición de la Longitud $L$ en S:**\n",
    "\n",
    "*   Para medir la longitud $L$ en el marco S, determinamos la posición de los extremos de la varilla *simultáneamente* en un tiempo $t$ de S.\n",
    "*   Evento 1: Ocurre en el extremo izquierdo en $(t, x_1)$.\n",
    "*   Evento 2: Ocurre en el extremo derecho en $(t, x_2)$.\n",
    "*   La longitud medida en S es:\n",
    "    $L = x_2 - x_1 = \\Delta x$\n",
    "*   El intervalo de tiempo entre estos dos eventos de medición en S es:\n",
    "    $\\Delta t = t - t = 0$\n",
    "\n",
    "**Descripción de los *mismos* eventos en S' (Marco de Reposo):**\n",
    "\n",
    "*   Observamos los mismos dos eventos (la determinación simultánea de los extremos en S) desde el marco S', donde la varilla está en reposo.\n",
    "*   En S', la varilla no se mueve, por lo que la distancia entre sus extremos es constante e igual a su **longitud propia**, $L_P$.\n",
    "*   Los eventos 1 y 2 ocurren en las posiciones $x'_1$ y $x'_2$ (que son los extremos fijos de la varilla en S').\n",
    "*   El intervalo espacial entre estos dos eventos en S' es:\n",
    "    $L_P = x'_2 - x'_1 = \\Delta x'$\n",
    "*   *Importante*: Aunque los eventos 1 y 2 son simultáneos en S ($\\Delta t = 0$), **no son necesariamente simultáneos** en S' ($\\Delta t'$ puede ser distinto de cero). Sin embargo, esto no afecta la definición de $L_P$ como la separación espacial constante de los extremos en el marco de reposo.\n",
    "\n",
    "**Aplicación de la Transformación de Intervalos:**\n",
    "\n",
    "*   Utilizamos la regla de transformación para el intervalo espacial (Ecuación 1.33 del libro):\n",
    "    $$ \\Delta x' = \\gamma(V) (\\Delta x - V \\Delta t) $$\n",
    "    donde $\\gamma(V) = \\frac{1}{\\sqrt{1 - V^2/c^2}}$.\n",
    "*   Sustituimos los intervalos conocidos que hemos definido:\n",
    "    *   $\\Delta x' = L_P$\n",
    "    *   $\\Delta x = L$\n",
    "    *   $\\Delta t = 0$\n",
    "*   La ecuación queda:\n",
    "    $$ L_P = \\gamma(V) (L - V \\cdot 0) $$\n",
    "    $$ L_P = \\gamma(V) L $$\n",
    "\n",
    "**Resultado y Conclusión:**\n",
    "\n",
    "*   Despejando $L$ de la relación anterior, obtenemos la fórmula de la contracción de la longitud:\n",
    "    $$ L = \\frac{L_P}{\\gamma(V)} $$\n",
    "*   Esto significa que la longitud $L$ de la varilla medida en el marco S (donde se mueve) es *menor* que su longitud propia $L_P$ medida en su marco de reposo S', ya que $\\gamma(V) > 1$ para $V > 0$.\n",
    "*   Así que, en resumen un objeto en movimiento **aparece contraído** en su dirección de movimiento cuando se mide desde un marco respecto al cual se mueve. La contracción es mayor cuanto más cercana sea su velocidad $V$ a la velocidad de la luz $c$.\n",
    "*   Las dimensiones perpendiculares a la dirección del movimiento no se ven afectadas.\n",
    "\n",
    "---"
   ]
  },
  {
   "cell_type": "markdown",
   "metadata": {},
   "source": [
    "\n",
    "**Ejercicio 1.5**\n",
    "\n",
    "Existe una forma alternativa de definir la longitud en el marco S basada en dos eventos, 1 y 2, que ocurren en *tiempos diferentes* en ese marco. Supongamos que el evento 1 ocurre en $x=0$ cuando el extremo frontal de la varilla pasa por ese punto, y el evento 2 también ocurre en $x=0$ pero en el tiempo posterior cuando el extremo trasero pasa por ese punto. Así, el evento 1 está en $(t_1, 0)$ y el evento 2 está en $(t_2, 0)$ en el marco S. Dado que la varilla se mueve con velocidad uniforme $V$ en el marco S, podemos definir la longitud de la varilla, medida en S, mediante la relación $L = V (t_2 - t_1)$.\n",
    "\n",
    "Utilice esta definición alternativa de longitud en el marco S para establecer que la longitud de una varilla en movimiento es menor que su longitud propia ($L_P$).\n",
    "\n",
    "---\n",
    "\n",
    "En el marco de referencia S (laboratorio), definimos dos eventos en la misma posición $x=0$: el evento 1 en $t_1$ (paso del extremo frontal) y el evento 2 en $t_2$ (paso del extremo trasero). El intervalo temporal en S es $\\Delta t = t_2 - t_1$ y el intervalo espacial es $\\Delta x = 0$. La longitud medida según esta definición es $L = V \\Delta t$.\n",
    "\n",
    "Ahora analizamos estos mismos eventos desde el marco S' (reposo de la varilla). En S', la varilla tiene su longitud propia $L_P$. El evento 1 ocurre en la posición del extremo frontal ($x'_1$) y el evento 2 en la posición del extremo trasero ($x'_2$). Por lo tanto, el intervalo espacial entre estos eventos en S' es $\\Delta x' = x'_2 - x'_1 = -L_P$.\n",
    "\n",
    "Aplicamos la transformación de Lorentz para el intervalo espacial: $\\Delta x' = \\gamma(V)(\\Delta x - V \\Delta t)$. Sustituyendo los intervalos que conocemos ($\\Delta x' = -L_P$ y $\\Delta x = 0$), obtenemos:\n",
    "$$ -L_P = \\gamma(V)(0 - V \\Delta t) = -\\gamma(V) V \\Delta t $$\n",
    "Entonces  $L_P = \\gamma(V) V \\Delta t$.\n",
    "\n",
    "Finalmente, usamos la definición de longitud proporcionada en el enunciado, $L = V \\Delta t$, Al reemplzar se puede obtener que:\n",
    "$$ L = \\frac{L_P}{\\gamma(V)} $$\n",
    "Dado que $\\gamma(V) > 1$ para $V > 0$, esto confirma que la longitud $L$ medida en el marco S mediante este método alternativo también resulta ser menor que la longitud propia $L_P$. La varilla en movimiento se mide como contraída."
   ]
  },
  {
   "cell_type": "markdown",
   "metadata": {},
   "source": [
    "A continuación, se explora la **contracción de la longitud**, usando un coche. Este efecto establece que la longitud medida de un objeto disminuye en la dirección de su movimiento relativo respecto al observador, y esta disminución es más pronunciada a velocidades cercanas a la de la luz."
   ]
  },
  {
   "cell_type": "code",
   "execution_count": 6,
   "metadata": {},
   "outputs": [
    {
     "data": {
      "application/vnd.jupyter.widget-view+json": {
       "model_id": "fbb9a049e3394f80beed1831d8e7e648",
       "version_major": 2,
       "version_minor": 0
      },
      "text/plain": [
       "FigureWidget({\n",
       "    'data': [{'fill': 'toself',\n",
       "              'fillcolor': 'rgba(0,0,255,0.6)',\n",
       "              'line': {'color': 'darkblue', 'width': 2},\n",
       "              'mode': 'lines',\n",
       "              'name': 'Coche en reposo (Lp)',\n",
       "              'type': 'scatter',\n",
       "              'uid': 'd9a5690f-5542-488e-a997-be488fc0d594',\n",
       "              'x': array([-5. ,  5. ,  5. ,  3.5,  3. , -1.5, -2. , -5. , -5. ]),\n",
       "              'y': array([0.76, 0.76, 1.6 , 1.6 , 2.4 , 2.4 , 1.6 , 1.6 , 0.76])},\n",
       "             {'marker': {'color': 'black', 'size': 7.199999999999999},\n",
       "              'mode': 'markers',\n",
       "              'showlegend': False,\n",
       "              'type': 'scatter',\n",
       "              'uid': 'f14d588f-9050-4a3b-82d5-c2f5a41f015b',\n",
       "              'x': [-3.0, 2.5],\n",
       "              'y': [0.7599999999999999, 0.7599999999999999]},\n",
       "             {'fill': 'toself',\n",
       "              'fillcolor': 'rgba(255,0,0,0.6)',\n",
       "              'line': {'color': 'darkred', 'width': 2},\n",
       "              'mode': 'lines',\n",
       "              'name': 'Coche en movimiento (L)',\n",
       "              'type': 'scatter',\n",
       "              'uid': '59156c1c-4615-4051-a7db-9ddb6e5bb91f',\n",
       "              'x': array([-5. ,  5. ,  5. ,  3.5,  3. , -1.5, -2. , -5. , -5. ]),\n",
       "              'y': array([-2.04, -2.04, -1.2 , -1.2 , -0.4 , -0.4 , -1.2 , -1.2 , -2.04])},\n",
       "             {'marker': {'color': 'black', 'size': 7.199999999999999},\n",
       "              'mode': 'markers',\n",
       "              'showlegend': False,\n",
       "              'type': 'scatter',\n",
       "              'uid': 'c59d21e4-ee7f-41c8-a1b6-6d73f92cb6d1',\n",
       "              'x': [-3.0, 2.5],\n",
       "              'y': [-2.04, -2.04]}],\n",
       "    'layout': {'annotations': [{'align': 'left',\n",
       "                                'font': {'size': 12},\n",
       "                                'showarrow': False,\n",
       "                                'text': 'γ = 1.000    L = 10.000',\n",
       "                                'x': 0.02,\n",
       "                                'xref': 'paper',\n",
       "                                'y': 1.08,\n",
       "                                'yref': 'paper'}],\n",
       "               'height': 450,\n",
       "               'hovermode': False,\n",
       "               'legend': {'x': 1.02, 'xanchor': 'left', 'y': 1, 'yanchor': 'top'},\n",
       "               'margin': {'b': 40, 'l': 50, 'r': 50, 't': 60},\n",
       "               'showlegend': True,\n",
       "               'template': '...',\n",
       "               'title': {'text': 'Contracción de la longitud: coche en reposo vs. en movimiento'},\n",
       "               'width': 800,\n",
       "               'xaxis': {'range': [-6.5, 6.5], 'scaleratio': 1, 'title': {'text': 'Longitud - posición'}},\n",
       "               'yaxis': {'range': [-3.0, 3.0],\n",
       "                         'scaleratio': 1,\n",
       "                         'showticklabels': False,\n",
       "                         'title': {'text': 'Dimensión vertical (fija)'}}}\n",
       "})"
      ]
     },
     "metadata": {},
     "output_type": "display_data"
    },
    {
     "data": {
      "application/vnd.jupyter.widget-view+json": {
       "model_id": "0b1fbff5b48b45dda49ca916a1a04999",
       "version_major": 2,
       "version_minor": 0
      },
      "text/plain": [
       "VBox(children=(HBox(children=(BoundedFloatText(value=10.0, description='Lp:', layout=Layout(width='160px'), ma…"
      ]
     },
     "metadata": {},
     "output_type": "display_data"
    }
   ],
   "source": [
    "# Funciones auxiliares\n",
    "def calculate_gamma(V_frac, c=1.0):\n",
    "    V_frac = float(V_frac)\n",
    "    if abs(V_frac) >= 1.0:\n",
    "        return float('inf')\n",
    "    beta_sq = V_frac**2\n",
    "    if 1.0 - beta_sq <= 1e-15:\n",
    "        return float('inf')\n",
    "    return 1.0 / np.sqrt(1.0 - beta_sq)\n",
    "\n",
    "def get_car_shape_coords(length, height):\n",
    "    if length <= 1e-9:\n",
    "        length = 1e-9\n",
    "    wheel_radius = height * 0.18\n",
    "    body_bottom_y = wheel_radius\n",
    "    body_top_y = height * 0.6\n",
    "    roof_y = height\n",
    "    hood_x = length * 0.3\n",
    "    roof_start_x = length * 0.35\n",
    "    roof_end_x = length * 0.8\n",
    "    trunk_x = length * 0.85\n",
    "\n",
    "    body_x = [0, length, length, trunk_x, roof_end_x,\n",
    "             roof_start_x, hood_x, 0, 0]\n",
    "    body_y = [body_bottom_y, body_bottom_y, body_top_y, body_top_y,\n",
    "             roof_y, roof_y, body_top_y, body_top_y, body_bottom_y]\n",
    "\n",
    "    wheel1_x = length * 0.2\n",
    "    wheel2_x = length * 0.75\n",
    "    wheel_y = wheel_radius\n",
    "    return (np.array(body_x), np.array(body_y),\n",
    "            wheel1_x, wheel2_x, wheel_y, wheel_radius)\n",
    "\n",
    "# Constantes\n",
    "CAR_H = 2.0\n",
    "Y_OFF_LP = CAR_H * 0.7\n",
    "Y_OFF_L = -CAR_H * 0.7\n",
    "\n",
    "# Configuración de widgets\n",
    "Lp_box = widgets.BoundedFloatText(\n",
    "    value=10.0, min=1.0, max=50, step=0.5,\n",
    "    description='Lp:', layout=widgets.Layout(width='160px')\n",
    ")\n",
    "v_slider = widgets.FloatSlider(\n",
    "    value=0.0, min=0.0, max=0.999, step=0.005,\n",
    "    readout_format='.3f', description='V/c:',\n",
    "    layout=widgets.Layout(width='500px')\n",
    ")\n",
    "\n",
    "# Cálculos iniciales\n",
    "initial_Lp = Lp_box.value\n",
    "initial_v_frac = v_slider.value\n",
    "initial_gamma = calculate_gamma(initial_v_frac)\n",
    "initial_L = initial_Lp / initial_gamma if not np.isinf(initial_gamma) else 0\n",
    "\n",
    "# Coordenadas en reposo (azul)\n",
    "bx_lp_init, by_lp_init, w1x_lp_init, w2x_lp_init, wy_lp_init, wr_lp_init = (\n",
    "    get_car_shape_coords(initial_Lp, CAR_H)\n",
    ")\n",
    "bx_lp_init -= initial_Lp / 2\n",
    "by_lp_init = by_lp_init - CAR_H / 2 + Y_OFF_LP\n",
    "wheels_x_lp_init = [w1x_lp_init - initial_Lp / 2, w2x_lp_init - initial_Lp / 2]\n",
    "wheels_y_lp_init = [wy_lp_init - CAR_H / 2 + Y_OFF_LP] * 2\n",
    "\n",
    "# Coordenadas contraídas (rojo)\n",
    "bx_L_init, by_L_init, w1x_L_init, w2x_L_init, wy_L_init, wr_L_init = (\n",
    "    get_car_shape_coords(initial_L, CAR_H)\n",
    ")\n",
    "bx_L_init -= initial_L / 2\n",
    "by_L_init = by_L_init - CAR_H / 2 + Y_OFF_L\n",
    "wheels_x_L_init = [w1x_L_init - initial_L / 2, w2x_L_init - initial_L / 2]\n",
    "wheels_y_L_init = [wy_L_init - CAR_H / 2 + Y_OFF_L] * 2\n",
    "\n",
    "initial_margin = initial_Lp * 0.15\n",
    "initial_extra_text = (\n",
    "    f\"γ = {initial_gamma:.3f}\" if not np.isinf(initial_gamma) else \"γ = ∞\"\n",
    ") + f\"    L = {initial_L:.3f}\"\n",
    "\n",
    "# Crear figura\n",
    "fig = go.FigureWidget(\n",
    "    data=[\n",
    "        # Coche en reposo (azul) - cuerpo\n",
    "        go.Scatter(\n",
    "            x=bx_lp_init, y=by_lp_init, mode='lines', fill='toself',\n",
    "            fillcolor='rgba(0,0,255,0.6)', line=dict(color='darkblue', width=2),\n",
    "            name='Coche en reposo (Lp)'\n",
    "        ),\n",
    "        # Coche en reposo (azul) - ruedas\n",
    "        go.Scatter(\n",
    "            x=wheels_x_lp_init, y=wheels_y_lp_init, mode='markers',\n",
    "            marker=dict(color='black', size=wr_lp_init * 20), showlegend=False\n",
    "        ),\n",
    "        # Coche en movimiento (rojo) - cuerpo\n",
    "        go.Scatter(\n",
    "            x=bx_L_init, y=by_L_init, mode='lines', fill='toself',\n",
    "            fillcolor='rgba(255,0,0,0.6)', line=dict(color='darkred', width=2),\n",
    "            name='Coche en movimiento (L)'\n",
    "        ),\n",
    "        # Coche en movimiento (rojo) - ruedas\n",
    "        go.Scatter(\n",
    "            x=wheels_x_L_init, y=wheels_y_L_init, mode='markers',\n",
    "            marker=dict(color='black', size=wr_L_init * 20), showlegend=False\n",
    "        )\n",
    "    ],\n",
    "    layout=go.Layout(\n",
    "        title=\"Contracción de la longitud: coche en reposo vs. en movimiento\",\n",
    "        xaxis=dict(\n",
    "            range=[-initial_Lp / 2 - initial_margin, initial_Lp / 2 + initial_margin],\n",
    "            title=\"Longitud - posición\", scaleratio=1\n",
    "        ),\n",
    "        yaxis=dict(\n",
    "            range=[-CAR_H * 1.5, CAR_H * 1.5], showticklabels=False,\n",
    "            title=\"Dimensión vertical (fija)\", scaleratio=1\n",
    "        ),\n",
    "        width=800, height=450, margin=dict(l=50, r=50, t=60, b=40),\n",
    "        hovermode=False,\n",
    "        showlegend=True,\n",
    "        legend=dict(x=1.02, y=1, xanchor='left', yanchor='top'),\n",
    "        annotations=[\n",
    "            go.layout.Annotation(\n",
    "                text=initial_extra_text,\n",
    "                showarrow=False, xref='paper', yref='paper',\n",
    "                x=0.02, y=1.08, font=dict(size=12),\n",
    "                align='left'\n",
    "            )\n",
    "        ]\n",
    "    )\n",
    ")\n",
    "\n",
    "def update_plot(change):\n",
    "    Lp = Lp_box.value\n",
    "    v_frac = v_slider.value\n",
    "    γ = calculate_gamma(v_frac)\n",
    "    L = Lp / γ if not np.isinf(γ) else 0\n",
    "\n",
    "    # Actualizar coordenadas en reposo\n",
    "    bx_lp, by_lp, w1x_lp, w2x_lp, wy_lp, wr_lp = get_car_shape_coords(Lp, CAR_H)\n",
    "    bx_lp -= Lp / 2\n",
    "    by_lp = by_lp - CAR_H / 2 + Y_OFF_LP\n",
    "    wheels_x_lp = [w1x_lp - Lp / 2, w2x_lp - Lp / 2]\n",
    "    wheels_y_lp = [wy_lp - CAR_H / 2 + Y_OFF_LP] * 2\n",
    "\n",
    "    # Actualizar coordenadas contraídas\n",
    "    bx_L, by_L, w1x_L, w2x_L, wy_L, wr_L = get_car_shape_coords(L, CAR_H)\n",
    "    bx_L -= L / 2\n",
    "    by_L = by_L - CAR_H / 2 + Y_OFF_L\n",
    "    wheels_x_L = [w1x_L - L / 2, w2x_L - L / 2]\n",
    "    wheels_y_L = [wy_L - CAR_H / 2 + Y_OFF_L] * 2\n",
    "\n",
    "    margin = Lp * 0.15\n",
    "    extra_text = (f\"γ = {γ:.3f}\" if not np.isinf(γ) else \"γ = ∞\") + \\\n",
    "                 f\"    L = {L:.3f}\"\n",
    "\n",
    "    with fig.batch_update():\n",
    "        fig.data[0].x = bx_lp\n",
    "        fig.data[0].y = by_lp\n",
    "        fig.data[1].x = wheels_x_lp\n",
    "        fig.data[1].y = wheels_y_lp\n",
    "        fig.data[2].x = bx_L\n",
    "        fig.data[2].y = by_L\n",
    "        fig.data[3].x = wheels_x_L\n",
    "        fig.data[3].y = wheels_y_L\n",
    "        fig.layout.xaxis.range = [-Lp / 2 - margin, Lp / 2 + margin]\n",
    "        fig.layout.annotations[0].text = extra_text\n",
    "\n",
    "# Configurar actualizaciones\n",
    "v_slider.observe(update_plot, names='value')\n",
    "Lp_box.observe(update_plot, names='value')\n",
    "\n",
    "# Mostrar interfaz\n",
    "display(fig)\n",
    "display(widgets.VBox([widgets.HBox([Lp_box, v_slider])]))"
   ]
  },
  {
   "cell_type": "markdown",
   "metadata": {},
   "source": [
    "## 1.3.3 La Relatividad de la Simultaneidad\n",
    "Como se señaló en la discusión sobre la contracción de la longitud, dos eventos que ocurren al mismo tiempo en un marco de referencia no necesariamente ocurren al mismo tiempo en otro marco. De hecho, si recurrimos a las reglas de transformación de intervalos, queda claro que si se observa que los eventos 1 y 2 ocurren al mismo tiempo en el marco S (de modo que Δt = 0) pero están separados por una distancia L a lo largo del eje x, entonces en el marco S' estarán separados por el intervalo de tiempo:\n",
    "$$ \\Delta t' = -\\gamma(V) \\frac{VL}{c^2} $$\n",
    "Se dice que dos eventos que ocurren al mismo tiempo en algún marco son **simultáneos** en ese marco. El resultado anterior muestra que la condición de ser simultáneo es relativa y no absoluta; dos eventos que son simultáneos en un marco no son necesariamente simultáneos en cualquier otro marco. Esta consecuencia de las transformaciones de Lorentz se conoce como la **relatividad de la simultaneidad**.\n",
    "Esto tiene profundas implicaciones, ya que nuestra noción intuitiva de un \"ahora\" universal, válido para todos los observadores, se desvanece. Lo que es \"ahora\" para un observador depende de su estado de movimiento."
   ]
  },
  {
   "cell_type": "markdown",
   "metadata": {},
   "source": [
    "---\n",
    "\n",
    "## 1.3.4 Efecto Doppler Relativista\n",
    "\n",
    " El efecto Doppler describe cómo la frecuencia (o longitud de onda) de una onda cambia debido al movimiento relativo entre la fuente emisora y el receptor. Aunque conocido en la física clásica (como el cambio de tono de una sirena de una ambulancia), la relatividad especial introduce una  más precisa, especialmente relevante para ondas electromagnéticas osea la luz.\n",
    "\n",
    " **Configuración:**\n",
    " *   **Marco S:** La fuente (ej. una lámpara) está en reposo en el origen, emitiendo ondas con una frecuencia emitida $f_{em}$ (Y peridoo $T_{em} = 1/f_{em} = \\Delta t$).\n",
    " *   **Marco S':** El receptor (ej. un detector) está en reposo en su origen y se aleja de S con velocidad constante $V$ (en configuración estándar). Mide una frecuencia recibida $f_{rec}$ (con período $T'_{rec} = 1/f_{rec}$).\n",
    "\n",
    " **Analizando la perspectiva del Receptor (S'):**\n",
    "\n",
    " Analizamos el proceso desde el punto de vista del receptor S', ya que nos interesa el período $T'_{rec}$ que el detector mide entre la llegada de dos nodos (o crestas) de onda consecutivos.\n",
    "\n",
    "-    **Tiempo entre Emisiones (visto por S'):** Debido a la dilatación temporal del proceso de emisión que ocurre en S, el tiempo que S' mide entre la emisión de dos nodos consecutivos por parte de S es mayor que el período propio $T_{em}$. Este intervalo en S' es:\n",
    "     $$ \\Delta t' = \\gamma(V) T_{em} = \\frac{\\gamma(V)}{f_{em}} $$\n",
    "\n",
    "-    **Distancia Adicional Recorrida por S':** Durante este intervalo de tiempo $\\Delta t'$ (entre que S emitió el primer nodo y emitió el segundo), el receptor S' se ha alejado una distancia adicional $\\Delta D$ del punto donde se emitió el segundo nodo (en comparación con donde estaba cuando se emitió el primero). Esta distancia es:\n",
    "     $$ \\Delta D = V \\Delta t' $$\n",
    "\n",
    "-    **Tiempo Adicional de Viaje para la Onda (medido por S'):** El segundo nodo emitido tiene que viajar esta distancia extra $\\Delta D$ para alcanzar al receptor S'. Dado que la relatividad postula que S' mide la velocidad de la luz que le llega como $c$, el tiempo adicional necesario para cubrir $\\Delta D$ es:\n",
    "     $$ \\Delta T'_{extra} = \\frac{\\Delta D}{c} = \\frac{V \\Delta t'}{c} $$\n",
    "\n",
    "-    **Período Total Recibido (medido por S'):** El tiempo total que mide S' entre la llegada del primer nodo y la llegada del segundo nodo es el tiempo base entre emisiones ($\\Delta t'$) más el tiempo adicional ($\\Delta T'_{extra}$) debido al alejamiento:\n",
    "     $$ T'_{rec} = \\Delta t' + \\Delta T'_{extra} = \\Delta t' + \\frac{V \\Delta t'}{c} = \\Delta t' \\left(1 + \\frac{V}{c}\\right) $$\n",
    "\n",
    "\n",
    "\n",
    " Sustituyendo $T'_{rec} = 1/f_{rec}$ y $\\Delta t' = \\gamma(V)/f_{em}$ en la ecuación del período recibido, y usando la identidad $\\gamma(V) = 1/\\sqrt{(1-V/c)(1+V/c)}$, obtenemos:\n",
    "\n",
    " *   Para una fuente que se **aleja** del receptor (V > 0):\n",
    "     $$ f_{rec} = f_{em} \\sqrt{\\frac{1 - V/c}{1 + V/c}} = f_{em} \\sqrt{\\frac{c-V}{c+V}} $$\n",
    "     La frecuencia recibida es *menor* que la emitida (**Corrimiento al Rojo** o Redshift).\n",
    "\n",
    " *   Para una fuente que se **acerca** al receptor (reemplazando V por -V):\n",
    "     $$ f_{rec} = f_{em} \\sqrt{\\frac{1 + V/c}{1 - V/c}} = f_{em} \\sqrt{\\frac{c+V}{c-V}} $$\n",
    "     La frecuencia recibida es *mayor* que la emitida (**Corrimiento al Azul** o Blueshift).\n",
    "\n",
    " Este efecto es fundamental en astronomía para determinar la velocidad radial de estrellas y galaxias, y es una prueba clave de la expansión del universo.\n"
   ]
  },
  {
   "cell_type": "markdown",
   "metadata": {},
   "source": [
    "---\n",
    "\n",
    "### **Ejercicio 1.6**\n",
    "\n",
    "Se observa un chorro (jet) de material cerca del centro galáctico que contiene sodio. En el laboratorio, el sodio en reposo absorbe luz a $\\lambda = 5850 \\times 10^{-10}$ m. La línea de absorción observada en el espectro del chorro es $\\lambda' = 4483 \\times 10^{-10}$ m.\n",
    "(a) ¿El chorro se acerca o se aleja de la Tierra?\n",
    "(b) ¿Cuál es la velocidad del chorro ($V$) relativa a la Tierra?\n",
    "\n",
    " ---\n",
    "\n",
    " (a) **¿Acercamiento o Alejamiento?**\n",
    "\n",
    "-  Longitud de onda emitida (propia/laboratorio): $\\lambda_{em} = \\lambda = 5850 \\times 10^{-10}$ m.\n",
    "-  Longitud de onda recibida (observada): $\\lambda_{rec} = \\lambda' = 4483 \\times 10^{-10}$ m.\n",
    "-  Dado que $\\lambda_{rec} < \\lambda_{em}$, la longitud de onda observada es más corta que la emitida. Esto corresponde a un **corrimiento al azul** (Blueshift).\n",
    "\n",
    " (b) **Cálculo de la Velocidad (V):**\n",
    "-  El efecto Doppler nos dice que:\n",
    "\n",
    "\n",
    "$$ \\lambda_{rec} = \\lambda_{em} \\sqrt{\\frac{c - V}{c + V}} $$\n",
    "\n",
    "-  Despejando V. Sea $R = \\lambda_{rec} / \\lambda_{em}$:\n",
    "\n",
    "$$R^2 = \\frac{c - V}{c + V}$$\n",
    "$$ R^2(c + V) = c - V $$\n",
    "$$ R^2 c + R^2 V = c - V $$\n",
    "$$ V (R^2 + 1) = c (1 - R^2) $$\n",
    "$$ V = c \\frac{1 - R^2}{1 + R^2} $$\n",
    "\n",
    "- Reemplazando:\n",
    "\n",
    "    $$ \\boxed{V \\approx 0.26 c} $$\n"
   ]
  },
  {
   "cell_type": "markdown",
   "metadata": {},
   "source": [
    "---\n",
    "\n",
    "### Visualización Interactiva del Efecto Doppler Relativista\n",
    "\n",
    " El siguiente gráfico ilustra cómo la **longitud de onda** ($\\lambda$) de la luz emitida por una fuente cambia cuando es recibida por un observador, debido al movimiento relativo entre ellos.\n",
    "\n",
    " 1.  **Establece la Longitud de Onda Emitida ($\\lambda_{em}$):** El valor por defecto está en el verde (550 nm). El espectro visible de referencia se muestra como fondo.\n",
    " 2.  **Ajusta la Velocidad Relativa (V/c):**\n",
    "     *   **V/c > 0:** La fuente se **aleja** del observador. La longitud de onda recibida ($\\lambda_{rec}$) aumenta (**Corrimiento al Rojo** o Redshift).\n",
    "     *   **V/c < 0:** La fuente se **acerca** al observador. La longitud de onda recibida ($\\lambda_{rec}$) disminuye (**Corrimiento al Azul** o Blueshift).\n",
    "     *   **V/c = 0:** No hay movimiento relativo, $\\lambda_{rec} = \\lambda_{em}$.\n",
    "\n",
    " Observa cómo la línea vertical que marca $\\lambda_{rec}$ se desplaza sobre el espectro de referencia y cómo cambian los valores calculados (incluido el parámetro de corrimiento $z$)."
   ]
  },
  {
   "cell_type": "code",
   "execution_count": 7,
   "metadata": {},
   "outputs": [
    {
     "data": {
      "application/vnd.jupyter.widget-view+json": {
       "model_id": "906de0b7d7b0401085c7d056706cefbb",
       "version_major": 2,
       "version_minor": 0
      },
      "text/plain": [
       "VBox(children=(VBox(children=(FloatText(value=550.0, description='λ emitida (nm):', layout=Layout(width='250px…"
      ]
     },
     "metadata": {},
     "output_type": "display_data"
    }
   ],
   "source": [
    "# Funciones auxiliares\n",
    "def calculate_doppler_wavelength(lambda_em, v_frac):\n",
    "    if abs(v_frac) >= 1.0:\n",
    "        return float('inf') if v_frac > 0 else 0.0\n",
    "    factor = np.sqrt((1.0 + v_frac) / (1.0 - v_frac))\n",
    "    return lambda_em * factor\n",
    "\n",
    "def wavelength_to_rgb(wavelength_nm):\n",
    "    gamma = 0.8\n",
    "    intensity_max = 255\n",
    "    factor = 0\n",
    "    if 380 <= wavelength_nm <= 439:\n",
    "        R = -(wavelength_nm - 440) / (440 - 380)\n",
    "        G = 0.0\n",
    "        B = 1.0\n",
    "    elif 440 <= wavelength_nm <= 489:\n",
    "        R = 0.0\n",
    "        G = (wavelength_nm - 440) / (490 - 440)\n",
    "        B = 1.0\n",
    "    elif 490 <= wavelength_nm <= 509:\n",
    "        R = 0.0\n",
    "        G = 1.0\n",
    "        B = -(wavelength_nm - 510) / (510 - 490)\n",
    "    elif 510 <= wavelength_nm <= 579:\n",
    "        R = (wavelength_nm - 510) / (580 - 510)\n",
    "        G = 1.0\n",
    "        B = 0.0\n",
    "    elif 580 <= wavelength_nm <= 644:\n",
    "        R = 1.0\n",
    "        G = -(wavelength_nm - 645) / (645 - 580)\n",
    "        B = 0.0\n",
    "    elif 645 <= wavelength_nm <= 780:\n",
    "        R = 1.0\n",
    "        G = 0.0\n",
    "        B = 0.0\n",
    "    else:\n",
    "        R, G, B = 0.5, 0.5, 0.5\n",
    "\n",
    "    if 380 <= wavelength_nm <= 419:\n",
    "        factor = 0.3 + 0.7 * (wavelength_nm - 380) / (420 - 380)\n",
    "    elif 420 <= wavelength_nm <= 700:\n",
    "        factor = 1.0\n",
    "    elif 701 <= wavelength_nm <= 780:\n",
    "        factor = 0.3 + 0.7 * (780 - wavelength_nm) / (780 - 700)\n",
    "    else:\n",
    "        factor = 0.0\n",
    "\n",
    "    R = int(intensity_max * (R * factor) ** gamma)\n",
    "    G = int(intensity_max * (G * factor) ** gamma)\n",
    "    B = int(intensity_max * (B * factor) ** gamma)\n",
    "\n",
    "    return f'rgb({max(0, R)}, {max(0, G)}, {max(0, B)})'\n",
    "\n",
    "if IN_COLAB:\n",
    "    output_plot = widgets.Output()\n",
    "\n",
    "# Widgets\n",
    "lambda_em_input = widgets.FloatText(\n",
    "    value=550.0, description='λ emitida (nm):',\n",
    "    min=380, max=750, step=10,\n",
    "    layout=widgets.Layout(width='250px'),\n",
    "    style={'description_width': 'initial'}\n",
    ")\n",
    "\n",
    "v_slider_doppler = widgets.FloatSlider(\n",
    "    min=-0.995, max=0.995, step=0.005, value=0.0,\n",
    "    description='Velocidad V/c:', readout_format='.3f',\n",
    "    layout=widgets.Layout(width='500px'),\n",
    "    style={'description_width': 'auto'}\n",
    ")\n",
    "\n",
    "lambda_rec_text = widgets.Label(value=\"λ recibida = 550.0 nm\")\n",
    "freq_rec_text = widgets.Label(value=\"f recibida = f emitida\")\n",
    "redshift_z_text = widgets.Label(value=\"z = 0.000\")\n",
    "\n",
    "# Función que crea figura\n",
    "def create_doppler_figure(lambda_em, lambda_rec):\n",
    "    fig = go.Figure()\n",
    "    wavelengths = np.linspace(380, 750, 200)\n",
    "    for wl in wavelengths:\n",
    "        fig.add_trace(go.Scatter(\n",
    "            x=[wl, wl], y=[0, 1], mode='lines',\n",
    "            line=dict(color=wavelength_to_rgb(wl), width=3),\n",
    "            hoverinfo='none', showlegend=False\n",
    "        ))\n",
    "    fig.add_trace(go.Scatter(\n",
    "        x=[lambda_em, lambda_em], y=[0, 1.1], mode='lines',\n",
    "        line=dict(color='black', width=2, dash='dash'),\n",
    "        name='λ_em (Emitida)'\n",
    "    ))\n",
    "    fig.add_trace(go.Scatter(\n",
    "        x=[lambda_rec, lambda_rec], y=[0, 1.1], mode='lines',\n",
    "        line=dict(color='white', width=3),\n",
    "        name='λ_rec (Recibida)'\n",
    "    ))\n",
    "    fig.update_layout(\n",
    "        title=\"Efecto Doppler Relativista de la Luz\",\n",
    "        xaxis_title=\"Longitud de Onda, λ (nm)\",\n",
    "        yaxis=dict(range=[0, 1.1], showticklabels=False, showgrid=False, zeroline=False),\n",
    "        xaxis=dict(range=[350, 800]),\n",
    "        width=800, height=250,\n",
    "        margin=dict(t=50, b=50, l=30, r=30),\n",
    "        showlegend=True,\n",
    "        legend=dict(yanchor=\"bottom\", y=1.05, xanchor=\"center\", x=0.5, orientation=\"h\")\n",
    "    )\n",
    "    return fig\n",
    "\n",
    "# Función de actualización\n",
    "def update_doppler(lambda_em, v_frac):\n",
    "    lambda_rec = calculate_doppler_wavelength(lambda_em, v_frac)\n",
    "\n",
    "    z = (lambda_rec - lambda_em) / lambda_em if lambda_em > 0 else 0\n",
    "    if lambda_rec > 0 and lambda_em > 0:\n",
    "        freq_ratio = lambda_em / lambda_rec\n",
    "        freq_str = f\"f_rec / f_em = {freq_ratio:.3f}\"\n",
    "    elif np.isinf(lambda_rec):\n",
    "        freq_str = \"f_rec / f_em = 0.000\"\n",
    "    elif lambda_rec == 0:\n",
    "        freq_str = \"f_rec / f_em = ∞\"\n",
    "    else:\n",
    "        freq_str = \"f_rec / f_em = ?\"\n",
    "\n",
    "    lambda_rec_text.value = f\"λ recibida = {lambda_rec:.1f} nm\"\n",
    "    redshift_z_text.value = f\"z = {z:.3f}\"\n",
    "    freq_rec_text.value = freq_str\n",
    "\n",
    "    if IN_COLAB:\n",
    "        fig = create_doppler_figure(lambda_em, lambda_rec)\n",
    "        with output_plot:\n",
    "            clear_output(wait=True)\n",
    "            fig.show()\n",
    "    else:\n",
    "        with fig_doppler.batch_update():\n",
    "            fig_doppler.data[-2].x = [lambda_em, lambda_em]\n",
    "            fig_doppler.data[-1].x = [lambda_rec, lambda_rec]\n",
    "\n",
    "# Visualización según entorno\n",
    "controls = widgets.VBox([\n",
    "    lambda_em_input,\n",
    "    v_slider_doppler,\n",
    "    widgets.HBox([lambda_rec_text, freq_rec_text, redshift_z_text])\n",
    "])\n",
    "\n",
    "if IN_COLAB:\n",
    "    display(widgets.VBox([controls, output_plot]))\n",
    "    widgets.interactive_output(update_doppler, {\n",
    "        'lambda_em': lambda_em_input,\n",
    "        'v_frac': v_slider_doppler\n",
    "    })\n",
    "    update_doppler(lambda_em_input.value, v_slider_doppler.value)\n",
    "else:\n",
    "    fig_doppler = go.FigureWidget(create_doppler_figure(lambda_em_input.value, lambda_em_input.value))\n",
    "    \n",
    "    def update_doppler_local(lambda_em, v_frac):\n",
    "        lambda_rec = calculate_doppler_wavelength(lambda_em, v_frac)\n",
    "        z = (lambda_rec - lambda_em) / lambda_em if lambda_em > 0 else 0\n",
    "        if lambda_rec > 0 and lambda_em > 0:\n",
    "            freq_ratio = lambda_em / lambda_rec\n",
    "            freq_str = f\"f_rec / f_em = {freq_ratio:.3f}\"\n",
    "        elif np.isinf(lambda_rec):\n",
    "            freq_str = \"f_rec / f_em = 0.000\"\n",
    "        elif lambda_rec == 0:\n",
    "            freq_str = \"f_rec / f_em = ∞\"\n",
    "        else:\n",
    "            freq_str = \"f_rec / f_em = ?\"\n",
    "\n",
    "        lambda_rec_text.value = f\"λ recibida = {lambda_rec:.1f} nm\"\n",
    "        redshift_z_text.value = f\"z = {z:.3f}\"\n",
    "        freq_rec_text.value = freq_str\n",
    "\n",
    "        with fig_doppler.batch_update():\n",
    "            fig_doppler.data[-2].x = [lambda_em, lambda_em]\n",
    "            fig_doppler.data[-1].x = [lambda_rec, lambda_rec]\n",
    "\n",
    "    output_bind = widgets.interactive_output(update_doppler_local, {\n",
    "        'lambda_em': lambda_em_input,\n",
    "        'v_frac': v_slider_doppler\n",
    "    })\n",
    "\n",
    "    display(widgets.VBox([controls, fig_doppler, output_bind]))"
   ]
  },
  {
   "cell_type": "markdown",
   "metadata": {},
   "source": [
    "---\n",
    "\n",
    "## 1.3.5 Transformación de Velocidades Relativistas\n",
    "\n",
    " La transformación de coordenadas de Lorentz implica necesariamente una regla para transformar velocidades entre marcos inerciales que difiere de la simple suma o resta de la física clásica (transformación Galileana), la cual es inconsistente con la constancia de la velocidad de la luz.\n",
    "\n",
    " **Derivación:**\n",
    "\n",
    " La transformación relativista de velocidad se deriva aplicando las transformaciones de Lorentz a los *intervalos* de espacio ($\\Delta x', \\Delta x$) y tiempo ($\\Delta t', \\Delta t$) entre dos eventos muy cercanos que marcan el desplazamiento de un objeto. Tomando el límite cuando $\\Delta t \\to 0$, las relaciones entre los intervalos $\\Delta x'/\\Delta t'$ y $\\Delta x/\\Delta t$ se convierten en relaciones entre las componentes de velocidad instantáneas $v'_x$ y $v_x$.\n",
    "\n",
    " **Reglas de Transformación de Velocidad:**\n",
    "\n",
    " Si un objeto tiene velocidad $\\mathbf{v} = (v_x, v_y, v_z)$ en el marco S, y el marco S' se mueve con velocidad $V$ en la dirección +x respecto a S (configuración estándar), entonces la velocidad del objeto medida en S', $\\mathbf{v'} = (v'_x, v'_y, v'_z)$, viene dada por:\n",
    "\n",
    " $$ v'_x = \\frac{v_x - V}{1 - v_x V / c^2} \\quad \\quad (1.43) $$\n",
    " $$ v'_y = \\frac{v_y}{\\gamma(V)(1 - v_x V / c^2)} \\quad \\quad (1.44) $$\n",
    " $$ v'_z = \\frac{v_z}{\\gamma(V)(1 - v_x V / c^2)} \\quad \\quad (1.45) $$\n",
    "\n",
    " donde $\\gamma(V) = 1/\\sqrt{1 - V^2/c^2}$.\n",
    "\n",
    " **Apreciaciones:**\n",
    "\n",
    " *   **Límite de Baja Velocidad:** Si $v_x \\ll c$ y $V \\ll c$, el término $v_x V / c^2$ en el denominador es despreciable y $\\gamma(V) \\approx 1$. En este caso, $v'_x \\approx v_x - V$ y $v'_y \\approx v_y$, $v'_z \\approx v_z$, recuperando la transformación Galileana.\n",
    " *   **Velocidad Límite $c$:** Estas fórmulas aseguran que si un objeto se mueve a velocidad $c$ en un marco, también se medirá moviéndose a $c$ en cualquier otro marco inercial.\n",
    "\n",
    "\n",
    " Si en el marco S un objeto 1 viaja a $v_x = -c$ y un observador 2 viaja a $V$ (origen del marco S'), ¿cuál es la velocidad del objeto 1 vista por el observador 2 (en S')?\n",
    " Aplicando la fórmula para $v'_x$:\n",
    " $$ v'_x = \\frac{-c - V}{1 - (-c)V/c^2} = \\frac{-(c+V)}{1 + V/c} = \\frac{-(c+V)}{(c+V)/c} = -c $$\n",
    " El observador 2 también mide la velocidad del objeto 1 como $c$ (en la dirección -x'), confirmando la constancia de la velocidad de la luz."
   ]
  },
  {
   "cell_type": "markdown",
   "metadata": {},
   "source": [
    " **Ejercicio 1.7:**\n",
    " Según un observador en una estación espacial (marco S), dos naves espaciales se alejan, viajando en la misma dirección (+x) a diferentes velocidades. La nave más cercana (Nave 1) se mueve a velocidad $v_1 = c/2$. La más lejana (Nave 2) se mueve a velocidad $v_2 = 3c/4$. ¿Cuál es la velocidad de una de las naves espaciales observada desde la otra?"
   ]
  },
  {
   "cell_type": "code",
   "execution_count": 8,
   "metadata": {},
   "outputs": [
    {
     "name": "stdout",
     "output_type": "stream",
     "text": [
      "Solución Ejercicio 1.7:\n",
      "Calculando v2' (velocidad de Nave 2 vista desde Nave 1):\n",
      "  Velocidad de Nave 2 vista desde Nave 1 (v2'): (0.4000c, 0.0000c, 0.0000c)\n",
      "\n",
      "Calculando v1' (velocidad de Nave 1 vista desde Nave 2):\n",
      "  Velocidad de Nave 1 vista desde Nave 2 (v1'): (-0.4000c, 0.0000c, 0.0000c)\n",
      "\n",
      "Comprobación: ¿v2'_x = -v1'_x? True\n"
     ]
    }
   ],
   "source": [
    "def calculate_gamma(V, c=1.0):\n",
    "    \"\"\"Calcula gamma numérico.\"\"\"\n",
    "    if abs(V) >= c: return float('inf')\n",
    "    beta_sq = (V/c)**2\n",
    "    if 1.0 - beta_sq <= 1e-15: return float('inf')\n",
    "    return 1.0 / np.sqrt(1.0 - beta_sq)\n",
    "\n",
    "# Implementación de las Transformaciones de Velocidad\n",
    "def transform_velocity_relativistic(vx, vy, vz, V, c=1.0):\n",
    "    \"\"\"Calcula la velocidad transformada (v'x, v'y, v'z) en S'.\"\"\"\n",
    "    # Evitar división por cero o resultados inválidos si V >= c\n",
    "    if abs(V) >= c:\n",
    "        print(\"Error: La velocidad relativa del marco V debe ser menor que c.\")\n",
    "        return (float('nan'), float('nan'), float('nan'))\n",
    "\n",
    "    gamma_V = calculate_gamma(V, c)\n",
    "    denominator = 1 - (vx * V / c**2)\n",
    "\n",
    "    # Evitar división por cero si el denominador es cero\n",
    "    if abs(denominator) < 1e-15:\n",
    "        print(f\"Advertencia: Denominador cercano a cero ({denominator}). Puede indicar velocidades límite c.\")\n",
    "        return (float('nan'), float('nan'), float('nan'))\n",
    "\n",
    "    v_prime_x = (vx - V) / denominator\n",
    "    v_prime_y = vy / (gamma_V * denominator)\n",
    "    v_prime_z = vz / (gamma_V * denominator)\n",
    "\n",
    "    return (v_prime_x, v_prime_y, v_prime_z)\n",
    "\n",
    "print(\"Solución Ejercicio 1.7:\")\n",
    "c = 1.0  # Velocidad de la luz en unidades canónicas\n",
    "v1 = 0.5 * c   # Velocidad Nave 1 en S\n",
    "v2 = 0.75 * c  # Velocidad Nave 2 en S\n",
    "\n",
    "# Velocidad de Nave 2 observada desde Nave 1\n",
    "print(\"Calculando v2' (velocidad de Nave 2 vista desde Nave 1):\")\n",
    "V_frame1 = v1\n",
    "vx_obj2 = v2\n",
    "v2_prime_x, v2_prime_y, v2_prime_z = transform_velocity_relativistic(vx_obj2, 0, 0, V_frame1, c)\n",
    "print(f\"  Velocidad de Nave 2 vista desde Nave 1 (v2'): ({v2_prime_x:.4f}c, {v2_prime_y:.4f}c, {v2_prime_z:.4f}c)\")\n",
    "\n",
    "# Velocidad de Nave 1 observada desde Nave 2\n",
    "print(\"\\nCalculando v1' (velocidad de Nave 1 vista desde Nave 2):\")\n",
    "V_frame2 = v2\n",
    "vx_obj1 = v1\n",
    "v1_prime_x, v1_prime_y, v1_prime_z = transform_velocity_relativistic(vx_obj1, 0, 0, V_frame2, c)\n",
    "print(f\"  Velocidad de Nave 1 vista desde Nave 2 (v1'): ({v1_prime_x:.4f}c, {v1_prime_y:.4f}c, {v1_prime_z:.4f}c)\")\n",
    "\n",
    "# Comprobación: Las magnitudes deben ser iguales y los signos opuestos para v_x'\n",
    "print(f\"\\nComprobación: ¿v2'_x = -v1'_x? {np.isclose(v2_prime_x, -v1_prime_x)}\")"
   ]
  },
  {
   "cell_type": "markdown",
   "metadata": {},
   "source": [
    "### Visualización Interactiva de la Transformación de Velocidades\n",
    "\n",
    "Esta sección permite explorar cómo las componentes de la velocidad de un objeto cambian al observarlas desde diferentes marcos inerciales en movimiento relativo, según las expresiones de la relatividad especial.\n"
   ]
  },
  {
   "cell_type": "code",
   "execution_count": 9,
   "metadata": {},
   "outputs": [
    {
     "data": {
      "application/vnd.jupyter.widget-view+json": {
       "model_id": "ebce2217d80c4f86bb2f9c70e5d40f5a",
       "version_major": 2,
       "version_minor": 0
      },
      "text/plain": [
       "VBox(children=(FloatSlider(value=0.5, description='V/c', layout=Layout(width='95%'), max=0.995, min=-0.995, st…"
      ]
     },
     "metadata": {},
     "output_type": "display_data"
    }
   ],
   "source": [
    "# Física\n",
    "def transform_velocity_relativistic(u_x, u_y, u_z, V, c):\n",
    "    \"\"\"Transforma componentes de velocidad entre marcos inerciales.\n",
    "    \n",
    "    Args:\n",
    "        u_x, u_y, u_z: Componentes de velocidad en marco original\n",
    "        V: Velocidad relativa entre marcos\n",
    "        c: Velocidad de la luz\n",
    "        \n",
    "    Returns:\n",
    "        Tupla de componentes transformadas (u_xp, u_yp, u_zp)\n",
    "    \"\"\"\n",
    "    gamma = 1.0 / np.sqrt(1 - (V**2 / c**2))\n",
    "    denom = 1 - (u_x * V) / (c**2)\n",
    "    u_xp = (u_x - V) / denom\n",
    "    u_yp = u_y / (gamma * denom)\n",
    "    u_zp = u_z / (gamma * denom)\n",
    "    return u_xp, u_yp, u_zp\n",
    "\n",
    "\n",
    "def add_arrow(x0, y0, x1, y1, scale=0.07):\n",
    "    \"\"\"Crea coordenadas para dibujar una flecha.\n",
    "    \n",
    "    Args:\n",
    "        x0, y0: Coordenadas del inicio de la flecha\n",
    "        x1, y1: Coordenadas del final de la flecha\n",
    "        scale: Factor de escala para la punta de la flecha\n",
    "        \n",
    "    Returns:\n",
    "        Listas de coordenadas x, y para dibujar la flecha\n",
    "    \"\"\"\n",
    "    dx, dy = x1 - x0, y1 - y0\n",
    "    norm = np.hypot(dx, dy)\n",
    "    if norm == 0:\n",
    "        return [], []\n",
    "\n",
    "    dx_hat, dy_hat = dx / norm, dy / norm\n",
    "    px, py = -dy_hat, dx_hat\n",
    "    tipx, tipy = x1, y1\n",
    "    leftx = x1 - scale * dx_hat + scale * px\n",
    "    lefty = y1 - scale * dy_hat + scale * py\n",
    "    rightx = x1 - scale * dx_hat - scale * px\n",
    "    righty = y1 - scale * dy_hat - scale * py\n",
    "\n",
    "    return [x0, x1, None, leftx, tipx, rightx, None], [y0, y1, None, lefty, tipy, righty, None]\n",
    "\n",
    "# Widgets\n",
    "v_rel_slider = widgets.FloatSlider(\n",
    "    min=-0.995, max=0.995, step=0.01, value=0.5,\n",
    "    description=\"V/c\", layout=widgets.Layout(width='95%')\n",
    ")\n",
    "vx_slider = widgets.FloatSlider(\n",
    "    min=-0.995, max=0.995, step=0.01, value=0.3,\n",
    "    description=\"vx/c\", layout=widgets.Layout(width='95%')\n",
    ")\n",
    "vy_slider = widgets.FloatSlider(\n",
    "    min=-0.995, max=0.995, step=0.01, value=0.4,\n",
    "    description=\"vy/c\", layout=widgets.Layout(width='95%')\n",
    ")\n",
    "vxp_label, vyp_label, vpmag_label = widgets.Label(), widgets.Label(), widgets.Label()\n",
    "\n",
    "# Figura inicial compartida\n",
    "theta = np.linspace(0, 2 * np.pi, 200)\n",
    "circle_trace = go.Scatter(\n",
    "    x=np.cos(theta), y=np.sin(theta), mode='lines',\n",
    "    line=dict(color='gray', dash='dash'), showlegend=False\n",
    ")\n",
    "\n",
    "if IN_COLAB:\n",
    "    plot_out = widgets.Output()\n",
    "\n",
    "    def update_plot(V_frac, vx_s, vy_s):\n",
    "        c = 1.0\n",
    "        vxp, vyp, _ = transform_velocity_relativistic(vx_s, vy_s, 0.0, V_frac, c)\n",
    "        vpmag = np.hypot(vxp, vyp)\n",
    "\n",
    "        vxp_label.value = f\"v'x/c = {vxp:.4f}\"\n",
    "        vyp_label.value = f\"v'y/c = {vyp:.4f}\"\n",
    "        vpmag_label.value = f\"|v'|/c = {vpmag:.4f}\"\n",
    "\n",
    "        x_s, y_s = add_arrow(0, 0, vx_s, vy_s)\n",
    "        x_sp, y_sp = add_arrow(0, 0, vxp, vyp)\n",
    "\n",
    "        fig = go.Figure(data=[\n",
    "            circle_trace,\n",
    "            go.Scatter(\n",
    "                x=x_s, y=y_s, mode='lines',\n",
    "                line=dict(color='blue', width=3), name=\"v (en S)\"\n",
    "            ),\n",
    "            go.Scatter(\n",
    "                x=x_sp, y=y_sp, mode='lines',\n",
    "                line=dict(color='red', width=3), name=\"v' (en S')\"\n",
    "            )\n",
    "        ])\n",
    "        fig.update_layout(\n",
    "            title=\"Transformación relativista de velocidades (2D)\",\n",
    "            xaxis=dict(range=[-1.1, 1.1], scaleanchor='y'),\n",
    "            yaxis=dict(range=[-1.1, 1.1]),\n",
    "            xaxis_title=\"vx/c\", yaxis_title=\"vy/c\",\n",
    "            width=600, height=600,\n",
    "            showlegend=True\n",
    "        )\n",
    "\n",
    "        with plot_out:\n",
    "            clear_output(wait=True)\n",
    "            fig.show()\n",
    "\n",
    "    display(\n",
    "        widgets.VBox([\n",
    "            v_rel_slider, vx_slider, vy_slider,\n",
    "            widgets.HBox([vxp_label, vyp_label, vpmag_label]),\n",
    "            plot_out\n",
    "        ])\n",
    "    )\n",
    "    widgets.interactive_output(update_plot, {\n",
    "        'V_frac': v_rel_slider,\n",
    "        'vx_s': vx_slider,\n",
    "        'vy_s': vy_slider\n",
    "    })\n",
    "    update_plot(v_rel_slider.value, vx_slider.value, vy_slider.value)\n",
    "\n",
    "else:\n",
    "    fig = go.FigureWidget(data=[\n",
    "        circle_trace,\n",
    "        go.Scatter(\n",
    "            x=[], y=[], mode='lines',\n",
    "            line=dict(color='blue', width=3), name=\"v (en S)\"\n",
    "        ),\n",
    "        go.Scatter(\n",
    "            x=[], y=[], mode='lines',\n",
    "            line=dict(color='red', width=3), name=\"v' (en S')\"\n",
    "        )\n",
    "    ])\n",
    "    fig.update_layout(\n",
    "        title=\"Transformación relativista de velocidades (2D)\",\n",
    "        xaxis=dict(range=[-1.1, 1.1], scaleanchor='y'),\n",
    "        yaxis=dict(range=[-1.1, 1.1]),\n",
    "        xaxis_title=\"vx/c\", yaxis_title=\"vy/c\",\n",
    "        width=600, height=600,\n",
    "        showlegend=True\n",
    "    )\n",
    "\n",
    "    def update_plot(V_frac, vx_s, vy_s):\n",
    "        c = 1.0\n",
    "        vxp, vyp, _ = transform_velocity_relativistic(vx_s, vy_s, 0.0, V_frac, c)\n",
    "        vpmag = np.hypot(vxp, vyp)\n",
    "\n",
    "        vxp_label.value = f\"v'x/c = {vxp:.4f}\"\n",
    "        vyp_label.value = f\"v'y/c = {vyp:.4f}\"\n",
    "        vpmag_label.value = f\"|v'|/c = {vpmag:.4f}\"\n",
    "\n",
    "        x_s, y_s = add_arrow(0, 0, vx_s, vy_s)\n",
    "        x_sp, y_sp = add_arrow(0, 0, vxp, vyp)\n",
    "\n",
    "        with fig.batch_update():\n",
    "            fig.data[1].x = x_s\n",
    "            fig.data[1].y = y_s\n",
    "            fig.data[2].x = x_sp\n",
    "            fig.data[2].y = y_sp\n",
    "\n",
    "    display(\n",
    "        widgets.VBox([\n",
    "            v_rel_slider, vx_slider, vy_slider,\n",
    "            widgets.HBox([vxp_label, vyp_label, vpmag_label]),\n",
    "            fig\n",
    "        ])\n",
    "    )\n",
    "    widgets.interactive_output(update_plot, {\n",
    "        'V_frac': v_rel_slider,\n",
    "        'vx_s': vx_slider,\n",
    "        'vy_s': vy_slider\n",
    "    })\n",
    "    update_plot(v_rel_slider.value, vx_slider.value, vy_slider.value)\n"
   ]
  }
 ],
 "metadata": {
  "kernelspec": {
   "display_name": ".venv",
   "language": "python",
   "name": "python3"
  },
  "language_info": {
   "codemirror_mode": {
    "name": "ipython",
    "version": 3
   },
   "file_extension": ".py",
   "mimetype": "text/x-python",
   "name": "python",
   "nbconvert_exporter": "python",
   "pygments_lexer": "ipython3",
   "version": "3.12.3"
  }
 },
 "nbformat": 4,
 "nbformat_minor": 2
}
